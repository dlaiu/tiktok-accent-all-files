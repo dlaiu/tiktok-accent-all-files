{
 "cells": [
  {
   "cell_type": "code",
   "execution_count": 11,
   "metadata": {},
   "outputs": [],
   "source": [
    "from openai import OpenAI\n",
    "from dotenv import load_dotenv\n",
    "import os"
   ]
  },
  {
   "cell_type": "code",
   "execution_count": 12,
   "metadata": {},
   "outputs": [
    {
     "data": {
      "text/plain": [
       "True"
      ]
     },
     "execution_count": 12,
     "metadata": {},
     "output_type": "execute_result"
    }
   ],
   "source": [
    "load_dotenv()"
   ]
  },
  {
   "cell_type": "code",
   "execution_count": 15,
   "metadata": {},
   "outputs": [],
   "source": [
    "openai_key = os.getenv('openai_key')"
   ]
  },
  {
   "cell_type": "code",
   "execution_count": 17,
   "metadata": {},
   "outputs": [],
   "source": [
    "client = OpenAI(\n",
    "    api_key=openai_key\n",
    ")"
   ]
  },
  {
   "cell_type": "code",
   "execution_count": 18,
   "metadata": {},
   "outputs": [
    {
     "name": "stdout",
     "output_type": "stream",
     "text": [
      "hey stop! this is a diffuser, you just put some water and an essential oil of your choice. i put lavender in mine and it makes my car smell like lavender. i also got these, they light up your drink. i got this really cool thing for extra storage, it comes in a pack of two. you just stick it in the side of your seat. it has this cord you plug in so that you can utilize these usb outlets. i love that it has an extra cup holder, i just put my hand sanitizer in there for now, my keys, and i got this trash can for my little wrappers. i also got this trash can for the back seat. i just hook it onto this and there you go. this is a usb starlight for your car. this hook for your bag so it's not sitting in someone's lap. just like that. and a tissue holder, literally a change in my life. this cute little guy so i don't have to take my phone case off so you can fit your pop socket in here. i'm really not sure why i got this but it smells like cotton candy.\n"
     ]
    }
   ],
   "source": [
    "audio_file= open(\"tiktoks/6813091851957046534_layallure_1586296564.mp4\", \"rb\")\n",
    "transcription = client.audio.transcriptions.create(\n",
    "  model=\"whisper-1\", \n",
    "  file=audio_file\n",
    ")\n",
    "print(transcription.text)"
   ]
  },
  {
   "cell_type": "code",
   "execution_count": 19,
   "metadata": {},
   "outputs": [
    {
     "name": "stdout",
     "output_type": "stream",
     "text": [
      "\n",
      "\u001b[1m[\u001b[0m\u001b[34;49mnotice\u001b[0m\u001b[1;39;49m]\u001b[0m\u001b[39;49m A new release of pip is available: \u001b[0m\u001b[31;49m23.2.1\u001b[0m\u001b[39;49m -> \u001b[0m\u001b[32;49m24.0\u001b[0m\n",
      "\u001b[1m[\u001b[0m\u001b[34;49mnotice\u001b[0m\u001b[1;39;49m]\u001b[0m\u001b[39;49m To update, run: \u001b[0m\u001b[32;49mpip install --upgrade pip\u001b[0m\n"
     ]
    }
   ],
   "source": [
    "!pip install --quiet openai-whisper"
   ]
  },
  {
   "cell_type": "code",
   "execution_count": 21,
   "metadata": {},
   "outputs": [],
   "source": [
    "import whisper"
   ]
  },
  {
   "cell_type": "code",
   "execution_count": 22,
   "metadata": {},
   "outputs": [
    {
     "name": "stderr",
     "output_type": "stream",
     "text": [
      "100%|███████████████████████████████████████| 461M/461M [00:37<00:00, 13.1MiB/s]\n"
     ]
    }
   ],
   "source": [
    "model = whisper.load_model(\"small.en\")"
   ]
  },
  {
   "cell_type": "code",
   "execution_count": 23,
   "metadata": {},
   "outputs": [
    {
     "name": "stderr",
     "output_type": "stream",
     "text": [
      "/Users/darryl/.pyenv/versions/3.11.6/lib/python3.11/site-packages/whisper/transcribe.py:115: UserWarning: FP16 is not supported on CPU; using FP32 instead\n",
      "  warnings.warn(\"FP16 is not supported on CPU; using FP32 instead\")\n"
     ]
    },
    {
     "name": "stdout",
     "output_type": "stream",
     "text": [
      "CPU times: user 58.3 s, sys: 46.6 s, total: 1min 44s\n",
      "Wall time: 10 s\n"
     ]
    },
    {
     "data": {
      "text/plain": [
       "\" Hey, sorry to get... stop! This is a diffuser, you just put some water and an essential oil of your choice. I put lavender in mine and it makes my car smell like lavender. I also got these, they light up your drink. I got this really cool thing for extra storage, it comes in a pack of two. You just stick it in the side of your seat. It has this cord you plug in so you can utilize these USB outlets. I love that it has an extra cup holder, I just put a nice hand sanitizer in there for now, my keys. And I got this trash can for my little wrappers. I also got this trash can for the back seat. I just hook it onto this. Here you go. This is a USB starlight for your car. This hook for your bag so it's not sitting in someone's lap. Goes like that, just like that. And the tissue holder, literally changing my life. This cute little guy said I don't have to take my phone case off so you can fit your popsocket in here. I'm really not sure why I got this but it smells like cotton candy.\""
      ]
     },
     "execution_count": 23,
     "metadata": {},
     "output_type": "execute_result"
    }
   ],
   "source": [
    "%%time\n",
    "result = model.transcribe(\"tiktoks/6813091851957046534_layallure_1586296564.mp4\")\n",
    "result[\"text\"]"
   ]
  },
  {
   "cell_type": "code",
   "execution_count": 24,
   "metadata": {},
   "outputs": [
    {
     "name": "stderr",
     "output_type": "stream",
     "text": [
      "100%|█████████████████████████████████████| 1.42G/1.42G [01:35<00:00, 16.0MiB/s]\n"
     ]
    }
   ],
   "source": [
    "model = whisper.load_model(\"medium.en\")"
   ]
  },
  {
   "cell_type": "code",
   "execution_count": 25,
   "metadata": {},
   "outputs": [
    {
     "name": "stderr",
     "output_type": "stream",
     "text": [
      "/Users/darryl/.pyenv/versions/3.11.6/lib/python3.11/site-packages/whisper/transcribe.py:115: UserWarning: FP16 is not supported on CPU; using FP32 instead\n",
      "  warnings.warn(\"FP16 is not supported on CPU; using FP32 instead\")\n"
     ]
    },
    {
     "name": "stdout",
     "output_type": "stream",
     "text": [
      "CPU times: user 3min 1s, sys: 2min 25s, total: 5min 27s\n",
      "Wall time: 31 s\n"
     ]
    },
    {
     "data": {
      "text/plain": [
       "\" Hey, so let me take it. Stop! This is a diffuser. You just put some water and an essential oil of your choice. I put lavender in mine and it makes my car smell like lavender. I also got these. They light up your drink. Got this really cool thing for extra storage. It comes in a pack of two. You just stick it in the side of your seat. It has this cord you plug in so that you can utilize these USB outlets. I love that it has an extra cup holder. I just put my hand sanitizer in there for now, my keys. And I got this trash can for my little wrappers. I also got this trash can for the back seat. I just hook it onto this. And there you go. This is a USB starlight for your car. No espeño. I'm trying to say no. This hook for your bag so it's not sitting in someone's lap. Goes like that, just like that. And the tissue holders literally change my life. This cute little guy said I don't have to take my phone case off so you can fit your pop socket in here. I'm really not sure why I got this, but it smells like cotton candy.\""
      ]
     },
     "execution_count": 25,
     "metadata": {},
     "output_type": "execute_result"
    }
   ],
   "source": [
    "%%time\n",
    "result = model.transcribe(\"tiktoks/6813091851957046534_layallure_1586296564.mp4\")\n",
    "result[\"text\"]"
   ]
  },
  {
   "cell_type": "code",
   "execution_count": 26,
   "metadata": {},
   "outputs": [],
   "source": [
    "import glob"
   ]
  },
  {
   "cell_type": "code",
   "execution_count": 28,
   "metadata": {},
   "outputs": [
    {
     "data": {
      "text/plain": [
       "['tiktoks/6899609374478601474_mik.zenon_1606440495.mp4',\n",
       " 'tiktoks/7259505958118853931_justicebuys_1690235458.mp4',\n",
       " 'tiktoks/6975940059858046214_lopwert_1624212617.mp4',\n",
       " 'tiktoks/6961907699927747845_stuffyouactuallyneed_1620945455.mp4',\n",
       " 'tiktoks/7147698077808282923_makeupbypita_1664203169.mp4',\n",
       " 'tiktoks/7257908886840167726_emburnette_1689863609.mp4',\n",
       " 'tiktoks/7350801361019096362_claugonzalez_official_1711491837.mp4',\n",
       " 'tiktoks/7212769061460184366_andreja.elena_1679353674.mp4',\n",
       " 'tiktoks/6897636451849112838_teresalauracaruso_1605981174.mp4',\n",
       " 'tiktoks/7144832760090217771_gabriela.vlogs_1663536023.mp4',\n",
       " 'tiktoks/6975329213779954950_heartdefensor_1624070395.mp4',\n",
       " 'tiktoks/7058546692563455234__tusya_kiskis_1643445970.mp4',\n",
       " 'tiktoks/7220139400783465733_eny4a_1681069706.mp4',\n",
       " 'tiktoks/7049930660726983983_simplysalfinds_1641439895.mp4',\n",
       " 'tiktoks/6993401583690206470_chateaublanche_1628278193.mp4',\n",
       " 'tiktoks/7231254478421282074_tobesfinds_1683657643.mp4',\n",
       " 'tiktoks/7286126097421405483_glenxda_1696433451.mp4',\n",
       " 'tiktoks/7178967057709550849_kunchaaiii_1671483541.mp4',\n",
       " 'tiktoks/7347444193515818286_whisperfillies_1710710188.mp4',\n",
       " 'tiktoks/7027448660333956357_garrisonmeek_1636205396.mp4',\n",
       " 'tiktoks/6860299083349806341_heartdefensor_1597287859.mp4',\n",
       " 'tiktoks/6890346072661626117_arianalucidonio_1604283744.mp4',\n",
       " 'tiktoks/6982377509648092421_heartdefensor_1625711455.mp4',\n",
       " 'tiktoks/7366659432610024747_glenxda_1715184076.mp4',\n",
       " 'tiktoks/7064010203603356975_heartdefensor_1644718043.mp4',\n",
       " 'tiktoks/6813091851957046534_layallure_1586296564.mp4',\n",
       " 'tiktoks/7203167401305754886_its_jabent_1677118108.mp4',\n",
       " 'tiktoks/7232370620837727530_natalies.smith_1683917536.mp4',\n",
       " 'tiktoks/7040173254186634501_lucymassad_1639168071.mp4',\n",
       " 'tiktoks/7143391067323387182_nalae.co_1663200354.mp4',\n",
       " 'tiktoks/6834331690282831110_toponlinefinds_1591241851.mp4',\n",
       " 'tiktoks/7228957130441755931_herios.co.uk_1683122749.mp4',\n",
       " 'tiktoks/7158944713012251950_teachingwithmsd_1666821715.mp4',\n",
       " 'tiktoks/7118086870155971886_kaelimaee_1657308751.mp4',\n",
       " 'tiktoks/7236885066616442155_bordanjillings_1684968615.mp4']"
      ]
     },
     "execution_count": 28,
     "metadata": {},
     "output_type": "execute_result"
    }
   ],
   "source": [
    "tiktoks = glob.glob(\"tiktoks/*.mp4\")\n",
    "tiktoks"
   ]
  },
  {
   "cell_type": "code",
   "execution_count": 29,
   "metadata": {},
   "outputs": [
    {
     "name": "stderr",
     "output_type": "stream",
     "text": [
      "/Users/darryl/.pyenv/versions/3.11.6/lib/python3.11/site-packages/whisper/transcribe.py:115: UserWarning: FP16 is not supported on CPU; using FP32 instead\n",
      "  warnings.warn(\"FP16 is not supported on CPU; using FP32 instead\")\n"
     ]
    },
    {
     "name": "stdout",
     "output_type": "stream",
     "text": [
      " Amazon products you need or don't, this could be a driving game changer. This is a panoramic anti-glare rear view mirror that entirely eliminates your blind spots while driving. Here's the view for a typical mirror, and here's the wide lens view where you see both blind spots. It easily clips onto your existing mirror, and it has an additional nighttime anti-glare feature to reduce the strength of those glaring lights. So this is something you need or don't need.\n"
     ]
    },
    {
     "name": "stderr",
     "output_type": "stream",
     "text": [
      "/Users/darryl/.pyenv/versions/3.11.6/lib/python3.11/site-packages/whisper/transcribe.py:115: UserWarning: FP16 is not supported on CPU; using FP32 instead\n",
      "  warnings.warn(\"FP16 is not supported on CPU; using FP32 instead\")\n"
     ]
    },
    {
     "name": "stdout",
     "output_type": "stream",
     "text": [
      " Top 15 Amazon products for this month. This is a human-sized dog bed that comes with its own blanket and it's machine washable so it's easy to clean. This is a trolley dolly which makes it easy to roll heavy items up the stairs. This is a smart trash can that automatically seals the bag when it's full and when it's done it replaces the bag by itself. This is a latte pen that lets you draw meaningful designs on any type of drink. This sign sticks on any type of car window and allows you to communicate with other drivers on the road. This is a fake rock with a secret compartment where you can hide your house keys so no one can find them. These are disposable air fireplace. You never have to wash the inside of your air fryer ever again. This pot can plug into an outlet so you can cook any type of food from your bed. These are mess-free nail clippers. They store the clippings inside a compartment so they're easy to throw out. This is a Bluetooth scroller that lets you swipe through TikToks without even touching your phone. These are reusable straws that come apart when it's time to clean them and once you're done you can connect it back together. This is a car mirror that snaps onto your existing one and it lets you see both of your blind spots. This is a sapoon which has a notch on the side of it so you don't get your counter dirty when you set it down. This is a sink topper which gives you more counter space in your bathroom which is perfect for small apartments. This is a wireless water dispenser that you put by your bed. It lets you choose the amount of water and then it fills up automatically.\n"
     ]
    },
    {
     "name": "stderr",
     "output_type": "stream",
     "text": [
      "/Users/darryl/.pyenv/versions/3.11.6/lib/python3.11/site-packages/whisper/transcribe.py:115: UserWarning: FP16 is not supported on CPU; using FP32 instead\n",
      "  warnings.warn(\"FP16 is not supported on CPU; using FP32 instead\")\n"
     ]
    },
    {
     "name": "stdout",
     "output_type": "stream",
     "text": [
      " I bought the world's smallest phone so you don't have to. So apparently this is the world's smallest phone. Let's see if it really is. So this was rated literally the world's smallest phone on Amazon. Apparently it's teeny tiny, teeny tiny. Hahahaha! Look at it! That is a working mobile phone. Here it is next to my finger. It's called the Zanaco. The micro SD card goes in there. Let's turn it on. Look, it comes with a teeny tiny little case. Boop! So it doesn't come charged but it does actually work. There you go. It's charging. I'm going to let it. And that's the smallest phone in the world. Hello?\n"
     ]
    }
   ],
   "source": [
    "for video in tiktoks[:3]:\n",
    "    result = model.transcribe(video)\n",
    "    print(result[\"text\"])"
   ]
  },
  {
   "cell_type": "code",
   "execution_count": 30,
   "metadata": {},
   "outputs": [
    {
     "name": "stdout",
     "output_type": "stream",
     "text": [
      "Requirement already satisfied: opencv-python in /Users/darryl/.pyenv/versions/3.11.6/lib/python3.11/site-packages (4.8.1.78)\n",
      "Requirement already satisfied: numpy>=1.21.2 in /Users/darryl/.pyenv/versions/3.11.6/lib/python3.11/site-packages (from opencv-python) (1.26.2)\n",
      "\n",
      "\u001b[1m[\u001b[0m\u001b[34;49mnotice\u001b[0m\u001b[1;39;49m]\u001b[0m\u001b[39;49m A new release of pip is available: \u001b[0m\u001b[31;49m23.2.1\u001b[0m\u001b[39;49m -> \u001b[0m\u001b[32;49m24.0\u001b[0m\n",
      "\u001b[1m[\u001b[0m\u001b[34;49mnotice\u001b[0m\u001b[1;39;49m]\u001b[0m\u001b[39;49m To update, run: \u001b[0m\u001b[32;49mpip install --upgrade pip\u001b[0m\n"
     ]
    }
   ],
   "source": [
    "!pip install opencv-python"
   ]
  },
  {
   "cell_type": "code",
   "execution_count": 38,
   "metadata": {},
   "outputs": [],
   "source": [
    "def with_opencv(filename):\n",
    "    # import module \n",
    "    import cv2 \n",
    "    import datetime \n",
    "    \n",
    "    # create video capture object \n",
    "    data = cv2.VideoCapture(filename) \n",
    "    \n",
    "    # count the number of frames \n",
    "    frames = data.get(cv2.CAP_PROP_FRAME_COUNT) \n",
    "    fps = data.get(cv2.CAP_PROP_FPS) \n",
    "    \n",
    "    # calculate duration of the video \n",
    "    seconds = round(frames / fps) \n",
    "    video_time = datetime.timedelta(seconds=seconds) \n",
    "    # print(f\"duration in seconds: {seconds}\") \n",
    "    # print(f\"video time: {video_time}\") \n",
    "\n",
    "    return seconds"
   ]
  },
  {
   "cell_type": "code",
   "execution_count": 39,
   "metadata": {},
   "outputs": [
    {
     "name": "stdout",
     "output_type": "stream",
     "text": [
      "58\n"
     ]
    }
   ],
   "source": [
    "print(with_opencv(\"tiktoks/6890346072661626117_arianalucidonio_1604283744.mp4\"))"
   ]
  },
  {
   "cell_type": "code",
   "execution_count": 56,
   "metadata": {},
   "outputs": [],
   "source": [
    "tiktok_data = []"
   ]
  },
  {
   "cell_type": "code",
   "execution_count": 57,
   "metadata": {},
   "outputs": [
    {
     "name": "stderr",
     "output_type": "stream",
     "text": [
      "/Users/darryl/.pyenv/versions/3.11.6/lib/python3.11/site-packages/whisper/transcribe.py:115: UserWarning: FP16 is not supported on CPU; using FP32 instead\n",
      "  warnings.warn(\"FP16 is not supported on CPU; using FP32 instead\")\n"
     ]
    },
    {
     "name": "stdout",
     "output_type": "stream",
     "text": [
      "tiktoks/6899609374478601474_mik.zenon_1606440495.mp4 done\n"
     ]
    },
    {
     "name": "stderr",
     "output_type": "stream",
     "text": [
      "/Users/darryl/.pyenv/versions/3.11.6/lib/python3.11/site-packages/whisper/transcribe.py:115: UserWarning: FP16 is not supported on CPU; using FP32 instead\n",
      "  warnings.warn(\"FP16 is not supported on CPU; using FP32 instead\")\n"
     ]
    },
    {
     "name": "stdout",
     "output_type": "stream",
     "text": [
      "tiktoks/7259505958118853931_justicebuys_1690235458.mp4 done\n"
     ]
    },
    {
     "name": "stderr",
     "output_type": "stream",
     "text": [
      "/Users/darryl/.pyenv/versions/3.11.6/lib/python3.11/site-packages/whisper/transcribe.py:115: UserWarning: FP16 is not supported on CPU; using FP32 instead\n",
      "  warnings.warn(\"FP16 is not supported on CPU; using FP32 instead\")\n"
     ]
    },
    {
     "name": "stdout",
     "output_type": "stream",
     "text": [
      "tiktoks/6975940059858046214_lopwert_1624212617.mp4 done\n"
     ]
    },
    {
     "name": "stderr",
     "output_type": "stream",
     "text": [
      "/Users/darryl/.pyenv/versions/3.11.6/lib/python3.11/site-packages/whisper/transcribe.py:115: UserWarning: FP16 is not supported on CPU; using FP32 instead\n",
      "  warnings.warn(\"FP16 is not supported on CPU; using FP32 instead\")\n"
     ]
    },
    {
     "name": "stdout",
     "output_type": "stream",
     "text": [
      "tiktoks/6961907699927747845_stuffyouactuallyneed_1620945455.mp4 done\n"
     ]
    },
    {
     "name": "stderr",
     "output_type": "stream",
     "text": [
      "/Users/darryl/.pyenv/versions/3.11.6/lib/python3.11/site-packages/whisper/transcribe.py:115: UserWarning: FP16 is not supported on CPU; using FP32 instead\n",
      "  warnings.warn(\"FP16 is not supported on CPU; using FP32 instead\")\n"
     ]
    },
    {
     "name": "stdout",
     "output_type": "stream",
     "text": [
      "tiktoks/7147698077808282923_makeupbypita_1664203169.mp4 done\n"
     ]
    },
    {
     "name": "stderr",
     "output_type": "stream",
     "text": [
      "/Users/darryl/.pyenv/versions/3.11.6/lib/python3.11/site-packages/whisper/transcribe.py:115: UserWarning: FP16 is not supported on CPU; using FP32 instead\n",
      "  warnings.warn(\"FP16 is not supported on CPU; using FP32 instead\")\n"
     ]
    },
    {
     "name": "stdout",
     "output_type": "stream",
     "text": [
      "tiktoks/7257908886840167726_emburnette_1689863609.mp4 done\n"
     ]
    },
    {
     "name": "stderr",
     "output_type": "stream",
     "text": [
      "/Users/darryl/.pyenv/versions/3.11.6/lib/python3.11/site-packages/whisper/transcribe.py:115: UserWarning: FP16 is not supported on CPU; using FP32 instead\n",
      "  warnings.warn(\"FP16 is not supported on CPU; using FP32 instead\")\n"
     ]
    },
    {
     "name": "stdout",
     "output_type": "stream",
     "text": [
      "tiktoks/7350801361019096362_claugonzalez_official_1711491837.mp4 done\n"
     ]
    },
    {
     "name": "stderr",
     "output_type": "stream",
     "text": [
      "/Users/darryl/.pyenv/versions/3.11.6/lib/python3.11/site-packages/whisper/transcribe.py:115: UserWarning: FP16 is not supported on CPU; using FP32 instead\n",
      "  warnings.warn(\"FP16 is not supported on CPU; using FP32 instead\")\n"
     ]
    },
    {
     "name": "stdout",
     "output_type": "stream",
     "text": [
      "tiktoks/7212769061460184366_andreja.elena_1679353674.mp4 done\n"
     ]
    },
    {
     "name": "stderr",
     "output_type": "stream",
     "text": [
      "/Users/darryl/.pyenv/versions/3.11.6/lib/python3.11/site-packages/whisper/transcribe.py:115: UserWarning: FP16 is not supported on CPU; using FP32 instead\n",
      "  warnings.warn(\"FP16 is not supported on CPU; using FP32 instead\")\n"
     ]
    },
    {
     "name": "stdout",
     "output_type": "stream",
     "text": [
      "tiktoks/6897636451849112838_teresalauracaruso_1605981174.mp4 done\n"
     ]
    },
    {
     "name": "stderr",
     "output_type": "stream",
     "text": [
      "/Users/darryl/.pyenv/versions/3.11.6/lib/python3.11/site-packages/whisper/transcribe.py:115: UserWarning: FP16 is not supported on CPU; using FP32 instead\n",
      "  warnings.warn(\"FP16 is not supported on CPU; using FP32 instead\")\n"
     ]
    },
    {
     "name": "stdout",
     "output_type": "stream",
     "text": [
      "tiktoks/7144832760090217771_gabriela.vlogs_1663536023.mp4 done\n"
     ]
    },
    {
     "name": "stderr",
     "output_type": "stream",
     "text": [
      "/Users/darryl/.pyenv/versions/3.11.6/lib/python3.11/site-packages/whisper/transcribe.py:115: UserWarning: FP16 is not supported on CPU; using FP32 instead\n",
      "  warnings.warn(\"FP16 is not supported on CPU; using FP32 instead\")\n"
     ]
    },
    {
     "name": "stdout",
     "output_type": "stream",
     "text": [
      "tiktoks/6975329213779954950_heartdefensor_1624070395.mp4 done\n"
     ]
    },
    {
     "name": "stderr",
     "output_type": "stream",
     "text": [
      "/Users/darryl/.pyenv/versions/3.11.6/lib/python3.11/site-packages/whisper/transcribe.py:115: UserWarning: FP16 is not supported on CPU; using FP32 instead\n",
      "  warnings.warn(\"FP16 is not supported on CPU; using FP32 instead\")\n"
     ]
    },
    {
     "name": "stdout",
     "output_type": "stream",
     "text": [
      "tiktoks/7058546692563455234__tusya_kiskis_1643445970.mp4 done\n"
     ]
    },
    {
     "name": "stderr",
     "output_type": "stream",
     "text": [
      "/Users/darryl/.pyenv/versions/3.11.6/lib/python3.11/site-packages/whisper/transcribe.py:115: UserWarning: FP16 is not supported on CPU; using FP32 instead\n",
      "  warnings.warn(\"FP16 is not supported on CPU; using FP32 instead\")\n"
     ]
    },
    {
     "name": "stdout",
     "output_type": "stream",
     "text": [
      "tiktoks/7220139400783465733_eny4a_1681069706.mp4 done\n"
     ]
    },
    {
     "name": "stderr",
     "output_type": "stream",
     "text": [
      "/Users/darryl/.pyenv/versions/3.11.6/lib/python3.11/site-packages/whisper/transcribe.py:115: UserWarning: FP16 is not supported on CPU; using FP32 instead\n",
      "  warnings.warn(\"FP16 is not supported on CPU; using FP32 instead\")\n"
     ]
    },
    {
     "name": "stdout",
     "output_type": "stream",
     "text": [
      "tiktoks/7049930660726983983_simplysalfinds_1641439895.mp4 done\n"
     ]
    },
    {
     "name": "stderr",
     "output_type": "stream",
     "text": [
      "/Users/darryl/.pyenv/versions/3.11.6/lib/python3.11/site-packages/whisper/transcribe.py:115: UserWarning: FP16 is not supported on CPU; using FP32 instead\n",
      "  warnings.warn(\"FP16 is not supported on CPU; using FP32 instead\")\n"
     ]
    },
    {
     "name": "stdout",
     "output_type": "stream",
     "text": [
      "tiktoks/6993401583690206470_chateaublanche_1628278193.mp4 done\n"
     ]
    },
    {
     "name": "stderr",
     "output_type": "stream",
     "text": [
      "/Users/darryl/.pyenv/versions/3.11.6/lib/python3.11/site-packages/whisper/transcribe.py:115: UserWarning: FP16 is not supported on CPU; using FP32 instead\n",
      "  warnings.warn(\"FP16 is not supported on CPU; using FP32 instead\")\n"
     ]
    },
    {
     "name": "stdout",
     "output_type": "stream",
     "text": [
      "tiktoks/7231254478421282074_tobesfinds_1683657643.mp4 done\n"
     ]
    },
    {
     "name": "stderr",
     "output_type": "stream",
     "text": [
      "/Users/darryl/.pyenv/versions/3.11.6/lib/python3.11/site-packages/whisper/transcribe.py:115: UserWarning: FP16 is not supported on CPU; using FP32 instead\n",
      "  warnings.warn(\"FP16 is not supported on CPU; using FP32 instead\")\n"
     ]
    },
    {
     "name": "stdout",
     "output_type": "stream",
     "text": [
      "tiktoks/7286126097421405483_glenxda_1696433451.mp4 done\n"
     ]
    },
    {
     "name": "stderr",
     "output_type": "stream",
     "text": [
      "/Users/darryl/.pyenv/versions/3.11.6/lib/python3.11/site-packages/whisper/transcribe.py:115: UserWarning: FP16 is not supported on CPU; using FP32 instead\n",
      "  warnings.warn(\"FP16 is not supported on CPU; using FP32 instead\")\n"
     ]
    },
    {
     "name": "stdout",
     "output_type": "stream",
     "text": [
      "tiktoks/7178967057709550849_kunchaaiii_1671483541.mp4 done\n"
     ]
    },
    {
     "name": "stderr",
     "output_type": "stream",
     "text": [
      "/Users/darryl/.pyenv/versions/3.11.6/lib/python3.11/site-packages/whisper/transcribe.py:115: UserWarning: FP16 is not supported on CPU; using FP32 instead\n",
      "  warnings.warn(\"FP16 is not supported on CPU; using FP32 instead\")\n"
     ]
    },
    {
     "name": "stdout",
     "output_type": "stream",
     "text": [
      "tiktoks/7347444193515818286_whisperfillies_1710710188.mp4 done\n"
     ]
    },
    {
     "name": "stderr",
     "output_type": "stream",
     "text": [
      "/Users/darryl/.pyenv/versions/3.11.6/lib/python3.11/site-packages/whisper/transcribe.py:115: UserWarning: FP16 is not supported on CPU; using FP32 instead\n",
      "  warnings.warn(\"FP16 is not supported on CPU; using FP32 instead\")\n"
     ]
    },
    {
     "name": "stdout",
     "output_type": "stream",
     "text": [
      "tiktoks/7027448660333956357_garrisonmeek_1636205396.mp4 done\n"
     ]
    },
    {
     "name": "stderr",
     "output_type": "stream",
     "text": [
      "/Users/darryl/.pyenv/versions/3.11.6/lib/python3.11/site-packages/whisper/transcribe.py:115: UserWarning: FP16 is not supported on CPU; using FP32 instead\n",
      "  warnings.warn(\"FP16 is not supported on CPU; using FP32 instead\")\n"
     ]
    },
    {
     "name": "stdout",
     "output_type": "stream",
     "text": [
      "tiktoks/6860299083349806341_heartdefensor_1597287859.mp4 done\n"
     ]
    },
    {
     "name": "stderr",
     "output_type": "stream",
     "text": [
      "/Users/darryl/.pyenv/versions/3.11.6/lib/python3.11/site-packages/whisper/transcribe.py:115: UserWarning: FP16 is not supported on CPU; using FP32 instead\n",
      "  warnings.warn(\"FP16 is not supported on CPU; using FP32 instead\")\n"
     ]
    },
    {
     "name": "stdout",
     "output_type": "stream",
     "text": [
      "tiktoks/6890346072661626117_arianalucidonio_1604283744.mp4 done\n"
     ]
    },
    {
     "name": "stderr",
     "output_type": "stream",
     "text": [
      "/Users/darryl/.pyenv/versions/3.11.6/lib/python3.11/site-packages/whisper/transcribe.py:115: UserWarning: FP16 is not supported on CPU; using FP32 instead\n",
      "  warnings.warn(\"FP16 is not supported on CPU; using FP32 instead\")\n"
     ]
    },
    {
     "name": "stdout",
     "output_type": "stream",
     "text": [
      "tiktoks/6982377509648092421_heartdefensor_1625711455.mp4 done\n"
     ]
    },
    {
     "name": "stderr",
     "output_type": "stream",
     "text": [
      "/Users/darryl/.pyenv/versions/3.11.6/lib/python3.11/site-packages/whisper/transcribe.py:115: UserWarning: FP16 is not supported on CPU; using FP32 instead\n",
      "  warnings.warn(\"FP16 is not supported on CPU; using FP32 instead\")\n"
     ]
    },
    {
     "name": "stdout",
     "output_type": "stream",
     "text": [
      "tiktoks/7366659432610024747_glenxda_1715184076.mp4 done\n"
     ]
    },
    {
     "name": "stderr",
     "output_type": "stream",
     "text": [
      "/Users/darryl/.pyenv/versions/3.11.6/lib/python3.11/site-packages/whisper/transcribe.py:115: UserWarning: FP16 is not supported on CPU; using FP32 instead\n",
      "  warnings.warn(\"FP16 is not supported on CPU; using FP32 instead\")\n"
     ]
    },
    {
     "name": "stdout",
     "output_type": "stream",
     "text": [
      "tiktoks/7064010203603356975_heartdefensor_1644718043.mp4 done\n"
     ]
    },
    {
     "name": "stderr",
     "output_type": "stream",
     "text": [
      "/Users/darryl/.pyenv/versions/3.11.6/lib/python3.11/site-packages/whisper/transcribe.py:115: UserWarning: FP16 is not supported on CPU; using FP32 instead\n",
      "  warnings.warn(\"FP16 is not supported on CPU; using FP32 instead\")\n"
     ]
    },
    {
     "name": "stdout",
     "output_type": "stream",
     "text": [
      "tiktoks/6813091851957046534_layallure_1586296564.mp4 done\n"
     ]
    },
    {
     "name": "stderr",
     "output_type": "stream",
     "text": [
      "/Users/darryl/.pyenv/versions/3.11.6/lib/python3.11/site-packages/whisper/transcribe.py:115: UserWarning: FP16 is not supported on CPU; using FP32 instead\n",
      "  warnings.warn(\"FP16 is not supported on CPU; using FP32 instead\")\n"
     ]
    },
    {
     "name": "stdout",
     "output_type": "stream",
     "text": [
      "tiktoks/7203167401305754886_its_jabent_1677118108.mp4 done\n"
     ]
    },
    {
     "name": "stderr",
     "output_type": "stream",
     "text": [
      "/Users/darryl/.pyenv/versions/3.11.6/lib/python3.11/site-packages/whisper/transcribe.py:115: UserWarning: FP16 is not supported on CPU; using FP32 instead\n",
      "  warnings.warn(\"FP16 is not supported on CPU; using FP32 instead\")\n"
     ]
    },
    {
     "name": "stdout",
     "output_type": "stream",
     "text": [
      "tiktoks/7232370620837727530_natalies.smith_1683917536.mp4 done\n"
     ]
    },
    {
     "name": "stderr",
     "output_type": "stream",
     "text": [
      "/Users/darryl/.pyenv/versions/3.11.6/lib/python3.11/site-packages/whisper/transcribe.py:115: UserWarning: FP16 is not supported on CPU; using FP32 instead\n",
      "  warnings.warn(\"FP16 is not supported on CPU; using FP32 instead\")\n"
     ]
    },
    {
     "name": "stdout",
     "output_type": "stream",
     "text": [
      "tiktoks/7040173254186634501_lucymassad_1639168071.mp4 done\n"
     ]
    },
    {
     "name": "stderr",
     "output_type": "stream",
     "text": [
      "/Users/darryl/.pyenv/versions/3.11.6/lib/python3.11/site-packages/whisper/transcribe.py:115: UserWarning: FP16 is not supported on CPU; using FP32 instead\n",
      "  warnings.warn(\"FP16 is not supported on CPU; using FP32 instead\")\n"
     ]
    },
    {
     "name": "stdout",
     "output_type": "stream",
     "text": [
      "tiktoks/7143391067323387182_nalae.co_1663200354.mp4 done\n"
     ]
    },
    {
     "name": "stderr",
     "output_type": "stream",
     "text": [
      "/Users/darryl/.pyenv/versions/3.11.6/lib/python3.11/site-packages/whisper/transcribe.py:115: UserWarning: FP16 is not supported on CPU; using FP32 instead\n",
      "  warnings.warn(\"FP16 is not supported on CPU; using FP32 instead\")\n"
     ]
    },
    {
     "name": "stdout",
     "output_type": "stream",
     "text": [
      "tiktoks/6834331690282831110_toponlinefinds_1591241851.mp4 done\n"
     ]
    },
    {
     "name": "stderr",
     "output_type": "stream",
     "text": [
      "/Users/darryl/.pyenv/versions/3.11.6/lib/python3.11/site-packages/whisper/transcribe.py:115: UserWarning: FP16 is not supported on CPU; using FP32 instead\n",
      "  warnings.warn(\"FP16 is not supported on CPU; using FP32 instead\")\n"
     ]
    },
    {
     "name": "stdout",
     "output_type": "stream",
     "text": [
      "tiktoks/7228957130441755931_herios.co.uk_1683122749.mp4 done\n"
     ]
    },
    {
     "name": "stderr",
     "output_type": "stream",
     "text": [
      "/Users/darryl/.pyenv/versions/3.11.6/lib/python3.11/site-packages/whisper/transcribe.py:115: UserWarning: FP16 is not supported on CPU; using FP32 instead\n",
      "  warnings.warn(\"FP16 is not supported on CPU; using FP32 instead\")\n"
     ]
    },
    {
     "name": "stdout",
     "output_type": "stream",
     "text": [
      "tiktoks/7158944713012251950_teachingwithmsd_1666821715.mp4 done\n"
     ]
    },
    {
     "name": "stderr",
     "output_type": "stream",
     "text": [
      "/Users/darryl/.pyenv/versions/3.11.6/lib/python3.11/site-packages/whisper/transcribe.py:115: UserWarning: FP16 is not supported on CPU; using FP32 instead\n",
      "  warnings.warn(\"FP16 is not supported on CPU; using FP32 instead\")\n"
     ]
    },
    {
     "name": "stdout",
     "output_type": "stream",
     "text": [
      "tiktoks/7118086870155971886_kaelimaee_1657308751.mp4 done\n"
     ]
    },
    {
     "name": "stderr",
     "output_type": "stream",
     "text": [
      "/Users/darryl/.pyenv/versions/3.11.6/lib/python3.11/site-packages/whisper/transcribe.py:115: UserWarning: FP16 is not supported on CPU; using FP32 instead\n",
      "  warnings.warn(\"FP16 is not supported on CPU; using FP32 instead\")\n"
     ]
    },
    {
     "name": "stdout",
     "output_type": "stream",
     "text": [
      "tiktoks/7236885066616442155_bordanjillings_1684968615.mp4 done\n"
     ]
    }
   ],
   "source": [
    "for video in tiktoks:\n",
    "    tiktok = {}\n",
    "    tiktok['filename'] = video\n",
    "    tiktok['duration'] = with_opencv(video)\n",
    "    result = model.transcribe(video)\n",
    "    tiktok['transcription'] = result[\"text\"]\n",
    "    tiktok_data.append(tiktok)\n",
    "    print(video, \"done\")\n"
   ]
  },
  {
   "cell_type": "code",
   "execution_count": 58,
   "metadata": {},
   "outputs": [
    {
     "data": {
      "text/plain": [
       "[{'filename': 'tiktoks/6899609374478601474_mik.zenon_1606440495.mp4',\n",
       "  'duration': 23,\n",
       "  'transcription': \" Amazon products you need or don't, this could be a driving game changer. This is a panoramic anti-glare rear view mirror that entirely eliminates your blind spots while driving. Here's the view for a typical mirror, and here's the wide lens view where you see both blind spots. It easily clips onto your existing mirror, and it has an additional nighttime anti-glare feature to reduce the strength of those glaring lights. So this is something you need or don't need.\"},\n",
       " {'filename': 'tiktoks/7259505958118853931_justicebuys_1690235458.mp4',\n",
       "  'duration': 65,\n",
       "  'transcription': \" Top 15 Amazon products for this month. This is a human-sized dog bed that comes with its own blanket and it's machine washable so it's easy to clean. This is a trolley dolly which makes it easy to roll heavy items up the stairs. This is a smart trash can that automatically seals the bag when it's full and when it's done it replaces the bag by itself. This is a latte pen that lets you draw meaningful designs on any type of drink. This sign sticks on any type of car window and allows you to communicate with other drivers on the road. This is a fake rock with a secret compartment where you can hide your house keys so no one can find them. These are disposable air fireplace. You never have to wash the inside of your air fryer ever again. This pot can plug into an outlet so you can cook any type of food from your bed. These are mess-free nail clippers. They store the clippings inside a compartment so they're easy to throw out. This is a Bluetooth scroller that lets you swipe through TikToks without even touching your phone. These are reusable straws that come apart when it's time to clean them and once you're done you can connect it back together. This is a car mirror that snaps onto your existing one and it lets you see both of your blind spots. This is a sapoon which has a notch on the side of it so you don't get your counter dirty when you set it down. This is a sink topper which gives you more counter space in your bathroom which is perfect for small apartments. This is a wireless water dispenser that you put by your bed. It lets you choose the amount of water and then it fills up automatically.\"},\n",
       " {'filename': 'tiktoks/6975940059858046214_lopwert_1624212617.mp4',\n",
       "  'duration': 59,\n",
       "  'transcription': \" I bought the world's smallest phone so you don't have to. So apparently this is the world's smallest phone. Let's see if it really is. So this was rated literally the world's smallest phone on Amazon. Apparently it's teeny tiny, teeny tiny. Hahahaha! Look at it! That is a working mobile phone. Here it is next to my finger. It's called the Zanaco. The micro SD card goes in there. Let's turn it on. Look, it comes with a teeny tiny little case. Boop! So it doesn't come charged but it does actually work. There you go. It's charging. I'm going to let it. And that's the smallest phone in the world. Hello?\"},\n",
       " {'filename': 'tiktoks/6961907699927747845_stuffyouactuallyneed_1620945455.mp4',\n",
       "  'duration': 16,\n",
       "  'transcription': \" My side of the bed. Add a little bit of spice. My wife's side of the bed.\"},\n",
       " {'filename': 'tiktoks/7147698077808282923_makeupbypita_1664203169.mp4',\n",
       "  'duration': 40,\n",
       "  'transcription': \" I've waited a hundred years And I'd wait a million more for you Nothing prepared me for What the privilege of being yours would do If I had only felt the world\"},\n",
       " {'filename': 'tiktoks/7257908886840167726_emburnette_1689863609.mp4',\n",
       "  'duration': 60,\n",
       "  'transcription': ' Talk to it talk to it Bubba Bubba? Talk to it maniac'},\n",
       " {'filename': 'tiktoks/7350801361019096362_claugonzalez_official_1711491837.mp4',\n",
       "  'duration': 63,\n",
       "  'transcription': ' I want to dedicate a'},\n",
       " {'filename': 'tiktoks/7212769061460184366_andreja.elena_1679353674.mp4',\n",
       "  'duration': 11,\n",
       "  'transcription': ' Hold me close and hold me fast This magic spell is what it feels like'},\n",
       " {'filename': 'tiktoks/6897636451849112838_teresalauracaruso_1605981174.mp4',\n",
       "  'duration': 17,\n",
       "  'transcription': ' Random Amazon gadgets you need. This little device is actually a laser keyboard. When you turn it on, it projects a keyboard that actually works on any surface that you want. Once you connect it, you can type on it just like you would an ordinary keyboard. It connects to your phone, tablet, or any other Bluetooth device, and I love how small and portable it is for working on the go.'},\n",
       " {'filename': 'tiktoks/7144832760090217771_gabriela.vlogs_1663536023.mp4',\n",
       "  'duration': 60,\n",
       "  'transcription': \" You are my sunshine, my only sunshine You make me happy when skies are gray You'll never know dear, how much I love you Please don't take my sunshine away The other night dear, as I lay sleeping I dreamed I held you in my arms When I awoke dear, I was mistaken So I hung my head and cried You are my sunshine, my only sunshine\"},\n",
       " {'filename': 'tiktoks/6975329213779954950_heartdefensor_1624070395.mp4',\n",
       "  'duration': 18,\n",
       "  'transcription': ' a I'},\n",
       " {'filename': 'tiktoks/7058546692563455234__tusya_kiskis_1643445970.mp4',\n",
       "  'duration': 18,\n",
       "  'transcription': ' Thanks for watching.'},\n",
       " {'filename': 'tiktoks/7220139400783465733_eny4a_1681069706.mp4',\n",
       "  'duration': 40,\n",
       "  'transcription': \" Especially in the bathroom, you've got water on the floor, you've got the spinach, or you've got a wet room. The quality of moppets you get is a top-of-the-range mop set. Hair, dust, liquid. To dry the floor, you don't have to wait for floors to dry. The mop heads are so thick and long. Corners, skirting. Oh, wow. Absolute crowd floor.\"},\n",
       " {'filename': 'tiktoks/7049930660726983983_simplysalfinds_1641439895.mp4',\n",
       "  'duration': 26,\n",
       "  'transcription': \" Trying out 100 TikTok viral products to see if they're cap or they slap. Part 17. I saw a video that got over 5 million likes on this crazy shower head and I had to try it out. It's supposed to be the biggest one on the market and has over 270 nozzles to give you a rainfall shower experience. The install took only a minute and all I did was remove the existing shower head and screw it on the new one. When I turned the water on, the acrylic chamber filled up quickly and in a matter of seconds, my shower turned into a spa. I think this definitely slaps.\"},\n",
       " {'filename': 'tiktoks/6993401583690206470_chateaublanche_1628278193.mp4',\n",
       "  'duration': 19,\n",
       "  'transcription': \" Hey yo, rich cat check! Meow meow meow meow! Meow meow meow meow meow! Meow meow meow meow meow! Meow meow meow meow meow! Meow meow meow meow meow meow! I am spoiled kitty! I'm a kitty who takes everything for granted! I love you dog!\"},\n",
       " {'filename': 'tiktoks/7231254478421282074_tobesfinds_1683657643.mp4',\n",
       "  'duration': 71,\n",
       "  'transcription': \" 10 useful Amazon products I've bought this year. This is a seat gap filler for your car, which slides over your seat belt and stops things from falling down the gap. This is an electric lighter which allows you to light candles without burning your thumb. It uses no gas or fuel and it's rechargeable, meaning it lasts forever and you won't have to keep buying new lighters. This is a thin ice tray which makes ice cubes that can fit into any size bottle, allowing you to keep your drink cold wherever you are. You can even use them in your beer. This is a thermal printer which allows you to print things without using any ink. It uses thermal technology to print on the special paper, saving you money in the long run. These are silicone stretch lids which turn any dish into a Tupperware container. Just stretch them over your food and they keep your food fresher for longer. This is a push whisk which allows you to mix things together by just pushing up and down. This is a mattress gap filler which stops your pillows from sinking down the gap. It makes your bed look more aesthetic and gives you a more comfortable sleep. This is a garlic crusher which crushes garlic super easily and has a built-in wiper blade to remove the excess. This is a handheld vacuum which sucks and blows to clean small messes around the house, on your desk and even in your car. This product can hold your toothbrush on the mirror, keys by the door, raise it in the shower, pen on the fridge and can even stop your charging cable from falling behind your desk.\"},\n",
       " {'filename': 'tiktoks/7286126097421405483_glenxda_1696433451.mp4',\n",
       "  'duration': 25,\n",
       "  'transcription': ' Thanks for watching!'},\n",
       " {'filename': 'tiktoks/7178967057709550849_kunchaaiii_1671483541.mp4',\n",
       "  'duration': 7,\n",
       "  'transcription': ' Wow! Well, this is going to be my personality for the rest of my life.'},\n",
       " {'filename': 'tiktoks/7347444193515818286_whisperfillies_1710710188.mp4',\n",
       "  'duration': 25,\n",
       "  'transcription': \" Hi, you are currently being recorded. Hi. I currently don't care because I'm Amazon! Amazon! FedEx don't look like this. FedEx ain't built like this.\"},\n",
       " {'filename': 'tiktoks/7027448660333956357_garrisonmeek_1636205396.mp4',\n",
       "  'duration': 10,\n",
       "  'transcription': ' Guys!'},\n",
       " {'filename': 'tiktoks/6860299083349806341_heartdefensor_1597287859.mp4',\n",
       "  'duration': 10,\n",
       "  'transcription': \" I don't know if you can take it No, you wanna see me naked naked naked I wanna be a baby, baby Spitting in his bed just like he gave me from 8ix\"},\n",
       " {'filename': 'tiktoks/6890346072661626117_arianalucidonio_1604283744.mp4',\n",
       "  'duration': 58,\n",
       "  'transcription': \" Warning you now, my whole foot basically peels off in this video, so if that grosses you out, keep scrolling, but if not, please keep watching. This is a foot peel mask by Planafique. It's a number one best seller on Amazon. Now as you can see, I have really dry heels as well as a huge callus on my big toe that is extremely stubborn. So I soaked my feet for about 15 minutes and put on these booties for 90, and I chilled with some socks on. It really wasn't too uncomfortable, and then I washed off all of the residue. It took about 3-4 days to see any type of peeling, but once it started, it did not stop. I basically had webbed feet. Me and my mom were cracking up when we were removing it, and for the next two days, it just kept getting more and more drastic. At one point, my whole heel basically was falling off. I was like, what the heck? I felt like a snake shedding all of its old skin. But at the end of it, I ended up having the softest feet ever. My callus was completely smooth as well as my heels. I am obsessed.\"},\n",
       " {'filename': 'tiktoks/6982377509648092421_heartdefensor_1625711455.mp4',\n",
       "  'duration': 10,\n",
       "  'transcription': \" I hope you're happy but don't be happier But I still want you\"},\n",
       " {'filename': 'tiktoks/7366659432610024747_glenxda_1715184076.mp4',\n",
       "  'duration': 61,\n",
       "  'transcription': ' 1 teaspoon of salt. 1 teaspoon of salt. 1 teaspoon of salt. 1 teaspoon of salt. 1 teaspoon of salt. 1 teaspoon of salt. 1 teaspoon of salt. 1 teaspoon of salt. 1 teaspoon of salt. 1 teaspoon of salt. 1 teaspoon of salt. 1 teaspoon of salt. 1 teaspoon of salt. 1 teaspoon of salt. If you do not have Kartabbuilding prep you may use less cream. punch ice noodles into uncomfortable Velcro Some f Recover safely during Puerto Rico Yeah.'},\n",
       " {'filename': 'tiktoks/7064010203603356975_heartdefensor_1644718043.mp4',\n",
       "  'duration': 29,\n",
       "  'transcription': \" 1 acidic apple chauvigna 1 cup burnedches Haha I lose myuh 1 Patient's badge 2 ounces of de letsoud 1 cup redevelopment Put Hatfield'slaughsre Taylor\"},\n",
       " {'filename': 'tiktoks/6813091851957046534_layallure_1586296564.mp4',\n",
       "  'duration': 59,\n",
       "  'transcription': \" Hey, so let me take it. Stop! This is a diffuser. You just put some water and an essential oil of your choice. I put lavender in mine and it makes my car smell like lavender. I also got these. They light up your drink. Got this really cool thing for extra storage. It comes in a pack of two. You just stick it in the side of your seat. It has this cord you plug in so that you can utilize these USB outlets. I love that it has an extra cup holder. I just put my hand sanitizer in there for now, my keys. And I got this trash can for my little wrappers. I also got this trash can for the back seat. I just hook it onto this. And there you go. This is a USB starlight for your car. No espeño. I'm trying to say no. This hook for your bag so it's not sitting in someone's lap. Goes like that, just like that. And the tissue holders literally change my life. This cute little guy said I don't have to take my phone case off so you can fit your pop socket in here. I'm really not sure why I got this, but it smells like cotton candy.\"},\n",
       " {'filename': 'tiktoks/7203167401305754886_its_jabent_1677118108.mp4',\n",
       "  'duration': 10,\n",
       "  'transcription': \" So I've got this heating pad for my cramps. But I think he is enjoying it a little bit more.\"},\n",
       " {'filename': 'tiktoks/7232370620837727530_natalies.smith_1683917536.mp4',\n",
       "  'duration': 37,\n",
       "  'transcription': ' Feel like sun on my skin This is love, I know it is I know it sounds super cliche But you make me feel some type of way This is falling, falling in love'},\n",
       " {'filename': 'tiktoks/7040173254186634501_lucymassad_1639168071.mp4',\n",
       "  'duration': 50,\n",
       "  'transcription': \" Things from Amazon that are unnecessary, but I just love part two. So my apartment did not come with a dishwasher and doing the dishes very quickly became the absolute bane of my existence. This is my dirty cup. I wanted to show a before I had an espresso in there. And then for one person, it does hold a solid amount of dishes, but the most important part for me was you don't have to hook it up to water. I would have no clue how to do that. It comes with a jug. Also comes with a hose and a suction cup. Stick that shit into your sink, man. Look at that steamy water. We getting steamy. And then, ah, chef's kiss. It's so satisfying to watch. You really can't put a price on laziness because look how clean. To me, worth it.\"},\n",
       " {'filename': 'tiktoks/7143391067323387182_nalae.co_1663200354.mp4',\n",
       "  'duration': 33,\n",
       "  'transcription': ' When people ask me why I have 9 different types of ice cubes'},\n",
       " {'filename': 'tiktoks/6834331690282831110_toponlinefinds_1591241851.mp4',\n",
       "  'duration': 55,\n",
       "  'transcription': \" Five bathroom items you didn't know you needed. First is this dual toothpaste dispenser that's pretty cool. It holds your brushes and you just push through on this lever and it pushes the toothpaste right out onto your toothbrush. And it can hold up to five brushes unless they're electric. Then it holds a little bit less. It also comes with four cups, two on the bottom and two on the top. I've seen this foot scrubber a few times on TikTok, so really wanted to try it and let me tell you, it worked wonders for my feet, made them super soft and just exfoliated them really well. We all know the struggle of running low on toothpaste and trying to use every last bit in the tube. So this device you can just twist and it squeezes all the toothpaste right out. I am obsessed with this shampoo, conditioner and shower gel dispenser that you can just mount on your wall. And lastly, this silicone mat that suctions to your wall and exfoliates your entire body.\"},\n",
       " {'filename': 'tiktoks/7228957130441755931_herios.co.uk_1683122749.mp4',\n",
       "  'duration': 16,\n",
       "  'transcription': ' Thank you.'},\n",
       " {'filename': 'tiktoks/7158944713012251950_teachingwithmsd_1666821715.mp4',\n",
       "  'duration': 63,\n",
       "  'transcription': ' Thank you.'},\n",
       " {'filename': 'tiktoks/7118086870155971886_kaelimaee_1657308751.mp4',\n",
       "  'duration': 75,\n",
       "  'transcription': ' Ben Ben Ben Ben Ben Okay'},\n",
       " {'filename': 'tiktoks/7236885066616442155_bordanjillings_1684968615.mp4',\n",
       "  'duration': 48,\n",
       "  'transcription': \" I bought a new chair. It will be the death of me, I think, because now I can lay here and read my fanfiction. No, I will not be telling you what fanfiction I'm reading. That's private. And I swear I've only been out here for 10 minutes. Did I look at the clock? I've been out here for 20 minutes. Not that bad. I came out here with a literal full thing of margarita and I was reading and I went, it's empty. I look at the time. 20 minutes. A large ass margarita. Gone. It's not even summer yet. I'm just test driving this chair. I'm gonna be shitfaced on all my days off this summer.\"}]"
      ]
     },
     "execution_count": 58,
     "metadata": {},
     "output_type": "execute_result"
    }
   ],
   "source": [
    "tiktok_data"
   ]
  },
  {
   "cell_type": "code",
   "execution_count": 59,
   "metadata": {},
   "outputs": [],
   "source": [
    "tiktok_data_2 = tiktok_data"
   ]
  },
  {
   "cell_type": "code",
   "execution_count": 61,
   "metadata": {},
   "outputs": [],
   "source": [
    "for file in tiktok_data_2:\n",
    "    #from filename, extract id number, which is after '/' and before the first '_'\n",
    "    file['id'] = file['filename'].split('/')[1].split('_')[0]\n",
    "    #from filename, extract username, which is after the first '_' and before the second '_'\n",
    "    file['username'] = file['filename'].split('/')[1].split('_')[1]"
   ]
  },
  {
   "cell_type": "code",
   "execution_count": 62,
   "metadata": {},
   "outputs": [
    {
     "data": {
      "text/plain": [
       "[{'filename': 'tiktoks/6899609374478601474_mik.zenon_1606440495.mp4',\n",
       "  'duration': 23,\n",
       "  'transcription': \" Amazon products you need or don't, this could be a driving game changer. This is a panoramic anti-glare rear view mirror that entirely eliminates your blind spots while driving. Here's the view for a typical mirror, and here's the wide lens view where you see both blind spots. It easily clips onto your existing mirror, and it has an additional nighttime anti-glare feature to reduce the strength of those glaring lights. So this is something you need or don't need.\",\n",
       "  'id': '6899609374478601474',\n",
       "  'username': 'mik.zenon'},\n",
       " {'filename': 'tiktoks/7259505958118853931_justicebuys_1690235458.mp4',\n",
       "  'duration': 65,\n",
       "  'transcription': \" Top 15 Amazon products for this month. This is a human-sized dog bed that comes with its own blanket and it's machine washable so it's easy to clean. This is a trolley dolly which makes it easy to roll heavy items up the stairs. This is a smart trash can that automatically seals the bag when it's full and when it's done it replaces the bag by itself. This is a latte pen that lets you draw meaningful designs on any type of drink. This sign sticks on any type of car window and allows you to communicate with other drivers on the road. This is a fake rock with a secret compartment where you can hide your house keys so no one can find them. These are disposable air fireplace. You never have to wash the inside of your air fryer ever again. This pot can plug into an outlet so you can cook any type of food from your bed. These are mess-free nail clippers. They store the clippings inside a compartment so they're easy to throw out. This is a Bluetooth scroller that lets you swipe through TikToks without even touching your phone. These are reusable straws that come apart when it's time to clean them and once you're done you can connect it back together. This is a car mirror that snaps onto your existing one and it lets you see both of your blind spots. This is a sapoon which has a notch on the side of it so you don't get your counter dirty when you set it down. This is a sink topper which gives you more counter space in your bathroom which is perfect for small apartments. This is a wireless water dispenser that you put by your bed. It lets you choose the amount of water and then it fills up automatically.\",\n",
       "  'id': '7259505958118853931',\n",
       "  'username': 'justicebuys'},\n",
       " {'filename': 'tiktoks/6975940059858046214_lopwert_1624212617.mp4',\n",
       "  'duration': 59,\n",
       "  'transcription': \" I bought the world's smallest phone so you don't have to. So apparently this is the world's smallest phone. Let's see if it really is. So this was rated literally the world's smallest phone on Amazon. Apparently it's teeny tiny, teeny tiny. Hahahaha! Look at it! That is a working mobile phone. Here it is next to my finger. It's called the Zanaco. The micro SD card goes in there. Let's turn it on. Look, it comes with a teeny tiny little case. Boop! So it doesn't come charged but it does actually work. There you go. It's charging. I'm going to let it. And that's the smallest phone in the world. Hello?\",\n",
       "  'id': '6975940059858046214',\n",
       "  'username': 'lopwert'},\n",
       " {'filename': 'tiktoks/6961907699927747845_stuffyouactuallyneed_1620945455.mp4',\n",
       "  'duration': 16,\n",
       "  'transcription': \" My side of the bed. Add a little bit of spice. My wife's side of the bed.\",\n",
       "  'id': '6961907699927747845',\n",
       "  'username': 'stuffyouactuallyneed'},\n",
       " {'filename': 'tiktoks/7147698077808282923_makeupbypita_1664203169.mp4',\n",
       "  'duration': 40,\n",
       "  'transcription': \" I've waited a hundred years And I'd wait a million more for you Nothing prepared me for What the privilege of being yours would do If I had only felt the world\",\n",
       "  'id': '7147698077808282923',\n",
       "  'username': 'makeupbypita'},\n",
       " {'filename': 'tiktoks/7257908886840167726_emburnette_1689863609.mp4',\n",
       "  'duration': 60,\n",
       "  'transcription': ' Talk to it talk to it Bubba Bubba? Talk to it maniac',\n",
       "  'id': '7257908886840167726',\n",
       "  'username': 'emburnette'},\n",
       " {'filename': 'tiktoks/7350801361019096362_claugonzalez_official_1711491837.mp4',\n",
       "  'duration': 63,\n",
       "  'transcription': ' I want to dedicate a',\n",
       "  'id': '7350801361019096362',\n",
       "  'username': 'claugonzalez'},\n",
       " {'filename': 'tiktoks/7212769061460184366_andreja.elena_1679353674.mp4',\n",
       "  'duration': 11,\n",
       "  'transcription': ' Hold me close and hold me fast This magic spell is what it feels like',\n",
       "  'id': '7212769061460184366',\n",
       "  'username': 'andreja.elena'},\n",
       " {'filename': 'tiktoks/6897636451849112838_teresalauracaruso_1605981174.mp4',\n",
       "  'duration': 17,\n",
       "  'transcription': ' Random Amazon gadgets you need. This little device is actually a laser keyboard. When you turn it on, it projects a keyboard that actually works on any surface that you want. Once you connect it, you can type on it just like you would an ordinary keyboard. It connects to your phone, tablet, or any other Bluetooth device, and I love how small and portable it is for working on the go.',\n",
       "  'id': '6897636451849112838',\n",
       "  'username': 'teresalauracaruso'},\n",
       " {'filename': 'tiktoks/7144832760090217771_gabriela.vlogs_1663536023.mp4',\n",
       "  'duration': 60,\n",
       "  'transcription': \" You are my sunshine, my only sunshine You make me happy when skies are gray You'll never know dear, how much I love you Please don't take my sunshine away The other night dear, as I lay sleeping I dreamed I held you in my arms When I awoke dear, I was mistaken So I hung my head and cried You are my sunshine, my only sunshine\",\n",
       "  'id': '7144832760090217771',\n",
       "  'username': 'gabriela.vlogs'},\n",
       " {'filename': 'tiktoks/6975329213779954950_heartdefensor_1624070395.mp4',\n",
       "  'duration': 18,\n",
       "  'transcription': ' a I',\n",
       "  'id': '6975329213779954950',\n",
       "  'username': 'heartdefensor'},\n",
       " {'filename': 'tiktoks/7058546692563455234__tusya_kiskis_1643445970.mp4',\n",
       "  'duration': 18,\n",
       "  'transcription': ' Thanks for watching.',\n",
       "  'id': '7058546692563455234',\n",
       "  'username': ''},\n",
       " {'filename': 'tiktoks/7220139400783465733_eny4a_1681069706.mp4',\n",
       "  'duration': 40,\n",
       "  'transcription': \" Especially in the bathroom, you've got water on the floor, you've got the spinach, or you've got a wet room. The quality of moppets you get is a top-of-the-range mop set. Hair, dust, liquid. To dry the floor, you don't have to wait for floors to dry. The mop heads are so thick and long. Corners, skirting. Oh, wow. Absolute crowd floor.\",\n",
       "  'id': '7220139400783465733',\n",
       "  'username': 'eny4a'},\n",
       " {'filename': 'tiktoks/7049930660726983983_simplysalfinds_1641439895.mp4',\n",
       "  'duration': 26,\n",
       "  'transcription': \" Trying out 100 TikTok viral products to see if they're cap or they slap. Part 17. I saw a video that got over 5 million likes on this crazy shower head and I had to try it out. It's supposed to be the biggest one on the market and has over 270 nozzles to give you a rainfall shower experience. The install took only a minute and all I did was remove the existing shower head and screw it on the new one. When I turned the water on, the acrylic chamber filled up quickly and in a matter of seconds, my shower turned into a spa. I think this definitely slaps.\",\n",
       "  'id': '7049930660726983983',\n",
       "  'username': 'simplysalfinds'},\n",
       " {'filename': 'tiktoks/6993401583690206470_chateaublanche_1628278193.mp4',\n",
       "  'duration': 19,\n",
       "  'transcription': \" Hey yo, rich cat check! Meow meow meow meow! Meow meow meow meow meow! Meow meow meow meow meow! Meow meow meow meow meow! Meow meow meow meow meow meow! I am spoiled kitty! I'm a kitty who takes everything for granted! I love you dog!\",\n",
       "  'id': '6993401583690206470',\n",
       "  'username': 'chateaublanche'},\n",
       " {'filename': 'tiktoks/7231254478421282074_tobesfinds_1683657643.mp4',\n",
       "  'duration': 71,\n",
       "  'transcription': \" 10 useful Amazon products I've bought this year. This is a seat gap filler for your car, which slides over your seat belt and stops things from falling down the gap. This is an electric lighter which allows you to light candles without burning your thumb. It uses no gas or fuel and it's rechargeable, meaning it lasts forever and you won't have to keep buying new lighters. This is a thin ice tray which makes ice cubes that can fit into any size bottle, allowing you to keep your drink cold wherever you are. You can even use them in your beer. This is a thermal printer which allows you to print things without using any ink. It uses thermal technology to print on the special paper, saving you money in the long run. These are silicone stretch lids which turn any dish into a Tupperware container. Just stretch them over your food and they keep your food fresher for longer. This is a push whisk which allows you to mix things together by just pushing up and down. This is a mattress gap filler which stops your pillows from sinking down the gap. It makes your bed look more aesthetic and gives you a more comfortable sleep. This is a garlic crusher which crushes garlic super easily and has a built-in wiper blade to remove the excess. This is a handheld vacuum which sucks and blows to clean small messes around the house, on your desk and even in your car. This product can hold your toothbrush on the mirror, keys by the door, raise it in the shower, pen on the fridge and can even stop your charging cable from falling behind your desk.\",\n",
       "  'id': '7231254478421282074',\n",
       "  'username': 'tobesfinds'},\n",
       " {'filename': 'tiktoks/7286126097421405483_glenxda_1696433451.mp4',\n",
       "  'duration': 25,\n",
       "  'transcription': ' Thanks for watching!',\n",
       "  'id': '7286126097421405483',\n",
       "  'username': 'glenxda'},\n",
       " {'filename': 'tiktoks/7178967057709550849_kunchaaiii_1671483541.mp4',\n",
       "  'duration': 7,\n",
       "  'transcription': ' Wow! Well, this is going to be my personality for the rest of my life.',\n",
       "  'id': '7178967057709550849',\n",
       "  'username': 'kunchaaiii'},\n",
       " {'filename': 'tiktoks/7347444193515818286_whisperfillies_1710710188.mp4',\n",
       "  'duration': 25,\n",
       "  'transcription': \" Hi, you are currently being recorded. Hi. I currently don't care because I'm Amazon! Amazon! FedEx don't look like this. FedEx ain't built like this.\",\n",
       "  'id': '7347444193515818286',\n",
       "  'username': 'whisperfillies'},\n",
       " {'filename': 'tiktoks/7027448660333956357_garrisonmeek_1636205396.mp4',\n",
       "  'duration': 10,\n",
       "  'transcription': ' Guys!',\n",
       "  'id': '7027448660333956357',\n",
       "  'username': 'garrisonmeek'},\n",
       " {'filename': 'tiktoks/6860299083349806341_heartdefensor_1597287859.mp4',\n",
       "  'duration': 10,\n",
       "  'transcription': \" I don't know if you can take it No, you wanna see me naked naked naked I wanna be a baby, baby Spitting in his bed just like he gave me from 8ix\",\n",
       "  'id': '6860299083349806341',\n",
       "  'username': 'heartdefensor'},\n",
       " {'filename': 'tiktoks/6890346072661626117_arianalucidonio_1604283744.mp4',\n",
       "  'duration': 58,\n",
       "  'transcription': \" Warning you now, my whole foot basically peels off in this video, so if that grosses you out, keep scrolling, but if not, please keep watching. This is a foot peel mask by Planafique. It's a number one best seller on Amazon. Now as you can see, I have really dry heels as well as a huge callus on my big toe that is extremely stubborn. So I soaked my feet for about 15 minutes and put on these booties for 90, and I chilled with some socks on. It really wasn't too uncomfortable, and then I washed off all of the residue. It took about 3-4 days to see any type of peeling, but once it started, it did not stop. I basically had webbed feet. Me and my mom were cracking up when we were removing it, and for the next two days, it just kept getting more and more drastic. At one point, my whole heel basically was falling off. I was like, what the heck? I felt like a snake shedding all of its old skin. But at the end of it, I ended up having the softest feet ever. My callus was completely smooth as well as my heels. I am obsessed.\",\n",
       "  'id': '6890346072661626117',\n",
       "  'username': 'arianalucidonio'},\n",
       " {'filename': 'tiktoks/6982377509648092421_heartdefensor_1625711455.mp4',\n",
       "  'duration': 10,\n",
       "  'transcription': \" I hope you're happy but don't be happier But I still want you\",\n",
       "  'id': '6982377509648092421',\n",
       "  'username': 'heartdefensor'},\n",
       " {'filename': 'tiktoks/7366659432610024747_glenxda_1715184076.mp4',\n",
       "  'duration': 61,\n",
       "  'transcription': ' 1 teaspoon of salt. 1 teaspoon of salt. 1 teaspoon of salt. 1 teaspoon of salt. 1 teaspoon of salt. 1 teaspoon of salt. 1 teaspoon of salt. 1 teaspoon of salt. 1 teaspoon of salt. 1 teaspoon of salt. 1 teaspoon of salt. 1 teaspoon of salt. 1 teaspoon of salt. 1 teaspoon of salt. If you do not have Kartabbuilding prep you may use less cream. punch ice noodles into uncomfortable Velcro Some f Recover safely during Puerto Rico Yeah.',\n",
       "  'id': '7366659432610024747',\n",
       "  'username': 'glenxda'},\n",
       " {'filename': 'tiktoks/7064010203603356975_heartdefensor_1644718043.mp4',\n",
       "  'duration': 29,\n",
       "  'transcription': \" 1 acidic apple chauvigna 1 cup burnedches Haha I lose myuh 1 Patient's badge 2 ounces of de letsoud 1 cup redevelopment Put Hatfield'slaughsre Taylor\",\n",
       "  'id': '7064010203603356975',\n",
       "  'username': 'heartdefensor'},\n",
       " {'filename': 'tiktoks/6813091851957046534_layallure_1586296564.mp4',\n",
       "  'duration': 59,\n",
       "  'transcription': \" Hey, so let me take it. Stop! This is a diffuser. You just put some water and an essential oil of your choice. I put lavender in mine and it makes my car smell like lavender. I also got these. They light up your drink. Got this really cool thing for extra storage. It comes in a pack of two. You just stick it in the side of your seat. It has this cord you plug in so that you can utilize these USB outlets. I love that it has an extra cup holder. I just put my hand sanitizer in there for now, my keys. And I got this trash can for my little wrappers. I also got this trash can for the back seat. I just hook it onto this. And there you go. This is a USB starlight for your car. No espeño. I'm trying to say no. This hook for your bag so it's not sitting in someone's lap. Goes like that, just like that. And the tissue holders literally change my life. This cute little guy said I don't have to take my phone case off so you can fit your pop socket in here. I'm really not sure why I got this, but it smells like cotton candy.\",\n",
       "  'id': '6813091851957046534',\n",
       "  'username': 'layallure'},\n",
       " {'filename': 'tiktoks/7203167401305754886_its_jabent_1677118108.mp4',\n",
       "  'duration': 10,\n",
       "  'transcription': \" So I've got this heating pad for my cramps. But I think he is enjoying it a little bit more.\",\n",
       "  'id': '7203167401305754886',\n",
       "  'username': 'its'},\n",
       " {'filename': 'tiktoks/7232370620837727530_natalies.smith_1683917536.mp4',\n",
       "  'duration': 37,\n",
       "  'transcription': ' Feel like sun on my skin This is love, I know it is I know it sounds super cliche But you make me feel some type of way This is falling, falling in love',\n",
       "  'id': '7232370620837727530',\n",
       "  'username': 'natalies.smith'},\n",
       " {'filename': 'tiktoks/7040173254186634501_lucymassad_1639168071.mp4',\n",
       "  'duration': 50,\n",
       "  'transcription': \" Things from Amazon that are unnecessary, but I just love part two. So my apartment did not come with a dishwasher and doing the dishes very quickly became the absolute bane of my existence. This is my dirty cup. I wanted to show a before I had an espresso in there. And then for one person, it does hold a solid amount of dishes, but the most important part for me was you don't have to hook it up to water. I would have no clue how to do that. It comes with a jug. Also comes with a hose and a suction cup. Stick that shit into your sink, man. Look at that steamy water. We getting steamy. And then, ah, chef's kiss. It's so satisfying to watch. You really can't put a price on laziness because look how clean. To me, worth it.\",\n",
       "  'id': '7040173254186634501',\n",
       "  'username': 'lucymassad'},\n",
       " {'filename': 'tiktoks/7143391067323387182_nalae.co_1663200354.mp4',\n",
       "  'duration': 33,\n",
       "  'transcription': ' When people ask me why I have 9 different types of ice cubes',\n",
       "  'id': '7143391067323387182',\n",
       "  'username': 'nalae.co'},\n",
       " {'filename': 'tiktoks/6834331690282831110_toponlinefinds_1591241851.mp4',\n",
       "  'duration': 55,\n",
       "  'transcription': \" Five bathroom items you didn't know you needed. First is this dual toothpaste dispenser that's pretty cool. It holds your brushes and you just push through on this lever and it pushes the toothpaste right out onto your toothbrush. And it can hold up to five brushes unless they're electric. Then it holds a little bit less. It also comes with four cups, two on the bottom and two on the top. I've seen this foot scrubber a few times on TikTok, so really wanted to try it and let me tell you, it worked wonders for my feet, made them super soft and just exfoliated them really well. We all know the struggle of running low on toothpaste and trying to use every last bit in the tube. So this device you can just twist and it squeezes all the toothpaste right out. I am obsessed with this shampoo, conditioner and shower gel dispenser that you can just mount on your wall. And lastly, this silicone mat that suctions to your wall and exfoliates your entire body.\",\n",
       "  'id': '6834331690282831110',\n",
       "  'username': 'toponlinefinds'},\n",
       " {'filename': 'tiktoks/7228957130441755931_herios.co.uk_1683122749.mp4',\n",
       "  'duration': 16,\n",
       "  'transcription': ' Thank you.',\n",
       "  'id': '7228957130441755931',\n",
       "  'username': 'herios.co.uk'},\n",
       " {'filename': 'tiktoks/7158944713012251950_teachingwithmsd_1666821715.mp4',\n",
       "  'duration': 63,\n",
       "  'transcription': ' Thank you.',\n",
       "  'id': '7158944713012251950',\n",
       "  'username': 'teachingwithmsd'},\n",
       " {'filename': 'tiktoks/7118086870155971886_kaelimaee_1657308751.mp4',\n",
       "  'duration': 75,\n",
       "  'transcription': ' Ben Ben Ben Ben Ben Okay',\n",
       "  'id': '7118086870155971886',\n",
       "  'username': 'kaelimaee'},\n",
       " {'filename': 'tiktoks/7236885066616442155_bordanjillings_1684968615.mp4',\n",
       "  'duration': 48,\n",
       "  'transcription': \" I bought a new chair. It will be the death of me, I think, because now I can lay here and read my fanfiction. No, I will not be telling you what fanfiction I'm reading. That's private. And I swear I've only been out here for 10 minutes. Did I look at the clock? I've been out here for 20 minutes. Not that bad. I came out here with a literal full thing of margarita and I was reading and I went, it's empty. I look at the time. 20 minutes. A large ass margarita. Gone. It's not even summer yet. I'm just test driving this chair. I'm gonna be shitfaced on all my days off this summer.\",\n",
       "  'id': '7236885066616442155',\n",
       "  'username': 'bordanjillings'}]"
      ]
     },
     "execution_count": 62,
     "metadata": {},
     "output_type": "execute_result"
    }
   ],
   "source": [
    "tiktok_data_2"
   ]
  },
  {
   "cell_type": "code",
   "execution_count": 65,
   "metadata": {},
   "outputs": [],
   "source": [
    "for file in tiktok_data_2:\n",
    "    file['wpm'] = len(file['transcription'].split()) / file['duration'] * 60"
   ]
  },
  {
   "cell_type": "code",
   "execution_count": 66,
   "metadata": {},
   "outputs": [
    {
     "data": {
      "text/plain": [
       "[{'filename': 'tiktoks/6899609374478601474_mik.zenon_1606440495.mp4',\n",
       "  'duration': 23,\n",
       "  'transcription': \" Amazon products you need or don't, this could be a driving game changer. This is a panoramic anti-glare rear view mirror that entirely eliminates your blind spots while driving. Here's the view for a typical mirror, and here's the wide lens view where you see both blind spots. It easily clips onto your existing mirror, and it has an additional nighttime anti-glare feature to reduce the strength of those glaring lights. So this is something you need or don't need.\",\n",
       "  'id': '6899609374478601474',\n",
       "  'username': 'mik.zenon',\n",
       "  'wpm': 208.69565217391303},\n",
       " {'filename': 'tiktoks/7259505958118853931_justicebuys_1690235458.mp4',\n",
       "  'duration': 65,\n",
       "  'transcription': \" Top 15 Amazon products for this month. This is a human-sized dog bed that comes with its own blanket and it's machine washable so it's easy to clean. This is a trolley dolly which makes it easy to roll heavy items up the stairs. This is a smart trash can that automatically seals the bag when it's full and when it's done it replaces the bag by itself. This is a latte pen that lets you draw meaningful designs on any type of drink. This sign sticks on any type of car window and allows you to communicate with other drivers on the road. This is a fake rock with a secret compartment where you can hide your house keys so no one can find them. These are disposable air fireplace. You never have to wash the inside of your air fryer ever again. This pot can plug into an outlet so you can cook any type of food from your bed. These are mess-free nail clippers. They store the clippings inside a compartment so they're easy to throw out. This is a Bluetooth scroller that lets you swipe through TikToks without even touching your phone. These are reusable straws that come apart when it's time to clean them and once you're done you can connect it back together. This is a car mirror that snaps onto your existing one and it lets you see both of your blind spots. This is a sapoon which has a notch on the side of it so you don't get your counter dirty when you set it down. This is a sink topper which gives you more counter space in your bathroom which is perfect for small apartments. This is a wireless water dispenser that you put by your bed. It lets you choose the amount of water and then it fills up automatically.\",\n",
       "  'id': '7259505958118853931',\n",
       "  'username': 'justicebuys',\n",
       "  'wpm': 287.0769230769231},\n",
       " {'filename': 'tiktoks/6975940059858046214_lopwert_1624212617.mp4',\n",
       "  'duration': 59,\n",
       "  'transcription': \" I bought the world's smallest phone so you don't have to. So apparently this is the world's smallest phone. Let's see if it really is. So this was rated literally the world's smallest phone on Amazon. Apparently it's teeny tiny, teeny tiny. Hahahaha! Look at it! That is a working mobile phone. Here it is next to my finger. It's called the Zanaco. The micro SD card goes in there. Let's turn it on. Look, it comes with a teeny tiny little case. Boop! So it doesn't come charged but it does actually work. There you go. It's charging. I'm going to let it. And that's the smallest phone in the world. Hello?\",\n",
       "  'id': '6975940059858046214',\n",
       "  'username': 'lopwert',\n",
       "  'wpm': 114.91525423728814},\n",
       " {'filename': 'tiktoks/6961907699927747845_stuffyouactuallyneed_1620945455.mp4',\n",
       "  'duration': 16,\n",
       "  'transcription': \" My side of the bed. Add a little bit of spice. My wife's side of the bed.\",\n",
       "  'id': '6961907699927747845',\n",
       "  'username': 'stuffyouactuallyneed',\n",
       "  'wpm': 63.75},\n",
       " {'filename': 'tiktoks/7147698077808282923_makeupbypita_1664203169.mp4',\n",
       "  'duration': 40,\n",
       "  'transcription': \" I've waited a hundred years And I'd wait a million more for you Nothing prepared me for What the privilege of being yours would do If I had only felt the world\",\n",
       "  'id': '7147698077808282923',\n",
       "  'username': 'makeupbypita',\n",
       "  'wpm': 48.0},\n",
       " {'filename': 'tiktoks/7257908886840167726_emburnette_1689863609.mp4',\n",
       "  'duration': 60,\n",
       "  'transcription': ' Talk to it talk to it Bubba Bubba? Talk to it maniac',\n",
       "  'id': '7257908886840167726',\n",
       "  'username': 'emburnette',\n",
       "  'wpm': 12.0},\n",
       " {'filename': 'tiktoks/7350801361019096362_claugonzalez_official_1711491837.mp4',\n",
       "  'duration': 63,\n",
       "  'transcription': ' I want to dedicate a',\n",
       "  'id': '7350801361019096362',\n",
       "  'username': 'claugonzalez',\n",
       "  'wpm': 4.761904761904762},\n",
       " {'filename': 'tiktoks/7212769061460184366_andreja.elena_1679353674.mp4',\n",
       "  'duration': 11,\n",
       "  'transcription': ' Hold me close and hold me fast This magic spell is what it feels like',\n",
       "  'id': '7212769061460184366',\n",
       "  'username': 'andreja.elena',\n",
       "  'wpm': 81.81818181818181},\n",
       " {'filename': 'tiktoks/6897636451849112838_teresalauracaruso_1605981174.mp4',\n",
       "  'duration': 17,\n",
       "  'transcription': ' Random Amazon gadgets you need. This little device is actually a laser keyboard. When you turn it on, it projects a keyboard that actually works on any surface that you want. Once you connect it, you can type on it just like you would an ordinary keyboard. It connects to your phone, tablet, or any other Bluetooth device, and I love how small and portable it is for working on the go.',\n",
       "  'id': '6897636451849112838',\n",
       "  'username': 'teresalauracaruso',\n",
       "  'wpm': 254.11764705882354},\n",
       " {'filename': 'tiktoks/7144832760090217771_gabriela.vlogs_1663536023.mp4',\n",
       "  'duration': 60,\n",
       "  'transcription': \" You are my sunshine, my only sunshine You make me happy when skies are gray You'll never know dear, how much I love you Please don't take my sunshine away The other night dear, as I lay sleeping I dreamed I held you in my arms When I awoke dear, I was mistaken So I hung my head and cried You are my sunshine, my only sunshine\",\n",
       "  'id': '7144832760090217771',\n",
       "  'username': 'gabriela.vlogs',\n",
       "  'wpm': 67.0},\n",
       " {'filename': 'tiktoks/6975329213779954950_heartdefensor_1624070395.mp4',\n",
       "  'duration': 18,\n",
       "  'transcription': ' a I',\n",
       "  'id': '6975329213779954950',\n",
       "  'username': 'heartdefensor',\n",
       "  'wpm': 6.666666666666666},\n",
       " {'filename': 'tiktoks/7058546692563455234__tusya_kiskis_1643445970.mp4',\n",
       "  'duration': 18,\n",
       "  'transcription': ' Thanks for watching.',\n",
       "  'id': '7058546692563455234',\n",
       "  'username': '',\n",
       "  'wpm': 10.0},\n",
       " {'filename': 'tiktoks/7220139400783465733_eny4a_1681069706.mp4',\n",
       "  'duration': 40,\n",
       "  'transcription': \" Especially in the bathroom, you've got water on the floor, you've got the spinach, or you've got a wet room. The quality of moppets you get is a top-of-the-range mop set. Hair, dust, liquid. To dry the floor, you don't have to wait for floors to dry. The mop heads are so thick and long. Corners, skirting. Oh, wow. Absolute crowd floor.\",\n",
       "  'id': '7220139400783465733',\n",
       "  'username': 'eny4a',\n",
       "  'wpm': 93.0},\n",
       " {'filename': 'tiktoks/7049930660726983983_simplysalfinds_1641439895.mp4',\n",
       "  'duration': 26,\n",
       "  'transcription': \" Trying out 100 TikTok viral products to see if they're cap or they slap. Part 17. I saw a video that got over 5 million likes on this crazy shower head and I had to try it out. It's supposed to be the biggest one on the market and has over 270 nozzles to give you a rainfall shower experience. The install took only a minute and all I did was remove the existing shower head and screw it on the new one. When I turned the water on, the acrylic chamber filled up quickly and in a matter of seconds, my shower turned into a spa. I think this definitely slaps.\",\n",
       "  'id': '7049930660726983983',\n",
       "  'username': 'simplysalfinds',\n",
       "  'wpm': 258.46153846153845},\n",
       " {'filename': 'tiktoks/6993401583690206470_chateaublanche_1628278193.mp4',\n",
       "  'duration': 19,\n",
       "  'transcription': \" Hey yo, rich cat check! Meow meow meow meow! Meow meow meow meow meow! Meow meow meow meow meow! Meow meow meow meow meow! Meow meow meow meow meow meow! I am spoiled kitty! I'm a kitty who takes everything for granted! I love you dog!\",\n",
       "  'id': '6993401583690206470',\n",
       "  'username': 'chateaublanche',\n",
       "  'wpm': 145.26315789473685},\n",
       " {'filename': 'tiktoks/7231254478421282074_tobesfinds_1683657643.mp4',\n",
       "  'duration': 71,\n",
       "  'transcription': \" 10 useful Amazon products I've bought this year. This is a seat gap filler for your car, which slides over your seat belt and stops things from falling down the gap. This is an electric lighter which allows you to light candles without burning your thumb. It uses no gas or fuel and it's rechargeable, meaning it lasts forever and you won't have to keep buying new lighters. This is a thin ice tray which makes ice cubes that can fit into any size bottle, allowing you to keep your drink cold wherever you are. You can even use them in your beer. This is a thermal printer which allows you to print things without using any ink. It uses thermal technology to print on the special paper, saving you money in the long run. These are silicone stretch lids which turn any dish into a Tupperware container. Just stretch them over your food and they keep your food fresher for longer. This is a push whisk which allows you to mix things together by just pushing up and down. This is a mattress gap filler which stops your pillows from sinking down the gap. It makes your bed look more aesthetic and gives you a more comfortable sleep. This is a garlic crusher which crushes garlic super easily and has a built-in wiper blade to remove the excess. This is a handheld vacuum which sucks and blows to clean small messes around the house, on your desk and even in your car. This product can hold your toothbrush on the mirror, keys by the door, raise it in the shower, pen on the fridge and can even stop your charging cable from falling behind your desk.\",\n",
       "  'id': '7231254478421282074',\n",
       "  'username': 'tobesfinds',\n",
       "  'wpm': 242.53521126760566},\n",
       " {'filename': 'tiktoks/7286126097421405483_glenxda_1696433451.mp4',\n",
       "  'duration': 25,\n",
       "  'transcription': ' Thanks for watching!',\n",
       "  'id': '7286126097421405483',\n",
       "  'username': 'glenxda',\n",
       "  'wpm': 7.199999999999999},\n",
       " {'filename': 'tiktoks/7178967057709550849_kunchaaiii_1671483541.mp4',\n",
       "  'duration': 7,\n",
       "  'transcription': ' Wow! Well, this is going to be my personality for the rest of my life.',\n",
       "  'id': '7178967057709550849',\n",
       "  'username': 'kunchaaiii',\n",
       "  'wpm': 128.57142857142856},\n",
       " {'filename': 'tiktoks/7347444193515818286_whisperfillies_1710710188.mp4',\n",
       "  'duration': 25,\n",
       "  'transcription': \" Hi, you are currently being recorded. Hi. I currently don't care because I'm Amazon! Amazon! FedEx don't look like this. FedEx ain't built like this.\",\n",
       "  'id': '7347444193515818286',\n",
       "  'username': 'whisperfillies',\n",
       "  'wpm': 60.0},\n",
       " {'filename': 'tiktoks/7027448660333956357_garrisonmeek_1636205396.mp4',\n",
       "  'duration': 10,\n",
       "  'transcription': ' Guys!',\n",
       "  'id': '7027448660333956357',\n",
       "  'username': 'garrisonmeek',\n",
       "  'wpm': 6.0},\n",
       " {'filename': 'tiktoks/6860299083349806341_heartdefensor_1597287859.mp4',\n",
       "  'duration': 10,\n",
       "  'transcription': \" I don't know if you can take it No, you wanna see me naked naked naked I wanna be a baby, baby Spitting in his bed just like he gave me from 8ix\",\n",
       "  'id': '6860299083349806341',\n",
       "  'username': 'heartdefensor',\n",
       "  'wpm': 198.0},\n",
       " {'filename': 'tiktoks/6890346072661626117_arianalucidonio_1604283744.mp4',\n",
       "  'duration': 58,\n",
       "  'transcription': \" Warning you now, my whole foot basically peels off in this video, so if that grosses you out, keep scrolling, but if not, please keep watching. This is a foot peel mask by Planafique. It's a number one best seller on Amazon. Now as you can see, I have really dry heels as well as a huge callus on my big toe that is extremely stubborn. So I soaked my feet for about 15 minutes and put on these booties for 90, and I chilled with some socks on. It really wasn't too uncomfortable, and then I washed off all of the residue. It took about 3-4 days to see any type of peeling, but once it started, it did not stop. I basically had webbed feet. Me and my mom were cracking up when we were removing it, and for the next two days, it just kept getting more and more drastic. At one point, my whole heel basically was falling off. I was like, what the heck? I felt like a snake shedding all of its old skin. But at the end of it, I ended up having the softest feet ever. My callus was completely smooth as well as my heels. I am obsessed.\",\n",
       "  'id': '6890346072661626117',\n",
       "  'username': 'arianalucidonio',\n",
       "  'wpm': 214.13793103448276},\n",
       " {'filename': 'tiktoks/6982377509648092421_heartdefensor_1625711455.mp4',\n",
       "  'duration': 10,\n",
       "  'transcription': \" I hope you're happy but don't be happier But I still want you\",\n",
       "  'id': '6982377509648092421',\n",
       "  'username': 'heartdefensor',\n",
       "  'wpm': 78.0},\n",
       " {'filename': 'tiktoks/7366659432610024747_glenxda_1715184076.mp4',\n",
       "  'duration': 61,\n",
       "  'transcription': ' 1 teaspoon of salt. 1 teaspoon of salt. 1 teaspoon of salt. 1 teaspoon of salt. 1 teaspoon of salt. 1 teaspoon of salt. 1 teaspoon of salt. 1 teaspoon of salt. 1 teaspoon of salt. 1 teaspoon of salt. 1 teaspoon of salt. 1 teaspoon of salt. 1 teaspoon of salt. 1 teaspoon of salt. If you do not have Kartabbuilding prep you may use less cream. punch ice noodles into uncomfortable Velcro Some f Recover safely during Puerto Rico Yeah.',\n",
       "  'id': '7366659432610024747',\n",
       "  'username': 'glenxda',\n",
       "  'wpm': 80.65573770491802},\n",
       " {'filename': 'tiktoks/7064010203603356975_heartdefensor_1644718043.mp4',\n",
       "  'duration': 29,\n",
       "  'transcription': \" 1 acidic apple chauvigna 1 cup burnedches Haha I lose myuh 1 Patient's badge 2 ounces of de letsoud 1 cup redevelopment Put Hatfield'slaughsre Taylor\",\n",
       "  'id': '7064010203603356975',\n",
       "  'username': 'heartdefensor',\n",
       "  'wpm': 51.72413793103448},\n",
       " {'filename': 'tiktoks/6813091851957046534_layallure_1586296564.mp4',\n",
       "  'duration': 59,\n",
       "  'transcription': \" Hey, so let me take it. Stop! This is a diffuser. You just put some water and an essential oil of your choice. I put lavender in mine and it makes my car smell like lavender. I also got these. They light up your drink. Got this really cool thing for extra storage. It comes in a pack of two. You just stick it in the side of your seat. It has this cord you plug in so that you can utilize these USB outlets. I love that it has an extra cup holder. I just put my hand sanitizer in there for now, my keys. And I got this trash can for my little wrappers. I also got this trash can for the back seat. I just hook it onto this. And there you go. This is a USB starlight for your car. No espeño. I'm trying to say no. This hook for your bag so it's not sitting in someone's lap. Goes like that, just like that. And the tissue holders literally change my life. This cute little guy said I don't have to take my phone case off so you can fit your pop socket in here. I'm really not sure why I got this, but it smells like cotton candy.\",\n",
       "  'id': '6813091851957046534',\n",
       "  'username': 'layallure',\n",
       "  'wpm': 217.6271186440678},\n",
       " {'filename': 'tiktoks/7203167401305754886_its_jabent_1677118108.mp4',\n",
       "  'duration': 10,\n",
       "  'transcription': \" So I've got this heating pad for my cramps. But I think he is enjoying it a little bit more.\",\n",
       "  'id': '7203167401305754886',\n",
       "  'username': 'its',\n",
       "  'wpm': 120.0},\n",
       " {'filename': 'tiktoks/7232370620837727530_natalies.smith_1683917536.mp4',\n",
       "  'duration': 37,\n",
       "  'transcription': ' Feel like sun on my skin This is love, I know it is I know it sounds super cliche But you make me feel some type of way This is falling, falling in love',\n",
       "  'id': '7232370620837727530',\n",
       "  'username': 'natalies.smith',\n",
       "  'wpm': 55.13513513513514},\n",
       " {'filename': 'tiktoks/7040173254186634501_lucymassad_1639168071.mp4',\n",
       "  'duration': 50,\n",
       "  'transcription': \" Things from Amazon that are unnecessary, but I just love part two. So my apartment did not come with a dishwasher and doing the dishes very quickly became the absolute bane of my existence. This is my dirty cup. I wanted to show a before I had an espresso in there. And then for one person, it does hold a solid amount of dishes, but the most important part for me was you don't have to hook it up to water. I would have no clue how to do that. It comes with a jug. Also comes with a hose and a suction cup. Stick that shit into your sink, man. Look at that steamy water. We getting steamy. And then, ah, chef's kiss. It's so satisfying to watch. You really can't put a price on laziness because look how clean. To me, worth it.\",\n",
       "  'id': '7040173254186634501',\n",
       "  'username': 'lucymassad',\n",
       "  'wpm': 174.0},\n",
       " {'filename': 'tiktoks/7143391067323387182_nalae.co_1663200354.mp4',\n",
       "  'duration': 33,\n",
       "  'transcription': ' When people ask me why I have 9 different types of ice cubes',\n",
       "  'id': '7143391067323387182',\n",
       "  'username': 'nalae.co',\n",
       "  'wpm': 23.636363636363637},\n",
       " {'filename': 'tiktoks/6834331690282831110_toponlinefinds_1591241851.mp4',\n",
       "  'duration': 55,\n",
       "  'transcription': \" Five bathroom items you didn't know you needed. First is this dual toothpaste dispenser that's pretty cool. It holds your brushes and you just push through on this lever and it pushes the toothpaste right out onto your toothbrush. And it can hold up to five brushes unless they're electric. Then it holds a little bit less. It also comes with four cups, two on the bottom and two on the top. I've seen this foot scrubber a few times on TikTok, so really wanted to try it and let me tell you, it worked wonders for my feet, made them super soft and just exfoliated them really well. We all know the struggle of running low on toothpaste and trying to use every last bit in the tube. So this device you can just twist and it squeezes all the toothpaste right out. I am obsessed with this shampoo, conditioner and shower gel dispenser that you can just mount on your wall. And lastly, this silicone mat that suctions to your wall and exfoliates your entire body.\",\n",
       "  'id': '6834331690282831110',\n",
       "  'username': 'toponlinefinds',\n",
       "  'wpm': 194.1818181818182},\n",
       " {'filename': 'tiktoks/7228957130441755931_herios.co.uk_1683122749.mp4',\n",
       "  'duration': 16,\n",
       "  'transcription': ' Thank you.',\n",
       "  'id': '7228957130441755931',\n",
       "  'username': 'herios.co.uk',\n",
       "  'wpm': 7.5},\n",
       " {'filename': 'tiktoks/7158944713012251950_teachingwithmsd_1666821715.mp4',\n",
       "  'duration': 63,\n",
       "  'transcription': ' Thank you.',\n",
       "  'id': '7158944713012251950',\n",
       "  'username': 'teachingwithmsd',\n",
       "  'wpm': 1.9047619047619047},\n",
       " {'filename': 'tiktoks/7118086870155971886_kaelimaee_1657308751.mp4',\n",
       "  'duration': 75,\n",
       "  'transcription': ' Ben Ben Ben Ben Ben Okay',\n",
       "  'id': '7118086870155971886',\n",
       "  'username': 'kaelimaee',\n",
       "  'wpm': 4.8},\n",
       " {'filename': 'tiktoks/7236885066616442155_bordanjillings_1684968615.mp4',\n",
       "  'duration': 48,\n",
       "  'transcription': \" I bought a new chair. It will be the death of me, I think, because now I can lay here and read my fanfiction. No, I will not be telling you what fanfiction I'm reading. That's private. And I swear I've only been out here for 10 minutes. Did I look at the clock? I've been out here for 20 minutes. Not that bad. I came out here with a literal full thing of margarita and I was reading and I went, it's empty. I look at the time. 20 minutes. A large ass margarita. Gone. It's not even summer yet. I'm just test driving this chair. I'm gonna be shitfaced on all my days off this summer.\",\n",
       "  'id': '7236885066616442155',\n",
       "  'username': 'bordanjillings',\n",
       "  'wpm': 147.5}]"
      ]
     },
     "execution_count": 66,
     "metadata": {},
     "output_type": "execute_result"
    }
   ],
   "source": [
    "tiktok_data_2"
   ]
  },
  {
   "cell_type": "code",
   "execution_count": 67,
   "metadata": {},
   "outputs": [
    {
     "data": {
      "text/html": [
       "<div>\n",
       "<style scoped>\n",
       "    .dataframe tbody tr th:only-of-type {\n",
       "        vertical-align: middle;\n",
       "    }\n",
       "\n",
       "    .dataframe tbody tr th {\n",
       "        vertical-align: top;\n",
       "    }\n",
       "\n",
       "    .dataframe thead th {\n",
       "        text-align: right;\n",
       "    }\n",
       "</style>\n",
       "<table border=\"1\" class=\"dataframe\">\n",
       "  <thead>\n",
       "    <tr style=\"text-align: right;\">\n",
       "      <th></th>\n",
       "      <th>filename</th>\n",
       "      <th>duration</th>\n",
       "      <th>transcription</th>\n",
       "      <th>id</th>\n",
       "      <th>username</th>\n",
       "      <th>wpm</th>\n",
       "    </tr>\n",
       "  </thead>\n",
       "  <tbody>\n",
       "    <tr>\n",
       "      <th>0</th>\n",
       "      <td>tiktoks/6899609374478601474_mik.zenon_16064404...</td>\n",
       "      <td>23</td>\n",
       "      <td>Amazon products you need or don't, this could...</td>\n",
       "      <td>6899609374478601474</td>\n",
       "      <td>mik.zenon</td>\n",
       "      <td>208.695652</td>\n",
       "    </tr>\n",
       "    <tr>\n",
       "      <th>1</th>\n",
       "      <td>tiktoks/7259505958118853931_justicebuys_169023...</td>\n",
       "      <td>65</td>\n",
       "      <td>Top 15 Amazon products for this month. This i...</td>\n",
       "      <td>7259505958118853931</td>\n",
       "      <td>justicebuys</td>\n",
       "      <td>287.076923</td>\n",
       "    </tr>\n",
       "    <tr>\n",
       "      <th>2</th>\n",
       "      <td>tiktoks/6975940059858046214_lopwert_1624212617...</td>\n",
       "      <td>59</td>\n",
       "      <td>I bought the world's smallest phone so you do...</td>\n",
       "      <td>6975940059858046214</td>\n",
       "      <td>lopwert</td>\n",
       "      <td>114.915254</td>\n",
       "    </tr>\n",
       "    <tr>\n",
       "      <th>3</th>\n",
       "      <td>tiktoks/6961907699927747845_stuffyouactuallyne...</td>\n",
       "      <td>16</td>\n",
       "      <td>My side of the bed. Add a little bit of spice...</td>\n",
       "      <td>6961907699927747845</td>\n",
       "      <td>stuffyouactuallyneed</td>\n",
       "      <td>63.750000</td>\n",
       "    </tr>\n",
       "    <tr>\n",
       "      <th>4</th>\n",
       "      <td>tiktoks/7147698077808282923_makeupbypita_16642...</td>\n",
       "      <td>40</td>\n",
       "      <td>I've waited a hundred years And I'd wait a mi...</td>\n",
       "      <td>7147698077808282923</td>\n",
       "      <td>makeupbypita</td>\n",
       "      <td>48.000000</td>\n",
       "    </tr>\n",
       "    <tr>\n",
       "      <th>5</th>\n",
       "      <td>tiktoks/7257908886840167726_emburnette_1689863...</td>\n",
       "      <td>60</td>\n",
       "      <td>Talk to it talk to it Bubba Bubba? Talk to it...</td>\n",
       "      <td>7257908886840167726</td>\n",
       "      <td>emburnette</td>\n",
       "      <td>12.000000</td>\n",
       "    </tr>\n",
       "    <tr>\n",
       "      <th>6</th>\n",
       "      <td>tiktoks/7350801361019096362_claugonzalez_offic...</td>\n",
       "      <td>63</td>\n",
       "      <td>I want to dedicate a</td>\n",
       "      <td>7350801361019096362</td>\n",
       "      <td>claugonzalez</td>\n",
       "      <td>4.761905</td>\n",
       "    </tr>\n",
       "    <tr>\n",
       "      <th>7</th>\n",
       "      <td>tiktoks/7212769061460184366_andreja.elena_1679...</td>\n",
       "      <td>11</td>\n",
       "      <td>Hold me close and hold me fast This magic spe...</td>\n",
       "      <td>7212769061460184366</td>\n",
       "      <td>andreja.elena</td>\n",
       "      <td>81.818182</td>\n",
       "    </tr>\n",
       "    <tr>\n",
       "      <th>8</th>\n",
       "      <td>tiktoks/6897636451849112838_teresalauracaruso_...</td>\n",
       "      <td>17</td>\n",
       "      <td>Random Amazon gadgets you need. This little d...</td>\n",
       "      <td>6897636451849112838</td>\n",
       "      <td>teresalauracaruso</td>\n",
       "      <td>254.117647</td>\n",
       "    </tr>\n",
       "    <tr>\n",
       "      <th>9</th>\n",
       "      <td>tiktoks/7144832760090217771_gabriela.vlogs_166...</td>\n",
       "      <td>60</td>\n",
       "      <td>You are my sunshine, my only sunshine You mak...</td>\n",
       "      <td>7144832760090217771</td>\n",
       "      <td>gabriela.vlogs</td>\n",
       "      <td>67.000000</td>\n",
       "    </tr>\n",
       "    <tr>\n",
       "      <th>10</th>\n",
       "      <td>tiktoks/6975329213779954950_heartdefensor_1624...</td>\n",
       "      <td>18</td>\n",
       "      <td>a I</td>\n",
       "      <td>6975329213779954950</td>\n",
       "      <td>heartdefensor</td>\n",
       "      <td>6.666667</td>\n",
       "    </tr>\n",
       "    <tr>\n",
       "      <th>11</th>\n",
       "      <td>tiktoks/7058546692563455234__tusya_kiskis_1643...</td>\n",
       "      <td>18</td>\n",
       "      <td>Thanks for watching.</td>\n",
       "      <td>7058546692563455234</td>\n",
       "      <td></td>\n",
       "      <td>10.000000</td>\n",
       "    </tr>\n",
       "    <tr>\n",
       "      <th>12</th>\n",
       "      <td>tiktoks/7220139400783465733_eny4a_1681069706.mp4</td>\n",
       "      <td>40</td>\n",
       "      <td>Especially in the bathroom, you've got water ...</td>\n",
       "      <td>7220139400783465733</td>\n",
       "      <td>eny4a</td>\n",
       "      <td>93.000000</td>\n",
       "    </tr>\n",
       "    <tr>\n",
       "      <th>13</th>\n",
       "      <td>tiktoks/7049930660726983983_simplysalfinds_164...</td>\n",
       "      <td>26</td>\n",
       "      <td>Trying out 100 TikTok viral products to see i...</td>\n",
       "      <td>7049930660726983983</td>\n",
       "      <td>simplysalfinds</td>\n",
       "      <td>258.461538</td>\n",
       "    </tr>\n",
       "    <tr>\n",
       "      <th>14</th>\n",
       "      <td>tiktoks/6993401583690206470_chateaublanche_162...</td>\n",
       "      <td>19</td>\n",
       "      <td>Hey yo, rich cat check! Meow meow meow meow! ...</td>\n",
       "      <td>6993401583690206470</td>\n",
       "      <td>chateaublanche</td>\n",
       "      <td>145.263158</td>\n",
       "    </tr>\n",
       "    <tr>\n",
       "      <th>15</th>\n",
       "      <td>tiktoks/7231254478421282074_tobesfinds_1683657...</td>\n",
       "      <td>71</td>\n",
       "      <td>10 useful Amazon products I've bought this ye...</td>\n",
       "      <td>7231254478421282074</td>\n",
       "      <td>tobesfinds</td>\n",
       "      <td>242.535211</td>\n",
       "    </tr>\n",
       "    <tr>\n",
       "      <th>16</th>\n",
       "      <td>tiktoks/7286126097421405483_glenxda_1696433451...</td>\n",
       "      <td>25</td>\n",
       "      <td>Thanks for watching!</td>\n",
       "      <td>7286126097421405483</td>\n",
       "      <td>glenxda</td>\n",
       "      <td>7.200000</td>\n",
       "    </tr>\n",
       "    <tr>\n",
       "      <th>17</th>\n",
       "      <td>tiktoks/7178967057709550849_kunchaaiii_1671483...</td>\n",
       "      <td>7</td>\n",
       "      <td>Wow! Well, this is going to be my personality...</td>\n",
       "      <td>7178967057709550849</td>\n",
       "      <td>kunchaaiii</td>\n",
       "      <td>128.571429</td>\n",
       "    </tr>\n",
       "    <tr>\n",
       "      <th>18</th>\n",
       "      <td>tiktoks/7347444193515818286_whisperfillies_171...</td>\n",
       "      <td>25</td>\n",
       "      <td>Hi, you are currently being recorded. Hi. I c...</td>\n",
       "      <td>7347444193515818286</td>\n",
       "      <td>whisperfillies</td>\n",
       "      <td>60.000000</td>\n",
       "    </tr>\n",
       "    <tr>\n",
       "      <th>19</th>\n",
       "      <td>tiktoks/7027448660333956357_garrisonmeek_16362...</td>\n",
       "      <td>10</td>\n",
       "      <td>Guys!</td>\n",
       "      <td>7027448660333956357</td>\n",
       "      <td>garrisonmeek</td>\n",
       "      <td>6.000000</td>\n",
       "    </tr>\n",
       "    <tr>\n",
       "      <th>20</th>\n",
       "      <td>tiktoks/6860299083349806341_heartdefensor_1597...</td>\n",
       "      <td>10</td>\n",
       "      <td>I don't know if you can take it No, you wanna...</td>\n",
       "      <td>6860299083349806341</td>\n",
       "      <td>heartdefensor</td>\n",
       "      <td>198.000000</td>\n",
       "    </tr>\n",
       "    <tr>\n",
       "      <th>21</th>\n",
       "      <td>tiktoks/6890346072661626117_arianalucidonio_16...</td>\n",
       "      <td>58</td>\n",
       "      <td>Warning you now, my whole foot basically peel...</td>\n",
       "      <td>6890346072661626117</td>\n",
       "      <td>arianalucidonio</td>\n",
       "      <td>214.137931</td>\n",
       "    </tr>\n",
       "    <tr>\n",
       "      <th>22</th>\n",
       "      <td>tiktoks/6982377509648092421_heartdefensor_1625...</td>\n",
       "      <td>10</td>\n",
       "      <td>I hope you're happy but don't be happier But ...</td>\n",
       "      <td>6982377509648092421</td>\n",
       "      <td>heartdefensor</td>\n",
       "      <td>78.000000</td>\n",
       "    </tr>\n",
       "    <tr>\n",
       "      <th>23</th>\n",
       "      <td>tiktoks/7366659432610024747_glenxda_1715184076...</td>\n",
       "      <td>61</td>\n",
       "      <td>1 teaspoon of salt. 1 teaspoon of salt. 1 tea...</td>\n",
       "      <td>7366659432610024747</td>\n",
       "      <td>glenxda</td>\n",
       "      <td>80.655738</td>\n",
       "    </tr>\n",
       "    <tr>\n",
       "      <th>24</th>\n",
       "      <td>tiktoks/7064010203603356975_heartdefensor_1644...</td>\n",
       "      <td>29</td>\n",
       "      <td>1 acidic apple chauvigna 1 cup burnedches Hah...</td>\n",
       "      <td>7064010203603356975</td>\n",
       "      <td>heartdefensor</td>\n",
       "      <td>51.724138</td>\n",
       "    </tr>\n",
       "    <tr>\n",
       "      <th>25</th>\n",
       "      <td>tiktoks/6813091851957046534_layallure_15862965...</td>\n",
       "      <td>59</td>\n",
       "      <td>Hey, so let me take it. Stop! This is a diffu...</td>\n",
       "      <td>6813091851957046534</td>\n",
       "      <td>layallure</td>\n",
       "      <td>217.627119</td>\n",
       "    </tr>\n",
       "    <tr>\n",
       "      <th>26</th>\n",
       "      <td>tiktoks/7203167401305754886_its_jabent_1677118...</td>\n",
       "      <td>10</td>\n",
       "      <td>So I've got this heating pad for my cramps. B...</td>\n",
       "      <td>7203167401305754886</td>\n",
       "      <td>its</td>\n",
       "      <td>120.000000</td>\n",
       "    </tr>\n",
       "    <tr>\n",
       "      <th>27</th>\n",
       "      <td>tiktoks/7232370620837727530_natalies.smith_168...</td>\n",
       "      <td>37</td>\n",
       "      <td>Feel like sun on my skin This is love, I know...</td>\n",
       "      <td>7232370620837727530</td>\n",
       "      <td>natalies.smith</td>\n",
       "      <td>55.135135</td>\n",
       "    </tr>\n",
       "    <tr>\n",
       "      <th>28</th>\n",
       "      <td>tiktoks/7040173254186634501_lucymassad_1639168...</td>\n",
       "      <td>50</td>\n",
       "      <td>Things from Amazon that are unnecessary, but ...</td>\n",
       "      <td>7040173254186634501</td>\n",
       "      <td>lucymassad</td>\n",
       "      <td>174.000000</td>\n",
       "    </tr>\n",
       "    <tr>\n",
       "      <th>29</th>\n",
       "      <td>tiktoks/7143391067323387182_nalae.co_166320035...</td>\n",
       "      <td>33</td>\n",
       "      <td>When people ask me why I have 9 different typ...</td>\n",
       "      <td>7143391067323387182</td>\n",
       "      <td>nalae.co</td>\n",
       "      <td>23.636364</td>\n",
       "    </tr>\n",
       "    <tr>\n",
       "      <th>30</th>\n",
       "      <td>tiktoks/6834331690282831110_toponlinefinds_159...</td>\n",
       "      <td>55</td>\n",
       "      <td>Five bathroom items you didn't know you neede...</td>\n",
       "      <td>6834331690282831110</td>\n",
       "      <td>toponlinefinds</td>\n",
       "      <td>194.181818</td>\n",
       "    </tr>\n",
       "    <tr>\n",
       "      <th>31</th>\n",
       "      <td>tiktoks/7228957130441755931_herios.co.uk_16831...</td>\n",
       "      <td>16</td>\n",
       "      <td>Thank you.</td>\n",
       "      <td>7228957130441755931</td>\n",
       "      <td>herios.co.uk</td>\n",
       "      <td>7.500000</td>\n",
       "    </tr>\n",
       "    <tr>\n",
       "      <th>32</th>\n",
       "      <td>tiktoks/7158944713012251950_teachingwithmsd_16...</td>\n",
       "      <td>63</td>\n",
       "      <td>Thank you.</td>\n",
       "      <td>7158944713012251950</td>\n",
       "      <td>teachingwithmsd</td>\n",
       "      <td>1.904762</td>\n",
       "    </tr>\n",
       "    <tr>\n",
       "      <th>33</th>\n",
       "      <td>tiktoks/7118086870155971886_kaelimaee_16573087...</td>\n",
       "      <td>75</td>\n",
       "      <td>Ben Ben Ben Ben Ben Okay</td>\n",
       "      <td>7118086870155971886</td>\n",
       "      <td>kaelimaee</td>\n",
       "      <td>4.800000</td>\n",
       "    </tr>\n",
       "    <tr>\n",
       "      <th>34</th>\n",
       "      <td>tiktoks/7236885066616442155_bordanjillings_168...</td>\n",
       "      <td>48</td>\n",
       "      <td>I bought a new chair. It will be the death of...</td>\n",
       "      <td>7236885066616442155</td>\n",
       "      <td>bordanjillings</td>\n",
       "      <td>147.500000</td>\n",
       "    </tr>\n",
       "  </tbody>\n",
       "</table>\n",
       "</div>"
      ],
      "text/plain": [
       "                                             filename  duration  \\\n",
       "0   tiktoks/6899609374478601474_mik.zenon_16064404...        23   \n",
       "1   tiktoks/7259505958118853931_justicebuys_169023...        65   \n",
       "2   tiktoks/6975940059858046214_lopwert_1624212617...        59   \n",
       "3   tiktoks/6961907699927747845_stuffyouactuallyne...        16   \n",
       "4   tiktoks/7147698077808282923_makeupbypita_16642...        40   \n",
       "5   tiktoks/7257908886840167726_emburnette_1689863...        60   \n",
       "6   tiktoks/7350801361019096362_claugonzalez_offic...        63   \n",
       "7   tiktoks/7212769061460184366_andreja.elena_1679...        11   \n",
       "8   tiktoks/6897636451849112838_teresalauracaruso_...        17   \n",
       "9   tiktoks/7144832760090217771_gabriela.vlogs_166...        60   \n",
       "10  tiktoks/6975329213779954950_heartdefensor_1624...        18   \n",
       "11  tiktoks/7058546692563455234__tusya_kiskis_1643...        18   \n",
       "12   tiktoks/7220139400783465733_eny4a_1681069706.mp4        40   \n",
       "13  tiktoks/7049930660726983983_simplysalfinds_164...        26   \n",
       "14  tiktoks/6993401583690206470_chateaublanche_162...        19   \n",
       "15  tiktoks/7231254478421282074_tobesfinds_1683657...        71   \n",
       "16  tiktoks/7286126097421405483_glenxda_1696433451...        25   \n",
       "17  tiktoks/7178967057709550849_kunchaaiii_1671483...         7   \n",
       "18  tiktoks/7347444193515818286_whisperfillies_171...        25   \n",
       "19  tiktoks/7027448660333956357_garrisonmeek_16362...        10   \n",
       "20  tiktoks/6860299083349806341_heartdefensor_1597...        10   \n",
       "21  tiktoks/6890346072661626117_arianalucidonio_16...        58   \n",
       "22  tiktoks/6982377509648092421_heartdefensor_1625...        10   \n",
       "23  tiktoks/7366659432610024747_glenxda_1715184076...        61   \n",
       "24  tiktoks/7064010203603356975_heartdefensor_1644...        29   \n",
       "25  tiktoks/6813091851957046534_layallure_15862965...        59   \n",
       "26  tiktoks/7203167401305754886_its_jabent_1677118...        10   \n",
       "27  tiktoks/7232370620837727530_natalies.smith_168...        37   \n",
       "28  tiktoks/7040173254186634501_lucymassad_1639168...        50   \n",
       "29  tiktoks/7143391067323387182_nalae.co_166320035...        33   \n",
       "30  tiktoks/6834331690282831110_toponlinefinds_159...        55   \n",
       "31  tiktoks/7228957130441755931_herios.co.uk_16831...        16   \n",
       "32  tiktoks/7158944713012251950_teachingwithmsd_16...        63   \n",
       "33  tiktoks/7118086870155971886_kaelimaee_16573087...        75   \n",
       "34  tiktoks/7236885066616442155_bordanjillings_168...        48   \n",
       "\n",
       "                                        transcription                   id  \\\n",
       "0    Amazon products you need or don't, this could...  6899609374478601474   \n",
       "1    Top 15 Amazon products for this month. This i...  7259505958118853931   \n",
       "2    I bought the world's smallest phone so you do...  6975940059858046214   \n",
       "3    My side of the bed. Add a little bit of spice...  6961907699927747845   \n",
       "4    I've waited a hundred years And I'd wait a mi...  7147698077808282923   \n",
       "5    Talk to it talk to it Bubba Bubba? Talk to it...  7257908886840167726   \n",
       "6                                I want to dedicate a  7350801361019096362   \n",
       "7    Hold me close and hold me fast This magic spe...  7212769061460184366   \n",
       "8    Random Amazon gadgets you need. This little d...  6897636451849112838   \n",
       "9    You are my sunshine, my only sunshine You mak...  7144832760090217771   \n",
       "10                                                a I  6975329213779954950   \n",
       "11                               Thanks for watching.  7058546692563455234   \n",
       "12   Especially in the bathroom, you've got water ...  7220139400783465733   \n",
       "13   Trying out 100 TikTok viral products to see i...  7049930660726983983   \n",
       "14   Hey yo, rich cat check! Meow meow meow meow! ...  6993401583690206470   \n",
       "15   10 useful Amazon products I've bought this ye...  7231254478421282074   \n",
       "16                               Thanks for watching!  7286126097421405483   \n",
       "17   Wow! Well, this is going to be my personality...  7178967057709550849   \n",
       "18   Hi, you are currently being recorded. Hi. I c...  7347444193515818286   \n",
       "19                                              Guys!  7027448660333956357   \n",
       "20   I don't know if you can take it No, you wanna...  6860299083349806341   \n",
       "21   Warning you now, my whole foot basically peel...  6890346072661626117   \n",
       "22   I hope you're happy but don't be happier But ...  6982377509648092421   \n",
       "23   1 teaspoon of salt. 1 teaspoon of salt. 1 tea...  7366659432610024747   \n",
       "24   1 acidic apple chauvigna 1 cup burnedches Hah...  7064010203603356975   \n",
       "25   Hey, so let me take it. Stop! This is a diffu...  6813091851957046534   \n",
       "26   So I've got this heating pad for my cramps. B...  7203167401305754886   \n",
       "27   Feel like sun on my skin This is love, I know...  7232370620837727530   \n",
       "28   Things from Amazon that are unnecessary, but ...  7040173254186634501   \n",
       "29   When people ask me why I have 9 different typ...  7143391067323387182   \n",
       "30   Five bathroom items you didn't know you neede...  6834331690282831110   \n",
       "31                                         Thank you.  7228957130441755931   \n",
       "32                                         Thank you.  7158944713012251950   \n",
       "33                           Ben Ben Ben Ben Ben Okay  7118086870155971886   \n",
       "34   I bought a new chair. It will be the death of...  7236885066616442155   \n",
       "\n",
       "                username         wpm  \n",
       "0              mik.zenon  208.695652  \n",
       "1            justicebuys  287.076923  \n",
       "2                lopwert  114.915254  \n",
       "3   stuffyouactuallyneed   63.750000  \n",
       "4           makeupbypita   48.000000  \n",
       "5             emburnette   12.000000  \n",
       "6           claugonzalez    4.761905  \n",
       "7          andreja.elena   81.818182  \n",
       "8      teresalauracaruso  254.117647  \n",
       "9         gabriela.vlogs   67.000000  \n",
       "10         heartdefensor    6.666667  \n",
       "11                         10.000000  \n",
       "12                 eny4a   93.000000  \n",
       "13        simplysalfinds  258.461538  \n",
       "14        chateaublanche  145.263158  \n",
       "15            tobesfinds  242.535211  \n",
       "16               glenxda    7.200000  \n",
       "17            kunchaaiii  128.571429  \n",
       "18        whisperfillies   60.000000  \n",
       "19          garrisonmeek    6.000000  \n",
       "20         heartdefensor  198.000000  \n",
       "21       arianalucidonio  214.137931  \n",
       "22         heartdefensor   78.000000  \n",
       "23               glenxda   80.655738  \n",
       "24         heartdefensor   51.724138  \n",
       "25             layallure  217.627119  \n",
       "26                   its  120.000000  \n",
       "27        natalies.smith   55.135135  \n",
       "28            lucymassad  174.000000  \n",
       "29              nalae.co   23.636364  \n",
       "30        toponlinefinds  194.181818  \n",
       "31          herios.co.uk    7.500000  \n",
       "32       teachingwithmsd    1.904762  \n",
       "33             kaelimaee    4.800000  \n",
       "34        bordanjillings  147.500000  "
      ]
     },
     "execution_count": 67,
     "metadata": {},
     "output_type": "execute_result"
    }
   ],
   "source": [
    "#convert titkok_data_2 to a pandas dataframe\n",
    "import pandas as pd\n",
    "\n",
    "df = pd.DataFrame(tiktok_data_2)\n",
    "df"
   ]
  },
  {
   "cell_type": "code",
   "execution_count": 68,
   "metadata": {},
   "outputs": [],
   "source": [
    "#export df as csv\n",
    "df.to_csv('sample_35_amazonfinds_stats.csv', index=False)"
   ]
  },
  {
   "cell_type": "code",
   "execution_count": null,
   "metadata": {},
   "outputs": [],
   "source": []
  }
 ],
 "metadata": {
  "kernelspec": {
   "display_name": "Python 3",
   "language": "python",
   "name": "python3"
  },
  "language_info": {
   "codemirror_mode": {
    "name": "ipython",
    "version": 3
   },
   "file_extension": ".py",
   "mimetype": "text/x-python",
   "name": "python",
   "nbconvert_exporter": "python",
   "pygments_lexer": "ipython3",
   "version": "3.11.6"
  }
 },
 "nbformat": 4,
 "nbformat_minor": 2
}
