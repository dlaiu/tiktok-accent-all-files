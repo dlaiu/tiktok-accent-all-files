{
 "cells": [
  {
   "cell_type": "code",
   "execution_count": null,
   "metadata": {},
   "outputs": [],
   "source": [
    "#!pip install --quiet playwright\n",
    "#!playwright install"
   ]
  },
  {
   "cell_type": "markdown",
   "metadata": {},
   "source": [
    "We're going to use [Playwright](https://playwright.dev/python/) to gain access to the content on TikTok.\n",
    "\n",
    "But instead of writing some magic custom scraper to automatically do stuff, we're going to just use... ourselves! While we browse, though, we're going to watch everything that the browser does and save all of the parts we think are interesting."
   ]
  },
  {
   "cell_type": "markdown",
   "metadata": {},
   "source": [
    "# Open up our browser\n",
    "\n",
    "TikTik *does know* we're kind of a bot, even though we're using `--disable-blink-features=AutomationControlled`. I'm not sure how to fix it, but it's fine for now because they don't block you, just make you unable to watch videos (kind of).\n",
    "\n",
    "But here we go!"
   ]
  },
  {
   "cell_type": "code",
   "execution_count": 105,
   "metadata": {},
   "outputs": [],
   "source": [
    "from playwright.async_api import async_playwright\n",
    "\n",
    "args = [\n",
    "    \"--disable-blink-features=AutomationControlled\"\n",
    "]\n",
    "playwright = await async_playwright().start()\n",
    "browser = await playwright.chromium.launch(headless = False, args=args)\n",
    "page = await browser.new_page()"
   ]
  },
  {
   "cell_type": "markdown",
   "metadata": {},
   "source": [
    "## Add a listener for API events\n",
    "\n",
    "When we visit a page, behind the scenes our browser is having a lot of conversations with the website. We're going to add a listener that looks for those conversations, and intercepts any of them that start with `https://www.tiktok.com/api/`.\n",
    "\n",
    "When it finds one, it saves the details to the `api` folder."
   ]
  },
  {
   "cell_type": "code",
   "execution_count": 4,
   "metadata": {},
   "outputs": [],
   "source": [
    "from urllib.parse import parse_qs, urlparse\n",
    "import hashlib\n",
    "from pathlib import Path\n",
    "import json"
   ]
  },
  {
   "cell_type": "code",
   "execution_count": 106,
   "metadata": {},
   "outputs": [
    {
     "name": "stdout",
     "output_type": "stream",
     "text": [
      "Writing content to  api/policy/notice/a955a349b6123ee5fc9b4faac150b944.json\n",
      "Writing content to  api/post/item_list/a293da03fdd8a5296605c93ad77fe5de.json\n",
      "Writing content to  api/ba/business/suite/permission/list/52dceb30db7d1aca5f44f4f6149d1d3f.json\n",
      "Error processing response Expecting value: line 1 column 1 (char 0)\n",
      "Writing content to  api/user/playlist/7b5a01e70de3fd6184f2b6c6b779f685.json\n",
      "Writing content to  api/share/settings/fea309bf56c06ef4df9ed619a74f12ad.json\n",
      "Writing content to  api/repost/item_list/38c8dd1465255bf091c5bd672f36177c.json\n",
      "Writing content to  api/post/item_list/0ebce89ffbda59a0f72dffa0c9a4e990.json\n",
      "Writing content to  api/preload/item_list/ce8971a2dba9ff2cd4a5048537fc663c.json\n",
      "Writing content to  api/post/item_list/0b0462f8167de37043486bf1b58ef4eb.json\n",
      "Writing content to  api/post/item_list/5acdf190d6edfd9d0b0f47edcbc7f95a.json\n",
      "Writing content to  api/post/item_list/3853649a5c1c9d21e724037c72329648.json\n",
      "Writing content to  api/post/item_list/ae01cfc084dcb55c54d763aea2ecb44b.json\n",
      "Writing content to  api/post/item_list/fc25a4ac34ac876e2e605e899985bd1c.json\n",
      "Writing content to  api/post/item_list/69fedc473dd1a61577ea35d24e42c71f.json\n",
      "Writing content to  api/post/item_list/b2740f11b766bbc35113b3cfc703c284.json\n",
      "Writing content to  api/post/item_list/ff0f39338ea7525386221411a6ea2a4a.json\n",
      "Writing content to  api/post/item_list/061fdc4b9550aa4f112c73b1dccbe0f7.json\n",
      "Writing content to  api/post/item_list/9243d7f9033665d0257c9fa43070aa3b.json\n",
      "Writing content to  api/post/item_list/602c1e4be55872cb64d76d97a2d9723d.json\n",
      "Writing content to  api/post/item_list/f8d908dd67e6ab94141e38afec074d5b.json\n",
      "Writing content to  api/post/item_list/2cf830f294ff7d811ebc069bbac3a766.json\n",
      "Writing content to  api/post/item_list/6137a9d05f7f1248f6f3fded98c60e4a.json\n",
      "Writing content to  api/post/item_list/fedebd8efaa77e2cb3877b64fb42247d.json\n",
      "Writing content to  api/post/item_list/0375824b58eedcd798976c5105828b5b.json\n",
      "Writing content to  api/post/item_list/fd7f60657180480eb0e9e3e0aac9a3d4.json\n",
      "Writing content to  api/post/item_list/9f4a6acd68ed8d72248c80cf5c0708aa.json\n",
      "Writing content to  api/post/item_list/3d273adf89a81f2ae5a87bac417fd8e2.json\n",
      "Writing content to  api/post/item_list/7e858fbf0d24f274b26daa39c9880a7b.json\n",
      "Writing content to  api/post/item_list/6b45c2be1e07e9a5680bc5341fe54725.json\n",
      "Writing content to  api/post/item_list/b283dfb063bbfa835f087bc999990f33.json\n",
      "Writing content to  api/post/item_list/b9e58a841b9c3bba88b4addbcae55b7e.json\n",
      "Writing content to  api/post/item_list/0e1641077dc8ccd65908088af319ab35.json\n",
      "Writing content to  api/post/item_list/d91a40d74bf36dde0fbfbeae708179f6.json\n",
      "Writing content to  api/post/item_list/25d1169f2717460dd4196bd96d5921fe.json\n",
      "Writing content to  api/post/item_list/91097af4a7cada5bb774657a402c29d1.json\n",
      "Writing content to  api/post/item_list/8f5e9023706b1c9a94327afea0dd39e7.json\n",
      "Writing content to  api/post/item_list/feb11a78f29e8eb0c5db4c975df0fc72.json\n",
      "Writing content to  api/post/item_list/bef0467c80cf2ba9e8071cdfcd7179b5.json\n",
      "Writing content to  api/post/item_list/633b9d04b13495e04d5cce1724361759.json\n",
      "Writing content to  api/post/item_list/c021374842aa88853078f34da280b8f1.json\n",
      "Writing content to  api/post/item_list/0b16c2fcda6a37564a8e6604541379a7.json\n",
      "Writing content to  api/post/item_list/7672b4795955199e9459a6967bfbe0d7.json\n",
      "Writing content to  api/post/item_list/90543916f59b16c0e1c3ea4636f86b5c.json\n",
      "Writing content to  api/post/item_list/386c1b20f5005fa3e57c5409faca271e.json\n",
      "Writing content to  api/post/item_list/8dc64c4c81b73d65c30e4ee641fba749.json\n",
      "Writing content to  api/post/item_list/221143027c1e0f86742b8cfa9b24626f.json\n",
      "Writing content to  api/post/item_list/fa0a19779a548b32fd694df5dd0a1e4f.json\n",
      "Writing content to  api/post/item_list/fdcdb016eb14ad95050f1d4476d74186.json\n",
      "Writing content to  api/post/item_list/8e3644d40422d7fa6099c5902fb956ec.json\n",
      "Writing content to  api/post/item_list/699589d146a6e3d1ea67dfd734b67e5b.json\n",
      "Writing content to  api/post/item_list/d445caddbfc854ae84d97a671b91d763.json\n",
      "Writing content to  api/post/item_list/70ddab282b513bf1a299cb5fcf0796d3.json\n"
     ]
    }
   ],
   "source": [
    "from urllib.parse import parse_qs, urlparse\n",
    "import hashlib\n",
    "from pathlib import Path\n",
    "import json\n",
    "\n",
    "# If we've already added the listener, remove it\n",
    "try:\n",
    "    page.remove_listener('response', process_response)\n",
    "except:\n",
    "    pass\n",
    "\n",
    "async def process_response(response):\n",
    "    if response.ok and response.url.startswith(\"https://www.tiktok.com/api/\"):\n",
    "        try:\n",
    "            parsed = urlparse(response.url)\n",
    "\n",
    "            # Hash the query parameters and the response.text to make a unique filename\n",
    "            m = hashlib.md5()\n",
    "            m.update(parsed.query.encode('utf-8'))\n",
    "            m.update((await response.text()).encode('utf-8'))\n",
    "            filename = m.hexdigest()\n",
    "\n",
    "            # the full path is based on the URL\n",
    "            path = Path(parsed.path.lstrip(\"/\")).joinpath(filename).with_suffix(\".json\")\n",
    "            path.parent.mkdir(parents=True, exist_ok=True)\n",
    "\n",
    "            print(\"Writing content to \", path)\n",
    "\n",
    "            query = parse_qs(parsed.query)\n",
    "            query = {k: v[0] for k, v in query.items()}\n",
    "\n",
    "            content = {\n",
    "                'url': response.url,\n",
    "                'query': query,\n",
    "                'headers': await response.all_headers(),\n",
    "                'data': await response.json(),\n",
    "            }\n",
    "\n",
    "            path.write_text(json.dumps(content, indent=2))\n",
    "        except Exception as e:\n",
    "            print(\"Error processing response\", e)\n",
    "\n",
    "page.on(\"response\", process_response)"
   ]
  },
  {
   "cell_type": "code",
   "execution_count": 107,
   "metadata": {},
   "outputs": [],
   "source": [
    "await browser.close()"
   ]
  },
  {
   "cell_type": "markdown",
   "metadata": {},
   "source": [
    "## Look at the videos\n",
    "\n",
    "We have a lot of different things that are saved - comments, related items, etc – but the videos are what we're interested in here. The requests for the videos are saved in `api/post/item_list`.\n",
    "\n",
    "Obviously enough, each one is a list of posts. Let's look at a single one of the JSON files."
   ]
  },
  {
   "cell_type": "code",
   "execution_count": 59,
   "metadata": {},
   "outputs": [],
   "source": [
    "import glob\n",
    "\n",
    "# Just grab the first one\n",
    "filename = glob.glob(\"api/post/item_list/*.json\")[-1]"
   ]
  },
  {
   "cell_type": "code",
   "execution_count": 40,
   "metadata": {},
   "outputs": [
    {
     "data": {
      "text/plain": [
       "dict_keys(['url', 'query', 'headers', 'data'])"
      ]
     },
     "execution_count": 40,
     "metadata": {},
     "output_type": "execute_result"
    }
   ],
   "source": [
    "from pprint import pprint\n",
    "\n",
    "with open(filename) as fp:\n",
    "    content = json.load(fp)\n",
    "\n",
    "content.keys()"
   ]
  },
  {
   "cell_type": "markdown",
   "metadata": {},
   "source": [
    "Each response has an `itemList`, which is a list videos. We can look at the first one:"
   ]
  },
  {
   "cell_type": "code",
   "execution_count": 20,
   "metadata": {},
   "outputs": [
    {
     "name": "stdout",
     "output_type": "stream",
     "text": [
      "{'AIGCDescription': '',\n",
      " 'author': {'avatarLarger': 'https://p16-sign-va.tiktokcdn.com/tos-maliva-avt-0068/5a8bae33b06523b66547e64d11a27155~c5_1080x1080.jpeg?lk3s=a5d48078&nonce=57550&refresh_token=a346a60f2470f8bb8575cf1f979a6a2a&x-expires=1718982000&x-signature=F8XSEmwE0fTDATz3g3OR0EUWyOg%3D&shp=a5d48078&shcp=81f88b70',\n",
      "            'avatarMedium': 'https://p16-sign-va.tiktokcdn.com/tos-maliva-avt-0068/5a8bae33b06523b66547e64d11a27155~c5_720x720.jpeg?lk3s=a5d48078&nonce=49451&refresh_token=addb7823f04c31f5807e628c486303b6&x-expires=1718982000&x-signature=6fOptkg1DAbU5edvs6%2BqkHjVDGg%3D&shp=a5d48078&shcp=81f88b70',\n",
      "            'avatarThumb': 'https://p16-sign-va.tiktokcdn.com/tos-maliva-avt-0068/5a8bae33b06523b66547e64d11a27155~c5_100x100.jpeg?lk3s=a5d48078&nonce=85009&refresh_token=ad1c7855c1b61c44869301a26676651c&x-expires=1718982000&x-signature=NqUanteJOsIyvI2e%2FKg8RztE%2BRk%3D&shp=a5d48078&shcp=81f88b70',\n",
      "            'commentSetting': 0,\n",
      "            'downloadSetting': 0,\n",
      "            'duetSetting': 0,\n",
      "            'ftc': False,\n",
      "            'id': '7111786018798552070',\n",
      "            'isADVirtual': False,\n",
      "            'isEmbedBanned': False,\n",
      "            'nickname': 'Sam Shan Shops 🦋',\n",
      "            'openFavorite': False,\n",
      "            'privateAccount': False,\n",
      "            'relation': 0,\n",
      "            'secUid': 'MS4wLjABAAAAGFqDazB3wBXQPCprmU_vgOEKSjheOTA8RogJgsHvHmD8yraFIzYZVgcnh7GBeQS2',\n",
      "            'secret': False,\n",
      "            'signature': 'Amazon 🇨🇦🇺🇸🇬🇧 Finds\\n'\n",
      "                         '💌 samshanshops@rewiredtalent.com\\n'\n",
      "                         '👇🏽SHOP FINDS👇🏽',\n",
      "            'stitchSetting': 0,\n",
      "            'uniqueId': 'sam.shan.shops',\n",
      "            'verified': False},\n",
      " 'challenges': [{'coverLarger': '',\n",
      "                 'coverMedium': '',\n",
      "                 'coverThumb': '',\n",
      "                 'desc': '',\n",
      "                 'id': '7168953411990208558',\n",
      "                 'profileLarger': '',\n",
      "                 'profileMedium': '',\n",
      "                 'profileThumb': '',\n",
      "                 'title': 'amazonfinds2023🔥'},\n",
      "                {'coverLarger': '',\n",
      "                 'coverMedium': '',\n",
      "                 'coverThumb': '',\n",
      "                 'desc': '',\n",
      "                 'id': '1707389813359617',\n",
      "                 'profileLarger': '',\n",
      "                 'profileMedium': '',\n",
      "                 'profileThumb': '',\n",
      "                 'title': 'viralamazonfinds'},\n",
      "                {'coverLarger': '',\n",
      "                 'coverMedium': '',\n",
      "                 'coverThumb': '',\n",
      "                 'desc': '',\n",
      "                 'id': '1682015948967942',\n",
      "                 'profileLarger': '',\n",
      "                 'profileMedium': '',\n",
      "                 'profileThumb': '',\n",
      "                 'title': 'amazonkitchenfavorites'},\n",
      "                {'coverLarger': '',\n",
      "                 'coverMedium': '',\n",
      "                 'coverThumb': '',\n",
      "                 'desc': '',\n",
      "                 'id': '1690684082810885',\n",
      "                 'profileLarger': '',\n",
      "                 'profileMedium': '',\n",
      "                 'profileThumb': '',\n",
      "                 'title': 'amazonkitchengadgets'},\n",
      "                {'coverLarger': '',\n",
      "                 'coverMedium': '',\n",
      "                 'coverThumb': '',\n",
      "                 'desc': '',\n",
      "                 'id': '1634473945285638',\n",
      "                 'profileLarger': '',\n",
      "                 'profileMedium': '',\n",
      "                 'profileThumb': '',\n",
      "                 'title': 'amazonbestseller'}],\n",
      " 'collected': False,\n",
      " 'contents': [{'desc': 'The containers are my fav for meal prepping!✨ '\n",
      "                       '#amazonfinds2023🔥 #viralamazonfinds '\n",
      "                       '#amazonkitchenfavorites #amazonkitchengadgets '\n",
      "                       '#amazonbestseller  ',\n",
      "               'textExtra': [{'awemeId': '',\n",
      "                              'end': 64,\n",
      "                              'hashtagName': 'amazonfinds2023🔥',\n",
      "                              'isCommerce': False,\n",
      "                              'start': 46,\n",
      "                              'subType': 0,\n",
      "                              'type': 1},\n",
      "                             {'awemeId': '',\n",
      "                              'end': 82,\n",
      "                              'hashtagName': 'viralamazonfinds',\n",
      "                              'isCommerce': False,\n",
      "                              'start': 65,\n",
      "                              'subType': 0,\n",
      "                              'type': 1},\n",
      "                             {'awemeId': '',\n",
      "                              'end': 106,\n",
      "                              'hashtagName': 'amazonkitchenfavorites',\n",
      "                              'isCommerce': False,\n",
      "                              'start': 83,\n",
      "                              'subType': 0,\n",
      "                              'type': 1},\n",
      "                             {'awemeId': '',\n",
      "                              'end': 128,\n",
      "                              'hashtagName': 'amazonkitchengadgets',\n",
      "                              'isCommerce': False,\n",
      "                              'start': 107,\n",
      "                              'subType': 0,\n",
      "                              'type': 1},\n",
      "                             {'awemeId': '',\n",
      "                              'end': 146,\n",
      "                              'hashtagName': 'amazonbestseller',\n",
      "                              'isCommerce': False,\n",
      "                              'start': 129,\n",
      "                              'subType': 0,\n",
      "                              'type': 1}]}],\n",
      " 'createTime': 1676733408,\n",
      " 'desc': 'The containers are my fav for meal prepping!✨ #amazonfinds2023🔥 '\n",
      "         '#viralamazonfinds #amazonkitchenfavorites #amazonkitchengadgets '\n",
      "         '#amazonbestseller  ',\n",
      " 'digged': False,\n",
      " 'diversificationId': 10044,\n",
      " 'duetDisplay': 0,\n",
      " 'duetEnabled': True,\n",
      " 'forFriend': False,\n",
      " 'id': '7201515135079353605',\n",
      " 'itemCommentStatus': 0,\n",
      " 'item_control': {'can_repost': True},\n",
      " 'music': {'authorName': 'Sam Shan Shops 🦋',\n",
      "           'coverLarge': 'https://p16-sign-va.tiktokcdn.com/tos-maliva-avt-0068/5a8bae33b06523b66547e64d11a27155~c5_1080x1080.jpeg?lk3s=a5d48078&nonce=57550&refresh_token=a346a60f2470f8bb8575cf1f979a6a2a&x-expires=1718982000&x-signature=F8XSEmwE0fTDATz3g3OR0EUWyOg%3D&shp=a5d48078&shcp=81f88b70',\n",
      "           'coverMedium': 'https://p16-sign-va.tiktokcdn.com/tos-maliva-avt-0068/5a8bae33b06523b66547e64d11a27155~c5_720x720.jpeg?lk3s=a5d48078&nonce=49451&refresh_token=addb7823f04c31f5807e628c486303b6&x-expires=1718982000&x-signature=6fOptkg1DAbU5edvs6%2BqkHjVDGg%3D&shp=a5d48078&shcp=81f88b70',\n",
      "           'coverThumb': 'https://p16-sign-va.tiktokcdn.com/tos-maliva-avt-0068/5a8bae33b06523b66547e64d11a27155~c5_100x100.jpeg?lk3s=a5d48078&nonce=85009&refresh_token=ad1c7855c1b61c44869301a26676651c&x-expires=1718982000&x-signature=NqUanteJOsIyvI2e%2FKg8RztE%2BRk%3D&shp=a5d48078&shcp=81f88b70',\n",
      "           'duration': 24,\n",
      "           'id': '7201515147017128710',\n",
      "           'original': False,\n",
      "           'playUrl': 'https://v16-webapp-prime.us.tiktok.com/video/tos/useast5/tos-useast5-v-27dcd7c799-tx/owUtFhQQJtCeSDO1HTJSX8bRDvnRBBKo2Mejnh/?a=1988&bti=ODszNWYuMDE6&ch=0&cr=0&dr=0&er=0&lr=default&cd=0%7C0%7C0%7C0&br=250&bt=125&ft=GcAInInz7ThbB_mrXq8Zmo&mime_type=audio_mpeg&qs=6&rc=NTU0aTVlPDo4N2UzaTYzN0Bpajx1dGU6ZnJoaTMzNzU8M0AzYWMtYV9jX2AxMzU2Xi1fYSMxajNtcjRfa2xgLS1kMTZzcw%3D%3D&btag=e00088000&expire=1718833900&l=2024061915511603E1B86FAD784F077517&ply_type=3&policy=3&signature=dc88c27ba20361a9458fe14936853d65&tk=0',\n",
      "           'title': 'original sound'},\n",
      " 'officalItem': False,\n",
      " 'originalItem': False,\n",
      " 'playlistId': '7137645056496470790',\n",
      " 'privateItem': False,\n",
      " 'secret': False,\n",
      " 'shareEnabled': True,\n",
      " 'stats': {'collectCount': 2968,\n",
      "           'commentCount': 10,\n",
      "           'diggCount': 10900,\n",
      "           'playCount': 216800,\n",
      "           'shareCount': 665},\n",
      " 'statsV2': {'collectCount': '2968',\n",
      "             'commentCount': '10',\n",
      "             'diggCount': '10900',\n",
      "             'playCount': '216800',\n",
      "             'repostCount': '0',\n",
      "             'shareCount': '665'},\n",
      " 'stitchDisplay': 0,\n",
      " 'stitchEnabled': True,\n",
      " 'textExtra': [{'awemeId': '',\n",
      "                'end': 64,\n",
      "                'hashtagName': 'amazonfinds2023🔥',\n",
      "                'isCommerce': False,\n",
      "                'start': 46,\n",
      "                'subType': 0,\n",
      "                'type': 1},\n",
      "               {'awemeId': '',\n",
      "                'end': 82,\n",
      "                'hashtagName': 'viralamazonfinds',\n",
      "                'isCommerce': False,\n",
      "                'start': 65,\n",
      "                'subType': 0,\n",
      "                'type': 1},\n",
      "               {'awemeId': '',\n",
      "                'end': 106,\n",
      "                'hashtagName': 'amazonkitchenfavorites',\n",
      "                'isCommerce': False,\n",
      "                'start': 83,\n",
      "                'subType': 0,\n",
      "                'type': 1},\n",
      "               {'awemeId': '',\n",
      "                'end': 128,\n",
      "                'hashtagName': 'amazonkitchengadgets',\n",
      "                'isCommerce': False,\n",
      "                'start': 107,\n",
      "                'subType': 0,\n",
      "                'type': 1},\n",
      "               {'awemeId': '',\n",
      "                'end': 146,\n",
      "                'hashtagName': 'amazonbestseller',\n",
      "                'isCommerce': False,\n",
      "                'start': 129,\n",
      "                'subType': 0,\n",
      "                'type': 1}],\n",
      " 'video': {'bitrate': 1147690,\n",
      "           'bitrateInfo': [{'Bitrate': 1147690,\n",
      "                            'CodecType': 'h264',\n",
      "                            'GearName': 'normal_540_0',\n",
      "                            'PlayAddr': {'DataSize': 3562719,\n",
      "                                         'FileCs': 'c:0-21608-671f',\n",
      "                                         'FileHash': '1b3cd9680d50d39bd13121a7455f2b03',\n",
      "                                         'Uri': 'v09044g40000cfoejnjc77u10aes45k0',\n",
      "                                         'UrlKey': 'v09044g40000cfoejnjc77u10aes45k0_h264_540p_1147690',\n",
      "                                         'UrlList': ['https://v16-webapp-prime.us.tiktok.com/video/tos/useast2a/tos-useast2a-ve-0068c002/o4cheWg4bAhg6OfYAnjHneCg1DCS8IlICdNRRE/?a=1988&bti=ODszNWYuMDE6&ch=0&cr=3&dr=0&lr=unwatermarked&cd=0%7C0%7C0%7C&cv=1&br=2240&bt=1120&cs=0&ds=6&ft=4KJMyMzm8Zmo0I2h9-4jVRRCQpWrKsd.&mime_type=video_mp4&qs=0&rc=NzY1aWVnNTpoOTpoZ2c6ZEBpMzh2ZDQ6ZnFoaTMzNzczM0A1L14zM15jNWAxY2JgYmMvYSNoMWItcjRnZ2xgLS1kMTZzcw%3D%3D&btag=e00088000&expire=1718833901&l=2024061915511603E1B86FAD784F077517&ply_type=2&policy=2&signature=e4fa3306f678258cebe71954cfebeb75&tk=tt_chain_token',\n",
      "                                                     'https://v19-webapp-prime.us.tiktok.com/video/tos/useast2a/tos-useast2a-ve-0068c002/o4cheWg4bAhg6OfYAnjHneCg1DCS8IlICdNRRE/?a=1988&bti=ODszNWYuMDE6&ch=0&cr=3&dr=0&lr=unwatermarked&cd=0%7C0%7C0%7C&cv=1&br=2240&bt=1120&cs=0&ds=6&ft=4KJMyMzm8Zmo0I2h9-4jVRRCQpWrKsd.&mime_type=video_mp4&qs=0&rc=NzY1aWVnNTpoOTpoZ2c6ZEBpMzh2ZDQ6ZnFoaTMzNzczM0A1L14zM15jNWAxY2JgYmMvYSNoMWItcjRnZ2xgLS1kMTZzcw%3D%3D&btag=e00088000&expire=1718833901&l=2024061915511603E1B86FAD784F077517&ply_type=2&policy=2&signature=e4fa3306f678258cebe71954cfebeb75&tk=tt_chain_token']},\n",
      "                            'QualityType': 20},\n",
      "                           {'Bitrate': 1088107,\n",
      "                            'CodecType': 'h265_hvc1',\n",
      "                            'GearName': 'adapt_lowest_1080_1',\n",
      "                            'PlayAddr': {'DataSize': 3377759,\n",
      "                                         'FileCs': 'c:0-22029-6dba',\n",
      "                                         'FileHash': 'd1170414d3c0f695dd1c83ce957322c2',\n",
      "                                         'Uri': 'v09044g40000cfoejnjc77u10aes45k0',\n",
      "                                         'UrlKey': 'v09044g40000cfoejnjc77u10aes45k0_bytevc1_1080p_1088107',\n",
      "                                         'UrlList': ['https://v16-webapp-prime.us.tiktok.com/video/tos/useast2a/tos-useast2a-ve-0068c003/o4hR3uUwBLppOVzCBQNofAAJQTIFJDavBHej7E/?a=1988&bti=ODszNWYuMDE6&ch=0&cr=3&dr=0&lr=unwatermarked&cd=0%7C0%7C0%7C&cv=1&br=2124&bt=1062&cs=2&ds=4&ft=4KJMyMzm8Zmo0I2h9-4jVRRCQpWrKsd.&mime_type=video_mp4&qs=15&rc=aTg5Mzs6ZzkzNGQ1aTk3Z0BpMzh2ZDQ6ZnFoaTMzNzczM0AxYzYuMjE2XmAxLi00YC4xYSNoMWItcjRnZ2xgLS1kMTZzcw%3D%3D&btag=e00088000&expire=1718833901&l=2024061915511603E1B86FAD784F077517&ply_type=2&policy=2&signature=ae7380b475fda9744d323c4caad580c9&tk=tt_chain_token',\n",
      "                                                     'https://v19-webapp-prime.us.tiktok.com/video/tos/useast2a/tos-useast2a-ve-0068c003/o4hR3uUwBLppOVzCBQNofAAJQTIFJDavBHej7E/?a=1988&bti=ODszNWYuMDE6&ch=0&cr=3&dr=0&lr=unwatermarked&cd=0%7C0%7C0%7C&cv=1&br=2124&bt=1062&cs=2&ds=4&ft=4KJMyMzm8Zmo0I2h9-4jVRRCQpWrKsd.&mime_type=video_mp4&qs=15&rc=aTg5Mzs6ZzkzNGQ1aTk3Z0BpMzh2ZDQ6ZnFoaTMzNzczM0AxYzYuMjE2XmAxLi00YC4xYSNoMWItcjRnZ2xgLS1kMTZzcw%3D%3D&btag=e00088000&expire=1718833901&l=2024061915511603E1B86FAD784F077517&ply_type=2&policy=2&signature=ae7380b475fda9744d323c4caad580c9&tk=tt_chain_token']},\n",
      "                            'QualityType': 2},\n",
      "                           {'Bitrate': 664897,\n",
      "                            'CodecType': 'h264',\n",
      "                            'GearName': 'lower_540_0',\n",
      "                            'PlayAddr': {'DataSize': 2064009,\n",
      "                                         'FileCs': 'c:0-21608-832c',\n",
      "                                         'FileHash': 'f8a774326315af7e39e00e2ec65a0f43',\n",
      "                                         'Uri': 'v09044g40000cfoejnjc77u10aes45k0',\n",
      "                                         'UrlKey': 'v09044g40000cfoejnjc77u10aes45k0_h264_540p_664897',\n",
      "                                         'UrlList': ['https://v16-webapp-prime.us.tiktok.com/video/tos/useast2a/tos-useast2a-ve-0068c003/oUfjnDgchCHAIRI8RCh3WS8Hn4ge1CbdEXA8Oe/?a=1988&bti=ODszNWYuMDE6&ch=0&cr=3&dr=0&lr=unwatermarked&cd=0%7C0%7C0%7C&cv=1&br=1298&bt=649&cs=0&ds=6&ft=4KJMyMzm8Zmo0I2h9-4jVRRCQpWrKsd.&mime_type=video_mp4&qs=4&rc=M2Q5ZGRpO2lnaTtpPDQ7NEBpMzh2ZDQ6ZnFoaTMzNzczM0A0XzRiYDY1NjUxNGMuMC9hYSNoMWItcjRnZ2xgLS1kMTZzcw%3D%3D&btag=e00088000&expire=1718833901&l=2024061915511603E1B86FAD784F077517&ply_type=2&policy=2&signature=1e6cb7db3e07b6109a8c10cd02198ccd&tk=tt_chain_token',\n",
      "                                                     'https://v19-webapp-prime.us.tiktok.com/video/tos/useast2a/tos-useast2a-ve-0068c003/oUfjnDgchCHAIRI8RCh3WS8Hn4ge1CbdEXA8Oe/?a=1988&bti=ODszNWYuMDE6&ch=0&cr=3&dr=0&lr=unwatermarked&cd=0%7C0%7C0%7C&cv=1&br=1298&bt=649&cs=0&ds=6&ft=4KJMyMzm8Zmo0I2h9-4jVRRCQpWrKsd.&mime_type=video_mp4&qs=4&rc=M2Q5ZGRpO2lnaTtpPDQ7NEBpMzh2ZDQ6ZnFoaTMzNzczM0A0XzRiYDY1NjUxNGMuMC9hYSNoMWItcjRnZ2xgLS1kMTZzcw%3D%3D&btag=e00088000&expire=1718833901&l=2024061915511603E1B86FAD784F077517&ply_type=2&policy=2&signature=1e6cb7db3e07b6109a8c10cd02198ccd&tk=tt_chain_token']},\n",
      "                            'QualityType': 24},\n",
      "                           {'Bitrate': 617156,\n",
      "                            'CodecType': 'h265_hvc1',\n",
      "                            'GearName': 'adapt_lower_720_1',\n",
      "                            'PlayAddr': {'DataSize': 1915807,\n",
      "                                         'FileCs': 'c:0-21948-da46',\n",
      "                                         'FileHash': '65f01e7c3c55aaf28385869acf39d5b7',\n",
      "                                         'Uri': 'v09044g40000cfoejnjc77u10aes45k0',\n",
      "                                         'UrlKey': 'v09044g40000cfoejnjc77u10aes45k0_bytevc1_720p_617156',\n",
      "                                         'UrlList': ['https://v16-webapp-prime.us.tiktok.com/video/tos/useast2a/tos-useast2a-pve-0068/oEqzfB3AHEB0F7TwIQBJhNovJ7eAjUApGBCRQA/?a=1988&bti=ODszNWYuMDE6&ch=0&cr=3&dr=0&lr=unwatermarked&cd=0%7C0%7C0%7C&cv=1&br=1204&bt=602&cs=2&ds=3&ft=4KJMyMzm8Zmo0I2h9-4jVRRCQpWrKsd.&mime_type=video_mp4&qs=14&rc=aThoOTMzaWVmZTxoZmY5ZUBpMzh2ZDQ6ZnFoaTMzNzczM0BeNjQ2Xy80XjYxNTUvNWExYSNoMWItcjRnZ2xgLS1kMTZzcw%3D%3D&btag=e00088000&expire=1718833901&l=2024061915511603E1B86FAD784F077517&ply_type=2&policy=2&signature=611cc5aa574ebefe001b9f4f6938f237&tk=tt_chain_token',\n",
      "                                                     'https://v19-webapp-prime.us.tiktok.com/video/tos/useast2a/tos-useast2a-pve-0068/oEqzfB3AHEB0F7TwIQBJhNovJ7eAjUApGBCRQA/?a=1988&bti=ODszNWYuMDE6&ch=0&cr=3&dr=0&lr=unwatermarked&cd=0%7C0%7C0%7C&cv=1&br=1204&bt=602&cs=2&ds=3&ft=4KJMyMzm8Zmo0I2h9-4jVRRCQpWrKsd.&mime_type=video_mp4&qs=14&rc=aThoOTMzaWVmZTxoZmY5ZUBpMzh2ZDQ6ZnFoaTMzNzczM0BeNjQ2Xy80XjYxNTUvNWExYSNoMWItcjRnZ2xgLS1kMTZzcw%3D%3D&btag=e00088000&expire=1718833901&l=2024061915511603E1B86FAD784F077517&ply_type=2&policy=2&signature=611cc5aa574ebefe001b9f4f6938f237&tk=tt_chain_token']},\n",
      "                            'QualityType': 14},\n",
      "                           {'Bitrate': 551671,\n",
      "                            'CodecType': 'h265_hvc1',\n",
      "                            'GearName': 'adapt_540_1',\n",
      "                            'PlayAddr': {'DataSize': 1712526,\n",
      "                                         'FileCs': 'c:0-21948-7106',\n",
      "                                         'FileHash': '28adebd4f8c7862ca95a16c5f032400a',\n",
      "                                         'Uri': 'v09044g40000cfoejnjc77u10aes45k0',\n",
      "                                         'UrlKey': 'v09044g40000cfoejnjc77u10aes45k0_bytevc1_540p_551671',\n",
      "                                         'UrlList': ['https://v16-webapp-prime.us.tiktok.com/video/tos/useast2a/tos-useast2a-ve-0068c001/o8jBTGzvfBFve7wyoRFoABCEAB3IUJQNQjHpCh/?a=1988&bti=ODszNWYuMDE6&ch=0&cr=3&dr=0&lr=unwatermarked&cd=0%7C0%7C0%7C&cv=1&br=1076&bt=538&cs=2&ds=6&ft=4KJMyMzm8Zmo0I2h9-4jVRRCQpWrKsd.&mime_type=video_mp4&qs=11&rc=NDg1OTloZWQ6Omg2ZWk6OUBpMzh2ZDQ6ZnFoaTMzNzczM0A1L2NfXy9hNjYxYDAuYTA2YSNoMWItcjRnZ2xgLS1kMTZzcw%3D%3D&btag=e00088000&expire=1718833901&l=2024061915511603E1B86FAD784F077517&ply_type=2&policy=2&signature=96b1929b2f162df314de434bfad211da&tk=tt_chain_token',\n",
      "                                                     'https://v19-webapp-prime.us.tiktok.com/video/tos/useast2a/tos-useast2a-ve-0068c001/o8jBTGzvfBFve7wyoRFoABCEAB3IUJQNQjHpCh/?a=1988&bti=ODszNWYuMDE6&ch=0&cr=3&dr=0&lr=unwatermarked&cd=0%7C0%7C0%7C&cv=1&br=1076&bt=538&cs=2&ds=6&ft=4KJMyMzm8Zmo0I2h9-4jVRRCQpWrKsd.&mime_type=video_mp4&qs=11&rc=NDg1OTloZWQ6Omg2ZWk6OUBpMzh2ZDQ6ZnFoaTMzNzczM0A1L2NfXy9hNjYxYDAuYTA2YSNoMWItcjRnZ2xgLS1kMTZzcw%3D%3D&btag=e00088000&expire=1718833901&l=2024061915511603E1B86FAD784F077517&ply_type=2&policy=2&signature=96b1929b2f162df314de434bfad211da&tk=tt_chain_token']},\n",
      "                            'QualityType': 28},\n",
      "                           {'Bitrate': 492166,\n",
      "                            'CodecType': 'h264',\n",
      "                            'GearName': 'lowest_540_0',\n",
      "                            'PlayAddr': {'DataSize': 1527807,\n",
      "                                         'FileCs': 'c:0-21608-352e',\n",
      "                                         'FileHash': '05e84c8a6d3c9de57218e85c0c65a1a6',\n",
      "                                         'Uri': 'v09044g40000cfoejnjc77u10aes45k0',\n",
      "                                         'UrlKey': 'v09044g40000cfoejnjc77u10aes45k0_h264_540p_492166',\n",
      "                                         'UrlList': ['https://v16-webapp-prime.us.tiktok.com/video/tos/useast2a/tos-useast2a-ve-0068c002/o48O8FZH4AyICWeADEndfj1CSehbRtc0ICgghn/?a=1988&bti=ODszNWYuMDE6&ch=0&cr=3&dr=0&lr=unwatermarked&cd=0%7C0%7C0%7C&cv=1&br=960&bt=480&cs=0&ds=6&ft=4KJMyMzm8Zmo0I2h9-4jVRRCQpWrKsd.&mime_type=video_mp4&qs=5&rc=NmdmNjtoPGhkPDdkM2k5OEBpMzh2ZDQ6ZnFoaTMzNzczM0AxLTVfMjEzNi4xY2AyLV4yYSNoMWItcjRnZ2xgLS1kMTZzcw%3D%3D&btag=e00088000&expire=1718833901&l=2024061915511603E1B86FAD784F077517&ply_type=2&policy=2&signature=43c1d6dcbe01d80e202bdcf1ca47ab9f&tk=tt_chain_token',\n",
      "                                                     'https://v19-webapp-prime.us.tiktok.com/video/tos/useast2a/tos-useast2a-ve-0068c002/o48O8FZH4AyICWeADEndfj1CSehbRtc0ICgghn/?a=1988&bti=ODszNWYuMDE6&ch=0&cr=3&dr=0&lr=unwatermarked&cd=0%7C0%7C0%7C&cv=1&br=960&bt=480&cs=0&ds=6&ft=4KJMyMzm8Zmo0I2h9-4jVRRCQpWrKsd.&mime_type=video_mp4&qs=5&rc=NmdmNjtoPGhkPDdkM2k5OEBpMzh2ZDQ6ZnFoaTMzNzczM0AxLTVfMjEzNi4xY2AyLV4yYSNoMWItcjRnZ2xgLS1kMTZzcw%3D%3D&btag=e00088000&expire=1718833901&l=2024061915511603E1B86FAD784F077517&ply_type=2&policy=2&signature=43c1d6dcbe01d80e202bdcf1ca47ab9f&tk=tt_chain_token']},\n",
      "                            'QualityType': 25}],\n",
      "           'codecType': 'h264',\n",
      "           'cover': 'https://p16-sign-va.tiktokcdn.com/obj/tos-maliva-p-0068/ogE3RvEQJIAfohH6D8RFBeNpcTzLBBEICB9jAw?x-expires=1718982000&x-signature=EmJvQGGVqngzfhBo%2F3qvE0Oocug%3D',\n",
      "           'definition': '540p',\n",
      "           'downloadAddr': 'https://v16-webapp-prime.us.tiktok.com/video/tos/maliva/tos-maliva-ve-0068c801-us/oA1IHDQngLHCuOEebGHjCgACQBhTe4o9dekHgS/?a=1988&bti=ODszNWYuMDE6&ch=0&cr=3&dr=0&lr=tiktok_m&cd=0%7C0%7C1%7C&cv=1&br=2340&bt=1170&cs=0&ds=3&ft=4KJMyMzm8Zmo0I2h9-4jVRRCQpWrKsd.&mime_type=video_mp4&qs=0&rc=NzRoOGRpZ2c6Nzk7ZTtlZUBpMzh2ZDQ6ZnFoaTMzNzczM0BeYDM1YzQtNWAxNF8wLWM0YSNoMWItcjRnZ2xgLS1kMTZzcw%3D%3D&btag=e00088000&expire=1718833901&l=2024061915511603E1B86FAD784F077517&ply_type=2&policy=2&signature=b905ef289d223e8165b19cb13b0aeebb&tk=tt_chain_token',\n",
      "           'duration': 24,\n",
      "           'dynamicCover': 'https://p16-sign-va.tiktokcdn.com/obj/tos-maliva-p-0068/cd39b5e5365e4b5d897f1d8b4aba51a7_1676733411?x-expires=1718982000&x-signature=yQL%2FC8bLjk7TEqY2f%2F2FJWNxJUg%3D',\n",
      "           'encodeUserTag': '',\n",
      "           'encodedType': 'normal',\n",
      "           'format': 'mp4',\n",
      "           'height': 1024,\n",
      "           'id': '7201515135079353605',\n",
      "           'originCover': 'https://p16-sign-va.tiktokcdn.com/obj/tos-maliva-p-0068/12d132a0a3f4448ab502a6cdf3661492_1676733410?x-expires=1718982000&x-signature=HdZB0ZxLeULGerpYrDpYHCdHwGI%3D',\n",
      "           'playAddr': 'https://v16-webapp-prime.us.tiktok.com/video/tos/useast2a/tos-useast2a-ve-0068c002/o4cheWg4bAhg6OfYAnjHneCg1DCS8IlICdNRRE/?a=1988&bti=ODszNWYuMDE6&ch=0&cr=3&dr=0&lr=unwatermarked&cd=0%7C0%7C0%7C&cv=1&br=2240&bt=1120&cs=0&ds=6&ft=4KJMyMzm8Zmo0I2h9-4jVRRCQpWrKsd.&mime_type=video_mp4&qs=0&rc=NzY1aWVnNTpoOTpoZ2c6ZEBpMzh2ZDQ6ZnFoaTMzNzczM0A1L14zM15jNWAxY2JgYmMvYSNoMWItcjRnZ2xgLS1kMTZzcw%3D%3D&btag=e00088000&expire=1718833901&l=2024061915511603E1B86FAD784F077517&ply_type=2&policy=2&signature=e4fa3306f678258cebe71954cfebeb75&tk=tt_chain_token',\n",
      "           'ratio': '540p',\n",
      "           'subtitleInfos': [{'Format': 'webvtt',\n",
      "                              'LanguageCodeName': 'ind-ID',\n",
      "                              'LanguageID': '23',\n",
      "                              'Size': 910,\n",
      "                              'Source': 'MT',\n",
      "                              'Url': 'https://v16m-webapp.tiktokcdn-us.com/3d81b179f814c8a41f0d02ea72d5ad9c/667352ed/video/tos/useast2a/tos-useast2a-v-0068/1b25c1b17c94411aba0b5be73160cb22/?a=1988&bti=ODszNWYuMDE6&ch=0&cr=3&dr=0&lr=unwatermarked&cd=0%7C0%7C0%7C&cv=1&br=12546&bt=6273&ds=4&ft=4KLMeMzm8Zmo0I2h9-4jVRRCQpWrKsd.&mime_type=video_mp4&qs=13&rc=Mzh2ZDQ6ZnFoaTMzNzczM0BpMzh2ZDQ6ZnFoaTMzNzczM0BoMWItcjRnZ2xgLS1kMTZzYSNoMWItcjRnZ2xgLS1kMTZzcw%3D%3D&l=2024061915511603E1B86FAD784F077517&btag=e00048000',\n",
      "                              'UrlExpire': 1718833901,\n",
      "                              'Version': '4'},\n",
      "                             {'Format': 'webvtt',\n",
      "                              'LanguageCodeName': 'rus-RU',\n",
      "                              'LanguageID': '6',\n",
      "                              'Size': 1391,\n",
      "                              'Source': 'MT',\n",
      "                              'Url': 'https://v16m-webapp.tiktokcdn-us.com/51e8ae7fb4245ecceb5df913e4c99358/667352ed/video/tos/useast2a/tos-useast2a-v-0068/46c844c04cd04303b48c8930004729c9/?a=1988&bti=ODszNWYuMDE6&ch=0&cr=3&dr=0&lr=unwatermarked&cd=0%7C0%7C0%7C&cv=1&br=12546&bt=6273&ds=4&ft=4KLMeMzm8Zmo0I2h9-4jVRRCQpWrKsd.&mime_type=video_mp4&qs=13&rc=Mzh2ZDQ6ZnFoaTMzNzczM0BpMzh2ZDQ6ZnFoaTMzNzczM0BoMWItcjRnZ2xgLS1kMTZzYSNoMWItcjRnZ2xgLS1kMTZzcw%3D%3D&l=2024061915511603E1B86FAD784F077517&btag=e00048000',\n",
      "                              'UrlExpire': 1718833901,\n",
      "                              'Version': '4'},\n",
      "                             {'Format': 'webvtt',\n",
      "                              'LanguageCodeName': 'ita-IT',\n",
      "                              'LanguageID': '26',\n",
      "                              'Size': 1066,\n",
      "                              'Source': 'MT',\n",
      "                              'Url': 'https://v16m-webapp.tiktokcdn-us.com/d09064d5a7863103f278352e9f0efe40/667352ed/video/tos/useast2a/tos-useast2a-v-0068/1a4c40780d8b49e6bac81e4bfcc05f80/?a=1988&bti=ODszNWYuMDE6&ch=0&cr=3&dr=0&lr=unwatermarked&cd=0%7C0%7C0%7C&cv=1&br=12546&bt=6273&ds=4&ft=4KLMeMzm8Zmo0I2h9-4jVRRCQpWrKsd.&mime_type=video_mp4&qs=13&rc=Mzh2ZDQ6ZnFoaTMzNzczM0BpMzh2ZDQ6ZnFoaTMzNzczM0BoMWItcjRnZ2xgLS1kMTZzYSNoMWItcjRnZ2xgLS1kMTZzcw%3D%3D&l=2024061915511603E1B86FAD784F077517&btag=e00048000',\n",
      "                              'UrlExpire': 1718833901,\n",
      "                              'Version': '4'},\n",
      "                             {'Format': 'webvtt',\n",
      "                              'LanguageCodeName': 'ara-SA',\n",
      "                              'LanguageID': '34',\n",
      "                              'Size': 1036,\n",
      "                              'Source': 'MT',\n",
      "                              'Url': 'https://v16m-webapp.tiktokcdn-us.com/823926a9444e0e387dda84b1d824fc82/667352ed/video/tos/useast2a/tos-useast2a-v-0068/7800672d35e7463ebe39061168ebb29d/?a=1988&bti=ODszNWYuMDE6&ch=0&cr=3&dr=0&lr=unwatermarked&cd=0%7C0%7C0%7C&cv=1&br=12546&bt=6273&ds=4&ft=4KLMeMzm8Zmo0I2h9-4jVRRCQpWrKsd.&mime_type=video_mp4&qs=13&rc=Mzh2ZDQ6ZnFoaTMzNzczM0BpMzh2ZDQ6ZnFoaTMzNzczM0BoMWItcjRnZ2xgLS1kMTZzYSNoMWItcjRnZ2xgLS1kMTZzcw%3D%3D&l=2024061915511603E1B86FAD784F077517&btag=e00048000',\n",
      "                              'UrlExpire': 1718833901,\n",
      "                              'Version': '4'},\n",
      "                             {'Format': 'webvtt',\n",
      "                              'LanguageCodeName': 'cmn-Hans-CN',\n",
      "                              'LanguageID': '1',\n",
      "                              'Size': 876,\n",
      "                              'Source': 'MT',\n",
      "                              'Url': 'https://v16m-webapp.tiktokcdn-us.com/cc63a3ca85b3c55ca64dba0e8864cb21/667352ed/video/tos/useast2a/tos-useast2a-v-0068/73d1b15bbdf04b4c90cb4893dd269635/?a=1988&bti=ODszNWYuMDE6&ch=0&cr=3&dr=0&lr=unwatermarked&cd=0%7C0%7C0%7C&cv=1&br=12546&bt=6273&ds=4&ft=4KLMeMzm8Zmo0I2h9-4jVRRCQpWrKsd.&mime_type=video_mp4&qs=13&rc=Mzh2ZDQ6ZnFoaTMzNzczM0BpMzh2ZDQ6ZnFoaTMzNzczM0BoMWItcjRnZ2xgLS1kMTZzYSNoMWItcjRnZ2xgLS1kMTZzcw%3D%3D&l=2024061915511603E1B86FAD784F077517&btag=e00048000',\n",
      "                              'UrlExpire': 1718833901,\n",
      "                              'Version': '4'},\n",
      "                             {'Format': 'webvtt',\n",
      "                              'LanguageCodeName': 'eng-US',\n",
      "                              'LanguageID': '2',\n",
      "                              'Size': 918,\n",
      "                              'Source': 'ASR',\n",
      "                              'Url': 'https://v16m-webapp.tiktokcdn-us.com/565c80a80ba66e9486f10df66482b93e/667352ed/video/tos/useast2a/tos-useast2a-v-0068/4b05853b65174eccae26a3d9e1b9984d/?a=1988&bti=ODszNWYuMDE6&ch=0&cr=3&dr=0&lr=unwatermarked&cd=0%7C0%7C0%7C&cv=1&br=12546&bt=6273&ds=4&ft=4KLMeMzm8Zmo0I2h9-4jVRRCQpWrKsd.&mime_type=video_mp4&qs=13&rc=Mzh2ZDQ6ZnFoaTMzNzczM0BpMzh2ZDQ6ZnFoaTMzNzczM0BoMWItcjRnZ2xgLS1kMTZzYSNoMWItcjRnZ2xgLS1kMTZzcw%3D%3D&l=2024061915511603E1B86FAD784F077517&btag=e00048000',\n",
      "                              'UrlExpire': 1718833901,\n",
      "                              'Version': '1'},\n",
      "                             {'Format': 'webvtt',\n",
      "                              'LanguageCodeName': 'fra-FR',\n",
      "                              'LanguageID': '7',\n",
      "                              'Size': 1043,\n",
      "                              'Source': 'MT',\n",
      "                              'Url': 'https://v16m-webapp.tiktokcdn-us.com/4130b3b8d6af11fe102d4217fd06caa2/667352ed/video/tos/useast2a/tos-useast2a-v-0068/4eaee078287a4003a9415556e4e4719e/?a=1988&bti=ODszNWYuMDE6&ch=0&cr=3&dr=0&lr=unwatermarked&cd=0%7C0%7C0%7C&cv=1&br=12546&bt=6273&ds=4&ft=4KLMeMzm8Zmo0I2h9-4jVRRCQpWrKsd.&mime_type=video_mp4&qs=13&rc=Mzh2ZDQ6ZnFoaTMzNzczM0BpMzh2ZDQ6ZnFoaTMzNzczM0BoMWItcjRnZ2xgLS1kMTZzYSNoMWItcjRnZ2xgLS1kMTZzcw%3D%3D&l=2024061915511603E1B86FAD784F077517&btag=e00048000',\n",
      "                              'UrlExpire': 1718833901,\n",
      "                              'Version': '4'},\n",
      "                             {'Format': 'webvtt',\n",
      "                              'LanguageCodeName': 'kor-KR',\n",
      "                              'LanguageID': '4',\n",
      "                              'Size': 1063,\n",
      "                              'Source': 'MT',\n",
      "                              'Url': 'https://v16m-webapp.tiktokcdn-us.com/2a96e0897ae8f99eab2eb4e305dfb1c0/667352ed/video/tos/useast2a/tos-useast2a-v-0068/7b79aca75b5942bdbf71da493aa168a4/?a=1988&bti=ODszNWYuMDE6&ch=0&cr=3&dr=0&lr=unwatermarked&cd=0%7C0%7C0%7C&cv=1&br=12546&bt=6273&ds=4&ft=4KLMeMzm8Zmo0I2h9-4jVRRCQpWrKsd.&mime_type=video_mp4&qs=13&rc=Mzh2ZDQ6ZnFoaTMzNzczM0BpMzh2ZDQ6ZnFoaTMzNzczM0BoMWItcjRnZ2xgLS1kMTZzYSNoMWItcjRnZ2xgLS1kMTZzcw%3D%3D&l=2024061915511603E1B86FAD784F077517&btag=e00048000',\n",
      "                              'UrlExpire': 1718833901,\n",
      "                              'Version': '4'},\n",
      "                             {'Format': 'webvtt',\n",
      "                              'LanguageCodeName': 'por-PT',\n",
      "                              'LanguageID': '8',\n",
      "                              'Size': 1034,\n",
      "                              'Source': 'MT',\n",
      "                              'Url': 'https://v16m-webapp.tiktokcdn-us.com/a593a607a3ffc1bf17f086b8a46ce0a9/667352ed/video/tos/useast2a/tos-useast2a-v-0068/7d95c0788f8d4518a347f1da248e03a8/?a=1988&bti=ODszNWYuMDE6&ch=0&cr=3&dr=0&lr=unwatermarked&cd=0%7C0%7C0%7C&cv=1&br=12546&bt=6273&ds=4&ft=4KLMeMzm8Zmo0I2h9-4jVRRCQpWrKsd.&mime_type=video_mp4&qs=13&rc=Mzh2ZDQ6ZnFoaTMzNzczM0BpMzh2ZDQ6ZnFoaTMzNzczM0BoMWItcjRnZ2xgLS1kMTZzYSNoMWItcjRnZ2xgLS1kMTZzcw%3D%3D&l=2024061915511603E1B86FAD784F077517&btag=e00048000',\n",
      "                              'UrlExpire': 1718833901,\n",
      "                              'Version': '4'},\n",
      "                             {'Format': 'webvtt',\n",
      "                              'LanguageCodeName': 'deu-DE',\n",
      "                              'LanguageID': '20',\n",
      "                              'Size': 1055,\n",
      "                              'Source': 'MT',\n",
      "                              'Url': 'https://v16m-webapp.tiktokcdn-us.com/22affbfe647df261b8994364578a2f96/667352ed/video/tos/useast2a/tos-useast2a-v-0068/3f4af482d8c4424b8ab936f08df83346/?a=1988&bti=ODszNWYuMDE6&ch=0&cr=3&dr=0&lr=unwatermarked&cd=0%7C0%7C0%7C&cv=1&br=12546&bt=6273&ds=4&ft=4KLMeMzm8Zmo0I2h9-4jVRRCQpWrKsd.&mime_type=video_mp4&qs=13&rc=Mzh2ZDQ6ZnFoaTMzNzczM0BpMzh2ZDQ6ZnFoaTMzNzczM0BoMWItcjRnZ2xgLS1kMTZzYSNoMWItcjRnZ2xgLS1kMTZzcw%3D%3D&l=2024061915511603E1B86FAD784F077517&btag=e00048000',\n",
      "                              'UrlExpire': 1718833901,\n",
      "                              'Version': '4'},\n",
      "                             {'Format': 'webvtt',\n",
      "                              'LanguageCodeName': 'jpn-JP',\n",
      "                              'LanguageID': '3',\n",
      "                              'Size': 1122,\n",
      "                              'Source': 'MT',\n",
      "                              'Url': 'https://v16m-webapp.tiktokcdn-us.com/c00aec49e831e1135f7f71f545d35312/667352ed/video/tos/useast2a/tos-useast2a-v-0068/d3643c714c004615b22e1d3d7a9f6c4a/?a=1988&bti=ODszNWYuMDE6&ch=0&cr=3&dr=0&lr=unwatermarked&cd=0%7C0%7C0%7C&cv=1&br=12546&bt=6273&ds=4&ft=4KLMeMzm8Zmo0I2h9-4jVRRCQpWrKsd.&mime_type=video_mp4&qs=13&rc=Mzh2ZDQ6ZnFoaTMzNzczM0BpMzh2ZDQ6ZnFoaTMzNzczM0BoMWItcjRnZ2xgLS1kMTZzYSNoMWItcjRnZ2xgLS1kMTZzcw%3D%3D&l=2024061915511603E1B86FAD784F077517&btag=e00048000',\n",
      "                              'UrlExpire': 1718833901,\n",
      "                              'Version': '4'},\n",
      "                             {'Format': 'webvtt',\n",
      "                              'LanguageCodeName': 'vie-VN',\n",
      "                              'LanguageID': '10',\n",
      "                              'Size': 1182,\n",
      "                              'Source': 'MT',\n",
      "                              'Url': 'https://v16m-webapp.tiktokcdn-us.com/780df92b4dc96e891e4bdefd1429b8c3/667352ed/video/tos/useast2a/tos-useast2a-v-0068/f27d46e5dad745298daea5c54e53df33/?a=1988&bti=ODszNWYuMDE6&ch=0&cr=3&dr=0&lr=unwatermarked&cd=0%7C0%7C0%7C&cv=1&br=12546&bt=6273&ds=4&ft=4KLMeMzm8Zmo0I2h9-4jVRRCQpWrKsd.&mime_type=video_mp4&qs=13&rc=Mzh2ZDQ6ZnFoaTMzNzczM0BpMzh2ZDQ6ZnFoaTMzNzczM0BoMWItcjRnZ2xgLS1kMTZzYSNoMWItcjRnZ2xgLS1kMTZzcw%3D%3D&l=2024061915511603E1B86FAD784F077517&btag=e00048000',\n",
      "                              'UrlExpire': 1718833901,\n",
      "                              'Version': '4'},\n",
      "                             {'Format': 'webvtt',\n",
      "                              'LanguageCodeName': 'spa-ES',\n",
      "                              'LanguageID': '9',\n",
      "                              'Size': 1087,\n",
      "                              'Source': 'MT',\n",
      "                              'Url': 'https://v16m-webapp.tiktokcdn-us.com/3d666c24db61f78ee0e841a5d0e7a0f1/667352ed/video/tos/useast2a/tos-useast2a-v-0068/0853852be66e45e7841c2868836c621b/?a=1988&bti=ODszNWYuMDE6&ch=0&cr=3&dr=0&lr=unwatermarked&cd=0%7C0%7C0%7C&cv=1&br=12546&bt=6273&ds=4&ft=4KLMeMzm8Zmo0I2h9-4jVRRCQpWrKsd.&mime_type=video_mp4&qs=13&rc=Mzh2ZDQ6ZnFoaTMzNzczM0BpMzh2ZDQ6ZnFoaTMzNzczM0BoMWItcjRnZ2xgLS1kMTZzYSNoMWItcjRnZ2xgLS1kMTZzcw%3D%3D&l=2024061915511603E1B86FAD784F077517&btag=e00048000',\n",
      "                              'UrlExpire': 1718833901,\n",
      "                              'Version': '4'}],\n",
      "           'videoQuality': 'normal',\n",
      "           'volumeInfo': {'Loudness': -18.8, 'Peak': 0.63096},\n",
      "           'width': 576,\n",
      "           'zoomCover': {'240': 'https://p16-sign-va.tiktokcdn.com/tos-maliva-p-0068/ogE3RvEQJIAfohH6D8RFBeNpcTzLBBEICB9jAw~tplv-photomode-zoomcover:240:240.avif?x-expires=1718982000&x-signature=Ijkm4KbtMXuLt2uScQTrZFjU90I%3D',\n",
      "                         '480': 'https://p16-sign-va.tiktokcdn.com/tos-maliva-p-0068/ogE3RvEQJIAfohH6D8RFBeNpcTzLBBEICB9jAw~tplv-photomode-zoomcover:480:480.avif?x-expires=1718982000&x-signature=NoWOcqcfE6LiQmeTQc6exw2FyiE%3D',\n",
      "                         '720': 'https://p16-sign-va.tiktokcdn.com/tos-maliva-p-0068/ogE3RvEQJIAfohH6D8RFBeNpcTzLBBEICB9jAw~tplv-photomode-zoomcover:720:720.avif?x-expires=1718982000&x-signature=Fe5N7TlCF9oSUDlkBP%2Bb7J9LqN8%3D',\n",
      "                         '960': 'https://p16-sign-va.tiktokcdn.com/tos-maliva-p-0068/ogE3RvEQJIAfohH6D8RFBeNpcTzLBBEICB9jAw~tplv-photomode-zoomcover:960:960.avif?x-expires=1718982000&x-signature=YTz2Gjj0xZRJqx%2BqnGNxOLBVsBk%3D'}}}\n"
     ]
    }
   ],
   "source": [
    "pprint(content['data']['itemList'][0])"
   ]
  },
  {
   "cell_type": "markdown",
   "metadata": {},
   "source": [
    "## Get all videos\n",
    "\n",
    "We're hungry for more, so let's grab all of the JSON files that contain video data and combine them into one big pandas dataframe."
   ]
  },
  {
   "cell_type": "code",
   "execution_count": 108,
   "metadata": {},
   "outputs": [
    {
     "data": {
      "text/plain": [
       "['api/post/item_list/5cb0c15c4fbe664ad4c272d68b8590e3.json',\n",
       " 'api/post/item_list/6b45c2be1e07e9a5680bc5341fe54725.json',\n",
       " 'api/post/item_list/3a215d61d9bf7dc60d7fe9622380a31b.json',\n",
       " 'api/post/item_list/7ef63e219a428d8192393c3d2bf07266.json',\n",
       " 'api/post/item_list/348b654d28f07521d668432862694ead.json']"
      ]
     },
     "execution_count": 108,
     "metadata": {},
     "output_type": "execute_result"
    }
   ],
   "source": [
    "import glob\n",
    "\n",
    "filenames = glob.glob(\"api/post/item_list/*.json\")\n",
    "filenames[:5]"
   ]
  },
  {
   "cell_type": "code",
   "execution_count": 109,
   "metadata": {},
   "outputs": [
    {
     "data": {
      "text/plain": [
       "5556"
      ]
     },
     "execution_count": 109,
     "metadata": {},
     "output_type": "execute_result"
    }
   ],
   "source": [
    "rows = []\n",
    "\n",
    "for filename in filenames:\n",
    "    with open(filename) as fp:\n",
    "        content = json.load(fp)\n",
    "        rows.extend(content['data']['itemList'])\n",
    "\n",
    "len(rows)"
   ]
  },
  {
   "cell_type": "markdown",
   "metadata": {},
   "source": [
    "The data in the JSON response is nested in a wild way, so we'll use `pd.json_normalize` to \"flatten\" the dictionaries inside of dictionaries inside of dictionaries into something simpler."
   ]
  },
  {
   "cell_type": "code",
   "execution_count": 110,
   "metadata": {},
   "outputs": [
    {
     "data": {
      "text/html": [
       "<div>\n",
       "<style scoped>\n",
       "    .dataframe tbody tr th:only-of-type {\n",
       "        vertical-align: middle;\n",
       "    }\n",
       "\n",
       "    .dataframe tbody tr th {\n",
       "        vertical-align: top;\n",
       "    }\n",
       "\n",
       "    .dataframe thead th {\n",
       "        text-align: right;\n",
       "    }\n",
       "</style>\n",
       "<table border=\"1\" class=\"dataframe\">\n",
       "  <thead>\n",
       "    <tr style=\"text-align: right;\">\n",
       "      <th></th>\n",
       "      <th>AIGCDescription</th>\n",
       "      <th>challenges</th>\n",
       "      <th>collected</th>\n",
       "      <th>contents</th>\n",
       "      <th>createTime</th>\n",
       "      <th>desc</th>\n",
       "      <th>digged</th>\n",
       "      <th>duetDisplay</th>\n",
       "      <th>duetEnabled</th>\n",
       "      <th>forFriend</th>\n",
       "      <th>id</th>\n",
       "      <th>itemCommentStatus</th>\n",
       "      <th>officalItem</th>\n",
       "      <th>originalItem</th>\n",
       "      <th>privateItem</th>\n",
       "      <th>secret</th>\n",
       "      <th>shareEnabled</th>\n",
       "      <th>stitchDisplay</th>\n",
       "      <th>stitchEnabled</th>\n",
       "      <th>textExtra</th>\n",
       "      <th>author_avatarLarger</th>\n",
       "      <th>author_avatarMedium</th>\n",
       "      <th>author_avatarThumb</th>\n",
       "      <th>author_commentSetting</th>\n",
       "      <th>author_downloadSetting</th>\n",
       "      <th>author_duetSetting</th>\n",
       "      <th>author_ftc</th>\n",
       "      <th>author_id</th>\n",
       "      <th>author_isADVirtual</th>\n",
       "      <th>author_isEmbedBanned</th>\n",
       "      <th>author_nickname</th>\n",
       "      <th>author_openFavorite</th>\n",
       "      <th>author_privateAccount</th>\n",
       "      <th>author_relation</th>\n",
       "      <th>author_secUid</th>\n",
       "      <th>author_secret</th>\n",
       "      <th>author_signature</th>\n",
       "      <th>author_stitchSetting</th>\n",
       "      <th>author_uniqueId</th>\n",
       "      <th>author_verified</th>\n",
       "      <th>item_control_can_repost</th>\n",
       "      <th>music_album</th>\n",
       "      <th>music_authorName</th>\n",
       "      <th>music_coverLarge</th>\n",
       "      <th>music_coverMedium</th>\n",
       "      <th>music_coverThumb</th>\n",
       "      <th>music_duration</th>\n",
       "      <th>music_id</th>\n",
       "      <th>music_original</th>\n",
       "      <th>music_title</th>\n",
       "      <th>stats_collectCount</th>\n",
       "      <th>stats_commentCount</th>\n",
       "      <th>stats_diggCount</th>\n",
       "      <th>stats_playCount</th>\n",
       "      <th>stats_shareCount</th>\n",
       "      <th>statsV2_collectCount</th>\n",
       "      <th>statsV2_commentCount</th>\n",
       "      <th>statsV2_diggCount</th>\n",
       "      <th>statsV2_playCount</th>\n",
       "      <th>statsV2_repostCount</th>\n",
       "      <th>statsV2_shareCount</th>\n",
       "      <th>video_VQScore</th>\n",
       "      <th>video_bitrate</th>\n",
       "      <th>video_bitrateInfo</th>\n",
       "      <th>video_codecType</th>\n",
       "      <th>video_cover</th>\n",
       "      <th>video_definition</th>\n",
       "      <th>video_downloadAddr</th>\n",
       "      <th>video_duration</th>\n",
       "      <th>video_dynamicCover</th>\n",
       "      <th>video_encodeUserTag</th>\n",
       "      <th>video_encodedType</th>\n",
       "      <th>video_format</th>\n",
       "      <th>video_height</th>\n",
       "      <th>video_id</th>\n",
       "      <th>video_originCover</th>\n",
       "      <th>video_playAddr</th>\n",
       "      <th>video_ratio</th>\n",
       "      <th>video_videoQuality</th>\n",
       "      <th>video_volumeInfo_Loudness</th>\n",
       "      <th>video_volumeInfo_Peak</th>\n",
       "      <th>video_width</th>\n",
       "      <th>video_zoomCover_240</th>\n",
       "      <th>video_zoomCover_480</th>\n",
       "      <th>video_zoomCover_720</th>\n",
       "      <th>video_zoomCover_960</th>\n",
       "      <th>music_playUrl</th>\n",
       "      <th>diversificationId</th>\n",
       "      <th>video_subtitleInfos</th>\n",
       "      <th>playlistId</th>\n",
       "      <th>anchors</th>\n",
       "      <th>adLabelVersion</th>\n",
       "      <th>adAuthorization</th>\n",
       "      <th>isAd</th>\n",
       "      <th>item_control_can_comment</th>\n",
       "      <th>item_control_can_creator_redirect</th>\n",
       "      <th>item_control_can_music_redirect</th>\n",
       "      <th>item_control_can_share</th>\n",
       "      <th>itemMute</th>\n",
       "      <th>poi_address</th>\n",
       "      <th>poi_city</th>\n",
       "      <th>poi_cityCode</th>\n",
       "      <th>poi_country</th>\n",
       "      <th>poi_countryCode</th>\n",
       "      <th>poi_fatherPoiName</th>\n",
       "      <th>poi_id</th>\n",
       "      <th>poi_name</th>\n",
       "      <th>poi_province</th>\n",
       "      <th>poi_ttTypeCode</th>\n",
       "      <th>poi_ttTypeNameMedium</th>\n",
       "      <th>poi_ttTypeNameSuper</th>\n",
       "      <th>poi_ttTypeNameTiny</th>\n",
       "      <th>poi_typeCode</th>\n",
       "      <th>BAInfo</th>\n",
       "      <th>isECVideo</th>\n",
       "      <th>music_scheduleSearchTime</th>\n",
       "      <th>duetInfo_duetFromId</th>\n",
       "      <th>videoSuggestWordsList_video_suggest_words_struct</th>\n",
       "      <th>warnInfo</th>\n",
       "      <th>isPinnedItem</th>\n",
       "      <th>imagePost_cover_imageHeight</th>\n",
       "      <th>imagePost_cover_imageURL_urlList</th>\n",
       "      <th>imagePost_cover_imageWidth</th>\n",
       "      <th>imagePost_images</th>\n",
       "      <th>imagePost_shareCover_imageHeight</th>\n",
       "      <th>imagePost_shareCover_imageURL_urlList</th>\n",
       "      <th>imagePost_shareCover_imageWidth</th>\n",
       "      <th>imagePost_title</th>\n",
       "    </tr>\n",
       "  </thead>\n",
       "  <tbody>\n",
       "    <tr>\n",
       "      <th>0</th>\n",
       "      <td></td>\n",
       "      <td>[{'coverLarger': 'https://p16-amd-va.tiktokcdn.com/obj/musically-maliva...</td>\n",
       "      <td>False</td>\n",
       "      <td>[{'desc': 'How to make a handmade bow! #wrappinggifts #wrappingpresents...</td>\n",
       "      <td>1637693876</td>\n",
       "      <td>How to make a handmade bow! #wrappinggifts #wrappingpresents #giftwrapp...</td>\n",
       "      <td>False</td>\n",
       "      <td>0</td>\n",
       "      <td>True</td>\n",
       "      <td>False</td>\n",
       "      <td>7033841630654549294</td>\n",
       "      <td>0</td>\n",
       "      <td>False</td>\n",
       "      <td>False</td>\n",
       "      <td>False</td>\n",
       "      <td>False</td>\n",
       "      <td>True</td>\n",
       "      <td>0</td>\n",
       "      <td>True</td>\n",
       "      <td>[{'awemeId': '', 'end': 42, 'hashtagName': 'wrappinggifts', 'isCommerce...</td>\n",
       "      <td>https://p16-sign.tiktokcdn-us.com/tos-useast5-avt-0068-tx/42140f5821e99...</td>\n",
       "      <td>https://p16-sign.tiktokcdn-us.com/tos-useast5-avt-0068-tx/42140f5821e99...</td>\n",
       "      <td>https://p16-sign.tiktokcdn-us.com/tos-useast5-avt-0068-tx/42140f5821e99...</td>\n",
       "      <td>0</td>\n",
       "      <td>0</td>\n",
       "      <td>0</td>\n",
       "      <td>False</td>\n",
       "      <td>6875149358373176325</td>\n",
       "      <td>False</td>\n",
       "      <td>False</td>\n",
       "      <td>Margaret &amp; Stetson</td>\n",
       "      <td>False</td>\n",
       "      <td>False</td>\n",
       "      <td>0</td>\n",
       "      <td>MS4wLjABAAAAdK-fCBiHfDnxlcqWI8k0t8JSvC2zZ2elAJFE2WLjwpFmLRrGIHCVo8_e6Ww...</td>\n",
       "      <td>False</td>\n",
       "      <td>Mother-daughter duo\\nAmazon finds, home organization, &amp; more\\nSHOP OUR ...</td>\n",
       "      <td>0</td>\n",
       "      <td>everythingenvy</td>\n",
       "      <td>False</td>\n",
       "      <td>True</td>\n",
       "      <td>We Wish You a Merry Christmas</td>\n",
       "      <td>Merry Christmas</td>\n",
       "      <td>https://p16-sign-sg.tiktokcdn.com/tos-alisg-v-2774/02858d8a12b646579485...</td>\n",
       "      <td>https://p16-sign-sg.tiktokcdn.com/tos-alisg-v-2774/02858d8a12b646579485...</td>\n",
       "      <td>https://p16-sign-sg.tiktokcdn.com/tos-alisg-v-2774/02858d8a12b646579485...</td>\n",
       "      <td>29.0</td>\n",
       "      <td>6709421144174233602</td>\n",
       "      <td>False</td>\n",
       "      <td>We Wish You a Merry Christmas</td>\n",
       "      <td>121</td>\n",
       "      <td>4</td>\n",
       "      <td>630</td>\n",
       "      <td>17000</td>\n",
       "      <td>67</td>\n",
       "      <td>121</td>\n",
       "      <td>4</td>\n",
       "      <td>630</td>\n",
       "      <td>17000</td>\n",
       "      <td>0</td>\n",
       "      <td>67</td>\n",
       "      <td>0</td>\n",
       "      <td>1453478.0</td>\n",
       "      <td>[{'Bitrate': 1453478, 'CodecType': 'h264', 'GearName': 'normal_540_0', ...</td>\n",
       "      <td>h264</td>\n",
       "      <td>https://p16-sign.tiktokcdn-us.com/obj/tos-useast5-p-0068-tx/5a1b8d9d39e...</td>\n",
       "      <td>540p</td>\n",
       "      <td>https://v16-webapp-prime.us.tiktok.com/video/tos/useast5/tos-useast5-ve...</td>\n",
       "      <td>12</td>\n",
       "      <td>https://p16-pu-sign-useast8.tiktokcdn-us.com/obj/tos-useast5-p-0068-tx/...</td>\n",
       "      <td></td>\n",
       "      <td>normal</td>\n",
       "      <td>mp4</td>\n",
       "      <td>1024</td>\n",
       "      <td>7033841630654549294</td>\n",
       "      <td>https://p19-pu-sign-useast8.tiktokcdn-us.com/obj/tos-useast5-p-0068-tx/...</td>\n",
       "      <td>https://v16-webapp-prime.us.tiktok.com/video/tos/useast5/tos-useast5-ve...</td>\n",
       "      <td>540p</td>\n",
       "      <td>normal</td>\n",
       "      <td>-12.9</td>\n",
       "      <td>0.89125</td>\n",
       "      <td>576</td>\n",
       "      <td>https://p19-sign.tiktokcdn-us.com/tos-useast5-p-0068-tx/5a1b8d9d39e84a3...</td>\n",
       "      <td>https://p16-sign.tiktokcdn-us.com/tos-useast5-p-0068-tx/5a1b8d9d39e84a3...</td>\n",
       "      <td>https://p19-sign.tiktokcdn-us.com/tos-useast5-p-0068-tx/5a1b8d9d39e84a3...</td>\n",
       "      <td>https://p16-sign.tiktokcdn-us.com/tos-useast5-p-0068-tx/5a1b8d9d39e84a3...</td>\n",
       "      <td>NaN</td>\n",
       "      <td>NaN</td>\n",
       "      <td>NaN</td>\n",
       "      <td>NaN</td>\n",
       "      <td>NaN</td>\n",
       "      <td>NaN</td>\n",
       "      <td>NaN</td>\n",
       "      <td>NaN</td>\n",
       "      <td>NaN</td>\n",
       "      <td>NaN</td>\n",
       "      <td>NaN</td>\n",
       "      <td>NaN</td>\n",
       "      <td>NaN</td>\n",
       "      <td>NaN</td>\n",
       "      <td>NaN</td>\n",
       "      <td>NaN</td>\n",
       "      <td>NaN</td>\n",
       "      <td>NaN</td>\n",
       "      <td>NaN</td>\n",
       "      <td>NaN</td>\n",
       "      <td>NaN</td>\n",
       "      <td>NaN</td>\n",
       "      <td>NaN</td>\n",
       "      <td>NaN</td>\n",
       "      <td>NaN</td>\n",
       "      <td>NaN</td>\n",
       "      <td>NaN</td>\n",
       "      <td>NaN</td>\n",
       "      <td>NaN</td>\n",
       "      <td>NaN</td>\n",
       "      <td>NaN</td>\n",
       "      <td>NaN</td>\n",
       "      <td>NaN</td>\n",
       "      <td>NaN</td>\n",
       "      <td>NaN</td>\n",
       "      <td>NaN</td>\n",
       "      <td>NaN</td>\n",
       "      <td>NaN</td>\n",
       "      <td>NaN</td>\n",
       "      <td>NaN</td>\n",
       "      <td>NaN</td>\n",
       "      <td>NaN</td>\n",
       "    </tr>\n",
       "    <tr>\n",
       "      <th>1</th>\n",
       "      <td></td>\n",
       "      <td>[{'coverLarger': '', 'coverMedium': '', 'coverThumb': '', 'desc': '', '...</td>\n",
       "      <td>False</td>\n",
       "      <td>[{'desc': '#napkinfolding #foldingtok #foldingtutorials #napkinart #hol...</td>\n",
       "      <td>1637603273</td>\n",
       "      <td>#napkinfolding #foldingtok #foldingtutorials #napkinart #holidaytiktok ...</td>\n",
       "      <td>False</td>\n",
       "      <td>0</td>\n",
       "      <td>True</td>\n",
       "      <td>False</td>\n",
       "      <td>7033452496534293807</td>\n",
       "      <td>0</td>\n",
       "      <td>False</td>\n",
       "      <td>False</td>\n",
       "      <td>False</td>\n",
       "      <td>False</td>\n",
       "      <td>True</td>\n",
       "      <td>0</td>\n",
       "      <td>True</td>\n",
       "      <td>[{'awemeId': '', 'end': 14, 'hashtagName': 'napkinfolding', 'isCommerce...</td>\n",
       "      <td>https://p16-sign.tiktokcdn-us.com/tos-useast5-avt-0068-tx/42140f5821e99...</td>\n",
       "      <td>https://p16-sign.tiktokcdn-us.com/tos-useast5-avt-0068-tx/42140f5821e99...</td>\n",
       "      <td>https://p16-sign.tiktokcdn-us.com/tos-useast5-avt-0068-tx/42140f5821e99...</td>\n",
       "      <td>0</td>\n",
       "      <td>0</td>\n",
       "      <td>0</td>\n",
       "      <td>False</td>\n",
       "      <td>6875149358373176325</td>\n",
       "      <td>False</td>\n",
       "      <td>False</td>\n",
       "      <td>Margaret &amp; Stetson</td>\n",
       "      <td>False</td>\n",
       "      <td>False</td>\n",
       "      <td>0</td>\n",
       "      <td>MS4wLjABAAAAdK-fCBiHfDnxlcqWI8k0t8JSvC2zZ2elAJFE2WLjwpFmLRrGIHCVo8_e6Ww...</td>\n",
       "      <td>False</td>\n",
       "      <td>Mother-daughter duo\\nAmazon finds, home organization, &amp; more\\nSHOP OUR ...</td>\n",
       "      <td>0</td>\n",
       "      <td>everythingenvy</td>\n",
       "      <td>False</td>\n",
       "      <td>True</td>\n",
       "      <td>SAD GIRLZ LUV MONEY - Remix</td>\n",
       "      <td>Amaarae &amp; Kali Uchis</td>\n",
       "      <td>https://p16-sg.tiktokcdn.com/aweme/720x720/tos-alisg-v-2774/ogAAZIA9rjm...</td>\n",
       "      <td>https://p16-sg.tiktokcdn.com/aweme/200x200/tos-alisg-v-2774/ogAAZIA9rjm...</td>\n",
       "      <td>https://p16-sg.tiktokcdn.com/aweme/100x100/tos-alisg-v-2774/ogAAZIA9rjm...</td>\n",
       "      <td>48.0</td>\n",
       "      <td>7007785041036101634</td>\n",
       "      <td>False</td>\n",
       "      <td>SAD GIRLZ LUV MONEY - Remix</td>\n",
       "      <td>88</td>\n",
       "      <td>0</td>\n",
       "      <td>658</td>\n",
       "      <td>28900</td>\n",
       "      <td>77</td>\n",
       "      <td>88</td>\n",
       "      <td>0</td>\n",
       "      <td>658</td>\n",
       "      <td>28900</td>\n",
       "      <td>0</td>\n",
       "      <td>77</td>\n",
       "      <td>0</td>\n",
       "      <td>1284092.0</td>\n",
       "      <td>[{'Bitrate': 1284092, 'CodecType': 'h264', 'GearName': 'normal_540_0', ...</td>\n",
       "      <td>h264</td>\n",
       "      <td>https://p16-pu-sign-useast8.tiktokcdn-us.com/obj/tos-useast5-p-0068-tx/...</td>\n",
       "      <td>540p</td>\n",
       "      <td>https://v16-webapp-prime.us.tiktok.com/video/tos/useast5/tos-useast5-pv...</td>\n",
       "      <td>14</td>\n",
       "      <td>https://p16-pu-sign-useast8.tiktokcdn-us.com/obj/tos-useast5-p-0068-tx/...</td>\n",
       "      <td></td>\n",
       "      <td>normal</td>\n",
       "      <td>mp4</td>\n",
       "      <td>1024</td>\n",
       "      <td>7033452496534293807</td>\n",
       "      <td>https://p19-pu-sign-useast8.tiktokcdn-us.com/obj/tos-useast5-p-0068-tx/...</td>\n",
       "      <td>https://v16-webapp-prime.us.tiktok.com/video/tos/useast5/tos-useast5-ve...</td>\n",
       "      <td>540p</td>\n",
       "      <td>normal</td>\n",
       "      <td>-9.9</td>\n",
       "      <td>1.00000</td>\n",
       "      <td>576</td>\n",
       "      <td>https://p16-pu-sign-useast8.tiktokcdn-us.com/tos-useast5-p-0068-tx/f2c1...</td>\n",
       "      <td>https://p19-pu-sign-useast8.tiktokcdn-us.com/tos-useast5-p-0068-tx/f2c1...</td>\n",
       "      <td>https://p19-pu-sign-useast8.tiktokcdn-us.com/tos-useast5-p-0068-tx/f2c1...</td>\n",
       "      <td>https://p16-pu-sign-useast8.tiktokcdn-us.com/tos-useast5-p-0068-tx/f2c1...</td>\n",
       "      <td>https://sf16-ies-music-sg.tiktokcdn.com/obj/tos-alisg-ve-2774/7dc488cf6...</td>\n",
       "      <td>NaN</td>\n",
       "      <td>NaN</td>\n",
       "      <td>NaN</td>\n",
       "      <td>NaN</td>\n",
       "      <td>NaN</td>\n",
       "      <td>NaN</td>\n",
       "      <td>NaN</td>\n",
       "      <td>NaN</td>\n",
       "      <td>NaN</td>\n",
       "      <td>NaN</td>\n",
       "      <td>NaN</td>\n",
       "      <td>NaN</td>\n",
       "      <td>NaN</td>\n",
       "      <td>NaN</td>\n",
       "      <td>NaN</td>\n",
       "      <td>NaN</td>\n",
       "      <td>NaN</td>\n",
       "      <td>NaN</td>\n",
       "      <td>NaN</td>\n",
       "      <td>NaN</td>\n",
       "      <td>NaN</td>\n",
       "      <td>NaN</td>\n",
       "      <td>NaN</td>\n",
       "      <td>NaN</td>\n",
       "      <td>NaN</td>\n",
       "      <td>NaN</td>\n",
       "      <td>NaN</td>\n",
       "      <td>NaN</td>\n",
       "      <td>NaN</td>\n",
       "      <td>NaN</td>\n",
       "      <td>NaN</td>\n",
       "      <td>NaN</td>\n",
       "      <td>NaN</td>\n",
       "      <td>NaN</td>\n",
       "      <td>NaN</td>\n",
       "      <td>NaN</td>\n",
       "      <td>NaN</td>\n",
       "      <td>NaN</td>\n",
       "      <td>NaN</td>\n",
       "      <td>NaN</td>\n",
       "      <td>NaN</td>\n",
       "    </tr>\n",
       "  </tbody>\n",
       "</table>\n",
       "</div>"
      ],
      "text/plain": [
       "  AIGCDescription  \\\n",
       "0                   \n",
       "1                   \n",
       "\n",
       "                                                                   challenges  \\\n",
       "0  [{'coverLarger': 'https://p16-amd-va.tiktokcdn.com/obj/musically-maliva...   \n",
       "1  [{'coverLarger': '', 'coverMedium': '', 'coverThumb': '', 'desc': '', '...   \n",
       "\n",
       "   collected  \\\n",
       "0      False   \n",
       "1      False   \n",
       "\n",
       "                                                                     contents  \\\n",
       "0  [{'desc': 'How to make a handmade bow! #wrappinggifts #wrappingpresents...   \n",
       "1  [{'desc': '#napkinfolding #foldingtok #foldingtutorials #napkinart #hol...   \n",
       "\n",
       "   createTime  \\\n",
       "0  1637693876   \n",
       "1  1637603273   \n",
       "\n",
       "                                                                         desc  \\\n",
       "0  How to make a handmade bow! #wrappinggifts #wrappingpresents #giftwrapp...   \n",
       "1  #napkinfolding #foldingtok #foldingtutorials #napkinart #holidaytiktok ...   \n",
       "\n",
       "   digged  duetDisplay duetEnabled  forFriend                   id  \\\n",
       "0   False            0        True      False  7033841630654549294   \n",
       "1   False            0        True      False  7033452496534293807   \n",
       "\n",
       "   itemCommentStatus  officalItem  originalItem  privateItem  secret  \\\n",
       "0                  0        False         False        False   False   \n",
       "1                  0        False         False        False   False   \n",
       "\n",
       "   shareEnabled  stitchDisplay stitchEnabled  \\\n",
       "0          True              0          True   \n",
       "1          True              0          True   \n",
       "\n",
       "                                                                    textExtra  \\\n",
       "0  [{'awemeId': '', 'end': 42, 'hashtagName': 'wrappinggifts', 'isCommerce...   \n",
       "1  [{'awemeId': '', 'end': 14, 'hashtagName': 'napkinfolding', 'isCommerce...   \n",
       "\n",
       "                                                          author_avatarLarger  \\\n",
       "0  https://p16-sign.tiktokcdn-us.com/tos-useast5-avt-0068-tx/42140f5821e99...   \n",
       "1  https://p16-sign.tiktokcdn-us.com/tos-useast5-avt-0068-tx/42140f5821e99...   \n",
       "\n",
       "                                                          author_avatarMedium  \\\n",
       "0  https://p16-sign.tiktokcdn-us.com/tos-useast5-avt-0068-tx/42140f5821e99...   \n",
       "1  https://p16-sign.tiktokcdn-us.com/tos-useast5-avt-0068-tx/42140f5821e99...   \n",
       "\n",
       "                                                           author_avatarThumb  \\\n",
       "0  https://p16-sign.tiktokcdn-us.com/tos-useast5-avt-0068-tx/42140f5821e99...   \n",
       "1  https://p16-sign.tiktokcdn-us.com/tos-useast5-avt-0068-tx/42140f5821e99...   \n",
       "\n",
       "   author_commentSetting  author_downloadSetting  author_duetSetting  \\\n",
       "0                      0                       0                   0   \n",
       "1                      0                       0                   0   \n",
       "\n",
       "   author_ftc            author_id  author_isADVirtual  author_isEmbedBanned  \\\n",
       "0       False  6875149358373176325               False                 False   \n",
       "1       False  6875149358373176325               False                 False   \n",
       "\n",
       "      author_nickname  author_openFavorite  author_privateAccount  \\\n",
       "0  Margaret & Stetson                False                  False   \n",
       "1  Margaret & Stetson                False                  False   \n",
       "\n",
       "   author_relation  \\\n",
       "0                0   \n",
       "1                0   \n",
       "\n",
       "                                                                author_secUid  \\\n",
       "0  MS4wLjABAAAAdK-fCBiHfDnxlcqWI8k0t8JSvC2zZ2elAJFE2WLjwpFmLRrGIHCVo8_e6Ww...   \n",
       "1  MS4wLjABAAAAdK-fCBiHfDnxlcqWI8k0t8JSvC2zZ2elAJFE2WLjwpFmLRrGIHCVo8_e6Ww...   \n",
       "\n",
       "   author_secret  \\\n",
       "0          False   \n",
       "1          False   \n",
       "\n",
       "                                                             author_signature  \\\n",
       "0  Mother-daughter duo\\nAmazon finds, home organization, & more\\nSHOP OUR ...   \n",
       "1  Mother-daughter duo\\nAmazon finds, home organization, & more\\nSHOP OUR ...   \n",
       "\n",
       "   author_stitchSetting author_uniqueId  author_verified  \\\n",
       "0                     0  everythingenvy            False   \n",
       "1                     0  everythingenvy            False   \n",
       "\n",
       "   item_control_can_repost                    music_album  \\\n",
       "0                     True  We Wish You a Merry Christmas   \n",
       "1                     True    SAD GIRLZ LUV MONEY - Remix   \n",
       "\n",
       "       music_authorName  \\\n",
       "0       Merry Christmas   \n",
       "1  Amaarae & Kali Uchis   \n",
       "\n",
       "                                                             music_coverLarge  \\\n",
       "0  https://p16-sign-sg.tiktokcdn.com/tos-alisg-v-2774/02858d8a12b646579485...   \n",
       "1  https://p16-sg.tiktokcdn.com/aweme/720x720/tos-alisg-v-2774/ogAAZIA9rjm...   \n",
       "\n",
       "                                                            music_coverMedium  \\\n",
       "0  https://p16-sign-sg.tiktokcdn.com/tos-alisg-v-2774/02858d8a12b646579485...   \n",
       "1  https://p16-sg.tiktokcdn.com/aweme/200x200/tos-alisg-v-2774/ogAAZIA9rjm...   \n",
       "\n",
       "                                                             music_coverThumb  \\\n",
       "0  https://p16-sign-sg.tiktokcdn.com/tos-alisg-v-2774/02858d8a12b646579485...   \n",
       "1  https://p16-sg.tiktokcdn.com/aweme/100x100/tos-alisg-v-2774/ogAAZIA9rjm...   \n",
       "\n",
       "   music_duration             music_id  music_original  \\\n",
       "0            29.0  6709421144174233602           False   \n",
       "1            48.0  7007785041036101634           False   \n",
       "\n",
       "                     music_title  stats_collectCount  stats_commentCount  \\\n",
       "0  We Wish You a Merry Christmas                 121                   4   \n",
       "1    SAD GIRLZ LUV MONEY - Remix                  88                   0   \n",
       "\n",
       "   stats_diggCount  stats_playCount  stats_shareCount statsV2_collectCount  \\\n",
       "0              630            17000                67                  121   \n",
       "1              658            28900                77                   88   \n",
       "\n",
       "  statsV2_commentCount statsV2_diggCount statsV2_playCount  \\\n",
       "0                    4               630             17000   \n",
       "1                    0               658             28900   \n",
       "\n",
       "  statsV2_repostCount statsV2_shareCount video_VQScore  video_bitrate  \\\n",
       "0                   0                 67             0      1453478.0   \n",
       "1                   0                 77             0      1284092.0   \n",
       "\n",
       "                                                            video_bitrateInfo  \\\n",
       "0  [{'Bitrate': 1453478, 'CodecType': 'h264', 'GearName': 'normal_540_0', ...   \n",
       "1  [{'Bitrate': 1284092, 'CodecType': 'h264', 'GearName': 'normal_540_0', ...   \n",
       "\n",
       "  video_codecType  \\\n",
       "0            h264   \n",
       "1            h264   \n",
       "\n",
       "                                                                  video_cover  \\\n",
       "0  https://p16-sign.tiktokcdn-us.com/obj/tos-useast5-p-0068-tx/5a1b8d9d39e...   \n",
       "1  https://p16-pu-sign-useast8.tiktokcdn-us.com/obj/tos-useast5-p-0068-tx/...   \n",
       "\n",
       "  video_definition  \\\n",
       "0             540p   \n",
       "1             540p   \n",
       "\n",
       "                                                           video_downloadAddr  \\\n",
       "0  https://v16-webapp-prime.us.tiktok.com/video/tos/useast5/tos-useast5-ve...   \n",
       "1  https://v16-webapp-prime.us.tiktok.com/video/tos/useast5/tos-useast5-pv...   \n",
       "\n",
       "   video_duration  \\\n",
       "0              12   \n",
       "1              14   \n",
       "\n",
       "                                                           video_dynamicCover  \\\n",
       "0  https://p16-pu-sign-useast8.tiktokcdn-us.com/obj/tos-useast5-p-0068-tx/...   \n",
       "1  https://p16-pu-sign-useast8.tiktokcdn-us.com/obj/tos-useast5-p-0068-tx/...   \n",
       "\n",
       "  video_encodeUserTag video_encodedType video_format  video_height  \\\n",
       "0                                normal          mp4          1024   \n",
       "1                                normal          mp4          1024   \n",
       "\n",
       "              video_id  \\\n",
       "0  7033841630654549294   \n",
       "1  7033452496534293807   \n",
       "\n",
       "                                                            video_originCover  \\\n",
       "0  https://p19-pu-sign-useast8.tiktokcdn-us.com/obj/tos-useast5-p-0068-tx/...   \n",
       "1  https://p19-pu-sign-useast8.tiktokcdn-us.com/obj/tos-useast5-p-0068-tx/...   \n",
       "\n",
       "                                                               video_playAddr  \\\n",
       "0  https://v16-webapp-prime.us.tiktok.com/video/tos/useast5/tos-useast5-ve...   \n",
       "1  https://v16-webapp-prime.us.tiktok.com/video/tos/useast5/tos-useast5-ve...   \n",
       "\n",
       "  video_ratio video_videoQuality  video_volumeInfo_Loudness  \\\n",
       "0        540p             normal                      -12.9   \n",
       "1        540p             normal                       -9.9   \n",
       "\n",
       "   video_volumeInfo_Peak  video_width  \\\n",
       "0                0.89125          576   \n",
       "1                1.00000          576   \n",
       "\n",
       "                                                          video_zoomCover_240  \\\n",
       "0  https://p19-sign.tiktokcdn-us.com/tos-useast5-p-0068-tx/5a1b8d9d39e84a3...   \n",
       "1  https://p16-pu-sign-useast8.tiktokcdn-us.com/tos-useast5-p-0068-tx/f2c1...   \n",
       "\n",
       "                                                          video_zoomCover_480  \\\n",
       "0  https://p16-sign.tiktokcdn-us.com/tos-useast5-p-0068-tx/5a1b8d9d39e84a3...   \n",
       "1  https://p19-pu-sign-useast8.tiktokcdn-us.com/tos-useast5-p-0068-tx/f2c1...   \n",
       "\n",
       "                                                          video_zoomCover_720  \\\n",
       "0  https://p19-sign.tiktokcdn-us.com/tos-useast5-p-0068-tx/5a1b8d9d39e84a3...   \n",
       "1  https://p19-pu-sign-useast8.tiktokcdn-us.com/tos-useast5-p-0068-tx/f2c1...   \n",
       "\n",
       "                                                          video_zoomCover_960  \\\n",
       "0  https://p16-sign.tiktokcdn-us.com/tos-useast5-p-0068-tx/5a1b8d9d39e84a3...   \n",
       "1  https://p16-pu-sign-useast8.tiktokcdn-us.com/tos-useast5-p-0068-tx/f2c1...   \n",
       "\n",
       "                                                                music_playUrl  \\\n",
       "0                                                                         NaN   \n",
       "1  https://sf16-ies-music-sg.tiktokcdn.com/obj/tos-alisg-ve-2774/7dc488cf6...   \n",
       "\n",
       "   diversificationId video_subtitleInfos playlistId anchors  adLabelVersion  \\\n",
       "0                NaN                 NaN        NaN     NaN             NaN   \n",
       "1                NaN                 NaN        NaN     NaN             NaN   \n",
       "\n",
       "  adAuthorization isAd item_control_can_comment  \\\n",
       "0             NaN  NaN                      NaN   \n",
       "1             NaN  NaN                      NaN   \n",
       "\n",
       "  item_control_can_creator_redirect item_control_can_music_redirect  \\\n",
       "0                               NaN                             NaN   \n",
       "1                               NaN                             NaN   \n",
       "\n",
       "  item_control_can_share itemMute poi_address poi_city poi_cityCode  \\\n",
       "0                    NaN      NaN         NaN      NaN          NaN   \n",
       "1                    NaN      NaN         NaN      NaN          NaN   \n",
       "\n",
       "  poi_country poi_countryCode poi_fatherPoiName poi_id poi_name poi_province  \\\n",
       "0         NaN             NaN               NaN    NaN      NaN          NaN   \n",
       "1         NaN             NaN               NaN    NaN      NaN          NaN   \n",
       "\n",
       "  poi_ttTypeCode poi_ttTypeNameMedium poi_ttTypeNameSuper poi_ttTypeNameTiny  \\\n",
       "0            NaN                  NaN                 NaN                NaN   \n",
       "1            NaN                  NaN                 NaN                NaN   \n",
       "\n",
       "  poi_typeCode BAInfo  isECVideo  music_scheduleSearchTime  \\\n",
       "0          NaN    NaN        NaN                       NaN   \n",
       "1          NaN    NaN        NaN                       NaN   \n",
       "\n",
       "  duetInfo_duetFromId videoSuggestWordsList_video_suggest_words_struct  \\\n",
       "0                 NaN                                              NaN   \n",
       "1                 NaN                                              NaN   \n",
       "\n",
       "  warnInfo isPinnedItem  imagePost_cover_imageHeight  \\\n",
       "0      NaN          NaN                          NaN   \n",
       "1      NaN          NaN                          NaN   \n",
       "\n",
       "  imagePost_cover_imageURL_urlList  imagePost_cover_imageWidth  \\\n",
       "0                              NaN                         NaN   \n",
       "1                              NaN                         NaN   \n",
       "\n",
       "  imagePost_images  imagePost_shareCover_imageHeight  \\\n",
       "0              NaN                               NaN   \n",
       "1              NaN                               NaN   \n",
       "\n",
       "  imagePost_shareCover_imageURL_urlList  imagePost_shareCover_imageWidth  \\\n",
       "0                                   NaN                              NaN   \n",
       "1                                   NaN                              NaN   \n",
       "\n",
       "  imagePost_title  \n",
       "0             NaN  \n",
       "1             NaN  "
      ]
     },
     "execution_count": 110,
     "metadata": {},
     "output_type": "execute_result"
    }
   ],
   "source": [
    "import pandas as pd\n",
    "pd.options.display.max_columns = None\n",
    "pd.options.display.max_colwidth = 75\n",
    "\n",
    "# Use json_normalize bc see above\n",
    "videos_df = pd.json_normalize(rows, sep='_')\n",
    "\n",
    "videos_df.head(2)"
   ]
  },
  {
   "cell_type": "markdown",
   "metadata": {},
   "source": [
    "We'll then build the URL for the video and make sure to remove any duplicates."
   ]
  },
  {
   "cell_type": "code",
   "execution_count": 111,
   "metadata": {},
   "outputs": [
    {
     "name": "stdout",
     "output_type": "stream",
     "text": [
      "5193 total videos\n"
     ]
    },
    {
     "data": {
      "text/html": [
       "<div>\n",
       "<style scoped>\n",
       "    .dataframe tbody tr th:only-of-type {\n",
       "        vertical-align: middle;\n",
       "    }\n",
       "\n",
       "    .dataframe tbody tr th {\n",
       "        vertical-align: top;\n",
       "    }\n",
       "\n",
       "    .dataframe thead th {\n",
       "        text-align: right;\n",
       "    }\n",
       "</style>\n",
       "<table border=\"1\" class=\"dataframe\">\n",
       "  <thead>\n",
       "    <tr style=\"text-align: right;\">\n",
       "      <th></th>\n",
       "      <th>tiktok_url</th>\n",
       "      <th>AIGCDescription</th>\n",
       "      <th>challenges</th>\n",
       "      <th>collected</th>\n",
       "      <th>contents</th>\n",
       "      <th>createTime</th>\n",
       "      <th>desc</th>\n",
       "      <th>digged</th>\n",
       "      <th>duetDisplay</th>\n",
       "      <th>duetEnabled</th>\n",
       "      <th>forFriend</th>\n",
       "      <th>id</th>\n",
       "      <th>itemCommentStatus</th>\n",
       "      <th>officalItem</th>\n",
       "      <th>originalItem</th>\n",
       "      <th>privateItem</th>\n",
       "      <th>secret</th>\n",
       "      <th>shareEnabled</th>\n",
       "      <th>stitchDisplay</th>\n",
       "      <th>stitchEnabled</th>\n",
       "      <th>textExtra</th>\n",
       "      <th>author_avatarLarger</th>\n",
       "      <th>author_avatarMedium</th>\n",
       "      <th>author_avatarThumb</th>\n",
       "      <th>author_commentSetting</th>\n",
       "      <th>author_downloadSetting</th>\n",
       "      <th>author_duetSetting</th>\n",
       "      <th>author_ftc</th>\n",
       "      <th>author_id</th>\n",
       "      <th>author_isADVirtual</th>\n",
       "      <th>author_isEmbedBanned</th>\n",
       "      <th>author_nickname</th>\n",
       "      <th>author_openFavorite</th>\n",
       "      <th>author_privateAccount</th>\n",
       "      <th>author_relation</th>\n",
       "      <th>author_secUid</th>\n",
       "      <th>author_secret</th>\n",
       "      <th>author_signature</th>\n",
       "      <th>author_stitchSetting</th>\n",
       "      <th>author_uniqueId</th>\n",
       "      <th>author_verified</th>\n",
       "      <th>item_control_can_repost</th>\n",
       "      <th>music_album</th>\n",
       "      <th>music_authorName</th>\n",
       "      <th>music_coverLarge</th>\n",
       "      <th>music_coverMedium</th>\n",
       "      <th>music_coverThumb</th>\n",
       "      <th>music_duration</th>\n",
       "      <th>music_id</th>\n",
       "      <th>music_original</th>\n",
       "      <th>music_title</th>\n",
       "      <th>stats_collectCount</th>\n",
       "      <th>stats_commentCount</th>\n",
       "      <th>stats_diggCount</th>\n",
       "      <th>stats_playCount</th>\n",
       "      <th>stats_shareCount</th>\n",
       "      <th>statsV2_collectCount</th>\n",
       "      <th>statsV2_commentCount</th>\n",
       "      <th>statsV2_diggCount</th>\n",
       "      <th>statsV2_playCount</th>\n",
       "      <th>statsV2_repostCount</th>\n",
       "      <th>statsV2_shareCount</th>\n",
       "      <th>video_VQScore</th>\n",
       "      <th>video_bitrate</th>\n",
       "      <th>video_bitrateInfo</th>\n",
       "      <th>video_codecType</th>\n",
       "      <th>video_cover</th>\n",
       "      <th>video_definition</th>\n",
       "      <th>video_downloadAddr</th>\n",
       "      <th>video_duration</th>\n",
       "      <th>video_dynamicCover</th>\n",
       "      <th>video_encodeUserTag</th>\n",
       "      <th>video_encodedType</th>\n",
       "      <th>video_format</th>\n",
       "      <th>video_height</th>\n",
       "      <th>video_id</th>\n",
       "      <th>video_originCover</th>\n",
       "      <th>video_playAddr</th>\n",
       "      <th>video_ratio</th>\n",
       "      <th>video_videoQuality</th>\n",
       "      <th>video_volumeInfo_Loudness</th>\n",
       "      <th>video_volumeInfo_Peak</th>\n",
       "      <th>video_width</th>\n",
       "      <th>video_zoomCover_240</th>\n",
       "      <th>video_zoomCover_480</th>\n",
       "      <th>video_zoomCover_720</th>\n",
       "      <th>video_zoomCover_960</th>\n",
       "      <th>music_playUrl</th>\n",
       "      <th>diversificationId</th>\n",
       "      <th>video_subtitleInfos</th>\n",
       "      <th>playlistId</th>\n",
       "      <th>anchors</th>\n",
       "      <th>adLabelVersion</th>\n",
       "      <th>adAuthorization</th>\n",
       "      <th>isAd</th>\n",
       "      <th>item_control_can_comment</th>\n",
       "      <th>item_control_can_creator_redirect</th>\n",
       "      <th>item_control_can_music_redirect</th>\n",
       "      <th>item_control_can_share</th>\n",
       "      <th>itemMute</th>\n",
       "      <th>poi_address</th>\n",
       "      <th>poi_city</th>\n",
       "      <th>poi_cityCode</th>\n",
       "      <th>poi_country</th>\n",
       "      <th>poi_countryCode</th>\n",
       "      <th>poi_fatherPoiName</th>\n",
       "      <th>poi_id</th>\n",
       "      <th>poi_name</th>\n",
       "      <th>poi_province</th>\n",
       "      <th>poi_ttTypeCode</th>\n",
       "      <th>poi_ttTypeNameMedium</th>\n",
       "      <th>poi_ttTypeNameSuper</th>\n",
       "      <th>poi_ttTypeNameTiny</th>\n",
       "      <th>poi_typeCode</th>\n",
       "      <th>BAInfo</th>\n",
       "      <th>isECVideo</th>\n",
       "      <th>music_scheduleSearchTime</th>\n",
       "      <th>duetInfo_duetFromId</th>\n",
       "      <th>videoSuggestWordsList_video_suggest_words_struct</th>\n",
       "      <th>warnInfo</th>\n",
       "      <th>isPinnedItem</th>\n",
       "      <th>imagePost_cover_imageHeight</th>\n",
       "      <th>imagePost_cover_imageURL_urlList</th>\n",
       "      <th>imagePost_cover_imageWidth</th>\n",
       "      <th>imagePost_images</th>\n",
       "      <th>imagePost_shareCover_imageHeight</th>\n",
       "      <th>imagePost_shareCover_imageURL_urlList</th>\n",
       "      <th>imagePost_shareCover_imageWidth</th>\n",
       "      <th>imagePost_title</th>\n",
       "    </tr>\n",
       "  </thead>\n",
       "  <tbody>\n",
       "    <tr>\n",
       "      <th>0</th>\n",
       "      <td>https://tiktok.com/@everythingenvy/video/7033841630654549294</td>\n",
       "      <td></td>\n",
       "      <td>[{'coverLarger': 'https://p16-amd-va.tiktokcdn.com/obj/musically-maliva...</td>\n",
       "      <td>False</td>\n",
       "      <td>[{'desc': 'How to make a handmade bow! #wrappinggifts #wrappingpresents...</td>\n",
       "      <td>1637693876</td>\n",
       "      <td>How to make a handmade bow! #wrappinggifts #wrappingpresents #giftwrapp...</td>\n",
       "      <td>False</td>\n",
       "      <td>0</td>\n",
       "      <td>True</td>\n",
       "      <td>False</td>\n",
       "      <td>7033841630654549294</td>\n",
       "      <td>0</td>\n",
       "      <td>False</td>\n",
       "      <td>False</td>\n",
       "      <td>False</td>\n",
       "      <td>False</td>\n",
       "      <td>True</td>\n",
       "      <td>0</td>\n",
       "      <td>True</td>\n",
       "      <td>[{'awemeId': '', 'end': 42, 'hashtagName': 'wrappinggifts', 'isCommerce...</td>\n",
       "      <td>https://p16-sign.tiktokcdn-us.com/tos-useast5-avt-0068-tx/42140f5821e99...</td>\n",
       "      <td>https://p16-sign.tiktokcdn-us.com/tos-useast5-avt-0068-tx/42140f5821e99...</td>\n",
       "      <td>https://p16-sign.tiktokcdn-us.com/tos-useast5-avt-0068-tx/42140f5821e99...</td>\n",
       "      <td>0</td>\n",
       "      <td>0</td>\n",
       "      <td>0</td>\n",
       "      <td>False</td>\n",
       "      <td>6875149358373176325</td>\n",
       "      <td>False</td>\n",
       "      <td>False</td>\n",
       "      <td>Margaret &amp; Stetson</td>\n",
       "      <td>False</td>\n",
       "      <td>False</td>\n",
       "      <td>0</td>\n",
       "      <td>MS4wLjABAAAAdK-fCBiHfDnxlcqWI8k0t8JSvC2zZ2elAJFE2WLjwpFmLRrGIHCVo8_e6Ww...</td>\n",
       "      <td>False</td>\n",
       "      <td>Mother-daughter duo\\nAmazon finds, home organization, &amp; more\\nSHOP OUR ...</td>\n",
       "      <td>0</td>\n",
       "      <td>everythingenvy</td>\n",
       "      <td>False</td>\n",
       "      <td>True</td>\n",
       "      <td>We Wish You a Merry Christmas</td>\n",
       "      <td>Merry Christmas</td>\n",
       "      <td>https://p16-sign-sg.tiktokcdn.com/tos-alisg-v-2774/02858d8a12b646579485...</td>\n",
       "      <td>https://p16-sign-sg.tiktokcdn.com/tos-alisg-v-2774/02858d8a12b646579485...</td>\n",
       "      <td>https://p16-sign-sg.tiktokcdn.com/tos-alisg-v-2774/02858d8a12b646579485...</td>\n",
       "      <td>29.0</td>\n",
       "      <td>6709421144174233602</td>\n",
       "      <td>False</td>\n",
       "      <td>We Wish You a Merry Christmas</td>\n",
       "      <td>121</td>\n",
       "      <td>4</td>\n",
       "      <td>630</td>\n",
       "      <td>17000</td>\n",
       "      <td>67</td>\n",
       "      <td>121</td>\n",
       "      <td>4</td>\n",
       "      <td>630</td>\n",
       "      <td>17000</td>\n",
       "      <td>0</td>\n",
       "      <td>67</td>\n",
       "      <td>0</td>\n",
       "      <td>1453478.0</td>\n",
       "      <td>[{'Bitrate': 1453478, 'CodecType': 'h264', 'GearName': 'normal_540_0', ...</td>\n",
       "      <td>h264</td>\n",
       "      <td>https://p16-sign.tiktokcdn-us.com/obj/tos-useast5-p-0068-tx/5a1b8d9d39e...</td>\n",
       "      <td>540p</td>\n",
       "      <td>https://v16-webapp-prime.us.tiktok.com/video/tos/useast5/tos-useast5-ve...</td>\n",
       "      <td>12</td>\n",
       "      <td>https://p16-pu-sign-useast8.tiktokcdn-us.com/obj/tos-useast5-p-0068-tx/...</td>\n",
       "      <td></td>\n",
       "      <td>normal</td>\n",
       "      <td>mp4</td>\n",
       "      <td>1024</td>\n",
       "      <td>7033841630654549294</td>\n",
       "      <td>https://p19-pu-sign-useast8.tiktokcdn-us.com/obj/tos-useast5-p-0068-tx/...</td>\n",
       "      <td>https://v16-webapp-prime.us.tiktok.com/video/tos/useast5/tos-useast5-ve...</td>\n",
       "      <td>540p</td>\n",
       "      <td>normal</td>\n",
       "      <td>-12.9</td>\n",
       "      <td>0.89125</td>\n",
       "      <td>576</td>\n",
       "      <td>https://p19-sign.tiktokcdn-us.com/tos-useast5-p-0068-tx/5a1b8d9d39e84a3...</td>\n",
       "      <td>https://p16-sign.tiktokcdn-us.com/tos-useast5-p-0068-tx/5a1b8d9d39e84a3...</td>\n",
       "      <td>https://p19-sign.tiktokcdn-us.com/tos-useast5-p-0068-tx/5a1b8d9d39e84a3...</td>\n",
       "      <td>https://p16-sign.tiktokcdn-us.com/tos-useast5-p-0068-tx/5a1b8d9d39e84a3...</td>\n",
       "      <td>NaN</td>\n",
       "      <td>NaN</td>\n",
       "      <td>NaN</td>\n",
       "      <td>NaN</td>\n",
       "      <td>NaN</td>\n",
       "      <td>NaN</td>\n",
       "      <td>NaN</td>\n",
       "      <td>NaN</td>\n",
       "      <td>NaN</td>\n",
       "      <td>NaN</td>\n",
       "      <td>NaN</td>\n",
       "      <td>NaN</td>\n",
       "      <td>NaN</td>\n",
       "      <td>NaN</td>\n",
       "      <td>NaN</td>\n",
       "      <td>NaN</td>\n",
       "      <td>NaN</td>\n",
       "      <td>NaN</td>\n",
       "      <td>NaN</td>\n",
       "      <td>NaN</td>\n",
       "      <td>NaN</td>\n",
       "      <td>NaN</td>\n",
       "      <td>NaN</td>\n",
       "      <td>NaN</td>\n",
       "      <td>NaN</td>\n",
       "      <td>NaN</td>\n",
       "      <td>NaN</td>\n",
       "      <td>NaN</td>\n",
       "      <td>NaN</td>\n",
       "      <td>NaN</td>\n",
       "      <td>NaN</td>\n",
       "      <td>NaN</td>\n",
       "      <td>NaN</td>\n",
       "      <td>NaN</td>\n",
       "      <td>NaN</td>\n",
       "      <td>NaN</td>\n",
       "      <td>NaN</td>\n",
       "      <td>NaN</td>\n",
       "      <td>NaN</td>\n",
       "      <td>NaN</td>\n",
       "      <td>NaN</td>\n",
       "      <td>NaN</td>\n",
       "    </tr>\n",
       "    <tr>\n",
       "      <th>1</th>\n",
       "      <td>https://tiktok.com/@everythingenvy/video/7033452496534293807</td>\n",
       "      <td></td>\n",
       "      <td>[{'coverLarger': '', 'coverMedium': '', 'coverThumb': '', 'desc': '', '...</td>\n",
       "      <td>False</td>\n",
       "      <td>[{'desc': '#napkinfolding #foldingtok #foldingtutorials #napkinart #hol...</td>\n",
       "      <td>1637603273</td>\n",
       "      <td>#napkinfolding #foldingtok #foldingtutorials #napkinart #holidaytiktok ...</td>\n",
       "      <td>False</td>\n",
       "      <td>0</td>\n",
       "      <td>True</td>\n",
       "      <td>False</td>\n",
       "      <td>7033452496534293807</td>\n",
       "      <td>0</td>\n",
       "      <td>False</td>\n",
       "      <td>False</td>\n",
       "      <td>False</td>\n",
       "      <td>False</td>\n",
       "      <td>True</td>\n",
       "      <td>0</td>\n",
       "      <td>True</td>\n",
       "      <td>[{'awemeId': '', 'end': 14, 'hashtagName': 'napkinfolding', 'isCommerce...</td>\n",
       "      <td>https://p16-sign.tiktokcdn-us.com/tos-useast5-avt-0068-tx/42140f5821e99...</td>\n",
       "      <td>https://p16-sign.tiktokcdn-us.com/tos-useast5-avt-0068-tx/42140f5821e99...</td>\n",
       "      <td>https://p16-sign.tiktokcdn-us.com/tos-useast5-avt-0068-tx/42140f5821e99...</td>\n",
       "      <td>0</td>\n",
       "      <td>0</td>\n",
       "      <td>0</td>\n",
       "      <td>False</td>\n",
       "      <td>6875149358373176325</td>\n",
       "      <td>False</td>\n",
       "      <td>False</td>\n",
       "      <td>Margaret &amp; Stetson</td>\n",
       "      <td>False</td>\n",
       "      <td>False</td>\n",
       "      <td>0</td>\n",
       "      <td>MS4wLjABAAAAdK-fCBiHfDnxlcqWI8k0t8JSvC2zZ2elAJFE2WLjwpFmLRrGIHCVo8_e6Ww...</td>\n",
       "      <td>False</td>\n",
       "      <td>Mother-daughter duo\\nAmazon finds, home organization, &amp; more\\nSHOP OUR ...</td>\n",
       "      <td>0</td>\n",
       "      <td>everythingenvy</td>\n",
       "      <td>False</td>\n",
       "      <td>True</td>\n",
       "      <td>SAD GIRLZ LUV MONEY - Remix</td>\n",
       "      <td>Amaarae &amp; Kali Uchis</td>\n",
       "      <td>https://p16-sg.tiktokcdn.com/aweme/720x720/tos-alisg-v-2774/ogAAZIA9rjm...</td>\n",
       "      <td>https://p16-sg.tiktokcdn.com/aweme/200x200/tos-alisg-v-2774/ogAAZIA9rjm...</td>\n",
       "      <td>https://p16-sg.tiktokcdn.com/aweme/100x100/tos-alisg-v-2774/ogAAZIA9rjm...</td>\n",
       "      <td>48.0</td>\n",
       "      <td>7007785041036101634</td>\n",
       "      <td>False</td>\n",
       "      <td>SAD GIRLZ LUV MONEY - Remix</td>\n",
       "      <td>88</td>\n",
       "      <td>0</td>\n",
       "      <td>658</td>\n",
       "      <td>28900</td>\n",
       "      <td>77</td>\n",
       "      <td>88</td>\n",
       "      <td>0</td>\n",
       "      <td>658</td>\n",
       "      <td>28900</td>\n",
       "      <td>0</td>\n",
       "      <td>77</td>\n",
       "      <td>0</td>\n",
       "      <td>1284092.0</td>\n",
       "      <td>[{'Bitrate': 1284092, 'CodecType': 'h264', 'GearName': 'normal_540_0', ...</td>\n",
       "      <td>h264</td>\n",
       "      <td>https://p16-pu-sign-useast8.tiktokcdn-us.com/obj/tos-useast5-p-0068-tx/...</td>\n",
       "      <td>540p</td>\n",
       "      <td>https://v16-webapp-prime.us.tiktok.com/video/tos/useast5/tos-useast5-pv...</td>\n",
       "      <td>14</td>\n",
       "      <td>https://p16-pu-sign-useast8.tiktokcdn-us.com/obj/tos-useast5-p-0068-tx/...</td>\n",
       "      <td></td>\n",
       "      <td>normal</td>\n",
       "      <td>mp4</td>\n",
       "      <td>1024</td>\n",
       "      <td>7033452496534293807</td>\n",
       "      <td>https://p19-pu-sign-useast8.tiktokcdn-us.com/obj/tos-useast5-p-0068-tx/...</td>\n",
       "      <td>https://v16-webapp-prime.us.tiktok.com/video/tos/useast5/tos-useast5-ve...</td>\n",
       "      <td>540p</td>\n",
       "      <td>normal</td>\n",
       "      <td>-9.9</td>\n",
       "      <td>1.00000</td>\n",
       "      <td>576</td>\n",
       "      <td>https://p16-pu-sign-useast8.tiktokcdn-us.com/tos-useast5-p-0068-tx/f2c1...</td>\n",
       "      <td>https://p19-pu-sign-useast8.tiktokcdn-us.com/tos-useast5-p-0068-tx/f2c1...</td>\n",
       "      <td>https://p19-pu-sign-useast8.tiktokcdn-us.com/tos-useast5-p-0068-tx/f2c1...</td>\n",
       "      <td>https://p16-pu-sign-useast8.tiktokcdn-us.com/tos-useast5-p-0068-tx/f2c1...</td>\n",
       "      <td>https://sf16-ies-music-sg.tiktokcdn.com/obj/tos-alisg-ve-2774/7dc488cf6...</td>\n",
       "      <td>NaN</td>\n",
       "      <td>NaN</td>\n",
       "      <td>NaN</td>\n",
       "      <td>NaN</td>\n",
       "      <td>NaN</td>\n",
       "      <td>NaN</td>\n",
       "      <td>NaN</td>\n",
       "      <td>NaN</td>\n",
       "      <td>NaN</td>\n",
       "      <td>NaN</td>\n",
       "      <td>NaN</td>\n",
       "      <td>NaN</td>\n",
       "      <td>NaN</td>\n",
       "      <td>NaN</td>\n",
       "      <td>NaN</td>\n",
       "      <td>NaN</td>\n",
       "      <td>NaN</td>\n",
       "      <td>NaN</td>\n",
       "      <td>NaN</td>\n",
       "      <td>NaN</td>\n",
       "      <td>NaN</td>\n",
       "      <td>NaN</td>\n",
       "      <td>NaN</td>\n",
       "      <td>NaN</td>\n",
       "      <td>NaN</td>\n",
       "      <td>NaN</td>\n",
       "      <td>NaN</td>\n",
       "      <td>NaN</td>\n",
       "      <td>NaN</td>\n",
       "      <td>NaN</td>\n",
       "      <td>NaN</td>\n",
       "      <td>NaN</td>\n",
       "      <td>NaN</td>\n",
       "      <td>NaN</td>\n",
       "      <td>NaN</td>\n",
       "      <td>NaN</td>\n",
       "      <td>NaN</td>\n",
       "      <td>NaN</td>\n",
       "      <td>NaN</td>\n",
       "      <td>NaN</td>\n",
       "      <td>NaN</td>\n",
       "    </tr>\n",
       "    <tr>\n",
       "      <th>2</th>\n",
       "      <td>https://tiktok.com/@everythingenvy/video/7032013929412922670</td>\n",
       "      <td></td>\n",
       "      <td>[{'coverLarger': '', 'coverMedium': '', 'coverThumb': '', 'desc': '', '...</td>\n",
       "      <td>False</td>\n",
       "      <td>[{'desc': '#amazonmusthaves #amazongadgets #amazonmusthaves #holidayhac...</td>\n",
       "      <td>1637268331</td>\n",
       "      <td>#amazonmusthaves #amazongadgets #amazonmusthaves #holidayhacks #holiday...</td>\n",
       "      <td>False</td>\n",
       "      <td>0</td>\n",
       "      <td>True</td>\n",
       "      <td>False</td>\n",
       "      <td>7032013929412922670</td>\n",
       "      <td>0</td>\n",
       "      <td>False</td>\n",
       "      <td>False</td>\n",
       "      <td>False</td>\n",
       "      <td>False</td>\n",
       "      <td>True</td>\n",
       "      <td>0</td>\n",
       "      <td>True</td>\n",
       "      <td>[{'awemeId': '', 'end': 16, 'hashtagName': 'amazonmusthaves', 'isCommer...</td>\n",
       "      <td>https://p16-sign.tiktokcdn-us.com/tos-useast5-avt-0068-tx/42140f5821e99...</td>\n",
       "      <td>https://p16-sign.tiktokcdn-us.com/tos-useast5-avt-0068-tx/42140f5821e99...</td>\n",
       "      <td>https://p16-sign.tiktokcdn-us.com/tos-useast5-avt-0068-tx/42140f5821e99...</td>\n",
       "      <td>0</td>\n",
       "      <td>0</td>\n",
       "      <td>0</td>\n",
       "      <td>False</td>\n",
       "      <td>6875149358373176325</td>\n",
       "      <td>False</td>\n",
       "      <td>False</td>\n",
       "      <td>Margaret &amp; Stetson</td>\n",
       "      <td>False</td>\n",
       "      <td>False</td>\n",
       "      <td>0</td>\n",
       "      <td>MS4wLjABAAAAdK-fCBiHfDnxlcqWI8k0t8JSvC2zZ2elAJFE2WLjwpFmLRrGIHCVo8_e6Ww...</td>\n",
       "      <td>False</td>\n",
       "      <td>Mother-daughter duo\\nAmazon finds, home organization, &amp; more\\nSHOP OUR ...</td>\n",
       "      <td>0</td>\n",
       "      <td>everythingenvy</td>\n",
       "      <td>False</td>\n",
       "      <td>True</td>\n",
       "      <td>NaN</td>\n",
       "      <td>Margaret &amp; Stetson</td>\n",
       "      <td>https://p16-sign.tiktokcdn-us.com/tos-useast5-avt-0068-tx/42140f5821e99...</td>\n",
       "      <td>https://p16-sign.tiktokcdn-us.com/tos-useast5-avt-0068-tx/42140f5821e99...</td>\n",
       "      <td>https://p16-sign.tiktokcdn-us.com/tos-useast5-avt-0068-tx/42140f5821e99...</td>\n",
       "      <td>17.0</td>\n",
       "      <td>7032013692610808622</td>\n",
       "      <td>False</td>\n",
       "      <td>original sound</td>\n",
       "      <td>60</td>\n",
       "      <td>2</td>\n",
       "      <td>848</td>\n",
       "      <td>34700</td>\n",
       "      <td>64</td>\n",
       "      <td>60</td>\n",
       "      <td>2</td>\n",
       "      <td>848</td>\n",
       "      <td>34700</td>\n",
       "      <td>0</td>\n",
       "      <td>64</td>\n",
       "      <td>0</td>\n",
       "      <td>863018.0</td>\n",
       "      <td>[{'Bitrate': 863018, 'CodecType': 'h264', 'GearName': 'normal_540_0', '...</td>\n",
       "      <td>h264</td>\n",
       "      <td>https://p16-pu-sign-useast8.tiktokcdn-us.com/obj/tos-useast5-p-0068-tx/...</td>\n",
       "      <td>540p</td>\n",
       "      <td>https://v16-webapp-prime.us.tiktok.com/video/tos/useast5/tos-useast5-ve...</td>\n",
       "      <td>17</td>\n",
       "      <td>https://p16-pu-sign-useast8.tiktokcdn-us.com/obj/tos-useast5-p-0068-tx/...</td>\n",
       "      <td></td>\n",
       "      <td>normal</td>\n",
       "      <td>mp4</td>\n",
       "      <td>1024</td>\n",
       "      <td>7032013929412922670</td>\n",
       "      <td>https://p19-sign.tiktokcdn-us.com/obj/tos-useast5-p-0068-tx/acd6d924311...</td>\n",
       "      <td>https://v16-webapp-prime.us.tiktok.com/video/tos/useast5/tos-useast5-pv...</td>\n",
       "      <td>540p</td>\n",
       "      <td>normal</td>\n",
       "      <td>-12.9</td>\n",
       "      <td>0.94406</td>\n",
       "      <td>576</td>\n",
       "      <td>https://p19-pu-sign-useast8.tiktokcdn-us.com/tos-useast5-p-0068-tx/fd20...</td>\n",
       "      <td>https://p16-pu-sign-useast8.tiktokcdn-us.com/tos-useast5-p-0068-tx/fd20...</td>\n",
       "      <td>https://p19-pu-sign-useast8.tiktokcdn-us.com/tos-useast5-p-0068-tx/fd20...</td>\n",
       "      <td>https://p16-pu-sign-useast8.tiktokcdn-us.com/tos-useast5-p-0068-tx/fd20...</td>\n",
       "      <td>https://v16-webapp-prime.us.tiktok.com/video/tos/useast5/tos-useast5-v-...</td>\n",
       "      <td>NaN</td>\n",
       "      <td>NaN</td>\n",
       "      <td>NaN</td>\n",
       "      <td>NaN</td>\n",
       "      <td>NaN</td>\n",
       "      <td>NaN</td>\n",
       "      <td>NaN</td>\n",
       "      <td>NaN</td>\n",
       "      <td>NaN</td>\n",
       "      <td>NaN</td>\n",
       "      <td>NaN</td>\n",
       "      <td>NaN</td>\n",
       "      <td>NaN</td>\n",
       "      <td>NaN</td>\n",
       "      <td>NaN</td>\n",
       "      <td>NaN</td>\n",
       "      <td>NaN</td>\n",
       "      <td>NaN</td>\n",
       "      <td>NaN</td>\n",
       "      <td>NaN</td>\n",
       "      <td>NaN</td>\n",
       "      <td>NaN</td>\n",
       "      <td>NaN</td>\n",
       "      <td>NaN</td>\n",
       "      <td>NaN</td>\n",
       "      <td>NaN</td>\n",
       "      <td>NaN</td>\n",
       "      <td>NaN</td>\n",
       "      <td>NaN</td>\n",
       "      <td>NaN</td>\n",
       "      <td>NaN</td>\n",
       "      <td>NaN</td>\n",
       "      <td>NaN</td>\n",
       "      <td>NaN</td>\n",
       "      <td>NaN</td>\n",
       "      <td>NaN</td>\n",
       "      <td>NaN</td>\n",
       "      <td>NaN</td>\n",
       "      <td>NaN</td>\n",
       "      <td>NaN</td>\n",
       "      <td>NaN</td>\n",
       "    </tr>\n",
       "    <tr>\n",
       "      <th>3</th>\n",
       "      <td>https://tiktok.com/@everythingenvy/video/7031991543846194479</td>\n",
       "      <td></td>\n",
       "      <td>[{'coverLarger': '', 'coverMedium': '', 'coverThumb': '', 'desc': '', '...</td>\n",
       "      <td>False</td>\n",
       "      <td>[{'desc': '#stockingstuffers #stockingstufferidea #giftideas #giftidea ...</td>\n",
       "      <td>1637263119</td>\n",
       "      <td>#stockingstuffers #stockingstufferidea #giftideas #giftidea #homehacks ...</td>\n",
       "      <td>False</td>\n",
       "      <td>0</td>\n",
       "      <td>True</td>\n",
       "      <td>False</td>\n",
       "      <td>7031991543846194479</td>\n",
       "      <td>0</td>\n",
       "      <td>False</td>\n",
       "      <td>False</td>\n",
       "      <td>False</td>\n",
       "      <td>False</td>\n",
       "      <td>True</td>\n",
       "      <td>0</td>\n",
       "      <td>True</td>\n",
       "      <td>[{'awemeId': '', 'end': 17, 'hashtagName': 'stockingstuffers', 'isComme...</td>\n",
       "      <td>https://p16-sign.tiktokcdn-us.com/tos-useast5-avt-0068-tx/42140f5821e99...</td>\n",
       "      <td>https://p16-sign.tiktokcdn-us.com/tos-useast5-avt-0068-tx/42140f5821e99...</td>\n",
       "      <td>https://p16-sign.tiktokcdn-us.com/tos-useast5-avt-0068-tx/42140f5821e99...</td>\n",
       "      <td>0</td>\n",
       "      <td>0</td>\n",
       "      <td>0</td>\n",
       "      <td>False</td>\n",
       "      <td>6875149358373176325</td>\n",
       "      <td>False</td>\n",
       "      <td>False</td>\n",
       "      <td>Margaret &amp; Stetson</td>\n",
       "      <td>False</td>\n",
       "      <td>False</td>\n",
       "      <td>0</td>\n",
       "      <td>MS4wLjABAAAAdK-fCBiHfDnxlcqWI8k0t8JSvC2zZ2elAJFE2WLjwpFmLRrGIHCVo8_e6Ww...</td>\n",
       "      <td>False</td>\n",
       "      <td>Mother-daughter duo\\nAmazon finds, home organization, &amp; more\\nSHOP OUR ...</td>\n",
       "      <td>0</td>\n",
       "      <td>everythingenvy</td>\n",
       "      <td>False</td>\n",
       "      <td>True</td>\n",
       "      <td>NaN</td>\n",
       "      <td>Margaret &amp; Stetson</td>\n",
       "      <td>https://p16-sign.tiktokcdn-us.com/tos-useast5-avt-0068-tx/42140f5821e99...</td>\n",
       "      <td>https://p16-sign.tiktokcdn-us.com/tos-useast5-avt-0068-tx/42140f5821e99...</td>\n",
       "      <td>https://p16-sign.tiktokcdn-us.com/tos-useast5-avt-0068-tx/42140f5821e99...</td>\n",
       "      <td>17.0</td>\n",
       "      <td>7031991232540773167</td>\n",
       "      <td>False</td>\n",
       "      <td>original sound</td>\n",
       "      <td>49</td>\n",
       "      <td>0</td>\n",
       "      <td>602</td>\n",
       "      <td>17000</td>\n",
       "      <td>9</td>\n",
       "      <td>49</td>\n",
       "      <td>0</td>\n",
       "      <td>602</td>\n",
       "      <td>17000</td>\n",
       "      <td>0</td>\n",
       "      <td>9</td>\n",
       "      <td>0</td>\n",
       "      <td>946224.0</td>\n",
       "      <td>[{'Bitrate': 946224, 'CodecType': 'h264', 'GearName': 'normal_540_0', '...</td>\n",
       "      <td>h264</td>\n",
       "      <td>https://p16-sign.tiktokcdn-us.com/obj/tos-useast5-p-0068-tx/3c1a6de3422...</td>\n",
       "      <td>540p</td>\n",
       "      <td>https://v16-webapp-prime.us.tiktok.com/video/tos/useast5/tos-useast5-ve...</td>\n",
       "      <td>17</td>\n",
       "      <td>https://p19-pu-sign-useast8.tiktokcdn-us.com/obj/tos-useast5-p-0068-tx/...</td>\n",
       "      <td></td>\n",
       "      <td>normal</td>\n",
       "      <td>mp4</td>\n",
       "      <td>1024</td>\n",
       "      <td>7031991543846194479</td>\n",
       "      <td>https://p16-pu-sign-useast8.tiktokcdn-us.com/obj/tos-useast5-p-0068-tx/...</td>\n",
       "      <td>https://v16-webapp-prime.us.tiktok.com/video/tos/useast5/tos-useast5-ve...</td>\n",
       "      <td>540p</td>\n",
       "      <td>normal</td>\n",
       "      <td>-13.7</td>\n",
       "      <td>1.00000</td>\n",
       "      <td>576</td>\n",
       "      <td>https://p16-sign.tiktokcdn-us.com/tos-useast5-p-0068-tx/3c1a6de3422b472...</td>\n",
       "      <td>https://p16-sign.tiktokcdn-us.com/tos-useast5-p-0068-tx/3c1a6de3422b472...</td>\n",
       "      <td>https://p19-sign.tiktokcdn-us.com/tos-useast5-p-0068-tx/3c1a6de3422b472...</td>\n",
       "      <td>https://p19-sign.tiktokcdn-us.com/tos-useast5-p-0068-tx/3c1a6de3422b472...</td>\n",
       "      <td>https://v16-webapp-prime.us.tiktok.com/video/tos/useast5/tos-useast5-v-...</td>\n",
       "      <td>NaN</td>\n",
       "      <td>NaN</td>\n",
       "      <td>NaN</td>\n",
       "      <td>NaN</td>\n",
       "      <td>NaN</td>\n",
       "      <td>NaN</td>\n",
       "      <td>NaN</td>\n",
       "      <td>NaN</td>\n",
       "      <td>NaN</td>\n",
       "      <td>NaN</td>\n",
       "      <td>NaN</td>\n",
       "      <td>NaN</td>\n",
       "      <td>NaN</td>\n",
       "      <td>NaN</td>\n",
       "      <td>NaN</td>\n",
       "      <td>NaN</td>\n",
       "      <td>NaN</td>\n",
       "      <td>NaN</td>\n",
       "      <td>NaN</td>\n",
       "      <td>NaN</td>\n",
       "      <td>NaN</td>\n",
       "      <td>NaN</td>\n",
       "      <td>NaN</td>\n",
       "      <td>NaN</td>\n",
       "      <td>NaN</td>\n",
       "      <td>NaN</td>\n",
       "      <td>NaN</td>\n",
       "      <td>NaN</td>\n",
       "      <td>NaN</td>\n",
       "      <td>NaN</td>\n",
       "      <td>NaN</td>\n",
       "      <td>NaN</td>\n",
       "      <td>NaN</td>\n",
       "      <td>NaN</td>\n",
       "      <td>NaN</td>\n",
       "      <td>NaN</td>\n",
       "      <td>NaN</td>\n",
       "      <td>NaN</td>\n",
       "      <td>NaN</td>\n",
       "      <td>NaN</td>\n",
       "      <td>NaN</td>\n",
       "    </tr>\n",
       "    <tr>\n",
       "      <th>4</th>\n",
       "      <td>https://tiktok.com/@everythingenvy/video/7031688952398761263</td>\n",
       "      <td></td>\n",
       "      <td>[{'coverLarger': '', 'coverMedium': '', 'coverThumb': '', 'desc': '', '...</td>\n",
       "      <td>False</td>\n",
       "      <td>[{'desc': '#amazongadgets #amazonmusthave #amazonfinds #wrappinggifts #...</td>\n",
       "      <td>1637192666</td>\n",
       "      <td>#amazongadgets #amazonmusthave #amazonfinds #wrappinggifts #wrappinghac...</td>\n",
       "      <td>False</td>\n",
       "      <td>0</td>\n",
       "      <td>True</td>\n",
       "      <td>False</td>\n",
       "      <td>7031688952398761263</td>\n",
       "      <td>0</td>\n",
       "      <td>False</td>\n",
       "      <td>False</td>\n",
       "      <td>False</td>\n",
       "      <td>False</td>\n",
       "      <td>True</td>\n",
       "      <td>0</td>\n",
       "      <td>True</td>\n",
       "      <td>[{'awemeId': '', 'end': 14, 'hashtagName': 'amazongadgets', 'isCommerce...</td>\n",
       "      <td>https://p16-sign.tiktokcdn-us.com/tos-useast5-avt-0068-tx/42140f5821e99...</td>\n",
       "      <td>https://p16-sign.tiktokcdn-us.com/tos-useast5-avt-0068-tx/42140f5821e99...</td>\n",
       "      <td>https://p16-sign.tiktokcdn-us.com/tos-useast5-avt-0068-tx/42140f5821e99...</td>\n",
       "      <td>0</td>\n",
       "      <td>0</td>\n",
       "      <td>0</td>\n",
       "      <td>False</td>\n",
       "      <td>6875149358373176325</td>\n",
       "      <td>False</td>\n",
       "      <td>False</td>\n",
       "      <td>Margaret &amp; Stetson</td>\n",
       "      <td>False</td>\n",
       "      <td>False</td>\n",
       "      <td>0</td>\n",
       "      <td>MS4wLjABAAAAdK-fCBiHfDnxlcqWI8k0t8JSvC2zZ2elAJFE2WLjwpFmLRrGIHCVo8_e6Ww...</td>\n",
       "      <td>False</td>\n",
       "      <td>Mother-daughter duo\\nAmazon finds, home organization, &amp; more\\nSHOP OUR ...</td>\n",
       "      <td>0</td>\n",
       "      <td>everythingenvy</td>\n",
       "      <td>False</td>\n",
       "      <td>True</td>\n",
       "      <td>NaN</td>\n",
       "      <td>Margaret &amp; Stetson</td>\n",
       "      <td>https://p16-sign.tiktokcdn-us.com/tos-useast5-avt-0068-tx/42140f5821e99...</td>\n",
       "      <td>https://p16-sign.tiktokcdn-us.com/tos-useast5-avt-0068-tx/42140f5821e99...</td>\n",
       "      <td>https://p16-sign.tiktokcdn-us.com/tos-useast5-avt-0068-tx/42140f5821e99...</td>\n",
       "      <td>11.0</td>\n",
       "      <td>7031688787692489518</td>\n",
       "      <td>False</td>\n",
       "      <td>original sound</td>\n",
       "      <td>35</td>\n",
       "      <td>3</td>\n",
       "      <td>420</td>\n",
       "      <td>16200</td>\n",
       "      <td>26</td>\n",
       "      <td>35</td>\n",
       "      <td>3</td>\n",
       "      <td>420</td>\n",
       "      <td>16200</td>\n",
       "      <td>0</td>\n",
       "      <td>26</td>\n",
       "      <td>0</td>\n",
       "      <td>611276.0</td>\n",
       "      <td>[{'Bitrate': 611276, 'CodecType': 'h264', 'GearName': 'normal_540_0', '...</td>\n",
       "      <td>h264</td>\n",
       "      <td>https://p19-pu-sign-useast8.tiktokcdn-us.com/obj/tos-useast5-p-0068-tx/...</td>\n",
       "      <td>540p</td>\n",
       "      <td>https://v16-webapp-prime.us.tiktok.com/video/tos/useast5/tos-useast5-pv...</td>\n",
       "      <td>11</td>\n",
       "      <td>https://p16-pu-sign-useast8.tiktokcdn-us.com/obj/tos-useast5-p-0068-tx/...</td>\n",
       "      <td></td>\n",
       "      <td>normal</td>\n",
       "      <td>mp4</td>\n",
       "      <td>1024</td>\n",
       "      <td>7031688952398761263</td>\n",
       "      <td>https://p16-pu-sign-useast8.tiktokcdn-us.com/obj/tos-useast5-p-0068-tx/...</td>\n",
       "      <td>https://v16-webapp-prime.us.tiktok.com/video/tos/useast5/tos-useast5-pv...</td>\n",
       "      <td>540p</td>\n",
       "      <td>normal</td>\n",
       "      <td>-12.1</td>\n",
       "      <td>0.94406</td>\n",
       "      <td>576</td>\n",
       "      <td>https://p16-pu-sign-useast8.tiktokcdn-us.com/tos-useast5-p-0068-tx/0a26...</td>\n",
       "      <td>https://p16-pu-sign-useast8.tiktokcdn-us.com/tos-useast5-p-0068-tx/0a26...</td>\n",
       "      <td>https://p19-pu-sign-useast8.tiktokcdn-us.com/tos-useast5-p-0068-tx/0a26...</td>\n",
       "      <td>https://p19-pu-sign-useast8.tiktokcdn-us.com/tos-useast5-p-0068-tx/0a26...</td>\n",
       "      <td>https://v16-webapp-prime.us.tiktok.com/video/tos/useast5/tos-useast5-v-...</td>\n",
       "      <td>NaN</td>\n",
       "      <td>NaN</td>\n",
       "      <td>NaN</td>\n",
       "      <td>NaN</td>\n",
       "      <td>NaN</td>\n",
       "      <td>NaN</td>\n",
       "      <td>NaN</td>\n",
       "      <td>NaN</td>\n",
       "      <td>NaN</td>\n",
       "      <td>NaN</td>\n",
       "      <td>NaN</td>\n",
       "      <td>NaN</td>\n",
       "      <td>NaN</td>\n",
       "      <td>NaN</td>\n",
       "      <td>NaN</td>\n",
       "      <td>NaN</td>\n",
       "      <td>NaN</td>\n",
       "      <td>NaN</td>\n",
       "      <td>NaN</td>\n",
       "      <td>NaN</td>\n",
       "      <td>NaN</td>\n",
       "      <td>NaN</td>\n",
       "      <td>NaN</td>\n",
       "      <td>NaN</td>\n",
       "      <td>NaN</td>\n",
       "      <td>NaN</td>\n",
       "      <td>NaN</td>\n",
       "      <td>NaN</td>\n",
       "      <td>NaN</td>\n",
       "      <td>NaN</td>\n",
       "      <td>NaN</td>\n",
       "      <td>NaN</td>\n",
       "      <td>NaN</td>\n",
       "      <td>NaN</td>\n",
       "      <td>NaN</td>\n",
       "      <td>NaN</td>\n",
       "      <td>NaN</td>\n",
       "      <td>NaN</td>\n",
       "      <td>NaN</td>\n",
       "      <td>NaN</td>\n",
       "      <td>NaN</td>\n",
       "    </tr>\n",
       "  </tbody>\n",
       "</table>\n",
       "</div>"
      ],
      "text/plain": [
       "                                                     tiktok_url  \\\n",
       "0  https://tiktok.com/@everythingenvy/video/7033841630654549294   \n",
       "1  https://tiktok.com/@everythingenvy/video/7033452496534293807   \n",
       "2  https://tiktok.com/@everythingenvy/video/7032013929412922670   \n",
       "3  https://tiktok.com/@everythingenvy/video/7031991543846194479   \n",
       "4  https://tiktok.com/@everythingenvy/video/7031688952398761263   \n",
       "\n",
       "  AIGCDescription  \\\n",
       "0                   \n",
       "1                   \n",
       "2                   \n",
       "3                   \n",
       "4                   \n",
       "\n",
       "                                                                   challenges  \\\n",
       "0  [{'coverLarger': 'https://p16-amd-va.tiktokcdn.com/obj/musically-maliva...   \n",
       "1  [{'coverLarger': '', 'coverMedium': '', 'coverThumb': '', 'desc': '', '...   \n",
       "2  [{'coverLarger': '', 'coverMedium': '', 'coverThumb': '', 'desc': '', '...   \n",
       "3  [{'coverLarger': '', 'coverMedium': '', 'coverThumb': '', 'desc': '', '...   \n",
       "4  [{'coverLarger': '', 'coverMedium': '', 'coverThumb': '', 'desc': '', '...   \n",
       "\n",
       "   collected  \\\n",
       "0      False   \n",
       "1      False   \n",
       "2      False   \n",
       "3      False   \n",
       "4      False   \n",
       "\n",
       "                                                                     contents  \\\n",
       "0  [{'desc': 'How to make a handmade bow! #wrappinggifts #wrappingpresents...   \n",
       "1  [{'desc': '#napkinfolding #foldingtok #foldingtutorials #napkinart #hol...   \n",
       "2  [{'desc': '#amazonmusthaves #amazongadgets #amazonmusthaves #holidayhac...   \n",
       "3  [{'desc': '#stockingstuffers #stockingstufferidea #giftideas #giftidea ...   \n",
       "4  [{'desc': '#amazongadgets #amazonmusthave #amazonfinds #wrappinggifts #...   \n",
       "\n",
       "   createTime  \\\n",
       "0  1637693876   \n",
       "1  1637603273   \n",
       "2  1637268331   \n",
       "3  1637263119   \n",
       "4  1637192666   \n",
       "\n",
       "                                                                         desc  \\\n",
       "0  How to make a handmade bow! #wrappinggifts #wrappingpresents #giftwrapp...   \n",
       "1  #napkinfolding #foldingtok #foldingtutorials #napkinart #holidaytiktok ...   \n",
       "2  #amazonmusthaves #amazongadgets #amazonmusthaves #holidayhacks #holiday...   \n",
       "3  #stockingstuffers #stockingstufferidea #giftideas #giftidea #homehacks ...   \n",
       "4  #amazongadgets #amazonmusthave #amazonfinds #wrappinggifts #wrappinghac...   \n",
       "\n",
       "   digged  duetDisplay duetEnabled  forFriend                   id  \\\n",
       "0   False            0        True      False  7033841630654549294   \n",
       "1   False            0        True      False  7033452496534293807   \n",
       "2   False            0        True      False  7032013929412922670   \n",
       "3   False            0        True      False  7031991543846194479   \n",
       "4   False            0        True      False  7031688952398761263   \n",
       "\n",
       "   itemCommentStatus  officalItem  originalItem  privateItem  secret  \\\n",
       "0                  0        False         False        False   False   \n",
       "1                  0        False         False        False   False   \n",
       "2                  0        False         False        False   False   \n",
       "3                  0        False         False        False   False   \n",
       "4                  0        False         False        False   False   \n",
       "\n",
       "   shareEnabled  stitchDisplay stitchEnabled  \\\n",
       "0          True              0          True   \n",
       "1          True              0          True   \n",
       "2          True              0          True   \n",
       "3          True              0          True   \n",
       "4          True              0          True   \n",
       "\n",
       "                                                                    textExtra  \\\n",
       "0  [{'awemeId': '', 'end': 42, 'hashtagName': 'wrappinggifts', 'isCommerce...   \n",
       "1  [{'awemeId': '', 'end': 14, 'hashtagName': 'napkinfolding', 'isCommerce...   \n",
       "2  [{'awemeId': '', 'end': 16, 'hashtagName': 'amazonmusthaves', 'isCommer...   \n",
       "3  [{'awemeId': '', 'end': 17, 'hashtagName': 'stockingstuffers', 'isComme...   \n",
       "4  [{'awemeId': '', 'end': 14, 'hashtagName': 'amazongadgets', 'isCommerce...   \n",
       "\n",
       "                                                          author_avatarLarger  \\\n",
       "0  https://p16-sign.tiktokcdn-us.com/tos-useast5-avt-0068-tx/42140f5821e99...   \n",
       "1  https://p16-sign.tiktokcdn-us.com/tos-useast5-avt-0068-tx/42140f5821e99...   \n",
       "2  https://p16-sign.tiktokcdn-us.com/tos-useast5-avt-0068-tx/42140f5821e99...   \n",
       "3  https://p16-sign.tiktokcdn-us.com/tos-useast5-avt-0068-tx/42140f5821e99...   \n",
       "4  https://p16-sign.tiktokcdn-us.com/tos-useast5-avt-0068-tx/42140f5821e99...   \n",
       "\n",
       "                                                          author_avatarMedium  \\\n",
       "0  https://p16-sign.tiktokcdn-us.com/tos-useast5-avt-0068-tx/42140f5821e99...   \n",
       "1  https://p16-sign.tiktokcdn-us.com/tos-useast5-avt-0068-tx/42140f5821e99...   \n",
       "2  https://p16-sign.tiktokcdn-us.com/tos-useast5-avt-0068-tx/42140f5821e99...   \n",
       "3  https://p16-sign.tiktokcdn-us.com/tos-useast5-avt-0068-tx/42140f5821e99...   \n",
       "4  https://p16-sign.tiktokcdn-us.com/tos-useast5-avt-0068-tx/42140f5821e99...   \n",
       "\n",
       "                                                           author_avatarThumb  \\\n",
       "0  https://p16-sign.tiktokcdn-us.com/tos-useast5-avt-0068-tx/42140f5821e99...   \n",
       "1  https://p16-sign.tiktokcdn-us.com/tos-useast5-avt-0068-tx/42140f5821e99...   \n",
       "2  https://p16-sign.tiktokcdn-us.com/tos-useast5-avt-0068-tx/42140f5821e99...   \n",
       "3  https://p16-sign.tiktokcdn-us.com/tos-useast5-avt-0068-tx/42140f5821e99...   \n",
       "4  https://p16-sign.tiktokcdn-us.com/tos-useast5-avt-0068-tx/42140f5821e99...   \n",
       "\n",
       "   author_commentSetting  author_downloadSetting  author_duetSetting  \\\n",
       "0                      0                       0                   0   \n",
       "1                      0                       0                   0   \n",
       "2                      0                       0                   0   \n",
       "3                      0                       0                   0   \n",
       "4                      0                       0                   0   \n",
       "\n",
       "   author_ftc            author_id  author_isADVirtual  author_isEmbedBanned  \\\n",
       "0       False  6875149358373176325               False                 False   \n",
       "1       False  6875149358373176325               False                 False   \n",
       "2       False  6875149358373176325               False                 False   \n",
       "3       False  6875149358373176325               False                 False   \n",
       "4       False  6875149358373176325               False                 False   \n",
       "\n",
       "      author_nickname  author_openFavorite  author_privateAccount  \\\n",
       "0  Margaret & Stetson                False                  False   \n",
       "1  Margaret & Stetson                False                  False   \n",
       "2  Margaret & Stetson                False                  False   \n",
       "3  Margaret & Stetson                False                  False   \n",
       "4  Margaret & Stetson                False                  False   \n",
       "\n",
       "   author_relation  \\\n",
       "0                0   \n",
       "1                0   \n",
       "2                0   \n",
       "3                0   \n",
       "4                0   \n",
       "\n",
       "                                                                author_secUid  \\\n",
       "0  MS4wLjABAAAAdK-fCBiHfDnxlcqWI8k0t8JSvC2zZ2elAJFE2WLjwpFmLRrGIHCVo8_e6Ww...   \n",
       "1  MS4wLjABAAAAdK-fCBiHfDnxlcqWI8k0t8JSvC2zZ2elAJFE2WLjwpFmLRrGIHCVo8_e6Ww...   \n",
       "2  MS4wLjABAAAAdK-fCBiHfDnxlcqWI8k0t8JSvC2zZ2elAJFE2WLjwpFmLRrGIHCVo8_e6Ww...   \n",
       "3  MS4wLjABAAAAdK-fCBiHfDnxlcqWI8k0t8JSvC2zZ2elAJFE2WLjwpFmLRrGIHCVo8_e6Ww...   \n",
       "4  MS4wLjABAAAAdK-fCBiHfDnxlcqWI8k0t8JSvC2zZ2elAJFE2WLjwpFmLRrGIHCVo8_e6Ww...   \n",
       "\n",
       "   author_secret  \\\n",
       "0          False   \n",
       "1          False   \n",
       "2          False   \n",
       "3          False   \n",
       "4          False   \n",
       "\n",
       "                                                             author_signature  \\\n",
       "0  Mother-daughter duo\\nAmazon finds, home organization, & more\\nSHOP OUR ...   \n",
       "1  Mother-daughter duo\\nAmazon finds, home organization, & more\\nSHOP OUR ...   \n",
       "2  Mother-daughter duo\\nAmazon finds, home organization, & more\\nSHOP OUR ...   \n",
       "3  Mother-daughter duo\\nAmazon finds, home organization, & more\\nSHOP OUR ...   \n",
       "4  Mother-daughter duo\\nAmazon finds, home organization, & more\\nSHOP OUR ...   \n",
       "\n",
       "   author_stitchSetting author_uniqueId  author_verified  \\\n",
       "0                     0  everythingenvy            False   \n",
       "1                     0  everythingenvy            False   \n",
       "2                     0  everythingenvy            False   \n",
       "3                     0  everythingenvy            False   \n",
       "4                     0  everythingenvy            False   \n",
       "\n",
       "   item_control_can_repost                    music_album  \\\n",
       "0                     True  We Wish You a Merry Christmas   \n",
       "1                     True    SAD GIRLZ LUV MONEY - Remix   \n",
       "2                     True                            NaN   \n",
       "3                     True                            NaN   \n",
       "4                     True                            NaN   \n",
       "\n",
       "       music_authorName  \\\n",
       "0       Merry Christmas   \n",
       "1  Amaarae & Kali Uchis   \n",
       "2    Margaret & Stetson   \n",
       "3    Margaret & Stetson   \n",
       "4    Margaret & Stetson   \n",
       "\n",
       "                                                             music_coverLarge  \\\n",
       "0  https://p16-sign-sg.tiktokcdn.com/tos-alisg-v-2774/02858d8a12b646579485...   \n",
       "1  https://p16-sg.tiktokcdn.com/aweme/720x720/tos-alisg-v-2774/ogAAZIA9rjm...   \n",
       "2  https://p16-sign.tiktokcdn-us.com/tos-useast5-avt-0068-tx/42140f5821e99...   \n",
       "3  https://p16-sign.tiktokcdn-us.com/tos-useast5-avt-0068-tx/42140f5821e99...   \n",
       "4  https://p16-sign.tiktokcdn-us.com/tos-useast5-avt-0068-tx/42140f5821e99...   \n",
       "\n",
       "                                                            music_coverMedium  \\\n",
       "0  https://p16-sign-sg.tiktokcdn.com/tos-alisg-v-2774/02858d8a12b646579485...   \n",
       "1  https://p16-sg.tiktokcdn.com/aweme/200x200/tos-alisg-v-2774/ogAAZIA9rjm...   \n",
       "2  https://p16-sign.tiktokcdn-us.com/tos-useast5-avt-0068-tx/42140f5821e99...   \n",
       "3  https://p16-sign.tiktokcdn-us.com/tos-useast5-avt-0068-tx/42140f5821e99...   \n",
       "4  https://p16-sign.tiktokcdn-us.com/tos-useast5-avt-0068-tx/42140f5821e99...   \n",
       "\n",
       "                                                             music_coverThumb  \\\n",
       "0  https://p16-sign-sg.tiktokcdn.com/tos-alisg-v-2774/02858d8a12b646579485...   \n",
       "1  https://p16-sg.tiktokcdn.com/aweme/100x100/tos-alisg-v-2774/ogAAZIA9rjm...   \n",
       "2  https://p16-sign.tiktokcdn-us.com/tos-useast5-avt-0068-tx/42140f5821e99...   \n",
       "3  https://p16-sign.tiktokcdn-us.com/tos-useast5-avt-0068-tx/42140f5821e99...   \n",
       "4  https://p16-sign.tiktokcdn-us.com/tos-useast5-avt-0068-tx/42140f5821e99...   \n",
       "\n",
       "   music_duration             music_id  music_original  \\\n",
       "0            29.0  6709421144174233602           False   \n",
       "1            48.0  7007785041036101634           False   \n",
       "2            17.0  7032013692610808622           False   \n",
       "3            17.0  7031991232540773167           False   \n",
       "4            11.0  7031688787692489518           False   \n",
       "\n",
       "                     music_title  stats_collectCount  stats_commentCount  \\\n",
       "0  We Wish You a Merry Christmas                 121                   4   \n",
       "1    SAD GIRLZ LUV MONEY - Remix                  88                   0   \n",
       "2                 original sound                  60                   2   \n",
       "3                 original sound                  49                   0   \n",
       "4                 original sound                  35                   3   \n",
       "\n",
       "   stats_diggCount  stats_playCount  stats_shareCount statsV2_collectCount  \\\n",
       "0              630            17000                67                  121   \n",
       "1              658            28900                77                   88   \n",
       "2              848            34700                64                   60   \n",
       "3              602            17000                 9                   49   \n",
       "4              420            16200                26                   35   \n",
       "\n",
       "  statsV2_commentCount statsV2_diggCount statsV2_playCount  \\\n",
       "0                    4               630             17000   \n",
       "1                    0               658             28900   \n",
       "2                    2               848             34700   \n",
       "3                    0               602             17000   \n",
       "4                    3               420             16200   \n",
       "\n",
       "  statsV2_repostCount statsV2_shareCount video_VQScore  video_bitrate  \\\n",
       "0                   0                 67             0      1453478.0   \n",
       "1                   0                 77             0      1284092.0   \n",
       "2                   0                 64             0       863018.0   \n",
       "3                   0                  9             0       946224.0   \n",
       "4                   0                 26             0       611276.0   \n",
       "\n",
       "                                                            video_bitrateInfo  \\\n",
       "0  [{'Bitrate': 1453478, 'CodecType': 'h264', 'GearName': 'normal_540_0', ...   \n",
       "1  [{'Bitrate': 1284092, 'CodecType': 'h264', 'GearName': 'normal_540_0', ...   \n",
       "2  [{'Bitrate': 863018, 'CodecType': 'h264', 'GearName': 'normal_540_0', '...   \n",
       "3  [{'Bitrate': 946224, 'CodecType': 'h264', 'GearName': 'normal_540_0', '...   \n",
       "4  [{'Bitrate': 611276, 'CodecType': 'h264', 'GearName': 'normal_540_0', '...   \n",
       "\n",
       "  video_codecType  \\\n",
       "0            h264   \n",
       "1            h264   \n",
       "2            h264   \n",
       "3            h264   \n",
       "4            h264   \n",
       "\n",
       "                                                                  video_cover  \\\n",
       "0  https://p16-sign.tiktokcdn-us.com/obj/tos-useast5-p-0068-tx/5a1b8d9d39e...   \n",
       "1  https://p16-pu-sign-useast8.tiktokcdn-us.com/obj/tos-useast5-p-0068-tx/...   \n",
       "2  https://p16-pu-sign-useast8.tiktokcdn-us.com/obj/tos-useast5-p-0068-tx/...   \n",
       "3  https://p16-sign.tiktokcdn-us.com/obj/tos-useast5-p-0068-tx/3c1a6de3422...   \n",
       "4  https://p19-pu-sign-useast8.tiktokcdn-us.com/obj/tos-useast5-p-0068-tx/...   \n",
       "\n",
       "  video_definition  \\\n",
       "0             540p   \n",
       "1             540p   \n",
       "2             540p   \n",
       "3             540p   \n",
       "4             540p   \n",
       "\n",
       "                                                           video_downloadAddr  \\\n",
       "0  https://v16-webapp-prime.us.tiktok.com/video/tos/useast5/tos-useast5-ve...   \n",
       "1  https://v16-webapp-prime.us.tiktok.com/video/tos/useast5/tos-useast5-pv...   \n",
       "2  https://v16-webapp-prime.us.tiktok.com/video/tos/useast5/tos-useast5-ve...   \n",
       "3  https://v16-webapp-prime.us.tiktok.com/video/tos/useast5/tos-useast5-ve...   \n",
       "4  https://v16-webapp-prime.us.tiktok.com/video/tos/useast5/tos-useast5-pv...   \n",
       "\n",
       "   video_duration  \\\n",
       "0              12   \n",
       "1              14   \n",
       "2              17   \n",
       "3              17   \n",
       "4              11   \n",
       "\n",
       "                                                           video_dynamicCover  \\\n",
       "0  https://p16-pu-sign-useast8.tiktokcdn-us.com/obj/tos-useast5-p-0068-tx/...   \n",
       "1  https://p16-pu-sign-useast8.tiktokcdn-us.com/obj/tos-useast5-p-0068-tx/...   \n",
       "2  https://p16-pu-sign-useast8.tiktokcdn-us.com/obj/tos-useast5-p-0068-tx/...   \n",
       "3  https://p19-pu-sign-useast8.tiktokcdn-us.com/obj/tos-useast5-p-0068-tx/...   \n",
       "4  https://p16-pu-sign-useast8.tiktokcdn-us.com/obj/tos-useast5-p-0068-tx/...   \n",
       "\n",
       "  video_encodeUserTag video_encodedType video_format  video_height  \\\n",
       "0                                normal          mp4          1024   \n",
       "1                                normal          mp4          1024   \n",
       "2                                normal          mp4          1024   \n",
       "3                                normal          mp4          1024   \n",
       "4                                normal          mp4          1024   \n",
       "\n",
       "              video_id  \\\n",
       "0  7033841630654549294   \n",
       "1  7033452496534293807   \n",
       "2  7032013929412922670   \n",
       "3  7031991543846194479   \n",
       "4  7031688952398761263   \n",
       "\n",
       "                                                            video_originCover  \\\n",
       "0  https://p19-pu-sign-useast8.tiktokcdn-us.com/obj/tos-useast5-p-0068-tx/...   \n",
       "1  https://p19-pu-sign-useast8.tiktokcdn-us.com/obj/tos-useast5-p-0068-tx/...   \n",
       "2  https://p19-sign.tiktokcdn-us.com/obj/tos-useast5-p-0068-tx/acd6d924311...   \n",
       "3  https://p16-pu-sign-useast8.tiktokcdn-us.com/obj/tos-useast5-p-0068-tx/...   \n",
       "4  https://p16-pu-sign-useast8.tiktokcdn-us.com/obj/tos-useast5-p-0068-tx/...   \n",
       "\n",
       "                                                               video_playAddr  \\\n",
       "0  https://v16-webapp-prime.us.tiktok.com/video/tos/useast5/tos-useast5-ve...   \n",
       "1  https://v16-webapp-prime.us.tiktok.com/video/tos/useast5/tos-useast5-ve...   \n",
       "2  https://v16-webapp-prime.us.tiktok.com/video/tos/useast5/tos-useast5-pv...   \n",
       "3  https://v16-webapp-prime.us.tiktok.com/video/tos/useast5/tos-useast5-ve...   \n",
       "4  https://v16-webapp-prime.us.tiktok.com/video/tos/useast5/tos-useast5-pv...   \n",
       "\n",
       "  video_ratio video_videoQuality  video_volumeInfo_Loudness  \\\n",
       "0        540p             normal                      -12.9   \n",
       "1        540p             normal                       -9.9   \n",
       "2        540p             normal                      -12.9   \n",
       "3        540p             normal                      -13.7   \n",
       "4        540p             normal                      -12.1   \n",
       "\n",
       "   video_volumeInfo_Peak  video_width  \\\n",
       "0                0.89125          576   \n",
       "1                1.00000          576   \n",
       "2                0.94406          576   \n",
       "3                1.00000          576   \n",
       "4                0.94406          576   \n",
       "\n",
       "                                                          video_zoomCover_240  \\\n",
       "0  https://p19-sign.tiktokcdn-us.com/tos-useast5-p-0068-tx/5a1b8d9d39e84a3...   \n",
       "1  https://p16-pu-sign-useast8.tiktokcdn-us.com/tos-useast5-p-0068-tx/f2c1...   \n",
       "2  https://p19-pu-sign-useast8.tiktokcdn-us.com/tos-useast5-p-0068-tx/fd20...   \n",
       "3  https://p16-sign.tiktokcdn-us.com/tos-useast5-p-0068-tx/3c1a6de3422b472...   \n",
       "4  https://p16-pu-sign-useast8.tiktokcdn-us.com/tos-useast5-p-0068-tx/0a26...   \n",
       "\n",
       "                                                          video_zoomCover_480  \\\n",
       "0  https://p16-sign.tiktokcdn-us.com/tos-useast5-p-0068-tx/5a1b8d9d39e84a3...   \n",
       "1  https://p19-pu-sign-useast8.tiktokcdn-us.com/tos-useast5-p-0068-tx/f2c1...   \n",
       "2  https://p16-pu-sign-useast8.tiktokcdn-us.com/tos-useast5-p-0068-tx/fd20...   \n",
       "3  https://p16-sign.tiktokcdn-us.com/tos-useast5-p-0068-tx/3c1a6de3422b472...   \n",
       "4  https://p16-pu-sign-useast8.tiktokcdn-us.com/tos-useast5-p-0068-tx/0a26...   \n",
       "\n",
       "                                                          video_zoomCover_720  \\\n",
       "0  https://p19-sign.tiktokcdn-us.com/tos-useast5-p-0068-tx/5a1b8d9d39e84a3...   \n",
       "1  https://p19-pu-sign-useast8.tiktokcdn-us.com/tos-useast5-p-0068-tx/f2c1...   \n",
       "2  https://p19-pu-sign-useast8.tiktokcdn-us.com/tos-useast5-p-0068-tx/fd20...   \n",
       "3  https://p19-sign.tiktokcdn-us.com/tos-useast5-p-0068-tx/3c1a6de3422b472...   \n",
       "4  https://p19-pu-sign-useast8.tiktokcdn-us.com/tos-useast5-p-0068-tx/0a26...   \n",
       "\n",
       "                                                          video_zoomCover_960  \\\n",
       "0  https://p16-sign.tiktokcdn-us.com/tos-useast5-p-0068-tx/5a1b8d9d39e84a3...   \n",
       "1  https://p16-pu-sign-useast8.tiktokcdn-us.com/tos-useast5-p-0068-tx/f2c1...   \n",
       "2  https://p16-pu-sign-useast8.tiktokcdn-us.com/tos-useast5-p-0068-tx/fd20...   \n",
       "3  https://p19-sign.tiktokcdn-us.com/tos-useast5-p-0068-tx/3c1a6de3422b472...   \n",
       "4  https://p19-pu-sign-useast8.tiktokcdn-us.com/tos-useast5-p-0068-tx/0a26...   \n",
       "\n",
       "                                                                music_playUrl  \\\n",
       "0                                                                         NaN   \n",
       "1  https://sf16-ies-music-sg.tiktokcdn.com/obj/tos-alisg-ve-2774/7dc488cf6...   \n",
       "2  https://v16-webapp-prime.us.tiktok.com/video/tos/useast5/tos-useast5-v-...   \n",
       "3  https://v16-webapp-prime.us.tiktok.com/video/tos/useast5/tos-useast5-v-...   \n",
       "4  https://v16-webapp-prime.us.tiktok.com/video/tos/useast5/tos-useast5-v-...   \n",
       "\n",
       "   diversificationId video_subtitleInfos playlistId anchors  adLabelVersion  \\\n",
       "0                NaN                 NaN        NaN     NaN             NaN   \n",
       "1                NaN                 NaN        NaN     NaN             NaN   \n",
       "2                NaN                 NaN        NaN     NaN             NaN   \n",
       "3                NaN                 NaN        NaN     NaN             NaN   \n",
       "4                NaN                 NaN        NaN     NaN             NaN   \n",
       "\n",
       "  adAuthorization isAd item_control_can_comment  \\\n",
       "0             NaN  NaN                      NaN   \n",
       "1             NaN  NaN                      NaN   \n",
       "2             NaN  NaN                      NaN   \n",
       "3             NaN  NaN                      NaN   \n",
       "4             NaN  NaN                      NaN   \n",
       "\n",
       "  item_control_can_creator_redirect item_control_can_music_redirect  \\\n",
       "0                               NaN                             NaN   \n",
       "1                               NaN                             NaN   \n",
       "2                               NaN                             NaN   \n",
       "3                               NaN                             NaN   \n",
       "4                               NaN                             NaN   \n",
       "\n",
       "  item_control_can_share itemMute poi_address poi_city poi_cityCode  \\\n",
       "0                    NaN      NaN         NaN      NaN          NaN   \n",
       "1                    NaN      NaN         NaN      NaN          NaN   \n",
       "2                    NaN      NaN         NaN      NaN          NaN   \n",
       "3                    NaN      NaN         NaN      NaN          NaN   \n",
       "4                    NaN      NaN         NaN      NaN          NaN   \n",
       "\n",
       "  poi_country poi_countryCode poi_fatherPoiName poi_id poi_name poi_province  \\\n",
       "0         NaN             NaN               NaN    NaN      NaN          NaN   \n",
       "1         NaN             NaN               NaN    NaN      NaN          NaN   \n",
       "2         NaN             NaN               NaN    NaN      NaN          NaN   \n",
       "3         NaN             NaN               NaN    NaN      NaN          NaN   \n",
       "4         NaN             NaN               NaN    NaN      NaN          NaN   \n",
       "\n",
       "  poi_ttTypeCode poi_ttTypeNameMedium poi_ttTypeNameSuper poi_ttTypeNameTiny  \\\n",
       "0            NaN                  NaN                 NaN                NaN   \n",
       "1            NaN                  NaN                 NaN                NaN   \n",
       "2            NaN                  NaN                 NaN                NaN   \n",
       "3            NaN                  NaN                 NaN                NaN   \n",
       "4            NaN                  NaN                 NaN                NaN   \n",
       "\n",
       "  poi_typeCode BAInfo  isECVideo  music_scheduleSearchTime  \\\n",
       "0          NaN    NaN        NaN                       NaN   \n",
       "1          NaN    NaN        NaN                       NaN   \n",
       "2          NaN    NaN        NaN                       NaN   \n",
       "3          NaN    NaN        NaN                       NaN   \n",
       "4          NaN    NaN        NaN                       NaN   \n",
       "\n",
       "  duetInfo_duetFromId videoSuggestWordsList_video_suggest_words_struct  \\\n",
       "0                 NaN                                              NaN   \n",
       "1                 NaN                                              NaN   \n",
       "2                 NaN                                              NaN   \n",
       "3                 NaN                                              NaN   \n",
       "4                 NaN                                              NaN   \n",
       "\n",
       "  warnInfo isPinnedItem  imagePost_cover_imageHeight  \\\n",
       "0      NaN          NaN                          NaN   \n",
       "1      NaN          NaN                          NaN   \n",
       "2      NaN          NaN                          NaN   \n",
       "3      NaN          NaN                          NaN   \n",
       "4      NaN          NaN                          NaN   \n",
       "\n",
       "  imagePost_cover_imageURL_urlList  imagePost_cover_imageWidth  \\\n",
       "0                              NaN                         NaN   \n",
       "1                              NaN                         NaN   \n",
       "2                              NaN                         NaN   \n",
       "3                              NaN                         NaN   \n",
       "4                              NaN                         NaN   \n",
       "\n",
       "  imagePost_images  imagePost_shareCover_imageHeight  \\\n",
       "0              NaN                               NaN   \n",
       "1              NaN                               NaN   \n",
       "2              NaN                               NaN   \n",
       "3              NaN                               NaN   \n",
       "4              NaN                               NaN   \n",
       "\n",
       "  imagePost_shareCover_imageURL_urlList  imagePost_shareCover_imageWidth  \\\n",
       "0                                   NaN                              NaN   \n",
       "1                                   NaN                              NaN   \n",
       "2                                   NaN                              NaN   \n",
       "3                                   NaN                              NaN   \n",
       "4                                   NaN                              NaN   \n",
       "\n",
       "  imagePost_title  \n",
       "0             NaN  \n",
       "1             NaN  \n",
       "2             NaN  \n",
       "3             NaN  \n",
       "4             NaN  "
      ]
     },
     "execution_count": 111,
     "metadata": {},
     "output_type": "execute_result"
    }
   ],
   "source": [
    "# Use .insert to put the URL in the front so we can see it easily here\n",
    "urls = 'https://tiktok.com/@' + videos_df['author_uniqueId'] + '/video/' + videos_df['video_id']\n",
    "videos_df.insert(0, 'tiktok_url', urls)\n",
    "\n",
    "# Drop duplicates based on tiktok_urls\n",
    "videos_df = videos_df.drop_duplicates(subset=['tiktok_url'])\n",
    "print(videos_df.shape[0], \"total videos\")\n",
    "\n",
    "videos_df.head()"
   ]
  },
  {
   "cell_type": "markdown",
   "metadata": {},
   "source": [
    "Now we'll save them."
   ]
  },
  {
   "cell_type": "code",
   "execution_count": 112,
   "metadata": {},
   "outputs": [
    {
     "data": {
      "text/plain": [
       "author_nickname\n",
       "AMAZON FINDS          1255\n",
       "Sarah Lindner         1144\n",
       "Jared Andersen        1092\n",
       "Margaret & Stetson     796\n",
       "Sam Shan Shops 🦋       487\n",
       "Anya                   264\n",
       "Justice Buys           155\n",
       "Name: count, dtype: int64"
      ]
     },
     "execution_count": 112,
     "metadata": {},
     "output_type": "execute_result"
    }
   ],
   "source": [
    "videos_df['author_nickname'].value_counts()"
   ]
  },
  {
   "cell_type": "code",
   "execution_count": 119,
   "metadata": {},
   "outputs": [],
   "source": [
    "filtered_df = videos_df[videos_df['author_nickname'] == \"AMAZON FINDS\"]"
   ]
  },
  {
   "cell_type": "code",
   "execution_count": 120,
   "metadata": {},
   "outputs": [],
   "source": [
    "filtered_df.to_csv(\"ariellebrimhall_videos.csv\", index=False)"
   ]
  },
  {
   "cell_type": "markdown",
   "metadata": {},
   "source": [
    "## Download videos\n",
    "\n",
    "Time to use [yt-dlp](https://github.com/yt-dlp/yt-dlp) to actually download the videos! We'll start by opening the CSV file."
   ]
  },
  {
   "cell_type": "code",
   "execution_count": 48,
   "metadata": {},
   "outputs": [],
   "source": [
    "import pandas as pd"
   ]
  },
  {
   "cell_type": "code",
   "execution_count": 115,
   "metadata": {},
   "outputs": [
    {
     "data": {
      "text/html": [
       "<div>\n",
       "<style scoped>\n",
       "    .dataframe tbody tr th:only-of-type {\n",
       "        vertical-align: middle;\n",
       "    }\n",
       "\n",
       "    .dataframe tbody tr th {\n",
       "        vertical-align: top;\n",
       "    }\n",
       "\n",
       "    .dataframe thead th {\n",
       "        text-align: right;\n",
       "    }\n",
       "</style>\n",
       "<table border=\"1\" class=\"dataframe\">\n",
       "  <thead>\n",
       "    <tr style=\"text-align: right;\">\n",
       "      <th></th>\n",
       "      <th>tiktok_url</th>\n",
       "      <th>AIGCDescription</th>\n",
       "      <th>challenges</th>\n",
       "      <th>collected</th>\n",
       "      <th>contents</th>\n",
       "      <th>createTime</th>\n",
       "      <th>desc</th>\n",
       "      <th>digged</th>\n",
       "      <th>duetDisplay</th>\n",
       "      <th>duetEnabled</th>\n",
       "      <th>forFriend</th>\n",
       "      <th>id</th>\n",
       "      <th>itemCommentStatus</th>\n",
       "      <th>officalItem</th>\n",
       "      <th>originalItem</th>\n",
       "      <th>privateItem</th>\n",
       "      <th>secret</th>\n",
       "      <th>shareEnabled</th>\n",
       "      <th>stitchDisplay</th>\n",
       "      <th>stitchEnabled</th>\n",
       "      <th>textExtra</th>\n",
       "      <th>author_avatarLarger</th>\n",
       "      <th>author_avatarMedium</th>\n",
       "      <th>author_avatarThumb</th>\n",
       "      <th>author_commentSetting</th>\n",
       "      <th>author_downloadSetting</th>\n",
       "      <th>author_duetSetting</th>\n",
       "      <th>author_ftc</th>\n",
       "      <th>author_id</th>\n",
       "      <th>author_isADVirtual</th>\n",
       "      <th>author_isEmbedBanned</th>\n",
       "      <th>author_nickname</th>\n",
       "      <th>author_openFavorite</th>\n",
       "      <th>author_privateAccount</th>\n",
       "      <th>author_relation</th>\n",
       "      <th>author_secUid</th>\n",
       "      <th>author_secret</th>\n",
       "      <th>author_signature</th>\n",
       "      <th>author_stitchSetting</th>\n",
       "      <th>author_uniqueId</th>\n",
       "      <th>author_verified</th>\n",
       "      <th>item_control_can_repost</th>\n",
       "      <th>music_album</th>\n",
       "      <th>music_authorName</th>\n",
       "      <th>music_coverLarge</th>\n",
       "      <th>music_coverMedium</th>\n",
       "      <th>music_coverThumb</th>\n",
       "      <th>music_duration</th>\n",
       "      <th>music_id</th>\n",
       "      <th>music_original</th>\n",
       "      <th>music_title</th>\n",
       "      <th>stats_collectCount</th>\n",
       "      <th>stats_commentCount</th>\n",
       "      <th>stats_diggCount</th>\n",
       "      <th>stats_playCount</th>\n",
       "      <th>stats_shareCount</th>\n",
       "      <th>statsV2_collectCount</th>\n",
       "      <th>statsV2_commentCount</th>\n",
       "      <th>statsV2_diggCount</th>\n",
       "      <th>statsV2_playCount</th>\n",
       "      <th>statsV2_repostCount</th>\n",
       "      <th>statsV2_shareCount</th>\n",
       "      <th>video_VQScore</th>\n",
       "      <th>video_bitrate</th>\n",
       "      <th>video_bitrateInfo</th>\n",
       "      <th>video_codecType</th>\n",
       "      <th>video_cover</th>\n",
       "      <th>video_definition</th>\n",
       "      <th>video_downloadAddr</th>\n",
       "      <th>video_duration</th>\n",
       "      <th>video_dynamicCover</th>\n",
       "      <th>video_encodeUserTag</th>\n",
       "      <th>video_encodedType</th>\n",
       "      <th>video_format</th>\n",
       "      <th>video_height</th>\n",
       "      <th>video_id</th>\n",
       "      <th>video_originCover</th>\n",
       "      <th>video_playAddr</th>\n",
       "      <th>video_ratio</th>\n",
       "      <th>video_videoQuality</th>\n",
       "      <th>video_volumeInfo_Loudness</th>\n",
       "      <th>video_volumeInfo_Peak</th>\n",
       "      <th>video_width</th>\n",
       "      <th>video_zoomCover_240</th>\n",
       "      <th>video_zoomCover_480</th>\n",
       "      <th>video_zoomCover_720</th>\n",
       "      <th>video_zoomCover_960</th>\n",
       "      <th>music_playUrl</th>\n",
       "      <th>diversificationId</th>\n",
       "      <th>video_subtitleInfos</th>\n",
       "      <th>playlistId</th>\n",
       "      <th>anchors</th>\n",
       "      <th>adLabelVersion</th>\n",
       "      <th>adAuthorization</th>\n",
       "      <th>isAd</th>\n",
       "      <th>item_control_can_comment</th>\n",
       "      <th>item_control_can_creator_redirect</th>\n",
       "      <th>item_control_can_music_redirect</th>\n",
       "      <th>item_control_can_share</th>\n",
       "      <th>itemMute</th>\n",
       "      <th>poi_address</th>\n",
       "      <th>poi_city</th>\n",
       "      <th>poi_cityCode</th>\n",
       "      <th>poi_country</th>\n",
       "      <th>poi_countryCode</th>\n",
       "      <th>poi_fatherPoiName</th>\n",
       "      <th>poi_id</th>\n",
       "      <th>poi_name</th>\n",
       "      <th>poi_province</th>\n",
       "      <th>poi_ttTypeCode</th>\n",
       "      <th>poi_ttTypeNameMedium</th>\n",
       "      <th>poi_ttTypeNameSuper</th>\n",
       "      <th>poi_ttTypeNameTiny</th>\n",
       "      <th>poi_typeCode</th>\n",
       "      <th>BAInfo</th>\n",
       "      <th>isECVideo</th>\n",
       "      <th>music_scheduleSearchTime</th>\n",
       "      <th>duetInfo_duetFromId</th>\n",
       "      <th>videoSuggestWordsList_video_suggest_words_struct</th>\n",
       "      <th>warnInfo</th>\n",
       "      <th>isPinnedItem</th>\n",
       "      <th>imagePost_cover_imageHeight</th>\n",
       "      <th>imagePost_cover_imageURL_urlList</th>\n",
       "      <th>imagePost_cover_imageWidth</th>\n",
       "      <th>imagePost_images</th>\n",
       "      <th>imagePost_shareCover_imageHeight</th>\n",
       "      <th>imagePost_shareCover_imageURL_urlList</th>\n",
       "      <th>imagePost_shareCover_imageWidth</th>\n",
       "      <th>imagePost_title</th>\n",
       "    </tr>\n",
       "  </thead>\n",
       "  <tbody>\n",
       "    <tr>\n",
       "      <th>0</th>\n",
       "      <td>https://tiktok.com/@ariellebrimhall/video/7125566784958106926</td>\n",
       "      <td>NaN</td>\n",
       "      <td>[{'coverLarger': '', 'coverMedium': '', 'coverThumb': '', 'desc': '', '...</td>\n",
       "      <td>False</td>\n",
       "      <td>[{'desc': 'everything in my amazon storefront #amazondormfinds #backtos...</td>\n",
       "      <td>1659050303</td>\n",
       "      <td>everything in my amazon storefront #amazondormfinds #backtoschool #dorm...</td>\n",
       "      <td>False</td>\n",
       "      <td>0</td>\n",
       "      <td>True</td>\n",
       "      <td>False</td>\n",
       "      <td>7125566784958106926</td>\n",
       "      <td>0</td>\n",
       "      <td>False</td>\n",
       "      <td>False</td>\n",
       "      <td>False</td>\n",
       "      <td>False</td>\n",
       "      <td>True</td>\n",
       "      <td>0</td>\n",
       "      <td>True</td>\n",
       "      <td>[{'awemeId': '', 'end': 51, 'hashtagName': 'amazondormfinds', 'isCommer...</td>\n",
       "      <td>https://p19-pu-sign-useast8.tiktokcdn-us.com/tos-useast5-avt-0068-tx/73...</td>\n",
       "      <td>https://p16-pu-sign-useast8.tiktokcdn-us.com/tos-useast5-avt-0068-tx/73...</td>\n",
       "      <td>https://p19-pu-sign-useast8.tiktokcdn-us.com/tos-useast5-avt-0068-tx/73...</td>\n",
       "      <td>0</td>\n",
       "      <td>0</td>\n",
       "      <td>0</td>\n",
       "      <td>False</td>\n",
       "      <td>6907257263154971653</td>\n",
       "      <td>False</td>\n",
       "      <td>False</td>\n",
       "      <td>AMAZON FINDS</td>\n",
       "      <td>False</td>\n",
       "      <td>False</td>\n",
       "      <td>0</td>\n",
       "      <td>MS4wLjABAAAAL88tp6xEG4omf2EsYDEouVXDHi4kvlCKHaMB_O1MPUMSQWgMa7Srt57BtCt...</td>\n",
       "      <td>False</td>\n",
       "      <td>Amazon Influencer | IG @ariellebrimhall\\nCLICK LINK TO SHOP FINDS 🛍</td>\n",
       "      <td>0</td>\n",
       "      <td>ariellebrimhall</td>\n",
       "      <td>False</td>\n",
       "      <td>True</td>\n",
       "      <td>NaN</td>\n",
       "      <td>TimTaj</td>\n",
       "      <td>https://p16-sign-sg.tiktokcdn.com/tos-alisg-v-2774/adc796de52394e04ae2e...</td>\n",
       "      <td>https://p16-sign-sg.tiktokcdn.com/tos-alisg-v-2774/adc796de52394e04ae2e...</td>\n",
       "      <td>https://p16-sign-sg.tiktokcdn.com/tos-alisg-v-2774/adc796de52394e04ae2e...</td>\n",
       "      <td>135.0</td>\n",
       "      <td>6817342688401033218</td>\n",
       "      <td>False</td>\n",
       "      <td>Summer day</td>\n",
       "      <td>29</td>\n",
       "      <td>0</td>\n",
       "      <td>85</td>\n",
       "      <td>5796</td>\n",
       "      <td>10</td>\n",
       "      <td>29</td>\n",
       "      <td>0</td>\n",
       "      <td>85</td>\n",
       "      <td>5796</td>\n",
       "      <td>0</td>\n",
       "      <td>10</td>\n",
       "      <td>0.0</td>\n",
       "      <td>159659.0</td>\n",
       "      <td>[{'Bitrate': 173371, 'CodecType': 'h265_hvc1', 'GearName': 'adapt_lower...</td>\n",
       "      <td>h264</td>\n",
       "      <td>https://p16-pu-sign-useast8.tiktokcdn-us.com/obj/tos-useast5-p-0068-tx/...</td>\n",
       "      <td>540p</td>\n",
       "      <td>https://v16-webapp-prime.us.tiktok.com/video/tos/useast5/tos-useast5-ve...</td>\n",
       "      <td>16</td>\n",
       "      <td>https://p19-sign.tiktokcdn-us.com/obj/tos-useast5-p-0068-tx/833b23ebf15...</td>\n",
       "      <td>NaN</td>\n",
       "      <td>normal</td>\n",
       "      <td>mp4</td>\n",
       "      <td>1024</td>\n",
       "      <td>7125566784958106926</td>\n",
       "      <td>https://p19-sign.tiktokcdn-us.com/obj/tos-useast5-p-0068-tx/d2f437a5625...</td>\n",
       "      <td>https://v16-webapp-prime.us.tiktok.com/video/tos/useast5/tos-useast5-ve...</td>\n",
       "      <td>540p</td>\n",
       "      <td>normal</td>\n",
       "      <td>-11.6</td>\n",
       "      <td>1.00000</td>\n",
       "      <td>576</td>\n",
       "      <td>https://p19-pu-sign-useast8.tiktokcdn-us.com/tos-useast5-p-0068-tx/04b5...</td>\n",
       "      <td>https://p19-pu-sign-useast8.tiktokcdn-us.com/tos-useast5-p-0068-tx/04b5...</td>\n",
       "      <td>https://p19-pu-sign-useast8.tiktokcdn-us.com/tos-useast5-p-0068-tx/04b5...</td>\n",
       "      <td>https://p19-pu-sign-useast8.tiktokcdn-us.com/tos-useast5-p-0068-tx/04b5...</td>\n",
       "      <td>NaN</td>\n",
       "      <td>NaN</td>\n",
       "      <td>NaN</td>\n",
       "      <td>NaN</td>\n",
       "      <td>NaN</td>\n",
       "      <td>NaN</td>\n",
       "      <td>NaN</td>\n",
       "      <td>NaN</td>\n",
       "      <td>NaN</td>\n",
       "      <td>NaN</td>\n",
       "      <td>NaN</td>\n",
       "      <td>NaN</td>\n",
       "      <td>NaN</td>\n",
       "      <td>NaN</td>\n",
       "      <td>NaN</td>\n",
       "      <td>NaN</td>\n",
       "      <td>NaN</td>\n",
       "      <td>NaN</td>\n",
       "      <td>NaN</td>\n",
       "      <td>NaN</td>\n",
       "      <td>NaN</td>\n",
       "      <td>NaN</td>\n",
       "      <td>NaN</td>\n",
       "      <td>NaN</td>\n",
       "      <td>NaN</td>\n",
       "      <td>NaN</td>\n",
       "      <td>NaN</td>\n",
       "      <td>NaN</td>\n",
       "      <td>NaN</td>\n",
       "      <td>NaN</td>\n",
       "      <td>NaN</td>\n",
       "      <td>NaN</td>\n",
       "      <td>NaN</td>\n",
       "      <td>NaN</td>\n",
       "      <td>NaN</td>\n",
       "      <td>NaN</td>\n",
       "      <td>NaN</td>\n",
       "      <td>NaN</td>\n",
       "      <td>NaN</td>\n",
       "      <td>NaN</td>\n",
       "      <td>NaN</td>\n",
       "      <td>NaN</td>\n",
       "    </tr>\n",
       "    <tr>\n",
       "      <th>1</th>\n",
       "      <td>https://tiktok.com/@ariellebrimhall/video/7125202712618143019</td>\n",
       "      <td>NaN</td>\n",
       "      <td>[{'coverLarger': 'https://p16-amd-va.tiktokcdn.com/obj/musically-maliva...</td>\n",
       "      <td>False</td>\n",
       "      <td>[{'desc': \"it's legit. link in bio ✨️ #momsoftiktok #momhack #amazonmom...</td>\n",
       "      <td>1658965536</td>\n",
       "      <td>it's legit. link in bio ✨️ #momsoftiktok #momhack #amazonmomhacks #moms...</td>\n",
       "      <td>False</td>\n",
       "      <td>0</td>\n",
       "      <td>True</td>\n",
       "      <td>False</td>\n",
       "      <td>7125202712618143019</td>\n",
       "      <td>0</td>\n",
       "      <td>False</td>\n",
       "      <td>False</td>\n",
       "      <td>False</td>\n",
       "      <td>False</td>\n",
       "      <td>True</td>\n",
       "      <td>0</td>\n",
       "      <td>True</td>\n",
       "      <td>[{'awemeId': '', 'end': 40, 'hashtagName': 'momsoftiktok', 'isCommerce'...</td>\n",
       "      <td>https://p19-pu-sign-useast8.tiktokcdn-us.com/tos-useast5-avt-0068-tx/73...</td>\n",
       "      <td>https://p16-pu-sign-useast8.tiktokcdn-us.com/tos-useast5-avt-0068-tx/73...</td>\n",
       "      <td>https://p19-pu-sign-useast8.tiktokcdn-us.com/tos-useast5-avt-0068-tx/73...</td>\n",
       "      <td>0</td>\n",
       "      <td>0</td>\n",
       "      <td>0</td>\n",
       "      <td>False</td>\n",
       "      <td>6907257263154971653</td>\n",
       "      <td>False</td>\n",
       "      <td>False</td>\n",
       "      <td>AMAZON FINDS</td>\n",
       "      <td>False</td>\n",
       "      <td>False</td>\n",
       "      <td>0</td>\n",
       "      <td>MS4wLjABAAAAL88tp6xEG4omf2EsYDEouVXDHi4kvlCKHaMB_O1MPUMSQWgMa7Srt57BtCt...</td>\n",
       "      <td>False</td>\n",
       "      <td>Amazon Influencer | IG @ariellebrimhall\\nCLICK LINK TO SHOP FINDS 🛍</td>\n",
       "      <td>0</td>\n",
       "      <td>ariellebrimhall</td>\n",
       "      <td>False</td>\n",
       "      <td>True</td>\n",
       "      <td>NaN</td>\n",
       "      <td>AMAZON FINDS</td>\n",
       "      <td>https://p19-pu-sign-useast8.tiktokcdn-us.com/tos-useast5-avt-0068-tx/73...</td>\n",
       "      <td>https://p16-pu-sign-useast8.tiktokcdn-us.com/tos-useast5-avt-0068-tx/73...</td>\n",
       "      <td>https://p19-pu-sign-useast8.tiktokcdn-us.com/tos-useast5-avt-0068-tx/73...</td>\n",
       "      <td>35.0</td>\n",
       "      <td>7125202705638771502</td>\n",
       "      <td>False</td>\n",
       "      <td>original sound</td>\n",
       "      <td>30</td>\n",
       "      <td>4</td>\n",
       "      <td>84</td>\n",
       "      <td>4872</td>\n",
       "      <td>11</td>\n",
       "      <td>30</td>\n",
       "      <td>4</td>\n",
       "      <td>84</td>\n",
       "      <td>4872</td>\n",
       "      <td>0</td>\n",
       "      <td>11</td>\n",
       "      <td>0.0</td>\n",
       "      <td>1290091.0</td>\n",
       "      <td>[{'Bitrate': 1290091, 'CodecType': 'h264', 'GearName': 'normal_540_0', ...</td>\n",
       "      <td>h264</td>\n",
       "      <td>https://p16-sign.tiktokcdn-us.com/obj/tos-useast5-p-0068-tx/95a1412a721...</td>\n",
       "      <td>540p</td>\n",
       "      <td>https://v16-webapp-prime.us.tiktok.com/video/tos/useast5/tos-useast5-ve...</td>\n",
       "      <td>35</td>\n",
       "      <td>https://p16-pu-sign-useast8.tiktokcdn-us.com/obj/tos-useast5-p-0068-tx/...</td>\n",
       "      <td>NaN</td>\n",
       "      <td>normal</td>\n",
       "      <td>mp4</td>\n",
       "      <td>1024</td>\n",
       "      <td>7125202712618143019</td>\n",
       "      <td>https://p16-sign.tiktokcdn-us.com/obj/tos-useast5-p-0068-tx/5417f043993...</td>\n",
       "      <td>https://v16-webapp-prime.us.tiktok.com/video/tos/useast5/tos-useast5-ve...</td>\n",
       "      <td>540p</td>\n",
       "      <td>normal</td>\n",
       "      <td>-19.0</td>\n",
       "      <td>0.97724</td>\n",
       "      <td>576</td>\n",
       "      <td>https://p19-sign.tiktokcdn-us.com/tos-useast5-p-0068-tx/95a1412a72174a0...</td>\n",
       "      <td>https://p16-sign.tiktokcdn-us.com/tos-useast5-p-0068-tx/95a1412a72174a0...</td>\n",
       "      <td>https://p19-sign.tiktokcdn-us.com/tos-useast5-p-0068-tx/95a1412a72174a0...</td>\n",
       "      <td>https://p16-sign.tiktokcdn-us.com/tos-useast5-p-0068-tx/95a1412a72174a0...</td>\n",
       "      <td>https://v16-webapp-prime.us.tiktok.com/video/tos/useast5/tos-useast5-v-...</td>\n",
       "      <td>NaN</td>\n",
       "      <td>[{'Format': 'webvtt', 'LanguageCodeName': 'eng-US', 'LanguageID': '2', ...</td>\n",
       "      <td>NaN</td>\n",
       "      <td>NaN</td>\n",
       "      <td>NaN</td>\n",
       "      <td>NaN</td>\n",
       "      <td>NaN</td>\n",
       "      <td>NaN</td>\n",
       "      <td>NaN</td>\n",
       "      <td>NaN</td>\n",
       "      <td>NaN</td>\n",
       "      <td>NaN</td>\n",
       "      <td>NaN</td>\n",
       "      <td>NaN</td>\n",
       "      <td>NaN</td>\n",
       "      <td>NaN</td>\n",
       "      <td>NaN</td>\n",
       "      <td>NaN</td>\n",
       "      <td>NaN</td>\n",
       "      <td>NaN</td>\n",
       "      <td>NaN</td>\n",
       "      <td>NaN</td>\n",
       "      <td>NaN</td>\n",
       "      <td>NaN</td>\n",
       "      <td>NaN</td>\n",
       "      <td>NaN</td>\n",
       "      <td>NaN</td>\n",
       "      <td>NaN</td>\n",
       "      <td>NaN</td>\n",
       "      <td>NaN</td>\n",
       "      <td>NaN</td>\n",
       "      <td>NaN</td>\n",
       "      <td>NaN</td>\n",
       "      <td>NaN</td>\n",
       "      <td>NaN</td>\n",
       "      <td>NaN</td>\n",
       "      <td>NaN</td>\n",
       "      <td>NaN</td>\n",
       "      <td>NaN</td>\n",
       "      <td>NaN</td>\n",
       "      <td>NaN</td>\n",
       "    </tr>\n",
       "    <tr>\n",
       "      <th>2</th>\n",
       "      <td>https://tiktok.com/@ariellebrimhall/video/7125087282700324138</td>\n",
       "      <td>NaN</td>\n",
       "      <td>[{'coverLarger': '', 'coverMedium': '', 'coverThumb': '', 'desc': '', '...</td>\n",
       "      <td>False</td>\n",
       "      <td>[{'desc': 'A value of up to $300!!! Use code: BRIMHALL to get your firs...</td>\n",
       "      <td>1658938662</td>\n",
       "      <td>A value of up to $300!!! Use code: BRIMHALL to get your first box for o...</td>\n",
       "      <td>False</td>\n",
       "      <td>0</td>\n",
       "      <td>True</td>\n",
       "      <td>False</td>\n",
       "      <td>7125087282700324138</td>\n",
       "      <td>0</td>\n",
       "      <td>False</td>\n",
       "      <td>False</td>\n",
       "      <td>False</td>\n",
       "      <td>False</td>\n",
       "      <td>True</td>\n",
       "      <td>0</td>\n",
       "      <td>True</td>\n",
       "      <td>[{'awemeId': '', 'end': 92, 'hashtagName': '', 'isCommerce': False, 'se...</td>\n",
       "      <td>https://p19-pu-sign-useast8.tiktokcdn-us.com/tos-useast5-avt-0068-tx/73...</td>\n",
       "      <td>https://p16-pu-sign-useast8.tiktokcdn-us.com/tos-useast5-avt-0068-tx/73...</td>\n",
       "      <td>https://p19-pu-sign-useast8.tiktokcdn-us.com/tos-useast5-avt-0068-tx/73...</td>\n",
       "      <td>0</td>\n",
       "      <td>0</td>\n",
       "      <td>0</td>\n",
       "      <td>False</td>\n",
       "      <td>6907257263154971653</td>\n",
       "      <td>False</td>\n",
       "      <td>False</td>\n",
       "      <td>AMAZON FINDS</td>\n",
       "      <td>False</td>\n",
       "      <td>False</td>\n",
       "      <td>0</td>\n",
       "      <td>MS4wLjABAAAAL88tp6xEG4omf2EsYDEouVXDHi4kvlCKHaMB_O1MPUMSQWgMa7Srt57BtCt...</td>\n",
       "      <td>False</td>\n",
       "      <td>Amazon Influencer | IG @ariellebrimhall\\nCLICK LINK TO SHOP FINDS 🛍</td>\n",
       "      <td>0</td>\n",
       "      <td>ariellebrimhall</td>\n",
       "      <td>False</td>\n",
       "      <td>True</td>\n",
       "      <td>Aesthetic Girl</td>\n",
       "      <td>Yusei</td>\n",
       "      <td>https://p16-sg.tiktokcdn.com/aweme/720x720/tos-alisg-v-2774/o0EuiPAWYIQ...</td>\n",
       "      <td>https://p16-sg.tiktokcdn.com/aweme/200x200/tos-alisg-v-2774/o0EuiPAWYIQ...</td>\n",
       "      <td>https://p16-sg.tiktokcdn.com/aweme/100x100/tos-alisg-v-2774/o0EuiPAWYIQ...</td>\n",
       "      <td>60.0</td>\n",
       "      <td>6792647431847675906</td>\n",
       "      <td>False</td>\n",
       "      <td>Aesthetic Girl</td>\n",
       "      <td>14</td>\n",
       "      <td>2</td>\n",
       "      <td>42</td>\n",
       "      <td>4228</td>\n",
       "      <td>4</td>\n",
       "      <td>14</td>\n",
       "      <td>2</td>\n",
       "      <td>42</td>\n",
       "      <td>4228</td>\n",
       "      <td>0</td>\n",
       "      <td>4</td>\n",
       "      <td>0.0</td>\n",
       "      <td>1791855.0</td>\n",
       "      <td>[{'Bitrate': 1791855, 'CodecType': 'h264', 'GearName': 'normal_540_0', ...</td>\n",
       "      <td>h264</td>\n",
       "      <td>https://p16-pu-sign-useast8.tiktokcdn-us.com/obj/tos-useast5-p-0068-tx/...</td>\n",
       "      <td>540p</td>\n",
       "      <td>https://v16-webapp-prime.us.tiktok.com/video/tos/useast5/tos-useast5-ve...</td>\n",
       "      <td>33</td>\n",
       "      <td>https://p19-pu-sign-useast8.tiktokcdn-us.com/obj/tos-useast5-p-0068-tx/...</td>\n",
       "      <td>NaN</td>\n",
       "      <td>normal</td>\n",
       "      <td>mp4</td>\n",
       "      <td>1024</td>\n",
       "      <td>7125087282700324138</td>\n",
       "      <td>https://p16-pu-sign-useast8.tiktokcdn-us.com/obj/tos-useast5-p-0068-tx/...</td>\n",
       "      <td>https://v16-webapp-prime.us.tiktok.com/video/tos/useast5/tos-useast5-pv...</td>\n",
       "      <td>540p</td>\n",
       "      <td>normal</td>\n",
       "      <td>-15.2</td>\n",
       "      <td>0.97724</td>\n",
       "      <td>576</td>\n",
       "      <td>https://p19-pu-sign-useast8.tiktokcdn-us.com/tos-useast5-p-0068-tx/4457...</td>\n",
       "      <td>https://p19-pu-sign-useast8.tiktokcdn-us.com/tos-useast5-p-0068-tx/4457...</td>\n",
       "      <td>https://p19-pu-sign-useast8.tiktokcdn-us.com/tos-useast5-p-0068-tx/4457...</td>\n",
       "      <td>https://p19-pu-sign-useast8.tiktokcdn-us.com/tos-useast5-p-0068-tx/4457...</td>\n",
       "      <td>https://sf16-ies-music-sg.tiktokcdn.com/obj/tos-alisg-ve-2774/o09i2iUAX...</td>\n",
       "      <td>NaN</td>\n",
       "      <td>[{'Format': 'webvtt', 'LanguageCodeName': 'eng-US', 'LanguageID': '2', ...</td>\n",
       "      <td>NaN</td>\n",
       "      <td>NaN</td>\n",
       "      <td>NaN</td>\n",
       "      <td>NaN</td>\n",
       "      <td>NaN</td>\n",
       "      <td>NaN</td>\n",
       "      <td>NaN</td>\n",
       "      <td>NaN</td>\n",
       "      <td>NaN</td>\n",
       "      <td>NaN</td>\n",
       "      <td>NaN</td>\n",
       "      <td>NaN</td>\n",
       "      <td>NaN</td>\n",
       "      <td>NaN</td>\n",
       "      <td>NaN</td>\n",
       "      <td>NaN</td>\n",
       "      <td>NaN</td>\n",
       "      <td>NaN</td>\n",
       "      <td>NaN</td>\n",
       "      <td>NaN</td>\n",
       "      <td>NaN</td>\n",
       "      <td>NaN</td>\n",
       "      <td>NaN</td>\n",
       "      <td>NaN</td>\n",
       "      <td>NaN</td>\n",
       "      <td>NaN</td>\n",
       "      <td>NaN</td>\n",
       "      <td>NaN</td>\n",
       "      <td>NaN</td>\n",
       "      <td>NaN</td>\n",
       "      <td>NaN</td>\n",
       "      <td>NaN</td>\n",
       "      <td>NaN</td>\n",
       "      <td>NaN</td>\n",
       "      <td>NaN</td>\n",
       "      <td>NaN</td>\n",
       "      <td>NaN</td>\n",
       "      <td>NaN</td>\n",
       "      <td>NaN</td>\n",
       "    </tr>\n",
       "    <tr>\n",
       "      <th>3</th>\n",
       "      <td>https://tiktok.com/@ariellebrimhall/video/7125072000577588522</td>\n",
       "      <td>NaN</td>\n",
       "      <td>[{'coverLarger': '', 'coverMedium': '', 'coverThumb': '', 'desc': '', '...</td>\n",
       "      <td>False</td>\n",
       "      <td>[{'desc': 'everything in my Amazon storefront ✨️ link in bio #dormroome...</td>\n",
       "      <td>1658935105</td>\n",
       "      <td>everything in my Amazon storefront ✨️ link in bio #dormroomessentials #...</td>\n",
       "      <td>False</td>\n",
       "      <td>0</td>\n",
       "      <td>True</td>\n",
       "      <td>False</td>\n",
       "      <td>7125072000577588522</td>\n",
       "      <td>0</td>\n",
       "      <td>False</td>\n",
       "      <td>False</td>\n",
       "      <td>False</td>\n",
       "      <td>False</td>\n",
       "      <td>True</td>\n",
       "      <td>0</td>\n",
       "      <td>True</td>\n",
       "      <td>[{'awemeId': '', 'end': 69, 'hashtagName': 'dormroomessentials', 'isCom...</td>\n",
       "      <td>https://p19-pu-sign-useast8.tiktokcdn-us.com/tos-useast5-avt-0068-tx/73...</td>\n",
       "      <td>https://p16-pu-sign-useast8.tiktokcdn-us.com/tos-useast5-avt-0068-tx/73...</td>\n",
       "      <td>https://p19-pu-sign-useast8.tiktokcdn-us.com/tos-useast5-avt-0068-tx/73...</td>\n",
       "      <td>0</td>\n",
       "      <td>0</td>\n",
       "      <td>0</td>\n",
       "      <td>False</td>\n",
       "      <td>6907257263154971653</td>\n",
       "      <td>False</td>\n",
       "      <td>False</td>\n",
       "      <td>AMAZON FINDS</td>\n",
       "      <td>False</td>\n",
       "      <td>False</td>\n",
       "      <td>0</td>\n",
       "      <td>MS4wLjABAAAAL88tp6xEG4omf2EsYDEouVXDHi4kvlCKHaMB_O1MPUMSQWgMa7Srt57BtCt...</td>\n",
       "      <td>False</td>\n",
       "      <td>Amazon Influencer | IG @ariellebrimhall\\nCLICK LINK TO SHOP FINDS 🛍</td>\n",
       "      <td>0</td>\n",
       "      <td>ariellebrimhall</td>\n",
       "      <td>False</td>\n",
       "      <td>True</td>\n",
       "      <td>Life Is Great</td>\n",
       "      <td>JK Beats</td>\n",
       "      <td>https://p16-sg.tiktokcdn.com/aweme/720x720/tos-alisg-v-2774/fd6d39f292a...</td>\n",
       "      <td>https://p16-sg.tiktokcdn.com/aweme/200x200/tos-alisg-v-2774/fd6d39f292a...</td>\n",
       "      <td>https://p16-sg.tiktokcdn.com/aweme/100x100/tos-alisg-v-2774/fd6d39f292a...</td>\n",
       "      <td>60.0</td>\n",
       "      <td>6991859302021466114</td>\n",
       "      <td>False</td>\n",
       "      <td>Paradise II</td>\n",
       "      <td>17</td>\n",
       "      <td>1</td>\n",
       "      <td>52</td>\n",
       "      <td>4567</td>\n",
       "      <td>6</td>\n",
       "      <td>17</td>\n",
       "      <td>1</td>\n",
       "      <td>52</td>\n",
       "      <td>4567</td>\n",
       "      <td>0</td>\n",
       "      <td>6</td>\n",
       "      <td>0.0</td>\n",
       "      <td>230531.0</td>\n",
       "      <td>[{'Bitrate': 243798, 'CodecType': 'h265_hvc1', 'GearName': 'adapt_lower...</td>\n",
       "      <td>h264</td>\n",
       "      <td>https://p16-pu-sign-useast8.tiktokcdn-us.com/obj/tos-useast5-p-0068-tx/...</td>\n",
       "      <td>540p</td>\n",
       "      <td>https://v16-webapp-prime.us.tiktok.com/video/tos/useast5/tos-useast5-pv...</td>\n",
       "      <td>12</td>\n",
       "      <td>https://p19-pu-sign-useast8.tiktokcdn-us.com/obj/tos-useast5-p-0068-tx/...</td>\n",
       "      <td>NaN</td>\n",
       "      <td>normal</td>\n",
       "      <td>mp4</td>\n",
       "      <td>1024</td>\n",
       "      <td>7125072000577588522</td>\n",
       "      <td>https://p16-sign.tiktokcdn-us.com/obj/tos-useast5-p-0068-tx/fe36b5b99fb...</td>\n",
       "      <td>https://v16-webapp-prime.us.tiktok.com/video/tos/useast5/tos-useast5-ve...</td>\n",
       "      <td>540p</td>\n",
       "      <td>normal</td>\n",
       "      <td>-13.2</td>\n",
       "      <td>0.93325</td>\n",
       "      <td>576</td>\n",
       "      <td>https://p19-pu-sign-useast8.tiktokcdn-us.com/tos-useast5-p-0068-tx/afc1...</td>\n",
       "      <td>https://p16-pu-sign-useast8.tiktokcdn-us.com/tos-useast5-p-0068-tx/afc1...</td>\n",
       "      <td>https://p16-pu-sign-useast8.tiktokcdn-us.com/tos-useast5-p-0068-tx/afc1...</td>\n",
       "      <td>https://p16-pu-sign-useast8.tiktokcdn-us.com/tos-useast5-p-0068-tx/afc1...</td>\n",
       "      <td>https://sf16-ies-music-sg.tiktokcdn.com/obj/tos-alisg-ve-2774/c0f231a10...</td>\n",
       "      <td>NaN</td>\n",
       "      <td>NaN</td>\n",
       "      <td>NaN</td>\n",
       "      <td>NaN</td>\n",
       "      <td>NaN</td>\n",
       "      <td>NaN</td>\n",
       "      <td>NaN</td>\n",
       "      <td>NaN</td>\n",
       "      <td>NaN</td>\n",
       "      <td>NaN</td>\n",
       "      <td>NaN</td>\n",
       "      <td>NaN</td>\n",
       "      <td>NaN</td>\n",
       "      <td>NaN</td>\n",
       "      <td>NaN</td>\n",
       "      <td>NaN</td>\n",
       "      <td>NaN</td>\n",
       "      <td>NaN</td>\n",
       "      <td>NaN</td>\n",
       "      <td>NaN</td>\n",
       "      <td>NaN</td>\n",
       "      <td>NaN</td>\n",
       "      <td>NaN</td>\n",
       "      <td>NaN</td>\n",
       "      <td>NaN</td>\n",
       "      <td>NaN</td>\n",
       "      <td>NaN</td>\n",
       "      <td>NaN</td>\n",
       "      <td>NaN</td>\n",
       "      <td>NaN</td>\n",
       "      <td>NaN</td>\n",
       "      <td>NaN</td>\n",
       "      <td>NaN</td>\n",
       "      <td>NaN</td>\n",
       "      <td>NaN</td>\n",
       "      <td>NaN</td>\n",
       "      <td>NaN</td>\n",
       "      <td>NaN</td>\n",
       "      <td>NaN</td>\n",
       "      <td>NaN</td>\n",
       "      <td>NaN</td>\n",
       "    </tr>\n",
       "    <tr>\n",
       "      <th>4</th>\n",
       "      <td>https://tiktok.com/@ariellebrimhall/video/7124789423274822954</td>\n",
       "      <td>NaN</td>\n",
       "      <td>[{'coverLarger': '', 'coverMedium': '', 'coverThumb': '', 'desc': '', '...</td>\n",
       "      <td>False</td>\n",
       "      <td>[{'desc': \"linked in my amazon storefront under the 'cleaning and organ...</td>\n",
       "      <td>1658869310</td>\n",
       "      <td>linked in my amazon storefront under the 'cleaning and organization' li...</td>\n",
       "      <td>False</td>\n",
       "      <td>0</td>\n",
       "      <td>True</td>\n",
       "      <td>False</td>\n",
       "      <td>7124789423274822954</td>\n",
       "      <td>0</td>\n",
       "      <td>False</td>\n",
       "      <td>False</td>\n",
       "      <td>False</td>\n",
       "      <td>False</td>\n",
       "      <td>True</td>\n",
       "      <td>0</td>\n",
       "      <td>True</td>\n",
       "      <td>[{'awemeId': '', 'end': 93, 'hashtagName': 'amazonfinds2022', 'isCommer...</td>\n",
       "      <td>https://p19-pu-sign-useast8.tiktokcdn-us.com/tos-useast5-avt-0068-tx/73...</td>\n",
       "      <td>https://p16-pu-sign-useast8.tiktokcdn-us.com/tos-useast5-avt-0068-tx/73...</td>\n",
       "      <td>https://p19-pu-sign-useast8.tiktokcdn-us.com/tos-useast5-avt-0068-tx/73...</td>\n",
       "      <td>0</td>\n",
       "      <td>0</td>\n",
       "      <td>0</td>\n",
       "      <td>False</td>\n",
       "      <td>6907257263154971653</td>\n",
       "      <td>False</td>\n",
       "      <td>False</td>\n",
       "      <td>AMAZON FINDS</td>\n",
       "      <td>False</td>\n",
       "      <td>False</td>\n",
       "      <td>0</td>\n",
       "      <td>MS4wLjABAAAAL88tp6xEG4omf2EsYDEouVXDHi4kvlCKHaMB_O1MPUMSQWgMa7Srt57BtCt...</td>\n",
       "      <td>False</td>\n",
       "      <td>Amazon Influencer | IG @ariellebrimhall\\nCLICK LINK TO SHOP FINDS 🛍</td>\n",
       "      <td>0</td>\n",
       "      <td>ariellebrimhall</td>\n",
       "      <td>False</td>\n",
       "      <td>True</td>\n",
       "      <td>NaN</td>\n",
       "      <td>AMAZON FINDS</td>\n",
       "      <td>https://p19-pu-sign-useast8.tiktokcdn-us.com/tos-useast5-avt-0068-tx/73...</td>\n",
       "      <td>https://p16-pu-sign-useast8.tiktokcdn-us.com/tos-useast5-avt-0068-tx/73...</td>\n",
       "      <td>https://p19-pu-sign-useast8.tiktokcdn-us.com/tos-useast5-avt-0068-tx/73...</td>\n",
       "      <td>22.0</td>\n",
       "      <td>7124789395068111662</td>\n",
       "      <td>False</td>\n",
       "      <td>original sound</td>\n",
       "      <td>50</td>\n",
       "      <td>1</td>\n",
       "      <td>172</td>\n",
       "      <td>5824</td>\n",
       "      <td>25</td>\n",
       "      <td>50</td>\n",
       "      <td>1</td>\n",
       "      <td>172</td>\n",
       "      <td>5824</td>\n",
       "      <td>0</td>\n",
       "      <td>25</td>\n",
       "      <td>0.0</td>\n",
       "      <td>1097520.0</td>\n",
       "      <td>[{'Bitrate': 1097520, 'CodecType': 'h264', 'GearName': 'normal_540_0', ...</td>\n",
       "      <td>h264</td>\n",
       "      <td>https://p19-pu-sign-useast8.tiktokcdn-us.com/obj/tos-useast5-p-0068-tx/...</td>\n",
       "      <td>540p</td>\n",
       "      <td>https://v16-webapp-prime.us.tiktok.com/video/tos/useast5/tos-useast5-ve...</td>\n",
       "      <td>22</td>\n",
       "      <td>https://p16-sign.tiktokcdn-us.com/obj/tos-useast5-p-0068-tx/15e27c10a7f...</td>\n",
       "      <td>NaN</td>\n",
       "      <td>normal</td>\n",
       "      <td>mp4</td>\n",
       "      <td>1024</td>\n",
       "      <td>7124789423274822954</td>\n",
       "      <td>https://p19-pu-sign-useast8.tiktokcdn-us.com/obj/tos-useast5-p-0068-tx/...</td>\n",
       "      <td>https://v16-webapp-prime.us.tiktok.com/video/tos/useast5/tos-useast5-pv...</td>\n",
       "      <td>540p</td>\n",
       "      <td>normal</td>\n",
       "      <td>-15.2</td>\n",
       "      <td>1.00000</td>\n",
       "      <td>576</td>\n",
       "      <td>https://p19-pu-sign-useast8.tiktokcdn-us.com/tos-useast5-p-0068-tx/2466...</td>\n",
       "      <td>https://p19-pu-sign-useast8.tiktokcdn-us.com/tos-useast5-p-0068-tx/2466...</td>\n",
       "      <td>https://p16-pu-sign-useast8.tiktokcdn-us.com/tos-useast5-p-0068-tx/2466...</td>\n",
       "      <td>https://p16-pu-sign-useast8.tiktokcdn-us.com/tos-useast5-p-0068-tx/2466...</td>\n",
       "      <td>https://v16-webapp-prime.us.tiktok.com/video/tos/useast5/tos-useast5-v-...</td>\n",
       "      <td>10044.0</td>\n",
       "      <td>[{'Format': 'webvtt', 'LanguageCodeName': 'eng-US', 'LanguageID': '2', ...</td>\n",
       "      <td>NaN</td>\n",
       "      <td>NaN</td>\n",
       "      <td>NaN</td>\n",
       "      <td>NaN</td>\n",
       "      <td>NaN</td>\n",
       "      <td>NaN</td>\n",
       "      <td>NaN</td>\n",
       "      <td>NaN</td>\n",
       "      <td>NaN</td>\n",
       "      <td>NaN</td>\n",
       "      <td>NaN</td>\n",
       "      <td>NaN</td>\n",
       "      <td>NaN</td>\n",
       "      <td>NaN</td>\n",
       "      <td>NaN</td>\n",
       "      <td>NaN</td>\n",
       "      <td>NaN</td>\n",
       "      <td>NaN</td>\n",
       "      <td>NaN</td>\n",
       "      <td>NaN</td>\n",
       "      <td>NaN</td>\n",
       "      <td>NaN</td>\n",
       "      <td>NaN</td>\n",
       "      <td>NaN</td>\n",
       "      <td>NaN</td>\n",
       "      <td>NaN</td>\n",
       "      <td>NaN</td>\n",
       "      <td>NaN</td>\n",
       "      <td>NaN</td>\n",
       "      <td>NaN</td>\n",
       "      <td>NaN</td>\n",
       "      <td>NaN</td>\n",
       "      <td>NaN</td>\n",
       "      <td>NaN</td>\n",
       "      <td>NaN</td>\n",
       "      <td>NaN</td>\n",
       "      <td>NaN</td>\n",
       "      <td>NaN</td>\n",
       "      <td>NaN</td>\n",
       "    </tr>\n",
       "  </tbody>\n",
       "</table>\n",
       "</div>"
      ],
      "text/plain": [
       "                                                      tiktok_url  \\\n",
       "0  https://tiktok.com/@ariellebrimhall/video/7125566784958106926   \n",
       "1  https://tiktok.com/@ariellebrimhall/video/7125202712618143019   \n",
       "2  https://tiktok.com/@ariellebrimhall/video/7125087282700324138   \n",
       "3  https://tiktok.com/@ariellebrimhall/video/7125072000577588522   \n",
       "4  https://tiktok.com/@ariellebrimhall/video/7124789423274822954   \n",
       "\n",
       "   AIGCDescription  \\\n",
       "0              NaN   \n",
       "1              NaN   \n",
       "2              NaN   \n",
       "3              NaN   \n",
       "4              NaN   \n",
       "\n",
       "                                                                   challenges  \\\n",
       "0  [{'coverLarger': '', 'coverMedium': '', 'coverThumb': '', 'desc': '', '...   \n",
       "1  [{'coverLarger': 'https://p16-amd-va.tiktokcdn.com/obj/musically-maliva...   \n",
       "2  [{'coverLarger': '', 'coverMedium': '', 'coverThumb': '', 'desc': '', '...   \n",
       "3  [{'coverLarger': '', 'coverMedium': '', 'coverThumb': '', 'desc': '', '...   \n",
       "4  [{'coverLarger': '', 'coverMedium': '', 'coverThumb': '', 'desc': '', '...   \n",
       "\n",
       "   collected  \\\n",
       "0      False   \n",
       "1      False   \n",
       "2      False   \n",
       "3      False   \n",
       "4      False   \n",
       "\n",
       "                                                                     contents  \\\n",
       "0  [{'desc': 'everything in my amazon storefront #amazondormfinds #backtos...   \n",
       "1  [{'desc': \"it's legit. link in bio ✨️ #momsoftiktok #momhack #amazonmom...   \n",
       "2  [{'desc': 'A value of up to $300!!! Use code: BRIMHALL to get your firs...   \n",
       "3  [{'desc': 'everything in my Amazon storefront ✨️ link in bio #dormroome...   \n",
       "4  [{'desc': \"linked in my amazon storefront under the 'cleaning and organ...   \n",
       "\n",
       "   createTime  \\\n",
       "0  1659050303   \n",
       "1  1658965536   \n",
       "2  1658938662   \n",
       "3  1658935105   \n",
       "4  1658869310   \n",
       "\n",
       "                                                                         desc  \\\n",
       "0  everything in my amazon storefront #amazondormfinds #backtoschool #dorm...   \n",
       "1  it's legit. link in bio ✨️ #momsoftiktok #momhack #amazonmomhacks #moms...   \n",
       "2  A value of up to $300!!! Use code: BRIMHALL to get your first box for o...   \n",
       "3  everything in my Amazon storefront ✨️ link in bio #dormroomessentials #...   \n",
       "4  linked in my amazon storefront under the 'cleaning and organization' li...   \n",
       "\n",
       "   digged  duetDisplay duetEnabled  forFriend                   id  \\\n",
       "0   False            0        True      False  7125566784958106926   \n",
       "1   False            0        True      False  7125202712618143019   \n",
       "2   False            0        True      False  7125087282700324138   \n",
       "3   False            0        True      False  7125072000577588522   \n",
       "4   False            0        True      False  7124789423274822954   \n",
       "\n",
       "   itemCommentStatus  officalItem  originalItem  privateItem  secret  \\\n",
       "0                  0        False         False        False   False   \n",
       "1                  0        False         False        False   False   \n",
       "2                  0        False         False        False   False   \n",
       "3                  0        False         False        False   False   \n",
       "4                  0        False         False        False   False   \n",
       "\n",
       "   shareEnabled  stitchDisplay stitchEnabled  \\\n",
       "0          True              0          True   \n",
       "1          True              0          True   \n",
       "2          True              0          True   \n",
       "3          True              0          True   \n",
       "4          True              0          True   \n",
       "\n",
       "                                                                    textExtra  \\\n",
       "0  [{'awemeId': '', 'end': 51, 'hashtagName': 'amazondormfinds', 'isCommer...   \n",
       "1  [{'awemeId': '', 'end': 40, 'hashtagName': 'momsoftiktok', 'isCommerce'...   \n",
       "2  [{'awemeId': '', 'end': 92, 'hashtagName': '', 'isCommerce': False, 'se...   \n",
       "3  [{'awemeId': '', 'end': 69, 'hashtagName': 'dormroomessentials', 'isCom...   \n",
       "4  [{'awemeId': '', 'end': 93, 'hashtagName': 'amazonfinds2022', 'isCommer...   \n",
       "\n",
       "                                                          author_avatarLarger  \\\n",
       "0  https://p19-pu-sign-useast8.tiktokcdn-us.com/tos-useast5-avt-0068-tx/73...   \n",
       "1  https://p19-pu-sign-useast8.tiktokcdn-us.com/tos-useast5-avt-0068-tx/73...   \n",
       "2  https://p19-pu-sign-useast8.tiktokcdn-us.com/tos-useast5-avt-0068-tx/73...   \n",
       "3  https://p19-pu-sign-useast8.tiktokcdn-us.com/tos-useast5-avt-0068-tx/73...   \n",
       "4  https://p19-pu-sign-useast8.tiktokcdn-us.com/tos-useast5-avt-0068-tx/73...   \n",
       "\n",
       "                                                          author_avatarMedium  \\\n",
       "0  https://p16-pu-sign-useast8.tiktokcdn-us.com/tos-useast5-avt-0068-tx/73...   \n",
       "1  https://p16-pu-sign-useast8.tiktokcdn-us.com/tos-useast5-avt-0068-tx/73...   \n",
       "2  https://p16-pu-sign-useast8.tiktokcdn-us.com/tos-useast5-avt-0068-tx/73...   \n",
       "3  https://p16-pu-sign-useast8.tiktokcdn-us.com/tos-useast5-avt-0068-tx/73...   \n",
       "4  https://p16-pu-sign-useast8.tiktokcdn-us.com/tos-useast5-avt-0068-tx/73...   \n",
       "\n",
       "                                                           author_avatarThumb  \\\n",
       "0  https://p19-pu-sign-useast8.tiktokcdn-us.com/tos-useast5-avt-0068-tx/73...   \n",
       "1  https://p19-pu-sign-useast8.tiktokcdn-us.com/tos-useast5-avt-0068-tx/73...   \n",
       "2  https://p19-pu-sign-useast8.tiktokcdn-us.com/tos-useast5-avt-0068-tx/73...   \n",
       "3  https://p19-pu-sign-useast8.tiktokcdn-us.com/tos-useast5-avt-0068-tx/73...   \n",
       "4  https://p19-pu-sign-useast8.tiktokcdn-us.com/tos-useast5-avt-0068-tx/73...   \n",
       "\n",
       "   author_commentSetting  author_downloadSetting  author_duetSetting  \\\n",
       "0                      0                       0                   0   \n",
       "1                      0                       0                   0   \n",
       "2                      0                       0                   0   \n",
       "3                      0                       0                   0   \n",
       "4                      0                       0                   0   \n",
       "\n",
       "   author_ftc            author_id  author_isADVirtual  author_isEmbedBanned  \\\n",
       "0       False  6907257263154971653               False                 False   \n",
       "1       False  6907257263154971653               False                 False   \n",
       "2       False  6907257263154971653               False                 False   \n",
       "3       False  6907257263154971653               False                 False   \n",
       "4       False  6907257263154971653               False                 False   \n",
       "\n",
       "  author_nickname  author_openFavorite  author_privateAccount  \\\n",
       "0    AMAZON FINDS                False                  False   \n",
       "1    AMAZON FINDS                False                  False   \n",
       "2    AMAZON FINDS                False                  False   \n",
       "3    AMAZON FINDS                False                  False   \n",
       "4    AMAZON FINDS                False                  False   \n",
       "\n",
       "   author_relation  \\\n",
       "0                0   \n",
       "1                0   \n",
       "2                0   \n",
       "3                0   \n",
       "4                0   \n",
       "\n",
       "                                                                author_secUid  \\\n",
       "0  MS4wLjABAAAAL88tp6xEG4omf2EsYDEouVXDHi4kvlCKHaMB_O1MPUMSQWgMa7Srt57BtCt...   \n",
       "1  MS4wLjABAAAAL88tp6xEG4omf2EsYDEouVXDHi4kvlCKHaMB_O1MPUMSQWgMa7Srt57BtCt...   \n",
       "2  MS4wLjABAAAAL88tp6xEG4omf2EsYDEouVXDHi4kvlCKHaMB_O1MPUMSQWgMa7Srt57BtCt...   \n",
       "3  MS4wLjABAAAAL88tp6xEG4omf2EsYDEouVXDHi4kvlCKHaMB_O1MPUMSQWgMa7Srt57BtCt...   \n",
       "4  MS4wLjABAAAAL88tp6xEG4omf2EsYDEouVXDHi4kvlCKHaMB_O1MPUMSQWgMa7Srt57BtCt...   \n",
       "\n",
       "   author_secret  \\\n",
       "0          False   \n",
       "1          False   \n",
       "2          False   \n",
       "3          False   \n",
       "4          False   \n",
       "\n",
       "                                                      author_signature  \\\n",
       "0  Amazon Influencer | IG @ariellebrimhall\\nCLICK LINK TO SHOP FINDS 🛍   \n",
       "1  Amazon Influencer | IG @ariellebrimhall\\nCLICK LINK TO SHOP FINDS 🛍   \n",
       "2  Amazon Influencer | IG @ariellebrimhall\\nCLICK LINK TO SHOP FINDS 🛍   \n",
       "3  Amazon Influencer | IG @ariellebrimhall\\nCLICK LINK TO SHOP FINDS 🛍   \n",
       "4  Amazon Influencer | IG @ariellebrimhall\\nCLICK LINK TO SHOP FINDS 🛍   \n",
       "\n",
       "   author_stitchSetting  author_uniqueId  author_verified  \\\n",
       "0                     0  ariellebrimhall            False   \n",
       "1                     0  ariellebrimhall            False   \n",
       "2                     0  ariellebrimhall            False   \n",
       "3                     0  ariellebrimhall            False   \n",
       "4                     0  ariellebrimhall            False   \n",
       "\n",
       "   item_control_can_repost     music_album music_authorName  \\\n",
       "0                     True             NaN           TimTaj   \n",
       "1                     True             NaN     AMAZON FINDS   \n",
       "2                     True  Aesthetic Girl            Yusei   \n",
       "3                     True   Life Is Great         JK Beats   \n",
       "4                     True             NaN     AMAZON FINDS   \n",
       "\n",
       "                                                             music_coverLarge  \\\n",
       "0  https://p16-sign-sg.tiktokcdn.com/tos-alisg-v-2774/adc796de52394e04ae2e...   \n",
       "1  https://p19-pu-sign-useast8.tiktokcdn-us.com/tos-useast5-avt-0068-tx/73...   \n",
       "2  https://p16-sg.tiktokcdn.com/aweme/720x720/tos-alisg-v-2774/o0EuiPAWYIQ...   \n",
       "3  https://p16-sg.tiktokcdn.com/aweme/720x720/tos-alisg-v-2774/fd6d39f292a...   \n",
       "4  https://p19-pu-sign-useast8.tiktokcdn-us.com/tos-useast5-avt-0068-tx/73...   \n",
       "\n",
       "                                                            music_coverMedium  \\\n",
       "0  https://p16-sign-sg.tiktokcdn.com/tos-alisg-v-2774/adc796de52394e04ae2e...   \n",
       "1  https://p16-pu-sign-useast8.tiktokcdn-us.com/tos-useast5-avt-0068-tx/73...   \n",
       "2  https://p16-sg.tiktokcdn.com/aweme/200x200/tos-alisg-v-2774/o0EuiPAWYIQ...   \n",
       "3  https://p16-sg.tiktokcdn.com/aweme/200x200/tos-alisg-v-2774/fd6d39f292a...   \n",
       "4  https://p16-pu-sign-useast8.tiktokcdn-us.com/tos-useast5-avt-0068-tx/73...   \n",
       "\n",
       "                                                             music_coverThumb  \\\n",
       "0  https://p16-sign-sg.tiktokcdn.com/tos-alisg-v-2774/adc796de52394e04ae2e...   \n",
       "1  https://p19-pu-sign-useast8.tiktokcdn-us.com/tos-useast5-avt-0068-tx/73...   \n",
       "2  https://p16-sg.tiktokcdn.com/aweme/100x100/tos-alisg-v-2774/o0EuiPAWYIQ...   \n",
       "3  https://p16-sg.tiktokcdn.com/aweme/100x100/tos-alisg-v-2774/fd6d39f292a...   \n",
       "4  https://p19-pu-sign-useast8.tiktokcdn-us.com/tos-useast5-avt-0068-tx/73...   \n",
       "\n",
       "   music_duration             music_id  music_original     music_title  \\\n",
       "0           135.0  6817342688401033218           False      Summer day   \n",
       "1            35.0  7125202705638771502           False  original sound   \n",
       "2            60.0  6792647431847675906           False  Aesthetic Girl   \n",
       "3            60.0  6991859302021466114           False     Paradise II   \n",
       "4            22.0  7124789395068111662           False  original sound   \n",
       "\n",
       "   stats_collectCount  stats_commentCount  stats_diggCount  stats_playCount  \\\n",
       "0                  29                   0               85             5796   \n",
       "1                  30                   4               84             4872   \n",
       "2                  14                   2               42             4228   \n",
       "3                  17                   1               52             4567   \n",
       "4                  50                   1              172             5824   \n",
       "\n",
       "   stats_shareCount  statsV2_collectCount  statsV2_commentCount  \\\n",
       "0                10                    29                     0   \n",
       "1                11                    30                     4   \n",
       "2                 4                    14                     2   \n",
       "3                 6                    17                     1   \n",
       "4                25                    50                     1   \n",
       "\n",
       "   statsV2_diggCount  statsV2_playCount  statsV2_repostCount  \\\n",
       "0                 85               5796                    0   \n",
       "1                 84               4872                    0   \n",
       "2                 42               4228                    0   \n",
       "3                 52               4567                    0   \n",
       "4                172               5824                    0   \n",
       "\n",
       "   statsV2_shareCount  video_VQScore  video_bitrate  \\\n",
       "0                  10            0.0       159659.0   \n",
       "1                  11            0.0      1290091.0   \n",
       "2                   4            0.0      1791855.0   \n",
       "3                   6            0.0       230531.0   \n",
       "4                  25            0.0      1097520.0   \n",
       "\n",
       "                                                            video_bitrateInfo  \\\n",
       "0  [{'Bitrate': 173371, 'CodecType': 'h265_hvc1', 'GearName': 'adapt_lower...   \n",
       "1  [{'Bitrate': 1290091, 'CodecType': 'h264', 'GearName': 'normal_540_0', ...   \n",
       "2  [{'Bitrate': 1791855, 'CodecType': 'h264', 'GearName': 'normal_540_0', ...   \n",
       "3  [{'Bitrate': 243798, 'CodecType': 'h265_hvc1', 'GearName': 'adapt_lower...   \n",
       "4  [{'Bitrate': 1097520, 'CodecType': 'h264', 'GearName': 'normal_540_0', ...   \n",
       "\n",
       "  video_codecType  \\\n",
       "0            h264   \n",
       "1            h264   \n",
       "2            h264   \n",
       "3            h264   \n",
       "4            h264   \n",
       "\n",
       "                                                                  video_cover  \\\n",
       "0  https://p16-pu-sign-useast8.tiktokcdn-us.com/obj/tos-useast5-p-0068-tx/...   \n",
       "1  https://p16-sign.tiktokcdn-us.com/obj/tos-useast5-p-0068-tx/95a1412a721...   \n",
       "2  https://p16-pu-sign-useast8.tiktokcdn-us.com/obj/tos-useast5-p-0068-tx/...   \n",
       "3  https://p16-pu-sign-useast8.tiktokcdn-us.com/obj/tos-useast5-p-0068-tx/...   \n",
       "4  https://p19-pu-sign-useast8.tiktokcdn-us.com/obj/tos-useast5-p-0068-tx/...   \n",
       "\n",
       "  video_definition  \\\n",
       "0             540p   \n",
       "1             540p   \n",
       "2             540p   \n",
       "3             540p   \n",
       "4             540p   \n",
       "\n",
       "                                                           video_downloadAddr  \\\n",
       "0  https://v16-webapp-prime.us.tiktok.com/video/tos/useast5/tos-useast5-ve...   \n",
       "1  https://v16-webapp-prime.us.tiktok.com/video/tos/useast5/tos-useast5-ve...   \n",
       "2  https://v16-webapp-prime.us.tiktok.com/video/tos/useast5/tos-useast5-ve...   \n",
       "3  https://v16-webapp-prime.us.tiktok.com/video/tos/useast5/tos-useast5-pv...   \n",
       "4  https://v16-webapp-prime.us.tiktok.com/video/tos/useast5/tos-useast5-ve...   \n",
       "\n",
       "   video_duration  \\\n",
       "0              16   \n",
       "1              35   \n",
       "2              33   \n",
       "3              12   \n",
       "4              22   \n",
       "\n",
       "                                                           video_dynamicCover  \\\n",
       "0  https://p19-sign.tiktokcdn-us.com/obj/tos-useast5-p-0068-tx/833b23ebf15...   \n",
       "1  https://p16-pu-sign-useast8.tiktokcdn-us.com/obj/tos-useast5-p-0068-tx/...   \n",
       "2  https://p19-pu-sign-useast8.tiktokcdn-us.com/obj/tos-useast5-p-0068-tx/...   \n",
       "3  https://p19-pu-sign-useast8.tiktokcdn-us.com/obj/tos-useast5-p-0068-tx/...   \n",
       "4  https://p16-sign.tiktokcdn-us.com/obj/tos-useast5-p-0068-tx/15e27c10a7f...   \n",
       "\n",
       "   video_encodeUserTag video_encodedType video_format  video_height  \\\n",
       "0                  NaN            normal          mp4          1024   \n",
       "1                  NaN            normal          mp4          1024   \n",
       "2                  NaN            normal          mp4          1024   \n",
       "3                  NaN            normal          mp4          1024   \n",
       "4                  NaN            normal          mp4          1024   \n",
       "\n",
       "              video_id  \\\n",
       "0  7125566784958106926   \n",
       "1  7125202712618143019   \n",
       "2  7125087282700324138   \n",
       "3  7125072000577588522   \n",
       "4  7124789423274822954   \n",
       "\n",
       "                                                            video_originCover  \\\n",
       "0  https://p19-sign.tiktokcdn-us.com/obj/tos-useast5-p-0068-tx/d2f437a5625...   \n",
       "1  https://p16-sign.tiktokcdn-us.com/obj/tos-useast5-p-0068-tx/5417f043993...   \n",
       "2  https://p16-pu-sign-useast8.tiktokcdn-us.com/obj/tos-useast5-p-0068-tx/...   \n",
       "3  https://p16-sign.tiktokcdn-us.com/obj/tos-useast5-p-0068-tx/fe36b5b99fb...   \n",
       "4  https://p19-pu-sign-useast8.tiktokcdn-us.com/obj/tos-useast5-p-0068-tx/...   \n",
       "\n",
       "                                                               video_playAddr  \\\n",
       "0  https://v16-webapp-prime.us.tiktok.com/video/tos/useast5/tos-useast5-ve...   \n",
       "1  https://v16-webapp-prime.us.tiktok.com/video/tos/useast5/tos-useast5-ve...   \n",
       "2  https://v16-webapp-prime.us.tiktok.com/video/tos/useast5/tos-useast5-pv...   \n",
       "3  https://v16-webapp-prime.us.tiktok.com/video/tos/useast5/tos-useast5-ve...   \n",
       "4  https://v16-webapp-prime.us.tiktok.com/video/tos/useast5/tos-useast5-pv...   \n",
       "\n",
       "  video_ratio video_videoQuality  video_volumeInfo_Loudness  \\\n",
       "0        540p             normal                      -11.6   \n",
       "1        540p             normal                      -19.0   \n",
       "2        540p             normal                      -15.2   \n",
       "3        540p             normal                      -13.2   \n",
       "4        540p             normal                      -15.2   \n",
       "\n",
       "   video_volumeInfo_Peak  video_width  \\\n",
       "0                1.00000          576   \n",
       "1                0.97724          576   \n",
       "2                0.97724          576   \n",
       "3                0.93325          576   \n",
       "4                1.00000          576   \n",
       "\n",
       "                                                          video_zoomCover_240  \\\n",
       "0  https://p19-pu-sign-useast8.tiktokcdn-us.com/tos-useast5-p-0068-tx/04b5...   \n",
       "1  https://p19-sign.tiktokcdn-us.com/tos-useast5-p-0068-tx/95a1412a72174a0...   \n",
       "2  https://p19-pu-sign-useast8.tiktokcdn-us.com/tos-useast5-p-0068-tx/4457...   \n",
       "3  https://p19-pu-sign-useast8.tiktokcdn-us.com/tos-useast5-p-0068-tx/afc1...   \n",
       "4  https://p19-pu-sign-useast8.tiktokcdn-us.com/tos-useast5-p-0068-tx/2466...   \n",
       "\n",
       "                                                          video_zoomCover_480  \\\n",
       "0  https://p19-pu-sign-useast8.tiktokcdn-us.com/tos-useast5-p-0068-tx/04b5...   \n",
       "1  https://p16-sign.tiktokcdn-us.com/tos-useast5-p-0068-tx/95a1412a72174a0...   \n",
       "2  https://p19-pu-sign-useast8.tiktokcdn-us.com/tos-useast5-p-0068-tx/4457...   \n",
       "3  https://p16-pu-sign-useast8.tiktokcdn-us.com/tos-useast5-p-0068-tx/afc1...   \n",
       "4  https://p19-pu-sign-useast8.tiktokcdn-us.com/tos-useast5-p-0068-tx/2466...   \n",
       "\n",
       "                                                          video_zoomCover_720  \\\n",
       "0  https://p19-pu-sign-useast8.tiktokcdn-us.com/tos-useast5-p-0068-tx/04b5...   \n",
       "1  https://p19-sign.tiktokcdn-us.com/tos-useast5-p-0068-tx/95a1412a72174a0...   \n",
       "2  https://p19-pu-sign-useast8.tiktokcdn-us.com/tos-useast5-p-0068-tx/4457...   \n",
       "3  https://p16-pu-sign-useast8.tiktokcdn-us.com/tos-useast5-p-0068-tx/afc1...   \n",
       "4  https://p16-pu-sign-useast8.tiktokcdn-us.com/tos-useast5-p-0068-tx/2466...   \n",
       "\n",
       "                                                          video_zoomCover_960  \\\n",
       "0  https://p19-pu-sign-useast8.tiktokcdn-us.com/tos-useast5-p-0068-tx/04b5...   \n",
       "1  https://p16-sign.tiktokcdn-us.com/tos-useast5-p-0068-tx/95a1412a72174a0...   \n",
       "2  https://p19-pu-sign-useast8.tiktokcdn-us.com/tos-useast5-p-0068-tx/4457...   \n",
       "3  https://p16-pu-sign-useast8.tiktokcdn-us.com/tos-useast5-p-0068-tx/afc1...   \n",
       "4  https://p16-pu-sign-useast8.tiktokcdn-us.com/tos-useast5-p-0068-tx/2466...   \n",
       "\n",
       "                                                                music_playUrl  \\\n",
       "0                                                                         NaN   \n",
       "1  https://v16-webapp-prime.us.tiktok.com/video/tos/useast5/tos-useast5-v-...   \n",
       "2  https://sf16-ies-music-sg.tiktokcdn.com/obj/tos-alisg-ve-2774/o09i2iUAX...   \n",
       "3  https://sf16-ies-music-sg.tiktokcdn.com/obj/tos-alisg-ve-2774/c0f231a10...   \n",
       "4  https://v16-webapp-prime.us.tiktok.com/video/tos/useast5/tos-useast5-v-...   \n",
       "\n",
       "   diversificationId  \\\n",
       "0                NaN   \n",
       "1                NaN   \n",
       "2                NaN   \n",
       "3                NaN   \n",
       "4            10044.0   \n",
       "\n",
       "                                                          video_subtitleInfos  \\\n",
       "0                                                                         NaN   \n",
       "1  [{'Format': 'webvtt', 'LanguageCodeName': 'eng-US', 'LanguageID': '2', ...   \n",
       "2  [{'Format': 'webvtt', 'LanguageCodeName': 'eng-US', 'LanguageID': '2', ...   \n",
       "3                                                                         NaN   \n",
       "4  [{'Format': 'webvtt', 'LanguageCodeName': 'eng-US', 'LanguageID': '2', ...   \n",
       "\n",
       "   playlistId anchors  adLabelVersion adAuthorization isAd  \\\n",
       "0         NaN     NaN             NaN             NaN  NaN   \n",
       "1         NaN     NaN             NaN             NaN  NaN   \n",
       "2         NaN     NaN             NaN             NaN  NaN   \n",
       "3         NaN     NaN             NaN             NaN  NaN   \n",
       "4         NaN     NaN             NaN             NaN  NaN   \n",
       "\n",
       "  item_control_can_comment item_control_can_creator_redirect  \\\n",
       "0                      NaN                               NaN   \n",
       "1                      NaN                               NaN   \n",
       "2                      NaN                               NaN   \n",
       "3                      NaN                               NaN   \n",
       "4                      NaN                               NaN   \n",
       "\n",
       "  item_control_can_music_redirect item_control_can_share itemMute poi_address  \\\n",
       "0                             NaN                    NaN      NaN         NaN   \n",
       "1                             NaN                    NaN      NaN         NaN   \n",
       "2                             NaN                    NaN      NaN         NaN   \n",
       "3                             NaN                    NaN      NaN         NaN   \n",
       "4                             NaN                    NaN      NaN         NaN   \n",
       "\n",
       "   poi_city  poi_cityCode  poi_country  poi_countryCode  poi_fatherPoiName  \\\n",
       "0       NaN           NaN          NaN              NaN                NaN   \n",
       "1       NaN           NaN          NaN              NaN                NaN   \n",
       "2       NaN           NaN          NaN              NaN                NaN   \n",
       "3       NaN           NaN          NaN              NaN                NaN   \n",
       "4       NaN           NaN          NaN              NaN                NaN   \n",
       "\n",
       "   poi_id poi_name  poi_province poi_ttTypeCode poi_ttTypeNameMedium  \\\n",
       "0     NaN      NaN           NaN            NaN                  NaN   \n",
       "1     NaN      NaN           NaN            NaN                  NaN   \n",
       "2     NaN      NaN           NaN            NaN                  NaN   \n",
       "3     NaN      NaN           NaN            NaN                  NaN   \n",
       "4     NaN      NaN           NaN            NaN                  NaN   \n",
       "\n",
       "  poi_ttTypeNameSuper poi_ttTypeNameTiny  poi_typeCode BAInfo  isECVideo  \\\n",
       "0                 NaN                NaN           NaN    NaN        NaN   \n",
       "1                 NaN                NaN           NaN    NaN        NaN   \n",
       "2                 NaN                NaN           NaN    NaN        NaN   \n",
       "3                 NaN                NaN           NaN    NaN        NaN   \n",
       "4                 NaN                NaN           NaN    NaN        NaN   \n",
       "\n",
       "   music_scheduleSearchTime  duetInfo_duetFromId  \\\n",
       "0                       NaN                  NaN   \n",
       "1                       NaN                  NaN   \n",
       "2                       NaN                  NaN   \n",
       "3                       NaN                  NaN   \n",
       "4                       NaN                  NaN   \n",
       "\n",
       "  videoSuggestWordsList_video_suggest_words_struct  warnInfo isPinnedItem  \\\n",
       "0                                              NaN       NaN          NaN   \n",
       "1                                              NaN       NaN          NaN   \n",
       "2                                              NaN       NaN          NaN   \n",
       "3                                              NaN       NaN          NaN   \n",
       "4                                              NaN       NaN          NaN   \n",
       "\n",
       "   imagePost_cover_imageHeight imagePost_cover_imageURL_urlList  \\\n",
       "0                          NaN                              NaN   \n",
       "1                          NaN                              NaN   \n",
       "2                          NaN                              NaN   \n",
       "3                          NaN                              NaN   \n",
       "4                          NaN                              NaN   \n",
       "\n",
       "   imagePost_cover_imageWidth imagePost_images  \\\n",
       "0                         NaN              NaN   \n",
       "1                         NaN              NaN   \n",
       "2                         NaN              NaN   \n",
       "3                         NaN              NaN   \n",
       "4                         NaN              NaN   \n",
       "\n",
       "   imagePost_shareCover_imageHeight imagePost_shareCover_imageURL_urlList  \\\n",
       "0                               NaN                                   NaN   \n",
       "1                               NaN                                   NaN   \n",
       "2                               NaN                                   NaN   \n",
       "3                               NaN                                   NaN   \n",
       "4                               NaN                                   NaN   \n",
       "\n",
       "   imagePost_shareCover_imageWidth  imagePost_title  \n",
       "0                              NaN              NaN  \n",
       "1                              NaN              NaN  \n",
       "2                              NaN              NaN  \n",
       "3                              NaN              NaN  \n",
       "4                              NaN              NaN  "
      ]
     },
     "execution_count": 115,
     "metadata": {},
     "output_type": "execute_result"
    }
   ],
   "source": [
    "import os\n",
    "import yt_dlp\n",
    "from yt_dlp.utils import ExtractorError, DownloadError\n",
    "from urllib.error import HTTPError\n",
    "\n",
    "df = pd.read_csv(\"ariellebrimhall_videos.csv\")\n",
    "\n",
    "df.head()\n"
   ]
  },
  {
   "cell_type": "code",
   "execution_count": 116,
   "metadata": {},
   "outputs": [
    {
     "data": {
      "text/plain": [
       "(1255, 129)"
      ]
     },
     "execution_count": 116,
     "metadata": {},
     "output_type": "execute_result"
    }
   ],
   "source": [
    "df.shape"
   ]
  },
  {
   "cell_type": "code",
   "execution_count": 50,
   "metadata": {},
   "outputs": [],
   "source": [
    "from tqdm import tqdm"
   ]
  },
  {
   "cell_type": "code",
   "execution_count": 117,
   "metadata": {},
   "outputs": [
    {
     "name": "stderr",
     "output_type": "stream",
     "text": [
      "Downloading videos:   0%|          | 0/300 [00:00<?, ?it/s]"
     ]
    },
    {
     "name": "stdout",
     "output_type": "stream",
     "text": [
      "Downloading https://tiktok.com/@ariellebrimhall/video/7125566784958106926\n"
     ]
    },
    {
     "name": "stderr",
     "output_type": "stream",
     "text": [
      "WARNING: [TikTok] Expecting value in '': line 1 column 1 (char 0). Retrying... (attempt 1 of 4)\n",
      "WARNING: [TikTok] Expecting value in '': line 1 column 1 (char 0). Retrying... (attempt 2 of 4)\n",
      "WARNING: [TikTok] Expecting value in '': line 1 column 1 (char 0). Retrying... (attempt 3 of 4)\n",
      "WARNING: [TikTok] 7125566784958106926: Failed to parse JSON (caused by JSONDecodeError(\"Expecting value in '': line 1 column 1 (char 0)\")); trying with webpage\n"
     ]
    },
    {
     "name": "stdout",
     "output_type": "stream",
     "text": [
      "                                                           \r"
     ]
    },
    {
     "name": "stderr",
     "output_type": "stream",
     "text": [
      "Downloading videos:   0%|          | 1/300 [00:02<13:47,  2.77s/it]"
     ]
    },
    {
     "name": "stdout",
     "output_type": "stream",
     "text": [
      "Downloading https://tiktok.com/@ariellebrimhall/video/7125202712618143019\n"
     ]
    },
    {
     "name": "stderr",
     "output_type": "stream",
     "text": [
      "WARNING: [TikTok] Expecting value in '': line 1 column 1 (char 0). Retrying... (attempt 1 of 4)\n",
      "WARNING: [TikTok] Expecting value in '': line 1 column 1 (char 0). Retrying... (attempt 2 of 4)\n",
      "WARNING: [TikTok] Expecting value in '': line 1 column 1 (char 0). Retrying... (attempt 3 of 4)\n",
      "WARNING: [TikTok] 7125202712618143019: Failed to parse JSON (caused by JSONDecodeError(\"Expecting value in '': line 1 column 1 (char 0)\")); trying with webpage\n"
     ]
    },
    {
     "name": "stdout",
     "output_type": "stream",
     "text": [
      "                                                         \r"
     ]
    },
    {
     "name": "stderr",
     "output_type": "stream",
     "text": [
      "Downloading videos:   1%|          | 2/300 [00:05<14:51,  2.99s/it]"
     ]
    },
    {
     "name": "stdout",
     "output_type": "stream",
     "text": [
      "Downloading https://tiktok.com/@ariellebrimhall/video/7125087282700324138\n"
     ]
    },
    {
     "name": "stderr",
     "output_type": "stream",
     "text": [
      "WARNING: [TikTok] Expecting value in '': line 1 column 1 (char 0). Retrying... (attempt 1 of 4)\n",
      "WARNING: [TikTok] Expecting value in '': line 1 column 1 (char 0). Retrying... (attempt 2 of 4)\n",
      "WARNING: [TikTok] Expecting value in '': line 1 column 1 (char 0). Retrying... (attempt 3 of 4)\n",
      "WARNING: [TikTok] 7125087282700324138: Failed to parse JSON (caused by JSONDecodeError(\"Expecting value in '': line 1 column 1 (char 0)\")); trying with webpage\n"
     ]
    },
    {
     "name": "stdout",
     "output_type": "stream",
     "text": [
      "                                                           \r"
     ]
    },
    {
     "name": "stderr",
     "output_type": "stream",
     "text": [
      "Downloading videos:   1%|          | 3/300 [00:08<14:38,  2.96s/it]"
     ]
    },
    {
     "name": "stdout",
     "output_type": "stream",
     "text": [
      "Downloading https://tiktok.com/@ariellebrimhall/video/7125072000577588522\n"
     ]
    },
    {
     "name": "stderr",
     "output_type": "stream",
     "text": [
      "WARNING: [TikTok] Expecting value in '': line 1 column 1 (char 0). Retrying... (attempt 1 of 4)\n",
      "WARNING: [TikTok] Expecting value in '': line 1 column 1 (char 0). Retrying... (attempt 2 of 4)\n",
      "WARNING: [TikTok] Expecting value in '': line 1 column 1 (char 0). Retrying... (attempt 3 of 4)\n",
      "WARNING: [TikTok] 7125072000577588522: Failed to parse JSON (caused by JSONDecodeError(\"Expecting value in '': line 1 column 1 (char 0)\")); trying with webpage\n"
     ]
    },
    {
     "name": "stdout",
     "output_type": "stream",
     "text": [
      "                                                           \r"
     ]
    },
    {
     "name": "stderr",
     "output_type": "stream",
     "text": [
      "Downloading videos:   1%|▏         | 4/300 [00:11<13:16,  2.69s/it]"
     ]
    },
    {
     "name": "stdout",
     "output_type": "stream",
     "text": [
      "Downloading https://tiktok.com/@ariellebrimhall/video/7124789423274822954\n"
     ]
    },
    {
     "name": "stderr",
     "output_type": "stream",
     "text": [
      "WARNING: [TikTok] Expecting value in '': line 1 column 1 (char 0). Retrying... (attempt 1 of 4)\n",
      "WARNING: [TikTok] Expecting value in '': line 1 column 1 (char 0). Retrying... (attempt 2 of 4)\n",
      "WARNING: [TikTok] Expecting value in '': line 1 column 1 (char 0). Retrying... (attempt 3 of 4)\n",
      "WARNING: [TikTok] 7124789423274822954: Failed to parse JSON (caused by JSONDecodeError(\"Expecting value in '': line 1 column 1 (char 0)\")); trying with webpage\n"
     ]
    },
    {
     "name": "stdout",
     "output_type": "stream",
     "text": [
      "                                                         \r"
     ]
    },
    {
     "name": "stderr",
     "output_type": "stream",
     "text": [
      "Downloading videos:   2%|▏         | 5/300 [00:13<13:04,  2.66s/it]"
     ]
    },
    {
     "name": "stdout",
     "output_type": "stream",
     "text": [
      "Downloading https://tiktok.com/@ariellebrimhall/video/7124739300347874606\n"
     ]
    },
    {
     "name": "stderr",
     "output_type": "stream",
     "text": [
      "WARNING: [TikTok] Expecting value in '': line 1 column 1 (char 0). Retrying... (attempt 1 of 4)\n",
      "WARNING: [TikTok] Expecting value in '': line 1 column 1 (char 0). Retrying... (attempt 2 of 4)\n",
      "WARNING: [TikTok] Expecting value in '': line 1 column 1 (char 0). Retrying... (attempt 3 of 4)\n",
      "WARNING: [TikTok] 7124739300347874606: Failed to parse JSON (caused by JSONDecodeError(\"Expecting value in '': line 1 column 1 (char 0)\")); trying with webpage\n"
     ]
    },
    {
     "name": "stdout",
     "output_type": "stream",
     "text": [
      "                                                         \r"
     ]
    },
    {
     "name": "stderr",
     "output_type": "stream",
     "text": [
      "Downloading videos:   2%|▏         | 6/300 [00:16<13:44,  2.80s/it]"
     ]
    },
    {
     "name": "stdout",
     "output_type": "stream",
     "text": [
      "Downloading https://tiktok.com/@ariellebrimhall/video/7124727036601683246\n"
     ]
    },
    {
     "name": "stderr",
     "output_type": "stream",
     "text": [
      "WARNING: [TikTok] Expecting value in '': line 1 column 1 (char 0). Retrying... (attempt 1 of 4)\n",
      "WARNING: [TikTok] Expecting value in '': line 1 column 1 (char 0). Retrying... (attempt 2 of 4)\n",
      "WARNING: [TikTok] Expecting value in '': line 1 column 1 (char 0). Retrying... (attempt 3 of 4)\n",
      "WARNING: [TikTok] 7124727036601683246: Failed to parse JSON (caused by JSONDecodeError(\"Expecting value in '': line 1 column 1 (char 0)\")); trying with webpage\n"
     ]
    },
    {
     "name": "stdout",
     "output_type": "stream",
     "text": [
      "                                                         \r"
     ]
    },
    {
     "name": "stderr",
     "output_type": "stream",
     "text": [
      "Downloading videos:   2%|▏         | 7/300 [00:19<14:11,  2.91s/it]"
     ]
    },
    {
     "name": "stdout",
     "output_type": "stream",
     "text": [
      "Downloading https://tiktok.com/@ariellebrimhall/video/7124717676865359150\n"
     ]
    },
    {
     "name": "stderr",
     "output_type": "stream",
     "text": [
      "WARNING: [TikTok] Expecting value in '': line 1 column 1 (char 0). Retrying... (attempt 1 of 4)\n",
      "WARNING: [TikTok] Expecting value in '': line 1 column 1 (char 0). Retrying... (attempt 2 of 4)\n",
      "WARNING: [TikTok] Expecting value in '': line 1 column 1 (char 0). Retrying... (attempt 3 of 4)\n",
      "WARNING: [TikTok] 7124717676865359150: Failed to parse JSON (caused by JSONDecodeError(\"Expecting value in '': line 1 column 1 (char 0)\")); trying with webpage\n"
     ]
    },
    {
     "name": "stdout",
     "output_type": "stream",
     "text": [
      "                                                           \r"
     ]
    },
    {
     "name": "stderr",
     "output_type": "stream",
     "text": [
      "Downloading videos:   3%|▎         | 8/300 [00:24<16:36,  3.41s/it]"
     ]
    },
    {
     "name": "stdout",
     "output_type": "stream",
     "text": [
      "Downloading https://tiktok.com/@ariellebrimhall/video/7124431687332891950\n"
     ]
    },
    {
     "name": "stderr",
     "output_type": "stream",
     "text": [
      "WARNING: [TikTok] Expecting value in '': line 1 column 1 (char 0). Retrying... (attempt 1 of 4)\n",
      "WARNING: [TikTok] Expecting value in '': line 1 column 1 (char 0). Retrying... (attempt 2 of 4)\n",
      "WARNING: [TikTok] Expecting value in '': line 1 column 1 (char 0). Retrying... (attempt 3 of 4)\n",
      "WARNING: [TikTok] 7124431687332891950: Failed to parse JSON (caused by JSONDecodeError(\"Expecting value in '': line 1 column 1 (char 0)\")); trying with webpage\n"
     ]
    },
    {
     "name": "stdout",
     "output_type": "stream",
     "text": [
      "                                                           \r"
     ]
    },
    {
     "name": "stderr",
     "output_type": "stream",
     "text": [
      "Downloading videos:   3%|▎         | 9/300 [00:34<26:44,  5.51s/it]"
     ]
    },
    {
     "name": "stdout",
     "output_type": "stream",
     "text": [
      "Downloading https://tiktok.com/@ariellebrimhall/video/7124311554052328747\n"
     ]
    },
    {
     "name": "stderr",
     "output_type": "stream",
     "text": [
      "WARNING: [TikTok] Expecting value in '': line 1 column 1 (char 0). Retrying... (attempt 1 of 4)\n",
      "WARNING: [TikTok] Expecting value in '': line 1 column 1 (char 0). Retrying... (attempt 2 of 4)\n",
      "WARNING: [TikTok] Expecting value in '': line 1 column 1 (char 0). Retrying... (attempt 3 of 4)\n",
      "WARNING: [TikTok] 7124311554052328747: Failed to parse JSON (caused by JSONDecodeError(\"Expecting value in '': line 1 column 1 (char 0)\")); trying with webpage\n"
     ]
    },
    {
     "name": "stdout",
     "output_type": "stream",
     "text": [
      "                                                         \r"
     ]
    },
    {
     "name": "stderr",
     "output_type": "stream",
     "text": [
      "Downloading videos:   3%|▎         | 10/300 [00:37<23:27,  4.85s/it]"
     ]
    },
    {
     "name": "stdout",
     "output_type": "stream",
     "text": [
      "Downloading https://tiktok.com/@ariellebrimhall/video/7123985831936691499\n"
     ]
    },
    {
     "name": "stderr",
     "output_type": "stream",
     "text": [
      "WARNING: [TikTok] Expecting value in '': line 1 column 1 (char 0). Retrying... (attempt 1 of 4)\n",
      "WARNING: [TikTok] Expecting value in '': line 1 column 1 (char 0). Retrying... (attempt 2 of 4)\n",
      "WARNING: [TikTok] Expecting value in '': line 1 column 1 (char 0). Retrying... (attempt 3 of 4)\n",
      "WARNING: [TikTok] 7123985831936691499: Failed to parse JSON (caused by JSONDecodeError(\"Expecting value in '': line 1 column 1 (char 0)\")); trying with webpage\n",
      "ERROR: [TikTok] 7123985831936691499: Unable to extract webpage video data; please report this issue on  https://github.com/yt-dlp/yt-dlp/issues?q= , filling out the appropriate issue template. Confirm you are on the latest version using  yt-dlp -U\n",
      "Downloading videos:   4%|▎         | 11/300 [00:39<18:42,  3.88s/it]"
     ]
    },
    {
     "name": "stdout",
     "output_type": "stream",
     "text": [
      "Encountered error ERROR: [TikTok] 7123985831936691499: Unable to extract webpage video data; please report this issue on  https://github.com/yt-dlp/yt-dlp/issues?q= , filling out the appropriate issue template. Confirm you are on the latest version using  yt-dlp -U when attempting to download url: https://tiktok.com/@ariellebrimhall/video/7123985831936691499\n",
      "Downloading https://tiktok.com/@ariellebrimhall/video/7123932446558604590\n"
     ]
    },
    {
     "name": "stderr",
     "output_type": "stream",
     "text": [
      "WARNING: [TikTok] Expecting value in '': line 1 column 1 (char 0). Retrying... (attempt 1 of 4)\n",
      "WARNING: [TikTok] Expecting value in '': line 1 column 1 (char 0). Retrying... (attempt 2 of 4)\n",
      "WARNING: [TikTok] Expecting value in '': line 1 column 1 (char 0). Retrying... (attempt 3 of 4)\n",
      "WARNING: [TikTok] 7123932446558604590: Failed to parse JSON (caused by JSONDecodeError(\"Expecting value in '': line 1 column 1 (char 0)\")); trying with webpage\n"
     ]
    },
    {
     "name": "stdout",
     "output_type": "stream",
     "text": [
      "                                                         \r"
     ]
    },
    {
     "name": "stderr",
     "output_type": "stream",
     "text": [
      "Downloading videos:   4%|▍         | 12/300 [00:42<17:27,  3.64s/it]"
     ]
    },
    {
     "name": "stdout",
     "output_type": "stream",
     "text": [
      "Downloading https://tiktok.com/@ariellebrimhall/video/7123716659818548526\n"
     ]
    },
    {
     "name": "stderr",
     "output_type": "stream",
     "text": [
      "WARNING: [TikTok] Expecting value in '': line 1 column 1 (char 0). Retrying... (attempt 1 of 4)\n",
      "WARNING: [TikTok] Expecting value in '': line 1 column 1 (char 0). Retrying... (attempt 2 of 4)\n",
      "WARNING: [TikTok] Expecting value in '': line 1 column 1 (char 0). Retrying... (attempt 3 of 4)\n",
      "WARNING: [TikTok] 7123716659818548526: Failed to parse JSON (caused by JSONDecodeError(\"Expecting value in '': line 1 column 1 (char 0)\")); trying with webpage\n"
     ]
    },
    {
     "name": "stdout",
     "output_type": "stream",
     "text": [
      "                                                         \r"
     ]
    },
    {
     "name": "stderr",
     "output_type": "stream",
     "text": [
      "Downloading videos:   4%|▍         | 13/300 [00:45<16:22,  3.42s/it]"
     ]
    },
    {
     "name": "stdout",
     "output_type": "stream",
     "text": [
      "Downloading https://tiktok.com/@ariellebrimhall/video/7123564303084653870\n"
     ]
    },
    {
     "name": "stderr",
     "output_type": "stream",
     "text": [
      "WARNING: [TikTok] Expecting value in '': line 1 column 1 (char 0). Retrying... (attempt 1 of 4)\n",
      "WARNING: [TikTok] Expecting value in '': line 1 column 1 (char 0). Retrying... (attempt 2 of 4)\n",
      "WARNING: [TikTok] Expecting value in '': line 1 column 1 (char 0). Retrying... (attempt 3 of 4)\n",
      "WARNING: [TikTok] 7123564303084653870: Failed to parse JSON (caused by JSONDecodeError(\"Expecting value in '': line 1 column 1 (char 0)\")); trying with webpage\n"
     ]
    },
    {
     "name": "stdout",
     "output_type": "stream",
     "text": [
      "                                                           \r"
     ]
    },
    {
     "name": "stderr",
     "output_type": "stream",
     "text": [
      "Downloading videos:   5%|▍         | 14/300 [00:48<16:13,  3.41s/it]"
     ]
    },
    {
     "name": "stdout",
     "output_type": "stream",
     "text": [
      "Downloading https://tiktok.com/@ariellebrimhall/video/7123332421780524331\n"
     ]
    },
    {
     "name": "stderr",
     "output_type": "stream",
     "text": [
      "WARNING: [TikTok] Expecting value in '': line 1 column 1 (char 0). Retrying... (attempt 1 of 4)\n",
      "WARNING: [TikTok] Expecting value in '': line 1 column 1 (char 0). Retrying... (attempt 2 of 4)\n",
      "WARNING: [TikTok] Expecting value in '': line 1 column 1 (char 0). Retrying... (attempt 3 of 4)\n",
      "WARNING: [TikTok] 7123332421780524331: Failed to parse JSON (caused by JSONDecodeError(\"Expecting value in '': line 1 column 1 (char 0)\")); trying with webpage\n"
     ]
    },
    {
     "name": "stdout",
     "output_type": "stream",
     "text": [
      "                                                           \r"
     ]
    },
    {
     "name": "stderr",
     "output_type": "stream",
     "text": [
      "Downloading videos:   5%|▌         | 15/300 [00:52<16:44,  3.52s/it]"
     ]
    },
    {
     "name": "stdout",
     "output_type": "stream",
     "text": [
      "Downloading https://tiktok.com/@ariellebrimhall/video/7123296900438084907\n"
     ]
    },
    {
     "name": "stderr",
     "output_type": "stream",
     "text": [
      "WARNING: [TikTok] Expecting value in '': line 1 column 1 (char 0). Retrying... (attempt 1 of 4)\n",
      "WARNING: [TikTok] Expecting value in '': line 1 column 1 (char 0). Retrying... (attempt 2 of 4)\n",
      "WARNING: [TikTok] Expecting value in '': line 1 column 1 (char 0). Retrying... (attempt 3 of 4)\n",
      "WARNING: [TikTok] 7123296900438084907: Failed to parse JSON (caused by JSONDecodeError(\"Expecting value in '': line 1 column 1 (char 0)\")); trying with webpage\n"
     ]
    },
    {
     "name": "stdout",
     "output_type": "stream",
     "text": [
      "                                                           \r"
     ]
    },
    {
     "name": "stderr",
     "output_type": "stream",
     "text": [
      "Downloading videos:   5%|▌         | 16/300 [00:56<16:59,  3.59s/it]"
     ]
    },
    {
     "name": "stdout",
     "output_type": "stream",
     "text": [
      "Downloading https://tiktok.com/@ariellebrimhall/video/7123257183416012078\n"
     ]
    },
    {
     "name": "stderr",
     "output_type": "stream",
     "text": [
      "WARNING: [TikTok] Expecting value in '': line 1 column 1 (char 0). Retrying... (attempt 1 of 4)\n",
      "WARNING: [TikTok] Expecting value in '': line 1 column 1 (char 0). Retrying... (attempt 2 of 4)\n",
      "WARNING: [TikTok] Expecting value in '': line 1 column 1 (char 0). Retrying... (attempt 3 of 4)\n",
      "WARNING: [TikTok] 7123257183416012078: Failed to parse JSON (caused by JSONDecodeError(\"Expecting value in '': line 1 column 1 (char 0)\")); trying with webpage\n"
     ]
    },
    {
     "name": "stdout",
     "output_type": "stream",
     "text": [
      "                                                           \r"
     ]
    },
    {
     "name": "stderr",
     "output_type": "stream",
     "text": [
      "Downloading videos:   6%|▌         | 17/300 [00:59<16:34,  3.51s/it]"
     ]
    },
    {
     "name": "stdout",
     "output_type": "stream",
     "text": [
      "Downloading https://tiktok.com/@ariellebrimhall/video/7122921168797044010\n"
     ]
    },
    {
     "name": "stderr",
     "output_type": "stream",
     "text": [
      "WARNING: [TikTok] Expecting value in '': line 1 column 1 (char 0). Retrying... (attempt 1 of 4)\n",
      "WARNING: [TikTok] Expecting value in '': line 1 column 1 (char 0). Retrying... (attempt 2 of 4)\n",
      "WARNING: [TikTok] Expecting value in '': line 1 column 1 (char 0). Retrying... (attempt 3 of 4)\n",
      "WARNING: [TikTok] 7122921168797044010: Failed to parse JSON (caused by JSONDecodeError(\"Expecting value in '': line 1 column 1 (char 0)\")); trying with webpage\n"
     ]
    },
    {
     "name": "stdout",
     "output_type": "stream",
     "text": [
      "                                                         \r"
     ]
    },
    {
     "name": "stderr",
     "output_type": "stream",
     "text": [
      "Downloading videos:   6%|▌         | 18/300 [01:02<14:38,  3.11s/it]"
     ]
    },
    {
     "name": "stdout",
     "output_type": "stream",
     "text": [
      "Downloading https://tiktok.com/@ariellebrimhall/video/7122889992996703531\n"
     ]
    },
    {
     "name": "stderr",
     "output_type": "stream",
     "text": [
      "WARNING: [TikTok] Expecting value in '': line 1 column 1 (char 0). Retrying... (attempt 1 of 4)\n",
      "WARNING: [TikTok] Expecting value in '': line 1 column 1 (char 0). Retrying... (attempt 2 of 4)\n",
      "WARNING: [TikTok] Expecting value in '': line 1 column 1 (char 0). Retrying... (attempt 3 of 4)\n",
      "WARNING: [TikTok] 7122889992996703531: Failed to parse JSON (caused by JSONDecodeError(\"Expecting value in '': line 1 column 1 (char 0)\")); trying with webpage\n"
     ]
    },
    {
     "name": "stdout",
     "output_type": "stream",
     "text": [
      "                                                         \r"
     ]
    },
    {
     "name": "stderr",
     "output_type": "stream",
     "text": [
      "Downloading videos:   6%|▋         | 19/300 [01:04<13:41,  2.92s/it]"
     ]
    },
    {
     "name": "stdout",
     "output_type": "stream",
     "text": [
      "Downloading https://tiktok.com/@ariellebrimhall/video/7122611941759061294\n"
     ]
    },
    {
     "name": "stderr",
     "output_type": "stream",
     "text": [
      "WARNING: [TikTok] Expecting value in '': line 1 column 1 (char 0). Retrying... (attempt 1 of 4)\n",
      "WARNING: [TikTok] Expecting value in '': line 1 column 1 (char 0). Retrying... (attempt 2 of 4)\n",
      "WARNING: [TikTok] Expecting value in '': line 1 column 1 (char 0). Retrying... (attempt 3 of 4)\n",
      "WARNING: [TikTok] 7122611941759061294: Failed to parse JSON (caused by JSONDecodeError(\"Expecting value in '': line 1 column 1 (char 0)\")); trying with webpage\n"
     ]
    },
    {
     "name": "stdout",
     "output_type": "stream",
     "text": [
      "                                                           \r"
     ]
    },
    {
     "name": "stderr",
     "output_type": "stream",
     "text": [
      "Downloading videos:   7%|▋         | 20/300 [01:07<13:26,  2.88s/it]"
     ]
    },
    {
     "name": "stdout",
     "output_type": "stream",
     "text": [
      "Downloading https://tiktok.com/@ariellebrimhall/video/7122564372391578923\n"
     ]
    },
    {
     "name": "stderr",
     "output_type": "stream",
     "text": [
      "WARNING: [TikTok] Expecting value in '': line 1 column 1 (char 0). Retrying... (attempt 1 of 4)\n",
      "WARNING: [TikTok] Expecting value in '': line 1 column 1 (char 0). Retrying... (attempt 2 of 4)\n",
      "WARNING: [TikTok] Expecting value in '': line 1 column 1 (char 0). Retrying... (attempt 3 of 4)\n",
      "WARNING: [TikTok] 7122564372391578923: Failed to parse JSON (caused by JSONDecodeError(\"Expecting value in '': line 1 column 1 (char 0)\")); trying with webpage\n"
     ]
    },
    {
     "name": "stdout",
     "output_type": "stream",
     "text": [
      "                                                           \r"
     ]
    },
    {
     "name": "stderr",
     "output_type": "stream",
     "text": [
      "Downloading videos:   7%|▋         | 21/300 [01:10<13:53,  2.99s/it]"
     ]
    },
    {
     "name": "stdout",
     "output_type": "stream",
     "text": [
      "Downloading https://tiktok.com/@ariellebrimhall/video/7122551590485036331\n"
     ]
    },
    {
     "name": "stderr",
     "output_type": "stream",
     "text": [
      "WARNING: [TikTok] Expecting value in '': line 1 column 1 (char 0). Retrying... (attempt 1 of 4)\n",
      "WARNING: [TikTok] Expecting value in '': line 1 column 1 (char 0). Retrying... (attempt 2 of 4)\n",
      "WARNING: [TikTok] Expecting value in '': line 1 column 1 (char 0). Retrying... (attempt 3 of 4)\n",
      "WARNING: [TikTok] 7122551590485036331: Failed to parse JSON (caused by JSONDecodeError(\"Expecting value in '': line 1 column 1 (char 0)\")); trying with webpage\n"
     ]
    },
    {
     "name": "stdout",
     "output_type": "stream",
     "text": [
      "                                                         \r"
     ]
    },
    {
     "name": "stderr",
     "output_type": "stream",
     "text": [
      "Downloading videos:   7%|▋         | 22/300 [01:18<20:41,  4.47s/it]"
     ]
    },
    {
     "name": "stdout",
     "output_type": "stream",
     "text": [
      "Downloading https://tiktok.com/@ariellebrimhall/video/7122506240932023598\n"
     ]
    },
    {
     "name": "stderr",
     "output_type": "stream",
     "text": [
      "WARNING: [TikTok] Expecting value in '': line 1 column 1 (char 0). Retrying... (attempt 1 of 4)\n",
      "WARNING: [TikTok] Expecting value in '': line 1 column 1 (char 0). Retrying... (attempt 2 of 4)\n",
      "WARNING: [TikTok] Expecting value in '': line 1 column 1 (char 0). Retrying... (attempt 3 of 4)\n",
      "WARNING: [TikTok] 7122506240932023598: Failed to parse JSON (caused by JSONDecodeError(\"Expecting value in '': line 1 column 1 (char 0)\")); trying with webpage\n"
     ]
    },
    {
     "name": "stdout",
     "output_type": "stream",
     "text": [
      "                                                           \r"
     ]
    },
    {
     "name": "stderr",
     "output_type": "stream",
     "text": [
      "Downloading videos:   8%|▊         | 23/300 [01:21<18:01,  3.90s/it]"
     ]
    },
    {
     "name": "stdout",
     "output_type": "stream",
     "text": [
      "Downloading https://tiktok.com/@ariellebrimhall/video/7122460928687426862\n"
     ]
    },
    {
     "name": "stderr",
     "output_type": "stream",
     "text": [
      "WARNING: [TikTok] Expecting value in '': line 1 column 1 (char 0). Retrying... (attempt 1 of 4)\n",
      "WARNING: [TikTok] Expecting value in '': line 1 column 1 (char 0). Retrying... (attempt 2 of 4)\n",
      "WARNING: [TikTok] Expecting value in '': line 1 column 1 (char 0). Retrying... (attempt 3 of 4)\n",
      "WARNING: [TikTok] 7122460928687426862: Failed to parse JSON (caused by JSONDecodeError(\"Expecting value in '': line 1 column 1 (char 0)\")); trying with webpage\n"
     ]
    },
    {
     "name": "stdout",
     "output_type": "stream",
     "text": [
      "                                                         \r"
     ]
    },
    {
     "name": "stderr",
     "output_type": "stream",
     "text": [
      "Downloading videos:   8%|▊         | 24/300 [01:23<16:34,  3.60s/it]"
     ]
    },
    {
     "name": "stdout",
     "output_type": "stream",
     "text": [
      "Downloading https://tiktok.com/@ariellebrimhall/video/7122223703018163502\n"
     ]
    },
    {
     "name": "stderr",
     "output_type": "stream",
     "text": [
      "WARNING: [TikTok] Expecting value in '': line 1 column 1 (char 0). Retrying... (attempt 1 of 4)\n",
      "WARNING: [TikTok] Expecting value in '': line 1 column 1 (char 0). Retrying... (attempt 2 of 4)\n",
      "WARNING: [TikTok] Expecting value in '': line 1 column 1 (char 0). Retrying... (attempt 3 of 4)\n",
      "WARNING: [TikTok] 7122223703018163502: Failed to parse JSON (caused by JSONDecodeError(\"Expecting value in '': line 1 column 1 (char 0)\")); trying with webpage\n"
     ]
    },
    {
     "name": "stdout",
     "output_type": "stream",
     "text": [
      "                                                         \r"
     ]
    },
    {
     "name": "stderr",
     "output_type": "stream",
     "text": [
      "Downloading videos:   8%|▊         | 25/300 [01:27<16:14,  3.55s/it]"
     ]
    },
    {
     "name": "stdout",
     "output_type": "stream",
     "text": [
      "Downloading https://tiktok.com/@ariellebrimhall/video/7122141406684122411\n"
     ]
    },
    {
     "name": "stderr",
     "output_type": "stream",
     "text": [
      "WARNING: [TikTok] Expecting value in '': line 1 column 1 (char 0). Retrying... (attempt 1 of 4)\n",
      "WARNING: [TikTok] Expecting value in '': line 1 column 1 (char 0). Retrying... (attempt 2 of 4)\n",
      "WARNING: [TikTok] Expecting value in '': line 1 column 1 (char 0). Retrying... (attempt 3 of 4)\n",
      "WARNING: [TikTok] 7122141406684122411: Failed to parse JSON (caused by JSONDecodeError(\"Expecting value in '': line 1 column 1 (char 0)\")); trying with webpage\n"
     ]
    },
    {
     "name": "stdout",
     "output_type": "stream",
     "text": [
      "                                                           \r"
     ]
    },
    {
     "name": "stderr",
     "output_type": "stream",
     "text": [
      "Downloading videos:   9%|▊         | 26/300 [01:36<24:11,  5.30s/it]"
     ]
    },
    {
     "name": "stdout",
     "output_type": "stream",
     "text": [
      "Downloading https://tiktok.com/@ariellebrimhall/video/7122105824410963246\n"
     ]
    },
    {
     "name": "stderr",
     "output_type": "stream",
     "text": [
      "WARNING: [TikTok] Expecting value in '': line 1 column 1 (char 0). Retrying... (attempt 1 of 4)\n",
      "WARNING: [TikTok] Expecting value in '': line 1 column 1 (char 0). Retrying... (attempt 2 of 4)\n",
      "WARNING: [TikTok] Expecting value in '': line 1 column 1 (char 0). Retrying... (attempt 3 of 4)\n",
      "WARNING: [TikTok] 7122105824410963246: Failed to parse JSON (caused by JSONDecodeError(\"Expecting value in '': line 1 column 1 (char 0)\")); trying with webpage\n"
     ]
    },
    {
     "name": "stdout",
     "output_type": "stream",
     "text": [
      "                                                         \r"
     ]
    },
    {
     "name": "stderr",
     "output_type": "stream",
     "text": [
      "Downloading videos:   9%|▉         | 27/300 [01:39<20:14,  4.45s/it]"
     ]
    },
    {
     "name": "stdout",
     "output_type": "stream",
     "text": [
      "Downloading https://tiktok.com/@ariellebrimhall/video/7122093427105336618\n"
     ]
    },
    {
     "name": "stderr",
     "output_type": "stream",
     "text": [
      "WARNING: [TikTok] Expecting value in '': line 1 column 1 (char 0). Retrying... (attempt 1 of 4)\n",
      "WARNING: [TikTok] Expecting value in '': line 1 column 1 (char 0). Retrying... (attempt 2 of 4)\n",
      "WARNING: [TikTok] Expecting value in '': line 1 column 1 (char 0). Retrying... (attempt 3 of 4)\n",
      "WARNING: [TikTok] 7122093427105336618: Failed to parse JSON (caused by JSONDecodeError(\"Expecting value in '': line 1 column 1 (char 0)\")); trying with webpage\n"
     ]
    },
    {
     "name": "stdout",
     "output_type": "stream",
     "text": [
      "                                                         \r"
     ]
    },
    {
     "name": "stderr",
     "output_type": "stream",
     "text": [
      "Downloading videos:   9%|▉         | 28/300 [01:54<35:30,  7.83s/it]"
     ]
    },
    {
     "name": "stdout",
     "output_type": "stream",
     "text": [
      "Downloading https://tiktok.com/@ariellebrimhall/video/7121833017785683246\n"
     ]
    },
    {
     "name": "stderr",
     "output_type": "stream",
     "text": [
      "WARNING: [TikTok] Expecting value in '': line 1 column 1 (char 0). Retrying... (attempt 1 of 4)\n",
      "WARNING: [TikTok] Expecting value in '': line 1 column 1 (char 0). Retrying... (attempt 2 of 4)\n",
      "WARNING: [TikTok] Expecting value in '': line 1 column 1 (char 0). Retrying... (attempt 3 of 4)\n",
      "WARNING: [TikTok] 7121833017785683246: Failed to parse JSON (caused by JSONDecodeError(\"Expecting value in '': line 1 column 1 (char 0)\")); trying with webpage\n"
     ]
    },
    {
     "name": "stdout",
     "output_type": "stream",
     "text": [
      "                                                           \r"
     ]
    },
    {
     "name": "stderr",
     "output_type": "stream",
     "text": [
      "Downloading videos:  10%|▉         | 29/300 [01:57<28:49,  6.38s/it]"
     ]
    },
    {
     "name": "stdout",
     "output_type": "stream",
     "text": [
      "Downloading https://tiktok.com/@ariellebrimhall/video/7121783437686050094\n"
     ]
    },
    {
     "name": "stderr",
     "output_type": "stream",
     "text": [
      "WARNING: [TikTok] Expecting value in '': line 1 column 1 (char 0). Retrying... (attempt 1 of 4)\n",
      "WARNING: [TikTok] Expecting value in '': line 1 column 1 (char 0). Retrying... (attempt 2 of 4)\n",
      "WARNING: [TikTok] Expecting value in '': line 1 column 1 (char 0). Retrying... (attempt 3 of 4)\n",
      "WARNING: [TikTok] 7121783437686050094: Failed to parse JSON (caused by JSONDecodeError(\"Expecting value in '': line 1 column 1 (char 0)\")); trying with webpage\n"
     ]
    },
    {
     "name": "stdout",
     "output_type": "stream",
     "text": [
      "                                                           \r"
     ]
    },
    {
     "name": "stderr",
     "output_type": "stream",
     "text": [
      "Downloading videos:  10%|█         | 30/300 [02:08<34:08,  7.59s/it]"
     ]
    },
    {
     "name": "stdout",
     "output_type": "stream",
     "text": [
      "Downloading https://tiktok.com/@ariellebrimhall/video/7121753243600031022\n"
     ]
    },
    {
     "name": "stderr",
     "output_type": "stream",
     "text": [
      "WARNING: [TikTok] Expecting value in '': line 1 column 1 (char 0). Retrying... (attempt 1 of 4)\n",
      "WARNING: [TikTok] Expecting value in '': line 1 column 1 (char 0). Retrying... (attempt 2 of 4)\n",
      "WARNING: [TikTok] Expecting value in '': line 1 column 1 (char 0). Retrying... (attempt 3 of 4)\n",
      "WARNING: [TikTok] 7121753243600031022: Failed to parse JSON (caused by JSONDecodeError(\"Expecting value in '': line 1 column 1 (char 0)\")); trying with webpage\n"
     ]
    },
    {
     "name": "stdout",
     "output_type": "stream",
     "text": [
      "                                                           \r"
     ]
    },
    {
     "name": "stderr",
     "output_type": "stream",
     "text": [
      "Downloading videos:  10%|█         | 31/300 [02:11<27:25,  6.12s/it]"
     ]
    },
    {
     "name": "stdout",
     "output_type": "stream",
     "text": [
      "Downloading https://tiktok.com/@ariellebrimhall/video/7121738706771316011\n"
     ]
    },
    {
     "name": "stderr",
     "output_type": "stream",
     "text": [
      "WARNING: [TikTok] Expecting value in '': line 1 column 1 (char 0). Retrying... (attempt 1 of 4)\n",
      "WARNING: [TikTok] Expecting value in '': line 1 column 1 (char 0). Retrying... (attempt 2 of 4)\n",
      "WARNING: [TikTok] Expecting value in '': line 1 column 1 (char 0). Retrying... (attempt 3 of 4)\n",
      "WARNING: [TikTok] 7121738706771316011: Failed to parse JSON (caused by JSONDecodeError(\"Expecting value in '': line 1 column 1 (char 0)\")); trying with webpage\n"
     ]
    },
    {
     "name": "stdout",
     "output_type": "stream",
     "text": [
      "                                                           \r"
     ]
    },
    {
     "name": "stderr",
     "output_type": "stream",
     "text": [
      "Downloading videos:  11%|█         | 32/300 [02:14<23:08,  5.18s/it]"
     ]
    },
    {
     "name": "stdout",
     "output_type": "stream",
     "text": [
      "Downloading https://tiktok.com/@ariellebrimhall/video/7121729997345426734\n"
     ]
    },
    {
     "name": "stderr",
     "output_type": "stream",
     "text": [
      "WARNING: [TikTok] Expecting value in '': line 1 column 1 (char 0). Retrying... (attempt 1 of 4)\n",
      "WARNING: [TikTok] Expecting value in '': line 1 column 1 (char 0). Retrying... (attempt 2 of 4)\n",
      "WARNING: [TikTok] Expecting value in '': line 1 column 1 (char 0). Retrying... (attempt 3 of 4)\n",
      "WARNING: [TikTok] 7121729997345426734: Failed to parse JSON (caused by JSONDecodeError(\"Expecting value in '': line 1 column 1 (char 0)\")); trying with webpage\n"
     ]
    },
    {
     "name": "stdout",
     "output_type": "stream",
     "text": [
      "                                                           \r"
     ]
    },
    {
     "name": "stderr",
     "output_type": "stream",
     "text": [
      "Downloading videos:  11%|█         | 33/300 [02:16<19:35,  4.40s/it]"
     ]
    },
    {
     "name": "stdout",
     "output_type": "stream",
     "text": [
      "Downloading https://tiktok.com/@ariellebrimhall/video/7065390511296695599\n"
     ]
    },
    {
     "name": "stderr",
     "output_type": "stream",
     "text": [
      "WARNING: [TikTok] Expecting value in '': line 1 column 1 (char 0). Retrying... (attempt 1 of 4)\n",
      "WARNING: [TikTok] Expecting value in '': line 1 column 1 (char 0). Retrying... (attempt 2 of 4)\n",
      "WARNING: [TikTok] Expecting value in '': line 1 column 1 (char 0). Retrying... (attempt 3 of 4)\n",
      "WARNING: [TikTok] 7065390511296695599: Failed to parse JSON (caused by JSONDecodeError(\"Expecting value in '': line 1 column 1 (char 0)\")); trying with webpage\n"
     ]
    },
    {
     "name": "stdout",
     "output_type": "stream",
     "text": [
      "                                                           \r"
     ]
    },
    {
     "name": "stderr",
     "output_type": "stream",
     "text": [
      "Downloading videos:  11%|█▏        | 34/300 [02:19<17:27,  3.94s/it]"
     ]
    },
    {
     "name": "stdout",
     "output_type": "stream",
     "text": [
      "Downloading https://tiktok.com/@ariellebrimhall/video/7065373487463927086\n"
     ]
    },
    {
     "name": "stderr",
     "output_type": "stream",
     "text": [
      "WARNING: [TikTok] Expecting value in '': line 1 column 1 (char 0). Retrying... (attempt 1 of 4)\n",
      "WARNING: [TikTok] Expecting value in '': line 1 column 1 (char 0). Retrying... (attempt 2 of 4)\n",
      "WARNING: [TikTok] Expecting value in '': line 1 column 1 (char 0). Retrying... (attempt 3 of 4)\n",
      "WARNING: [TikTok] 7065373487463927086: Failed to parse JSON (caused by JSONDecodeError(\"Expecting value in '': line 1 column 1 (char 0)\")); trying with webpage\n"
     ]
    },
    {
     "name": "stdout",
     "output_type": "stream",
     "text": [
      "                                                         \r"
     ]
    },
    {
     "name": "stderr",
     "output_type": "stream",
     "text": [
      "Downloading videos:  12%|█▏        | 35/300 [02:26<21:35,  4.89s/it]"
     ]
    },
    {
     "name": "stdout",
     "output_type": "stream",
     "text": [
      "Downloading https://tiktok.com/@ariellebrimhall/video/7065038720474516782\n"
     ]
    },
    {
     "name": "stderr",
     "output_type": "stream",
     "text": [
      "WARNING: [TikTok] Expecting value in '': line 1 column 1 (char 0). Retrying... (attempt 1 of 4)\n",
      "WARNING: [TikTok] Expecting value in '': line 1 column 1 (char 0). Retrying... (attempt 2 of 4)\n",
      "WARNING: [TikTok] Expecting value in '': line 1 column 1 (char 0). Retrying... (attempt 3 of 4)\n",
      "WARNING: [TikTok] 7065038720474516782: Failed to parse JSON (caused by JSONDecodeError(\"Expecting value in '': line 1 column 1 (char 0)\")); trying with webpage\n"
     ]
    },
    {
     "name": "stdout",
     "output_type": "stream",
     "text": [
      "                                                           \r"
     ]
    },
    {
     "name": "stderr",
     "output_type": "stream",
     "text": [
      "Downloading videos:  12%|█▏        | 36/300 [02:29<18:30,  4.21s/it]"
     ]
    },
    {
     "name": "stdout",
     "output_type": "stream",
     "text": [
      "Downloading https://tiktok.com/@ariellebrimhall/video/7064650219736091950\n"
     ]
    },
    {
     "name": "stderr",
     "output_type": "stream",
     "text": [
      "WARNING: [TikTok] Expecting value in '': line 1 column 1 (char 0). Retrying... (attempt 1 of 4)\n",
      "WARNING: [TikTok] Expecting value in '': line 1 column 1 (char 0). Retrying... (attempt 2 of 4)\n",
      "WARNING: [TikTok] Expecting value in '': line 1 column 1 (char 0). Retrying... (attempt 3 of 4)\n",
      "WARNING: [TikTok] 7064650219736091950: Failed to parse JSON (caused by JSONDecodeError(\"Expecting value in '': line 1 column 1 (char 0)\")); trying with webpage\n"
     ]
    },
    {
     "name": "stdout",
     "output_type": "stream",
     "text": [
      "                                                           \r"
     ]
    },
    {
     "name": "stderr",
     "output_type": "stream",
     "text": [
      "Downloading videos:  12%|█▏        | 37/300 [02:32<17:05,  3.90s/it]"
     ]
    },
    {
     "name": "stdout",
     "output_type": "stream",
     "text": [
      "Downloading https://tiktok.com/@ariellebrimhall/video/7064624503749463343\n"
     ]
    },
    {
     "name": "stderr",
     "output_type": "stream",
     "text": [
      "WARNING: [TikTok] Expecting value in '': line 1 column 1 (char 0). Retrying... (attempt 1 of 4)\n",
      "WARNING: [TikTok] Expecting value in '': line 1 column 1 (char 0). Retrying... (attempt 2 of 4)\n",
      "WARNING: [TikTok] Expecting value in '': line 1 column 1 (char 0). Retrying... (attempt 3 of 4)\n",
      "WARNING: [TikTok] 7064624503749463343: Failed to parse JSON (caused by JSONDecodeError(\"Expecting value in '': line 1 column 1 (char 0)\")); trying with webpage\n"
     ]
    },
    {
     "name": "stdout",
     "output_type": "stream",
     "text": [
      "                                                           \r"
     ]
    },
    {
     "name": "stderr",
     "output_type": "stream",
     "text": [
      "Downloading videos:  13%|█▎        | 38/300 [02:35<16:09,  3.70s/it]"
     ]
    },
    {
     "name": "stdout",
     "output_type": "stream",
     "text": [
      "Downloading https://tiktok.com/@ariellebrimhall/video/7064329845714537775\n"
     ]
    },
    {
     "name": "stderr",
     "output_type": "stream",
     "text": [
      "WARNING: [TikTok] Expecting value in '': line 1 column 1 (char 0). Retrying... (attempt 1 of 4)\n",
      "WARNING: [TikTok] Expecting value in '': line 1 column 1 (char 0). Retrying... (attempt 2 of 4)\n",
      "WARNING: [TikTok] Expecting value in '': line 1 column 1 (char 0). Retrying... (attempt 3 of 4)\n",
      "WARNING: [TikTok] 7064329845714537775: Failed to parse JSON (caused by JSONDecodeError(\"Expecting value in '': line 1 column 1 (char 0)\")); trying with webpage\n"
     ]
    },
    {
     "name": "stdout",
     "output_type": "stream",
     "text": [
      "                                                           \r"
     ]
    },
    {
     "name": "stderr",
     "output_type": "stream",
     "text": [
      "Downloading videos:  13%|█▎        | 39/300 [02:38<15:10,  3.49s/it]"
     ]
    },
    {
     "name": "stdout",
     "output_type": "stream",
     "text": [
      "Downloading https://tiktok.com/@ariellebrimhall/video/7063566022418107695\n"
     ]
    },
    {
     "name": "stderr",
     "output_type": "stream",
     "text": [
      "WARNING: [TikTok] Expecting value in '': line 1 column 1 (char 0). Retrying... (attempt 1 of 4)\n",
      "WARNING: [TikTok] Expecting value in '': line 1 column 1 (char 0). Retrying... (attempt 2 of 4)\n",
      "WARNING: [TikTok] Expecting value in '': line 1 column 1 (char 0). Retrying... (attempt 3 of 4)\n",
      "WARNING: [TikTok] 7063566022418107695: Failed to parse JSON (caused by JSONDecodeError(\"Expecting value in '': line 1 column 1 (char 0)\")); trying with webpage\n"
     ]
    },
    {
     "name": "stdout",
     "output_type": "stream",
     "text": [
      "                                                           \r"
     ]
    },
    {
     "name": "stderr",
     "output_type": "stream",
     "text": [
      "Downloading videos:  13%|█▎        | 40/300 [02:40<13:38,  3.15s/it]"
     ]
    },
    {
     "name": "stdout",
     "output_type": "stream",
     "text": [
      "Downloading https://tiktok.com/@ariellebrimhall/video/7063231007738137902\n"
     ]
    },
    {
     "name": "stderr",
     "output_type": "stream",
     "text": [
      "WARNING: [TikTok] Expecting value in '': line 1 column 1 (char 0). Retrying... (attempt 1 of 4)\n",
      "WARNING: [TikTok] Expecting value in '': line 1 column 1 (char 0). Retrying... (attempt 2 of 4)\n",
      "WARNING: [TikTok] Expecting value in '': line 1 column 1 (char 0). Retrying... (attempt 3 of 4)\n",
      "WARNING: [TikTok] 7063231007738137902: Failed to parse JSON (caused by JSONDecodeError(\"Expecting value in '': line 1 column 1 (char 0)\")); trying with webpage\n"
     ]
    },
    {
     "name": "stdout",
     "output_type": "stream",
     "text": [
      "                                                         \r"
     ]
    },
    {
     "name": "stderr",
     "output_type": "stream",
     "text": [
      "Downloading videos:  14%|█▎        | 41/300 [02:44<14:04,  3.26s/it]"
     ]
    },
    {
     "name": "stdout",
     "output_type": "stream",
     "text": [
      "Downloading https://tiktok.com/@ariellebrimhall/video/7063191172487105838\n"
     ]
    },
    {
     "name": "stderr",
     "output_type": "stream",
     "text": [
      "WARNING: [TikTok] Expecting value in '': line 1 column 1 (char 0). Retrying... (attempt 1 of 4)\n",
      "WARNING: [TikTok] Expecting value in '': line 1 column 1 (char 0). Retrying... (attempt 2 of 4)\n",
      "WARNING: [TikTok] Expecting value in '': line 1 column 1 (char 0). Retrying... (attempt 3 of 4)\n",
      "WARNING: [TikTok] 7063191172487105838: Failed to parse JSON (caused by JSONDecodeError(\"Expecting value in '': line 1 column 1 (char 0)\")); trying with webpage\n"
     ]
    },
    {
     "name": "stdout",
     "output_type": "stream",
     "text": [
      "                                                           \r"
     ]
    },
    {
     "name": "stderr",
     "output_type": "stream",
     "text": [
      "Downloading videos:  14%|█▍        | 42/300 [02:46<12:39,  2.94s/it]"
     ]
    },
    {
     "name": "stdout",
     "output_type": "stream",
     "text": [
      "Downloading https://tiktok.com/@ariellebrimhall/video/7063185905783180591\n"
     ]
    },
    {
     "name": "stderr",
     "output_type": "stream",
     "text": [
      "WARNING: [TikTok] Expecting value in '': line 1 column 1 (char 0). Retrying... (attempt 1 of 4)\n",
      "WARNING: [TikTok] Expecting value in '': line 1 column 1 (char 0). Retrying... (attempt 2 of 4)\n",
      "WARNING: [TikTok] Expecting value in '': line 1 column 1 (char 0). Retrying... (attempt 3 of 4)\n",
      "WARNING: [TikTok] 7063185905783180591: Failed to parse JSON (caused by JSONDecodeError(\"Expecting value in '': line 1 column 1 (char 0)\")); trying with webpage\n"
     ]
    },
    {
     "name": "stdout",
     "output_type": "stream",
     "text": [
      "                                                         \r"
     ]
    },
    {
     "name": "stderr",
     "output_type": "stream",
     "text": [
      "Downloading videos:  14%|█▍        | 43/300 [02:49<12:39,  2.96s/it]"
     ]
    },
    {
     "name": "stdout",
     "output_type": "stream",
     "text": [
      "Downloading https://tiktok.com/@ariellebrimhall/video/7063134455342337326\n"
     ]
    },
    {
     "name": "stderr",
     "output_type": "stream",
     "text": [
      "WARNING: [TikTok] Expecting value in '': line 1 column 1 (char 0). Retrying... (attempt 1 of 4)\n",
      "WARNING: [TikTok] Expecting value in '': line 1 column 1 (char 0). Retrying... (attempt 2 of 4)\n",
      "WARNING: [TikTok] Expecting value in '': line 1 column 1 (char 0). Retrying... (attempt 3 of 4)\n",
      "WARNING: [TikTok] 7063134455342337326: Failed to parse JSON (caused by JSONDecodeError(\"Expecting value in '': line 1 column 1 (char 0)\")); trying with webpage\n"
     ]
    },
    {
     "name": "stdout",
     "output_type": "stream",
     "text": [
      "                                                         \r"
     ]
    },
    {
     "name": "stderr",
     "output_type": "stream",
     "text": [
      "Downloading videos:  15%|█▍        | 44/300 [02:53<14:09,  3.32s/it]"
     ]
    },
    {
     "name": "stdout",
     "output_type": "stream",
     "text": [
      "Downloading https://tiktok.com/@ariellebrimhall/video/7063093774997736751\n"
     ]
    },
    {
     "name": "stderr",
     "output_type": "stream",
     "text": [
      "WARNING: [TikTok] Expecting value in '': line 1 column 1 (char 0). Retrying... (attempt 1 of 4)\n",
      "WARNING: [TikTok] Expecting value in '': line 1 column 1 (char 0). Retrying... (attempt 2 of 4)\n",
      "WARNING: [TikTok] Expecting value in '': line 1 column 1 (char 0). Retrying... (attempt 3 of 4)\n",
      "WARNING: [TikTok] 7063093774997736751: Failed to parse JSON (caused by JSONDecodeError(\"Expecting value in '': line 1 column 1 (char 0)\")); trying with webpage\n"
     ]
    },
    {
     "name": "stdout",
     "output_type": "stream",
     "text": [
      "                                                           \r"
     ]
    },
    {
     "name": "stderr",
     "output_type": "stream",
     "text": [
      "Downloading videos:  15%|█▌        | 45/300 [02:56<13:25,  3.16s/it]"
     ]
    },
    {
     "name": "stdout",
     "output_type": "stream",
     "text": [
      "Downloading https://tiktok.com/@ariellebrimhall/video/7062480895244078383\n"
     ]
    },
    {
     "name": "stderr",
     "output_type": "stream",
     "text": [
      "WARNING: [TikTok] Expecting value in '': line 1 column 1 (char 0). Retrying... (attempt 1 of 4)\n",
      "WARNING: [TikTok] Expecting value in '': line 1 column 1 (char 0). Retrying... (attempt 2 of 4)\n",
      "WARNING: [TikTok] Expecting value in '': line 1 column 1 (char 0). Retrying... (attempt 3 of 4)\n",
      "WARNING: [TikTok] 7062480895244078383: Failed to parse JSON (caused by JSONDecodeError(\"Expecting value in '': line 1 column 1 (char 0)\")); trying with webpage\n"
     ]
    },
    {
     "name": "stdout",
     "output_type": "stream",
     "text": [
      "                                                         \r"
     ]
    },
    {
     "name": "stderr",
     "output_type": "stream",
     "text": [
      "Downloading videos:  15%|█▌        | 46/300 [03:03<18:03,  4.26s/it]"
     ]
    },
    {
     "name": "stdout",
     "output_type": "stream",
     "text": [
      "Downloading https://tiktok.com/@ariellebrimhall/video/7062449198142344495\n"
     ]
    },
    {
     "name": "stderr",
     "output_type": "stream",
     "text": [
      "WARNING: [TikTok] Expecting value in '': line 1 column 1 (char 0). Retrying... (attempt 1 of 4)\n",
      "WARNING: [TikTok] Expecting value in '': line 1 column 1 (char 0). Retrying... (attempt 2 of 4)\n",
      "WARNING: [TikTok] Expecting value in '': line 1 column 1 (char 0). Retrying... (attempt 3 of 4)\n",
      "WARNING: [TikTok] 7062449198142344495: Failed to parse JSON (caused by JSONDecodeError(\"Expecting value in '': line 1 column 1 (char 0)\")); trying with webpage\n",
      "ERROR: [TikTok] 7062449198142344495: Video not available, status code 100004; please report this issue on  https://github.com/yt-dlp/yt-dlp/issues?q= , filling out the appropriate issue template. Confirm you are on the latest version using  yt-dlp -U\n",
      "Downloading videos:  16%|█▌        | 47/300 [03:06<16:57,  4.02s/it]"
     ]
    },
    {
     "name": "stdout",
     "output_type": "stream",
     "text": [
      "Encountered error ERROR: [TikTok] 7062449198142344495: Video not available, status code 100004; please report this issue on  https://github.com/yt-dlp/yt-dlp/issues?q= , filling out the appropriate issue template. Confirm you are on the latest version using  yt-dlp -U when attempting to download url: https://tiktok.com/@ariellebrimhall/video/7062449198142344495\n",
      "Downloading https://tiktok.com/@ariellebrimhall/video/7061721974581808431\n"
     ]
    },
    {
     "name": "stderr",
     "output_type": "stream",
     "text": [
      "WARNING: [TikTok] Expecting value in '': line 1 column 1 (char 0). Retrying... (attempt 1 of 4)\n",
      "WARNING: [TikTok] Expecting value in '': line 1 column 1 (char 0). Retrying... (attempt 2 of 4)\n",
      "WARNING: [TikTok] Expecting value in '': line 1 column 1 (char 0). Retrying... (attempt 3 of 4)\n",
      "WARNING: [TikTok] 7061721974581808431: Failed to parse JSON (caused by JSONDecodeError(\"Expecting value in '': line 1 column 1 (char 0)\")); trying with webpage\n"
     ]
    },
    {
     "name": "stdout",
     "output_type": "stream",
     "text": [
      "                                                           \r"
     ]
    },
    {
     "name": "stderr",
     "output_type": "stream",
     "text": [
      "Downloading videos:  16%|█▌        | 48/300 [03:09<15:36,  3.72s/it]"
     ]
    },
    {
     "name": "stdout",
     "output_type": "stream",
     "text": [
      "Downloading https://tiktok.com/@ariellebrimhall/video/7061333172847414574\n"
     ]
    },
    {
     "name": "stderr",
     "output_type": "stream",
     "text": [
      "WARNING: [TikTok] Expecting value in '': line 1 column 1 (char 0). Retrying... (attempt 1 of 4)\n",
      "WARNING: [TikTok] Expecting value in '': line 1 column 1 (char 0). Retrying... (attempt 2 of 4)\n",
      "WARNING: [TikTok] Expecting value in '': line 1 column 1 (char 0). Retrying... (attempt 3 of 4)\n",
      "WARNING: [TikTok] 7061333172847414574: Failed to parse JSON (caused by JSONDecodeError(\"Expecting value in '': line 1 column 1 (char 0)\")); trying with webpage\n"
     ]
    },
    {
     "name": "stdout",
     "output_type": "stream",
     "text": [
      "                                                         \r"
     ]
    },
    {
     "name": "stderr",
     "output_type": "stream",
     "text": [
      "Downloading videos:  16%|█▋        | 49/300 [03:13<15:52,  3.79s/it]"
     ]
    },
    {
     "name": "stdout",
     "output_type": "stream",
     "text": [
      "Downloading https://tiktok.com/@ariellebrimhall/video/7060967790416661806\n"
     ]
    },
    {
     "name": "stderr",
     "output_type": "stream",
     "text": [
      "WARNING: [TikTok] Expecting value in '': line 1 column 1 (char 0). Retrying... (attempt 1 of 4)\n",
      "WARNING: [TikTok] Expecting value in '': line 1 column 1 (char 0). Retrying... (attempt 2 of 4)\n",
      "WARNING: [TikTok] Expecting value in '': line 1 column 1 (char 0). Retrying... (attempt 3 of 4)\n",
      "WARNING: [TikTok] 7060967790416661806: Failed to parse JSON (caused by JSONDecodeError(\"Expecting value in '': line 1 column 1 (char 0)\")); trying with webpage\n"
     ]
    },
    {
     "name": "stdout",
     "output_type": "stream",
     "text": [
      "                                                         \r"
     ]
    },
    {
     "name": "stderr",
     "output_type": "stream",
     "text": [
      "Downloading videos:  17%|█▋        | 50/300 [03:16<13:59,  3.36s/it]"
     ]
    },
    {
     "name": "stdout",
     "output_type": "stream",
     "text": [
      "Downloading https://tiktok.com/@ariellebrimhall/video/7060210590739893551\n"
     ]
    },
    {
     "name": "stderr",
     "output_type": "stream",
     "text": [
      "WARNING: [TikTok] Expecting value in '': line 1 column 1 (char 0). Retrying... (attempt 1 of 4)\n",
      "WARNING: [TikTok] Expecting value in '': line 1 column 1 (char 0). Retrying... (attempt 2 of 4)\n"
     ]
    },
    {
     "name": "stdout",
     "output_type": "stream",
     "text": [
      "                                                         \r"
     ]
    },
    {
     "name": "stderr",
     "output_type": "stream",
     "text": [
      "Downloading videos:  17%|█▋        | 51/300 [03:19<14:07,  3.40s/it]"
     ]
    },
    {
     "name": "stdout",
     "output_type": "stream",
     "text": [
      "Downloading https://tiktok.com/@ariellebrimhall/video/7060183072926584110\n"
     ]
    },
    {
     "name": "stderr",
     "output_type": "stream",
     "text": [
      "WARNING: [TikTok] Expecting value in '': line 1 column 1 (char 0). Retrying... (attempt 1 of 4)\n",
      "WARNING: [TikTok] Expecting value in '': line 1 column 1 (char 0). Retrying... (attempt 2 of 4)\n",
      "WARNING: [TikTok] Expecting value in '': line 1 column 1 (char 0). Retrying... (attempt 3 of 4)\n",
      "WARNING: [TikTok] 7060183072926584110: Failed to parse JSON (caused by JSONDecodeError(\"Expecting value in '': line 1 column 1 (char 0)\")); trying with webpage\n"
     ]
    },
    {
     "name": "stdout",
     "output_type": "stream",
     "text": [
      "                                                         \r"
     ]
    },
    {
     "name": "stderr",
     "output_type": "stream",
     "text": [
      "Downloading videos:  17%|█▋        | 52/300 [03:22<12:51,  3.11s/it]"
     ]
    },
    {
     "name": "stdout",
     "output_type": "stream",
     "text": [
      "Downloading https://tiktok.com/@ariellebrimhall/video/7060167241706327342\n"
     ]
    },
    {
     "name": "stderr",
     "output_type": "stream",
     "text": [
      "WARNING: [TikTok] Expecting value in '': line 1 column 1 (char 0). Retrying... (attempt 1 of 4)\n",
      "WARNING: [TikTok] Expecting value in '': line 1 column 1 (char 0). Retrying... (attempt 2 of 4)\n",
      "WARNING: [TikTok] Expecting value in '': line 1 column 1 (char 0). Retrying... (attempt 3 of 4)\n",
      "WARNING: [TikTok] 7060167241706327342: Failed to parse JSON (caused by JSONDecodeError(\"Expecting value in '': line 1 column 1 (char 0)\")); trying with webpage\n"
     ]
    },
    {
     "name": "stdout",
     "output_type": "stream",
     "text": [
      "                                                           \r"
     ]
    },
    {
     "name": "stderr",
     "output_type": "stream",
     "text": [
      "Downloading videos:  18%|█▊        | 53/300 [03:24<11:50,  2.88s/it]"
     ]
    },
    {
     "name": "stdout",
     "output_type": "stream",
     "text": [
      "Downloading https://tiktok.com/@ariellebrimhall/video/7059854960548220206\n"
     ]
    },
    {
     "name": "stderr",
     "output_type": "stream",
     "text": [
      "WARNING: [TikTok] Expecting value in '': line 1 column 1 (char 0). Retrying... (attempt 1 of 4)\n",
      "WARNING: [TikTok] Expecting value in '': line 1 column 1 (char 0). Retrying... (attempt 2 of 4)\n",
      "WARNING: [TikTok] Expecting value in '': line 1 column 1 (char 0). Retrying... (attempt 3 of 4)\n",
      "WARNING: [TikTok] 7059854960548220206: Failed to parse JSON (caused by JSONDecodeError(\"Expecting value in '': line 1 column 1 (char 0)\")); trying with webpage\n"
     ]
    },
    {
     "name": "stdout",
     "output_type": "stream",
     "text": [
      "                                                         \r"
     ]
    },
    {
     "name": "stderr",
     "output_type": "stream",
     "text": [
      "Downloading videos:  18%|█▊        | 54/300 [03:27<12:22,  3.02s/it]"
     ]
    },
    {
     "name": "stdout",
     "output_type": "stream",
     "text": [
      "Downloading https://tiktok.com/@ariellebrimhall/video/7059840477008481582\n"
     ]
    },
    {
     "name": "stderr",
     "output_type": "stream",
     "text": [
      "WARNING: [TikTok] Expecting value in '': line 1 column 1 (char 0). Retrying... (attempt 1 of 4)\n",
      "WARNING: [TikTok] Expecting value in '': line 1 column 1 (char 0). Retrying... (attempt 2 of 4)\n",
      "WARNING: [TikTok] Expecting value in '': line 1 column 1 (char 0). Retrying... (attempt 3 of 4)\n",
      "WARNING: [TikTok] 7059840477008481582: Failed to parse JSON (caused by JSONDecodeError(\"Expecting value in '': line 1 column 1 (char 0)\")); trying with webpage\n"
     ]
    },
    {
     "name": "stdout",
     "output_type": "stream",
     "text": [
      "                                                           \r"
     ]
    },
    {
     "name": "stderr",
     "output_type": "stream",
     "text": [
      "Downloading videos:  18%|█▊        | 55/300 [03:31<12:51,  3.15s/it]"
     ]
    },
    {
     "name": "stdout",
     "output_type": "stream",
     "text": [
      "Downloading https://tiktok.com/@ariellebrimhall/video/7059784112743386415\n"
     ]
    },
    {
     "name": "stderr",
     "output_type": "stream",
     "text": [
      "WARNING: [TikTok] Expecting value in '': line 1 column 1 (char 0). Retrying... (attempt 1 of 4)\n",
      "WARNING: [TikTok] Expecting value in '': line 1 column 1 (char 0). Retrying... (attempt 2 of 4)\n",
      "WARNING: [TikTok] Expecting value in '': line 1 column 1 (char 0). Retrying... (attempt 3 of 4)\n",
      "WARNING: [TikTok] 7059784112743386415: Failed to parse JSON (caused by JSONDecodeError(\"Expecting value in '': line 1 column 1 (char 0)\")); trying with webpage\n"
     ]
    },
    {
     "name": "stdout",
     "output_type": "stream",
     "text": [
      "                                                         \r"
     ]
    },
    {
     "name": "stderr",
     "output_type": "stream",
     "text": [
      "Downloading videos:  19%|█▊        | 56/300 [03:33<11:57,  2.94s/it]"
     ]
    },
    {
     "name": "stdout",
     "output_type": "stream",
     "text": [
      "Downloading https://tiktok.com/@ariellebrimhall/video/7059436579286240559\n"
     ]
    },
    {
     "name": "stderr",
     "output_type": "stream",
     "text": [
      "WARNING: [TikTok] Expecting value in '': line 1 column 1 (char 0). Retrying... (attempt 1 of 4)\n",
      "WARNING: [TikTok] Expecting value in '': line 1 column 1 (char 0). Retrying... (attempt 2 of 4)\n",
      "WARNING: [TikTok] Expecting value in '': line 1 column 1 (char 0). Retrying... (attempt 3 of 4)\n",
      "WARNING: [TikTok] 7059436579286240559: Failed to parse JSON (caused by JSONDecodeError(\"Expecting value in '': line 1 column 1 (char 0)\")); trying with webpage\n"
     ]
    },
    {
     "name": "stdout",
     "output_type": "stream",
     "text": [
      "                                                         \r"
     ]
    },
    {
     "name": "stderr",
     "output_type": "stream",
     "text": [
      "Downloading videos:  19%|█▉        | 57/300 [03:35<10:59,  2.71s/it]"
     ]
    },
    {
     "name": "stdout",
     "output_type": "stream",
     "text": [
      "Downloading https://tiktok.com/@ariellebrimhall/video/7059402138946145583\n"
     ]
    },
    {
     "name": "stderr",
     "output_type": "stream",
     "text": [
      "WARNING: [TikTok] Expecting value in '': line 1 column 1 (char 0). Retrying... (attempt 1 of 4)\n",
      "WARNING: [TikTok] Expecting value in '': line 1 column 1 (char 0). Retrying... (attempt 2 of 4)\n",
      "WARNING: [TikTok] Expecting value in '': line 1 column 1 (char 0). Retrying... (attempt 3 of 4)\n",
      "WARNING: [TikTok] 7059402138946145583: Failed to parse JSON (caused by JSONDecodeError(\"Expecting value in '': line 1 column 1 (char 0)\")); trying with webpage\n"
     ]
    },
    {
     "name": "stdout",
     "output_type": "stream",
     "text": [
      "                                                         \r"
     ]
    },
    {
     "name": "stderr",
     "output_type": "stream",
     "text": [
      "Downloading videos:  19%|█▉        | 58/300 [03:38<11:16,  2.79s/it]"
     ]
    },
    {
     "name": "stdout",
     "output_type": "stream",
     "text": [
      "Downloading https://tiktok.com/@ariellebrimhall/video/7058705867075521839\n"
     ]
    },
    {
     "name": "stderr",
     "output_type": "stream",
     "text": [
      "WARNING: [TikTok] Expecting value in '': line 1 column 1 (char 0). Retrying... (attempt 1 of 4)\n",
      "WARNING: [TikTok] Expecting value in '': line 1 column 1 (char 0). Retrying... (attempt 2 of 4)\n",
      "WARNING: [TikTok] Expecting value in '': line 1 column 1 (char 0). Retrying... (attempt 3 of 4)\n",
      "WARNING: [TikTok] 7058705867075521839: Failed to parse JSON (caused by JSONDecodeError(\"Expecting value in '': line 1 column 1 (char 0)\")); trying with webpage\n"
     ]
    },
    {
     "name": "stdout",
     "output_type": "stream",
     "text": [
      "                                                         \r"
     ]
    },
    {
     "name": "stderr",
     "output_type": "stream",
     "text": [
      "Downloading videos:  20%|█▉        | 59/300 [03:42<11:55,  2.97s/it]"
     ]
    },
    {
     "name": "stdout",
     "output_type": "stream",
     "text": [
      "Downloading https://tiktok.com/@ariellebrimhall/video/7058427698955341103\n"
     ]
    },
    {
     "name": "stderr",
     "output_type": "stream",
     "text": [
      "WARNING: [TikTok] Expecting value in '': line 1 column 1 (char 0). Retrying... (attempt 1 of 4)\n",
      "WARNING: [TikTok] Expecting value in '': line 1 column 1 (char 0). Retrying... (attempt 2 of 4)\n",
      "WARNING: [TikTok] Expecting value in '': line 1 column 1 (char 0). Retrying... (attempt 3 of 4)\n",
      "WARNING: [TikTok] 7058427698955341103: Failed to parse JSON (caused by JSONDecodeError(\"Expecting value in '': line 1 column 1 (char 0)\")); trying with webpage\n"
     ]
    },
    {
     "name": "stdout",
     "output_type": "stream",
     "text": [
      "                                                           \r"
     ]
    },
    {
     "name": "stderr",
     "output_type": "stream",
     "text": [
      "Downloading videos:  20%|██        | 60/300 [03:45<12:27,  3.11s/it]"
     ]
    },
    {
     "name": "stdout",
     "output_type": "stream",
     "text": [
      "Downloading https://tiktok.com/@ariellebrimhall/video/7058408433300704559\n"
     ]
    },
    {
     "name": "stderr",
     "output_type": "stream",
     "text": [
      "WARNING: [TikTok] Expecting value in '': line 1 column 1 (char 0). Retrying... (attempt 1 of 4)\n",
      "WARNING: [TikTok] Expecting value in '': line 1 column 1 (char 0). Retrying... (attempt 2 of 4)\n",
      "WARNING: [TikTok] Expecting value in '': line 1 column 1 (char 0). Retrying... (attempt 3 of 4)\n",
      "WARNING: [TikTok] 7058408433300704559: Failed to parse JSON (caused by JSONDecodeError(\"Expecting value in '': line 1 column 1 (char 0)\")); trying with webpage\n"
     ]
    },
    {
     "name": "stdout",
     "output_type": "stream",
     "text": [
      "                                                         \r"
     ]
    },
    {
     "name": "stderr",
     "output_type": "stream",
     "text": [
      "Downloading videos:  20%|██        | 61/300 [03:51<15:23,  3.87s/it]"
     ]
    },
    {
     "name": "stdout",
     "output_type": "stream",
     "text": [
      "Downloading https://tiktok.com/@ariellebrimhall/video/7058392511701601582\n"
     ]
    },
    {
     "name": "stderr",
     "output_type": "stream",
     "text": [
      "WARNING: [TikTok] Expecting value in '': line 1 column 1 (char 0). Retrying... (attempt 1 of 4)\n",
      "WARNING: [TikTok] Expecting value in '': line 1 column 1 (char 0). Retrying... (attempt 2 of 4)\n",
      "WARNING: [TikTok] Expecting value in '': line 1 column 1 (char 0). Retrying... (attempt 3 of 4)\n",
      "WARNING: [TikTok] 7058392511701601582: Failed to parse JSON (caused by JSONDecodeError(\"Expecting value in '': line 1 column 1 (char 0)\")); trying with webpage\n"
     ]
    },
    {
     "name": "stdout",
     "output_type": "stream",
     "text": [
      "                                                         \r"
     ]
    },
    {
     "name": "stderr",
     "output_type": "stream",
     "text": [
      "Downloading videos:  21%|██        | 62/300 [03:53<13:38,  3.44s/it]"
     ]
    },
    {
     "name": "stdout",
     "output_type": "stream",
     "text": [
      "Downloading https://tiktok.com/@ariellebrimhall/video/7058373035212115246\n"
     ]
    },
    {
     "name": "stderr",
     "output_type": "stream",
     "text": [
      "WARNING: [TikTok] Expecting value in '': line 1 column 1 (char 0). Retrying... (attempt 1 of 4)\n",
      "WARNING: [TikTok] Expecting value in '': line 1 column 1 (char 0). Retrying... (attempt 2 of 4)\n",
      "WARNING: [TikTok] Expecting value in '': line 1 column 1 (char 0). Retrying... (attempt 3 of 4)\n",
      "WARNING: [TikTok] 7058373035212115246: Failed to parse JSON (caused by JSONDecodeError(\"Expecting value in '': line 1 column 1 (char 0)\")); trying with webpage\n"
     ]
    },
    {
     "name": "stdout",
     "output_type": "stream",
     "text": [
      "                                                         \r"
     ]
    },
    {
     "name": "stderr",
     "output_type": "stream",
     "text": [
      "Downloading videos:  21%|██        | 63/300 [03:56<13:10,  3.34s/it]"
     ]
    },
    {
     "name": "stdout",
     "output_type": "stream",
     "text": [
      "Downloading https://tiktok.com/@ariellebrimhall/video/7058357972677774639\n"
     ]
    },
    {
     "name": "stderr",
     "output_type": "stream",
     "text": [
      "WARNING: [TikTok] Expecting value in '': line 1 column 1 (char 0). Retrying... (attempt 1 of 4)\n",
      "WARNING: [TikTok] Expecting value in '': line 1 column 1 (char 0). Retrying... (attempt 2 of 4)\n",
      "WARNING: [TikTok] Expecting value in '': line 1 column 1 (char 0). Retrying... (attempt 3 of 4)\n",
      "WARNING: [TikTok] 7058357972677774639: Failed to parse JSON (caused by JSONDecodeError(\"Expecting value in '': line 1 column 1 (char 0)\")); trying with webpage\n"
     ]
    },
    {
     "name": "stdout",
     "output_type": "stream",
     "text": [
      "                                                           \r"
     ]
    },
    {
     "name": "stderr",
     "output_type": "stream",
     "text": [
      "Downloading videos:  21%|██▏       | 64/300 [04:00<13:10,  3.35s/it]"
     ]
    },
    {
     "name": "stdout",
     "output_type": "stream",
     "text": [
      "Downloading https://tiktok.com/@ariellebrimhall/video/7058032202130705711\n"
     ]
    },
    {
     "name": "stderr",
     "output_type": "stream",
     "text": [
      "WARNING: [TikTok] Expecting value in '': line 1 column 1 (char 0). Retrying... (attempt 1 of 4)\n",
      "WARNING: [TikTok] Expecting value in '': line 1 column 1 (char 0). Retrying... (attempt 2 of 4)\n",
      "WARNING: [TikTok] Expecting value in '': line 1 column 1 (char 0). Retrying... (attempt 3 of 4)\n",
      "WARNING: [TikTok] 7058032202130705711: Failed to parse JSON (caused by JSONDecodeError(\"Expecting value in '': line 1 column 1 (char 0)\")); trying with webpage\n"
     ]
    },
    {
     "name": "stdout",
     "output_type": "stream",
     "text": [
      "                                                         \r"
     ]
    },
    {
     "name": "stderr",
     "output_type": "stream",
     "text": [
      "Downloading videos:  22%|██▏       | 65/300 [04:02<12:18,  3.14s/it]"
     ]
    },
    {
     "name": "stdout",
     "output_type": "stream",
     "text": [
      "Downloading https://tiktok.com/@ariellebrimhall/video/7025019064204479750\n"
     ]
    },
    {
     "name": "stderr",
     "output_type": "stream",
     "text": [
      "WARNING: [TikTok] Expecting value in '': line 1 column 1 (char 0). Retrying... (attempt 1 of 4)\n",
      "WARNING: [TikTok] Expecting value in '': line 1 column 1 (char 0). Retrying... (attempt 2 of 4)\n",
      "WARNING: [TikTok] Expecting value in '': line 1 column 1 (char 0). Retrying... (attempt 3 of 4)\n",
      "WARNING: [TikTok] 7025019064204479750: Failed to parse JSON (caused by JSONDecodeError(\"Expecting value in '': line 1 column 1 (char 0)\")); trying with webpage\n"
     ]
    },
    {
     "name": "stdout",
     "output_type": "stream",
     "text": [
      "                                                         \r"
     ]
    },
    {
     "name": "stderr",
     "output_type": "stream",
     "text": [
      "Downloading videos:  22%|██▏       | 66/300 [04:05<12:03,  3.09s/it]"
     ]
    },
    {
     "name": "stdout",
     "output_type": "stream",
     "text": [
      "Downloading https://tiktok.com/@ariellebrimhall/video/7024567074336935214\n"
     ]
    },
    {
     "name": "stderr",
     "output_type": "stream",
     "text": [
      "WARNING: [TikTok] Expecting value in '': line 1 column 1 (char 0). Retrying... (attempt 1 of 4)\n",
      "WARNING: [TikTok] Expecting value in '': line 1 column 1 (char 0). Retrying... (attempt 2 of 4)\n",
      "WARNING: [TikTok] Expecting value in '': line 1 column 1 (char 0). Retrying... (attempt 3 of 4)\n",
      "WARNING: [TikTok] 7024567074336935214: Failed to parse JSON (caused by JSONDecodeError(\"Expecting value in '': line 1 column 1 (char 0)\")); trying with webpage\n"
     ]
    },
    {
     "name": "stdout",
     "output_type": "stream",
     "text": [
      "                                                         \r"
     ]
    },
    {
     "name": "stderr",
     "output_type": "stream",
     "text": [
      "Downloading videos:  22%|██▏       | 67/300 [04:08<11:41,  3.01s/it]"
     ]
    },
    {
     "name": "stdout",
     "output_type": "stream",
     "text": [
      "Downloading https://tiktok.com/@ariellebrimhall/video/7023454778252430598\n"
     ]
    },
    {
     "name": "stderr",
     "output_type": "stream",
     "text": [
      "WARNING: [TikTok] Expecting value in '': line 1 column 1 (char 0). Retrying... (attempt 1 of 4)\n",
      "WARNING: [TikTok] Expecting value in '': line 1 column 1 (char 0). Retrying... (attempt 2 of 4)\n",
      "WARNING: [TikTok] Expecting value in '': line 1 column 1 (char 0). Retrying... (attempt 3 of 4)\n",
      "WARNING: [TikTok] 7023454778252430598: Failed to parse JSON (caused by JSONDecodeError(\"Expecting value in '': line 1 column 1 (char 0)\")); trying with webpage\n"
     ]
    },
    {
     "name": "stdout",
     "output_type": "stream",
     "text": [
      "                                                           \r"
     ]
    },
    {
     "name": "stderr",
     "output_type": "stream",
     "text": [
      "Downloading videos:  23%|██▎       | 68/300 [04:11<11:09,  2.89s/it]"
     ]
    },
    {
     "name": "stdout",
     "output_type": "stream",
     "text": [
      "Downloading https://tiktok.com/@ariellebrimhall/video/7021951860172950790\n"
     ]
    },
    {
     "name": "stderr",
     "output_type": "stream",
     "text": [
      "WARNING: [TikTok] Expecting value in '': line 1 column 1 (char 0). Retrying... (attempt 1 of 4)\n",
      "WARNING: [TikTok] Expecting value in '': line 1 column 1 (char 0). Retrying... (attempt 2 of 4)\n",
      "WARNING: [TikTok] Expecting value in '': line 1 column 1 (char 0). Retrying... (attempt 3 of 4)\n",
      "WARNING: [TikTok] 7021951860172950790: Failed to parse JSON (caused by JSONDecodeError(\"Expecting value in '': line 1 column 1 (char 0)\")); trying with webpage\n"
     ]
    },
    {
     "name": "stdout",
     "output_type": "stream",
     "text": [
      "                                                         \r"
     ]
    },
    {
     "name": "stderr",
     "output_type": "stream",
     "text": [
      "Downloading videos:  23%|██▎       | 69/300 [04:13<10:45,  2.79s/it]"
     ]
    },
    {
     "name": "stdout",
     "output_type": "stream",
     "text": [
      "Downloading https://tiktok.com/@ariellebrimhall/video/7021949435710131462\n"
     ]
    },
    {
     "name": "stderr",
     "output_type": "stream",
     "text": [
      "WARNING: [TikTok] Expecting value in '': line 1 column 1 (char 0). Retrying... (attempt 1 of 4)\n",
      "WARNING: [TikTok] Expecting value in '': line 1 column 1 (char 0). Retrying... (attempt 2 of 4)\n",
      "WARNING: [TikTok] Expecting value in '': line 1 column 1 (char 0). Retrying... (attempt 3 of 4)\n",
      "WARNING: [TikTok] 7021949435710131462: Failed to parse JSON (caused by JSONDecodeError(\"Expecting value in '': line 1 column 1 (char 0)\")); trying with webpage\n"
     ]
    },
    {
     "name": "stdout",
     "output_type": "stream",
     "text": [
      "                                                         \r"
     ]
    },
    {
     "name": "stderr",
     "output_type": "stream",
     "text": [
      "Downloading videos:  23%|██▎       | 70/300 [04:18<12:26,  3.24s/it]"
     ]
    },
    {
     "name": "stdout",
     "output_type": "stream",
     "text": [
      "Downloading https://tiktok.com/@ariellebrimhall/video/7020867857890233605\n"
     ]
    },
    {
     "name": "stderr",
     "output_type": "stream",
     "text": [
      "WARNING: [TikTok] Expecting value in '': line 1 column 1 (char 0). Retrying... (attempt 1 of 4)\n",
      "WARNING: [TikTok] Expecting value in '': line 1 column 1 (char 0). Retrying... (attempt 2 of 4)\n",
      "WARNING: [TikTok] Expecting value in '': line 1 column 1 (char 0). Retrying... (attempt 3 of 4)\n",
      "WARNING: [TikTok] 7020867857890233605: Failed to parse JSON (caused by JSONDecodeError(\"Expecting value in '': line 1 column 1 (char 0)\")); trying with webpage\n"
     ]
    },
    {
     "name": "stdout",
     "output_type": "stream",
     "text": [
      "                                                           \r"
     ]
    },
    {
     "name": "stderr",
     "output_type": "stream",
     "text": [
      "Downloading videos:  24%|██▎       | 71/300 [04:20<11:49,  3.10s/it]"
     ]
    },
    {
     "name": "stdout",
     "output_type": "stream",
     "text": [
      "Downloading https://tiktok.com/@ariellebrimhall/video/7018659284007357701\n"
     ]
    },
    {
     "name": "stderr",
     "output_type": "stream",
     "text": [
      "WARNING: [TikTok] Expecting value in '': line 1 column 1 (char 0). Retrying... (attempt 1 of 4)\n",
      "WARNING: [TikTok] Expecting value in '': line 1 column 1 (char 0). Retrying... (attempt 2 of 4)\n",
      "WARNING: [TikTok] Expecting value in '': line 1 column 1 (char 0). Retrying... (attempt 3 of 4)\n",
      "WARNING: [TikTok] 7018659284007357701: Failed to parse JSON (caused by JSONDecodeError(\"Expecting value in '': line 1 column 1 (char 0)\")); trying with webpage\n"
     ]
    },
    {
     "name": "stdout",
     "output_type": "stream",
     "text": [
      "                                                           \r"
     ]
    },
    {
     "name": "stderr",
     "output_type": "stream",
     "text": [
      "Downloading videos:  24%|██▍       | 72/300 [04:25<13:12,  3.48s/it]"
     ]
    },
    {
     "name": "stdout",
     "output_type": "stream",
     "text": [
      "Downloading https://tiktok.com/@ariellebrimhall/video/7018239827199954182\n"
     ]
    },
    {
     "name": "stderr",
     "output_type": "stream",
     "text": [
      "WARNING: [TikTok] Expecting value in '': line 1 column 1 (char 0). Retrying... (attempt 1 of 4)\n",
      "WARNING: [TikTok] Expecting value in '': line 1 column 1 (char 0). Retrying... (attempt 2 of 4)\n",
      "WARNING: [TikTok] Expecting value in '': line 1 column 1 (char 0). Retrying... (attempt 3 of 4)\n",
      "WARNING: [TikTok] 7018239827199954182: Failed to parse JSON (caused by JSONDecodeError(\"Expecting value in '': line 1 column 1 (char 0)\")); trying with webpage\n"
     ]
    },
    {
     "name": "stdout",
     "output_type": "stream",
     "text": [
      "                                                         \r"
     ]
    },
    {
     "name": "stderr",
     "output_type": "stream",
     "text": [
      "Downloading videos:  24%|██▍       | 73/300 [04:28<12:31,  3.31s/it]"
     ]
    },
    {
     "name": "stdout",
     "output_type": "stream",
     "text": [
      "Downloading https://tiktok.com/@ariellebrimhall/video/7017839482510626054\n"
     ]
    },
    {
     "name": "stderr",
     "output_type": "stream",
     "text": [
      "WARNING: [TikTok] Expecting value in '': line 1 column 1 (char 0). Retrying... (attempt 1 of 4)\n",
      "WARNING: [TikTok] Expecting value in '': line 1 column 1 (char 0). Retrying... (attempt 2 of 4)\n",
      "WARNING: [TikTok] Expecting value in '': line 1 column 1 (char 0). Retrying... (attempt 3 of 4)\n",
      "WARNING: [TikTok] 7017839482510626054: Failed to parse JSON (caused by JSONDecodeError(\"Expecting value in '': line 1 column 1 (char 0)\")); trying with webpage\n"
     ]
    },
    {
     "name": "stdout",
     "output_type": "stream",
     "text": [
      "                                                           \r"
     ]
    },
    {
     "name": "stderr",
     "output_type": "stream",
     "text": [
      "Downloading videos:  25%|██▍       | 74/300 [04:31<11:57,  3.18s/it]"
     ]
    },
    {
     "name": "stdout",
     "output_type": "stream",
     "text": [
      "Downloading https://tiktok.com/@ariellebrimhall/video/7011158722026147078\n"
     ]
    },
    {
     "name": "stderr",
     "output_type": "stream",
     "text": [
      "WARNING: [TikTok] Expecting value in '': line 1 column 1 (char 0). Retrying... (attempt 1 of 4)\n",
      "WARNING: [TikTok] Expecting value in '': line 1 column 1 (char 0). Retrying... (attempt 2 of 4)\n",
      "WARNING: [TikTok] Expecting value in '': line 1 column 1 (char 0). Retrying... (attempt 3 of 4)\n",
      "WARNING: [TikTok] 7011158722026147078: Failed to parse JSON (caused by JSONDecodeError(\"Expecting value in '': line 1 column 1 (char 0)\")); trying with webpage\n"
     ]
    },
    {
     "name": "stdout",
     "output_type": "stream",
     "text": [
      "                                                           \r"
     ]
    },
    {
     "name": "stderr",
     "output_type": "stream",
     "text": [
      "Downloading videos:  25%|██▌       | 75/300 [04:33<11:23,  3.04s/it]"
     ]
    },
    {
     "name": "stdout",
     "output_type": "stream",
     "text": [
      "Downloading https://tiktok.com/@ariellebrimhall/video/7010503291587005702\n"
     ]
    },
    {
     "name": "stderr",
     "output_type": "stream",
     "text": [
      "WARNING: [TikTok] Expecting value in '': line 1 column 1 (char 0). Retrying... (attempt 1 of 4)\n",
      "WARNING: [TikTok] Expecting value in '': line 1 column 1 (char 0). Retrying... (attempt 2 of 4)\n",
      "WARNING: [TikTok] Expecting value in '': line 1 column 1 (char 0). Retrying... (attempt 3 of 4)\n",
      "WARNING: [TikTok] 7010503291587005702: Failed to parse JSON (caused by JSONDecodeError(\"Expecting value in '': line 1 column 1 (char 0)\")); trying with webpage\n"
     ]
    },
    {
     "name": "stdout",
     "output_type": "stream",
     "text": [
      "                                                           \r"
     ]
    },
    {
     "name": "stderr",
     "output_type": "stream",
     "text": [
      "Downloading videos:  25%|██▌       | 76/300 [04:36<10:51,  2.91s/it]"
     ]
    },
    {
     "name": "stdout",
     "output_type": "stream",
     "text": [
      "Downloading https://tiktok.com/@ariellebrimhall/video/7010106585552850182\n"
     ]
    },
    {
     "name": "stderr",
     "output_type": "stream",
     "text": [
      "WARNING: [TikTok] Expecting value in '': line 1 column 1 (char 0). Retrying... (attempt 1 of 4)\n",
      "WARNING: [TikTok] Expecting value in '': line 1 column 1 (char 0). Retrying... (attempt 2 of 4)\n",
      "WARNING: [TikTok] Expecting value in '': line 1 column 1 (char 0). Retrying... (attempt 3 of 4)\n",
      "WARNING: [TikTok] 7010106585552850182: Failed to parse JSON (caused by JSONDecodeError(\"Expecting value in '': line 1 column 1 (char 0)\")); trying with webpage\n"
     ]
    },
    {
     "name": "stdout",
     "output_type": "stream",
     "text": [
      "                                                           \r"
     ]
    },
    {
     "name": "stderr",
     "output_type": "stream",
     "text": [
      "Downloading videos:  26%|██▌       | 77/300 [04:39<11:17,  3.04s/it]"
     ]
    },
    {
     "name": "stdout",
     "output_type": "stream",
     "text": [
      "Downloading https://tiktok.com/@ariellebrimhall/video/7008244259828616453\n"
     ]
    },
    {
     "name": "stderr",
     "output_type": "stream",
     "text": [
      "WARNING: [TikTok] Expecting value in '': line 1 column 1 (char 0). Retrying... (attempt 1 of 4)\n",
      "WARNING: [TikTok] Expecting value in '': line 1 column 1 (char 0). Retrying... (attempt 2 of 4)\n",
      "WARNING: [TikTok] Expecting value in '': line 1 column 1 (char 0). Retrying... (attempt 3 of 4)\n",
      "WARNING: [TikTok] 7008244259828616453: Failed to parse JSON (caused by JSONDecodeError(\"Expecting value in '': line 1 column 1 (char 0)\")); trying with webpage\n"
     ]
    },
    {
     "name": "stdout",
     "output_type": "stream",
     "text": [
      "                                                         \r"
     ]
    },
    {
     "name": "stderr",
     "output_type": "stream",
     "text": [
      "Downloading videos:  26%|██▌       | 78/300 [04:42<10:55,  2.95s/it]"
     ]
    },
    {
     "name": "stdout",
     "output_type": "stream",
     "text": [
      "Downloading https://tiktok.com/@ariellebrimhall/video/7006460776642776325\n"
     ]
    },
    {
     "name": "stderr",
     "output_type": "stream",
     "text": [
      "WARNING: [TikTok] Expecting value in '': line 1 column 1 (char 0). Retrying... (attempt 1 of 4)\n",
      "WARNING: [TikTok] Expecting value in '': line 1 column 1 (char 0). Retrying... (attempt 2 of 4)\n",
      "WARNING: [TikTok] Expecting value in '': line 1 column 1 (char 0). Retrying... (attempt 3 of 4)\n",
      "WARNING: [TikTok] 7006460776642776325: Failed to parse JSON (caused by JSONDecodeError(\"Expecting value in '': line 1 column 1 (char 0)\")); trying with webpage\n"
     ]
    },
    {
     "name": "stdout",
     "output_type": "stream",
     "text": [
      "                                                         \r"
     ]
    },
    {
     "name": "stderr",
     "output_type": "stream",
     "text": [
      "Downloading videos:  26%|██▋       | 79/300 [04:45<10:46,  2.92s/it]"
     ]
    },
    {
     "name": "stdout",
     "output_type": "stream",
     "text": [
      "Downloading https://tiktok.com/@ariellebrimhall/video/7006459999228546310\n"
     ]
    },
    {
     "name": "stderr",
     "output_type": "stream",
     "text": [
      "WARNING: [TikTok] Expecting value in '': line 1 column 1 (char 0). Retrying... (attempt 1 of 4)\n",
      "WARNING: [TikTok] Expecting value in '': line 1 column 1 (char 0). Retrying... (attempt 2 of 4)\n",
      "WARNING: [TikTok] Expecting value in '': line 1 column 1 (char 0). Retrying... (attempt 3 of 4)\n",
      "WARNING: [TikTok] 7006459999228546310: Failed to parse JSON (caused by JSONDecodeError(\"Expecting value in '': line 1 column 1 (char 0)\")); trying with webpage\n"
     ]
    },
    {
     "name": "stdout",
     "output_type": "stream",
     "text": [
      "                                                           \r"
     ]
    },
    {
     "name": "stderr",
     "output_type": "stream",
     "text": [
      "Downloading videos:  27%|██▋       | 80/300 [04:49<11:55,  3.25s/it]"
     ]
    },
    {
     "name": "stdout",
     "output_type": "stream",
     "text": [
      "Downloading https://tiktok.com/@ariellebrimhall/video/7006089069109316869\n"
     ]
    },
    {
     "name": "stderr",
     "output_type": "stream",
     "text": [
      "WARNING: [TikTok] Expecting value in '': line 1 column 1 (char 0). Retrying... (attempt 1 of 4)\n",
      "WARNING: [TikTok] Expecting value in '': line 1 column 1 (char 0). Retrying... (attempt 2 of 4)\n",
      "WARNING: [TikTok] Expecting value in '': line 1 column 1 (char 0). Retrying... (attempt 3 of 4)\n",
      "WARNING: [TikTok] 7006089069109316869: Failed to parse JSON (caused by JSONDecodeError(\"Expecting value in '': line 1 column 1 (char 0)\")); trying with webpage\n"
     ]
    },
    {
     "name": "stdout",
     "output_type": "stream",
     "text": [
      "                                                           \r"
     ]
    },
    {
     "name": "stderr",
     "output_type": "stream",
     "text": [
      "Downloading videos:  27%|██▋       | 81/300 [04:52<11:25,  3.13s/it]"
     ]
    },
    {
     "name": "stdout",
     "output_type": "stream",
     "text": [
      "Downloading https://tiktok.com/@ariellebrimhall/video/7005952915265441030\n"
     ]
    },
    {
     "name": "stderr",
     "output_type": "stream",
     "text": [
      "WARNING: [TikTok] Expecting value in '': line 1 column 1 (char 0). Retrying... (attempt 1 of 4)\n",
      "WARNING: [TikTok] Expecting value in '': line 1 column 1 (char 0). Retrying... (attempt 2 of 4)\n",
      "WARNING: [TikTok] Expecting value in '': line 1 column 1 (char 0). Retrying... (attempt 3 of 4)\n",
      "WARNING: [TikTok] 7005952915265441030: Failed to parse JSON (caused by JSONDecodeError(\"Expecting value in '': line 1 column 1 (char 0)\")); trying with webpage\n"
     ]
    },
    {
     "name": "stdout",
     "output_type": "stream",
     "text": [
      "                                                           \r"
     ]
    },
    {
     "name": "stderr",
     "output_type": "stream",
     "text": [
      "Downloading videos:  27%|██▋       | 82/300 [04:55<11:47,  3.24s/it]"
     ]
    },
    {
     "name": "stdout",
     "output_type": "stream",
     "text": [
      "Downloading https://tiktok.com/@ariellebrimhall/video/7005718716868594950\n"
     ]
    },
    {
     "name": "stderr",
     "output_type": "stream",
     "text": [
      "WARNING: [TikTok] Expecting value in '': line 1 column 1 (char 0). Retrying... (attempt 1 of 4)\n",
      "WARNING: [TikTok] Expecting value in '': line 1 column 1 (char 0). Retrying... (attempt 2 of 4)\n",
      "WARNING: [TikTok] Expecting value in '': line 1 column 1 (char 0). Retrying... (attempt 3 of 4)\n",
      "WARNING: [TikTok] 7005718716868594950: Failed to parse JSON (caused by JSONDecodeError(\"Expecting value in '': line 1 column 1 (char 0)\")); trying with webpage\n"
     ]
    },
    {
     "name": "stdout",
     "output_type": "stream",
     "text": [
      "                                                         \r"
     ]
    },
    {
     "name": "stderr",
     "output_type": "stream",
     "text": [
      "Downloading videos:  28%|██▊       | 83/300 [04:58<10:49,  2.99s/it]"
     ]
    },
    {
     "name": "stdout",
     "output_type": "stream",
     "text": [
      "Downloading https://tiktok.com/@ariellebrimhall/video/7005574277407722757\n"
     ]
    },
    {
     "name": "stderr",
     "output_type": "stream",
     "text": [
      "WARNING: [TikTok] Expecting value in '': line 1 column 1 (char 0). Retrying... (attempt 1 of 4)\n",
      "WARNING: [TikTok] Expecting value in '': line 1 column 1 (char 0). Retrying... (attempt 2 of 4)\n",
      "WARNING: [TikTok] Expecting value in '': line 1 column 1 (char 0). Retrying... (attempt 3 of 4)\n",
      "WARNING: [TikTok] 7005574277407722757: Failed to parse JSON (caused by JSONDecodeError(\"Expecting value in '': line 1 column 1 (char 0)\")); trying with webpage\n"
     ]
    },
    {
     "name": "stdout",
     "output_type": "stream",
     "text": [
      "                                                         \r"
     ]
    },
    {
     "name": "stderr",
     "output_type": "stream",
     "text": [
      "Downloading videos:  28%|██▊       | 84/300 [05:00<10:24,  2.89s/it]"
     ]
    },
    {
     "name": "stdout",
     "output_type": "stream",
     "text": [
      "Downloading https://tiktok.com/@ariellebrimhall/video/7003802720087952646\n"
     ]
    },
    {
     "name": "stderr",
     "output_type": "stream",
     "text": [
      "WARNING: [TikTok] Expecting value in '': line 1 column 1 (char 0). Retrying... (attempt 1 of 4)\n",
      "WARNING: [TikTok] Expecting value in '': line 1 column 1 (char 0). Retrying... (attempt 2 of 4)\n",
      "WARNING: [TikTok] Expecting value in '': line 1 column 1 (char 0). Retrying... (attempt 3 of 4)\n",
      "WARNING: [TikTok] 7003802720087952646: Failed to parse JSON (caused by JSONDecodeError(\"Expecting value in '': line 1 column 1 (char 0)\")); trying with webpage\n"
     ]
    },
    {
     "name": "stdout",
     "output_type": "stream",
     "text": [
      "                                                         \r"
     ]
    },
    {
     "name": "stderr",
     "output_type": "stream",
     "text": [
      "Downloading videos:  28%|██▊       | 85/300 [05:03<10:20,  2.89s/it]"
     ]
    },
    {
     "name": "stdout",
     "output_type": "stream",
     "text": [
      "Downloading https://tiktok.com/@ariellebrimhall/video/7003380743283952901\n"
     ]
    },
    {
     "name": "stderr",
     "output_type": "stream",
     "text": [
      "WARNING: [TikTok] Expecting value in '': line 1 column 1 (char 0). Retrying... (attempt 1 of 4)\n",
      "WARNING: [TikTok] Expecting value in '': line 1 column 1 (char 0). Retrying... (attempt 2 of 4)\n",
      "WARNING: [TikTok] Expecting value in '': line 1 column 1 (char 0). Retrying... (attempt 3 of 4)\n",
      "WARNING: [TikTok] 7003380743283952901: Failed to parse JSON (caused by JSONDecodeError(\"Expecting value in '': line 1 column 1 (char 0)\")); trying with webpage\n"
     ]
    },
    {
     "name": "stdout",
     "output_type": "stream",
     "text": [
      "                                                           \r"
     ]
    },
    {
     "name": "stderr",
     "output_type": "stream",
     "text": [
      "Downloading videos:  29%|██▊       | 86/300 [05:06<10:19,  2.89s/it]"
     ]
    },
    {
     "name": "stdout",
     "output_type": "stream",
     "text": [
      "Downloading https://tiktok.com/@ariellebrimhall/video/7002984279663824133\n"
     ]
    },
    {
     "name": "stderr",
     "output_type": "stream",
     "text": [
      "WARNING: [TikTok] Expecting value in '': line 1 column 1 (char 0). Retrying... (attempt 1 of 4)\n",
      "WARNING: [TikTok] Expecting value in '': line 1 column 1 (char 0). Retrying... (attempt 2 of 4)\n",
      "WARNING: [TikTok] Expecting value in '': line 1 column 1 (char 0). Retrying... (attempt 3 of 4)\n",
      "WARNING: [TikTok] 7002984279663824133: Failed to parse JSON (caused by JSONDecodeError(\"Expecting value in '': line 1 column 1 (char 0)\")); trying with webpage\n"
     ]
    },
    {
     "name": "stdout",
     "output_type": "stream",
     "text": [
      "                                                         \r"
     ]
    },
    {
     "name": "stderr",
     "output_type": "stream",
     "text": [
      "Downloading videos:  29%|██▉       | 87/300 [05:09<09:51,  2.78s/it]"
     ]
    },
    {
     "name": "stdout",
     "output_type": "stream",
     "text": [
      "Downloading https://tiktok.com/@ariellebrimhall/video/7002653542502780165\n"
     ]
    },
    {
     "name": "stderr",
     "output_type": "stream",
     "text": [
      "WARNING: [TikTok] Expecting value in '': line 1 column 1 (char 0). Retrying... (attempt 1 of 4)\n",
      "WARNING: [TikTok] Expecting value in '': line 1 column 1 (char 0). Retrying... (attempt 2 of 4)\n",
      "WARNING: [TikTok] Expecting value in '': line 1 column 1 (char 0). Retrying... (attempt 3 of 4)\n",
      "WARNING: [TikTok] 7002653542502780165: Failed to parse JSON (caused by JSONDecodeError(\"Expecting value in '': line 1 column 1 (char 0)\")); trying with webpage\n"
     ]
    },
    {
     "name": "stdout",
     "output_type": "stream",
     "text": [
      "                                                         \r"
     ]
    },
    {
     "name": "stderr",
     "output_type": "stream",
     "text": [
      "Downloading videos:  29%|██▉       | 88/300 [05:12<10:07,  2.87s/it]"
     ]
    },
    {
     "name": "stdout",
     "output_type": "stream",
     "text": [
      "Downloading https://tiktok.com/@ariellebrimhall/video/7002636525934529797\n"
     ]
    },
    {
     "name": "stderr",
     "output_type": "stream",
     "text": [
      "WARNING: [TikTok] Expecting value in '': line 1 column 1 (char 0). Retrying... (attempt 1 of 4)\n",
      "WARNING: [TikTok] Expecting value in '': line 1 column 1 (char 0). Retrying... (attempt 2 of 4)\n",
      "WARNING: [TikTok] Expecting value in '': line 1 column 1 (char 0). Retrying... (attempt 3 of 4)\n",
      "WARNING: [TikTok] 7002636525934529797: Failed to parse JSON (caused by JSONDecodeError(\"Expecting value in '': line 1 column 1 (char 0)\")); trying with webpage\n"
     ]
    },
    {
     "name": "stdout",
     "output_type": "stream",
     "text": [
      "                                                           \r"
     ]
    },
    {
     "name": "stderr",
     "output_type": "stream",
     "text": [
      "Downloading videos:  30%|██▉       | 89/300 [05:15<10:03,  2.86s/it]"
     ]
    },
    {
     "name": "stdout",
     "output_type": "stream",
     "text": [
      "Downloading https://tiktok.com/@ariellebrimhall/video/7002609587706662149\n"
     ]
    },
    {
     "name": "stderr",
     "output_type": "stream",
     "text": [
      "WARNING: [TikTok] Expecting value in '': line 1 column 1 (char 0). Retrying... (attempt 1 of 4)\n",
      "WARNING: [TikTok] Expecting value in '': line 1 column 1 (char 0). Retrying... (attempt 2 of 4)\n",
      "WARNING: [TikTok] Expecting value in '': line 1 column 1 (char 0). Retrying... (attempt 3 of 4)\n",
      "WARNING: [TikTok] 7002609587706662149: Failed to parse JSON (caused by JSONDecodeError(\"Expecting value in '': line 1 column 1 (char 0)\")); trying with webpage\n"
     ]
    },
    {
     "name": "stdout",
     "output_type": "stream",
     "text": [
      "                                                           \r"
     ]
    },
    {
     "name": "stderr",
     "output_type": "stream",
     "text": [
      "Downloading videos:  30%|███       | 90/300 [05:17<09:43,  2.78s/it]"
     ]
    },
    {
     "name": "stdout",
     "output_type": "stream",
     "text": [
      "Downloading https://tiktok.com/@ariellebrimhall/video/7000095243072703750\n"
     ]
    },
    {
     "name": "stderr",
     "output_type": "stream",
     "text": [
      "WARNING: [TikTok] Expecting value in '': line 1 column 1 (char 0). Retrying... (attempt 1 of 4)\n",
      "WARNING: [TikTok] Expecting value in '': line 1 column 1 (char 0). Retrying... (attempt 2 of 4)\n",
      "WARNING: [TikTok] Expecting value in '': line 1 column 1 (char 0). Retrying... (attempt 3 of 4)\n",
      "WARNING: [TikTok] 7000095243072703750: Failed to parse JSON (caused by JSONDecodeError(\"Expecting value in '': line 1 column 1 (char 0)\")); trying with webpage\n"
     ]
    },
    {
     "name": "stdout",
     "output_type": "stream",
     "text": [
      "                                                         \r"
     ]
    },
    {
     "name": "stderr",
     "output_type": "stream",
     "text": [
      "Downloading videos:  30%|███       | 91/300 [05:20<10:00,  2.87s/it]"
     ]
    },
    {
     "name": "stdout",
     "output_type": "stream",
     "text": [
      "Downloading https://tiktok.com/@ariellebrimhall/video/6997816065908854022\n"
     ]
    },
    {
     "name": "stderr",
     "output_type": "stream",
     "text": [
      "WARNING: [TikTok] Expecting value in '': line 1 column 1 (char 0). Retrying... (attempt 1 of 4)\n",
      "WARNING: [TikTok] Expecting value in '': line 1 column 1 (char 0). Retrying... (attempt 2 of 4)\n",
      "WARNING: [TikTok] Expecting value in '': line 1 column 1 (char 0). Retrying... (attempt 3 of 4)\n",
      "WARNING: [TikTok] 6997816065908854022: Failed to parse JSON (caused by JSONDecodeError(\"Expecting value in '': line 1 column 1 (char 0)\")); trying with webpage\n"
     ]
    },
    {
     "name": "stdout",
     "output_type": "stream",
     "text": [
      "                                                           \r"
     ]
    },
    {
     "name": "stderr",
     "output_type": "stream",
     "text": [
      "Downloading videos:  31%|███       | 92/300 [05:23<10:00,  2.89s/it]"
     ]
    },
    {
     "name": "stdout",
     "output_type": "stream",
     "text": [
      "Downloading https://tiktok.com/@ariellebrimhall/video/6995559888814476549\n"
     ]
    },
    {
     "name": "stderr",
     "output_type": "stream",
     "text": [
      "WARNING: [TikTok] Expecting value in '': line 1 column 1 (char 0). Retrying... (attempt 1 of 4)\n",
      "WARNING: [TikTok] Expecting value in '': line 1 column 1 (char 0). Retrying... (attempt 2 of 4)\n",
      "WARNING: [TikTok] Expecting value in '': line 1 column 1 (char 0). Retrying... (attempt 3 of 4)\n",
      "WARNING: [TikTok] 6995559888814476549: Failed to parse JSON (caused by JSONDecodeError(\"Expecting value in '': line 1 column 1 (char 0)\")); trying with webpage\n"
     ]
    },
    {
     "name": "stdout",
     "output_type": "stream",
     "text": [
      "                                                           \r"
     ]
    },
    {
     "name": "stderr",
     "output_type": "stream",
     "text": [
      "Downloading videos:  31%|███       | 93/300 [05:30<13:41,  3.97s/it]"
     ]
    },
    {
     "name": "stdout",
     "output_type": "stream",
     "text": [
      "Downloading https://tiktok.com/@ariellebrimhall/video/6993436870273289477\n"
     ]
    },
    {
     "name": "stderr",
     "output_type": "stream",
     "text": [
      "WARNING: [TikTok] Expecting value in '': line 1 column 1 (char 0). Retrying... (attempt 1 of 4)\n",
      "WARNING: [TikTok] Expecting value in '': line 1 column 1 (char 0). Retrying... (attempt 2 of 4)\n",
      "WARNING: [TikTok] Expecting value in '': line 1 column 1 (char 0). Retrying... (attempt 3 of 4)\n",
      "WARNING: [TikTok] 6993436870273289477: Failed to parse JSON (caused by JSONDecodeError(\"Expecting value in '': line 1 column 1 (char 0)\")); trying with webpage\n"
     ]
    },
    {
     "name": "stdout",
     "output_type": "stream",
     "text": [
      "                                                           \r"
     ]
    },
    {
     "name": "stderr",
     "output_type": "stream",
     "text": [
      "Downloading videos:  31%|███▏      | 94/300 [05:33<12:57,  3.77s/it]"
     ]
    },
    {
     "name": "stdout",
     "output_type": "stream",
     "text": [
      "Downloading https://tiktok.com/@ariellebrimhall/video/6993317429069745413\n"
     ]
    },
    {
     "name": "stderr",
     "output_type": "stream",
     "text": [
      "WARNING: [TikTok] Expecting value in '': line 1 column 1 (char 0). Retrying... (attempt 1 of 4)\n",
      "WARNING: [TikTok] Expecting value in '': line 1 column 1 (char 0). Retrying... (attempt 2 of 4)\n",
      "WARNING: [TikTok] Expecting value in '': line 1 column 1 (char 0). Retrying... (attempt 3 of 4)\n",
      "WARNING: [TikTok] 6993317429069745413: Failed to parse JSON (caused by JSONDecodeError(\"Expecting value in '': line 1 column 1 (char 0)\")); trying with webpage\n"
     ]
    },
    {
     "name": "stdout",
     "output_type": "stream",
     "text": [
      "                                                         \r"
     ]
    },
    {
     "name": "stderr",
     "output_type": "stream",
     "text": [
      "Downloading videos:  32%|███▏      | 95/300 [05:35<11:11,  3.28s/it]"
     ]
    },
    {
     "name": "stdout",
     "output_type": "stream",
     "text": [
      "Downloading https://tiktok.com/@ariellebrimhall/video/6993127552210488581\n"
     ]
    },
    {
     "name": "stderr",
     "output_type": "stream",
     "text": [
      "WARNING: [TikTok] Expecting value in '': line 1 column 1 (char 0). Retrying... (attempt 1 of 4)\n",
      "WARNING: [TikTok] Expecting value in '': line 1 column 1 (char 0). Retrying... (attempt 2 of 4)\n",
      "WARNING: [TikTok] Expecting value in '': line 1 column 1 (char 0). Retrying... (attempt 3 of 4)\n",
      "WARNING: [TikTok] 6993127552210488581: Failed to parse JSON (caused by JSONDecodeError(\"Expecting value in '': line 1 column 1 (char 0)\")); trying with webpage\n"
     ]
    },
    {
     "name": "stdout",
     "output_type": "stream",
     "text": [
      "                                                         \r"
     ]
    },
    {
     "name": "stderr",
     "output_type": "stream",
     "text": [
      "Downloading videos:  32%|███▏      | 96/300 [05:38<10:33,  3.10s/it]"
     ]
    },
    {
     "name": "stdout",
     "output_type": "stream",
     "text": [
      "Downloading https://tiktok.com/@ariellebrimhall/video/6993090268618689797\n"
     ]
    },
    {
     "name": "stderr",
     "output_type": "stream",
     "text": [
      "WARNING: [TikTok] Expecting value in '': line 1 column 1 (char 0). Retrying... (attempt 1 of 4)\n",
      "WARNING: [TikTok] Expecting value in '': line 1 column 1 (char 0). Retrying... (attempt 2 of 4)\n",
      "WARNING: [TikTok] Expecting value in '': line 1 column 1 (char 0). Retrying... (attempt 3 of 4)\n",
      "WARNING: [TikTok] 6993090268618689797: Failed to parse JSON (caused by JSONDecodeError(\"Expecting value in '': line 1 column 1 (char 0)\")); trying with webpage\n"
     ]
    },
    {
     "name": "stdout",
     "output_type": "stream",
     "text": [
      "                                                         \r"
     ]
    },
    {
     "name": "stderr",
     "output_type": "stream",
     "text": [
      "Downloading videos:  32%|███▏      | 97/300 [05:41<10:44,  3.17s/it]"
     ]
    },
    {
     "name": "stdout",
     "output_type": "stream",
     "text": [
      "Downloading https://tiktok.com/@ariellebrimhall/video/6993012514090962182\n"
     ]
    },
    {
     "name": "stderr",
     "output_type": "stream",
     "text": [
      "WARNING: [TikTok] Expecting value in '': line 1 column 1 (char 0). Retrying... (attempt 1 of 4)\n",
      "WARNING: [TikTok] Expecting value in '': line 1 column 1 (char 0). Retrying... (attempt 2 of 4)\n",
      "WARNING: [TikTok] Expecting value in '': line 1 column 1 (char 0). Retrying... (attempt 3 of 4)\n",
      "WARNING: [TikTok] 6993012514090962182: Failed to parse JSON (caused by JSONDecodeError(\"Expecting value in '': line 1 column 1 (char 0)\")); trying with webpage\n"
     ]
    },
    {
     "name": "stdout",
     "output_type": "stream",
     "text": [
      "                                                         \r"
     ]
    },
    {
     "name": "stderr",
     "output_type": "stream",
     "text": [
      "Downloading videos:  33%|███▎      | 98/300 [05:48<14:09,  4.21s/it]"
     ]
    },
    {
     "name": "stdout",
     "output_type": "stream",
     "text": [
      "Downloading https://tiktok.com/@ariellebrimhall/video/6992256696194256134\n"
     ]
    },
    {
     "name": "stderr",
     "output_type": "stream",
     "text": [
      "WARNING: [TikTok] Expecting value in '': line 1 column 1 (char 0). Retrying... (attempt 1 of 4)\n",
      "WARNING: [TikTok] Expecting value in '': line 1 column 1 (char 0). Retrying... (attempt 2 of 4)\n",
      "WARNING: [TikTok] Expecting value in '': line 1 column 1 (char 0). Retrying... (attempt 3 of 4)\n",
      "WARNING: [TikTok] 6992256696194256134: Failed to parse JSON (caused by JSONDecodeError(\"Expecting value in '': line 1 column 1 (char 0)\")); trying with webpage\n"
     ]
    },
    {
     "name": "stdout",
     "output_type": "stream",
     "text": [
      "                                                         \r"
     ]
    },
    {
     "name": "stderr",
     "output_type": "stream",
     "text": [
      "Downloading videos:  33%|███▎      | 99/300 [05:52<13:56,  4.16s/it]"
     ]
    },
    {
     "name": "stdout",
     "output_type": "stream",
     "text": [
      "Downloading https://tiktok.com/@ariellebrimhall/video/6991920309230177542\n"
     ]
    },
    {
     "name": "stderr",
     "output_type": "stream",
     "text": [
      "WARNING: [TikTok] Expecting value in '': line 1 column 1 (char 0). Retrying... (attempt 1 of 4)\n",
      "WARNING: [TikTok] Expecting value in '': line 1 column 1 (char 0). Retrying... (attempt 2 of 4)\n",
      "WARNING: [TikTok] Expecting value in '': line 1 column 1 (char 0). Retrying... (attempt 3 of 4)\n",
      "WARNING: [TikTok] 6991920309230177542: Failed to parse JSON (caused by JSONDecodeError(\"Expecting value in '': line 1 column 1 (char 0)\")); trying with webpage\n"
     ]
    },
    {
     "name": "stdout",
     "output_type": "stream",
     "text": [
      "                                                           \r"
     ]
    },
    {
     "name": "stderr",
     "output_type": "stream",
     "text": [
      "Downloading videos:  33%|███▎      | 100/300 [05:57<14:57,  4.49s/it]"
     ]
    },
    {
     "name": "stdout",
     "output_type": "stream",
     "text": [
      "Downloading https://tiktok.com/@ariellebrimhall/video/7050233096997784838\n"
     ]
    },
    {
     "name": "stderr",
     "output_type": "stream",
     "text": [
      "WARNING: [TikTok] Expecting value in '': line 1 column 1 (char 0). Retrying... (attempt 1 of 4)\n",
      "WARNING: [TikTok] Expecting value in '': line 1 column 1 (char 0). Retrying... (attempt 2 of 4)\n",
      "WARNING: [TikTok] Expecting value in '': line 1 column 1 (char 0). Retrying... (attempt 3 of 4)\n",
      "WARNING: [TikTok] 7050233096997784838: Failed to parse JSON (caused by JSONDecodeError(\"Expecting value in '': line 1 column 1 (char 0)\")); trying with webpage\n"
     ]
    },
    {
     "name": "stdout",
     "output_type": "stream",
     "text": [
      "                                                         \r"
     ]
    },
    {
     "name": "stderr",
     "output_type": "stream",
     "text": [
      "Downloading videos:  34%|███▎      | 101/300 [05:59<12:47,  3.86s/it]"
     ]
    },
    {
     "name": "stdout",
     "output_type": "stream",
     "text": [
      "Downloading https://tiktok.com/@ariellebrimhall/video/7050185337225923846\n"
     ]
    },
    {
     "name": "stderr",
     "output_type": "stream",
     "text": [
      "WARNING: [TikTok] Expecting value in '': line 1 column 1 (char 0). Retrying... (attempt 1 of 4)\n",
      "WARNING: [TikTok] Expecting value in '': line 1 column 1 (char 0). Retrying... (attempt 2 of 4)\n",
      "WARNING: [TikTok] Expecting value in '': line 1 column 1 (char 0). Retrying... (attempt 3 of 4)\n",
      "WARNING: [TikTok] 7050185337225923846: Failed to parse JSON (caused by JSONDecodeError(\"Expecting value in '': line 1 column 1 (char 0)\")); trying with webpage\n"
     ]
    },
    {
     "name": "stdout",
     "output_type": "stream",
     "text": [
      "                                                           \r"
     ]
    },
    {
     "name": "stderr",
     "output_type": "stream",
     "text": [
      "Downloading videos:  34%|███▍      | 102/300 [06:02<11:22,  3.45s/it]"
     ]
    },
    {
     "name": "stdout",
     "output_type": "stream",
     "text": [
      "Downloading https://tiktok.com/@ariellebrimhall/video/7049493529793711406\n"
     ]
    },
    {
     "name": "stderr",
     "output_type": "stream",
     "text": [
      "WARNING: [TikTok] Expecting value in '': line 1 column 1 (char 0). Retrying... (attempt 1 of 4)\n",
      "WARNING: [TikTok] Expecting value in '': line 1 column 1 (char 0). Retrying... (attempt 2 of 4)\n",
      "WARNING: [TikTok] Expecting value in '': line 1 column 1 (char 0). Retrying... (attempt 3 of 4)\n",
      "WARNING: [TikTok] 7049493529793711406: Failed to parse JSON (caused by JSONDecodeError(\"Expecting value in '': line 1 column 1 (char 0)\")); trying with webpage\n"
     ]
    },
    {
     "name": "stdout",
     "output_type": "stream",
     "text": [
      "                                                           \r"
     ]
    },
    {
     "name": "stderr",
     "output_type": "stream",
     "text": [
      "Downloading videos:  34%|███▍      | 103/300 [06:05<10:33,  3.21s/it]"
     ]
    },
    {
     "name": "stdout",
     "output_type": "stream",
     "text": [
      "Downloading https://tiktok.com/@ariellebrimhall/video/7049471388456979759\n"
     ]
    },
    {
     "name": "stderr",
     "output_type": "stream",
     "text": [
      "WARNING: [TikTok] Expecting value in '': line 1 column 1 (char 0). Retrying... (attempt 1 of 4)\n",
      "WARNING: [TikTok] Expecting value in '': line 1 column 1 (char 0). Retrying... (attempt 2 of 4)\n",
      "WARNING: [TikTok] Expecting value in '': line 1 column 1 (char 0). Retrying... (attempt 3 of 4)\n",
      "WARNING: [TikTok] 7049471388456979759: Failed to parse JSON (caused by JSONDecodeError(\"Expecting value in '': line 1 column 1 (char 0)\")); trying with webpage\n"
     ]
    },
    {
     "name": "stdout",
     "output_type": "stream",
     "text": [
      "                                                           \r"
     ]
    },
    {
     "name": "stderr",
     "output_type": "stream",
     "text": [
      "Downloading videos:  35%|███▍      | 104/300 [06:08<10:41,  3.27s/it]"
     ]
    },
    {
     "name": "stdout",
     "output_type": "stream",
     "text": [
      "Downloading https://tiktok.com/@ariellebrimhall/video/7049110452843924782\n"
     ]
    },
    {
     "name": "stderr",
     "output_type": "stream",
     "text": [
      "WARNING: [TikTok] Expecting value in '': line 1 column 1 (char 0). Retrying... (attempt 1 of 4)\n",
      "WARNING: [TikTok] Expecting value in '': line 1 column 1 (char 0). Retrying... (attempt 2 of 4)\n",
      "WARNING: [TikTok] Expecting value in '': line 1 column 1 (char 0). Retrying... (attempt 3 of 4)\n",
      "WARNING: [TikTok] 7049110452843924782: Failed to parse JSON (caused by JSONDecodeError(\"Expecting value in '': line 1 column 1 (char 0)\")); trying with webpage\n"
     ]
    },
    {
     "name": "stdout",
     "output_type": "stream",
     "text": [
      "                                                           \r"
     ]
    },
    {
     "name": "stderr",
     "output_type": "stream",
     "text": [
      "Downloading videos:  35%|███▌      | 105/300 [06:12<11:10,  3.44s/it]"
     ]
    },
    {
     "name": "stdout",
     "output_type": "stream",
     "text": [
      "Downloading https://tiktok.com/@ariellebrimhall/video/7049080802100923694\n"
     ]
    },
    {
     "name": "stderr",
     "output_type": "stream",
     "text": [
      "WARNING: [TikTok] Expecting value in '': line 1 column 1 (char 0). Retrying... (attempt 1 of 4)\n",
      "WARNING: [TikTok] Expecting value in '': line 1 column 1 (char 0). Retrying... (attempt 2 of 4)\n",
      "WARNING: [TikTok] Expecting value in '': line 1 column 1 (char 0). Retrying... (attempt 3 of 4)\n",
      "WARNING: [TikTok] 7049080802100923694: Failed to parse JSON (caused by JSONDecodeError(\"Expecting value in '': line 1 column 1 (char 0)\")); trying with webpage\n"
     ]
    },
    {
     "name": "stdout",
     "output_type": "stream",
     "text": [
      "                                                         \r"
     ]
    },
    {
     "name": "stderr",
     "output_type": "stream",
     "text": [
      "Downloading videos:  35%|███▌      | 106/300 [06:14<10:08,  3.14s/it]"
     ]
    },
    {
     "name": "stdout",
     "output_type": "stream",
     "text": [
      "Downloading https://tiktok.com/@ariellebrimhall/video/7048721141199883566\n"
     ]
    },
    {
     "name": "stderr",
     "output_type": "stream",
     "text": [
      "WARNING: [TikTok] Expecting value in '': line 1 column 1 (char 0). Retrying... (attempt 1 of 4)\n",
      "WARNING: [TikTok] Expecting value in '': line 1 column 1 (char 0). Retrying... (attempt 2 of 4)\n",
      "WARNING: [TikTok] Expecting value in '': line 1 column 1 (char 0). Retrying... (attempt 3 of 4)\n",
      "WARNING: [TikTok] 7048721141199883566: Failed to parse JSON (caused by JSONDecodeError(\"Expecting value in '': line 1 column 1 (char 0)\")); trying with webpage\n"
     ]
    },
    {
     "name": "stdout",
     "output_type": "stream",
     "text": [
      "                                                           \r"
     ]
    },
    {
     "name": "stderr",
     "output_type": "stream",
     "text": [
      "Downloading videos:  36%|███▌      | 107/300 [06:17<09:28,  2.95s/it]"
     ]
    },
    {
     "name": "stdout",
     "output_type": "stream",
     "text": [
      "Downloading https://tiktok.com/@ariellebrimhall/video/7048699761658006831\n"
     ]
    },
    {
     "name": "stderr",
     "output_type": "stream",
     "text": [
      "WARNING: [TikTok] Expecting value in '': line 1 column 1 (char 0). Retrying... (attempt 1 of 4)\n",
      "WARNING: [TikTok] Expecting value in '': line 1 column 1 (char 0). Retrying... (attempt 2 of 4)\n",
      "WARNING: [TikTok] Expecting value in '': line 1 column 1 (char 0). Retrying... (attempt 3 of 4)\n",
      "WARNING: [TikTok] 7048699761658006831: Failed to parse JSON (caused by JSONDecodeError(\"Expecting value in '': line 1 column 1 (char 0)\")); trying with webpage\n"
     ]
    },
    {
     "name": "stdout",
     "output_type": "stream",
     "text": [
      "                                                         \r"
     ]
    },
    {
     "name": "stderr",
     "output_type": "stream",
     "text": [
      "Downloading videos:  36%|███▌      | 108/300 [06:20<09:37,  3.01s/it]"
     ]
    },
    {
     "name": "stdout",
     "output_type": "stream",
     "text": [
      "Downloading https://tiktok.com/@ariellebrimhall/video/7048686424048078127\n"
     ]
    },
    {
     "name": "stderr",
     "output_type": "stream",
     "text": [
      "WARNING: [TikTok] Expecting value in '': line 1 column 1 (char 0). Retrying... (attempt 1 of 4)\n",
      "WARNING: [TikTok] Expecting value in '': line 1 column 1 (char 0). Retrying... (attempt 2 of 4)\n",
      "WARNING: [TikTok] Expecting value in '': line 1 column 1 (char 0). Retrying... (attempt 3 of 4)\n",
      "WARNING: [TikTok] 7048686424048078127: Failed to parse JSON (caused by JSONDecodeError(\"Expecting value in '': line 1 column 1 (char 0)\")); trying with webpage\n"
     ]
    },
    {
     "name": "stdout",
     "output_type": "stream",
     "text": [
      "                                                         \r"
     ]
    },
    {
     "name": "stderr",
     "output_type": "stream",
     "text": [
      "Downloading videos:  36%|███▋      | 109/300 [06:23<09:57,  3.13s/it]"
     ]
    },
    {
     "name": "stdout",
     "output_type": "stream",
     "text": [
      "Downloading https://tiktok.com/@ariellebrimhall/video/7048395700740312367\n"
     ]
    },
    {
     "name": "stderr",
     "output_type": "stream",
     "text": [
      "WARNING: [TikTok] Expecting value in '': line 1 column 1 (char 0). Retrying... (attempt 1 of 4)\n",
      "WARNING: [TikTok] Expecting value in '': line 1 column 1 (char 0). Retrying... (attempt 2 of 4)\n",
      "WARNING: [TikTok] Expecting value in '': line 1 column 1 (char 0). Retrying... (attempt 3 of 4)\n",
      "WARNING: [TikTok] 7048395700740312367: Failed to parse JSON (caused by JSONDecodeError(\"Expecting value in '': line 1 column 1 (char 0)\")); trying with webpage\n"
     ]
    },
    {
     "name": "stdout",
     "output_type": "stream",
     "text": [
      "                                                         \r"
     ]
    },
    {
     "name": "stderr",
     "output_type": "stream",
     "text": [
      "Downloading videos:  37%|███▋      | 110/300 [06:27<10:07,  3.20s/it]"
     ]
    },
    {
     "name": "stdout",
     "output_type": "stream",
     "text": [
      "Downloading https://tiktok.com/@ariellebrimhall/video/7048337868233854255\n"
     ]
    },
    {
     "name": "stderr",
     "output_type": "stream",
     "text": [
      "WARNING: [TikTok] Expecting value in '': line 1 column 1 (char 0). Retrying... (attempt 1 of 4)\n",
      "WARNING: [TikTok] Expecting value in '': line 1 column 1 (char 0). Retrying... (attempt 2 of 4)\n",
      "WARNING: [TikTok] Expecting value in '': line 1 column 1 (char 0). Retrying... (attempt 3 of 4)\n",
      "WARNING: [TikTok] 7048337868233854255: Failed to parse JSON (caused by JSONDecodeError(\"Expecting value in '': line 1 column 1 (char 0)\")); trying with webpage\n"
     ]
    },
    {
     "name": "stdout",
     "output_type": "stream",
     "text": [
      "                                                         \r"
     ]
    },
    {
     "name": "stderr",
     "output_type": "stream",
     "text": [
      "Downloading videos:  37%|███▋      | 111/300 [06:29<09:36,  3.05s/it]"
     ]
    },
    {
     "name": "stdout",
     "output_type": "stream",
     "text": [
      "Downloading https://tiktok.com/@ariellebrimhall/video/7047997628390624559\n"
     ]
    },
    {
     "name": "stderr",
     "output_type": "stream",
     "text": [
      "WARNING: [TikTok] Expecting value in '': line 1 column 1 (char 0). Retrying... (attempt 1 of 4)\n",
      "WARNING: [TikTok] Expecting value in '': line 1 column 1 (char 0). Retrying... (attempt 2 of 4)\n",
      "WARNING: [TikTok] Expecting value in '': line 1 column 1 (char 0). Retrying... (attempt 3 of 4)\n",
      "WARNING: [TikTok] 7047997628390624559: Failed to parse JSON (caused by JSONDecodeError(\"Expecting value in '': line 1 column 1 (char 0)\")); trying with webpage\n"
     ]
    },
    {
     "name": "stdout",
     "output_type": "stream",
     "text": [
      "                                                         \r"
     ]
    },
    {
     "name": "stderr",
     "output_type": "stream",
     "text": [
      "Downloading videos:  37%|███▋      | 112/300 [06:32<09:13,  2.94s/it]"
     ]
    },
    {
     "name": "stdout",
     "output_type": "stream",
     "text": [
      "Downloading https://tiktok.com/@ariellebrimhall/video/7047670980809968942\n"
     ]
    },
    {
     "name": "stderr",
     "output_type": "stream",
     "text": [
      "WARNING: [TikTok] Expecting value in '': line 1 column 1 (char 0). Retrying... (attempt 1 of 4)\n",
      "WARNING: [TikTok] Expecting value in '': line 1 column 1 (char 0). Retrying... (attempt 2 of 4)\n",
      "WARNING: [TikTok] Expecting value in '': line 1 column 1 (char 0). Retrying... (attempt 3 of 4)\n",
      "WARNING: [TikTok] 7047670980809968942: Failed to parse JSON (caused by JSONDecodeError(\"Expecting value in '': line 1 column 1 (char 0)\")); trying with webpage\n"
     ]
    },
    {
     "name": "stdout",
     "output_type": "stream",
     "text": [
      "                                                           \r"
     ]
    },
    {
     "name": "stderr",
     "output_type": "stream",
     "text": [
      "Downloading videos:  38%|███▊      | 113/300 [06:35<09:08,  2.93s/it]"
     ]
    },
    {
     "name": "stdout",
     "output_type": "stream",
     "text": [
      "Downloading https://tiktok.com/@ariellebrimhall/video/7047558185997356335\n"
     ]
    },
    {
     "name": "stderr",
     "output_type": "stream",
     "text": [
      "WARNING: [TikTok] Expecting value in '': line 1 column 1 (char 0). Retrying... (attempt 1 of 4)\n",
      "WARNING: [TikTok] Expecting value in '': line 1 column 1 (char 0). Retrying... (attempt 2 of 4)\n",
      "WARNING: [TikTok] Expecting value in '': line 1 column 1 (char 0). Retrying... (attempt 3 of 4)\n",
      "WARNING: [TikTok] 7047558185997356335: Failed to parse JSON (caused by JSONDecodeError(\"Expecting value in '': line 1 column 1 (char 0)\")); trying with webpage\n"
     ]
    },
    {
     "name": "stdout",
     "output_type": "stream",
     "text": [
      "                                                         \r"
     ]
    },
    {
     "name": "stderr",
     "output_type": "stream",
     "text": [
      "Downloading videos:  38%|███▊      | 114/300 [06:38<08:45,  2.82s/it]"
     ]
    },
    {
     "name": "stdout",
     "output_type": "stream",
     "text": [
      "Downloading https://tiktok.com/@ariellebrimhall/video/7047292309196770606\n"
     ]
    },
    {
     "name": "stderr",
     "output_type": "stream",
     "text": [
      "WARNING: [TikTok] Expecting value in '': line 1 column 1 (char 0). Retrying... (attempt 1 of 4)\n",
      "WARNING: [TikTok] Expecting value in '': line 1 column 1 (char 0). Retrying... (attempt 2 of 4)\n",
      "WARNING: [TikTok] Expecting value in '': line 1 column 1 (char 0). Retrying... (attempt 3 of 4)\n",
      "WARNING: [TikTok] 7047292309196770606: Failed to parse JSON (caused by JSONDecodeError(\"Expecting value in '': line 1 column 1 (char 0)\")); trying with webpage\n"
     ]
    },
    {
     "name": "stdout",
     "output_type": "stream",
     "text": [
      "                                                           \r"
     ]
    },
    {
     "name": "stderr",
     "output_type": "stream",
     "text": [
      "Downloading videos:  38%|███▊      | 115/300 [06:40<08:48,  2.86s/it]"
     ]
    },
    {
     "name": "stdout",
     "output_type": "stream",
     "text": [
      "Downloading https://tiktok.com/@ariellebrimhall/video/7047214800220228911\n"
     ]
    },
    {
     "name": "stderr",
     "output_type": "stream",
     "text": [
      "WARNING: [TikTok] Expecting value in '': line 1 column 1 (char 0). Retrying... (attempt 1 of 4)\n",
      "WARNING: [TikTok] Expecting value in '': line 1 column 1 (char 0). Retrying... (attempt 2 of 4)\n",
      "WARNING: [TikTok] Expecting value in '': line 1 column 1 (char 0). Retrying... (attempt 3 of 4)\n",
      "WARNING: [TikTok] 7047214800220228911: Failed to parse JSON (caused by JSONDecodeError(\"Expecting value in '': line 1 column 1 (char 0)\")); trying with webpage\n"
     ]
    },
    {
     "name": "stdout",
     "output_type": "stream",
     "text": [
      "                                                         \r"
     ]
    },
    {
     "name": "stderr",
     "output_type": "stream",
     "text": [
      "Downloading videos:  39%|███▊      | 116/300 [06:43<08:33,  2.79s/it]"
     ]
    },
    {
     "name": "stdout",
     "output_type": "stream",
     "text": [
      "Downloading https://tiktok.com/@ariellebrimhall/video/7047173601203588398\n"
     ]
    },
    {
     "name": "stderr",
     "output_type": "stream",
     "text": [
      "WARNING: [TikTok] Expecting value in '': line 1 column 1 (char 0). Retrying... (attempt 1 of 4)\n",
      "WARNING: [TikTok] Expecting value in '': line 1 column 1 (char 0). Retrying... (attempt 2 of 4)\n",
      "WARNING: [TikTok] Expecting value in '': line 1 column 1 (char 0). Retrying... (attempt 3 of 4)\n",
      "WARNING: [TikTok] 7047173601203588398: Failed to parse JSON (caused by JSONDecodeError(\"Expecting value in '': line 1 column 1 (char 0)\")); trying with webpage\n"
     ]
    },
    {
     "name": "stdout",
     "output_type": "stream",
     "text": [
      "                                                           \r"
     ]
    },
    {
     "name": "stderr",
     "output_type": "stream",
     "text": [
      "Downloading videos:  39%|███▉      | 117/300 [06:45<08:05,  2.65s/it]"
     ]
    },
    {
     "name": "stdout",
     "output_type": "stream",
     "text": [
      "Downloading https://tiktok.com/@ariellebrimhall/video/7046955757719522607\n"
     ]
    },
    {
     "name": "stderr",
     "output_type": "stream",
     "text": [
      "WARNING: [TikTok] Expecting value in '': line 1 column 1 (char 0). Retrying... (attempt 1 of 4)\n",
      "WARNING: [TikTok] Expecting value in '': line 1 column 1 (char 0). Retrying... (attempt 2 of 4)\n",
      "WARNING: [TikTok] Expecting value in '': line 1 column 1 (char 0). Retrying... (attempt 3 of 4)\n",
      "WARNING: [TikTok] 7046955757719522607: Failed to parse JSON (caused by JSONDecodeError(\"Expecting value in '': line 1 column 1 (char 0)\")); trying with webpage\n"
     ]
    },
    {
     "name": "stdout",
     "output_type": "stream",
     "text": [
      "                                                           \r"
     ]
    },
    {
     "name": "stderr",
     "output_type": "stream",
     "text": [
      "Downloading videos:  39%|███▉      | 118/300 [06:48<08:01,  2.64s/it]"
     ]
    },
    {
     "name": "stdout",
     "output_type": "stream",
     "text": [
      "Downloading https://tiktok.com/@ariellebrimhall/video/7046878417798679854\n"
     ]
    },
    {
     "name": "stderr",
     "output_type": "stream",
     "text": [
      "WARNING: [TikTok] Expecting value in '': line 1 column 1 (char 0). Retrying... (attempt 1 of 4)\n",
      "WARNING: [TikTok] Expecting value in '': line 1 column 1 (char 0). Retrying... (attempt 2 of 4)\n",
      "WARNING: [TikTok] Expecting value in '': line 1 column 1 (char 0). Retrying... (attempt 3 of 4)\n",
      "WARNING: [TikTok] 7046878417798679854: Failed to parse JSON (caused by JSONDecodeError(\"Expecting value in '': line 1 column 1 (char 0)\")); trying with webpage\n"
     ]
    },
    {
     "name": "stdout",
     "output_type": "stream",
     "text": [
      "                                                         \r"
     ]
    },
    {
     "name": "stderr",
     "output_type": "stream",
     "text": [
      "Downloading videos:  40%|███▉      | 119/300 [06:51<07:49,  2.59s/it]"
     ]
    },
    {
     "name": "stdout",
     "output_type": "stream",
     "text": [
      "Downloading https://tiktok.com/@ariellebrimhall/video/7046813424617147695\n"
     ]
    },
    {
     "name": "stderr",
     "output_type": "stream",
     "text": [
      "WARNING: [TikTok] Expecting value in '': line 1 column 1 (char 0). Retrying... (attempt 1 of 4)\n",
      "WARNING: [TikTok] Expecting value in '': line 1 column 1 (char 0). Retrying... (attempt 2 of 4)\n",
      "WARNING: [TikTok] Expecting value in '': line 1 column 1 (char 0). Retrying... (attempt 3 of 4)\n",
      "WARNING: [TikTok] 7046813424617147695: Failed to parse JSON (caused by JSONDecodeError(\"Expecting value in '': line 1 column 1 (char 0)\")); trying with webpage\n"
     ]
    },
    {
     "name": "stdout",
     "output_type": "stream",
     "text": [
      "                                                         \r"
     ]
    },
    {
     "name": "stderr",
     "output_type": "stream",
     "text": [
      "Downloading videos:  40%|████      | 120/300 [06:54<08:45,  2.92s/it]"
     ]
    },
    {
     "name": "stdout",
     "output_type": "stream",
     "text": [
      "Downloading https://tiktok.com/@ariellebrimhall/video/7046790091649404207\n"
     ]
    },
    {
     "name": "stderr",
     "output_type": "stream",
     "text": [
      "WARNING: [TikTok] Expecting value in '': line 1 column 1 (char 0). Retrying... (attempt 1 of 4)\n",
      "WARNING: [TikTok] Expecting value in '': line 1 column 1 (char 0). Retrying... (attempt 2 of 4)\n",
      "WARNING: [TikTok] Expecting value in '': line 1 column 1 (char 0). Retrying... (attempt 3 of 4)\n",
      "WARNING: [TikTok] 7046790091649404207: Failed to parse JSON (caused by JSONDecodeError(\"Expecting value in '': line 1 column 1 (char 0)\")); trying with webpage\n"
     ]
    },
    {
     "name": "stdout",
     "output_type": "stream",
     "text": [
      "                                                           \r"
     ]
    },
    {
     "name": "stderr",
     "output_type": "stream",
     "text": [
      "Downloading videos:  40%|████      | 121/300 [06:59<10:07,  3.39s/it]"
     ]
    },
    {
     "name": "stdout",
     "output_type": "stream",
     "text": [
      "Downloading https://tiktok.com/@ariellebrimhall/video/7046474690600340782\n"
     ]
    },
    {
     "name": "stderr",
     "output_type": "stream",
     "text": [
      "WARNING: [TikTok] Expecting value in '': line 1 column 1 (char 0). Retrying... (attempt 1 of 4)\n",
      "WARNING: [TikTok] Expecting value in '': line 1 column 1 (char 0). Retrying... (attempt 2 of 4)\n",
      "WARNING: [TikTok] Expecting value in '': line 1 column 1 (char 0). Retrying... (attempt 3 of 4)\n"
     ]
    },
    {
     "name": "stdout",
     "output_type": "stream",
     "text": [
      "                                                         \r"
     ]
    },
    {
     "name": "stderr",
     "output_type": "stream",
     "text": [
      "Downloading videos:  41%|████      | 122/300 [07:02<10:15,  3.46s/it]"
     ]
    },
    {
     "name": "stdout",
     "output_type": "stream",
     "text": [
      "Downloading https://tiktok.com/@ariellebrimhall/video/7046463583680646447\n"
     ]
    },
    {
     "name": "stderr",
     "output_type": "stream",
     "text": [
      "WARNING: [TikTok] Expecting value in '': line 1 column 1 (char 0). Retrying... (attempt 1 of 4)\n",
      "WARNING: [TikTok] Expecting value in '': line 1 column 1 (char 0). Retrying... (attempt 2 of 4)\n",
      "WARNING: [TikTok] Expecting value in '': line 1 column 1 (char 0). Retrying... (attempt 3 of 4)\n",
      "WARNING: [TikTok] 7046463583680646447: Failed to parse JSON (caused by JSONDecodeError(\"Expecting value in '': line 1 column 1 (char 0)\")); trying with webpage\n"
     ]
    },
    {
     "name": "stdout",
     "output_type": "stream",
     "text": [
      "                                                           \r"
     ]
    },
    {
     "name": "stderr",
     "output_type": "stream",
     "text": [
      "Downloading videos:  41%|████      | 123/300 [07:05<09:07,  3.09s/it]"
     ]
    },
    {
     "name": "stdout",
     "output_type": "stream",
     "text": [
      "Downloading https://tiktok.com/@ariellebrimhall/video/7046448575194205487\n"
     ]
    },
    {
     "name": "stderr",
     "output_type": "stream",
     "text": [
      "WARNING: [TikTok] Expecting value in '': line 1 column 1 (char 0). Retrying... (attempt 1 of 4)\n",
      "WARNING: [TikTok] Expecting value in '': line 1 column 1 (char 0). Retrying... (attempt 2 of 4)\n",
      "WARNING: [TikTok] Expecting value in '': line 1 column 1 (char 0). Retrying... (attempt 3 of 4)\n",
      "WARNING: [TikTok] 7046448575194205487: Failed to parse JSON (caused by JSONDecodeError(\"Expecting value in '': line 1 column 1 (char 0)\")); trying with webpage\n"
     ]
    },
    {
     "name": "stdout",
     "output_type": "stream",
     "text": [
      "                                                         \r"
     ]
    },
    {
     "name": "stderr",
     "output_type": "stream",
     "text": [
      "Downloading videos:  41%|████▏     | 124/300 [07:07<08:27,  2.88s/it]"
     ]
    },
    {
     "name": "stdout",
     "output_type": "stream",
     "text": [
      "Downloading https://tiktok.com/@ariellebrimhall/video/7046402821318823214\n"
     ]
    },
    {
     "name": "stderr",
     "output_type": "stream",
     "text": [
      "WARNING: [TikTok] Expecting value in '': line 1 column 1 (char 0). Retrying... (attempt 1 of 4)\n",
      "WARNING: [TikTok] Expecting value in '': line 1 column 1 (char 0). Retrying... (attempt 2 of 4)\n",
      "WARNING: [TikTok] Expecting value in '': line 1 column 1 (char 0). Retrying... (attempt 3 of 4)\n",
      "WARNING: [TikTok] 7046402821318823214: Failed to parse JSON (caused by JSONDecodeError(\"Expecting value in '': line 1 column 1 (char 0)\")); trying with webpage\n"
     ]
    },
    {
     "name": "stdout",
     "output_type": "stream",
     "text": [
      "                                                           \r"
     ]
    },
    {
     "name": "stderr",
     "output_type": "stream",
     "text": [
      "Downloading videos:  42%|████▏     | 125/300 [07:09<08:04,  2.77s/it]"
     ]
    },
    {
     "name": "stdout",
     "output_type": "stream",
     "text": [
      "Downloading https://tiktok.com/@ariellebrimhall/video/7046173087209000239\n"
     ]
    },
    {
     "name": "stderr",
     "output_type": "stream",
     "text": [
      "WARNING: [TikTok] Expecting value in '': line 1 column 1 (char 0). Retrying... (attempt 1 of 4)\n",
      "WARNING: [TikTok] Expecting value in '': line 1 column 1 (char 0). Retrying... (attempt 2 of 4)\n",
      "WARNING: [TikTok] Expecting value in '': line 1 column 1 (char 0). Retrying... (attempt 3 of 4)\n",
      "WARNING: [TikTok] 7046173087209000239: Failed to parse JSON (caused by JSONDecodeError(\"Expecting value in '': line 1 column 1 (char 0)\")); trying with webpage\n"
     ]
    },
    {
     "name": "stdout",
     "output_type": "stream",
     "text": [
      "                                                           \r"
     ]
    },
    {
     "name": "stderr",
     "output_type": "stream",
     "text": [
      "Downloading videos:  42%|████▏     | 126/300 [07:12<08:03,  2.78s/it]"
     ]
    },
    {
     "name": "stdout",
     "output_type": "stream",
     "text": [
      "Downloading https://tiktok.com/@ariellebrimhall/video/7045421060019211567\n"
     ]
    },
    {
     "name": "stderr",
     "output_type": "stream",
     "text": [
      "WARNING: [TikTok] Expecting value in '': line 1 column 1 (char 0). Retrying... (attempt 1 of 4)\n",
      "WARNING: [TikTok] Expecting value in '': line 1 column 1 (char 0). Retrying... (attempt 2 of 4)\n",
      "WARNING: [TikTok] Expecting value in '': line 1 column 1 (char 0). Retrying... (attempt 3 of 4)\n",
      "WARNING: [TikTok] 7045421060019211567: Failed to parse JSON (caused by JSONDecodeError(\"Expecting value in '': line 1 column 1 (char 0)\")); trying with webpage\n"
     ]
    },
    {
     "name": "stdout",
     "output_type": "stream",
     "text": [
      "                                                         \r"
     ]
    },
    {
     "name": "stderr",
     "output_type": "stream",
     "text": [
      "Downloading videos:  42%|████▏     | 127/300 [07:15<08:15,  2.87s/it]"
     ]
    },
    {
     "name": "stdout",
     "output_type": "stream",
     "text": [
      "Downloading https://tiktok.com/@ariellebrimhall/video/7045102881946701102\n"
     ]
    },
    {
     "name": "stderr",
     "output_type": "stream",
     "text": [
      "WARNING: [TikTok] Expecting value in '': line 1 column 1 (char 0). Retrying... (attempt 1 of 4)\n",
      "WARNING: [TikTok] Expecting value in '': line 1 column 1 (char 0). Retrying... (attempt 2 of 4)\n",
      "WARNING: [TikTok] Expecting value in '': line 1 column 1 (char 0). Retrying... (attempt 3 of 4)\n",
      "WARNING: [TikTok] 7045102881946701102: Failed to parse JSON (caused by JSONDecodeError(\"Expecting value in '': line 1 column 1 (char 0)\")); trying with webpage\n"
     ]
    },
    {
     "name": "stdout",
     "output_type": "stream",
     "text": [
      "                                                           \r"
     ]
    },
    {
     "name": "stderr",
     "output_type": "stream",
     "text": [
      "Downloading videos:  43%|████▎     | 128/300 [07:18<07:57,  2.78s/it]"
     ]
    },
    {
     "name": "stdout",
     "output_type": "stream",
     "text": [
      "Downloading https://tiktok.com/@ariellebrimhall/video/7057985347829026095\n"
     ]
    },
    {
     "name": "stderr",
     "output_type": "stream",
     "text": [
      "WARNING: [TikTok] Expecting value in '': line 1 column 1 (char 0). Retrying... (attempt 1 of 4)\n",
      "WARNING: [TikTok] Expecting value in '': line 1 column 1 (char 0). Retrying... (attempt 2 of 4)\n",
      "WARNING: [TikTok] Expecting value in '': line 1 column 1 (char 0). Retrying... (attempt 3 of 4)\n",
      "WARNING: [TikTok] 7057985347829026095: Failed to parse JSON (caused by JSONDecodeError(\"Expecting value in '': line 1 column 1 (char 0)\")); trying with webpage\n"
     ]
    },
    {
     "name": "stdout",
     "output_type": "stream",
     "text": [
      "                                                         \r"
     ]
    },
    {
     "name": "stderr",
     "output_type": "stream",
     "text": [
      "Downloading videos:  43%|████▎     | 129/300 [07:21<07:55,  2.78s/it]"
     ]
    },
    {
     "name": "stdout",
     "output_type": "stream",
     "text": [
      "Downloading https://tiktok.com/@ariellebrimhall/video/7057974313290583343\n"
     ]
    },
    {
     "name": "stderr",
     "output_type": "stream",
     "text": [
      "WARNING: [TikTok] Expecting value in '': line 1 column 1 (char 0). Retrying... (attempt 1 of 4)\n",
      "WARNING: [TikTok] Expecting value in '': line 1 column 1 (char 0). Retrying... (attempt 2 of 4)\n",
      "WARNING: [TikTok] Expecting value in '': line 1 column 1 (char 0). Retrying... (attempt 3 of 4)\n",
      "WARNING: [TikTok] 7057974313290583343: Failed to parse JSON (caused by JSONDecodeError(\"Expecting value in '': line 1 column 1 (char 0)\")); trying with webpage\n"
     ]
    },
    {
     "name": "stdout",
     "output_type": "stream",
     "text": [
      "                                                         \r"
     ]
    },
    {
     "name": "stderr",
     "output_type": "stream",
     "text": [
      "Downloading videos:  43%|████▎     | 130/300 [07:24<08:14,  2.91s/it]"
     ]
    },
    {
     "name": "stdout",
     "output_type": "stream",
     "text": [
      "Downloading https://tiktok.com/@ariellebrimhall/video/7057637457667362094\n"
     ]
    },
    {
     "name": "stderr",
     "output_type": "stream",
     "text": [
      "WARNING: [TikTok] Expecting value in '': line 1 column 1 (char 0). Retrying... (attempt 1 of 4)\n",
      "WARNING: [TikTok] Expecting value in '': line 1 column 1 (char 0). Retrying... (attempt 2 of 4)\n",
      "WARNING: [TikTok] Expecting value in '': line 1 column 1 (char 0). Retrying... (attempt 3 of 4)\n",
      "WARNING: [TikTok] 7057637457667362094: Failed to parse JSON (caused by JSONDecodeError(\"Expecting value in '': line 1 column 1 (char 0)\")); trying with webpage\n"
     ]
    },
    {
     "name": "stdout",
     "output_type": "stream",
     "text": [
      "                                                         \r"
     ]
    },
    {
     "name": "stderr",
     "output_type": "stream",
     "text": [
      "Downloading videos:  44%|████▎     | 131/300 [07:29<09:39,  3.43s/it]"
     ]
    },
    {
     "name": "stdout",
     "output_type": "stream",
     "text": [
      "Downloading https://tiktok.com/@ariellebrimhall/video/7056943014186372399\n"
     ]
    },
    {
     "name": "stderr",
     "output_type": "stream",
     "text": [
      "WARNING: [TikTok] Expecting value in '': line 1 column 1 (char 0). Retrying... (attempt 1 of 4)\n",
      "WARNING: [TikTok] Expecting value in '': line 1 column 1 (char 0). Retrying... (attempt 2 of 4)\n",
      "WARNING: [TikTok] Expecting value in '': line 1 column 1 (char 0). Retrying... (attempt 3 of 4)\n",
      "WARNING: [TikTok] 7056943014186372399: Failed to parse JSON (caused by JSONDecodeError(\"Expecting value in '': line 1 column 1 (char 0)\")); trying with webpage\n"
     ]
    },
    {
     "name": "stdout",
     "output_type": "stream",
     "text": [
      "                                                         \r"
     ]
    },
    {
     "name": "stderr",
     "output_type": "stream",
     "text": [
      "Downloading videos:  44%|████▍     | 132/300 [07:32<09:34,  3.42s/it]"
     ]
    },
    {
     "name": "stdout",
     "output_type": "stream",
     "text": [
      "Downloading https://tiktok.com/@ariellebrimhall/video/7056923803326385455\n"
     ]
    },
    {
     "name": "stderr",
     "output_type": "stream",
     "text": [
      "WARNING: [TikTok] Expecting value in '': line 1 column 1 (char 0). Retrying... (attempt 1 of 4)\n",
      "WARNING: [TikTok] Expecting value in '': line 1 column 1 (char 0). Retrying... (attempt 2 of 4)\n",
      "WARNING: [TikTok] Expecting value in '': line 1 column 1 (char 0). Retrying... (attempt 3 of 4)\n",
      "WARNING: [TikTok] 7056923803326385455: Failed to parse JSON (caused by JSONDecodeError(\"Expecting value in '': line 1 column 1 (char 0)\")); trying with webpage\n"
     ]
    },
    {
     "name": "stdout",
     "output_type": "stream",
     "text": [
      "                                                           \r"
     ]
    },
    {
     "name": "stderr",
     "output_type": "stream",
     "text": [
      "Downloading videos:  44%|████▍     | 133/300 [07:34<08:35,  3.09s/it]"
     ]
    },
    {
     "name": "stdout",
     "output_type": "stream",
     "text": [
      "Downloading https://tiktok.com/@ariellebrimhall/video/7056213364564856110\n"
     ]
    },
    {
     "name": "stderr",
     "output_type": "stream",
     "text": [
      "WARNING: [TikTok] Expecting value in '': line 1 column 1 (char 0). Retrying... (attempt 1 of 4)\n",
      "WARNING: [TikTok] Expecting value in '': line 1 column 1 (char 0). Retrying... (attempt 2 of 4)\n",
      "WARNING: [TikTok] Expecting value in '': line 1 column 1 (char 0). Retrying... (attempt 3 of 4)\n",
      "WARNING: [TikTok] 7056213364564856110: Failed to parse JSON (caused by JSONDecodeError(\"Expecting value in '': line 1 column 1 (char 0)\")); trying with webpage\n"
     ]
    },
    {
     "name": "stdout",
     "output_type": "stream",
     "text": [
      "                                                           \r"
     ]
    },
    {
     "name": "stderr",
     "output_type": "stream",
     "text": [
      "Downloading videos:  45%|████▍     | 134/300 [07:37<08:37,  3.11s/it]"
     ]
    },
    {
     "name": "stdout",
     "output_type": "stream",
     "text": [
      "Downloading https://tiktok.com/@ariellebrimhall/video/7056148499787779375\n"
     ]
    },
    {
     "name": "stderr",
     "output_type": "stream",
     "text": [
      "WARNING: [TikTok] Expecting value in '': line 1 column 1 (char 0). Retrying... (attempt 1 of 4)\n",
      "WARNING: [TikTok] Expecting value in '': line 1 column 1 (char 0). Retrying... (attempt 2 of 4)\n",
      "WARNING: [TikTok] Expecting value in '': line 1 column 1 (char 0). Retrying... (attempt 3 of 4)\n",
      "WARNING: [TikTok] 7056148499787779375: Failed to parse JSON (caused by JSONDecodeError(\"Expecting value in '': line 1 column 1 (char 0)\")); trying with webpage\n"
     ]
    },
    {
     "name": "stdout",
     "output_type": "stream",
     "text": [
      "                                                         \r"
     ]
    },
    {
     "name": "stderr",
     "output_type": "stream",
     "text": [
      "Downloading videos:  45%|████▌     | 135/300 [07:40<08:30,  3.09s/it]"
     ]
    },
    {
     "name": "stdout",
     "output_type": "stream",
     "text": [
      "Downloading https://tiktok.com/@ariellebrimhall/video/7055761523645615406\n"
     ]
    },
    {
     "name": "stderr",
     "output_type": "stream",
     "text": [
      "WARNING: [TikTok] Expecting value in '': line 1 column 1 (char 0). Retrying... (attempt 1 of 4)\n",
      "WARNING: [TikTok] Expecting value in '': line 1 column 1 (char 0). Retrying... (attempt 2 of 4)\n",
      "WARNING: [TikTok] Expecting value in '': line 1 column 1 (char 0). Retrying... (attempt 3 of 4)\n",
      "WARNING: [TikTok] 7055761523645615406: Failed to parse JSON (caused by JSONDecodeError(\"Expecting value in '': line 1 column 1 (char 0)\")); trying with webpage\n"
     ]
    },
    {
     "name": "stdout",
     "output_type": "stream",
     "text": [
      "                                                         \r"
     ]
    },
    {
     "name": "stderr",
     "output_type": "stream",
     "text": [
      "Downloading videos:  45%|████▌     | 136/300 [07:44<08:23,  3.07s/it]"
     ]
    },
    {
     "name": "stdout",
     "output_type": "stream",
     "text": [
      "Downloading https://tiktok.com/@ariellebrimhall/video/7055731107513240878\n"
     ]
    },
    {
     "name": "stderr",
     "output_type": "stream",
     "text": [
      "WARNING: [TikTok] Expecting value in '': line 1 column 1 (char 0). Retrying... (attempt 1 of 4)\n",
      "WARNING: [TikTok] Expecting value in '': line 1 column 1 (char 0). Retrying... (attempt 2 of 4)\n",
      "WARNING: [TikTok] Expecting value in '': line 1 column 1 (char 0). Retrying... (attempt 3 of 4)\n",
      "WARNING: [TikTok] 7055731107513240878: Failed to parse JSON (caused by JSONDecodeError(\"Expecting value in '': line 1 column 1 (char 0)\")); trying with webpage\n"
     ]
    },
    {
     "name": "stdout",
     "output_type": "stream",
     "text": [
      "                                                         \r"
     ]
    },
    {
     "name": "stderr",
     "output_type": "stream",
     "text": [
      "Downloading videos:  46%|████▌     | 137/300 [07:48<09:08,  3.37s/it]"
     ]
    },
    {
     "name": "stdout",
     "output_type": "stream",
     "text": [
      "Downloading https://tiktok.com/@ariellebrimhall/video/7055361860064775470\n"
     ]
    },
    {
     "name": "stderr",
     "output_type": "stream",
     "text": [
      "WARNING: [TikTok] Expecting value in '': line 1 column 1 (char 0). Retrying... (attempt 1 of 4)\n",
      "WARNING: [TikTok] Expecting value in '': line 1 column 1 (char 0). Retrying... (attempt 2 of 4)\n",
      "WARNING: [TikTok] Expecting value in '': line 1 column 1 (char 0). Retrying... (attempt 3 of 4)\n",
      "WARNING: [TikTok] 7055361860064775470: Failed to parse JSON (caused by JSONDecodeError(\"Expecting value in '': line 1 column 1 (char 0)\")); trying with webpage\n"
     ]
    },
    {
     "name": "stdout",
     "output_type": "stream",
     "text": [
      "                                                         \r"
     ]
    },
    {
     "name": "stderr",
     "output_type": "stream",
     "text": [
      "Downloading videos:  46%|████▌     | 138/300 [07:51<09:05,  3.37s/it]"
     ]
    },
    {
     "name": "stdout",
     "output_type": "stream",
     "text": [
      "Downloading https://tiktok.com/@ariellebrimhall/video/7054999959870999813\n"
     ]
    },
    {
     "name": "stderr",
     "output_type": "stream",
     "text": [
      "WARNING: [TikTok] Expecting value in '': line 1 column 1 (char 0). Retrying... (attempt 1 of 4)\n",
      "WARNING: [TikTok] Expecting value in '': line 1 column 1 (char 0). Retrying... (attempt 2 of 4)\n",
      "WARNING: [TikTok] Expecting value in '': line 1 column 1 (char 0). Retrying... (attempt 3 of 4)\n",
      "WARNING: [TikTok] 7054999959870999813: Failed to parse JSON (caused by JSONDecodeError(\"Expecting value in '': line 1 column 1 (char 0)\")); trying with webpage\n"
     ]
    },
    {
     "name": "stdout",
     "output_type": "stream",
     "text": [
      "                                                         \r"
     ]
    },
    {
     "name": "stderr",
     "output_type": "stream",
     "text": [
      "Downloading videos:  46%|████▋     | 139/300 [07:54<08:56,  3.33s/it]"
     ]
    },
    {
     "name": "stdout",
     "output_type": "stream",
     "text": [
      "Downloading https://tiktok.com/@ariellebrimhall/video/7054668742206180613\n"
     ]
    },
    {
     "name": "stderr",
     "output_type": "stream",
     "text": [
      "WARNING: [TikTok] Expecting value in '': line 1 column 1 (char 0). Retrying... (attempt 1 of 4)\n",
      "WARNING: [TikTok] Expecting value in '': line 1 column 1 (char 0). Retrying... (attempt 2 of 4)\n",
      "WARNING: [TikTok] Expecting value in '': line 1 column 1 (char 0). Retrying... (attempt 3 of 4)\n",
      "WARNING: [TikTok] 7054668742206180613: Failed to parse JSON (caused by JSONDecodeError(\"Expecting value in '': line 1 column 1 (char 0)\")); trying with webpage\n"
     ]
    },
    {
     "name": "stdout",
     "output_type": "stream",
     "text": [
      "                                                           \r"
     ]
    },
    {
     "name": "stderr",
     "output_type": "stream",
     "text": [
      "Downloading videos:  47%|████▋     | 140/300 [07:57<08:25,  3.16s/it]"
     ]
    },
    {
     "name": "stdout",
     "output_type": "stream",
     "text": [
      "Downloading https://tiktok.com/@ariellebrimhall/video/7054257714964270341\n"
     ]
    },
    {
     "name": "stderr",
     "output_type": "stream",
     "text": [
      "WARNING: [TikTok] Expecting value in '': line 1 column 1 (char 0). Retrying... (attempt 1 of 4)\n",
      "WARNING: [TikTok] Expecting value in '': line 1 column 1 (char 0). Retrying... (attempt 2 of 4)\n",
      "WARNING: [TikTok] Expecting value in '': line 1 column 1 (char 0). Retrying... (attempt 3 of 4)\n",
      "WARNING: [TikTok] 7054257714964270341: Failed to parse JSON (caused by JSONDecodeError(\"Expecting value in '': line 1 column 1 (char 0)\")); trying with webpage\n"
     ]
    },
    {
     "name": "stdout",
     "output_type": "stream",
     "text": [
      "                                                           \r"
     ]
    },
    {
     "name": "stderr",
     "output_type": "stream",
     "text": [
      "Downloading videos:  47%|████▋     | 141/300 [08:02<09:40,  3.65s/it]"
     ]
    },
    {
     "name": "stdout",
     "output_type": "stream",
     "text": [
      "Downloading https://tiktok.com/@ariellebrimhall/video/7053512722515856646\n"
     ]
    },
    {
     "name": "stderr",
     "output_type": "stream",
     "text": [
      "WARNING: [TikTok] Expecting value in '': line 1 column 1 (char 0). Retrying... (attempt 1 of 4)\n",
      "WARNING: [TikTok] Expecting value in '': line 1 column 1 (char 0). Retrying... (attempt 2 of 4)\n",
      "WARNING: [TikTok] Expecting value in '': line 1 column 1 (char 0). Retrying... (attempt 3 of 4)\n",
      "WARNING: [TikTok] 7053512722515856646: Failed to parse JSON (caused by JSONDecodeError(\"Expecting value in '': line 1 column 1 (char 0)\")); trying with webpage\n"
     ]
    },
    {
     "name": "stdout",
     "output_type": "stream",
     "text": [
      "                                                         \r"
     ]
    },
    {
     "name": "stderr",
     "output_type": "stream",
     "text": [
      "Downloading videos:  47%|████▋     | 142/300 [08:04<08:23,  3.19s/it]"
     ]
    },
    {
     "name": "stdout",
     "output_type": "stream",
     "text": [
      "Downloading https://tiktok.com/@ariellebrimhall/video/7052771197708176646\n"
     ]
    },
    {
     "name": "stderr",
     "output_type": "stream",
     "text": [
      "WARNING: [TikTok] Expecting value in '': line 1 column 1 (char 0). Retrying... (attempt 1 of 4)\n",
      "WARNING: [TikTok] Expecting value in '': line 1 column 1 (char 0). Retrying... (attempt 2 of 4)\n",
      "WARNING: [TikTok] Expecting value in '': line 1 column 1 (char 0). Retrying... (attempt 3 of 4)\n",
      "WARNING: [TikTok] 7052771197708176646: Failed to parse JSON (caused by JSONDecodeError(\"Expecting value in '': line 1 column 1 (char 0)\")); trying with webpage\n"
     ]
    },
    {
     "name": "stdout",
     "output_type": "stream",
     "text": [
      "                                                           \r"
     ]
    },
    {
     "name": "stderr",
     "output_type": "stream",
     "text": [
      "Downloading videos:  48%|████▊     | 143/300 [08:07<08:05,  3.09s/it]"
     ]
    },
    {
     "name": "stdout",
     "output_type": "stream",
     "text": [
      "Downloading https://tiktok.com/@ariellebrimhall/video/7052488757928299823\n"
     ]
    },
    {
     "name": "stderr",
     "output_type": "stream",
     "text": [
      "WARNING: [TikTok] Expecting value in '': line 1 column 1 (char 0). Retrying... (attempt 1 of 4)\n",
      "WARNING: [TikTok] Expecting value in '': line 1 column 1 (char 0). Retrying... (attempt 2 of 4)\n",
      "WARNING: [TikTok] Expecting value in '': line 1 column 1 (char 0). Retrying... (attempt 3 of 4)\n",
      "WARNING: [TikTok] 7052488757928299823: Failed to parse JSON (caused by JSONDecodeError(\"Expecting value in '': line 1 column 1 (char 0)\")); trying with webpage\n"
     ]
    },
    {
     "name": "stdout",
     "output_type": "stream",
     "text": [
      "                                                           \r"
     ]
    },
    {
     "name": "stderr",
     "output_type": "stream",
     "text": [
      "Downloading videos:  48%|████▊     | 144/300 [08:09<07:47,  2.99s/it]"
     ]
    },
    {
     "name": "stdout",
     "output_type": "stream",
     "text": [
      "Downloading https://tiktok.com/@ariellebrimhall/video/7052449955742649647\n"
     ]
    },
    {
     "name": "stderr",
     "output_type": "stream",
     "text": [
      "WARNING: [TikTok] Expecting value in '': line 1 column 1 (char 0). Retrying... (attempt 1 of 4)\n",
      "WARNING: [TikTok] Expecting value in '': line 1 column 1 (char 0). Retrying... (attempt 2 of 4)\n",
      "WARNING: [TikTok] Expecting value in '': line 1 column 1 (char 0). Retrying... (attempt 3 of 4)\n",
      "WARNING: [TikTok] 7052449955742649647: Failed to parse JSON (caused by JSONDecodeError(\"Expecting value in '': line 1 column 1 (char 0)\")); trying with webpage\n"
     ]
    },
    {
     "name": "stdout",
     "output_type": "stream",
     "text": [
      "                                                         \r"
     ]
    },
    {
     "name": "stderr",
     "output_type": "stream",
     "text": [
      "Downloading videos:  48%|████▊     | 145/300 [08:12<07:45,  3.00s/it]"
     ]
    },
    {
     "name": "stdout",
     "output_type": "stream",
     "text": [
      "Downloading https://tiktok.com/@ariellebrimhall/video/7052091470605503790\n"
     ]
    },
    {
     "name": "stderr",
     "output_type": "stream",
     "text": [
      "WARNING: [TikTok] Expecting value in '': line 1 column 1 (char 0). Retrying... (attempt 1 of 4)\n",
      "WARNING: [TikTok] Expecting value in '': line 1 column 1 (char 0). Retrying... (attempt 2 of 4)\n",
      "WARNING: [TikTok] Expecting value in '': line 1 column 1 (char 0). Retrying... (attempt 3 of 4)\n",
      "WARNING: [TikTok] 7052091470605503790: Failed to parse JSON (caused by JSONDecodeError(\"Expecting value in '': line 1 column 1 (char 0)\")); trying with webpage\n"
     ]
    },
    {
     "name": "stdout",
     "output_type": "stream",
     "text": [
      "                                                         \r"
     ]
    },
    {
     "name": "stderr",
     "output_type": "stream",
     "text": [
      "Downloading videos:  49%|████▊     | 146/300 [08:15<07:08,  2.78s/it]"
     ]
    },
    {
     "name": "stdout",
     "output_type": "stream",
     "text": [
      "Downloading https://tiktok.com/@ariellebrimhall/video/7052042295763586351\n"
     ]
    },
    {
     "name": "stderr",
     "output_type": "stream",
     "text": [
      "WARNING: [TikTok] Expecting value in '': line 1 column 1 (char 0). Retrying... (attempt 1 of 4)\n",
      "WARNING: [TikTok] Expecting value in '': line 1 column 1 (char 0). Retrying... (attempt 2 of 4)\n",
      "WARNING: [TikTok] Expecting value in '': line 1 column 1 (char 0). Retrying... (attempt 3 of 4)\n",
      "WARNING: [TikTok] 7052042295763586351: Failed to parse JSON (caused by JSONDecodeError(\"Expecting value in '': line 1 column 1 (char 0)\")); trying with webpage\n"
     ]
    },
    {
     "name": "stdout",
     "output_type": "stream",
     "text": [
      "                                                           \r"
     ]
    },
    {
     "name": "stderr",
     "output_type": "stream",
     "text": [
      "Downloading videos:  49%|████▉     | 147/300 [08:18<07:12,  2.83s/it]"
     ]
    },
    {
     "name": "stdout",
     "output_type": "stream",
     "text": [
      "Downloading https://tiktok.com/@ariellebrimhall/video/7052007961224531246\n"
     ]
    },
    {
     "name": "stderr",
     "output_type": "stream",
     "text": [
      "WARNING: [TikTok] Expecting value in '': line 1 column 1 (char 0). Retrying... (attempt 1 of 4)\n",
      "WARNING: [TikTok] Expecting value in '': line 1 column 1 (char 0). Retrying... (attempt 2 of 4)\n",
      "WARNING: [TikTok] Expecting value in '': line 1 column 1 (char 0). Retrying... (attempt 3 of 4)\n",
      "WARNING: [TikTok] 7052007961224531246: Failed to parse JSON (caused by JSONDecodeError(\"Expecting value in '': line 1 column 1 (char 0)\")); trying with webpage\n"
     ]
    },
    {
     "name": "stdout",
     "output_type": "stream",
     "text": [
      "                                                         \r"
     ]
    },
    {
     "name": "stderr",
     "output_type": "stream",
     "text": [
      "Downloading videos:  49%|████▉     | 148/300 [08:22<07:57,  3.14s/it]"
     ]
    },
    {
     "name": "stdout",
     "output_type": "stream",
     "text": [
      "Downloading https://tiktok.com/@ariellebrimhall/video/7051672972184177966\n"
     ]
    },
    {
     "name": "stderr",
     "output_type": "stream",
     "text": [
      "WARNING: [TikTok] Expecting value in '': line 1 column 1 (char 0). Retrying... (attempt 1 of 4)\n",
      "WARNING: [TikTok] Expecting value in '': line 1 column 1 (char 0). Retrying... (attempt 2 of 4)\n",
      "WARNING: [TikTok] Expecting value in '': line 1 column 1 (char 0). Retrying... (attempt 3 of 4)\n",
      "WARNING: [TikTok] 7051672972184177966: Failed to parse JSON (caused by JSONDecodeError(\"Expecting value in '': line 1 column 1 (char 0)\")); trying with webpage\n"
     ]
    },
    {
     "name": "stdout",
     "output_type": "stream",
     "text": [
      "                                                           \r"
     ]
    },
    {
     "name": "stderr",
     "output_type": "stream",
     "text": [
      "Downloading videos:  50%|████▉     | 149/300 [08:24<07:27,  2.97s/it]"
     ]
    },
    {
     "name": "stdout",
     "output_type": "stream",
     "text": [
      "Downloading https://tiktok.com/@ariellebrimhall/video/7051302381492915502\n"
     ]
    },
    {
     "name": "stderr",
     "output_type": "stream",
     "text": [
      "WARNING: [TikTok] Expecting value in '': line 1 column 1 (char 0). Retrying... (attempt 1 of 4)\n",
      "WARNING: [TikTok] Expecting value in '': line 1 column 1 (char 0). Retrying... (attempt 2 of 4)\n",
      "WARNING: [TikTok] Expecting value in '': line 1 column 1 (char 0). Retrying... (attempt 3 of 4)\n",
      "WARNING: [TikTok] 7051302381492915502: Failed to parse JSON (caused by JSONDecodeError(\"Expecting value in '': line 1 column 1 (char 0)\")); trying with webpage\n"
     ]
    },
    {
     "name": "stdout",
     "output_type": "stream",
     "text": [
      "                                                         \r"
     ]
    },
    {
     "name": "stderr",
     "output_type": "stream",
     "text": [
      "Downloading videos:  50%|█████     | 150/300 [08:27<07:09,  2.86s/it]"
     ]
    },
    {
     "name": "stdout",
     "output_type": "stream",
     "text": [
      "Downloading https://tiktok.com/@ariellebrimhall/video/7050927634448436526\n"
     ]
    },
    {
     "name": "stderr",
     "output_type": "stream",
     "text": [
      "WARNING: [TikTok] Expecting value in '': line 1 column 1 (char 0). Retrying... (attempt 1 of 4)\n",
      "WARNING: [TikTok] Expecting value in '': line 1 column 1 (char 0). Retrying... (attempt 2 of 4)\n",
      "WARNING: [TikTok] Expecting value in '': line 1 column 1 (char 0). Retrying... (attempt 3 of 4)\n",
      "WARNING: [TikTok] 7050927634448436526: Failed to parse JSON (caused by JSONDecodeError(\"Expecting value in '': line 1 column 1 (char 0)\")); trying with webpage\n"
     ]
    },
    {
     "name": "stdout",
     "output_type": "stream",
     "text": [
      "                                                         \r"
     ]
    },
    {
     "name": "stderr",
     "output_type": "stream",
     "text": [
      "Downloading videos:  50%|█████     | 151/300 [08:31<07:48,  3.15s/it]"
     ]
    },
    {
     "name": "stdout",
     "output_type": "stream",
     "text": [
      "Downloading https://tiktok.com/@ariellebrimhall/video/7050590070054849839\n"
     ]
    },
    {
     "name": "stderr",
     "output_type": "stream",
     "text": [
      "WARNING: [TikTok] Expecting value in '': line 1 column 1 (char 0). Retrying... (attempt 1 of 4)\n",
      "WARNING: [TikTok] Expecting value in '': line 1 column 1 (char 0). Retrying... (attempt 2 of 4)\n",
      "WARNING: [TikTok] Expecting value in '': line 1 column 1 (char 0). Retrying... (attempt 3 of 4)\n",
      "WARNING: [TikTok] 7050590070054849839: Failed to parse JSON (caused by JSONDecodeError(\"Expecting value in '': line 1 column 1 (char 0)\")); trying with webpage\n"
     ]
    },
    {
     "name": "stdout",
     "output_type": "stream",
     "text": [
      "                                                           \r"
     ]
    },
    {
     "name": "stderr",
     "output_type": "stream",
     "text": [
      "Downloading videos:  51%|█████     | 152/300 [08:33<07:24,  3.00s/it]"
     ]
    },
    {
     "name": "stdout",
     "output_type": "stream",
     "text": [
      "Downloading https://tiktok.com/@ariellebrimhall/video/7050552577192332590\n"
     ]
    },
    {
     "name": "stderr",
     "output_type": "stream",
     "text": [
      "WARNING: [TikTok] Expecting value in '': line 1 column 1 (char 0). Retrying... (attempt 1 of 4)\n",
      "WARNING: [TikTok] Expecting value in '': line 1 column 1 (char 0). Retrying... (attempt 2 of 4)\n",
      "WARNING: [TikTok] Expecting value in '': line 1 column 1 (char 0). Retrying... (attempt 3 of 4)\n",
      "WARNING: [TikTok] 7050552577192332590: Failed to parse JSON (caused by JSONDecodeError(\"Expecting value in '': line 1 column 1 (char 0)\")); trying with webpage\n"
     ]
    },
    {
     "name": "stdout",
     "output_type": "stream",
     "text": [
      "                                                         \r"
     ]
    },
    {
     "name": "stderr",
     "output_type": "stream",
     "text": [
      "Downloading videos:  51%|█████     | 153/300 [08:36<07:04,  2.89s/it]"
     ]
    },
    {
     "name": "stdout",
     "output_type": "stream",
     "text": [
      "Downloading https://tiktok.com/@ariellebrimhall/video/7050237221814668549\n"
     ]
    },
    {
     "name": "stderr",
     "output_type": "stream",
     "text": [
      "WARNING: [TikTok] Expecting value in '': line 1 column 1 (char 0). Retrying... (attempt 1 of 4)\n",
      "WARNING: [TikTok] Expecting value in '': line 1 column 1 (char 0). Retrying... (attempt 2 of 4)\n",
      "WARNING: [TikTok] Expecting value in '': line 1 column 1 (char 0). Retrying... (attempt 3 of 4)\n",
      "WARNING: [TikTok] 7050237221814668549: Failed to parse JSON (caused by JSONDecodeError(\"Expecting value in '': line 1 column 1 (char 0)\")); trying with webpage\n"
     ]
    },
    {
     "name": "stdout",
     "output_type": "stream",
     "text": [
      "                                                         \r"
     ]
    },
    {
     "name": "stderr",
     "output_type": "stream",
     "text": [
      "Downloading videos:  51%|█████▏    | 154/300 [08:39<06:54,  2.84s/it]"
     ]
    },
    {
     "name": "stdout",
     "output_type": "stream",
     "text": [
      "Downloading https://tiktok.com/@ariellebrimhall/video/7101428216614636842\n"
     ]
    },
    {
     "name": "stderr",
     "output_type": "stream",
     "text": [
      "WARNING: [TikTok] Expecting value in '': line 1 column 1 (char 0). Retrying... (attempt 1 of 4)\n",
      "WARNING: [TikTok] Expecting value in '': line 1 column 1 (char 0). Retrying... (attempt 2 of 4)\n",
      "WARNING: [TikTok] Expecting value in '': line 1 column 1 (char 0). Retrying... (attempt 3 of 4)\n",
      "WARNING: [TikTok] 7101428216614636842: Failed to parse JSON (caused by JSONDecodeError(\"Expecting value in '': line 1 column 1 (char 0)\")); trying with webpage\n"
     ]
    },
    {
     "name": "stdout",
     "output_type": "stream",
     "text": [
      "                                                           \r"
     ]
    },
    {
     "name": "stderr",
     "output_type": "stream",
     "text": [
      "Downloading videos:  52%|█████▏    | 155/300 [08:41<06:50,  2.83s/it]"
     ]
    },
    {
     "name": "stdout",
     "output_type": "stream",
     "text": [
      "Downloading https://tiktok.com/@ariellebrimhall/video/7101303922807098666\n"
     ]
    },
    {
     "name": "stderr",
     "output_type": "stream",
     "text": [
      "WARNING: [TikTok] Expecting value in '': line 1 column 1 (char 0). Retrying... (attempt 1 of 4)\n",
      "WARNING: [TikTok] Expecting value in '': line 1 column 1 (char 0). Retrying... (attempt 2 of 4)\n",
      "WARNING: [TikTok] Expecting value in '': line 1 column 1 (char 0). Retrying... (attempt 3 of 4)\n",
      "WARNING: [TikTok] 7101303922807098666: Failed to parse JSON (caused by JSONDecodeError(\"Expecting value in '': line 1 column 1 (char 0)\")); trying with webpage\n"
     ]
    },
    {
     "name": "stdout",
     "output_type": "stream",
     "text": [
      "                                                           \r"
     ]
    },
    {
     "name": "stderr",
     "output_type": "stream",
     "text": [
      "Downloading videos:  52%|█████▏    | 156/300 [08:47<09:03,  3.78s/it]"
     ]
    },
    {
     "name": "stdout",
     "output_type": "stream",
     "text": [
      "Downloading https://tiktok.com/@ariellebrimhall/video/7101062095642332462\n"
     ]
    },
    {
     "name": "stderr",
     "output_type": "stream",
     "text": [
      "WARNING: [TikTok] Expecting value in '': line 1 column 1 (char 0). Retrying... (attempt 1 of 4)\n",
      "WARNING: [TikTok] Expecting value in '': line 1 column 1 (char 0). Retrying... (attempt 2 of 4)\n",
      "WARNING: [TikTok] Expecting value in '': line 1 column 1 (char 0). Retrying... (attempt 3 of 4)\n",
      "WARNING: [TikTok] 7101062095642332462: Failed to parse JSON (caused by JSONDecodeError(\"Expecting value in '': line 1 column 1 (char 0)\")); trying with webpage\n"
     ]
    },
    {
     "name": "stdout",
     "output_type": "stream",
     "text": [
      "                                                           \r"
     ]
    },
    {
     "name": "stderr",
     "output_type": "stream",
     "text": [
      "Downloading videos:  52%|█████▏    | 157/300 [08:54<11:08,  4.67s/it]"
     ]
    },
    {
     "name": "stdout",
     "output_type": "stream",
     "text": [
      "Downloading https://tiktok.com/@ariellebrimhall/video/7101036209136323883\n"
     ]
    },
    {
     "name": "stderr",
     "output_type": "stream",
     "text": [
      "WARNING: [TikTok] Expecting value in '': line 1 column 1 (char 0). Retrying... (attempt 1 of 4)\n",
      "WARNING: [TikTok] Expecting value in '': line 1 column 1 (char 0). Retrying... (attempt 2 of 4)\n",
      "WARNING: [TikTok] Expecting value in '': line 1 column 1 (char 0). Retrying... (attempt 3 of 4)\n",
      "WARNING: [TikTok] 7101036209136323883: Failed to parse JSON (caused by JSONDecodeError(\"Expecting value in '': line 1 column 1 (char 0)\")); trying with webpage\n"
     ]
    },
    {
     "name": "stdout",
     "output_type": "stream",
     "text": [
      "                                                           \r"
     ]
    },
    {
     "name": "stderr",
     "output_type": "stream",
     "text": [
      "Downloading videos:  53%|█████▎    | 158/300 [08:58<10:27,  4.42s/it]"
     ]
    },
    {
     "name": "stdout",
     "output_type": "stream",
     "text": [
      "Downloading https://tiktok.com/@ariellebrimhall/video/7101019639408299307\n"
     ]
    },
    {
     "name": "stderr",
     "output_type": "stream",
     "text": [
      "WARNING: [TikTok] Expecting value in '': line 1 column 1 (char 0). Retrying... (attempt 1 of 4)\n",
      "WARNING: [TikTok] Expecting value in '': line 1 column 1 (char 0). Retrying... (attempt 2 of 4)\n",
      "WARNING: [TikTok] Expecting value in '': line 1 column 1 (char 0). Retrying... (attempt 3 of 4)\n",
      "WARNING: [TikTok] 7101019639408299307: Failed to parse JSON (caused by JSONDecodeError(\"Expecting value in '': line 1 column 1 (char 0)\")); trying with webpage\n"
     ]
    },
    {
     "name": "stdout",
     "output_type": "stream",
     "text": [
      "                                                           \r"
     ]
    },
    {
     "name": "stderr",
     "output_type": "stream",
     "text": [
      "Downloading videos:  53%|█████▎    | 159/300 [09:01<09:40,  4.12s/it]"
     ]
    },
    {
     "name": "stdout",
     "output_type": "stream",
     "text": [
      "Downloading https://tiktok.com/@ariellebrimhall/video/7101013187071315246\n"
     ]
    },
    {
     "name": "stderr",
     "output_type": "stream",
     "text": [
      "WARNING: [TikTok] Expecting value in '': line 1 column 1 (char 0). Retrying... (attempt 1 of 4)\n",
      "WARNING: [TikTok] Expecting value in '': line 1 column 1 (char 0). Retrying... (attempt 2 of 4)\n",
      "WARNING: [TikTok] Expecting value in '': line 1 column 1 (char 0). Retrying... (attempt 3 of 4)\n",
      "WARNING: [TikTok] 7101013187071315246: Failed to parse JSON (caused by JSONDecodeError(\"Expecting value in '': line 1 column 1 (char 0)\")); trying with webpage\n"
     ]
    },
    {
     "name": "stdout",
     "output_type": "stream",
     "text": [
      "                                                         \r"
     ]
    },
    {
     "name": "stderr",
     "output_type": "stream",
     "text": [
      "Downloading videos:  53%|█████▎    | 160/300 [09:05<09:33,  4.10s/it]"
     ]
    },
    {
     "name": "stdout",
     "output_type": "stream",
     "text": [
      "Downloading https://tiktok.com/@ariellebrimhall/video/7100990957293686059\n"
     ]
    },
    {
     "name": "stderr",
     "output_type": "stream",
     "text": [
      "WARNING: [TikTok] Expecting value in '': line 1 column 1 (char 0). Retrying... (attempt 1 of 4)\n",
      "WARNING: [TikTok] Expecting value in '': line 1 column 1 (char 0). Retrying... (attempt 2 of 4)\n",
      "WARNING: [TikTok] Expecting value in '': line 1 column 1 (char 0). Retrying... (attempt 3 of 4)\n",
      "WARNING: [TikTok] 7100990957293686059: Failed to parse JSON (caused by JSONDecodeError(\"Expecting value in '': line 1 column 1 (char 0)\")); trying with webpage\n"
     ]
    },
    {
     "name": "stdout",
     "output_type": "stream",
     "text": [
      "                                                         \r"
     ]
    },
    {
     "name": "stderr",
     "output_type": "stream",
     "text": [
      "Downloading videos:  54%|█████▎    | 161/300 [09:16<13:43,  5.93s/it]"
     ]
    },
    {
     "name": "stdout",
     "output_type": "stream",
     "text": [
      "Downloading https://tiktok.com/@ariellebrimhall/video/7100659828858621230\n"
     ]
    },
    {
     "name": "stderr",
     "output_type": "stream",
     "text": [
      "WARNING: [TikTok] Expecting value in '': line 1 column 1 (char 0). Retrying... (attempt 1 of 4)\n",
      "WARNING: [TikTok] Expecting value in '': line 1 column 1 (char 0). Retrying... (attempt 2 of 4)\n",
      "WARNING: [TikTok] Expecting value in '': line 1 column 1 (char 0). Retrying... (attempt 3 of 4)\n",
      "WARNING: [TikTok] 7100659828858621230: Failed to parse JSON (caused by JSONDecodeError(\"Expecting value in '': line 1 column 1 (char 0)\")); trying with webpage\n"
     ]
    },
    {
     "name": "stdout",
     "output_type": "stream",
     "text": [
      "                                                           \r"
     ]
    },
    {
     "name": "stderr",
     "output_type": "stream",
     "text": [
      "Downloading videos:  54%|█████▍    | 162/300 [09:19<11:36,  5.05s/it]"
     ]
    },
    {
     "name": "stdout",
     "output_type": "stream",
     "text": [
      "Downloading https://tiktok.com/@ariellebrimhall/video/7100248890259131694\n"
     ]
    },
    {
     "name": "stderr",
     "output_type": "stream",
     "text": [
      "WARNING: [TikTok] Expecting value in '': line 1 column 1 (char 0). Retrying... (attempt 1 of 4)\n",
      "WARNING: [TikTok] Expecting value in '': line 1 column 1 (char 0). Retrying... (attempt 2 of 4)\n",
      "WARNING: [TikTok] Expecting value in '': line 1 column 1 (char 0). Retrying... (attempt 3 of 4)\n",
      "WARNING: [TikTok] 7100248890259131694: Failed to parse JSON (caused by JSONDecodeError(\"Expecting value in '': line 1 column 1 (char 0)\")); trying with webpage\n"
     ]
    },
    {
     "name": "stdout",
     "output_type": "stream",
     "text": [
      "                                                           \r"
     ]
    },
    {
     "name": "stderr",
     "output_type": "stream",
     "text": [
      "Downloading videos:  54%|█████▍    | 163/300 [09:21<09:48,  4.29s/it]"
     ]
    },
    {
     "name": "stdout",
     "output_type": "stream",
     "text": [
      "Downloading https://tiktok.com/@ariellebrimhall/video/7099934500699770155\n"
     ]
    },
    {
     "name": "stderr",
     "output_type": "stream",
     "text": [
      "WARNING: [TikTok] Expecting value in '': line 1 column 1 (char 0). Retrying... (attempt 1 of 4)\n",
      "WARNING: [TikTok] Expecting value in '': line 1 column 1 (char 0). Retrying... (attempt 2 of 4)\n",
      "WARNING: [TikTok] Expecting value in '': line 1 column 1 (char 0). Retrying... (attempt 3 of 4)\n",
      "WARNING: [TikTok] 7099934500699770155: Failed to parse JSON (caused by JSONDecodeError(\"Expecting value in '': line 1 column 1 (char 0)\")); trying with webpage\n"
     ]
    },
    {
     "name": "stdout",
     "output_type": "stream",
     "text": [
      "                                                           \r"
     ]
    },
    {
     "name": "stderr",
     "output_type": "stream",
     "text": [
      "Downloading videos:  55%|█████▍    | 164/300 [09:23<08:22,  3.69s/it]"
     ]
    },
    {
     "name": "stdout",
     "output_type": "stream",
     "text": [
      "Downloading https://tiktok.com/@ariellebrimhall/video/7099915729553657130\n"
     ]
    },
    {
     "name": "stderr",
     "output_type": "stream",
     "text": [
      "WARNING: [TikTok] Expecting value in '': line 1 column 1 (char 0). Retrying... (attempt 1 of 4)\n",
      "WARNING: [TikTok] Expecting value in '': line 1 column 1 (char 0). Retrying... (attempt 2 of 4)\n",
      "WARNING: [TikTok] Expecting value in '': line 1 column 1 (char 0). Retrying... (attempt 3 of 4)\n",
      "WARNING: [TikTok] 7099915729553657130: Failed to parse JSON (caused by JSONDecodeError(\"Expecting value in '': line 1 column 1 (char 0)\")); trying with webpage\n"
     ]
    },
    {
     "name": "stdout",
     "output_type": "stream",
     "text": [
      "                                                           \r"
     ]
    },
    {
     "name": "stderr",
     "output_type": "stream",
     "text": [
      "Downloading videos:  55%|█████▌    | 165/300 [09:28<08:45,  3.89s/it]"
     ]
    },
    {
     "name": "stdout",
     "output_type": "stream",
     "text": [
      "Downloading https://tiktok.com/@ariellebrimhall/video/7099895617672973610\n"
     ]
    },
    {
     "name": "stderr",
     "output_type": "stream",
     "text": [
      "WARNING: [TikTok] Expecting value in '': line 1 column 1 (char 0). Retrying... (attempt 1 of 4)\n",
      "WARNING: [TikTok] Expecting value in '': line 1 column 1 (char 0). Retrying... (attempt 2 of 4)\n",
      "WARNING: [TikTok] Expecting value in '': line 1 column 1 (char 0). Retrying... (attempt 3 of 4)\n",
      "WARNING: [TikTok] 7099895617672973610: Failed to parse JSON (caused by JSONDecodeError(\"Expecting value in '': line 1 column 1 (char 0)\")); trying with webpage\n"
     ]
    },
    {
     "name": "stdout",
     "output_type": "stream",
     "text": [
      "                                                           \r"
     ]
    },
    {
     "name": "stderr",
     "output_type": "stream",
     "text": [
      "Downloading videos:  55%|█████▌    | 166/300 [09:30<07:43,  3.46s/it]"
     ]
    },
    {
     "name": "stdout",
     "output_type": "stream",
     "text": [
      "Downloading https://tiktok.com/@ariellebrimhall/video/7099876087005482286\n"
     ]
    },
    {
     "name": "stderr",
     "output_type": "stream",
     "text": [
      "WARNING: [TikTok] Expecting value in '': line 1 column 1 (char 0). Retrying... (attempt 1 of 4)\n",
      "WARNING: [TikTok] Expecting value in '': line 1 column 1 (char 0). Retrying... (attempt 2 of 4)\n",
      "WARNING: [TikTok] Expecting value in '': line 1 column 1 (char 0). Retrying... (attempt 3 of 4)\n",
      "WARNING: [TikTok] 7099876087005482286: Failed to parse JSON (caused by JSONDecodeError(\"Expecting value in '': line 1 column 1 (char 0)\")); trying with webpage\n"
     ]
    },
    {
     "name": "stdout",
     "output_type": "stream",
     "text": [
      "                                                           \r"
     ]
    },
    {
     "name": "stderr",
     "output_type": "stream",
     "text": [
      "Downloading videos:  56%|█████▌    | 167/300 [09:34<07:52,  3.55s/it]"
     ]
    },
    {
     "name": "stdout",
     "output_type": "stream",
     "text": [
      "Downloading https://tiktok.com/@ariellebrimhall/video/7099837906688331054\n"
     ]
    },
    {
     "name": "stderr",
     "output_type": "stream",
     "text": [
      "WARNING: [TikTok] Expecting value in '': line 1 column 1 (char 0). Retrying... (attempt 1 of 4)\n",
      "WARNING: [TikTok] Expecting value in '': line 1 column 1 (char 0). Retrying... (attempt 2 of 4)\n",
      "WARNING: [TikTok] Expecting value in '': line 1 column 1 (char 0). Retrying... (attempt 3 of 4)\n",
      "WARNING: [TikTok] 7099837906688331054: Failed to parse JSON (caused by JSONDecodeError(\"Expecting value in '': line 1 column 1 (char 0)\")); trying with webpage\n"
     ]
    },
    {
     "name": "stdout",
     "output_type": "stream",
     "text": [
      "                                                           \r"
     ]
    },
    {
     "name": "stderr",
     "output_type": "stream",
     "text": [
      "Downloading videos:  56%|█████▌    | 168/300 [09:37<07:20,  3.33s/it]"
     ]
    },
    {
     "name": "stdout",
     "output_type": "stream",
     "text": [
      "Downloading https://tiktok.com/@ariellebrimhall/video/7099536800502385966\n"
     ]
    },
    {
     "name": "stderr",
     "output_type": "stream",
     "text": [
      "WARNING: [TikTok] Expecting value in '': line 1 column 1 (char 0). Retrying... (attempt 1 of 4)\n",
      "WARNING: [TikTok] Expecting value in '': line 1 column 1 (char 0). Retrying... (attempt 2 of 4)\n",
      "WARNING: [TikTok] Expecting value in '': line 1 column 1 (char 0). Retrying... (attempt 3 of 4)\n",
      "WARNING: [TikTok] 7099536800502385966: Failed to parse JSON (caused by JSONDecodeError(\"Expecting value in '': line 1 column 1 (char 0)\")); trying with webpage\n"
     ]
    },
    {
     "name": "stdout",
     "output_type": "stream",
     "text": [
      "                                                           \r"
     ]
    },
    {
     "name": "stderr",
     "output_type": "stream",
     "text": [
      "Downloading videos:  56%|█████▋    | 169/300 [09:39<06:47,  3.11s/it]"
     ]
    },
    {
     "name": "stdout",
     "output_type": "stream",
     "text": [
      "Downloading https://tiktok.com/@ariellebrimhall/video/7099510185873526058\n"
     ]
    },
    {
     "name": "stderr",
     "output_type": "stream",
     "text": [
      "WARNING: [TikTok] Expecting value in '': line 1 column 1 (char 0). Retrying... (attempt 1 of 4)\n",
      "WARNING: [TikTok] Expecting value in '': line 1 column 1 (char 0). Retrying... (attempt 2 of 4)\n",
      "WARNING: [TikTok] Expecting value in '': line 1 column 1 (char 0). Retrying... (attempt 3 of 4)\n",
      "WARNING: [TikTok] 7099510185873526058: Failed to parse JSON (caused by JSONDecodeError(\"Expecting value in '': line 1 column 1 (char 0)\")); trying with webpage\n"
     ]
    },
    {
     "name": "stdout",
     "output_type": "stream",
     "text": [
      "                                                         \r"
     ]
    },
    {
     "name": "stderr",
     "output_type": "stream",
     "text": [
      "Downloading videos:  57%|█████▋    | 170/300 [09:43<07:14,  3.34s/it]"
     ]
    },
    {
     "name": "stdout",
     "output_type": "stream",
     "text": [
      "Downloading https://tiktok.com/@ariellebrimhall/video/7099465158153489706\n"
     ]
    },
    {
     "name": "stderr",
     "output_type": "stream",
     "text": [
      "WARNING: [TikTok] Expecting value in '': line 1 column 1 (char 0). Retrying... (attempt 1 of 4)\n",
      "WARNING: [TikTok] Expecting value in '': line 1 column 1 (char 0). Retrying... (attempt 2 of 4)\n",
      "WARNING: [TikTok] Expecting value in '': line 1 column 1 (char 0). Retrying... (attempt 3 of 4)\n",
      "WARNING: [TikTok] 7099465158153489706: Failed to parse JSON (caused by JSONDecodeError(\"Expecting value in '': line 1 column 1 (char 0)\")); trying with webpage\n"
     ]
    },
    {
     "name": "stdout",
     "output_type": "stream",
     "text": [
      "                                                           \r"
     ]
    },
    {
     "name": "stderr",
     "output_type": "stream",
     "text": [
      "Downloading videos:  57%|█████▋    | 171/300 [09:46<06:57,  3.23s/it]"
     ]
    },
    {
     "name": "stdout",
     "output_type": "stream",
     "text": [
      "Downloading https://tiktok.com/@ariellebrimhall/video/7099208451993144618\n"
     ]
    },
    {
     "name": "stderr",
     "output_type": "stream",
     "text": [
      "WARNING: [TikTok] Expecting value in '': line 1 column 1 (char 0). Retrying... (attempt 1 of 4)\n",
      "WARNING: [TikTok] Expecting value in '': line 1 column 1 (char 0). Retrying... (attempt 2 of 4)\n",
      "WARNING: [TikTok] Expecting value in '': line 1 column 1 (char 0). Retrying... (attempt 3 of 4)\n",
      "WARNING: [TikTok] 7099208451993144618: Failed to parse JSON (caused by JSONDecodeError(\"Expecting value in '': line 1 column 1 (char 0)\")); trying with webpage\n"
     ]
    },
    {
     "name": "stdout",
     "output_type": "stream",
     "text": [
      "                                                         \r"
     ]
    },
    {
     "name": "stderr",
     "output_type": "stream",
     "text": [
      "Downloading videos:  57%|█████▋    | 172/300 [09:49<06:41,  3.14s/it]"
     ]
    },
    {
     "name": "stdout",
     "output_type": "stream",
     "text": [
      "Downloading https://tiktok.com/@ariellebrimhall/video/7099154607389248814\n"
     ]
    },
    {
     "name": "stderr",
     "output_type": "stream",
     "text": [
      "WARNING: [TikTok] Expecting value in '': line 1 column 1 (char 0). Retrying... (attempt 1 of 4)\n",
      "WARNING: [TikTok] Expecting value in '': line 1 column 1 (char 0). Retrying... (attempt 2 of 4)\n",
      "WARNING: [TikTok] Expecting value in '': line 1 column 1 (char 0). Retrying... (attempt 3 of 4)\n",
      "WARNING: [TikTok] 7099154607389248814: Failed to parse JSON (caused by JSONDecodeError(\"Expecting value in '': line 1 column 1 (char 0)\")); trying with webpage\n"
     ]
    },
    {
     "name": "stdout",
     "output_type": "stream",
     "text": [
      "                                                         \r"
     ]
    },
    {
     "name": "stderr",
     "output_type": "stream",
     "text": [
      "Downloading videos:  58%|█████▊    | 173/300 [09:53<06:45,  3.20s/it]"
     ]
    },
    {
     "name": "stdout",
     "output_type": "stream",
     "text": [
      "Downloading https://tiktok.com/@ariellebrimhall/video/7099144618301885742\n"
     ]
    },
    {
     "name": "stderr",
     "output_type": "stream",
     "text": [
      "WARNING: [TikTok] Expecting value in '': line 1 column 1 (char 0). Retrying... (attempt 1 of 4)\n",
      "WARNING: [TikTok] Expecting value in '': line 1 column 1 (char 0). Retrying... (attempt 2 of 4)\n",
      "WARNING: [TikTok] Expecting value in '': line 1 column 1 (char 0). Retrying... (attempt 3 of 4)\n",
      "WARNING: [TikTok] 7099144618301885742: Failed to parse JSON (caused by JSONDecodeError(\"Expecting value in '': line 1 column 1 (char 0)\")); trying with webpage\n"
     ]
    },
    {
     "name": "stdout",
     "output_type": "stream",
     "text": [
      "                                                         \r"
     ]
    },
    {
     "name": "stderr",
     "output_type": "stream",
     "text": [
      "Downloading videos:  58%|█████▊    | 174/300 [09:56<07:11,  3.43s/it]"
     ]
    },
    {
     "name": "stdout",
     "output_type": "stream",
     "text": [
      "Downloading https://tiktok.com/@ariellebrimhall/video/7099128455731825966\n"
     ]
    },
    {
     "name": "stderr",
     "output_type": "stream",
     "text": [
      "WARNING: [TikTok] Expecting value in '': line 1 column 1 (char 0). Retrying... (attempt 1 of 4)\n",
      "WARNING: [TikTok] Expecting value in '': line 1 column 1 (char 0). Retrying... (attempt 2 of 4)\n",
      "WARNING: [TikTok] Expecting value in '': line 1 column 1 (char 0). Retrying... (attempt 3 of 4)\n",
      "WARNING: [TikTok] 7099128455731825966: Failed to parse JSON (caused by JSONDecodeError(\"Expecting value in '': line 1 column 1 (char 0)\")); trying with webpage\n"
     ]
    },
    {
     "name": "stdout",
     "output_type": "stream",
     "text": [
      "                                                         \r"
     ]
    },
    {
     "name": "stderr",
     "output_type": "stream",
     "text": [
      "Downloading videos:  58%|█████▊    | 175/300 [10:00<06:54,  3.32s/it]"
     ]
    },
    {
     "name": "stdout",
     "output_type": "stream",
     "text": [
      "Downloading https://tiktok.com/@ariellebrimhall/video/7099119459083849002\n"
     ]
    },
    {
     "name": "stderr",
     "output_type": "stream",
     "text": [
      "WARNING: [TikTok] Expecting value in '': line 1 column 1 (char 0). Retrying... (attempt 1 of 4)\n",
      "WARNING: [TikTok] Expecting value in '': line 1 column 1 (char 0). Retrying... (attempt 2 of 4)\n",
      "WARNING: [TikTok] Expecting value in '': line 1 column 1 (char 0). Retrying... (attempt 3 of 4)\n",
      "WARNING: [TikTok] 7099119459083849002: Failed to parse JSON (caused by JSONDecodeError(\"Expecting value in '': line 1 column 1 (char 0)\")); trying with webpage\n"
     ]
    },
    {
     "name": "stdout",
     "output_type": "stream",
     "text": [
      "                                                           \r"
     ]
    },
    {
     "name": "stderr",
     "output_type": "stream",
     "text": [
      "Downloading videos:  59%|█████▊    | 176/300 [10:02<06:25,  3.11s/it]"
     ]
    },
    {
     "name": "stdout",
     "output_type": "stream",
     "text": [
      "Downloading https://tiktok.com/@ariellebrimhall/video/7098817932548984110\n"
     ]
    },
    {
     "name": "stderr",
     "output_type": "stream",
     "text": [
      "WARNING: [TikTok] Expecting value in '': line 1 column 1 (char 0). Retrying... (attempt 1 of 4)\n",
      "WARNING: [TikTok] Expecting value in '': line 1 column 1 (char 0). Retrying... (attempt 2 of 4)\n",
      "WARNING: [TikTok] Expecting value in '': line 1 column 1 (char 0). Retrying... (attempt 3 of 4)\n",
      "WARNING: [TikTok] 7098817932548984110: Failed to parse JSON (caused by JSONDecodeError(\"Expecting value in '': line 1 column 1 (char 0)\")); trying with webpage\n"
     ]
    },
    {
     "name": "stdout",
     "output_type": "stream",
     "text": [
      "                                                         \r"
     ]
    },
    {
     "name": "stderr",
     "output_type": "stream",
     "text": [
      "Downloading videos:  59%|█████▉    | 177/300 [10:05<06:18,  3.08s/it]"
     ]
    },
    {
     "name": "stdout",
     "output_type": "stream",
     "text": [
      "Downloading https://tiktok.com/@ariellebrimhall/video/7098794383117552942\n"
     ]
    },
    {
     "name": "stderr",
     "output_type": "stream",
     "text": [
      "WARNING: [TikTok] Expecting value in '': line 1 column 1 (char 0). Retrying... (attempt 1 of 4)\n",
      "WARNING: [TikTok] Expecting value in '': line 1 column 1 (char 0). Retrying... (attempt 2 of 4)\n",
      "WARNING: [TikTok] Expecting value in '': line 1 column 1 (char 0). Retrying... (attempt 3 of 4)\n",
      "WARNING: [TikTok] 7098794383117552942: Failed to parse JSON (caused by JSONDecodeError(\"Expecting value in '': line 1 column 1 (char 0)\")); trying with webpage\n"
     ]
    },
    {
     "name": "stdout",
     "output_type": "stream",
     "text": [
      "                                                           \r"
     ]
    },
    {
     "name": "stderr",
     "output_type": "stream",
     "text": [
      "Downloading videos:  59%|█████▉    | 178/300 [10:08<05:52,  2.89s/it]"
     ]
    },
    {
     "name": "stdout",
     "output_type": "stream",
     "text": [
      "Downloading https://tiktok.com/@ariellebrimhall/video/7098774911350508843\n"
     ]
    },
    {
     "name": "stderr",
     "output_type": "stream",
     "text": [
      "WARNING: [TikTok] Expecting value in '': line 1 column 1 (char 0). Retrying... (attempt 1 of 4)\n",
      "WARNING: [TikTok] Expecting value in '': line 1 column 1 (char 0). Retrying... (attempt 2 of 4)\n",
      "WARNING: [TikTok] Expecting value in '': line 1 column 1 (char 0). Retrying... (attempt 3 of 4)\n",
      "WARNING: [TikTok] 7098774911350508843: Failed to parse JSON (caused by JSONDecodeError(\"Expecting value in '': line 1 column 1 (char 0)\")); trying with webpage\n"
     ]
    },
    {
     "name": "stdout",
     "output_type": "stream",
     "text": [
      "                                                         \r"
     ]
    },
    {
     "name": "stderr",
     "output_type": "stream",
     "text": [
      "Downloading videos:  60%|█████▉    | 179/300 [10:10<05:36,  2.78s/it]"
     ]
    },
    {
     "name": "stdout",
     "output_type": "stream",
     "text": [
      "Downloading https://tiktok.com/@ariellebrimhall/video/7098727274781904174\n"
     ]
    },
    {
     "name": "stderr",
     "output_type": "stream",
     "text": [
      "WARNING: [TikTok] Expecting value in '': line 1 column 1 (char 0). Retrying... (attempt 1 of 4)\n",
      "WARNING: [TikTok] Expecting value in '': line 1 column 1 (char 0). Retrying... (attempt 2 of 4)\n",
      "WARNING: [TikTok] Expecting value in '': line 1 column 1 (char 0). Retrying... (attempt 3 of 4)\n",
      "WARNING: [TikTok] 7098727274781904174: Failed to parse JSON (caused by JSONDecodeError(\"Expecting value in '': line 1 column 1 (char 0)\")); trying with webpage\n"
     ]
    },
    {
     "name": "stdout",
     "output_type": "stream",
     "text": [
      "                                                         \r"
     ]
    },
    {
     "name": "stderr",
     "output_type": "stream",
     "text": [
      "Downloading videos:  60%|██████    | 180/300 [10:15<06:48,  3.41s/it]"
     ]
    },
    {
     "name": "stdout",
     "output_type": "stream",
     "text": [
      "Downloading https://tiktok.com/@ariellebrimhall/video/7098716001486802222\n"
     ]
    },
    {
     "name": "stderr",
     "output_type": "stream",
     "text": [
      "WARNING: [TikTok] Expecting value in '': line 1 column 1 (char 0). Retrying... (attempt 1 of 4)\n",
      "WARNING: [TikTok] Expecting value in '': line 1 column 1 (char 0). Retrying... (attempt 2 of 4)\n",
      "WARNING: [TikTok] Expecting value in '': line 1 column 1 (char 0). Retrying... (attempt 3 of 4)\n",
      "WARNING: [TikTok] 7098716001486802222: Failed to parse JSON (caused by JSONDecodeError(\"Expecting value in '': line 1 column 1 (char 0)\")); trying with webpage\n"
     ]
    },
    {
     "name": "stdout",
     "output_type": "stream",
     "text": [
      "                                                           \r"
     ]
    },
    {
     "name": "stderr",
     "output_type": "stream",
     "text": [
      "Downloading videos:  60%|██████    | 181/300 [10:19<06:48,  3.44s/it]"
     ]
    },
    {
     "name": "stdout",
     "output_type": "stream",
     "text": [
      "Downloading https://tiktok.com/@ariellebrimhall/video/7098460774812765482\n"
     ]
    },
    {
     "name": "stderr",
     "output_type": "stream",
     "text": [
      "WARNING: [TikTok] Expecting value in '': line 1 column 1 (char 0). Retrying... (attempt 1 of 4)\n",
      "WARNING: [TikTok] Expecting value in '': line 1 column 1 (char 0). Retrying... (attempt 2 of 4)\n",
      "WARNING: [TikTok] Expecting value in '': line 1 column 1 (char 0). Retrying... (attempt 3 of 4)\n",
      "WARNING: [TikTok] 7098460774812765482: Failed to parse JSON (caused by JSONDecodeError(\"Expecting value in '': line 1 column 1 (char 0)\")); trying with webpage\n"
     ]
    },
    {
     "name": "stdout",
     "output_type": "stream",
     "text": [
      "                                                           \r"
     ]
    },
    {
     "name": "stderr",
     "output_type": "stream",
     "text": [
      "Downloading videos:  61%|██████    | 182/300 [10:22<06:32,  3.33s/it]"
     ]
    },
    {
     "name": "stdout",
     "output_type": "stream",
     "text": [
      "Downloading https://tiktok.com/@ariellebrimhall/video/7082795733862124842\n"
     ]
    },
    {
     "name": "stderr",
     "output_type": "stream",
     "text": [
      "WARNING: [TikTok] Expecting value in '': line 1 column 1 (char 0). Retrying... (attempt 1 of 4)\n",
      "WARNING: [TikTok] Expecting value in '': line 1 column 1 (char 0). Retrying... (attempt 2 of 4)\n",
      "WARNING: [TikTok] Expecting value in '': line 1 column 1 (char 0). Retrying... (attempt 3 of 4)\n",
      "WARNING: [TikTok] 7082795733862124842: Failed to parse JSON (caused by JSONDecodeError(\"Expecting value in '': line 1 column 1 (char 0)\")); trying with webpage\n"
     ]
    },
    {
     "name": "stdout",
     "output_type": "stream",
     "text": [
      "                                                         \r"
     ]
    },
    {
     "name": "stderr",
     "output_type": "stream",
     "text": [
      "Downloading videos:  61%|██████    | 183/300 [10:25<06:42,  3.44s/it]"
     ]
    },
    {
     "name": "stdout",
     "output_type": "stream",
     "text": [
      "Downloading https://tiktok.com/@ariellebrimhall/video/7082780350719577390\n"
     ]
    },
    {
     "name": "stderr",
     "output_type": "stream",
     "text": [
      "WARNING: [TikTok] Expecting value in '': line 1 column 1 (char 0). Retrying... (attempt 1 of 4)\n",
      "WARNING: [TikTok] Expecting value in '': line 1 column 1 (char 0). Retrying... (attempt 2 of 4)\n",
      "WARNING: [TikTok] Expecting value in '': line 1 column 1 (char 0). Retrying... (attempt 3 of 4)\n",
      "WARNING: [TikTok] 7082780350719577390: Failed to parse JSON (caused by JSONDecodeError(\"Expecting value in '': line 1 column 1 (char 0)\")); trying with webpage\n"
     ]
    },
    {
     "name": "stdout",
     "output_type": "stream",
     "text": [
      "                                                         \r"
     ]
    },
    {
     "name": "stderr",
     "output_type": "stream",
     "text": [
      "Downloading videos:  61%|██████▏   | 184/300 [10:28<06:26,  3.34s/it]"
     ]
    },
    {
     "name": "stdout",
     "output_type": "stream",
     "text": [
      "Downloading https://tiktok.com/@ariellebrimhall/video/7082767287442378030\n"
     ]
    },
    {
     "name": "stderr",
     "output_type": "stream",
     "text": [
      "WARNING: [TikTok] Expecting value in '': line 1 column 1 (char 0). Retrying... (attempt 1 of 4)\n",
      "WARNING: [TikTok] Expecting value in '': line 1 column 1 (char 0). Retrying... (attempt 2 of 4)\n",
      "WARNING: [TikTok] Expecting value in '': line 1 column 1 (char 0). Retrying... (attempt 3 of 4)\n",
      "WARNING: [TikTok] 7082767287442378030: Failed to parse JSON (caused by JSONDecodeError(\"Expecting value in '': line 1 column 1 (char 0)\")); trying with webpage\n"
     ]
    },
    {
     "name": "stdout",
     "output_type": "stream",
     "text": [
      "                                                         \r"
     ]
    },
    {
     "name": "stderr",
     "output_type": "stream",
     "text": [
      "Downloading videos:  62%|██████▏   | 185/300 [10:32<06:23,  3.34s/it]"
     ]
    },
    {
     "name": "stdout",
     "output_type": "stream",
     "text": [
      "Downloading https://tiktok.com/@ariellebrimhall/video/7082541911843573038\n"
     ]
    },
    {
     "name": "stderr",
     "output_type": "stream",
     "text": [
      "WARNING: [TikTok] Expecting value in '': line 1 column 1 (char 0). Retrying... (attempt 1 of 4)\n",
      "WARNING: [TikTok] Expecting value in '': line 1 column 1 (char 0). Retrying... (attempt 2 of 4)\n",
      "WARNING: [TikTok] Expecting value in '': line 1 column 1 (char 0). Retrying... (attempt 3 of 4)\n",
      "WARNING: [TikTok] 7082541911843573038: Failed to parse JSON (caused by JSONDecodeError(\"Expecting value in '': line 1 column 1 (char 0)\")); trying with webpage\n"
     ]
    },
    {
     "name": "stdout",
     "output_type": "stream",
     "text": [
      "                                                           \r"
     ]
    },
    {
     "name": "stderr",
     "output_type": "stream",
     "text": [
      "Downloading videos:  62%|██████▏   | 186/300 [10:35<06:28,  3.40s/it]"
     ]
    },
    {
     "name": "stdout",
     "output_type": "stream",
     "text": [
      "Downloading https://tiktok.com/@ariellebrimhall/video/7082466724750052651\n"
     ]
    },
    {
     "name": "stderr",
     "output_type": "stream",
     "text": [
      "WARNING: [TikTok] Expecting value in '': line 1 column 1 (char 0). Retrying... (attempt 1 of 4)\n",
      "WARNING: [TikTok] Expecting value in '': line 1 column 1 (char 0). Retrying... (attempt 2 of 4)\n",
      "WARNING: [TikTok] Expecting value in '': line 1 column 1 (char 0). Retrying... (attempt 3 of 4)\n",
      "WARNING: [TikTok] 7082466724750052651: Failed to parse JSON (caused by JSONDecodeError(\"Expecting value in '': line 1 column 1 (char 0)\")); trying with webpage\n"
     ]
    },
    {
     "name": "stdout",
     "output_type": "stream",
     "text": [
      "                                                           \r"
     ]
    },
    {
     "name": "stderr",
     "output_type": "stream",
     "text": [
      "Downloading videos:  62%|██████▏   | 187/300 [10:38<05:58,  3.17s/it]"
     ]
    },
    {
     "name": "stdout",
     "output_type": "stream",
     "text": [
      "Downloading https://tiktok.com/@ariellebrimhall/video/7082451841463733550\n"
     ]
    },
    {
     "name": "stderr",
     "output_type": "stream",
     "text": [
      "WARNING: [TikTok] Expecting value in '': line 1 column 1 (char 0). Retrying... (attempt 1 of 4)\n",
      "WARNING: [TikTok] Expecting value in '': line 1 column 1 (char 0). Retrying... (attempt 2 of 4)\n",
      "WARNING: [TikTok] Expecting value in '': line 1 column 1 (char 0). Retrying... (attempt 3 of 4)\n",
      "WARNING: [TikTok] 7082451841463733550: Failed to parse JSON (caused by JSONDecodeError(\"Expecting value in '': line 1 column 1 (char 0)\")); trying with webpage\n"
     ]
    },
    {
     "name": "stdout",
     "output_type": "stream",
     "text": [
      "                                                           \r"
     ]
    },
    {
     "name": "stderr",
     "output_type": "stream",
     "text": [
      "Downloading videos:  63%|██████▎   | 188/300 [10:40<05:33,  2.98s/it]"
     ]
    },
    {
     "name": "stdout",
     "output_type": "stream",
     "text": [
      "Downloading https://tiktok.com/@ariellebrimhall/video/7082443142565252398\n"
     ]
    },
    {
     "name": "stderr",
     "output_type": "stream",
     "text": [
      "WARNING: [TikTok] Expecting value in '': line 1 column 1 (char 0). Retrying... (attempt 1 of 4)\n",
      "WARNING: [TikTok] Expecting value in '': line 1 column 1 (char 0). Retrying... (attempt 2 of 4)\n",
      "WARNING: [TikTok] Expecting value in '': line 1 column 1 (char 0). Retrying... (attempt 3 of 4)\n",
      "WARNING: [TikTok] 7082443142565252398: Failed to parse JSON (caused by JSONDecodeError(\"Expecting value in '': line 1 column 1 (char 0)\")); trying with webpage\n"
     ]
    },
    {
     "name": "stdout",
     "output_type": "stream",
     "text": [
      "                                                           \r"
     ]
    },
    {
     "name": "stderr",
     "output_type": "stream",
     "text": [
      "Downloading videos:  63%|██████▎   | 189/300 [10:43<05:10,  2.80s/it]"
     ]
    },
    {
     "name": "stdout",
     "output_type": "stream",
     "text": [
      "Downloading https://tiktok.com/@ariellebrimhall/video/7082424141252578606\n"
     ]
    },
    {
     "name": "stderr",
     "output_type": "stream",
     "text": [
      "WARNING: [TikTok] Expecting value in '': line 1 column 1 (char 0). Retrying... (attempt 1 of 4)\n",
      "WARNING: [TikTok] Expecting value in '': line 1 column 1 (char 0). Retrying... (attempt 2 of 4)\n",
      "WARNING: [TikTok] Expecting value in '': line 1 column 1 (char 0). Retrying... (attempt 3 of 4)\n",
      "WARNING: [TikTok] 7082424141252578606: Failed to parse JSON (caused by JSONDecodeError(\"Expecting value in '': line 1 column 1 (char 0)\")); trying with webpage\n"
     ]
    },
    {
     "name": "stdout",
     "output_type": "stream",
     "text": [
      "                                                           \r"
     ]
    },
    {
     "name": "stderr",
     "output_type": "stream",
     "text": [
      "Downloading videos:  63%|██████▎   | 190/300 [10:46<05:32,  3.03s/it]"
     ]
    },
    {
     "name": "stdout",
     "output_type": "stream",
     "text": [
      "Downloading https://tiktok.com/@ariellebrimhall/video/7082417924946038062\n"
     ]
    },
    {
     "name": "stderr",
     "output_type": "stream",
     "text": [
      "WARNING: [TikTok] Expecting value in '': line 1 column 1 (char 0). Retrying... (attempt 1 of 4)\n",
      "WARNING: [TikTok] Expecting value in '': line 1 column 1 (char 0). Retrying... (attempt 2 of 4)\n",
      "WARNING: [TikTok] Expecting value in '': line 1 column 1 (char 0). Retrying... (attempt 3 of 4)\n",
      "WARNING: [TikTok] 7082417924946038062: Failed to parse JSON (caused by JSONDecodeError(\"Expecting value in '': line 1 column 1 (char 0)\")); trying with webpage\n"
     ]
    },
    {
     "name": "stdout",
     "output_type": "stream",
     "text": [
      "                                                           \r"
     ]
    },
    {
     "name": "stderr",
     "output_type": "stream",
     "text": [
      "Downloading videos:  64%|██████▎   | 191/300 [10:50<05:57,  3.28s/it]"
     ]
    },
    {
     "name": "stdout",
     "output_type": "stream",
     "text": [
      "Downloading https://tiktok.com/@ariellebrimhall/video/7082149852200865070\n"
     ]
    },
    {
     "name": "stderr",
     "output_type": "stream",
     "text": [
      "WARNING: [TikTok] Expecting value in '': line 1 column 1 (char 0). Retrying... (attempt 1 of 4)\n",
      "WARNING: [TikTok] Expecting value in '': line 1 column 1 (char 0). Retrying... (attempt 2 of 4)\n",
      "WARNING: [TikTok] Expecting value in '': line 1 column 1 (char 0). Retrying... (attempt 3 of 4)\n",
      "WARNING: [TikTok] 7082149852200865070: Failed to parse JSON (caused by JSONDecodeError(\"Expecting value in '': line 1 column 1 (char 0)\")); trying with webpage\n"
     ]
    },
    {
     "name": "stdout",
     "output_type": "stream",
     "text": [
      "                                                           \r"
     ]
    },
    {
     "name": "stderr",
     "output_type": "stream",
     "text": [
      "Downloading videos:  64%|██████▍   | 192/300 [10:54<06:23,  3.55s/it]"
     ]
    },
    {
     "name": "stdout",
     "output_type": "stream",
     "text": [
      "Downloading https://tiktok.com/@ariellebrimhall/video/7082103591624019246\n"
     ]
    },
    {
     "name": "stderr",
     "output_type": "stream",
     "text": [
      "WARNING: [TikTok] Expecting value in '': line 1 column 1 (char 0). Retrying... (attempt 1 of 4)\n",
      "WARNING: [TikTok] Expecting value in '': line 1 column 1 (char 0). Retrying... (attempt 2 of 4)\n",
      "WARNING: [TikTok] Expecting value in '': line 1 column 1 (char 0). Retrying... (attempt 3 of 4)\n",
      "WARNING: [TikTok] 7082103591624019246: Failed to parse JSON (caused by JSONDecodeError(\"Expecting value in '': line 1 column 1 (char 0)\")); trying with webpage\n"
     ]
    },
    {
     "name": "stdout",
     "output_type": "stream",
     "text": [
      "                                                         \r"
     ]
    },
    {
     "name": "stderr",
     "output_type": "stream",
     "text": [
      "Downloading videos:  64%|██████▍   | 193/300 [10:58<06:22,  3.57s/it]"
     ]
    },
    {
     "name": "stdout",
     "output_type": "stream",
     "text": [
      "Downloading https://tiktok.com/@ariellebrimhall/video/7082068853265648939\n"
     ]
    },
    {
     "name": "stderr",
     "output_type": "stream",
     "text": [
      "WARNING: [TikTok] Expecting value in '': line 1 column 1 (char 0). Retrying... (attempt 1 of 4)\n",
      "WARNING: [TikTok] Expecting value in '': line 1 column 1 (char 0). Retrying... (attempt 2 of 4)\n",
      "WARNING: [TikTok] Expecting value in '': line 1 column 1 (char 0). Retrying... (attempt 3 of 4)\n",
      "WARNING: [TikTok] 7082068853265648939: Failed to parse JSON (caused by JSONDecodeError(\"Expecting value in '': line 1 column 1 (char 0)\")); trying with webpage\n"
     ]
    },
    {
     "name": "stdout",
     "output_type": "stream",
     "text": [
      "                                                         \r"
     ]
    },
    {
     "name": "stderr",
     "output_type": "stream",
     "text": [
      "Downloading videos:  65%|██████▍   | 194/300 [11:02<06:17,  3.56s/it]"
     ]
    },
    {
     "name": "stdout",
     "output_type": "stream",
     "text": [
      "Downloading https://tiktok.com/@ariellebrimhall/video/7082048229185015083\n"
     ]
    },
    {
     "name": "stderr",
     "output_type": "stream",
     "text": [
      "WARNING: [TikTok] Expecting value in '': line 1 column 1 (char 0). Retrying... (attempt 1 of 4)\n",
      "WARNING: [TikTok] Expecting value in '': line 1 column 1 (char 0). Retrying... (attempt 2 of 4)\n",
      "WARNING: [TikTok] Expecting value in '': line 1 column 1 (char 0). Retrying... (attempt 3 of 4)\n",
      "WARNING: [TikTok] 7082048229185015083: Failed to parse JSON (caused by JSONDecodeError(\"Expecting value in '': line 1 column 1 (char 0)\")); trying with webpage\n"
     ]
    },
    {
     "name": "stdout",
     "output_type": "stream",
     "text": [
      "                                                         \r"
     ]
    },
    {
     "name": "stderr",
     "output_type": "stream",
     "text": [
      "Downloading videos:  65%|██████▌   | 195/300 [11:04<05:44,  3.28s/it]"
     ]
    },
    {
     "name": "stdout",
     "output_type": "stream",
     "text": [
      "Downloading https://tiktok.com/@ariellebrimhall/video/7081768531959811371\n"
     ]
    },
    {
     "name": "stderr",
     "output_type": "stream",
     "text": [
      "WARNING: [TikTok] Expecting value in '': line 1 column 1 (char 0). Retrying... (attempt 1 of 4)\n",
      "WARNING: [TikTok] Expecting value in '': line 1 column 1 (char 0). Retrying... (attempt 2 of 4)\n",
      "WARNING: [TikTok] Expecting value in '': line 1 column 1 (char 0). Retrying... (attempt 3 of 4)\n",
      "WARNING: [TikTok] 7081768531959811371: Failed to parse JSON (caused by JSONDecodeError(\"Expecting value in '': line 1 column 1 (char 0)\")); trying with webpage\n"
     ]
    },
    {
     "name": "stdout",
     "output_type": "stream",
     "text": [
      "                                                           \r"
     ]
    },
    {
     "name": "stderr",
     "output_type": "stream",
     "text": [
      "Downloading videos:  65%|██████▌   | 196/300 [11:07<05:16,  3.05s/it]"
     ]
    },
    {
     "name": "stdout",
     "output_type": "stream",
     "text": [
      "Downloading https://tiktok.com/@ariellebrimhall/video/7081752683463331114\n"
     ]
    },
    {
     "name": "stderr",
     "output_type": "stream",
     "text": [
      "WARNING: [TikTok] Expecting value in '': line 1 column 1 (char 0). Retrying... (attempt 1 of 4)\n",
      "WARNING: [TikTok] Expecting value in '': line 1 column 1 (char 0). Retrying... (attempt 2 of 4)\n",
      "WARNING: [TikTok] Expecting value in '': line 1 column 1 (char 0). Retrying... (attempt 3 of 4)\n",
      "WARNING: [TikTok] 7081752683463331114: Failed to parse JSON (caused by JSONDecodeError(\"Expecting value in '': line 1 column 1 (char 0)\")); trying with webpage\n"
     ]
    },
    {
     "name": "stdout",
     "output_type": "stream",
     "text": [
      "                                                         \r"
     ]
    },
    {
     "name": "stderr",
     "output_type": "stream",
     "text": [
      "Downloading videos:  66%|██████▌   | 197/300 [11:09<04:52,  2.84s/it]"
     ]
    },
    {
     "name": "stdout",
     "output_type": "stream",
     "text": [
      "Downloading https://tiktok.com/@ariellebrimhall/video/7081706202811485486\n"
     ]
    },
    {
     "name": "stderr",
     "output_type": "stream",
     "text": [
      "WARNING: [TikTok] Expecting value in '': line 1 column 1 (char 0). Retrying... (attempt 1 of 4)\n",
      "WARNING: [TikTok] Expecting value in '': line 1 column 1 (char 0). Retrying... (attempt 2 of 4)\n",
      "WARNING: [TikTok] Expecting value in '': line 1 column 1 (char 0). Retrying... (attempt 3 of 4)\n",
      "WARNING: [TikTok] 7081706202811485486: Failed to parse JSON (caused by JSONDecodeError(\"Expecting value in '': line 1 column 1 (char 0)\")); trying with webpage\n"
     ]
    },
    {
     "name": "stdout",
     "output_type": "stream",
     "text": [
      "                                                         \r"
     ]
    },
    {
     "name": "stderr",
     "output_type": "stream",
     "text": [
      "Downloading videos:  66%|██████▌   | 198/300 [11:13<05:12,  3.07s/it]"
     ]
    },
    {
     "name": "stdout",
     "output_type": "stream",
     "text": [
      "Downloading https://tiktok.com/@ariellebrimhall/video/7081435218715987242\n"
     ]
    },
    {
     "name": "stderr",
     "output_type": "stream",
     "text": [
      "WARNING: [TikTok] Expecting value in '': line 1 column 1 (char 0). Retrying... (attempt 1 of 4)\n",
      "WARNING: [TikTok] Expecting value in '': line 1 column 1 (char 0). Retrying... (attempt 2 of 4)\n",
      "WARNING: [TikTok] Expecting value in '': line 1 column 1 (char 0). Retrying... (attempt 3 of 4)\n",
      "WARNING: [TikTok] 7081435218715987242: Failed to parse JSON (caused by JSONDecodeError(\"Expecting value in '': line 1 column 1 (char 0)\")); trying with webpage\n"
     ]
    },
    {
     "name": "stdout",
     "output_type": "stream",
     "text": [
      "                                                         \r"
     ]
    },
    {
     "name": "stderr",
     "output_type": "stream",
     "text": [
      "Downloading videos:  66%|██████▋   | 199/300 [11:15<04:55,  2.93s/it]"
     ]
    },
    {
     "name": "stdout",
     "output_type": "stream",
     "text": [
      "Downloading https://tiktok.com/@ariellebrimhall/video/7081336291115388206\n"
     ]
    },
    {
     "name": "stderr",
     "output_type": "stream",
     "text": [
      "WARNING: [TikTok] Expecting value in '': line 1 column 1 (char 0). Retrying... (attempt 1 of 4)\n",
      "WARNING: [TikTok] Expecting value in '': line 1 column 1 (char 0). Retrying... (attempt 2 of 4)\n",
      "WARNING: [TikTok] Expecting value in '': line 1 column 1 (char 0). Retrying... (attempt 3 of 4)\n",
      "WARNING: [TikTok] 7081336291115388206: Failed to parse JSON (caused by JSONDecodeError(\"Expecting value in '': line 1 column 1 (char 0)\")); trying with webpage\n"
     ]
    },
    {
     "name": "stdout",
     "output_type": "stream",
     "text": [
      "                                                           \r"
     ]
    },
    {
     "name": "stderr",
     "output_type": "stream",
     "text": [
      "Downloading videos:  67%|██████▋   | 200/300 [11:20<05:50,  3.51s/it]"
     ]
    },
    {
     "name": "stdout",
     "output_type": "stream",
     "text": [
      "Downloading https://tiktok.com/@ariellebrimhall/video/7081057215716658478\n"
     ]
    },
    {
     "name": "stderr",
     "output_type": "stream",
     "text": [
      "WARNING: [TikTok] Expecting value in '': line 1 column 1 (char 0). Retrying... (attempt 1 of 4)\n",
      "WARNING: [TikTok] Expecting value in '': line 1 column 1 (char 0). Retrying... (attempt 2 of 4)\n",
      "WARNING: [TikTok] Expecting value in '': line 1 column 1 (char 0). Retrying... (attempt 3 of 4)\n",
      "WARNING: [TikTok] 7081057215716658478: Failed to parse JSON (caused by JSONDecodeError(\"Expecting value in '': line 1 column 1 (char 0)\")); trying with webpage\n"
     ]
    },
    {
     "name": "stdout",
     "output_type": "stream",
     "text": [
      "                                                           \r"
     ]
    },
    {
     "name": "stderr",
     "output_type": "stream",
     "text": [
      "Downloading videos:  67%|██████▋   | 201/300 [11:24<05:58,  3.62s/it]"
     ]
    },
    {
     "name": "stdout",
     "output_type": "stream",
     "text": [
      "Downloading https://tiktok.com/@ariellebrimhall/video/7081019594151988526\n"
     ]
    },
    {
     "name": "stderr",
     "output_type": "stream",
     "text": [
      "WARNING: [TikTok] Expecting value in '': line 1 column 1 (char 0). Retrying... (attempt 1 of 4)\n",
      "WARNING: [TikTok] Expecting value in '': line 1 column 1 (char 0). Retrying... (attempt 2 of 4)\n",
      "WARNING: [TikTok] Expecting value in '': line 1 column 1 (char 0). Retrying... (attempt 3 of 4)\n",
      "WARNING: [TikTok] 7081019594151988526: Failed to parse JSON (caused by JSONDecodeError(\"Expecting value in '': line 1 column 1 (char 0)\")); trying with webpage\n"
     ]
    },
    {
     "name": "stdout",
     "output_type": "stream",
     "text": [
      "                                                           \r"
     ]
    },
    {
     "name": "stderr",
     "output_type": "stream",
     "text": [
      "Downloading videos:  67%|██████▋   | 202/300 [11:30<07:04,  4.33s/it]"
     ]
    },
    {
     "name": "stdout",
     "output_type": "stream",
     "text": [
      "Downloading https://tiktok.com/@ariellebrimhall/video/7080966920119422254\n"
     ]
    },
    {
     "name": "stderr",
     "output_type": "stream",
     "text": [
      "WARNING: [TikTok] Expecting value in '': line 1 column 1 (char 0). Retrying... (attempt 1 of 4)\n",
      "WARNING: [TikTok] Expecting value in '': line 1 column 1 (char 0). Retrying... (attempt 2 of 4)\n",
      "WARNING: [TikTok] Expecting value in '': line 1 column 1 (char 0). Retrying... (attempt 3 of 4)\n",
      "WARNING: [TikTok] 7080966920119422254: Failed to parse JSON (caused by JSONDecodeError(\"Expecting value in '': line 1 column 1 (char 0)\")); trying with webpage\n"
     ]
    },
    {
     "name": "stdout",
     "output_type": "stream",
     "text": [
      "                                                         \r"
     ]
    },
    {
     "name": "stderr",
     "output_type": "stream",
     "text": [
      "Downloading videos:  68%|██████▊   | 203/300 [11:34<06:49,  4.22s/it]"
     ]
    },
    {
     "name": "stdout",
     "output_type": "stream",
     "text": [
      "Downloading https://tiktok.com/@ariellebrimhall/video/7084372983279570218\n"
     ]
    },
    {
     "name": "stderr",
     "output_type": "stream",
     "text": [
      "WARNING: [TikTok] Expecting value in '': line 1 column 1 (char 0). Retrying... (attempt 1 of 4)\n",
      "WARNING: [TikTok] Expecting value in '': line 1 column 1 (char 0). Retrying... (attempt 2 of 4)\n",
      "WARNING: [TikTok] Expecting value in '': line 1 column 1 (char 0). Retrying... (attempt 3 of 4)\n",
      "WARNING: [TikTok] 7084372983279570218: Failed to parse JSON (caused by JSONDecodeError(\"Expecting value in '': line 1 column 1 (char 0)\")); trying with webpage\n"
     ]
    },
    {
     "name": "stdout",
     "output_type": "stream",
     "text": [
      "                                                         \r"
     ]
    },
    {
     "name": "stderr",
     "output_type": "stream",
     "text": [
      "Downloading videos:  68%|██████▊   | 204/300 [11:38<06:25,  4.01s/it]"
     ]
    },
    {
     "name": "stdout",
     "output_type": "stream",
     "text": [
      "Downloading https://tiktok.com/@ariellebrimhall/video/7084359943821823274\n"
     ]
    },
    {
     "name": "stderr",
     "output_type": "stream",
     "text": [
      "WARNING: [TikTok] Expecting value in '': line 1 column 1 (char 0). Retrying... (attempt 1 of 4)\n",
      "WARNING: [TikTok] Expecting value in '': line 1 column 1 (char 0). Retrying... (attempt 2 of 4)\n",
      "WARNING: [TikTok] Expecting value in '': line 1 column 1 (char 0). Retrying... (attempt 3 of 4)\n",
      "WARNING: [TikTok] 7084359943821823274: Failed to parse JSON (caused by JSONDecodeError(\"Expecting value in '': line 1 column 1 (char 0)\")); trying with webpage\n"
     ]
    },
    {
     "name": "stdout",
     "output_type": "stream",
     "text": [
      "                                                         \r"
     ]
    },
    {
     "name": "stderr",
     "output_type": "stream",
     "text": [
      "Downloading videos:  68%|██████▊   | 205/300 [11:43<06:53,  4.36s/it]"
     ]
    },
    {
     "name": "stdout",
     "output_type": "stream",
     "text": [
      "Downloading https://tiktok.com/@ariellebrimhall/video/7084345692788952366\n"
     ]
    },
    {
     "name": "stderr",
     "output_type": "stream",
     "text": [
      "WARNING: [TikTok] Expecting value in '': line 1 column 1 (char 0). Retrying... (attempt 1 of 4)\n",
      "WARNING: [TikTok] Expecting value in '': line 1 column 1 (char 0). Retrying... (attempt 2 of 4)\n",
      "WARNING: [TikTok] Expecting value in '': line 1 column 1 (char 0). Retrying... (attempt 3 of 4)\n",
      "WARNING: [TikTok] 7084345692788952366: Failed to parse JSON (caused by JSONDecodeError(\"Expecting value in '': line 1 column 1 (char 0)\")); trying with webpage\n"
     ]
    },
    {
     "name": "stdout",
     "output_type": "stream",
     "text": [
      "                                                           \r"
     ]
    },
    {
     "name": "stderr",
     "output_type": "stream",
     "text": [
      "Downloading videos:  69%|██████▊   | 206/300 [11:46<06:06,  3.90s/it]"
     ]
    },
    {
     "name": "stdout",
     "output_type": "stream",
     "text": [
      "Downloading https://tiktok.com/@ariellebrimhall/video/7084331842354040110\n"
     ]
    },
    {
     "name": "stderr",
     "output_type": "stream",
     "text": [
      "WARNING: [TikTok] Expecting value in '': line 1 column 1 (char 0). Retrying... (attempt 1 of 4)\n",
      "WARNING: [TikTok] Expecting value in '': line 1 column 1 (char 0). Retrying... (attempt 2 of 4)\n",
      "WARNING: [TikTok] Expecting value in '': line 1 column 1 (char 0). Retrying... (attempt 3 of 4)\n",
      "WARNING: [TikTok] 7084331842354040110: Failed to parse JSON (caused by JSONDecodeError(\"Expecting value in '': line 1 column 1 (char 0)\")); trying with webpage\n"
     ]
    },
    {
     "name": "stdout",
     "output_type": "stream",
     "text": [
      "                                                           \r"
     ]
    },
    {
     "name": "stderr",
     "output_type": "stream",
     "text": [
      "Downloading videos:  69%|██████▉   | 207/300 [11:49<05:40,  3.66s/it]"
     ]
    },
    {
     "name": "stdout",
     "output_type": "stream",
     "text": [
      "Downloading https://tiktok.com/@ariellebrimhall/video/7084308209414180142\n"
     ]
    },
    {
     "name": "stderr",
     "output_type": "stream",
     "text": [
      "WARNING: [TikTok] Expecting value in '': line 1 column 1 (char 0). Retrying... (attempt 1 of 4)\n",
      "WARNING: [TikTok] Expecting value in '': line 1 column 1 (char 0). Retrying... (attempt 2 of 4)\n",
      "WARNING: [TikTok] Expecting value in '': line 1 column 1 (char 0). Retrying... (attempt 3 of 4)\n",
      "WARNING: [TikTok] 7084308209414180142: Failed to parse JSON (caused by JSONDecodeError(\"Expecting value in '': line 1 column 1 (char 0)\")); trying with webpage\n"
     ]
    },
    {
     "name": "stdout",
     "output_type": "stream",
     "text": [
      "                                                           \r"
     ]
    },
    {
     "name": "stderr",
     "output_type": "stream",
     "text": [
      "Downloading videos:  69%|██████▉   | 208/300 [11:53<05:52,  3.83s/it]"
     ]
    },
    {
     "name": "stdout",
     "output_type": "stream",
     "text": [
      "Downloading https://tiktok.com/@ariellebrimhall/video/7084290977791364395\n"
     ]
    },
    {
     "name": "stderr",
     "output_type": "stream",
     "text": [
      "WARNING: [TikTok] Expecting value in '': line 1 column 1 (char 0). Retrying... (attempt 1 of 4)\n",
      "WARNING: [TikTok] Expecting value in '': line 1 column 1 (char 0). Retrying... (attempt 2 of 4)\n",
      "WARNING: [TikTok] Expecting value in '': line 1 column 1 (char 0). Retrying... (attempt 3 of 4)\n",
      "WARNING: [TikTok] 7084290977791364395: Failed to parse JSON (caused by JSONDecodeError(\"Expecting value in '': line 1 column 1 (char 0)\")); trying with webpage\n"
     ]
    },
    {
     "name": "stdout",
     "output_type": "stream",
     "text": [
      "                                                           \r"
     ]
    },
    {
     "name": "stderr",
     "output_type": "stream",
     "text": [
      "Downloading videos:  70%|██████▉   | 209/300 [11:58<06:28,  4.27s/it]"
     ]
    },
    {
     "name": "stdout",
     "output_type": "stream",
     "text": [
      "Downloading https://tiktok.com/@ariellebrimhall/video/7084281010656939310\n"
     ]
    },
    {
     "name": "stderr",
     "output_type": "stream",
     "text": [
      "WARNING: [TikTok] Expecting value in '': line 1 column 1 (char 0). Retrying... (attempt 1 of 4)\n",
      "WARNING: [TikTok] Expecting value in '': line 1 column 1 (char 0). Retrying... (attempt 2 of 4)\n",
      "WARNING: [TikTok] Expecting value in '': line 1 column 1 (char 0). Retrying... (attempt 3 of 4)\n",
      "WARNING: [TikTok] 7084281010656939310: Failed to parse JSON (caused by JSONDecodeError(\"Expecting value in '': line 1 column 1 (char 0)\")); trying with webpage\n"
     ]
    },
    {
     "name": "stdout",
     "output_type": "stream",
     "text": [
      "                                                         \r"
     ]
    },
    {
     "name": "stderr",
     "output_type": "stream",
     "text": [
      "Downloading videos:  70%|███████   | 210/300 [12:02<06:18,  4.20s/it]"
     ]
    },
    {
     "name": "stdout",
     "output_type": "stream",
     "text": [
      "Downloading https://tiktok.com/@ariellebrimhall/video/7084262069364706606\n"
     ]
    },
    {
     "name": "stderr",
     "output_type": "stream",
     "text": [
      "WARNING: [TikTok] Expecting value in '': line 1 column 1 (char 0). Retrying... (attempt 1 of 4)\n",
      "WARNING: [TikTok] Expecting value in '': line 1 column 1 (char 0). Retrying... (attempt 2 of 4)\n",
      "WARNING: [TikTok] Expecting value in '': line 1 column 1 (char 0). Retrying... (attempt 3 of 4)\n",
      "WARNING: [TikTok] 7084262069364706606: Failed to parse JSON (caused by JSONDecodeError(\"Expecting value in '': line 1 column 1 (char 0)\")); trying with webpage\n"
     ]
    },
    {
     "name": "stdout",
     "output_type": "stream",
     "text": [
      "                                                           \r"
     ]
    },
    {
     "name": "stderr",
     "output_type": "stream",
     "text": [
      "Downloading videos:  70%|███████   | 211/300 [12:07<06:31,  4.40s/it]"
     ]
    },
    {
     "name": "stdout",
     "output_type": "stream",
     "text": [
      "Downloading https://tiktok.com/@ariellebrimhall/video/7084252870417075502\n"
     ]
    },
    {
     "name": "stderr",
     "output_type": "stream",
     "text": [
      "WARNING: [TikTok] Expecting value in '': line 1 column 1 (char 0). Retrying... (attempt 1 of 4)\n",
      "WARNING: [TikTok] Expecting value in '': line 1 column 1 (char 0). Retrying... (attempt 2 of 4)\n",
      "WARNING: [TikTok] Expecting value in '': line 1 column 1 (char 0). Retrying... (attempt 3 of 4)\n",
      "WARNING: [TikTok] 7084252870417075502: Failed to parse JSON (caused by JSONDecodeError(\"Expecting value in '': line 1 column 1 (char 0)\")); trying with webpage\n"
     ]
    },
    {
     "name": "stdout",
     "output_type": "stream",
     "text": [
      "                                                         \r"
     ]
    },
    {
     "name": "stderr",
     "output_type": "stream",
     "text": [
      "Downloading videos:  71%|███████   | 212/300 [12:10<05:44,  3.92s/it]"
     ]
    },
    {
     "name": "stdout",
     "output_type": "stream",
     "text": [
      "Downloading https://tiktok.com/@ariellebrimhall/video/7084245620701318446\n"
     ]
    },
    {
     "name": "stderr",
     "output_type": "stream",
     "text": [
      "WARNING: [TikTok] Expecting value in '': line 1 column 1 (char 0). Retrying... (attempt 1 of 4)\n",
      "WARNING: [TikTok] Expecting value in '': line 1 column 1 (char 0). Retrying... (attempt 2 of 4)\n",
      "WARNING: [TikTok] Expecting value in '': line 1 column 1 (char 0). Retrying... (attempt 3 of 4)\n",
      "WARNING: [TikTok] 7084245620701318446: Failed to parse JSON (caused by JSONDecodeError(\"Expecting value in '': line 1 column 1 (char 0)\")); trying with webpage\n"
     ]
    },
    {
     "name": "stdout",
     "output_type": "stream",
     "text": [
      "                                                           \r"
     ]
    },
    {
     "name": "stderr",
     "output_type": "stream",
     "text": [
      "Downloading videos:  71%|███████   | 213/300 [12:13<05:24,  3.73s/it]"
     ]
    },
    {
     "name": "stdout",
     "output_type": "stream",
     "text": [
      "Downloading https://tiktok.com/@ariellebrimhall/video/7084024923974290730\n"
     ]
    },
    {
     "name": "stderr",
     "output_type": "stream",
     "text": [
      "WARNING: [TikTok] Expecting value in '': line 1 column 1 (char 0). Retrying... (attempt 1 of 4)\n",
      "WARNING: [TikTok] Expecting value in '': line 1 column 1 (char 0). Retrying... (attempt 2 of 4)\n",
      "WARNING: [TikTok] Expecting value in '': line 1 column 1 (char 0). Retrying... (attempt 3 of 4)\n",
      "WARNING: [TikTok] 7084024923974290730: Failed to parse JSON (caused by JSONDecodeError(\"Expecting value in '': line 1 column 1 (char 0)\")); trying with webpage\n"
     ]
    },
    {
     "name": "stdout",
     "output_type": "stream",
     "text": [
      "                                                         \r"
     ]
    },
    {
     "name": "stderr",
     "output_type": "stream",
     "text": [
      "Downloading videos:  71%|███████▏  | 214/300 [12:17<05:16,  3.68s/it]"
     ]
    },
    {
     "name": "stdout",
     "output_type": "stream",
     "text": [
      "Downloading https://tiktok.com/@ariellebrimhall/video/7083997610843032878\n"
     ]
    },
    {
     "name": "stderr",
     "output_type": "stream",
     "text": [
      "WARNING: [TikTok] Expecting value in '': line 1 column 1 (char 0). Retrying... (attempt 1 of 4)\n",
      "WARNING: [TikTok] Expecting value in '': line 1 column 1 (char 0). Retrying... (attempt 2 of 4)\n",
      "WARNING: [TikTok] Expecting value in '': line 1 column 1 (char 0). Retrying... (attempt 3 of 4)\n",
      "WARNING: [TikTok] 7083997610843032878: Failed to parse JSON (caused by JSONDecodeError(\"Expecting value in '': line 1 column 1 (char 0)\")); trying with webpage\n"
     ]
    },
    {
     "name": "stdout",
     "output_type": "stream",
     "text": [
      "                                                         \r"
     ]
    },
    {
     "name": "stderr",
     "output_type": "stream",
     "text": [
      "Downloading videos:  72%|███████▏  | 215/300 [12:20<04:58,  3.51s/it]"
     ]
    },
    {
     "name": "stdout",
     "output_type": "stream",
     "text": [
      "Downloading https://tiktok.com/@ariellebrimhall/video/7083976703873142059\n"
     ]
    },
    {
     "name": "stderr",
     "output_type": "stream",
     "text": [
      "WARNING: [TikTok] Expecting value in '': line 1 column 1 (char 0). Retrying... (attempt 1 of 4)\n",
      "WARNING: [TikTok] Expecting value in '': line 1 column 1 (char 0). Retrying... (attempt 2 of 4)\n",
      "WARNING: [TikTok] Expecting value in '': line 1 column 1 (char 0). Retrying... (attempt 3 of 4)\n",
      "WARNING: [TikTok] 7083976703873142059: Failed to parse JSON (caused by JSONDecodeError(\"Expecting value in '': line 1 column 1 (char 0)\")); trying with webpage\n"
     ]
    },
    {
     "name": "stdout",
     "output_type": "stream",
     "text": [
      "                                                           \r"
     ]
    },
    {
     "name": "stderr",
     "output_type": "stream",
     "text": [
      "Downloading videos:  72%|███████▏  | 216/300 [12:22<04:17,  3.07s/it]"
     ]
    },
    {
     "name": "stdout",
     "output_type": "stream",
     "text": [
      "Downloading https://tiktok.com/@ariellebrimhall/video/7083876199381978410\n"
     ]
    },
    {
     "name": "stderr",
     "output_type": "stream",
     "text": [
      "WARNING: [TikTok] Expecting value in '': line 1 column 1 (char 0). Retrying... (attempt 1 of 4)\n",
      "WARNING: [TikTok] Expecting value in '': line 1 column 1 (char 0). Retrying... (attempt 2 of 4)\n",
      "WARNING: [TikTok] Expecting value in '': line 1 column 1 (char 0). Retrying... (attempt 3 of 4)\n",
      "WARNING: [TikTok] 7083876199381978410: Failed to parse JSON (caused by JSONDecodeError(\"Expecting value in '': line 1 column 1 (char 0)\")); trying with webpage\n"
     ]
    },
    {
     "name": "stdout",
     "output_type": "stream",
     "text": [
      "                                                           \r"
     ]
    },
    {
     "name": "stderr",
     "output_type": "stream",
     "text": [
      "Downloading videos:  72%|███████▏  | 217/300 [12:25<04:10,  3.01s/it]"
     ]
    },
    {
     "name": "stdout",
     "output_type": "stream",
     "text": [
      "Downloading https://tiktok.com/@ariellebrimhall/video/7083657114186599726\n"
     ]
    },
    {
     "name": "stderr",
     "output_type": "stream",
     "text": [
      "WARNING: [TikTok] Expecting value in '': line 1 column 1 (char 0). Retrying... (attempt 1 of 4)\n",
      "WARNING: [TikTok] Expecting value in '': line 1 column 1 (char 0). Retrying... (attempt 2 of 4)\n",
      "WARNING: [TikTok] Expecting value in '': line 1 column 1 (char 0). Retrying... (attempt 3 of 4)\n",
      "WARNING: [TikTok] 7083657114186599726: Failed to parse JSON (caused by JSONDecodeError(\"Expecting value in '': line 1 column 1 (char 0)\")); trying with webpage\n"
     ]
    },
    {
     "name": "stdout",
     "output_type": "stream",
     "text": [
      "                                                           \r"
     ]
    },
    {
     "name": "stderr",
     "output_type": "stream",
     "text": [
      "Downloading videos:  73%|███████▎  | 218/300 [12:28<04:08,  3.03s/it]"
     ]
    },
    {
     "name": "stdout",
     "output_type": "stream",
     "text": [
      "Downloading https://tiktok.com/@ariellebrimhall/video/7083536968327449899\n"
     ]
    },
    {
     "name": "stderr",
     "output_type": "stream",
     "text": [
      "WARNING: [TikTok] Expecting value in '': line 1 column 1 (char 0). Retrying... (attempt 1 of 4)\n",
      "WARNING: [TikTok] Expecting value in '': line 1 column 1 (char 0). Retrying... (attempt 2 of 4)\n",
      "WARNING: [TikTok] Expecting value in '': line 1 column 1 (char 0). Retrying... (attempt 3 of 4)\n",
      "WARNING: [TikTok] 7083536968327449899: Failed to parse JSON (caused by JSONDecodeError(\"Expecting value in '': line 1 column 1 (char 0)\")); trying with webpage\n"
     ]
    },
    {
     "name": "stdout",
     "output_type": "stream",
     "text": [
      "                                                         \r"
     ]
    },
    {
     "name": "stderr",
     "output_type": "stream",
     "text": [
      "Downloading videos:  73%|███████▎  | 219/300 [12:31<04:11,  3.11s/it]"
     ]
    },
    {
     "name": "stdout",
     "output_type": "stream",
     "text": [
      "Downloading https://tiktok.com/@ariellebrimhall/video/7083193838717881646\n"
     ]
    },
    {
     "name": "stderr",
     "output_type": "stream",
     "text": [
      "WARNING: [TikTok] Expecting value in '': line 1 column 1 (char 0). Retrying... (attempt 1 of 4)\n",
      "WARNING: [TikTok] Expecting value in '': line 1 column 1 (char 0). Retrying... (attempt 2 of 4)\n",
      "WARNING: [TikTok] Expecting value in '': line 1 column 1 (char 0). Retrying... (attempt 3 of 4)\n",
      "WARNING: [TikTok] 7083193838717881646: Failed to parse JSON (caused by JSONDecodeError(\"Expecting value in '': line 1 column 1 (char 0)\")); trying with webpage\n"
     ]
    },
    {
     "name": "stdout",
     "output_type": "stream",
     "text": [
      "                                                         \r"
     ]
    },
    {
     "name": "stderr",
     "output_type": "stream",
     "text": [
      "Downloading videos:  73%|███████▎  | 220/300 [12:33<03:51,  2.89s/it]"
     ]
    },
    {
     "name": "stdout",
     "output_type": "stream",
     "text": [
      "Downloading https://tiktok.com/@ariellebrimhall/video/7083147930927893802\n"
     ]
    },
    {
     "name": "stderr",
     "output_type": "stream",
     "text": [
      "WARNING: [TikTok] Expecting value in '': line 1 column 1 (char 0). Retrying... (attempt 1 of 4)\n",
      "WARNING: [TikTok] Expecting value in '': line 1 column 1 (char 0). Retrying... (attempt 2 of 4)\n",
      "WARNING: [TikTok] Expecting value in '': line 1 column 1 (char 0). Retrying... (attempt 3 of 4)\n",
      "WARNING: [TikTok] 7083147930927893802: Failed to parse JSON (caused by JSONDecodeError(\"Expecting value in '': line 1 column 1 (char 0)\")); trying with webpage\n"
     ]
    },
    {
     "name": "stdout",
     "output_type": "stream",
     "text": [
      "                                                         \r"
     ]
    },
    {
     "name": "stderr",
     "output_type": "stream",
     "text": [
      "Downloading videos:  74%|███████▎  | 221/300 [12:36<03:39,  2.77s/it]"
     ]
    },
    {
     "name": "stdout",
     "output_type": "stream",
     "text": [
      "Downloading https://tiktok.com/@ariellebrimhall/video/7083131589584031019\n"
     ]
    },
    {
     "name": "stderr",
     "output_type": "stream",
     "text": [
      "WARNING: [TikTok] Expecting value in '': line 1 column 1 (char 0). Retrying... (attempt 1 of 4)\n",
      "WARNING: [TikTok] Expecting value in '': line 1 column 1 (char 0). Retrying... (attempt 2 of 4)\n",
      "WARNING: [TikTok] Expecting value in '': line 1 column 1 (char 0). Retrying... (attempt 3 of 4)\n",
      "WARNING: [TikTok] 7083131589584031019: Failed to parse JSON (caused by JSONDecodeError(\"Expecting value in '': line 1 column 1 (char 0)\")); trying with webpage\n"
     ]
    },
    {
     "name": "stdout",
     "output_type": "stream",
     "text": [
      "                                                           \r"
     ]
    },
    {
     "name": "stderr",
     "output_type": "stream",
     "text": [
      "Downloading videos:  74%|███████▍  | 222/300 [12:39<03:48,  2.93s/it]"
     ]
    },
    {
     "name": "stdout",
     "output_type": "stream",
     "text": [
      "Downloading https://tiktok.com/@ariellebrimhall/video/7082939066572016942\n"
     ]
    },
    {
     "name": "stderr",
     "output_type": "stream",
     "text": [
      "WARNING: [TikTok] Expecting value in '': line 1 column 1 (char 0). Retrying... (attempt 1 of 4)\n",
      "WARNING: [TikTok] Expecting value in '': line 1 column 1 (char 0). Retrying... (attempt 2 of 4)\n",
      "WARNING: [TikTok] Expecting value in '': line 1 column 1 (char 0). Retrying... (attempt 3 of 4)\n",
      "WARNING: [TikTok] 7082939066572016942: Failed to parse JSON (caused by JSONDecodeError(\"Expecting value in '': line 1 column 1 (char 0)\")); trying with webpage\n"
     ]
    },
    {
     "name": "stdout",
     "output_type": "stream",
     "text": [
      "                                                           \r"
     ]
    },
    {
     "name": "stderr",
     "output_type": "stream",
     "text": [
      "Downloading videos:  74%|███████▍  | 223/300 [12:42<03:31,  2.75s/it]"
     ]
    },
    {
     "name": "stdout",
     "output_type": "stream",
     "text": [
      "Downloading https://tiktok.com/@ariellebrimhall/video/7082864028283948331\n"
     ]
    },
    {
     "name": "stderr",
     "output_type": "stream",
     "text": [
      "WARNING: [TikTok] Expecting value in '': line 1 column 1 (char 0). Retrying... (attempt 1 of 4)\n",
      "WARNING: [TikTok] Expecting value in '': line 1 column 1 (char 0). Retrying... (attempt 2 of 4)\n",
      "WARNING: [TikTok] Expecting value in '': line 1 column 1 (char 0). Retrying... (attempt 3 of 4)\n",
      "WARNING: [TikTok] 7082864028283948331: Failed to parse JSON (caused by JSONDecodeError(\"Expecting value in '': line 1 column 1 (char 0)\")); trying with webpage\n"
     ]
    },
    {
     "name": "stdout",
     "output_type": "stream",
     "text": [
      "                                                         \r"
     ]
    },
    {
     "name": "stderr",
     "output_type": "stream",
     "text": [
      "Downloading videos:  75%|███████▍  | 224/300 [12:44<03:14,  2.56s/it]"
     ]
    },
    {
     "name": "stdout",
     "output_type": "stream",
     "text": [
      "Downloading https://tiktok.com/@ariellebrimhall/video/7082828589451791662\n"
     ]
    },
    {
     "name": "stderr",
     "output_type": "stream",
     "text": [
      "WARNING: [TikTok] Expecting value in '': line 1 column 1 (char 0). Retrying... (attempt 1 of 4)\n",
      "WARNING: [TikTok] Expecting value in '': line 1 column 1 (char 0). Retrying... (attempt 2 of 4)\n",
      "WARNING: [TikTok] Expecting value in '': line 1 column 1 (char 0). Retrying... (attempt 3 of 4)\n",
      "WARNING: [TikTok] 7082828589451791662: Failed to parse JSON (caused by JSONDecodeError(\"Expecting value in '': line 1 column 1 (char 0)\")); trying with webpage\n"
     ]
    },
    {
     "name": "stdout",
     "output_type": "stream",
     "text": [
      "                                                           \r"
     ]
    },
    {
     "name": "stderr",
     "output_type": "stream",
     "text": [
      "Downloading videos:  75%|███████▌  | 225/300 [12:46<03:06,  2.48s/it]"
     ]
    },
    {
     "name": "stdout",
     "output_type": "stream",
     "text": [
      "Downloading https://tiktok.com/@ariellebrimhall/video/7082819678829153579\n"
     ]
    },
    {
     "name": "stderr",
     "output_type": "stream",
     "text": [
      "WARNING: [TikTok] Expecting value in '': line 1 column 1 (char 0). Retrying... (attempt 1 of 4)\n",
      "WARNING: [TikTok] Expecting value in '': line 1 column 1 (char 0). Retrying... (attempt 2 of 4)\n",
      "WARNING: [TikTok] Expecting value in '': line 1 column 1 (char 0). Retrying... (attempt 3 of 4)\n",
      "WARNING: [TikTok] 7082819678829153579: Failed to parse JSON (caused by JSONDecodeError(\"Expecting value in '': line 1 column 1 (char 0)\")); trying with webpage\n"
     ]
    },
    {
     "name": "stdout",
     "output_type": "stream",
     "text": [
      "                                                         \r"
     ]
    },
    {
     "name": "stderr",
     "output_type": "stream",
     "text": [
      "Downloading videos:  75%|███████▌  | 226/300 [12:49<03:10,  2.57s/it]"
     ]
    },
    {
     "name": "stdout",
     "output_type": "stream",
     "text": [
      "Downloading https://tiktok.com/@ariellebrimhall/video/7266097320587021610\n"
     ]
    },
    {
     "name": "stderr",
     "output_type": "stream",
     "text": [
      "WARNING: [TikTok] Expecting value in '': line 1 column 1 (char 0). Retrying... (attempt 1 of 4)\n",
      "WARNING: [TikTok] Expecting value in '': line 1 column 1 (char 0). Retrying... (attempt 2 of 4)\n",
      "WARNING: [TikTok] Expecting value in '': line 1 column 1 (char 0). Retrying... (attempt 3 of 4)\n",
      "WARNING: [TikTok] 7266097320587021610: Failed to parse JSON (caused by JSONDecodeError(\"Expecting value in '': line 1 column 1 (char 0)\")); trying with webpage\n"
     ]
    },
    {
     "name": "stdout",
     "output_type": "stream",
     "text": [
      "                                                           \r"
     ]
    },
    {
     "name": "stderr",
     "output_type": "stream",
     "text": [
      "Downloading videos:  76%|███████▌  | 227/300 [12:52<03:31,  2.90s/it]"
     ]
    },
    {
     "name": "stdout",
     "output_type": "stream",
     "text": [
      "Downloading https://tiktok.com/@ariellebrimhall/video/7266092616465272106\n"
     ]
    },
    {
     "name": "stderr",
     "output_type": "stream",
     "text": [
      "WARNING: [TikTok] Expecting value in '': line 1 column 1 (char 0). Retrying... (attempt 1 of 4)\n",
      "WARNING: [TikTok] Expecting value in '': line 1 column 1 (char 0). Retrying... (attempt 2 of 4)\n",
      "WARNING: [TikTok] Expecting value in '': line 1 column 1 (char 0). Retrying... (attempt 3 of 4)\n",
      "WARNING: [TikTok] 7266092616465272106: Failed to parse JSON (caused by JSONDecodeError(\"Expecting value in '': line 1 column 1 (char 0)\")); trying with webpage\n"
     ]
    },
    {
     "name": "stdout",
     "output_type": "stream",
     "text": [
      "                                                           \r"
     ]
    },
    {
     "name": "stderr",
     "output_type": "stream",
     "text": [
      "Downloading videos:  76%|███████▌  | 228/300 [12:56<03:51,  3.21s/it]"
     ]
    },
    {
     "name": "stdout",
     "output_type": "stream",
     "text": [
      "Downloading https://tiktok.com/@ariellebrimhall/video/7265730034453794094\n"
     ]
    },
    {
     "name": "stderr",
     "output_type": "stream",
     "text": [
      "WARNING: [TikTok] Expecting value in '': line 1 column 1 (char 0). Retrying... (attempt 1 of 4)\n",
      "WARNING: [TikTok] Expecting value in '': line 1 column 1 (char 0). Retrying... (attempt 2 of 4)\n",
      "WARNING: [TikTok] Expecting value in '': line 1 column 1 (char 0). Retrying... (attempt 3 of 4)\n",
      "WARNING: [TikTok] 7265730034453794094: Failed to parse JSON (caused by JSONDecodeError(\"Expecting value in '': line 1 column 1 (char 0)\")); trying with webpage\n"
     ]
    },
    {
     "name": "stdout",
     "output_type": "stream",
     "text": [
      "                                                           \r"
     ]
    },
    {
     "name": "stderr",
     "output_type": "stream",
     "text": [
      "Downloading videos:  76%|███████▋  | 229/300 [13:00<04:02,  3.42s/it]"
     ]
    },
    {
     "name": "stdout",
     "output_type": "stream",
     "text": [
      "Downloading https://tiktok.com/@ariellebrimhall/video/7265703653523180842\n"
     ]
    },
    {
     "name": "stderr",
     "output_type": "stream",
     "text": [
      "WARNING: [TikTok] Expecting value in '': line 1 column 1 (char 0). Retrying... (attempt 1 of 4)\n",
      "WARNING: [TikTok] Expecting value in '': line 1 column 1 (char 0). Retrying... (attempt 2 of 4)\n",
      "WARNING: [TikTok] Expecting value in '': line 1 column 1 (char 0). Retrying... (attempt 3 of 4)\n",
      "WARNING: [TikTok] 7265703653523180842: Failed to parse JSON (caused by JSONDecodeError(\"Expecting value in '': line 1 column 1 (char 0)\")); trying with webpage\n"
     ]
    },
    {
     "name": "stdout",
     "output_type": "stream",
     "text": [
      "                                                           \r"
     ]
    },
    {
     "name": "stderr",
     "output_type": "stream",
     "text": [
      "Downloading videos:  77%|███████▋  | 230/300 [13:03<03:51,  3.30s/it]"
     ]
    },
    {
     "name": "stdout",
     "output_type": "stream",
     "text": [
      "Downloading https://tiktok.com/@ariellebrimhall/video/7265321840749399339\n"
     ]
    },
    {
     "name": "stderr",
     "output_type": "stream",
     "text": [
      "WARNING: [TikTok] Expecting value in '': line 1 column 1 (char 0). Retrying... (attempt 1 of 4)\n",
      "WARNING: [TikTok] Expecting value in '': line 1 column 1 (char 0). Retrying... (attempt 2 of 4)\n",
      "WARNING: [TikTok] Expecting value in '': line 1 column 1 (char 0). Retrying... (attempt 3 of 4)\n",
      "WARNING: [TikTok] 7265321840749399339: Failed to parse JSON (caused by JSONDecodeError(\"Expecting value in '': line 1 column 1 (char 0)\")); trying with webpage\n"
     ]
    },
    {
     "name": "stdout",
     "output_type": "stream",
     "text": [
      "                                                           \r"
     ]
    },
    {
     "name": "stderr",
     "output_type": "stream",
     "text": [
      "Downloading videos:  77%|███████▋  | 231/300 [13:06<03:38,  3.17s/it]"
     ]
    },
    {
     "name": "stdout",
     "output_type": "stream",
     "text": [
      "Downloading https://tiktok.com/@ariellebrimhall/video/7265041841266117934\n"
     ]
    },
    {
     "name": "stderr",
     "output_type": "stream",
     "text": [
      "WARNING: [TikTok] Expecting value in '': line 1 column 1 (char 0). Retrying... (attempt 1 of 4)\n",
      "WARNING: [TikTok] Expecting value in '': line 1 column 1 (char 0). Retrying... (attempt 2 of 4)\n",
      "WARNING: [TikTok] Expecting value in '': line 1 column 1 (char 0). Retrying... (attempt 3 of 4)\n",
      "WARNING: [TikTok] 7265041841266117934: Failed to parse JSON (caused by JSONDecodeError(\"Expecting value in '': line 1 column 1 (char 0)\")); trying with webpage\n"
     ]
    },
    {
     "name": "stdout",
     "output_type": "stream",
     "text": [
      "                                                         \r"
     ]
    },
    {
     "name": "stderr",
     "output_type": "stream",
     "text": [
      "Downloading videos:  77%|███████▋  | 232/300 [13:09<03:29,  3.08s/it]"
     ]
    },
    {
     "name": "stdout",
     "output_type": "stream",
     "text": [
      "Downloading https://tiktok.com/@ariellebrimhall/video/7264955654304009515\n"
     ]
    },
    {
     "name": "stderr",
     "output_type": "stream",
     "text": [
      "WARNING: [TikTok] Expecting value in '': line 1 column 1 (char 0). Retrying... (attempt 1 of 4)\n",
      "WARNING: [TikTok] Expecting value in '': line 1 column 1 (char 0). Retrying... (attempt 2 of 4)\n",
      "WARNING: [TikTok] Expecting value in '': line 1 column 1 (char 0). Retrying... (attempt 3 of 4)\n",
      "WARNING: [TikTok] 7264955654304009515: Failed to parse JSON (caused by JSONDecodeError(\"Expecting value in '': line 1 column 1 (char 0)\")); trying with webpage\n"
     ]
    },
    {
     "name": "stdout",
     "output_type": "stream",
     "text": [
      "                                                         \r"
     ]
    },
    {
     "name": "stderr",
     "output_type": "stream",
     "text": [
      "Downloading videos:  78%|███████▊  | 233/300 [13:12<03:24,  3.05s/it]"
     ]
    },
    {
     "name": "stdout",
     "output_type": "stream",
     "text": [
      "Downloading https://tiktok.com/@ariellebrimhall/video/7264623723611819307\n"
     ]
    },
    {
     "name": "stderr",
     "output_type": "stream",
     "text": [
      "WARNING: [TikTok] Expecting value in '': line 1 column 1 (char 0). Retrying... (attempt 1 of 4)\n",
      "WARNING: [TikTok] Expecting value in '': line 1 column 1 (char 0). Retrying... (attempt 2 of 4)\n",
      "WARNING: [TikTok] Expecting value in '': line 1 column 1 (char 0). Retrying... (attempt 3 of 4)\n",
      "WARNING: [TikTok] 7264623723611819307: Failed to parse JSON (caused by JSONDecodeError(\"Expecting value in '': line 1 column 1 (char 0)\")); trying with webpage\n"
     ]
    },
    {
     "name": "stdout",
     "output_type": "stream",
     "text": [
      "                                                           \r"
     ]
    },
    {
     "name": "stderr",
     "output_type": "stream",
     "text": [
      "Downloading videos:  78%|███████▊  | 234/300 [13:16<03:31,  3.20s/it]"
     ]
    },
    {
     "name": "stdout",
     "output_type": "stream",
     "text": [
      "Downloading https://tiktok.com/@ariellebrimhall/video/7264573893866769707\n"
     ]
    },
    {
     "name": "stderr",
     "output_type": "stream",
     "text": [
      "WARNING: [TikTok] Expecting value in '': line 1 column 1 (char 0). Retrying... (attempt 1 of 4)\n",
      "WARNING: [TikTok] Expecting value in '': line 1 column 1 (char 0). Retrying... (attempt 2 of 4)\n",
      "WARNING: [TikTok] Expecting value in '': line 1 column 1 (char 0). Retrying... (attempt 3 of 4)\n",
      "WARNING: [TikTok] 7264573893866769707: Failed to parse JSON (caused by JSONDecodeError(\"Expecting value in '': line 1 column 1 (char 0)\")); trying with webpage\n"
     ]
    },
    {
     "name": "stdout",
     "output_type": "stream",
     "text": [
      "                                                           \r"
     ]
    },
    {
     "name": "stderr",
     "output_type": "stream",
     "text": [
      "Downloading videos:  78%|███████▊  | 235/300 [13:19<03:33,  3.29s/it]"
     ]
    },
    {
     "name": "stdout",
     "output_type": "stream",
     "text": [
      "Downloading https://tiktok.com/@ariellebrimhall/video/7263515230687218986\n"
     ]
    },
    {
     "name": "stderr",
     "output_type": "stream",
     "text": [
      "WARNING: [TikTok] Expecting value in '': line 1 column 1 (char 0). Retrying... (attempt 1 of 4)\n",
      "WARNING: [TikTok] Expecting value in '': line 1 column 1 (char 0). Retrying... (attempt 2 of 4)\n",
      "WARNING: [TikTok] Expecting value in '': line 1 column 1 (char 0). Retrying... (attempt 3 of 4)\n",
      "WARNING: [TikTok] 7263515230687218986: Failed to parse JSON (caused by JSONDecodeError(\"Expecting value in '': line 1 column 1 (char 0)\")); trying with webpage\n",
      "ERROR: [TikTok] 7263515230687218986: Unable to extract webpage video data; please report this issue on  https://github.com/yt-dlp/yt-dlp/issues?q= , filling out the appropriate issue template. Confirm you are on the latest version using  yt-dlp -U\n",
      "Downloading videos:  79%|███████▊  | 236/300 [13:21<02:57,  2.78s/it]"
     ]
    },
    {
     "name": "stdout",
     "output_type": "stream",
     "text": [
      "Encountered error ERROR: [TikTok] 7263515230687218986: Unable to extract webpage video data; please report this issue on  https://github.com/yt-dlp/yt-dlp/issues?q= , filling out the appropriate issue template. Confirm you are on the latest version using  yt-dlp -U when attempting to download url: https://tiktok.com/@ariellebrimhall/video/7263515230687218986\n",
      "Downloading https://tiktok.com/@ariellebrimhall/video/7263094617803951402\n"
     ]
    },
    {
     "name": "stderr",
     "output_type": "stream",
     "text": [
      "WARNING: [TikTok] Expecting value in '': line 1 column 1 (char 0). Retrying... (attempt 1 of 4)\n",
      "WARNING: [TikTok] Expecting value in '': line 1 column 1 (char 0). Retrying... (attempt 2 of 4)\n",
      "WARNING: [TikTok] Expecting value in '': line 1 column 1 (char 0). Retrying... (attempt 3 of 4)\n",
      "WARNING: [TikTok] 7263094617803951402: Failed to parse JSON (caused by JSONDecodeError(\"Expecting value in '': line 1 column 1 (char 0)\")); trying with webpage\n"
     ]
    },
    {
     "name": "stdout",
     "output_type": "stream",
     "text": [
      "                                                         \r"
     ]
    },
    {
     "name": "stderr",
     "output_type": "stream",
     "text": [
      "Downloading videos:  79%|███████▉  | 237/300 [13:24<03:09,  3.00s/it]"
     ]
    },
    {
     "name": "stdout",
     "output_type": "stream",
     "text": [
      "Downloading https://tiktok.com/@ariellebrimhall/video/7262774281870806303\n"
     ]
    },
    {
     "name": "stderr",
     "output_type": "stream",
     "text": [
      "WARNING: [TikTok] Expecting value in '': line 1 column 1 (char 0). Retrying... (attempt 1 of 4)\n",
      "WARNING: [TikTok] Expecting value in '': line 1 column 1 (char 0). Retrying... (attempt 2 of 4)\n",
      "WARNING: [TikTok] Expecting value in '': line 1 column 1 (char 0). Retrying... (attempt 3 of 4)\n",
      "WARNING: [TikTok] 7262774281870806303: Failed to parse JSON (caused by JSONDecodeError(\"Expecting value in '': line 1 column 1 (char 0)\")); trying with webpage\n"
     ]
    },
    {
     "name": "stdout",
     "output_type": "stream",
     "text": [
      "                                                           \r"
     ]
    },
    {
     "name": "stderr",
     "output_type": "stream",
     "text": [
      "Downloading videos:  79%|███████▉  | 238/300 [13:30<03:53,  3.76s/it]"
     ]
    },
    {
     "name": "stdout",
     "output_type": "stream",
     "text": [
      "Downloading https://tiktok.com/@ariellebrimhall/video/7262762150018452767\n"
     ]
    },
    {
     "name": "stderr",
     "output_type": "stream",
     "text": [
      "WARNING: [TikTok] Expecting value in '': line 1 column 1 (char 0). Retrying... (attempt 1 of 4)\n",
      "WARNING: [TikTok] Expecting value in '': line 1 column 1 (char 0). Retrying... (attempt 2 of 4)\n",
      "WARNING: [TikTok] Expecting value in '': line 1 column 1 (char 0). Retrying... (attempt 3 of 4)\n",
      "WARNING: [TikTok] 7262762150018452767: Failed to parse JSON (caused by JSONDecodeError(\"Expecting value in '': line 1 column 1 (char 0)\")); trying with webpage\n"
     ]
    },
    {
     "name": "stdout",
     "output_type": "stream",
     "text": [
      "                                                           \r"
     ]
    },
    {
     "name": "stderr",
     "output_type": "stream",
     "text": [
      "Downloading videos:  80%|███████▉  | 239/300 [13:32<03:20,  3.29s/it]"
     ]
    },
    {
     "name": "stdout",
     "output_type": "stream",
     "text": [
      "Downloading https://tiktok.com/@ariellebrimhall/video/7262717302058110250\n"
     ]
    },
    {
     "name": "stderr",
     "output_type": "stream",
     "text": [
      "WARNING: [TikTok] Expecting value in '': line 1 column 1 (char 0). Retrying... (attempt 1 of 4)\n",
      "WARNING: [TikTok] Expecting value in '': line 1 column 1 (char 0). Retrying... (attempt 2 of 4)\n",
      "WARNING: [TikTok] Expecting value in '': line 1 column 1 (char 0). Retrying... (attempt 3 of 4)\n",
      "WARNING: [TikTok] 7262717302058110250: Failed to parse JSON (caused by JSONDecodeError(\"Expecting value in '': line 1 column 1 (char 0)\")); trying with webpage\n"
     ]
    },
    {
     "name": "stdout",
     "output_type": "stream",
     "text": [
      "                                                           \r"
     ]
    },
    {
     "name": "stderr",
     "output_type": "stream",
     "text": [
      "Downloading videos:  80%|████████  | 240/300 [13:35<03:07,  3.12s/it]"
     ]
    },
    {
     "name": "stdout",
     "output_type": "stream",
     "text": [
      "Downloading https://tiktok.com/@ariellebrimhall/video/7262401563958824222\n"
     ]
    },
    {
     "name": "stderr",
     "output_type": "stream",
     "text": [
      "WARNING: [TikTok] Expecting value in '': line 1 column 1 (char 0). Retrying... (attempt 1 of 4)\n",
      "WARNING: [TikTok] Expecting value in '': line 1 column 1 (char 0). Retrying... (attempt 2 of 4)\n",
      "WARNING: [TikTok] Expecting value in '': line 1 column 1 (char 0). Retrying... (attempt 3 of 4)\n",
      "WARNING: [TikTok] 7262401563958824222: Failed to parse JSON (caused by JSONDecodeError(\"Expecting value in '': line 1 column 1 (char 0)\")); trying with webpage\n"
     ]
    },
    {
     "name": "stdout",
     "output_type": "stream",
     "text": [
      "                                                           \r"
     ]
    },
    {
     "name": "stderr",
     "output_type": "stream",
     "text": [
      "Downloading videos:  80%|████████  | 241/300 [13:37<02:57,  3.00s/it]"
     ]
    },
    {
     "name": "stdout",
     "output_type": "stream",
     "text": [
      "Downloading https://tiktok.com/@ariellebrimhall/video/7262346368721849646\n"
     ]
    },
    {
     "name": "stderr",
     "output_type": "stream",
     "text": [
      "WARNING: [TikTok] Expecting value in '': line 1 column 1 (char 0). Retrying... (attempt 1 of 4)\n",
      "WARNING: [TikTok] Expecting value in '': line 1 column 1 (char 0). Retrying... (attempt 2 of 4)\n",
      "WARNING: [TikTok] Expecting value in '': line 1 column 1 (char 0). Retrying... (attempt 3 of 4)\n",
      "WARNING: [TikTok] 7262346368721849646: Failed to parse JSON (caused by JSONDecodeError(\"Expecting value in '': line 1 column 1 (char 0)\")); trying with webpage\n"
     ]
    },
    {
     "name": "stdout",
     "output_type": "stream",
     "text": [
      "                                                         \r"
     ]
    },
    {
     "name": "stderr",
     "output_type": "stream",
     "text": [
      "Downloading videos:  81%|████████  | 242/300 [13:40<02:47,  2.89s/it]"
     ]
    },
    {
     "name": "stdout",
     "output_type": "stream",
     "text": [
      "Downloading https://tiktok.com/@ariellebrimhall/video/7260542776260005150\n"
     ]
    },
    {
     "name": "stderr",
     "output_type": "stream",
     "text": [
      "WARNING: [TikTok] Expecting value in '': line 1 column 1 (char 0). Retrying... (attempt 1 of 4)\n",
      "WARNING: [TikTok] Expecting value in '': line 1 column 1 (char 0). Retrying... (attempt 2 of 4)\n",
      "WARNING: [TikTok] Expecting value in '': line 1 column 1 (char 0). Retrying... (attempt 3 of 4)\n",
      "WARNING: [TikTok] 7260542776260005150: Failed to parse JSON (caused by JSONDecodeError(\"Expecting value in '': line 1 column 1 (char 0)\")); trying with webpage\n"
     ]
    },
    {
     "name": "stdout",
     "output_type": "stream",
     "text": [
      "                                                         \r"
     ]
    },
    {
     "name": "stderr",
     "output_type": "stream",
     "text": [
      "Downloading videos:  81%|████████  | 243/300 [13:43<02:40,  2.81s/it]"
     ]
    },
    {
     "name": "stdout",
     "output_type": "stream",
     "text": [
      "Downloading https://tiktok.com/@ariellebrimhall/video/7260495856481160490\n"
     ]
    },
    {
     "name": "stderr",
     "output_type": "stream",
     "text": [
      "WARNING: [TikTok] Expecting value in '': line 1 column 1 (char 0). Retrying... (attempt 1 of 4)\n",
      "WARNING: [TikTok] Expecting value in '': line 1 column 1 (char 0). Retrying... (attempt 2 of 4)\n",
      "WARNING: [TikTok] Expecting value in '': line 1 column 1 (char 0). Retrying... (attempt 3 of 4)\n",
      "WARNING: [TikTok] 7260495856481160490: Failed to parse JSON (caused by JSONDecodeError(\"Expecting value in '': line 1 column 1 (char 0)\")); trying with webpage\n"
     ]
    },
    {
     "name": "stdout",
     "output_type": "stream",
     "text": [
      "                                                         \r"
     ]
    },
    {
     "name": "stderr",
     "output_type": "stream",
     "text": [
      "Downloading videos:  81%|████████▏ | 244/300 [13:45<02:35,  2.77s/it]"
     ]
    },
    {
     "name": "stdout",
     "output_type": "stream",
     "text": [
      "Downloading https://tiktok.com/@ariellebrimhall/video/7260129379953560875\n"
     ]
    },
    {
     "name": "stderr",
     "output_type": "stream",
     "text": [
      "WARNING: [TikTok] Expecting value in '': line 1 column 1 (char 0). Retrying... (attempt 1 of 4)\n",
      "WARNING: [TikTok] Expecting value in '': line 1 column 1 (char 0). Retrying... (attempt 2 of 4)\n",
      "WARNING: [TikTok] Expecting value in '': line 1 column 1 (char 0). Retrying... (attempt 3 of 4)\n",
      "WARNING: [TikTok] 7260129379953560875: Failed to parse JSON (caused by JSONDecodeError(\"Expecting value in '': line 1 column 1 (char 0)\")); trying with webpage\n"
     ]
    },
    {
     "name": "stdout",
     "output_type": "stream",
     "text": [
      "                                                           \r"
     ]
    },
    {
     "name": "stderr",
     "output_type": "stream",
     "text": [
      "Downloading videos:  82%|████████▏ | 245/300 [13:51<03:15,  3.56s/it]"
     ]
    },
    {
     "name": "stdout",
     "output_type": "stream",
     "text": [
      "Downloading https://tiktok.com/@ariellebrimhall/video/7259759356521237806\n"
     ]
    },
    {
     "name": "stderr",
     "output_type": "stream",
     "text": [
      "WARNING: [TikTok] Expecting value in '': line 1 column 1 (char 0). Retrying... (attempt 1 of 4)\n",
      "WARNING: [TikTok] Expecting value in '': line 1 column 1 (char 0). Retrying... (attempt 2 of 4)\n",
      "WARNING: [TikTok] Expecting value in '': line 1 column 1 (char 0). Retrying... (attempt 3 of 4)\n",
      "WARNING: [TikTok] 7259759356521237806: Failed to parse JSON (caused by JSONDecodeError(\"Expecting value in '': line 1 column 1 (char 0)\")); trying with webpage\n"
     ]
    },
    {
     "name": "stdout",
     "output_type": "stream",
     "text": [
      "                                                           \r"
     ]
    },
    {
     "name": "stderr",
     "output_type": "stream",
     "text": [
      "Downloading videos:  82%|████████▏ | 246/300 [13:53<02:57,  3.28s/it]"
     ]
    },
    {
     "name": "stdout",
     "output_type": "stream",
     "text": [
      "Downloading https://tiktok.com/@ariellebrimhall/video/7259387145515732267\n"
     ]
    },
    {
     "name": "stderr",
     "output_type": "stream",
     "text": [
      "WARNING: [TikTok] Expecting value in '': line 1 column 1 (char 0). Retrying... (attempt 1 of 4)\n",
      "WARNING: [TikTok] Expecting value in '': line 1 column 1 (char 0). Retrying... (attempt 2 of 4)\n",
      "WARNING: [TikTok] Expecting value in '': line 1 column 1 (char 0). Retrying... (attempt 3 of 4)\n",
      "WARNING: [TikTok] 7259387145515732267: Failed to parse JSON (caused by JSONDecodeError(\"Expecting value in '': line 1 column 1 (char 0)\")); trying with webpage\n"
     ]
    },
    {
     "name": "stdout",
     "output_type": "stream",
     "text": [
      "                                                           \r"
     ]
    },
    {
     "name": "stderr",
     "output_type": "stream",
     "text": [
      "Downloading videos:  82%|████████▏ | 247/300 [13:57<02:56,  3.33s/it]"
     ]
    },
    {
     "name": "stdout",
     "output_type": "stream",
     "text": [
      "Downloading https://tiktok.com/@ariellebrimhall/video/7258276691745967406\n"
     ]
    },
    {
     "name": "stderr",
     "output_type": "stream",
     "text": [
      "WARNING: [TikTok] Expecting value in '': line 1 column 1 (char 0). Retrying... (attempt 1 of 4)\n",
      "WARNING: [TikTok] Expecting value in '': line 1 column 1 (char 0). Retrying... (attempt 2 of 4)\n",
      "WARNING: [TikTok] Expecting value in '': line 1 column 1 (char 0). Retrying... (attempt 3 of 4)\n",
      "WARNING: [TikTok] 7258276691745967406: Failed to parse JSON (caused by JSONDecodeError(\"Expecting value in '': line 1 column 1 (char 0)\")); trying with webpage\n"
     ]
    },
    {
     "name": "stdout",
     "output_type": "stream",
     "text": [
      "                                                           \r"
     ]
    },
    {
     "name": "stderr",
     "output_type": "stream",
     "text": [
      "Downloading videos:  83%|████████▎ | 248/300 [14:01<03:08,  3.63s/it]"
     ]
    },
    {
     "name": "stdout",
     "output_type": "stream",
     "text": [
      "Downloading https://tiktok.com/@ariellebrimhall/video/7257911816154713390\n"
     ]
    },
    {
     "name": "stderr",
     "output_type": "stream",
     "text": [
      "WARNING: [TikTok] Expecting value in '': line 1 column 1 (char 0). Retrying... (attempt 1 of 4)\n",
      "WARNING: [TikTok] Expecting value in '': line 1 column 1 (char 0). Retrying... (attempt 2 of 4)\n",
      "WARNING: [TikTok] Expecting value in '': line 1 column 1 (char 0). Retrying... (attempt 3 of 4)\n",
      "WARNING: [TikTok] 7257911816154713390: Failed to parse JSON (caused by JSONDecodeError(\"Expecting value in '': line 1 column 1 (char 0)\")); trying with webpage\n"
     ]
    },
    {
     "name": "stdout",
     "output_type": "stream",
     "text": [
      "                                                         \r"
     ]
    },
    {
     "name": "stderr",
     "output_type": "stream",
     "text": [
      "Downloading videos:  83%|████████▎ | 249/300 [14:04<02:46,  3.26s/it]"
     ]
    },
    {
     "name": "stdout",
     "output_type": "stream",
     "text": [
      "Downloading https://tiktok.com/@ariellebrimhall/video/7257650244375137578\n"
     ]
    },
    {
     "name": "stderr",
     "output_type": "stream",
     "text": [
      "WARNING: [TikTok] Expecting value in '': line 1 column 1 (char 0). Retrying... (attempt 1 of 4)\n",
      "WARNING: [TikTok] Expecting value in '': line 1 column 1 (char 0). Retrying... (attempt 2 of 4)\n",
      "WARNING: [TikTok] Expecting value in '': line 1 column 1 (char 0). Retrying... (attempt 3 of 4)\n",
      "WARNING: [TikTok] 7257650244375137578: Failed to parse JSON (caused by JSONDecodeError(\"Expecting value in '': line 1 column 1 (char 0)\")); trying with webpage\n"
     ]
    },
    {
     "name": "stdout",
     "output_type": "stream",
     "text": [
      "                                                         \r"
     ]
    },
    {
     "name": "stderr",
     "output_type": "stream",
     "text": [
      "Downloading videos:  83%|████████▎ | 250/300 [14:07<02:49,  3.40s/it]"
     ]
    },
    {
     "name": "stdout",
     "output_type": "stream",
     "text": [
      "Downloading https://tiktok.com/@ariellebrimhall/video/7257532410152111402\n"
     ]
    },
    {
     "name": "stderr",
     "output_type": "stream",
     "text": [
      "WARNING: [TikTok] Expecting value in '': line 1 column 1 (char 0). Retrying... (attempt 1 of 4)\n",
      "WARNING: [TikTok] Expecting value in '': line 1 column 1 (char 0). Retrying... (attempt 2 of 4)\n",
      "WARNING: [TikTok] Expecting value in '': line 1 column 1 (char 0). Retrying... (attempt 3 of 4)\n",
      "WARNING: [TikTok] 7257532410152111402: Failed to parse JSON (caused by JSONDecodeError(\"Expecting value in '': line 1 column 1 (char 0)\")); trying with webpage\n"
     ]
    },
    {
     "name": "stdout",
     "output_type": "stream",
     "text": [
      "                                                         \r"
     ]
    },
    {
     "name": "stderr",
     "output_type": "stream",
     "text": [
      "Downloading videos:  84%|████████▎ | 251/300 [14:10<02:36,  3.20s/it]"
     ]
    },
    {
     "name": "stdout",
     "output_type": "stream",
     "text": [
      "Downloading https://tiktok.com/@ariellebrimhall/video/7256785377711689006\n"
     ]
    },
    {
     "name": "stderr",
     "output_type": "stream",
     "text": [
      "WARNING: [TikTok] Expecting value in '': line 1 column 1 (char 0). Retrying... (attempt 1 of 4)\n",
      "WARNING: [TikTok] Expecting value in '': line 1 column 1 (char 0). Retrying... (attempt 2 of 4)\n",
      "WARNING: [TikTok] Expecting value in '': line 1 column 1 (char 0). Retrying... (attempt 3 of 4)\n",
      "WARNING: [TikTok] 7256785377711689006: Failed to parse JSON (caused by JSONDecodeError(\"Expecting value in '': line 1 column 1 (char 0)\")); trying with webpage\n"
     ]
    },
    {
     "name": "stdout",
     "output_type": "stream",
     "text": [
      "                                                           \r"
     ]
    },
    {
     "name": "stderr",
     "output_type": "stream",
     "text": [
      "Downloading videos:  84%|████████▍ | 252/300 [14:13<02:29,  3.12s/it]"
     ]
    },
    {
     "name": "stdout",
     "output_type": "stream",
     "text": [
      "Downloading https://tiktok.com/@ariellebrimhall/video/7254987701949173035\n"
     ]
    },
    {
     "name": "stderr",
     "output_type": "stream",
     "text": [
      "WARNING: [TikTok] Expecting value in '': line 1 column 1 (char 0). Retrying... (attempt 1 of 4)\n",
      "WARNING: [TikTok] Expecting value in '': line 1 column 1 (char 0). Retrying... (attempt 2 of 4)\n",
      "WARNING: [TikTok] Expecting value in '': line 1 column 1 (char 0). Retrying... (attempt 3 of 4)\n",
      "WARNING: [TikTok] 7254987701949173035: Failed to parse JSON (caused by JSONDecodeError(\"Expecting value in '': line 1 column 1 (char 0)\")); trying with webpage\n"
     ]
    },
    {
     "name": "stdout",
     "output_type": "stream",
     "text": [
      "                                                         \r"
     ]
    },
    {
     "name": "stderr",
     "output_type": "stream",
     "text": [
      "Downloading videos:  84%|████████▍ | 253/300 [14:15<02:15,  2.89s/it]"
     ]
    },
    {
     "name": "stdout",
     "output_type": "stream",
     "text": [
      "Downloading https://tiktok.com/@ariellebrimhall/video/7254960376339565870\n"
     ]
    },
    {
     "name": "stderr",
     "output_type": "stream",
     "text": [
      "WARNING: [TikTok] Expecting value in '': line 1 column 1 (char 0). Retrying... (attempt 1 of 4)\n",
      "WARNING: [TikTok] Expecting value in '': line 1 column 1 (char 0). Retrying... (attempt 2 of 4)\n",
      "WARNING: [TikTok] Expecting value in '': line 1 column 1 (char 0). Retrying... (attempt 3 of 4)\n",
      "WARNING: [TikTok] 7254960376339565870: Failed to parse JSON (caused by JSONDecodeError(\"Expecting value in '': line 1 column 1 (char 0)\")); trying with webpage\n"
     ]
    },
    {
     "name": "stdout",
     "output_type": "stream",
     "text": [
      "                                                         \r"
     ]
    },
    {
     "name": "stderr",
     "output_type": "stream",
     "text": [
      "Downloading videos:  85%|████████▍ | 254/300 [14:19<02:23,  3.11s/it]"
     ]
    },
    {
     "name": "stdout",
     "output_type": "stream",
     "text": [
      "Downloading https://tiktok.com/@ariellebrimhall/video/7254934043446349099\n"
     ]
    },
    {
     "name": "stderr",
     "output_type": "stream",
     "text": [
      "WARNING: [TikTok] Expecting value in '': line 1 column 1 (char 0). Retrying... (attempt 1 of 4)\n",
      "WARNING: [TikTok] Expecting value in '': line 1 column 1 (char 0). Retrying... (attempt 2 of 4)\n",
      "WARNING: [TikTok] Expecting value in '': line 1 column 1 (char 0). Retrying... (attempt 3 of 4)\n",
      "WARNING: [TikTok] 7254934043446349099: Failed to parse JSON (caused by JSONDecodeError(\"Expecting value in '': line 1 column 1 (char 0)\")); trying with webpage\n"
     ]
    },
    {
     "name": "stdout",
     "output_type": "stream",
     "text": [
      "                                                           \r"
     ]
    },
    {
     "name": "stderr",
     "output_type": "stream",
     "text": [
      "Downloading videos:  85%|████████▌ | 255/300 [14:24<02:48,  3.74s/it]"
     ]
    },
    {
     "name": "stdout",
     "output_type": "stream",
     "text": [
      "Downloading https://tiktok.com/@ariellebrimhall/video/7254724837346725163\n"
     ]
    },
    {
     "name": "stderr",
     "output_type": "stream",
     "text": [
      "WARNING: [TikTok] Expecting value in '': line 1 column 1 (char 0). Retrying... (attempt 1 of 4)\n",
      "WARNING: [TikTok] Expecting value in '': line 1 column 1 (char 0). Retrying... (attempt 2 of 4)\n",
      "WARNING: [TikTok] Expecting value in '': line 1 column 1 (char 0). Retrying... (attempt 3 of 4)\n",
      "WARNING: [TikTok] 7254724837346725163: Failed to parse JSON (caused by JSONDecodeError(\"Expecting value in '': line 1 column 1 (char 0)\")); trying with webpage\n"
     ]
    },
    {
     "name": "stdout",
     "output_type": "stream",
     "text": [
      "                                                           \r"
     ]
    },
    {
     "name": "stderr",
     "output_type": "stream",
     "text": [
      "Downloading videos:  85%|████████▌ | 256/300 [14:28<02:47,  3.81s/it]"
     ]
    },
    {
     "name": "stdout",
     "output_type": "stream",
     "text": [
      "Downloading https://tiktok.com/@ariellebrimhall/video/7254713323604774187\n"
     ]
    },
    {
     "name": "stderr",
     "output_type": "stream",
     "text": [
      "WARNING: [TikTok] Expecting value in '': line 1 column 1 (char 0). Retrying... (attempt 1 of 4)\n",
      "WARNING: [TikTok] Expecting value in '': line 1 column 1 (char 0). Retrying... (attempt 2 of 4)\n",
      "WARNING: [TikTok] Expecting value in '': line 1 column 1 (char 0). Retrying... (attempt 3 of 4)\n",
      "WARNING: [TikTok] 7254713323604774187: Failed to parse JSON (caused by JSONDecodeError(\"Expecting value in '': line 1 column 1 (char 0)\")); trying with webpage\n"
     ]
    },
    {
     "name": "stdout",
     "output_type": "stream",
     "text": [
      "                                                         \r"
     ]
    },
    {
     "name": "stderr",
     "output_type": "stream",
     "text": [
      "Downloading videos:  86%|████████▌ | 257/300 [14:30<02:25,  3.38s/it]"
     ]
    },
    {
     "name": "stdout",
     "output_type": "stream",
     "text": [
      "Downloading https://tiktok.com/@ariellebrimhall/video/7254574905004543274\n"
     ]
    },
    {
     "name": "stderr",
     "output_type": "stream",
     "text": [
      "WARNING: [TikTok] Expecting value in '': line 1 column 1 (char 0). Retrying... (attempt 1 of 4)\n",
      "WARNING: [TikTok] Expecting value in '': line 1 column 1 (char 0). Retrying... (attempt 2 of 4)\n",
      "WARNING: [TikTok] Expecting value in '': line 1 column 1 (char 0). Retrying... (attempt 3 of 4)\n",
      "WARNING: [TikTok] 7254574905004543274: Failed to parse JSON (caused by JSONDecodeError(\"Expecting value in '': line 1 column 1 (char 0)\")); trying with webpage\n"
     ]
    },
    {
     "name": "stdout",
     "output_type": "stream",
     "text": [
      "                                                           \r"
     ]
    },
    {
     "name": "stderr",
     "output_type": "stream",
     "text": [
      "Downloading videos:  86%|████████▌ | 258/300 [14:38<03:15,  4.65s/it]"
     ]
    },
    {
     "name": "stdout",
     "output_type": "stream",
     "text": [
      "Downloading https://tiktok.com/@ariellebrimhall/video/7254239024766881067\n"
     ]
    },
    {
     "name": "stderr",
     "output_type": "stream",
     "text": [
      "WARNING: [TikTok] Expecting value in '': line 1 column 1 (char 0). Retrying... (attempt 1 of 4)\n",
      "WARNING: [TikTok] Expecting value in '': line 1 column 1 (char 0). Retrying... (attempt 2 of 4)\n",
      "WARNING: [TikTok] Expecting value in '': line 1 column 1 (char 0). Retrying... (attempt 3 of 4)\n",
      "WARNING: [TikTok] 7254239024766881067: Failed to parse JSON (caused by JSONDecodeError(\"Expecting value in '': line 1 column 1 (char 0)\")); trying with webpage\n"
     ]
    },
    {
     "name": "stdout",
     "output_type": "stream",
     "text": [
      "                                                         \r"
     ]
    },
    {
     "name": "stderr",
     "output_type": "stream",
     "text": [
      "Downloading videos:  86%|████████▋ | 259/300 [14:41<02:45,  4.04s/it]"
     ]
    },
    {
     "name": "stdout",
     "output_type": "stream",
     "text": [
      "Downloading https://tiktok.com/@ariellebrimhall/video/7254198273228066094\n"
     ]
    },
    {
     "name": "stderr",
     "output_type": "stream",
     "text": [
      "WARNING: [TikTok] Expecting value in '': line 1 column 1 (char 0). Retrying... (attempt 1 of 4)\n",
      "WARNING: [TikTok] Expecting value in '': line 1 column 1 (char 0). Retrying... (attempt 2 of 4)\n",
      "WARNING: [TikTok] Expecting value in '': line 1 column 1 (char 0). Retrying... (attempt 3 of 4)\n",
      "WARNING: [TikTok] 7254198273228066094: Failed to parse JSON (caused by JSONDecodeError(\"Expecting value in '': line 1 column 1 (char 0)\")); trying with webpage\n"
     ]
    },
    {
     "name": "stdout",
     "output_type": "stream",
     "text": [
      "                                                         \r"
     ]
    },
    {
     "name": "stderr",
     "output_type": "stream",
     "text": [
      "Downloading videos:  87%|████████▋ | 260/300 [14:45<02:45,  4.13s/it]"
     ]
    },
    {
     "name": "stdout",
     "output_type": "stream",
     "text": [
      "Downloading https://tiktok.com/@ariellebrimhall/video/7250512066732182827\n"
     ]
    },
    {
     "name": "stderr",
     "output_type": "stream",
     "text": [
      "WARNING: [TikTok] Expecting value in '': line 1 column 1 (char 0). Retrying... (attempt 1 of 4)\n",
      "WARNING: [TikTok] Expecting value in '': line 1 column 1 (char 0). Retrying... (attempt 2 of 4)\n",
      "WARNING: [TikTok] Expecting value in '': line 1 column 1 (char 0). Retrying... (attempt 3 of 4)\n",
      "WARNING: [TikTok] 7250512066732182827: Failed to parse JSON (caused by JSONDecodeError(\"Expecting value in '': line 1 column 1 (char 0)\")); trying with webpage\n"
     ]
    },
    {
     "name": "stdout",
     "output_type": "stream",
     "text": [
      "                                                           \r"
     ]
    },
    {
     "name": "stderr",
     "output_type": "stream",
     "text": [
      "Downloading videos:  87%|████████▋ | 261/300 [14:47<02:16,  3.50s/it]"
     ]
    },
    {
     "name": "stdout",
     "output_type": "stream",
     "text": [
      "Downloading https://tiktok.com/@ariellebrimhall/video/6932151264423726341\n"
     ]
    },
    {
     "name": "stderr",
     "output_type": "stream",
     "text": [
      "WARNING: [TikTok] Expecting value in '': line 1 column 1 (char 0). Retrying... (attempt 1 of 4)\n",
      "WARNING: [TikTok] Expecting value in '': line 1 column 1 (char 0). Retrying... (attempt 2 of 4)\n",
      "WARNING: [TikTok] Expecting value in '': line 1 column 1 (char 0). Retrying... (attempt 3 of 4)\n",
      "WARNING: [TikTok] 6932151264423726341: Failed to parse JSON (caused by JSONDecodeError(\"Expecting value in '': line 1 column 1 (char 0)\")); trying with webpage\n"
     ]
    },
    {
     "name": "stdout",
     "output_type": "stream",
     "text": [
      "                                                           \r"
     ]
    },
    {
     "name": "stderr",
     "output_type": "stream",
     "text": [
      "Downloading videos:  87%|████████▋ | 262/300 [14:50<02:03,  3.25s/it]"
     ]
    },
    {
     "name": "stdout",
     "output_type": "stream",
     "text": [
      "Downloading https://tiktok.com/@ariellebrimhall/video/6931777309217246469\n"
     ]
    },
    {
     "name": "stderr",
     "output_type": "stream",
     "text": [
      "WARNING: [TikTok] Expecting value in '': line 1 column 1 (char 0). Retrying... (attempt 1 of 4)\n",
      "WARNING: [TikTok] Expecting value in '': line 1 column 1 (char 0). Retrying... (attempt 2 of 4)\n",
      "WARNING: [TikTok] Expecting value in '': line 1 column 1 (char 0). Retrying... (attempt 3 of 4)\n",
      "WARNING: [TikTok] 6931777309217246469: Failed to parse JSON (caused by JSONDecodeError(\"Expecting value in '': line 1 column 1 (char 0)\")); trying with webpage\n"
     ]
    },
    {
     "name": "stdout",
     "output_type": "stream",
     "text": [
      "                                                           \r"
     ]
    },
    {
     "name": "stderr",
     "output_type": "stream",
     "text": [
      "Downloading videos:  88%|████████▊ | 263/300 [14:53<01:58,  3.20s/it]"
     ]
    },
    {
     "name": "stdout",
     "output_type": "stream",
     "text": [
      "Downloading https://tiktok.com/@ariellebrimhall/video/6931415707230014725\n"
     ]
    },
    {
     "name": "stderr",
     "output_type": "stream",
     "text": [
      "WARNING: [TikTok] Expecting value in '': line 1 column 1 (char 0). Retrying... (attempt 1 of 4)\n",
      "WARNING: [TikTok] Expecting value in '': line 1 column 1 (char 0). Retrying... (attempt 2 of 4)\n",
      "WARNING: [TikTok] Expecting value in '': line 1 column 1 (char 0). Retrying... (attempt 3 of 4)\n",
      "WARNING: [TikTok] 6931415707230014725: Failed to parse JSON (caused by JSONDecodeError(\"Expecting value in '': line 1 column 1 (char 0)\")); trying with webpage\n"
     ]
    },
    {
     "name": "stdout",
     "output_type": "stream",
     "text": [
      "                                                           \r"
     ]
    },
    {
     "name": "stderr",
     "output_type": "stream",
     "text": [
      "Downloading videos:  88%|████████▊ | 264/300 [14:56<01:52,  3.14s/it]"
     ]
    },
    {
     "name": "stdout",
     "output_type": "stream",
     "text": [
      "Downloading https://tiktok.com/@ariellebrimhall/video/6931033151162699014\n"
     ]
    },
    {
     "name": "stderr",
     "output_type": "stream",
     "text": [
      "WARNING: [TikTok] Expecting value in '': line 1 column 1 (char 0). Retrying... (attempt 1 of 4)\n",
      "WARNING: [TikTok] Expecting value in '': line 1 column 1 (char 0). Retrying... (attempt 2 of 4)\n",
      "WARNING: [TikTok] Expecting value in '': line 1 column 1 (char 0). Retrying... (attempt 3 of 4)\n",
      "WARNING: [TikTok] 6931033151162699014: Failed to parse JSON (caused by JSONDecodeError(\"Expecting value in '': line 1 column 1 (char 0)\")); trying with webpage\n"
     ]
    },
    {
     "name": "stdout",
     "output_type": "stream",
     "text": [
      "                                                         \r"
     ]
    },
    {
     "name": "stderr",
     "output_type": "stream",
     "text": [
      "Downloading videos:  88%|████████▊ | 265/300 [14:59<01:47,  3.07s/it]"
     ]
    },
    {
     "name": "stdout",
     "output_type": "stream",
     "text": [
      "Downloading https://tiktok.com/@ariellebrimhall/video/6930329586668506373\n"
     ]
    },
    {
     "name": "stderr",
     "output_type": "stream",
     "text": [
      "WARNING: [TikTok] Expecting value in '': line 1 column 1 (char 0). Retrying... (attempt 1 of 4)\n",
      "WARNING: [TikTok] Expecting value in '': line 1 column 1 (char 0). Retrying... (attempt 2 of 4)\n",
      "WARNING: [TikTok] Expecting value in '': line 1 column 1 (char 0). Retrying... (attempt 3 of 4)\n",
      "WARNING: [TikTok] 6930329586668506373: Failed to parse JSON (caused by JSONDecodeError(\"Expecting value in '': line 1 column 1 (char 0)\")); trying with webpage\n"
     ]
    },
    {
     "name": "stdout",
     "output_type": "stream",
     "text": [
      "                                                           \r"
     ]
    },
    {
     "name": "stderr",
     "output_type": "stream",
     "text": [
      "Downloading videos:  89%|████████▊ | 266/300 [15:02<01:43,  3.04s/it]"
     ]
    },
    {
     "name": "stdout",
     "output_type": "stream",
     "text": [
      "Downloading https://tiktok.com/@ariellebrimhall/video/6929583417017355526\n"
     ]
    },
    {
     "name": "stderr",
     "output_type": "stream",
     "text": [
      "WARNING: [TikTok] Expecting value in '': line 1 column 1 (char 0). Retrying... (attempt 1 of 4)\n",
      "WARNING: [TikTok] Expecting value in '': line 1 column 1 (char 0). Retrying... (attempt 2 of 4)\n",
      "WARNING: [TikTok] Expecting value in '': line 1 column 1 (char 0). Retrying... (attempt 3 of 4)\n",
      "WARNING: [TikTok] 6929583417017355526: Failed to parse JSON (caused by JSONDecodeError(\"Expecting value in '': line 1 column 1 (char 0)\")); trying with webpage\n"
     ]
    },
    {
     "name": "stdout",
     "output_type": "stream",
     "text": [
      "                                                         \r"
     ]
    },
    {
     "name": "stderr",
     "output_type": "stream",
     "text": [
      "Downloading videos:  89%|████████▉ | 267/300 [15:05<01:40,  3.03s/it]"
     ]
    },
    {
     "name": "stdout",
     "output_type": "stream",
     "text": [
      "Downloading https://tiktok.com/@ariellebrimhall/video/6927414441956986117\n"
     ]
    },
    {
     "name": "stderr",
     "output_type": "stream",
     "text": [
      "WARNING: [TikTok] Expecting value in '': line 1 column 1 (char 0). Retrying... (attempt 1 of 4)\n",
      "WARNING: [TikTok] Expecting value in '': line 1 column 1 (char 0). Retrying... (attempt 2 of 4)\n",
      "WARNING: [TikTok] Expecting value in '': line 1 column 1 (char 0). Retrying... (attempt 3 of 4)\n",
      "WARNING: [TikTok] 6927414441956986117: Failed to parse JSON (caused by JSONDecodeError(\"Expecting value in '': line 1 column 1 (char 0)\")); trying with webpage\n"
     ]
    },
    {
     "name": "stdout",
     "output_type": "stream",
     "text": [
      "                                                           \r"
     ]
    },
    {
     "name": "stderr",
     "output_type": "stream",
     "text": [
      "Downloading videos:  89%|████████▉ | 268/300 [15:08<01:38,  3.09s/it]"
     ]
    },
    {
     "name": "stdout",
     "output_type": "stream",
     "text": [
      "Downloading https://tiktok.com/@ariellebrimhall/video/6926980035828108550\n"
     ]
    },
    {
     "name": "stderr",
     "output_type": "stream",
     "text": [
      "WARNING: [TikTok] Expecting value in '': line 1 column 1 (char 0). Retrying... (attempt 1 of 4)\n",
      "WARNING: [TikTok] Expecting value in '': line 1 column 1 (char 0). Retrying... (attempt 2 of 4)\n",
      "WARNING: [TikTok] Expecting value in '': line 1 column 1 (char 0). Retrying... (attempt 3 of 4)\n",
      "WARNING: [TikTok] 6926980035828108550: Failed to parse JSON (caused by JSONDecodeError(\"Expecting value in '': line 1 column 1 (char 0)\")); trying with webpage\n"
     ]
    },
    {
     "name": "stdout",
     "output_type": "stream",
     "text": [
      "                                                           \r"
     ]
    },
    {
     "name": "stderr",
     "output_type": "stream",
     "text": [
      "Downloading videos:  90%|████████▉ | 269/300 [15:11<01:33,  3.01s/it]"
     ]
    },
    {
     "name": "stdout",
     "output_type": "stream",
     "text": [
      "Downloading https://tiktok.com/@ariellebrimhall/video/6926237934702087429\n"
     ]
    },
    {
     "name": "stderr",
     "output_type": "stream",
     "text": [
      "WARNING: [TikTok] Expecting value in '': line 1 column 1 (char 0). Retrying... (attempt 1 of 4)\n",
      "WARNING: [TikTok] Expecting value in '': line 1 column 1 (char 0). Retrying... (attempt 2 of 4)\n",
      "WARNING: [TikTok] Expecting value in '': line 1 column 1 (char 0). Retrying... (attempt 3 of 4)\n",
      "WARNING: [TikTok] 6926237934702087429: Failed to parse JSON (caused by JSONDecodeError(\"Expecting value in '': line 1 column 1 (char 0)\")); trying with webpage\n"
     ]
    },
    {
     "name": "stdout",
     "output_type": "stream",
     "text": [
      "                                                         \r"
     ]
    },
    {
     "name": "stderr",
     "output_type": "stream",
     "text": [
      "Downloading videos:  90%|█████████ | 270/300 [15:14<01:36,  3.22s/it]"
     ]
    },
    {
     "name": "stdout",
     "output_type": "stream",
     "text": [
      "Downloading https://tiktok.com/@ariellebrimhall/video/6925115656165690629\n"
     ]
    },
    {
     "name": "stderr",
     "output_type": "stream",
     "text": [
      "WARNING: [TikTok] Expecting value in '': line 1 column 1 (char 0). Retrying... (attempt 1 of 4)\n",
      "WARNING: [TikTok] Expecting value in '': line 1 column 1 (char 0). Retrying... (attempt 2 of 4)\n",
      "WARNING: [TikTok] Expecting value in '': line 1 column 1 (char 0). Retrying... (attempt 3 of 4)\n",
      "WARNING: [TikTok] 6925115656165690629: Failed to parse JSON (caused by JSONDecodeError(\"Expecting value in '': line 1 column 1 (char 0)\")); trying with webpage\n"
     ]
    },
    {
     "name": "stdout",
     "output_type": "stream",
     "text": [
      "                                                           \r"
     ]
    },
    {
     "name": "stderr",
     "output_type": "stream",
     "text": [
      "Downloading videos:  90%|█████████ | 271/300 [15:20<01:57,  4.06s/it]"
     ]
    },
    {
     "name": "stdout",
     "output_type": "stream",
     "text": [
      "Downloading https://tiktok.com/@ariellebrimhall/video/6924734877250129157\n"
     ]
    },
    {
     "name": "stderr",
     "output_type": "stream",
     "text": [
      "WARNING: [TikTok] Expecting value in '': line 1 column 1 (char 0). Retrying... (attempt 1 of 4)\n",
      "WARNING: [TikTok] Expecting value in '': line 1 column 1 (char 0). Retrying... (attempt 2 of 4)\n",
      "WARNING: [TikTok] Expecting value in '': line 1 column 1 (char 0). Retrying... (attempt 3 of 4)\n",
      "WARNING: [TikTok] 6924734877250129157: Failed to parse JSON (caused by JSONDecodeError(\"Expecting value in '': line 1 column 1 (char 0)\")); trying with webpage\n"
     ]
    },
    {
     "name": "stdout",
     "output_type": "stream",
     "text": [
      "                                                         \r"
     ]
    },
    {
     "name": "stderr",
     "output_type": "stream",
     "text": [
      "Downloading videos:  91%|█████████ | 272/300 [15:23<01:42,  3.64s/it]"
     ]
    },
    {
     "name": "stdout",
     "output_type": "stream",
     "text": [
      "Downloading https://tiktok.com/@ariellebrimhall/video/6924345607452658949\n"
     ]
    },
    {
     "name": "stderr",
     "output_type": "stream",
     "text": [
      "WARNING: [TikTok] Expecting value in '': line 1 column 1 (char 0). Retrying... (attempt 1 of 4)\n",
      "WARNING: [TikTok] Expecting value in '': line 1 column 1 (char 0). Retrying... (attempt 2 of 4)\n",
      "WARNING: [TikTok] Expecting value in '': line 1 column 1 (char 0). Retrying... (attempt 3 of 4)\n",
      "WARNING: [TikTok] 6924345607452658949: Failed to parse JSON (caused by JSONDecodeError(\"Expecting value in '': line 1 column 1 (char 0)\")); trying with webpage\n"
     ]
    },
    {
     "name": "stdout",
     "output_type": "stream",
     "text": [
      "                                                           \r"
     ]
    },
    {
     "name": "stderr",
     "output_type": "stream",
     "text": [
      "Downloading videos:  91%|█████████ | 273/300 [15:27<01:37,  3.60s/it]"
     ]
    },
    {
     "name": "stdout",
     "output_type": "stream",
     "text": [
      "Downloading https://tiktok.com/@ariellebrimhall/video/6923295536397241605\n"
     ]
    },
    {
     "name": "stderr",
     "output_type": "stream",
     "text": [
      "WARNING: [TikTok] Expecting value in '': line 1 column 1 (char 0). Retrying... (attempt 1 of 4)\n",
      "WARNING: [TikTok] Expecting value in '': line 1 column 1 (char 0). Retrying... (attempt 2 of 4)\n",
      "WARNING: [TikTok] Expecting value in '': line 1 column 1 (char 0). Retrying... (attempt 3 of 4)\n",
      "WARNING: [TikTok] 6923295536397241605: Failed to parse JSON (caused by JSONDecodeError(\"Expecting value in '': line 1 column 1 (char 0)\")); trying with webpage\n"
     ]
    },
    {
     "name": "stdout",
     "output_type": "stream",
     "text": [
      "                                                         \r"
     ]
    },
    {
     "name": "stderr",
     "output_type": "stream",
     "text": [
      "Downloading videos:  91%|█████████▏| 274/300 [15:30<01:29,  3.43s/it]"
     ]
    },
    {
     "name": "stdout",
     "output_type": "stream",
     "text": [
      "Downloading https://tiktok.com/@ariellebrimhall/video/6921849551376649478\n"
     ]
    },
    {
     "name": "stderr",
     "output_type": "stream",
     "text": [
      "WARNING: [TikTok] Expecting value in '': line 1 column 1 (char 0). Retrying... (attempt 1 of 4)\n",
      "WARNING: [TikTok] Expecting value in '': line 1 column 1 (char 0). Retrying... (attempt 2 of 4)\n",
      "WARNING: [TikTok] Expecting value in '': line 1 column 1 (char 0). Retrying... (attempt 3 of 4)\n",
      "WARNING: [TikTok] 6921849551376649478: Failed to parse JSON (caused by JSONDecodeError(\"Expecting value in '': line 1 column 1 (char 0)\")); trying with webpage\n"
     ]
    },
    {
     "name": "stdout",
     "output_type": "stream",
     "text": [
      "                                                         \r"
     ]
    },
    {
     "name": "stderr",
     "output_type": "stream",
     "text": [
      "Downloading videos:  92%|█████████▏| 275/300 [15:32<01:20,  3.24s/it]"
     ]
    },
    {
     "name": "stdout",
     "output_type": "stream",
     "text": [
      "Downloading https://tiktok.com/@ariellebrimhall/video/6921069574846762246\n"
     ]
    },
    {
     "name": "stderr",
     "output_type": "stream",
     "text": [
      "WARNING: [TikTok] Expecting value in '': line 1 column 1 (char 0). Retrying... (attempt 1 of 4)\n",
      "WARNING: [TikTok] Expecting value in '': line 1 column 1 (char 0). Retrying... (attempt 2 of 4)\n",
      "WARNING: [TikTok] Expecting value in '': line 1 column 1 (char 0). Retrying... (attempt 3 of 4)\n",
      "WARNING: [TikTok] 6921069574846762246: Failed to parse JSON (caused by JSONDecodeError(\"Expecting value in '': line 1 column 1 (char 0)\")); trying with webpage\n"
     ]
    },
    {
     "name": "stdout",
     "output_type": "stream",
     "text": [
      "                                                         \r"
     ]
    },
    {
     "name": "stderr",
     "output_type": "stream",
     "text": [
      "Downloading videos:  92%|█████████▏| 276/300 [15:35<01:12,  3.04s/it]"
     ]
    },
    {
     "name": "stdout",
     "output_type": "stream",
     "text": [
      "Downloading https://tiktok.com/@ariellebrimhall/video/6919574235044187398\n"
     ]
    },
    {
     "name": "stderr",
     "output_type": "stream",
     "text": [
      "WARNING: [TikTok] Expecting value in '': line 1 column 1 (char 0). Retrying... (attempt 1 of 4)\n",
      "WARNING: [TikTok] Expecting value in '': line 1 column 1 (char 0). Retrying... (attempt 2 of 4)\n",
      "WARNING: [TikTok] Expecting value in '': line 1 column 1 (char 0). Retrying... (attempt 3 of 4)\n",
      "WARNING: [TikTok] 6919574235044187398: Failed to parse JSON (caused by JSONDecodeError(\"Expecting value in '': line 1 column 1 (char 0)\")); trying with webpage\n"
     ]
    },
    {
     "name": "stdout",
     "output_type": "stream",
     "text": [
      "                                                         \r"
     ]
    },
    {
     "name": "stderr",
     "output_type": "stream",
     "text": [
      "Downloading videos:  92%|█████████▏| 277/300 [15:38<01:09,  3.02s/it]"
     ]
    },
    {
     "name": "stdout",
     "output_type": "stream",
     "text": [
      "Downloading https://tiktok.com/@ariellebrimhall/video/6919550534148050181\n"
     ]
    },
    {
     "name": "stderr",
     "output_type": "stream",
     "text": [
      "WARNING: [TikTok] Expecting value in '': line 1 column 1 (char 0). Retrying... (attempt 1 of 4)\n",
      "WARNING: [TikTok] Expecting value in '': line 1 column 1 (char 0). Retrying... (attempt 2 of 4)\n",
      "WARNING: [TikTok] Expecting value in '': line 1 column 1 (char 0). Retrying... (attempt 3 of 4)\n",
      "WARNING: [TikTok] 6919550534148050181: Failed to parse JSON (caused by JSONDecodeError(\"Expecting value in '': line 1 column 1 (char 0)\")); trying with webpage\n"
     ]
    },
    {
     "name": "stdout",
     "output_type": "stream",
     "text": [
      "                                                           \r"
     ]
    },
    {
     "name": "stderr",
     "output_type": "stream",
     "text": [
      "Downloading videos:  93%|█████████▎| 278/300 [15:41<01:06,  3.03s/it]"
     ]
    },
    {
     "name": "stdout",
     "output_type": "stream",
     "text": [
      "Downloading https://tiktok.com/@ariellebrimhall/video/6919238877756640517\n"
     ]
    },
    {
     "name": "stderr",
     "output_type": "stream",
     "text": [
      "WARNING: [TikTok] Expecting value in '': line 1 column 1 (char 0). Retrying... (attempt 1 of 4)\n",
      "WARNING: [TikTok] Expecting value in '': line 1 column 1 (char 0). Retrying... (attempt 2 of 4)\n",
      "WARNING: [TikTok] Expecting value in '': line 1 column 1 (char 0). Retrying... (attempt 3 of 4)\n",
      "WARNING: [TikTok] 6919238877756640517: Failed to parse JSON (caused by JSONDecodeError(\"Expecting value in '': line 1 column 1 (char 0)\")); trying with webpage\n"
     ]
    },
    {
     "name": "stdout",
     "output_type": "stream",
     "text": [
      "                                                           \r"
     ]
    },
    {
     "name": "stderr",
     "output_type": "stream",
     "text": [
      "Downloading videos:  93%|█████████▎| 279/300 [15:44<01:00,  2.88s/it]"
     ]
    },
    {
     "name": "stdout",
     "output_type": "stream",
     "text": [
      "Downloading https://tiktok.com/@ariellebrimhall/video/6918453545733803269\n"
     ]
    },
    {
     "name": "stderr",
     "output_type": "stream",
     "text": [
      "WARNING: [TikTok] Expecting value in '': line 1 column 1 (char 0). Retrying... (attempt 1 of 4)\n",
      "WARNING: [TikTok] Expecting value in '': line 1 column 1 (char 0). Retrying... (attempt 2 of 4)\n",
      "WARNING: [TikTok] Expecting value in '': line 1 column 1 (char 0). Retrying... (attempt 3 of 4)\n",
      "WARNING: [TikTok] 6918453545733803269: Failed to parse JSON (caused by JSONDecodeError(\"Expecting value in '': line 1 column 1 (char 0)\")); trying with webpage\n"
     ]
    },
    {
     "name": "stdout",
     "output_type": "stream",
     "text": [
      "                                                         \r"
     ]
    },
    {
     "name": "stderr",
     "output_type": "stream",
     "text": [
      "Downloading videos:  93%|█████████▎| 280/300 [15:46<00:56,  2.81s/it]"
     ]
    },
    {
     "name": "stdout",
     "output_type": "stream",
     "text": [
      "Downloading https://tiktok.com/@ariellebrimhall/video/6917669868733009158\n"
     ]
    },
    {
     "name": "stderr",
     "output_type": "stream",
     "text": [
      "WARNING: [TikTok] Expecting value in '': line 1 column 1 (char 0). Retrying... (attempt 1 of 4)\n",
      "WARNING: [TikTok] Expecting value in '': line 1 column 1 (char 0). Retrying... (attempt 2 of 4)\n",
      "WARNING: [TikTok] Expecting value in '': line 1 column 1 (char 0). Retrying... (attempt 3 of 4)\n",
      "WARNING: [TikTok] 6917669868733009158: Failed to parse JSON (caused by JSONDecodeError(\"Expecting value in '': line 1 column 1 (char 0)\")); trying with webpage\n"
     ]
    },
    {
     "name": "stdout",
     "output_type": "stream",
     "text": [
      "                                                         \r"
     ]
    },
    {
     "name": "stderr",
     "output_type": "stream",
     "text": [
      "Downloading videos:  94%|█████████▎| 281/300 [15:49<00:51,  2.71s/it]"
     ]
    },
    {
     "name": "stdout",
     "output_type": "stream",
     "text": [
      "Downloading https://tiktok.com/@ariellebrimhall/video/6917337374880025862\n"
     ]
    },
    {
     "name": "stderr",
     "output_type": "stream",
     "text": [
      "WARNING: [TikTok] Expecting value in '': line 1 column 1 (char 0). Retrying... (attempt 1 of 4)\n",
      "WARNING: [TikTok] Expecting value in '': line 1 column 1 (char 0). Retrying... (attempt 2 of 4)\n",
      "WARNING: [TikTok] Expecting value in '': line 1 column 1 (char 0). Retrying... (attempt 3 of 4)\n",
      "WARNING: [TikTok] 6917337374880025862: Failed to parse JSON (caused by JSONDecodeError(\"Expecting value in '': line 1 column 1 (char 0)\")); trying with webpage\n"
     ]
    },
    {
     "name": "stdout",
     "output_type": "stream",
     "text": [
      "                                                           \r"
     ]
    },
    {
     "name": "stderr",
     "output_type": "stream",
     "text": [
      "Downloading videos:  94%|█████████▍| 282/300 [15:51<00:47,  2.63s/it]"
     ]
    },
    {
     "name": "stdout",
     "output_type": "stream",
     "text": [
      "Downloading https://tiktok.com/@ariellebrimhall/video/6916591838761684230\n"
     ]
    },
    {
     "name": "stderr",
     "output_type": "stream",
     "text": [
      "WARNING: [TikTok] Expecting value in '': line 1 column 1 (char 0). Retrying... (attempt 1 of 4)\n",
      "WARNING: [TikTok] Expecting value in '': line 1 column 1 (char 0). Retrying... (attempt 2 of 4)\n",
      "WARNING: [TikTok] Expecting value in '': line 1 column 1 (char 0). Retrying... (attempt 3 of 4)\n",
      "WARNING: [TikTok] 6916591838761684230: Failed to parse JSON (caused by JSONDecodeError(\"Expecting value in '': line 1 column 1 (char 0)\")); trying with webpage\n"
     ]
    },
    {
     "name": "stdout",
     "output_type": "stream",
     "text": [
      "                                                         \r"
     ]
    },
    {
     "name": "stderr",
     "output_type": "stream",
     "text": [
      "Downloading videos:  94%|█████████▍| 283/300 [15:54<00:43,  2.57s/it]"
     ]
    },
    {
     "name": "stdout",
     "output_type": "stream",
     "text": [
      "Downloading https://tiktok.com/@ariellebrimhall/video/6915806881466404102\n"
     ]
    },
    {
     "name": "stderr",
     "output_type": "stream",
     "text": [
      "WARNING: [TikTok] Expecting value in '': line 1 column 1 (char 0). Retrying... (attempt 1 of 4)\n",
      "WARNING: [TikTok] Expecting value in '': line 1 column 1 (char 0). Retrying... (attempt 2 of 4)\n",
      "WARNING: [TikTok] Expecting value in '': line 1 column 1 (char 0). Retrying... (attempt 3 of 4)\n",
      "WARNING: [TikTok] 6915806881466404102: Failed to parse JSON (caused by JSONDecodeError(\"Expecting value in '': line 1 column 1 (char 0)\")); trying with webpage\n"
     ]
    },
    {
     "name": "stdout",
     "output_type": "stream",
     "text": [
      "                                                         \r"
     ]
    },
    {
     "name": "stderr",
     "output_type": "stream",
     "text": [
      "Downloading videos:  95%|█████████▍| 284/300 [15:57<00:44,  2.77s/it]"
     ]
    },
    {
     "name": "stdout",
     "output_type": "stream",
     "text": [
      "Downloading https://tiktok.com/@ariellebrimhall/video/6915486922257304837\n"
     ]
    },
    {
     "name": "stderr",
     "output_type": "stream",
     "text": [
      "WARNING: [TikTok] Expecting value in '': line 1 column 1 (char 0). Retrying... (attempt 1 of 4)\n",
      "WARNING: [TikTok] Expecting value in '': line 1 column 1 (char 0). Retrying... (attempt 2 of 4)\n",
      "WARNING: [TikTok] Expecting value in '': line 1 column 1 (char 0). Retrying... (attempt 3 of 4)\n",
      "WARNING: [TikTok] 6915486922257304837: Failed to parse JSON (caused by JSONDecodeError(\"Expecting value in '': line 1 column 1 (char 0)\")); trying with webpage\n"
     ]
    },
    {
     "name": "stdout",
     "output_type": "stream",
     "text": [
      "                                                           \r"
     ]
    },
    {
     "name": "stderr",
     "output_type": "stream",
     "text": [
      "Downloading videos:  95%|█████████▌| 285/300 [16:00<00:45,  3.05s/it]"
     ]
    },
    {
     "name": "stdout",
     "output_type": "stream",
     "text": [
      "Downloading https://tiktok.com/@ariellebrimhall/video/6915220974174522629\n"
     ]
    },
    {
     "name": "stderr",
     "output_type": "stream",
     "text": [
      "WARNING: [TikTok] Expecting value in '': line 1 column 1 (char 0). Retrying... (attempt 1 of 4)\n",
      "WARNING: [TikTok] Expecting value in '': line 1 column 1 (char 0). Retrying... (attempt 2 of 4)\n",
      "WARNING: [TikTok] Expecting value in '': line 1 column 1 (char 0). Retrying... (attempt 3 of 4)\n",
      "WARNING: [TikTok] 6915220974174522629: Failed to parse JSON (caused by JSONDecodeError(\"Expecting value in '': line 1 column 1 (char 0)\")); trying with webpage\n"
     ]
    },
    {
     "name": "stdout",
     "output_type": "stream",
     "text": [
      "                                                           \r"
     ]
    },
    {
     "name": "stderr",
     "output_type": "stream",
     "text": [
      "Downloading videos:  95%|█████████▌| 286/300 [16:03<00:41,  3.00s/it]"
     ]
    },
    {
     "name": "stdout",
     "output_type": "stream",
     "text": [
      "Downloading https://tiktok.com/@ariellebrimhall/video/6915094926241893638\n"
     ]
    },
    {
     "name": "stderr",
     "output_type": "stream",
     "text": [
      "WARNING: [TikTok] Expecting value in '': line 1 column 1 (char 0). Retrying... (attempt 1 of 4)\n",
      "WARNING: [TikTok] Expecting value in '': line 1 column 1 (char 0). Retrying... (attempt 2 of 4)\n",
      "WARNING: [TikTok] Expecting value in '': line 1 column 1 (char 0). Retrying... (attempt 3 of 4)\n",
      "WARNING: [TikTok] 6915094926241893638: Failed to parse JSON (caused by JSONDecodeError(\"Expecting value in '': line 1 column 1 (char 0)\")); trying with webpage\n"
     ]
    },
    {
     "name": "stdout",
     "output_type": "stream",
     "text": [
      "                                                           \r"
     ]
    },
    {
     "name": "stderr",
     "output_type": "stream",
     "text": [
      "Downloading videos:  96%|█████████▌| 287/300 [16:06<00:38,  2.94s/it]"
     ]
    },
    {
     "name": "stdout",
     "output_type": "stream",
     "text": [
      "Downloading https://tiktok.com/@ariellebrimhall/video/6914761223225576710\n"
     ]
    },
    {
     "name": "stderr",
     "output_type": "stream",
     "text": [
      "WARNING: [TikTok] Expecting value in '': line 1 column 1 (char 0). Retrying... (attempt 1 of 4)\n",
      "WARNING: [TikTok] Expecting value in '': line 1 column 1 (char 0). Retrying... (attempt 2 of 4)\n",
      "WARNING: [TikTok] Expecting value in '': line 1 column 1 (char 0). Retrying... (attempt 3 of 4)\n",
      "WARNING: [TikTok] 6914761223225576710: Failed to parse JSON (caused by JSONDecodeError(\"Expecting value in '': line 1 column 1 (char 0)\")); trying with webpage\n"
     ]
    },
    {
     "name": "stdout",
     "output_type": "stream",
     "text": [
      "                                                           \r"
     ]
    },
    {
     "name": "stderr",
     "output_type": "stream",
     "text": [
      "Downloading videos:  96%|█████████▌| 288/300 [16:09<00:33,  2.79s/it]"
     ]
    },
    {
     "name": "stdout",
     "output_type": "stream",
     "text": [
      "Downloading https://tiktok.com/@ariellebrimhall/video/6914004399052344582\n"
     ]
    },
    {
     "name": "stderr",
     "output_type": "stream",
     "text": [
      "WARNING: [TikTok] Expecting value in '': line 1 column 1 (char 0). Retrying... (attempt 1 of 4)\n",
      "WARNING: [TikTok] Expecting value in '': line 1 column 1 (char 0). Retrying... (attempt 2 of 4)\n",
      "WARNING: [TikTok] Expecting value in '': line 1 column 1 (char 0). Retrying... (attempt 3 of 4)\n",
      "WARNING: [TikTok] 6914004399052344582: Failed to parse JSON (caused by JSONDecodeError(\"Expecting value in '': line 1 column 1 (char 0)\")); trying with webpage\n"
     ]
    },
    {
     "name": "stdout",
     "output_type": "stream",
     "text": [
      "                                                           \r"
     ]
    },
    {
     "name": "stderr",
     "output_type": "stream",
     "text": [
      "Downloading videos:  96%|█████████▋| 289/300 [16:11<00:29,  2.72s/it]"
     ]
    },
    {
     "name": "stdout",
     "output_type": "stream",
     "text": [
      "Downloading https://tiktok.com/@ariellebrimhall/video/6912942332560149766\n"
     ]
    },
    {
     "name": "stderr",
     "output_type": "stream",
     "text": [
      "WARNING: [TikTok] Expecting value in '': line 1 column 1 (char 0). Retrying... (attempt 1 of 4)\n",
      "WARNING: [TikTok] Expecting value in '': line 1 column 1 (char 0). Retrying... (attempt 2 of 4)\n",
      "WARNING: [TikTok] Expecting value in '': line 1 column 1 (char 0). Retrying... (attempt 3 of 4)\n",
      "WARNING: [TikTok] 6912942332560149766: Failed to parse JSON (caused by JSONDecodeError(\"Expecting value in '': line 1 column 1 (char 0)\")); trying with webpage\n"
     ]
    },
    {
     "name": "stdout",
     "output_type": "stream",
     "text": [
      "                                                           \r"
     ]
    },
    {
     "name": "stderr",
     "output_type": "stream",
     "text": [
      "Downloading videos:  97%|█████████▋| 290/300 [16:14<00:26,  2.68s/it]"
     ]
    },
    {
     "name": "stdout",
     "output_type": "stream",
     "text": [
      "Downloading https://tiktok.com/@ariellebrimhall/video/6912640666736676102\n"
     ]
    },
    {
     "name": "stderr",
     "output_type": "stream",
     "text": [
      "WARNING: [TikTok] Expecting value in '': line 1 column 1 (char 0). Retrying... (attempt 1 of 4)\n",
      "WARNING: [TikTok] Expecting value in '': line 1 column 1 (char 0). Retrying... (attempt 2 of 4)\n",
      "WARNING: [TikTok] Expecting value in '': line 1 column 1 (char 0). Retrying... (attempt 3 of 4)\n",
      "WARNING: [TikTok] 6912640666736676102: Failed to parse JSON (caused by JSONDecodeError(\"Expecting value in '': line 1 column 1 (char 0)\")); trying with webpage\n"
     ]
    },
    {
     "name": "stdout",
     "output_type": "stream",
     "text": [
      "                                                         \r"
     ]
    },
    {
     "name": "stderr",
     "output_type": "stream",
     "text": [
      "Downloading videos:  97%|█████████▋| 291/300 [16:16<00:23,  2.62s/it]"
     ]
    },
    {
     "name": "stdout",
     "output_type": "stream",
     "text": [
      "Downloading https://tiktok.com/@ariellebrimhall/video/6912097495598304517\n"
     ]
    },
    {
     "name": "stderr",
     "output_type": "stream",
     "text": [
      "WARNING: [TikTok] Expecting value in '': line 1 column 1 (char 0). Retrying... (attempt 1 of 4)\n",
      "WARNING: [TikTok] Expecting value in '': line 1 column 1 (char 0). Retrying... (attempt 2 of 4)\n",
      "WARNING: [TikTok] Expecting value in '': line 1 column 1 (char 0). Retrying... (attempt 3 of 4)\n",
      "WARNING: [TikTok] 6912097495598304517: Failed to parse JSON (caused by JSONDecodeError(\"Expecting value in '': line 1 column 1 (char 0)\")); trying with webpage\n"
     ]
    },
    {
     "name": "stdout",
     "output_type": "stream",
     "text": [
      "                                                         \r"
     ]
    },
    {
     "name": "stderr",
     "output_type": "stream",
     "text": [
      "Downloading videos:  97%|█████████▋| 292/300 [16:19<00:21,  2.63s/it]"
     ]
    },
    {
     "name": "stdout",
     "output_type": "stream",
     "text": [
      "Downloading https://tiktok.com/@ariellebrimhall/video/6911714674622909701\n"
     ]
    },
    {
     "name": "stderr",
     "output_type": "stream",
     "text": [
      "WARNING: [TikTok] Expecting value in '': line 1 column 1 (char 0). Retrying... (attempt 1 of 4)\n",
      "WARNING: [TikTok] Expecting value in '': line 1 column 1 (char 0). Retrying... (attempt 2 of 4)\n",
      "WARNING: [TikTok] Expecting value in '': line 1 column 1 (char 0). Retrying... (attempt 3 of 4)\n",
      "WARNING: [TikTok] 6911714674622909701: Failed to parse JSON (caused by JSONDecodeError(\"Expecting value in '': line 1 column 1 (char 0)\")); trying with webpage\n"
     ]
    },
    {
     "name": "stdout",
     "output_type": "stream",
     "text": [
      "                                                           \r"
     ]
    },
    {
     "name": "stderr",
     "output_type": "stream",
     "text": [
      "Downloading videos:  98%|█████████▊| 293/300 [16:22<00:18,  2.66s/it]"
     ]
    },
    {
     "name": "stdout",
     "output_type": "stream",
     "text": [
      "Downloading https://tiktok.com/@ariellebrimhall/video/6911436190172400902\n"
     ]
    },
    {
     "name": "stderr",
     "output_type": "stream",
     "text": [
      "WARNING: [TikTok] Expecting value in '': line 1 column 1 (char 0). Retrying... (attempt 1 of 4)\n",
      "WARNING: [TikTok] Expecting value in '': line 1 column 1 (char 0). Retrying... (attempt 2 of 4)\n",
      "WARNING: [TikTok] Expecting value in '': line 1 column 1 (char 0). Retrying... (attempt 3 of 4)\n",
      "WARNING: [TikTok] 6911436190172400902: Failed to parse JSON (caused by JSONDecodeError(\"Expecting value in '': line 1 column 1 (char 0)\")); trying with webpage\n"
     ]
    },
    {
     "name": "stdout",
     "output_type": "stream",
     "text": [
      "                                                         \r"
     ]
    },
    {
     "name": "stderr",
     "output_type": "stream",
     "text": [
      "Downloading videos:  98%|█████████▊| 294/300 [16:25<00:16,  2.73s/it]"
     ]
    },
    {
     "name": "stdout",
     "output_type": "stream",
     "text": [
      "Downloading https://tiktok.com/@ariellebrimhall/video/6910595412466420997\n"
     ]
    },
    {
     "name": "stderr",
     "output_type": "stream",
     "text": [
      "WARNING: [TikTok] Expecting value in '': line 1 column 1 (char 0). Retrying... (attempt 1 of 4)\n",
      "WARNING: [TikTok] Expecting value in '': line 1 column 1 (char 0). Retrying... (attempt 2 of 4)\n",
      "WARNING: [TikTok] Expecting value in '': line 1 column 1 (char 0). Retrying... (attempt 3 of 4)\n",
      "WARNING: [TikTok] 6910595412466420997: Failed to parse JSON (caused by JSONDecodeError(\"Expecting value in '': line 1 column 1 (char 0)\")); trying with webpage\n"
     ]
    },
    {
     "name": "stdout",
     "output_type": "stream",
     "text": [
      "                                                         \r"
     ]
    },
    {
     "name": "stderr",
     "output_type": "stream",
     "text": [
      "Downloading videos:  98%|█████████▊| 295/300 [16:27<00:13,  2.73s/it]"
     ]
    },
    {
     "name": "stdout",
     "output_type": "stream",
     "text": [
      "Downloading https://tiktok.com/@ariellebrimhall/video/7205971391705795883\n"
     ]
    },
    {
     "name": "stderr",
     "output_type": "stream",
     "text": [
      "WARNING: [TikTok] Expecting value in '': line 1 column 1 (char 0). Retrying... (attempt 1 of 4)\n",
      "WARNING: [TikTok] Expecting value in '': line 1 column 1 (char 0). Retrying... (attempt 2 of 4)\n",
      "WARNING: [TikTok] Expecting value in '': line 1 column 1 (char 0). Retrying... (attempt 3 of 4)\n",
      "WARNING: [TikTok] 7205971391705795883: Failed to parse JSON (caused by JSONDecodeError(\"Expecting value in '': line 1 column 1 (char 0)\")); trying with webpage\n"
     ]
    },
    {
     "name": "stdout",
     "output_type": "stream",
     "text": [
      "                                                           \r"
     ]
    },
    {
     "name": "stderr",
     "output_type": "stream",
     "text": [
      "Downloading videos:  99%|█████████▊| 296/300 [16:33<00:14,  3.54s/it]"
     ]
    },
    {
     "name": "stdout",
     "output_type": "stream",
     "text": [
      "Downloading https://tiktok.com/@ariellebrimhall/video/7205597628233567531\n"
     ]
    },
    {
     "name": "stderr",
     "output_type": "stream",
     "text": [
      "WARNING: [TikTok] Expecting value in '': line 1 column 1 (char 0). Retrying... (attempt 1 of 4)\n",
      "WARNING: [TikTok] Expecting value in '': line 1 column 1 (char 0). Retrying... (attempt 2 of 4)\n",
      "WARNING: [TikTok] Expecting value in '': line 1 column 1 (char 0). Retrying... (attempt 3 of 4)\n",
      "WARNING: [TikTok] 7205597628233567531: Failed to parse JSON (caused by JSONDecodeError(\"Expecting value in '': line 1 column 1 (char 0)\")); trying with webpage\n"
     ]
    },
    {
     "name": "stdout",
     "output_type": "stream",
     "text": [
      "                                                           \r"
     ]
    },
    {
     "name": "stderr",
     "output_type": "stream",
     "text": [
      "Downloading videos:  99%|█████████▉| 297/300 [16:37<00:10,  3.66s/it]"
     ]
    },
    {
     "name": "stdout",
     "output_type": "stream",
     "text": [
      "Downloading https://tiktok.com/@ariellebrimhall/video/7205227237312859438\n"
     ]
    },
    {
     "name": "stderr",
     "output_type": "stream",
     "text": [
      "WARNING: [TikTok] Expecting value in '': line 1 column 1 (char 0). Retrying... (attempt 1 of 4)\n",
      "WARNING: [TikTok] Expecting value in '': line 1 column 1 (char 0). Retrying... (attempt 2 of 4)\n",
      "WARNING: [TikTok] Expecting value in '': line 1 column 1 (char 0). Retrying... (attempt 3 of 4)\n",
      "WARNING: [TikTok] 7205227237312859438: Failed to parse JSON (caused by JSONDecodeError(\"Expecting value in '': line 1 column 1 (char 0)\")); trying with webpage\n"
     ]
    },
    {
     "name": "stdout",
     "output_type": "stream",
     "text": [
      "                                                         \r"
     ]
    },
    {
     "name": "stderr",
     "output_type": "stream",
     "text": [
      "Downloading videos:  99%|█████████▉| 298/300 [16:40<00:07,  3.72s/it]"
     ]
    },
    {
     "name": "stdout",
     "output_type": "stream",
     "text": [
      "Downloading https://tiktok.com/@ariellebrimhall/video/7204513749808729390\n"
     ]
    },
    {
     "name": "stderr",
     "output_type": "stream",
     "text": [
      "WARNING: [TikTok] Expecting value in '': line 1 column 1 (char 0). Retrying... (attempt 1 of 4)\n",
      "WARNING: [TikTok] Expecting value in '': line 1 column 1 (char 0). Retrying... (attempt 2 of 4)\n",
      "WARNING: [TikTok] Expecting value in '': line 1 column 1 (char 0). Retrying... (attempt 3 of 4)\n",
      "WARNING: [TikTok] 7204513749808729390: Failed to parse JSON (caused by JSONDecodeError(\"Expecting value in '': line 1 column 1 (char 0)\")); trying with webpage\n"
     ]
    },
    {
     "name": "stdout",
     "output_type": "stream",
     "text": [
      "                                                           \r"
     ]
    },
    {
     "name": "stderr",
     "output_type": "stream",
     "text": [
      "Downloading videos: 100%|█████████▉| 299/300 [16:55<00:06,  6.84s/it]"
     ]
    },
    {
     "name": "stdout",
     "output_type": "stream",
     "text": [
      "Downloading https://tiktok.com/@ariellebrimhall/video/7204121311180852523\n"
     ]
    },
    {
     "name": "stderr",
     "output_type": "stream",
     "text": [
      "WARNING: [TikTok] Expecting value in '': line 1 column 1 (char 0). Retrying... (attempt 1 of 4)\n",
      "WARNING: [TikTok] Expecting value in '': line 1 column 1 (char 0). Retrying... (attempt 2 of 4)\n",
      "WARNING: [TikTok] Expecting value in '': line 1 column 1 (char 0). Retrying... (attempt 3 of 4)\n",
      "WARNING: [TikTok] 7204121311180852523: Failed to parse JSON (caused by JSONDecodeError(\"Expecting value in '': line 1 column 1 (char 0)\")); trying with webpage\n"
     ]
    },
    {
     "name": "stdout",
     "output_type": "stream",
     "text": [
      "                                                           \r"
     ]
    },
    {
     "name": "stderr",
     "output_type": "stream",
     "text": [
      "Downloading videos: 100%|██████████| 300/300 [16:57<00:00,  3.39s/it]\n"
     ]
    }
   ],
   "source": [
    "import os\n",
    "import yt_dlp\n",
    "from tqdm import tqdm\n",
    "import pandas as pd\n",
    "import warnings\n",
    "\n",
    "# Suppress warnings\n",
    "warnings.filterwarnings(\"ignore\")\n",
    "\n",
    "# Assuming df is your DataFrame\n",
    "# For example, you can define a dummy df like this for testing:\n",
    "# df = pd.DataFrame({'tiktok_url': ['url1', 'url2', ...], 'author_uniqueId': ['author1', 'author2', ...]})\n",
    "\n",
    "for i, row in tqdm(list(df.iterrows())[:300], desc=\"Downloading videos\"):\n",
    "    url = row['tiktok_url']\n",
    "\n",
    "    ydl_opts = {\n",
    "        \"outtmpl\": os.path.join('videos', row['author_uniqueId'], \"%(id)s.%(ext)s\"),\n",
    "        \"ignore_errors\": True,\n",
    "        \"quiet\": True,\n",
    "    }\n",
    "\n",
    "    print(\"Downloading\", url)\n",
    "\n",
    "    with yt_dlp.YoutubeDL(ydl_opts) as ydl:\n",
    "        try:\n",
    "            ydl.download([url])\n",
    "        except (HTTPError, TypeError, ExtractorError, DownloadError) as e:\n",
    "            # Catch urllib and yt-dlp errors when video not found\n",
    "            print(f\"Encountered error {e} when attempting to download url: {url}\")\n"
   ]
  },
  {
   "cell_type": "code",
   "execution_count": 118,
   "metadata": {},
   "outputs": [
    {
     "data": {
      "text/plain": [
       "297"
      ]
     },
     "execution_count": 118,
     "metadata": {},
     "output_type": "execute_result"
    }
   ],
   "source": [
    "all_videos = glob.glob(\"videos/thehouseofsequins/*.mp4\", recursive=True)\n",
    "len(all_videos)"
   ]
  },
  {
   "cell_type": "code",
   "execution_count": 15,
   "metadata": {},
   "outputs": [],
   "source": [
    "# # In this case we're only downloading the first 40 using [:40]\n",
    "\n",
    "# for i, row in list(df.iterrows())[:40]:    \n",
    "#     url = row['tiktok_url']\n",
    "\n",
    "#     ydl_opts = {\n",
    "#         \"outtmpl\": os.path.join('videos', row['author_uniqueId'], \"%(id)s.%(ext)s\"),\n",
    "#         \"ignore_errors\": True,\n",
    "#         \"quiet\": True,\n",
    "#     }\n",
    "\n",
    "#     print(\"Downloading\", url)\n",
    "\n",
    "#     with yt_dlp.YoutubeDL(ydl_opts) as ydl:\n",
    "#         try:\n",
    "#             ydl.download([url])\n",
    "#         except (HTTPError, TypeError, ExtractorError, DownloadError) as e:\n",
    "#             # Catch urllib and yt-dlp errors when video not found\n",
    "#             print(\n",
    "#                 f\"Encountered error {e} when attempting to download url: {url}\"\n",
    "#             )"
   ]
  },
  {
   "cell_type": "markdown",
   "metadata": {},
   "source": [
    "## Get comments\n",
    "\n",
    "Same process as above, but for `api/comment/list/`."
   ]
  },
  {
   "cell_type": "code",
   "execution_count": 61,
   "metadata": {},
   "outputs": [],
   "source": [
    "import glob\n",
    "\n",
    "# Just grab the first one\n",
    "filename = glob.glob(\"api/comment/list/*.json\")[0]"
   ]
  },
  {
   "cell_type": "code",
   "execution_count": 62,
   "metadata": {},
   "outputs": [
    {
     "data": {
      "text/plain": [
       "{'author_pin': False,\n",
       " 'aweme_id': '7375576798093970721',\n",
       " 'cid': '7375577986069152558',\n",
       " 'collect_stat': 0,\n",
       " 'comment_language': 'en',\n",
       " 'comment_post_item_ids': None,\n",
       " 'create_time': 1717260598,\n",
       " 'digg_count': 5805,\n",
       " 'image_list': None,\n",
       " 'is_author_digged': False,\n",
       " 'label_list': None,\n",
       " 'no_show': False,\n",
       " 'reply_comment': None,\n",
       " 'reply_comment_total': 210,\n",
       " 'reply_id': '0',\n",
       " 'reply_to_reply_id': '0',\n",
       " 'share_info': {'acl': {'code': 0, 'extra': '{}'},\n",
       "  'desc': 'Mr Trix2046のコメント: Who else came here because of the forgotten slide show',\n",
       "  'title': 'I’m a little confused #learnfromkhaby #comedy #football ',\n",
       "  'url': 'https://m.tiktok.com/v/7375576798093970721.html?_d=eei61e1lh2mjhc&comment_author_id=7155234282889085994&preview_pb=0&share_comment_id=7375577986069152558&share_item_id=7375576798093970721&sharer_language=ja-JP&source=h5_m&u_code=0'},\n",
       " 'status': 1,\n",
       " 'stick_position': 0,\n",
       " 'text': 'Who else came here because of the forgotten slide show',\n",
       " 'text_extra': [],\n",
       " 'trans_btn_style': 1,\n",
       " 'user': {'account_labels': None,\n",
       "  'ad_cover_url': None,\n",
       "  'advance_feature_item_order': None,\n",
       "  'advanced_feature_info': None,\n",
       "  'avatar_thumb': {'uri': 'tos-useast5-avt-0068-tx/c1c7c6a5804a3617c7b3c0d4997ff671',\n",
       "   'url_list': ['https://p16-pu-sign-useast8.tiktokcdn-us.com/tos-useast5-avt-0068-tx/c1c7c6a5804a3617c7b3c0d4997ff671~c5_100x100.jpg?lk3s=30310797&nonce=6786&refresh_token=732d946b2986c8be0354eef54aa48e6e&x-expires=1718542800&x-signature=M14t6fwhNO9jrd9HqzlwsTOysBY%3D&shp=30310797&shcp=-',\n",
       "    'https://p19-pu-sign-useast8.tiktokcdn-us.com/tos-useast5-avt-0068-tx/c1c7c6a5804a3617c7b3c0d4997ff671~c5_100x100.jpg?lk3s=30310797&nonce=53643&refresh_token=2e0324df2cd245da59c21380c5d78e13&x-expires=1718542800&x-signature=MCMHCLeG0CbeexMFWEBnmRoKSu8%3D&shp=30310797&shcp=-',\n",
       "    'https://p16-pu-sign-useast8.tiktokcdn-us.com/tos-useast5-avt-0068-tx/c1c7c6a5804a3617c7b3c0d4997ff671~c5_100x100.jpeg?lk3s=30310797&nonce=94125&refresh_token=10acb78843606492ebd3a9c45f7e7eec&x-expires=1718542800&x-signature=XLRVzCkt1et9mTqcHdctsrL7h40%3D&shp=30310797&shcp=-'],\n",
       "   'url_prefix': None},\n",
       "  'bold_fields': None,\n",
       "  'can_message_follow_status_list': None,\n",
       "  'can_set_geofencing': None,\n",
       "  'cha_list': None,\n",
       "  'cover_url': None,\n",
       "  'custom_verify': '',\n",
       "  'enterprise_verify_reason': '',\n",
       "  'events': None,\n",
       "  'followers_detail': None,\n",
       "  'geofencing': None,\n",
       "  'homepage_bottom_toast': None,\n",
       "  'item_list': None,\n",
       "  'mutual_relation_avatars': None,\n",
       "  'need_points': None,\n",
       "  'nickname': 'Mr Trix2046',\n",
       "  'platform_sync_info': None,\n",
       "  'relative_users': None,\n",
       "  'search_highlight': None,\n",
       "  'sec_uid': 'MS4wLjABAAAAV1BjJt9kH6Yv-KFZ44vPRLVqD6rJhJXDAqjHBrTiUu1W6end7wrHACwBgUxSEgr1',\n",
       "  'shield_edit_field_info': None,\n",
       "  'type_label': None,\n",
       "  'uid': '7155234282889085994',\n",
       "  'unique_id': 'travipaty0',\n",
       "  'user_profile_guide': None,\n",
       "  'user_tags': None,\n",
       "  'white_cover_url': None},\n",
       " 'user_buried': False,\n",
       " 'user_digged': 0}"
      ]
     },
     "execution_count": 62,
     "metadata": {},
     "output_type": "execute_result"
    }
   ],
   "source": [
    "with open(filename) as fp:\n",
    "    content = json.load(fp)\n",
    "\n",
    "content['data']['comments'][0]"
   ]
  },
  {
   "cell_type": "code",
   "execution_count": 63,
   "metadata": {},
   "outputs": [
    {
     "data": {
      "text/plain": [
       "['api/comment/list/967177398f4aec8405251869d168a09c.json',\n",
       " 'api/comment/list/deebcb3b860201f03e24afa4f12fb963.json',\n",
       " 'api/comment/list/04315bef36d60459455d0e7fb89f3cab.json',\n",
       " 'api/comment/list/fefa787668ce6e96bf86e30338e82216.json',\n",
       " 'api/comment/list/b001850da47215f00551d9e686153124.json',\n",
       " 'api/comment/list/175a4aa2e2c7909bb7e01a4d4f051bdc.json',\n",
       " 'api/comment/list/836c3bfb03e29d30164037e3f617f3ad.json',\n",
       " 'api/comment/list/7b339f59ba8299f10b45b3c126b3865d.json',\n",
       " 'api/comment/list/32bcaa0c116cd98eff05985266b1b2f7.json',\n",
       " 'api/comment/list/475e74fd668d201a520cb7ebdbe10350.json']"
      ]
     },
     "execution_count": 63,
     "metadata": {},
     "output_type": "execute_result"
    }
   ],
   "source": [
    "import glob\n",
    "\n",
    "# Just grab the first one\n",
    "filenames = glob.glob(\"api/comment/list/*.json\")\n",
    "filenames[:10]"
   ]
  },
  {
   "cell_type": "code",
   "execution_count": 64,
   "metadata": {},
   "outputs": [
    {
     "data": {
      "text/plain": [
       "562"
      ]
     },
     "execution_count": 64,
     "metadata": {},
     "output_type": "execute_result"
    }
   ],
   "source": [
    "\n",
    "rows = []\n",
    "\n",
    "for filename in filenames:\n",
    "    with open(filename) as fp:\n",
    "        content = json.load(fp)\n",
    "        rows.extend(content['data']['comments'])\n",
    "\n",
    "len(rows)"
   ]
  },
  {
   "cell_type": "code",
   "execution_count": 65,
   "metadata": {},
   "outputs": [
    {
     "data": {
      "text/html": [
       "<div>\n",
       "<style scoped>\n",
       "    .dataframe tbody tr th:only-of-type {\n",
       "        vertical-align: middle;\n",
       "    }\n",
       "\n",
       "    .dataframe tbody tr th {\n",
       "        vertical-align: top;\n",
       "    }\n",
       "\n",
       "    .dataframe thead th {\n",
       "        text-align: right;\n",
       "    }\n",
       "</style>\n",
       "<table border=\"1\" class=\"dataframe\">\n",
       "  <thead>\n",
       "    <tr style=\"text-align: right;\">\n",
       "      <th></th>\n",
       "      <th>author_pin</th>\n",
       "      <th>aweme_id</th>\n",
       "      <th>cid</th>\n",
       "      <th>collect_stat</th>\n",
       "      <th>comment_language</th>\n",
       "      <th>comment_post_item_ids</th>\n",
       "      <th>create_time</th>\n",
       "      <th>digg_count</th>\n",
       "      <th>image_list</th>\n",
       "      <th>is_author_digged</th>\n",
       "      <th>label_list</th>\n",
       "      <th>no_show</th>\n",
       "      <th>reply_comment</th>\n",
       "      <th>reply_comment_total</th>\n",
       "      <th>reply_id</th>\n",
       "      <th>reply_to_reply_id</th>\n",
       "      <th>status</th>\n",
       "      <th>stick_position</th>\n",
       "      <th>text</th>\n",
       "      <th>text_extra</th>\n",
       "      <th>trans_btn_style</th>\n",
       "      <th>user_buried</th>\n",
       "      <th>user_digged</th>\n",
       "      <th>share_info_acl_code</th>\n",
       "      <th>share_info_acl_extra</th>\n",
       "      <th>share_info_desc</th>\n",
       "      <th>share_info_title</th>\n",
       "      <th>share_info_url</th>\n",
       "      <th>user_account_labels</th>\n",
       "      <th>user_ad_cover_url</th>\n",
       "      <th>user_advance_feature_item_order</th>\n",
       "      <th>user_advanced_feature_info</th>\n",
       "      <th>user_avatar_thumb_uri</th>\n",
       "      <th>user_avatar_thumb_url_list</th>\n",
       "      <th>user_avatar_thumb_url_prefix</th>\n",
       "      <th>user_bold_fields</th>\n",
       "      <th>user_can_message_follow_status_list</th>\n",
       "      <th>user_can_set_geofencing</th>\n",
       "      <th>user_cha_list</th>\n",
       "      <th>user_cover_url</th>\n",
       "      <th>user_custom_verify</th>\n",
       "      <th>user_enterprise_verify_reason</th>\n",
       "      <th>user_events</th>\n",
       "      <th>user_followers_detail</th>\n",
       "      <th>user_geofencing</th>\n",
       "      <th>user_homepage_bottom_toast</th>\n",
       "      <th>user_item_list</th>\n",
       "      <th>user_mutual_relation_avatars</th>\n",
       "      <th>user_need_points</th>\n",
       "      <th>user_nickname</th>\n",
       "      <th>user_platform_sync_info</th>\n",
       "      <th>user_relative_users</th>\n",
       "      <th>user_search_highlight</th>\n",
       "      <th>user_sec_uid</th>\n",
       "      <th>user_shield_edit_field_info</th>\n",
       "      <th>user_type_label</th>\n",
       "      <th>user_uid</th>\n",
       "      <th>user_unique_id</th>\n",
       "      <th>user_user_profile_guide</th>\n",
       "      <th>user_user_tags</th>\n",
       "      <th>user_white_cover_url</th>\n",
       "      <th>qrec_virtual_enable</th>\n",
       "    </tr>\n",
       "  </thead>\n",
       "  <tbody>\n",
       "    <tr>\n",
       "      <th>0</th>\n",
       "      <td>False</td>\n",
       "      <td>7375576798093970721</td>\n",
       "      <td>7375577986069152558</td>\n",
       "      <td>0</td>\n",
       "      <td>en</td>\n",
       "      <td>None</td>\n",
       "      <td>1717260598</td>\n",
       "      <td>5805</td>\n",
       "      <td>None</td>\n",
       "      <td>False</td>\n",
       "      <td>None</td>\n",
       "      <td>False</td>\n",
       "      <td>None</td>\n",
       "      <td>210</td>\n",
       "      <td>0</td>\n",
       "      <td>0</td>\n",
       "      <td>1</td>\n",
       "      <td>0</td>\n",
       "      <td>Who else came here because of the forgotten slide show</td>\n",
       "      <td>[]</td>\n",
       "      <td>1</td>\n",
       "      <td>False</td>\n",
       "      <td>0</td>\n",
       "      <td>0</td>\n",
       "      <td>{}</td>\n",
       "      <td>Mr Trix2046のコメント: Who else came here because of the forgotten slide show</td>\n",
       "      <td>I’m a little confused #learnfromkhaby #comedy #football</td>\n",
       "      <td>https://m.tiktok.com/v/7375576798093970721.html?_d=eei61e1lh2mjhc&amp;comme...</td>\n",
       "      <td>None</td>\n",
       "      <td>None</td>\n",
       "      <td>None</td>\n",
       "      <td>None</td>\n",
       "      <td>tos-useast5-avt-0068-tx/c1c7c6a5804a3617c7b3c0d4997ff671</td>\n",
       "      <td>[https://p16-pu-sign-useast8.tiktokcdn-us.com/tos-useast5-avt-0068-tx/c...</td>\n",
       "      <td>None</td>\n",
       "      <td>None</td>\n",
       "      <td>None</td>\n",
       "      <td>None</td>\n",
       "      <td>None</td>\n",
       "      <td>None</td>\n",
       "      <td></td>\n",
       "      <td></td>\n",
       "      <td>None</td>\n",
       "      <td>None</td>\n",
       "      <td>None</td>\n",
       "      <td>None</td>\n",
       "      <td>None</td>\n",
       "      <td>None</td>\n",
       "      <td>None</td>\n",
       "      <td>Mr Trix2046</td>\n",
       "      <td>None</td>\n",
       "      <td>None</td>\n",
       "      <td>None</td>\n",
       "      <td>MS4wLjABAAAAV1BjJt9kH6Yv-KFZ44vPRLVqD6rJhJXDAqjHBrTiUu1W6end7wrHACwBgUx...</td>\n",
       "      <td>None</td>\n",
       "      <td>None</td>\n",
       "      <td>7155234282889085994</td>\n",
       "      <td>travipaty0</td>\n",
       "      <td>None</td>\n",
       "      <td>None</td>\n",
       "      <td>None</td>\n",
       "      <td>NaN</td>\n",
       "    </tr>\n",
       "    <tr>\n",
       "      <th>1</th>\n",
       "      <td>False</td>\n",
       "      <td>7375576798093970721</td>\n",
       "      <td>7375591554548761362</td>\n",
       "      <td>0</td>\n",
       "      <td>en</td>\n",
       "      <td>None</td>\n",
       "      <td>1717263765</td>\n",
       "      <td>30</td>\n",
       "      <td>None</td>\n",
       "      <td>False</td>\n",
       "      <td>None</td>\n",
       "      <td>False</td>\n",
       "      <td>None</td>\n",
       "      <td>2</td>\n",
       "      <td>0</td>\n",
       "      <td>0</td>\n",
       "      <td>1</td>\n",
       "      <td>0</td>\n",
       "      <td>rate my edit🙏</td>\n",
       "      <td>[]</td>\n",
       "      <td>1</td>\n",
       "      <td>False</td>\n",
       "      <td>0</td>\n",
       "      <td>0</td>\n",
       "      <td>{}</td>\n",
       "      <td>𝖈𝖆𝖒𝖎_のコメント: rate my edit🙏</td>\n",
       "      <td>I’m a little confused #learnfromkhaby #comedy #football</td>\n",
       "      <td>https://m.tiktok.com/v/7375576798093970721.html?_d=eei61e1lh2mjhc&amp;comme...</td>\n",
       "      <td>None</td>\n",
       "      <td>None</td>\n",
       "      <td>None</td>\n",
       "      <td>None</td>\n",
       "      <td>tos-alisg-avt-0068/2fb20588abc06046e7240672dc0a388a</td>\n",
       "      <td>[https://p16-sign-sg.tiktokcdn.com/aweme/100x100/tos-alisg-avt-0068/2fb...</td>\n",
       "      <td>None</td>\n",
       "      <td>None</td>\n",
       "      <td>None</td>\n",
       "      <td>None</td>\n",
       "      <td>None</td>\n",
       "      <td>None</td>\n",
       "      <td></td>\n",
       "      <td></td>\n",
       "      <td>None</td>\n",
       "      <td>None</td>\n",
       "      <td>None</td>\n",
       "      <td>None</td>\n",
       "      <td>None</td>\n",
       "      <td>None</td>\n",
       "      <td>None</td>\n",
       "      <td>𝖈𝖆𝖒𝖎_</td>\n",
       "      <td>None</td>\n",
       "      <td>None</td>\n",
       "      <td>None</td>\n",
       "      <td>MS4wLjABAAAAyBFuGqxSua1rJOkdaTZc6j8rcPzqvIGMEYpOz0cQifsHI9SOZzwxwSQqNGK...</td>\n",
       "      <td>None</td>\n",
       "      <td>None</td>\n",
       "      <td>7307970066262574098</td>\n",
       "      <td>its_camixpp</td>\n",
       "      <td>None</td>\n",
       "      <td>None</td>\n",
       "      <td>None</td>\n",
       "      <td>NaN</td>\n",
       "    </tr>\n",
       "  </tbody>\n",
       "</table>\n",
       "</div>"
      ],
      "text/plain": [
       "   author_pin             aweme_id                  cid  collect_stat  \\\n",
       "0       False  7375576798093970721  7375577986069152558             0   \n",
       "1       False  7375576798093970721  7375591554548761362             0   \n",
       "\n",
       "  comment_language comment_post_item_ids  create_time  digg_count image_list  \\\n",
       "0               en                  None   1717260598        5805       None   \n",
       "1               en                  None   1717263765          30       None   \n",
       "\n",
       "   is_author_digged label_list  no_show reply_comment  reply_comment_total  \\\n",
       "0             False       None    False          None                  210   \n",
       "1             False       None    False          None                    2   \n",
       "\n",
       "  reply_id reply_to_reply_id  status  stick_position  \\\n",
       "0        0                 0       1               0   \n",
       "1        0                 0       1               0   \n",
       "\n",
       "                                                     text text_extra  \\\n",
       "0  Who else came here because of the forgotten slide show         []   \n",
       "1                                           rate my edit🙏         []   \n",
       "\n",
       "   trans_btn_style  user_buried  user_digged  share_info_acl_code  \\\n",
       "0                1        False            0                    0   \n",
       "1                1        False            0                    0   \n",
       "\n",
       "  share_info_acl_extra  \\\n",
       "0                   {}   \n",
       "1                   {}   \n",
       "\n",
       "                                                            share_info_desc  \\\n",
       "0  Mr Trix2046のコメント: Who else came here because of the forgotten slide show   \n",
       "1                                                 𝖈𝖆𝖒𝖎_のコメント: rate my edit🙏   \n",
       "\n",
       "                                           share_info_title  \\\n",
       "0  I’m a little confused #learnfromkhaby #comedy #football    \n",
       "1  I’m a little confused #learnfromkhaby #comedy #football    \n",
       "\n",
       "                                                               share_info_url  \\\n",
       "0  https://m.tiktok.com/v/7375576798093970721.html?_d=eei61e1lh2mjhc&comme...   \n",
       "1  https://m.tiktok.com/v/7375576798093970721.html?_d=eei61e1lh2mjhc&comme...   \n",
       "\n",
       "  user_account_labels user_ad_cover_url user_advance_feature_item_order  \\\n",
       "0                None              None                            None   \n",
       "1                None              None                            None   \n",
       "\n",
       "  user_advanced_feature_info  \\\n",
       "0                       None   \n",
       "1                       None   \n",
       "\n",
       "                                      user_avatar_thumb_uri  \\\n",
       "0  tos-useast5-avt-0068-tx/c1c7c6a5804a3617c7b3c0d4997ff671   \n",
       "1       tos-alisg-avt-0068/2fb20588abc06046e7240672dc0a388a   \n",
       "\n",
       "                                                   user_avatar_thumb_url_list  \\\n",
       "0  [https://p16-pu-sign-useast8.tiktokcdn-us.com/tos-useast5-avt-0068-tx/c...   \n",
       "1  [https://p16-sign-sg.tiktokcdn.com/aweme/100x100/tos-alisg-avt-0068/2fb...   \n",
       "\n",
       "  user_avatar_thumb_url_prefix user_bold_fields  \\\n",
       "0                         None             None   \n",
       "1                         None             None   \n",
       "\n",
       "  user_can_message_follow_status_list user_can_set_geofencing user_cha_list  \\\n",
       "0                                None                    None          None   \n",
       "1                                None                    None          None   \n",
       "\n",
       "  user_cover_url user_custom_verify user_enterprise_verify_reason user_events  \\\n",
       "0           None                                                         None   \n",
       "1           None                                                         None   \n",
       "\n",
       "  user_followers_detail user_geofencing user_homepage_bottom_toast  \\\n",
       "0                  None            None                       None   \n",
       "1                  None            None                       None   \n",
       "\n",
       "  user_item_list user_mutual_relation_avatars user_need_points user_nickname  \\\n",
       "0           None                         None             None   Mr Trix2046   \n",
       "1           None                         None             None         𝖈𝖆𝖒𝖎_   \n",
       "\n",
       "  user_platform_sync_info user_relative_users user_search_highlight  \\\n",
       "0                    None                None                  None   \n",
       "1                    None                None                  None   \n",
       "\n",
       "                                                                 user_sec_uid  \\\n",
       "0  MS4wLjABAAAAV1BjJt9kH6Yv-KFZ44vPRLVqD6rJhJXDAqjHBrTiUu1W6end7wrHACwBgUx...   \n",
       "1  MS4wLjABAAAAyBFuGqxSua1rJOkdaTZc6j8rcPzqvIGMEYpOz0cQifsHI9SOZzwxwSQqNGK...   \n",
       "\n",
       "  user_shield_edit_field_info user_type_label             user_uid  \\\n",
       "0                        None            None  7155234282889085994   \n",
       "1                        None            None  7307970066262574098   \n",
       "\n",
       "  user_unique_id user_user_profile_guide user_user_tags user_white_cover_url  \\\n",
       "0     travipaty0                    None           None                 None   \n",
       "1    its_camixpp                    None           None                 None   \n",
       "\n",
       "  qrec_virtual_enable  \n",
       "0                 NaN  \n",
       "1                 NaN  "
      ]
     },
     "execution_count": 65,
     "metadata": {},
     "output_type": "execute_result"
    }
   ],
   "source": [
    "import pandas as pd\n",
    "pd.options.display.max_columns = None\n",
    "\n",
    "# Use json_normalize bc see above\n",
    "comments_df = pd.json_normalize(rows, sep='_')\n",
    "\n",
    "comments_df.head(2)"
   ]
  },
  {
   "cell_type": "code",
   "execution_count": 66,
   "metadata": {},
   "outputs": [
    {
     "name": "stdout",
     "output_type": "stream",
     "text": [
      "331\n"
     ]
    }
   ],
   "source": [
    "# Remove duplicates\n",
    "comments_df = comments_df.drop_duplicates(subset=['aweme_id', 'cid'])\n",
    "print(comments_df.shape[0])"
   ]
  },
  {
   "cell_type": "code",
   "execution_count": 15,
   "metadata": {},
   "outputs": [],
   "source": [
    "comments_df.to_csv(\"comments.csv\", index=False)"
   ]
  },
  {
   "cell_type": "markdown",
   "metadata": {},
   "source": [
    "## Searching and filtering"
   ]
  },
  {
   "cell_type": "markdown",
   "metadata": {},
   "source": [
    "Video `id` field matches comment `aweme_id` field. You can take the first one above - I'm seeing `6892488417905577222` - and use it to filter (or even join)"
   ]
  },
  {
   "cell_type": "code",
   "execution_count": 73,
   "metadata": {},
   "outputs": [
    {
     "data": {
      "text/html": [
       "<div>\n",
       "<style scoped>\n",
       "    .dataframe tbody tr th:only-of-type {\n",
       "        vertical-align: middle;\n",
       "    }\n",
       "\n",
       "    .dataframe tbody tr th {\n",
       "        vertical-align: top;\n",
       "    }\n",
       "\n",
       "    .dataframe thead th {\n",
       "        text-align: right;\n",
       "    }\n",
       "</style>\n",
       "<table border=\"1\" class=\"dataframe\">\n",
       "  <thead>\n",
       "    <tr style=\"text-align: right;\">\n",
       "      <th></th>\n",
       "      <th>BAInfo</th>\n",
       "      <th>adAuthorization</th>\n",
       "      <th>adLabelVersion</th>\n",
       "      <th>aigcLabelType</th>\n",
       "      <th>challenges</th>\n",
       "      <th>collected</th>\n",
       "      <th>contents</th>\n",
       "      <th>createTime</th>\n",
       "      <th>desc</th>\n",
       "      <th>digged</th>\n",
       "      <th>duetDisplay</th>\n",
       "      <th>duetEnabled</th>\n",
       "      <th>forFriend</th>\n",
       "      <th>id</th>\n",
       "      <th>isAd</th>\n",
       "      <th>itemCommentStatus</th>\n",
       "      <th>itemMute</th>\n",
       "      <th>officalItem</th>\n",
       "      <th>originalItem</th>\n",
       "      <th>playlistId</th>\n",
       "      <th>privateItem</th>\n",
       "      <th>secret</th>\n",
       "      <th>shareEnabled</th>\n",
       "      <th>showNotPass</th>\n",
       "      <th>stitchDisplay</th>\n",
       "      <th>stitchEnabled</th>\n",
       "      <th>textExtra</th>\n",
       "      <th>vl1</th>\n",
       "      <th>author_avatarLarger</th>\n",
       "      <th>author_avatarMedium</th>\n",
       "      <th>author_avatarThumb</th>\n",
       "      <th>author_commentSetting</th>\n",
       "      <th>author_downloadSetting</th>\n",
       "      <th>author_duetSetting</th>\n",
       "      <th>author_ftc</th>\n",
       "      <th>author_id</th>\n",
       "      <th>author_isADVirtual</th>\n",
       "      <th>author_isEmbedBanned</th>\n",
       "      <th>author_nickname</th>\n",
       "      <th>author_openFavorite</th>\n",
       "      <th>author_privateAccount</th>\n",
       "      <th>author_relation</th>\n",
       "      <th>author_secUid</th>\n",
       "      <th>author_secret</th>\n",
       "      <th>author_signature</th>\n",
       "      <th>author_stitchSetting</th>\n",
       "      <th>author_ttSeller</th>\n",
       "      <th>author_uniqueId</th>\n",
       "      <th>author_verified</th>\n",
       "      <th>authorStats_diggCount</th>\n",
       "      <th>authorStats_followerCount</th>\n",
       "      <th>authorStats_followingCount</th>\n",
       "      <th>authorStats_friendCount</th>\n",
       "      <th>authorStats_heart</th>\n",
       "      <th>authorStats_heartCount</th>\n",
       "      <th>authorStats_videoCount</th>\n",
       "      <th>duetInfo_duetFromId</th>\n",
       "      <th>music_album</th>\n",
       "      <th>music_authorName</th>\n",
       "      <th>music_coverLarge</th>\n",
       "      <th>music_coverMedium</th>\n",
       "      <th>music_coverThumb</th>\n",
       "      <th>music_duration</th>\n",
       "      <th>music_id</th>\n",
       "      <th>music_original</th>\n",
       "      <th>music_playUrl</th>\n",
       "      <th>music_title</th>\n",
       "      <th>stats_collectCount</th>\n",
       "      <th>stats_commentCount</th>\n",
       "      <th>stats_diggCount</th>\n",
       "      <th>stats_playCount</th>\n",
       "      <th>stats_shareCount</th>\n",
       "      <th>statsV2_collectCount</th>\n",
       "      <th>statsV2_commentCount</th>\n",
       "      <th>statsV2_diggCount</th>\n",
       "      <th>statsV2_playCount</th>\n",
       "      <th>statsV2_shareCount</th>\n",
       "      <th>video_bitrate</th>\n",
       "      <th>video_bitrateInfo</th>\n",
       "      <th>video_codecType</th>\n",
       "      <th>video_cover</th>\n",
       "      <th>video_definition</th>\n",
       "      <th>video_downloadAddr</th>\n",
       "      <th>video_duration</th>\n",
       "      <th>video_dynamicCover</th>\n",
       "      <th>video_encodeUserTag</th>\n",
       "      <th>video_encodedType</th>\n",
       "      <th>video_format</th>\n",
       "      <th>video_height</th>\n",
       "      <th>video_id</th>\n",
       "      <th>video_originCover</th>\n",
       "      <th>video_playAddr</th>\n",
       "      <th>video_ratio</th>\n",
       "      <th>video_reflowCover</th>\n",
       "      <th>video_shareCover</th>\n",
       "      <th>video_size</th>\n",
       "      <th>video_subtitleInfos</th>\n",
       "      <th>video_videoQuality</th>\n",
       "      <th>video_volumeInfo_Loudness</th>\n",
       "      <th>video_volumeInfo_Peak</th>\n",
       "      <th>video_width</th>\n",
       "      <th>video_zoomCover_240</th>\n",
       "      <th>video_zoomCover_480</th>\n",
       "      <th>video_zoomCover_720</th>\n",
       "      <th>video_zoomCover_960</th>\n",
       "      <th>diversificationId</th>\n",
       "      <th>anchors</th>\n",
       "      <th>warnInfo</th>\n",
       "      <th>stickersOnItem</th>\n",
       "      <th>effectStickers</th>\n",
       "      <th>imagePost_cover_imageHeight</th>\n",
       "      <th>imagePost_cover_imageURL_urlList</th>\n",
       "      <th>imagePost_cover_imageWidth</th>\n",
       "      <th>imagePost_images</th>\n",
       "      <th>imagePost_shareCover_imageHeight</th>\n",
       "      <th>imagePost_shareCover_imageURL_urlList</th>\n",
       "      <th>imagePost_shareCover_imageWidth</th>\n",
       "      <th>imagePost_title</th>\n",
       "      <th>poi_address</th>\n",
       "      <th>poi_category</th>\n",
       "      <th>poi_city</th>\n",
       "      <th>poi_cityCode</th>\n",
       "      <th>poi_country</th>\n",
       "      <th>poi_countryCode</th>\n",
       "      <th>poi_fatherPoiId</th>\n",
       "      <th>poi_fatherPoiName</th>\n",
       "      <th>poi_id</th>\n",
       "      <th>poi_name</th>\n",
       "      <th>poi_province</th>\n",
       "      <th>poi_ttTypeCode</th>\n",
       "      <th>poi_ttTypeNameMedium</th>\n",
       "      <th>poi_ttTypeNameSuper</th>\n",
       "      <th>poi_ttTypeNameTiny</th>\n",
       "      <th>poi_type</th>\n",
       "      <th>poi_typeCode</th>\n",
       "      <th>maskType</th>\n",
       "    </tr>\n",
       "  </thead>\n",
       "  <tbody>\n",
       "    <tr>\n",
       "      <th>3</th>\n",
       "      <td></td>\n",
       "      <td>False</td>\n",
       "      <td>0</td>\n",
       "      <td>0</td>\n",
       "      <td>[{'coverLarger': 'https://p16-amd-va.tiktokcdn...</td>\n",
       "      <td>False</td>\n",
       "      <td>[{'desc': '#greenscreen Biden funna make Ameri...</td>\n",
       "      <td>1604782549</td>\n",
       "      <td>#greenscreen Biden funna make America great ag...</td>\n",
       "      <td>False</td>\n",
       "      <td>0</td>\n",
       "      <td>True</td>\n",
       "      <td>False</td>\n",
       "      <td>6892488417905577222</td>\n",
       "      <td>False</td>\n",
       "      <td>0</td>\n",
       "      <td>True</td>\n",
       "      <td>False</td>\n",
       "      <td>False</td>\n",
       "      <td></td>\n",
       "      <td>False</td>\n",
       "      <td>False</td>\n",
       "      <td>True</td>\n",
       "      <td>False</td>\n",
       "      <td>0</td>\n",
       "      <td>True</td>\n",
       "      <td>[{'awemeId': '', 'end': 12, 'hashtagId': '8018...</td>\n",
       "      <td>False</td>\n",
       "      <td>https://p19-pu-sign-useast8.tiktokcdn-us.com/t...</td>\n",
       "      <td>https://p16-pu-sign-useast8.tiktokcdn-us.com/t...</td>\n",
       "      <td>https://p16-pu-sign-useast8.tiktokcdn-us.com/t...</td>\n",
       "      <td>0</td>\n",
       "      <td>3</td>\n",
       "      <td>0</td>\n",
       "      <td>False</td>\n",
       "      <td>6681843491281126406</td>\n",
       "      <td>False</td>\n",
       "      <td>False</td>\n",
       "      <td>Jay and Nia</td>\n",
       "      <td>True</td>\n",
       "      <td>False</td>\n",
       "      <td>0</td>\n",
       "      <td>MS4wLjABAAAAxtJs-CKw7wXRqmf-9AxsMda78a0xCiPq9o...</td>\n",
       "      <td>False</td>\n",
       "      <td>Followers Of Jesus 🫶🏾\\n📧: Jay.nia4l@gmail.com\\...</td>\n",
       "      <td>0</td>\n",
       "      <td>False</td>\n",
       "      <td>jayandnia</td>\n",
       "      <td>False</td>\n",
       "      <td>3169</td>\n",
       "      <td>6600000</td>\n",
       "      <td>5</td>\n",
       "      <td>0</td>\n",
       "      <td>135900000</td>\n",
       "      <td>135900000</td>\n",
       "      <td>1776</td>\n",
       "      <td>0</td>\n",
       "      <td></td>\n",
       "      <td>Bella</td>\n",
       "      <td>https://p19-pu-sign-useast8.tiktokcdn-us.com/t...</td>\n",
       "      <td>https://p19-pu-sign-useast8.tiktokcdn-us.com/t...</td>\n",
       "      <td>https://p19-pu-sign-useast8.tiktokcdn-us.com/t...</td>\n",
       "      <td>10</td>\n",
       "      <td>6885917439331240710</td>\n",
       "      <td>True</td>\n",
       "      <td></td>\n",
       "      <td>original sound</td>\n",
       "      <td>662</td>\n",
       "      <td>273</td>\n",
       "      <td>28200</td>\n",
       "      <td>368000</td>\n",
       "      <td>346</td>\n",
       "      <td>662</td>\n",
       "      <td>273</td>\n",
       "      <td>28248</td>\n",
       "      <td>367966</td>\n",
       "      <td>346</td>\n",
       "      <td>1227352.0</td>\n",
       "      <td>[{'Bitrate': 1227352, 'CodecType': 'h264', 'Ge...</td>\n",
       "      <td>h264</td>\n",
       "      <td>https://p16-sign-va.tiktokcdn.com/obj/tos-mali...</td>\n",
       "      <td>540p</td>\n",
       "      <td>https://v16-webapp-prime.us.tiktok.com/video/t...</td>\n",
       "      <td>10</td>\n",
       "      <td>https://p16-sign-va.tiktokcdn.com/obj/tos-mali...</td>\n",
       "      <td></td>\n",
       "      <td>normal</td>\n",
       "      <td>mp4</td>\n",
       "      <td>1024</td>\n",
       "      <td>6892488417905577222</td>\n",
       "      <td>https://p16-sign-va.tiktokcdn.com/obj/tos-mali...</td>\n",
       "      <td>https://v16-webapp-prime.us.tiktok.com/video/t...</td>\n",
       "      <td>540p</td>\n",
       "      <td>https://p16-sign-va.tiktokcdn.com/tos-maliva-p...</td>\n",
       "      <td>[, https://p16-sign-va.tiktokcdn.com/tos-maliv...</td>\n",
       "      <td>1602922.0</td>\n",
       "      <td>NaN</td>\n",
       "      <td>normal</td>\n",
       "      <td>NaN</td>\n",
       "      <td>NaN</td>\n",
       "      <td>576</td>\n",
       "      <td>https://p16-sign-va.tiktokcdn.com/tos-maliva-p...</td>\n",
       "      <td>https://p16-sign-va.tiktokcdn.com/tos-maliva-p...</td>\n",
       "      <td>https://p16-sign-va.tiktokcdn.com/tos-maliva-p...</td>\n",
       "      <td>https://p16-sign-va.tiktokcdn.com/tos-maliva-p...</td>\n",
       "      <td>10024.0</td>\n",
       "      <td>NaN</td>\n",
       "      <td>NaN</td>\n",
       "      <td>NaN</td>\n",
       "      <td>NaN</td>\n",
       "      <td>NaN</td>\n",
       "      <td>NaN</td>\n",
       "      <td>NaN</td>\n",
       "      <td>NaN</td>\n",
       "      <td>NaN</td>\n",
       "      <td>NaN</td>\n",
       "      <td>NaN</td>\n",
       "      <td>NaN</td>\n",
       "      <td>NaN</td>\n",
       "      <td>NaN</td>\n",
       "      <td>NaN</td>\n",
       "      <td>NaN</td>\n",
       "      <td>NaN</td>\n",
       "      <td>NaN</td>\n",
       "      <td>NaN</td>\n",
       "      <td>NaN</td>\n",
       "      <td>NaN</td>\n",
       "      <td>NaN</td>\n",
       "      <td>NaN</td>\n",
       "      <td>NaN</td>\n",
       "      <td>NaN</td>\n",
       "      <td>NaN</td>\n",
       "      <td>NaN</td>\n",
       "      <td>NaN</td>\n",
       "      <td>NaN</td>\n",
       "      <td>NaN</td>\n",
       "    </tr>\n",
       "  </tbody>\n",
       "</table>\n",
       "</div>"
      ],
      "text/plain": [
       "  BAInfo  adAuthorization  adLabelVersion  aigcLabelType  \\\n",
       "3                   False               0              0   \n",
       "\n",
       "                                          challenges  collected  \\\n",
       "3  [{'coverLarger': 'https://p16-amd-va.tiktokcdn...      False   \n",
       "\n",
       "                                            contents  createTime  \\\n",
       "3  [{'desc': '#greenscreen Biden funna make Ameri...  1604782549   \n",
       "\n",
       "                                                desc  digged  duetDisplay  \\\n",
       "3  #greenscreen Biden funna make America great ag...   False            0   \n",
       "\n",
       "   duetEnabled  forFriend                   id   isAd  itemCommentStatus  \\\n",
       "3         True      False  6892488417905577222  False                  0   \n",
       "\n",
       "   itemMute  officalItem  originalItem playlistId  privateItem  secret  \\\n",
       "3      True        False         False                   False   False   \n",
       "\n",
       "   shareEnabled  showNotPass  stitchDisplay  stitchEnabled  \\\n",
       "3          True        False              0           True   \n",
       "\n",
       "                                           textExtra    vl1  \\\n",
       "3  [{'awemeId': '', 'end': 12, 'hashtagId': '8018...  False   \n",
       "\n",
       "                                 author_avatarLarger  \\\n",
       "3  https://p19-pu-sign-useast8.tiktokcdn-us.com/t...   \n",
       "\n",
       "                                 author_avatarMedium  \\\n",
       "3  https://p16-pu-sign-useast8.tiktokcdn-us.com/t...   \n",
       "\n",
       "                                  author_avatarThumb  author_commentSetting  \\\n",
       "3  https://p16-pu-sign-useast8.tiktokcdn-us.com/t...                      0   \n",
       "\n",
       "   author_downloadSetting  author_duetSetting  author_ftc  \\\n",
       "3                       3                   0       False   \n",
       "\n",
       "             author_id  author_isADVirtual  author_isEmbedBanned  \\\n",
       "3  6681843491281126406               False                 False   \n",
       "\n",
       "  author_nickname  author_openFavorite  author_privateAccount  \\\n",
       "3     Jay and Nia                 True                  False   \n",
       "\n",
       "   author_relation                                      author_secUid  \\\n",
       "3                0  MS4wLjABAAAAxtJs-CKw7wXRqmf-9AxsMda78a0xCiPq9o...   \n",
       "\n",
       "   author_secret                                   author_signature  \\\n",
       "3          False  Followers Of Jesus 🫶🏾\\n📧: Jay.nia4l@gmail.com\\...   \n",
       "\n",
       "   author_stitchSetting  author_ttSeller author_uniqueId  author_verified  \\\n",
       "3                     0            False       jayandnia            False   \n",
       "\n",
       "   authorStats_diggCount  authorStats_followerCount  \\\n",
       "3                   3169                    6600000   \n",
       "\n",
       "   authorStats_followingCount  authorStats_friendCount  authorStats_heart  \\\n",
       "3                           5                        0          135900000   \n",
       "\n",
       "   authorStats_heartCount  authorStats_videoCount duetInfo_duetFromId  \\\n",
       "3               135900000                    1776                   0   \n",
       "\n",
       "  music_album music_authorName  \\\n",
       "3                        Bella   \n",
       "\n",
       "                                    music_coverLarge  \\\n",
       "3  https://p19-pu-sign-useast8.tiktokcdn-us.com/t...   \n",
       "\n",
       "                                   music_coverMedium  \\\n",
       "3  https://p19-pu-sign-useast8.tiktokcdn-us.com/t...   \n",
       "\n",
       "                                    music_coverThumb  music_duration  \\\n",
       "3  https://p19-pu-sign-useast8.tiktokcdn-us.com/t...              10   \n",
       "\n",
       "              music_id  music_original music_playUrl     music_title  \\\n",
       "3  6885917439331240710            True                original sound   \n",
       "\n",
       "   stats_collectCount  stats_commentCount  stats_diggCount  stats_playCount  \\\n",
       "3                 662                 273            28200           368000   \n",
       "\n",
       "   stats_shareCount statsV2_collectCount statsV2_commentCount  \\\n",
       "3               346                  662                  273   \n",
       "\n",
       "  statsV2_diggCount statsV2_playCount statsV2_shareCount  video_bitrate  \\\n",
       "3             28248            367966                346      1227352.0   \n",
       "\n",
       "                                   video_bitrateInfo video_codecType  \\\n",
       "3  [{'Bitrate': 1227352, 'CodecType': 'h264', 'Ge...            h264   \n",
       "\n",
       "                                         video_cover video_definition  \\\n",
       "3  https://p16-sign-va.tiktokcdn.com/obj/tos-mali...             540p   \n",
       "\n",
       "                                  video_downloadAddr  video_duration  \\\n",
       "3  https://v16-webapp-prime.us.tiktok.com/video/t...              10   \n",
       "\n",
       "                                  video_dynamicCover video_encodeUserTag  \\\n",
       "3  https://p16-sign-va.tiktokcdn.com/obj/tos-mali...                       \n",
       "\n",
       "  video_encodedType video_format  video_height             video_id  \\\n",
       "3            normal          mp4          1024  6892488417905577222   \n",
       "\n",
       "                                   video_originCover  \\\n",
       "3  https://p16-sign-va.tiktokcdn.com/obj/tos-mali...   \n",
       "\n",
       "                                      video_playAddr video_ratio  \\\n",
       "3  https://v16-webapp-prime.us.tiktok.com/video/t...        540p   \n",
       "\n",
       "                                   video_reflowCover  \\\n",
       "3  https://p16-sign-va.tiktokcdn.com/tos-maliva-p...   \n",
       "\n",
       "                                    video_shareCover  video_size  \\\n",
       "3  [, https://p16-sign-va.tiktokcdn.com/tos-maliv...   1602922.0   \n",
       "\n",
       "  video_subtitleInfos video_videoQuality  video_volumeInfo_Loudness  \\\n",
       "3                 NaN             normal                        NaN   \n",
       "\n",
       "   video_volumeInfo_Peak  video_width  \\\n",
       "3                    NaN          576   \n",
       "\n",
       "                                 video_zoomCover_240  \\\n",
       "3  https://p16-sign-va.tiktokcdn.com/tos-maliva-p...   \n",
       "\n",
       "                                 video_zoomCover_480  \\\n",
       "3  https://p16-sign-va.tiktokcdn.com/tos-maliva-p...   \n",
       "\n",
       "                                 video_zoomCover_720  \\\n",
       "3  https://p16-sign-va.tiktokcdn.com/tos-maliva-p...   \n",
       "\n",
       "                                 video_zoomCover_960  diversificationId  \\\n",
       "3  https://p16-sign-va.tiktokcdn.com/tos-maliva-p...            10024.0   \n",
       "\n",
       "  anchors warnInfo stickersOnItem effectStickers  imagePost_cover_imageHeight  \\\n",
       "3     NaN      NaN            NaN            NaN                          NaN   \n",
       "\n",
       "  imagePost_cover_imageURL_urlList  imagePost_cover_imageWidth  \\\n",
       "3                              NaN                         NaN   \n",
       "\n",
       "  imagePost_images  imagePost_shareCover_imageHeight  \\\n",
       "3              NaN                               NaN   \n",
       "\n",
       "  imagePost_shareCover_imageURL_urlList  imagePost_shareCover_imageWidth  \\\n",
       "3                                   NaN                              NaN   \n",
       "\n",
       "  imagePost_title poi_address poi_category poi_city poi_cityCode poi_country  \\\n",
       "3             NaN         NaN          NaN      NaN          NaN         NaN   \n",
       "\n",
       "  poi_countryCode poi_fatherPoiId poi_fatherPoiName poi_id poi_name  \\\n",
       "3             NaN             NaN               NaN    NaN      NaN   \n",
       "\n",
       "  poi_province poi_ttTypeCode poi_ttTypeNameMedium poi_ttTypeNameSuper  \\\n",
       "3          NaN            NaN                  NaN                 NaN   \n",
       "\n",
       "  poi_ttTypeNameTiny  poi_type poi_typeCode  maskType  \n",
       "3                NaN       NaN          NaN       NaN  "
      ]
     },
     "execution_count": 73,
     "metadata": {},
     "output_type": "execute_result"
    }
   ],
   "source": [
    "# Search videos by video id\n",
    "videos_df[videos_df.id == '6892488417905577222']"
   ]
  },
  {
   "cell_type": "code",
   "execution_count": 74,
   "metadata": {},
   "outputs": [
    {
     "data": {
      "text/html": [
       "<div>\n",
       "<style scoped>\n",
       "    .dataframe tbody tr th:only-of-type {\n",
       "        vertical-align: middle;\n",
       "    }\n",
       "\n",
       "    .dataframe tbody tr th {\n",
       "        vertical-align: top;\n",
       "    }\n",
       "\n",
       "    .dataframe thead th {\n",
       "        text-align: right;\n",
       "    }\n",
       "</style>\n",
       "<table border=\"1\" class=\"dataframe\">\n",
       "  <thead>\n",
       "    <tr style=\"text-align: right;\">\n",
       "      <th></th>\n",
       "      <th>author_pin</th>\n",
       "      <th>aweme_id</th>\n",
       "      <th>cid</th>\n",
       "      <th>collect_stat</th>\n",
       "      <th>comment_language</th>\n",
       "      <th>comment_post_item_ids</th>\n",
       "      <th>create_time</th>\n",
       "      <th>digg_count</th>\n",
       "      <th>image_list</th>\n",
       "      <th>is_author_digged</th>\n",
       "      <th>label_list</th>\n",
       "      <th>no_show</th>\n",
       "      <th>reply_comment</th>\n",
       "      <th>reply_comment_total</th>\n",
       "      <th>reply_id</th>\n",
       "      <th>reply_to_reply_id</th>\n",
       "      <th>status</th>\n",
       "      <th>stick_position</th>\n",
       "      <th>text</th>\n",
       "      <th>text_extra</th>\n",
       "      <th>trans_btn_style</th>\n",
       "      <th>user_buried</th>\n",
       "      <th>user_digged</th>\n",
       "      <th>share_info_acl_code</th>\n",
       "      <th>share_info_acl_extra</th>\n",
       "      <th>share_info_desc</th>\n",
       "      <th>share_info_title</th>\n",
       "      <th>share_info_url</th>\n",
       "      <th>user_account_labels</th>\n",
       "      <th>user_ad_cover_url</th>\n",
       "      <th>user_advance_feature_item_order</th>\n",
       "      <th>user_advanced_feature_info</th>\n",
       "      <th>user_avatar_thumb_uri</th>\n",
       "      <th>user_avatar_thumb_url_list</th>\n",
       "      <th>user_avatar_thumb_url_prefix</th>\n",
       "      <th>user_bold_fields</th>\n",
       "      <th>user_can_message_follow_status_list</th>\n",
       "      <th>user_can_set_geofencing</th>\n",
       "      <th>user_cha_list</th>\n",
       "      <th>user_cover_url</th>\n",
       "      <th>user_custom_verify</th>\n",
       "      <th>user_enterprise_verify_reason</th>\n",
       "      <th>user_events</th>\n",
       "      <th>user_followers_detail</th>\n",
       "      <th>user_geofencing</th>\n",
       "      <th>user_homepage_bottom_toast</th>\n",
       "      <th>user_item_list</th>\n",
       "      <th>user_mutual_relation_avatars</th>\n",
       "      <th>user_need_points</th>\n",
       "      <th>user_nickname</th>\n",
       "      <th>user_platform_sync_info</th>\n",
       "      <th>user_relative_users</th>\n",
       "      <th>user_search_highlight</th>\n",
       "      <th>user_sec_uid</th>\n",
       "      <th>user_shield_edit_field_info</th>\n",
       "      <th>user_type_label</th>\n",
       "      <th>user_uid</th>\n",
       "      <th>user_unique_id</th>\n",
       "      <th>user_user_profile_guide</th>\n",
       "      <th>user_user_tags</th>\n",
       "      <th>user_white_cover_url</th>\n",
       "      <th>label_text</th>\n",
       "      <th>label_type</th>\n",
       "    </tr>\n",
       "  </thead>\n",
       "  <tbody>\n",
       "    <tr>\n",
       "      <th>0</th>\n",
       "      <td>False</td>\n",
       "      <td>6892488417905577222</td>\n",
       "      <td>6893132880093085701</td>\n",
       "      <td>0</td>\n",
       "      <td></td>\n",
       "      <td>None</td>\n",
       "      <td>1604932581</td>\n",
       "      <td>2</td>\n",
       "      <td>None</td>\n",
       "      <td>False</td>\n",
       "      <td>None</td>\n",
       "      <td>False</td>\n",
       "      <td>None</td>\n",
       "      <td>1</td>\n",
       "      <td>0</td>\n",
       "      <td>0</td>\n",
       "      <td>1</td>\n",
       "      <td>0</td>\n",
       "      <td>Did u realized u have a blue oufit on fire bid...</td>\n",
       "      <td>[]</td>\n",
       "      <td>0</td>\n",
       "      <td>False</td>\n",
       "      <td>0</td>\n",
       "      <td>0</td>\n",
       "      <td>{}</td>\n",
       "      <td>TheOnly.Nieのコメント: Did u realized u have a blue...</td>\n",
       "      <td>#greenscreen Biden funna make America great ag...</td>\n",
       "      <td>https://m.tiktok.com/v/6892488417905577222.htm...</td>\n",
       "      <td>None</td>\n",
       "      <td>None</td>\n",
       "      <td>None</td>\n",
       "      <td>None</td>\n",
       "      <td>tos-maliva-avt-0068/5504628a898bba6104b320e944...</td>\n",
       "      <td>[https://p16-sign-va.tiktokcdn.com/tos-maliva-...</td>\n",
       "      <td>None</td>\n",
       "      <td>None</td>\n",
       "      <td>None</td>\n",
       "      <td>None</td>\n",
       "      <td>None</td>\n",
       "      <td>None</td>\n",
       "      <td></td>\n",
       "      <td></td>\n",
       "      <td>None</td>\n",
       "      <td>None</td>\n",
       "      <td>None</td>\n",
       "      <td>None</td>\n",
       "      <td>None</td>\n",
       "      <td>None</td>\n",
       "      <td>None</td>\n",
       "      <td>TheOnly.Nie</td>\n",
       "      <td>None</td>\n",
       "      <td>None</td>\n",
       "      <td>None</td>\n",
       "      <td>MS4wLjABAAAADN5RqCjUXdp2VBHLV3zgEJxVMyheVfpZDE...</td>\n",
       "      <td>None</td>\n",
       "      <td>None</td>\n",
       "      <td>6861221316131128325</td>\n",
       "      <td>naellefrancillon6</td>\n",
       "      <td>None</td>\n",
       "      <td>None</td>\n",
       "      <td>None</td>\n",
       "      <td>NaN</td>\n",
       "      <td>NaN</td>\n",
       "    </tr>\n",
       "    <tr>\n",
       "      <th>162</th>\n",
       "      <td>False</td>\n",
       "      <td>6892488417905577222</td>\n",
       "      <td>6893132880093085701</td>\n",
       "      <td>0</td>\n",
       "      <td></td>\n",
       "      <td>None</td>\n",
       "      <td>1604932581</td>\n",
       "      <td>2</td>\n",
       "      <td>None</td>\n",
       "      <td>False</td>\n",
       "      <td>None</td>\n",
       "      <td>False</td>\n",
       "      <td>None</td>\n",
       "      <td>1</td>\n",
       "      <td>0</td>\n",
       "      <td>0</td>\n",
       "      <td>1</td>\n",
       "      <td>0</td>\n",
       "      <td>Did u realized u have a blue oufit on fire bid...</td>\n",
       "      <td>[]</td>\n",
       "      <td>0</td>\n",
       "      <td>False</td>\n",
       "      <td>0</td>\n",
       "      <td>0</td>\n",
       "      <td>{}</td>\n",
       "      <td>TheOnly.Nieのコメント: Did u realized u have a blue...</td>\n",
       "      <td>#greenscreen Biden funna make America great ag...</td>\n",
       "      <td>https://m.tiktok.com/v/6892488417905577222.htm...</td>\n",
       "      <td>None</td>\n",
       "      <td>None</td>\n",
       "      <td>None</td>\n",
       "      <td>None</td>\n",
       "      <td>tos-maliva-avt-0068/5504628a898bba6104b320e944...</td>\n",
       "      <td>[https://p16-sign-va.tiktokcdn.com/tos-maliva-...</td>\n",
       "      <td>None</td>\n",
       "      <td>None</td>\n",
       "      <td>None</td>\n",
       "      <td>None</td>\n",
       "      <td>None</td>\n",
       "      <td>None</td>\n",
       "      <td></td>\n",
       "      <td></td>\n",
       "      <td>None</td>\n",
       "      <td>None</td>\n",
       "      <td>None</td>\n",
       "      <td>None</td>\n",
       "      <td>None</td>\n",
       "      <td>None</td>\n",
       "      <td>None</td>\n",
       "      <td>TheOnly.Nie</td>\n",
       "      <td>None</td>\n",
       "      <td>None</td>\n",
       "      <td>None</td>\n",
       "      <td>MS4wLjABAAAADN5RqCjUXdp2VBHLV3zgEJxVMyheVfpZDE...</td>\n",
       "      <td>None</td>\n",
       "      <td>None</td>\n",
       "      <td>6861221316131128325</td>\n",
       "      <td>naellefrancillon6</td>\n",
       "      <td>None</td>\n",
       "      <td>None</td>\n",
       "      <td>None</td>\n",
       "      <td>NaN</td>\n",
       "      <td>NaN</td>\n",
       "    </tr>\n",
       "  </tbody>\n",
       "</table>\n",
       "</div>"
      ],
      "text/plain": [
       "     author_pin             aweme_id                  cid  collect_stat  \\\n",
       "0         False  6892488417905577222  6893132880093085701             0   \n",
       "162       False  6892488417905577222  6893132880093085701             0   \n",
       "\n",
       "    comment_language comment_post_item_ids  create_time  digg_count  \\\n",
       "0                                     None   1604932581           2   \n",
       "162                                   None   1604932581           2   \n",
       "\n",
       "    image_list  is_author_digged label_list  no_show reply_comment  \\\n",
       "0         None             False       None    False          None   \n",
       "162       None             False       None    False          None   \n",
       "\n",
       "     reply_comment_total reply_id reply_to_reply_id  status  stick_position  \\\n",
       "0                      1        0                 0       1               0   \n",
       "162                    1        0                 0       1               0   \n",
       "\n",
       "                                                  text text_extra  \\\n",
       "0    Did u realized u have a blue oufit on fire bid...         []   \n",
       "162  Did u realized u have a blue oufit on fire bid...         []   \n",
       "\n",
       "     trans_btn_style  user_buried  user_digged  share_info_acl_code  \\\n",
       "0                  0        False            0                    0   \n",
       "162                0        False            0                    0   \n",
       "\n",
       "    share_info_acl_extra                                    share_info_desc  \\\n",
       "0                     {}  TheOnly.Nieのコメント: Did u realized u have a blue...   \n",
       "162                   {}  TheOnly.Nieのコメント: Did u realized u have a blue...   \n",
       "\n",
       "                                      share_info_title  \\\n",
       "0    #greenscreen Biden funna make America great ag...   \n",
       "162  #greenscreen Biden funna make America great ag...   \n",
       "\n",
       "                                        share_info_url user_account_labels  \\\n",
       "0    https://m.tiktok.com/v/6892488417905577222.htm...                None   \n",
       "162  https://m.tiktok.com/v/6892488417905577222.htm...                None   \n",
       "\n",
       "    user_ad_cover_url user_advance_feature_item_order  \\\n",
       "0                None                            None   \n",
       "162              None                            None   \n",
       "\n",
       "    user_advanced_feature_info  \\\n",
       "0                         None   \n",
       "162                       None   \n",
       "\n",
       "                                 user_avatar_thumb_uri  \\\n",
       "0    tos-maliva-avt-0068/5504628a898bba6104b320e944...   \n",
       "162  tos-maliva-avt-0068/5504628a898bba6104b320e944...   \n",
       "\n",
       "                            user_avatar_thumb_url_list  \\\n",
       "0    [https://p16-sign-va.tiktokcdn.com/tos-maliva-...   \n",
       "162  [https://p16-sign-va.tiktokcdn.com/tos-maliva-...   \n",
       "\n",
       "    user_avatar_thumb_url_prefix user_bold_fields  \\\n",
       "0                           None             None   \n",
       "162                         None             None   \n",
       "\n",
       "    user_can_message_follow_status_list user_can_set_geofencing user_cha_list  \\\n",
       "0                                  None                    None          None   \n",
       "162                                None                    None          None   \n",
       "\n",
       "    user_cover_url user_custom_verify user_enterprise_verify_reason  \\\n",
       "0             None                                                    \n",
       "162           None                                                    \n",
       "\n",
       "    user_events user_followers_detail user_geofencing  \\\n",
       "0          None                  None            None   \n",
       "162        None                  None            None   \n",
       "\n",
       "    user_homepage_bottom_toast user_item_list user_mutual_relation_avatars  \\\n",
       "0                         None           None                         None   \n",
       "162                       None           None                         None   \n",
       "\n",
       "    user_need_points user_nickname user_platform_sync_info  \\\n",
       "0               None   TheOnly.Nie                    None   \n",
       "162             None   TheOnly.Nie                    None   \n",
       "\n",
       "    user_relative_users user_search_highlight  \\\n",
       "0                  None                  None   \n",
       "162                None                  None   \n",
       "\n",
       "                                          user_sec_uid  \\\n",
       "0    MS4wLjABAAAADN5RqCjUXdp2VBHLV3zgEJxVMyheVfpZDE...   \n",
       "162  MS4wLjABAAAADN5RqCjUXdp2VBHLV3zgEJxVMyheVfpZDE...   \n",
       "\n",
       "    user_shield_edit_field_info user_type_label             user_uid  \\\n",
       "0                          None            None  6861221316131128325   \n",
       "162                        None            None  6861221316131128325   \n",
       "\n",
       "        user_unique_id user_user_profile_guide user_user_tags  \\\n",
       "0    naellefrancillon6                    None           None   \n",
       "162  naellefrancillon6                    None           None   \n",
       "\n",
       "    user_white_cover_url label_text  label_type  \n",
       "0                   None        NaN         NaN  \n",
       "162                 None        NaN         NaN  "
      ]
     },
     "execution_count": 74,
     "metadata": {},
     "output_type": "execute_result"
    }
   ],
   "source": [
    "# Search comments by user id\n",
    "comments_df[comments_df.user_uid == '6861221316131128325']"
   ]
  },
  {
   "cell_type": "code",
   "execution_count": 75,
   "metadata": {},
   "outputs": [
    {
     "data": {
      "text/html": [
       "<div>\n",
       "<style scoped>\n",
       "    .dataframe tbody tr th:only-of-type {\n",
       "        vertical-align: middle;\n",
       "    }\n",
       "\n",
       "    .dataframe tbody tr th {\n",
       "        vertical-align: top;\n",
       "    }\n",
       "\n",
       "    .dataframe thead th {\n",
       "        text-align: right;\n",
       "    }\n",
       "</style>\n",
       "<table border=\"1\" class=\"dataframe\">\n",
       "  <thead>\n",
       "    <tr style=\"text-align: right;\">\n",
       "      <th></th>\n",
       "      <th>BAInfo</th>\n",
       "      <th>adAuthorization</th>\n",
       "      <th>adLabelVersion</th>\n",
       "      <th>aigcLabelType</th>\n",
       "      <th>challenges</th>\n",
       "      <th>collected</th>\n",
       "      <th>contents</th>\n",
       "      <th>createTime</th>\n",
       "      <th>desc</th>\n",
       "      <th>digged</th>\n",
       "      <th>duetDisplay</th>\n",
       "      <th>duetEnabled</th>\n",
       "      <th>forFriend</th>\n",
       "      <th>id</th>\n",
       "      <th>isAd</th>\n",
       "      <th>itemCommentStatus</th>\n",
       "      <th>itemMute</th>\n",
       "      <th>officalItem</th>\n",
       "      <th>originalItem</th>\n",
       "      <th>playlistId</th>\n",
       "      <th>privateItem</th>\n",
       "      <th>secret</th>\n",
       "      <th>shareEnabled</th>\n",
       "      <th>showNotPass</th>\n",
       "      <th>stitchDisplay</th>\n",
       "      <th>stitchEnabled</th>\n",
       "      <th>textExtra</th>\n",
       "      <th>vl1</th>\n",
       "      <th>author_avatarLarger</th>\n",
       "      <th>author_avatarMedium</th>\n",
       "      <th>author_avatarThumb</th>\n",
       "      <th>author_commentSetting</th>\n",
       "      <th>author_downloadSetting</th>\n",
       "      <th>author_duetSetting</th>\n",
       "      <th>author_ftc</th>\n",
       "      <th>author_id</th>\n",
       "      <th>author_isADVirtual</th>\n",
       "      <th>author_isEmbedBanned</th>\n",
       "      <th>author_nickname</th>\n",
       "      <th>author_openFavorite</th>\n",
       "      <th>author_privateAccount</th>\n",
       "      <th>author_relation</th>\n",
       "      <th>author_secUid</th>\n",
       "      <th>author_secret</th>\n",
       "      <th>author_signature</th>\n",
       "      <th>author_stitchSetting</th>\n",
       "      <th>author_ttSeller</th>\n",
       "      <th>author_uniqueId</th>\n",
       "      <th>author_verified</th>\n",
       "      <th>authorStats_diggCount</th>\n",
       "      <th>authorStats_followerCount</th>\n",
       "      <th>authorStats_followingCount</th>\n",
       "      <th>authorStats_friendCount</th>\n",
       "      <th>authorStats_heart</th>\n",
       "      <th>authorStats_heartCount</th>\n",
       "      <th>authorStats_videoCount</th>\n",
       "      <th>duetInfo_duetFromId</th>\n",
       "      <th>music_album</th>\n",
       "      <th>music_authorName</th>\n",
       "      <th>music_coverLarge</th>\n",
       "      <th>music_coverMedium</th>\n",
       "      <th>music_coverThumb</th>\n",
       "      <th>music_duration</th>\n",
       "      <th>music_id</th>\n",
       "      <th>music_original</th>\n",
       "      <th>music_playUrl</th>\n",
       "      <th>music_title</th>\n",
       "      <th>stats_collectCount</th>\n",
       "      <th>stats_commentCount</th>\n",
       "      <th>stats_diggCount</th>\n",
       "      <th>stats_playCount</th>\n",
       "      <th>stats_shareCount</th>\n",
       "      <th>statsV2_collectCount</th>\n",
       "      <th>statsV2_commentCount</th>\n",
       "      <th>statsV2_diggCount</th>\n",
       "      <th>statsV2_playCount</th>\n",
       "      <th>statsV2_shareCount</th>\n",
       "      <th>video_bitrate</th>\n",
       "      <th>video_bitrateInfo</th>\n",
       "      <th>video_codecType</th>\n",
       "      <th>video_cover</th>\n",
       "      <th>video_definition</th>\n",
       "      <th>video_downloadAddr</th>\n",
       "      <th>video_duration</th>\n",
       "      <th>video_dynamicCover</th>\n",
       "      <th>video_encodeUserTag</th>\n",
       "      <th>video_encodedType</th>\n",
       "      <th>video_format</th>\n",
       "      <th>video_height</th>\n",
       "      <th>video_id</th>\n",
       "      <th>video_originCover</th>\n",
       "      <th>video_playAddr</th>\n",
       "      <th>video_ratio</th>\n",
       "      <th>video_reflowCover</th>\n",
       "      <th>video_shareCover</th>\n",
       "      <th>video_size</th>\n",
       "      <th>video_subtitleInfos</th>\n",
       "      <th>video_videoQuality</th>\n",
       "      <th>video_volumeInfo_Loudness</th>\n",
       "      <th>video_volumeInfo_Peak</th>\n",
       "      <th>video_width</th>\n",
       "      <th>video_zoomCover_240</th>\n",
       "      <th>video_zoomCover_480</th>\n",
       "      <th>video_zoomCover_720</th>\n",
       "      <th>video_zoomCover_960</th>\n",
       "      <th>diversificationId</th>\n",
       "      <th>anchors</th>\n",
       "      <th>warnInfo</th>\n",
       "      <th>stickersOnItem</th>\n",
       "      <th>effectStickers</th>\n",
       "      <th>imagePost_cover_imageHeight</th>\n",
       "      <th>imagePost_cover_imageURL_urlList</th>\n",
       "      <th>imagePost_cover_imageWidth</th>\n",
       "      <th>imagePost_images</th>\n",
       "      <th>imagePost_shareCover_imageHeight</th>\n",
       "      <th>imagePost_shareCover_imageURL_urlList</th>\n",
       "      <th>imagePost_shareCover_imageWidth</th>\n",
       "      <th>imagePost_title</th>\n",
       "      <th>poi_address</th>\n",
       "      <th>poi_category</th>\n",
       "      <th>poi_city</th>\n",
       "      <th>poi_cityCode</th>\n",
       "      <th>poi_country</th>\n",
       "      <th>poi_countryCode</th>\n",
       "      <th>poi_fatherPoiId</th>\n",
       "      <th>poi_fatherPoiName</th>\n",
       "      <th>poi_id</th>\n",
       "      <th>poi_name</th>\n",
       "      <th>poi_province</th>\n",
       "      <th>poi_ttTypeCode</th>\n",
       "      <th>poi_ttTypeNameMedium</th>\n",
       "      <th>poi_ttTypeNameSuper</th>\n",
       "      <th>poi_ttTypeNameTiny</th>\n",
       "      <th>poi_type</th>\n",
       "      <th>poi_typeCode</th>\n",
       "      <th>maskType</th>\n",
       "    </tr>\n",
       "  </thead>\n",
       "  <tbody>\n",
       "    <tr>\n",
       "      <th>0</th>\n",
       "      <td></td>\n",
       "      <td>False</td>\n",
       "      <td>0</td>\n",
       "      <td>0</td>\n",
       "      <td>[{'coverLarger': '', 'coverMedium': '', 'cover...</td>\n",
       "      <td>False</td>\n",
       "      <td>[{'desc': 'Replying to @chiyufu #twitter #Intu...</td>\n",
       "      <td>1669022418</td>\n",
       "      <td>Replying to @chiyufu #twitter #IntuitTouchdown...</td>\n",
       "      <td>False</td>\n",
       "      <td>0</td>\n",
       "      <td>True</td>\n",
       "      <td>False</td>\n",
       "      <td>7168396273824091438</td>\n",
       "      <td>False</td>\n",
       "      <td>0</td>\n",
       "      <td>False</td>\n",
       "      <td>False</td>\n",
       "      <td>False</td>\n",
       "      <td>7121046092082613038</td>\n",
       "      <td>False</td>\n",
       "      <td>False</td>\n",
       "      <td>True</td>\n",
       "      <td>False</td>\n",
       "      <td>0</td>\n",
       "      <td>True</td>\n",
       "      <td>[{'awemeId': '', 'end': 20, 'hashtagId': '', '...</td>\n",
       "      <td>False</td>\n",
       "      <td>https://p16-pu-sign-useast8.tiktokcdn-us.com/t...</td>\n",
       "      <td>https://p16-pu-sign-useast8.tiktokcdn-us.com/t...</td>\n",
       "      <td>https://p19-pu-sign-useast8.tiktokcdn-us.com/t...</td>\n",
       "      <td>0</td>\n",
       "      <td>0</td>\n",
       "      <td>3</td>\n",
       "      <td>False</td>\n",
       "      <td>6886175799079633925</td>\n",
       "      <td>False</td>\n",
       "      <td>False</td>\n",
       "      <td>Patriot🇺🇸🇺🇸</td>\n",
       "      <td>False</td>\n",
       "      <td>False</td>\n",
       "      <td>0</td>\n",
       "      <td>MS4wLjABAAAArujQcmgMwacdXeGwSNgQubXqPyKPXmnpAP...</td>\n",
       "      <td>False</td>\n",
       "      <td>40K?🚀\\nI POST EDITS! \\n‼️SPAM=BLOCK‼️\\n(I POST...</td>\n",
       "      <td>3</td>\n",
       "      <td>False</td>\n",
       "      <td>americanboyforpresident</td>\n",
       "      <td>False</td>\n",
       "      <td>21000</td>\n",
       "      <td>36100</td>\n",
       "      <td>914</td>\n",
       "      <td>0</td>\n",
       "      <td>2000000</td>\n",
       "      <td>2000000</td>\n",
       "      <td>711</td>\n",
       "      <td>0</td>\n",
       "      <td>Override (Slowed + Reverb)</td>\n",
       "      <td>KSLV Noh</td>\n",
       "      <td>https://p16-sg.tiktokcdn.com/aweme/720x720/tos...</td>\n",
       "      <td>https://p16-sg.tiktokcdn.com/aweme/200x200/tos...</td>\n",
       "      <td>https://p16-sg.tiktokcdn.com/aweme/100x100/tos...</td>\n",
       "      <td>60</td>\n",
       "      <td>7047249385885566977</td>\n",
       "      <td>False</td>\n",
       "      <td>https://sf16-ies-music-sg.tiktokcdn.com/obj/to...</td>\n",
       "      <td>Override - Slowed + Reverb</td>\n",
       "      <td>322</td>\n",
       "      <td>10</td>\n",
       "      <td>1427</td>\n",
       "      <td>15800</td>\n",
       "      <td>32</td>\n",
       "      <td>322</td>\n",
       "      <td>10</td>\n",
       "      <td>1427</td>\n",
       "      <td>15801</td>\n",
       "      <td>32</td>\n",
       "      <td>803605.0</td>\n",
       "      <td>[{'Bitrate': 803605, 'CodecType': 'h264', 'Gea...</td>\n",
       "      <td>h264</td>\n",
       "      <td>https://p16-sign.tiktokcdn-us.com/obj/tos-usea...</td>\n",
       "      <td>540p</td>\n",
       "      <td>https://v16-webapp-prime.us.tiktok.com/video/t...</td>\n",
       "      <td>19</td>\n",
       "      <td>https://p16-sign.tiktokcdn-us.com/obj/tos-usea...</td>\n",
       "      <td></td>\n",
       "      <td>normal</td>\n",
       "      <td>mp4</td>\n",
       "      <td>576</td>\n",
       "      <td>7168396273824091438</td>\n",
       "      <td>https://p16-sign.tiktokcdn-us.com/obj/tos-usea...</td>\n",
       "      <td>https://v16-webapp-prime.us.tiktok.com/video/t...</td>\n",
       "      <td>540p</td>\n",
       "      <td>https://p19-sign.tiktokcdn-us.com/tos-useast5-...</td>\n",
       "      <td>[, https://p19-sign.tiktokcdn-us.com/tos-useas...</td>\n",
       "      <td>1938195.0</td>\n",
       "      <td>[{'Format': 'webvtt', 'LanguageCodeName': 'ind...</td>\n",
       "      <td>normal</td>\n",
       "      <td>-5.4</td>\n",
       "      <td>1.0</td>\n",
       "      <td>576</td>\n",
       "      <td>https://p16-sign.tiktokcdn-us.com/tos-useast5-...</td>\n",
       "      <td>https://p16-sign.tiktokcdn-us.com/tos-useast5-...</td>\n",
       "      <td>https://p16-sign.tiktokcdn-us.com/tos-useast5-...</td>\n",
       "      <td>https://p16-sign.tiktokcdn-us.com/tos-useast5-...</td>\n",
       "      <td>NaN</td>\n",
       "      <td>NaN</td>\n",
       "      <td>NaN</td>\n",
       "      <td>NaN</td>\n",
       "      <td>NaN</td>\n",
       "      <td>NaN</td>\n",
       "      <td>NaN</td>\n",
       "      <td>NaN</td>\n",
       "      <td>NaN</td>\n",
       "      <td>NaN</td>\n",
       "      <td>NaN</td>\n",
       "      <td>NaN</td>\n",
       "      <td>NaN</td>\n",
       "      <td>NaN</td>\n",
       "      <td>NaN</td>\n",
       "      <td>NaN</td>\n",
       "      <td>NaN</td>\n",
       "      <td>NaN</td>\n",
       "      <td>NaN</td>\n",
       "      <td>NaN</td>\n",
       "      <td>NaN</td>\n",
       "      <td>NaN</td>\n",
       "      <td>NaN</td>\n",
       "      <td>NaN</td>\n",
       "      <td>NaN</td>\n",
       "      <td>NaN</td>\n",
       "      <td>NaN</td>\n",
       "      <td>NaN</td>\n",
       "      <td>NaN</td>\n",
       "      <td>NaN</td>\n",
       "      <td>NaN</td>\n",
       "    </tr>\n",
       "  </tbody>\n",
       "</table>\n",
       "</div>"
      ],
      "text/plain": [
       "  BAInfo  adAuthorization  adLabelVersion  aigcLabelType  \\\n",
       "0                   False               0              0   \n",
       "\n",
       "                                          challenges  collected  \\\n",
       "0  [{'coverLarger': '', 'coverMedium': '', 'cover...      False   \n",
       "\n",
       "                                            contents  createTime  \\\n",
       "0  [{'desc': 'Replying to @chiyufu #twitter #Intu...  1669022418   \n",
       "\n",
       "                                                desc  digged  duetDisplay  \\\n",
       "0  Replying to @chiyufu #twitter #IntuitTouchdown...   False            0   \n",
       "\n",
       "   duetEnabled  forFriend                   id   isAd  itemCommentStatus  \\\n",
       "0         True      False  7168396273824091438  False                  0   \n",
       "\n",
       "   itemMute  officalItem  originalItem           playlistId  privateItem  \\\n",
       "0     False        False         False  7121046092082613038        False   \n",
       "\n",
       "   secret  shareEnabled  showNotPass  stitchDisplay  stitchEnabled  \\\n",
       "0   False          True        False              0           True   \n",
       "\n",
       "                                           textExtra    vl1  \\\n",
       "0  [{'awemeId': '', 'end': 20, 'hashtagId': '', '...  False   \n",
       "\n",
       "                                 author_avatarLarger  \\\n",
       "0  https://p16-pu-sign-useast8.tiktokcdn-us.com/t...   \n",
       "\n",
       "                                 author_avatarMedium  \\\n",
       "0  https://p16-pu-sign-useast8.tiktokcdn-us.com/t...   \n",
       "\n",
       "                                  author_avatarThumb  author_commentSetting  \\\n",
       "0  https://p19-pu-sign-useast8.tiktokcdn-us.com/t...                      0   \n",
       "\n",
       "   author_downloadSetting  author_duetSetting  author_ftc  \\\n",
       "0                       0                   3       False   \n",
       "\n",
       "             author_id  author_isADVirtual  author_isEmbedBanned  \\\n",
       "0  6886175799079633925               False                 False   \n",
       "\n",
       "  author_nickname  author_openFavorite  author_privateAccount  \\\n",
       "0     Patriot🇺🇸🇺🇸                False                  False   \n",
       "\n",
       "   author_relation                                      author_secUid  \\\n",
       "0                0  MS4wLjABAAAArujQcmgMwacdXeGwSNgQubXqPyKPXmnpAP...   \n",
       "\n",
       "   author_secret                                   author_signature  \\\n",
       "0          False  40K?🚀\\nI POST EDITS! \\n‼️SPAM=BLOCK‼️\\n(I POST...   \n",
       "\n",
       "   author_stitchSetting  author_ttSeller          author_uniqueId  \\\n",
       "0                     3            False  americanboyforpresident   \n",
       "\n",
       "   author_verified  authorStats_diggCount  authorStats_followerCount  \\\n",
       "0            False                  21000                      36100   \n",
       "\n",
       "   authorStats_followingCount  authorStats_friendCount  authorStats_heart  \\\n",
       "0                         914                        0            2000000   \n",
       "\n",
       "   authorStats_heartCount  authorStats_videoCount duetInfo_duetFromId  \\\n",
       "0                 2000000                     711                   0   \n",
       "\n",
       "                  music_album music_authorName  \\\n",
       "0  Override (Slowed + Reverb)         KSLV Noh   \n",
       "\n",
       "                                    music_coverLarge  \\\n",
       "0  https://p16-sg.tiktokcdn.com/aweme/720x720/tos...   \n",
       "\n",
       "                                   music_coverMedium  \\\n",
       "0  https://p16-sg.tiktokcdn.com/aweme/200x200/tos...   \n",
       "\n",
       "                                    music_coverThumb  music_duration  \\\n",
       "0  https://p16-sg.tiktokcdn.com/aweme/100x100/tos...              60   \n",
       "\n",
       "              music_id  music_original  \\\n",
       "0  7047249385885566977           False   \n",
       "\n",
       "                                       music_playUrl  \\\n",
       "0  https://sf16-ies-music-sg.tiktokcdn.com/obj/to...   \n",
       "\n",
       "                  music_title  stats_collectCount  stats_commentCount  \\\n",
       "0  Override - Slowed + Reverb                 322                  10   \n",
       "\n",
       "   stats_diggCount  stats_playCount  stats_shareCount statsV2_collectCount  \\\n",
       "0             1427            15800                32                  322   \n",
       "\n",
       "  statsV2_commentCount statsV2_diggCount statsV2_playCount statsV2_shareCount  \\\n",
       "0                   10              1427             15801                 32   \n",
       "\n",
       "   video_bitrate                                  video_bitrateInfo  \\\n",
       "0       803605.0  [{'Bitrate': 803605, 'CodecType': 'h264', 'Gea...   \n",
       "\n",
       "  video_codecType                                        video_cover  \\\n",
       "0            h264  https://p16-sign.tiktokcdn-us.com/obj/tos-usea...   \n",
       "\n",
       "  video_definition                                 video_downloadAddr  \\\n",
       "0             540p  https://v16-webapp-prime.us.tiktok.com/video/t...   \n",
       "\n",
       "   video_duration                                 video_dynamicCover  \\\n",
       "0              19  https://p16-sign.tiktokcdn-us.com/obj/tos-usea...   \n",
       "\n",
       "  video_encodeUserTag video_encodedType video_format  video_height  \\\n",
       "0                                normal          mp4           576   \n",
       "\n",
       "              video_id                                  video_originCover  \\\n",
       "0  7168396273824091438  https://p16-sign.tiktokcdn-us.com/obj/tos-usea...   \n",
       "\n",
       "                                      video_playAddr video_ratio  \\\n",
       "0  https://v16-webapp-prime.us.tiktok.com/video/t...        540p   \n",
       "\n",
       "                                   video_reflowCover  \\\n",
       "0  https://p19-sign.tiktokcdn-us.com/tos-useast5-...   \n",
       "\n",
       "                                    video_shareCover  video_size  \\\n",
       "0  [, https://p19-sign.tiktokcdn-us.com/tos-useas...   1938195.0   \n",
       "\n",
       "                                 video_subtitleInfos video_videoQuality  \\\n",
       "0  [{'Format': 'webvtt', 'LanguageCodeName': 'ind...             normal   \n",
       "\n",
       "   video_volumeInfo_Loudness  video_volumeInfo_Peak  video_width  \\\n",
       "0                       -5.4                    1.0          576   \n",
       "\n",
       "                                 video_zoomCover_240  \\\n",
       "0  https://p16-sign.tiktokcdn-us.com/tos-useast5-...   \n",
       "\n",
       "                                 video_zoomCover_480  \\\n",
       "0  https://p16-sign.tiktokcdn-us.com/tos-useast5-...   \n",
       "\n",
       "                                 video_zoomCover_720  \\\n",
       "0  https://p16-sign.tiktokcdn-us.com/tos-useast5-...   \n",
       "\n",
       "                                 video_zoomCover_960  diversificationId  \\\n",
       "0  https://p16-sign.tiktokcdn-us.com/tos-useast5-...                NaN   \n",
       "\n",
       "  anchors warnInfo stickersOnItem effectStickers  imagePost_cover_imageHeight  \\\n",
       "0     NaN      NaN            NaN            NaN                          NaN   \n",
       "\n",
       "  imagePost_cover_imageURL_urlList  imagePost_cover_imageWidth  \\\n",
       "0                              NaN                         NaN   \n",
       "\n",
       "  imagePost_images  imagePost_shareCover_imageHeight  \\\n",
       "0              NaN                               NaN   \n",
       "\n",
       "  imagePost_shareCover_imageURL_urlList  imagePost_shareCover_imageWidth  \\\n",
       "0                                   NaN                              NaN   \n",
       "\n",
       "  imagePost_title poi_address poi_category poi_city poi_cityCode poi_country  \\\n",
       "0             NaN         NaN          NaN      NaN          NaN         NaN   \n",
       "\n",
       "  poi_countryCode poi_fatherPoiId poi_fatherPoiName poi_id poi_name  \\\n",
       "0             NaN             NaN               NaN    NaN      NaN   \n",
       "\n",
       "  poi_province poi_ttTypeCode poi_ttTypeNameMedium poi_ttTypeNameSuper  \\\n",
       "0          NaN            NaN                  NaN                 NaN   \n",
       "\n",
       "  poi_ttTypeNameTiny  poi_type poi_typeCode  maskType  \n",
       "0                NaN       NaN          NaN       NaN  "
      ]
     },
     "execution_count": 75,
     "metadata": {},
     "output_type": "execute_result"
    }
   ],
   "source": [
    "# Search videos by user id\n",
    "videos_df[videos_df.author_id == '6886175799079633925']"
   ]
  },
  {
   "cell_type": "code",
   "execution_count": null,
   "metadata": {},
   "outputs": [],
   "source": []
  }
 ],
 "metadata": {
  "kernelspec": {
   "display_name": "Python 3 (ipykernel)",
   "language": "python",
   "name": "python3"
  },
  "language_info": {
   "codemirror_mode": {
    "name": "ipython",
    "version": 3
   },
   "file_extension": ".py",
   "mimetype": "text/x-python",
   "name": "python",
   "nbconvert_exporter": "python",
   "pygments_lexer": "ipython3",
   "version": "3.11.6"
  }
 },
 "nbformat": 4,
 "nbformat_minor": 4
}
