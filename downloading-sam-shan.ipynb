{
 "cells": [
  {
   "cell_type": "code",
   "execution_count": 1,
   "metadata": {},
   "outputs": [],
   "source": [
    "from TikTokApi import TikTokApi\n",
    "import asyncio\n",
    "import os\n",
    "from yt_dlp import YoutubeDL\n",
    "import pandas as pd"
   ]
  },
  {
   "cell_type": "code",
   "execution_count": 20,
   "metadata": {},
   "outputs": [],
   "source": [
    "ms_token = 'CP6Qjv5BvdyZL3zGt76ukfZeg5_zBZQo0R3hSNMa04CX9SX8SdwBxW1Qg9oJwfqFcn3tGp2tgaZzFCElBtJwkZ2HXOzd2icr9XXs3eHbWIsOb6P0eT8gTr-b7_qz4yHK0NhvNBaQGnVe0OM='"
   ]
  },
  {
   "cell_type": "code",
   "execution_count": 21,
   "metadata": {},
   "outputs": [],
   "source": [
    "list_of_videos = []"
   ]
  },
  {
   "cell_type": "code",
   "execution_count": 34,
   "metadata": {},
   "outputs": [],
   "source": [
    "import time"
   ]
  },
  {
   "cell_type": "code",
   "execution_count": 36,
   "metadata": {},
   "outputs": [
    {
     "name": "stdout",
     "output_type": "stream",
     "text": [
      "7368864661556530438\n",
      "--------\n",
      "7364063268450700550\n",
      "--------\n",
      "7310344854129642757\n",
      "--------\n",
      "7379695511021948166\n",
      "--------\n",
      "7379358124731370758\n",
      "--------\n",
      "7378139683391294725\n",
      "--------\n",
      "7377987053109234950\n",
      "--------\n",
      "7377159896363437317\n",
      "--------\n",
      "7376818729461599493\n",
      "--------\n",
      "7375169760830541061\n",
      "--------\n",
      "7374502608435809541\n",
      "--------\n",
      "7373826457782455558\n",
      "--------\n",
      "7372603559273188614\n",
      "--------\n",
      "7371852190798875910\n",
      "--------\n",
      "7369982231969860870\n",
      "--------\n",
      "7369395292153662726\n",
      "--------\n",
      "7367837330234690822\n",
      "--------\n",
      "7367087580426407173\n",
      "--------\n",
      "7366669769904246022\n",
      "--------\n",
      "7366278803896700165\n",
      "--------\n",
      "7366257229026086149\n",
      "--------\n",
      "7366018710248672517\n",
      "--------\n",
      "7364885235240094982\n",
      "--------\n",
      "7363696707999124742\n",
      "--------\n",
      "7361841781496909061\n",
      "--------\n",
      "7361153265796451590\n",
      "--------\n",
      "7360833729805257990\n",
      "--------\n",
      "7359679419805437189\n",
      "--------\n",
      "7359261032004570374\n",
      "--------\n",
      "7358606861127388422\n",
      "--------\n",
      "7358173510440783109\n",
      "--------\n",
      "7357392198188403974\n",
      "--------\n",
      "7357021273471339782\n",
      "--------\n",
      "7355977855655759110\n",
      "--------\n",
      "7355617505076923654\n",
      "--------\n"
     ]
    }
   ],
   "source": [
    "async with TikTokApi() as api:\n",
    "    await api.create_sessions(headless=False, ms_tokens=[ms_token], num_sessions=1, sleep_after=3)\n",
    "    user = api.user(username=\"sam.shan.shops\")\n",
    "    async for video in user.videos(count=35):\n",
    "        time.sleep(1)\n",
    "        # print(video)\n",
    "        # print('--------')\n",
    "        list_of_videos.append(video.as_dict)\n",
    "        print(video.id)\n",
    "        print('--------')"
   ]
  },
  {
   "cell_type": "code",
   "execution_count": 41,
   "metadata": {},
   "outputs": [
    {
     "data": {
      "text/plain": [
       "105"
      ]
     },
     "execution_count": 41,
     "metadata": {},
     "output_type": "execute_result"
    }
   ],
   "source": [
    "len(list_of_videos)"
   ]
  },
  {
   "cell_type": "code",
   "execution_count": 45,
   "metadata": {},
   "outputs": [
    {
     "data": {
      "text/plain": [
       "39"
      ]
     },
     "execution_count": 45,
     "metadata": {},
     "output_type": "execute_result"
    }
   ],
   "source": [
    "#number of unique in list_of_videos\n",
    "len(set([x['id'] for x in list_of_videos]))"
   ]
  },
  {
   "cell_type": "code",
   "execution_count": 25,
   "metadata": {},
   "outputs": [],
   "source": [
    "# show all columns for df\n",
    "pd.set_option('display.max_columns', None)"
   ]
  },
  {
   "cell_type": "code",
   "execution_count": 38,
   "metadata": {},
   "outputs": [
    {
     "data": {
      "text/html": [
       "<div>\n",
       "<style scoped>\n",
       "    .dataframe tbody tr th:only-of-type {\n",
       "        vertical-align: middle;\n",
       "    }\n",
       "\n",
       "    .dataframe tbody tr th {\n",
       "        vertical-align: top;\n",
       "    }\n",
       "\n",
       "    .dataframe thead th {\n",
       "        text-align: right;\n",
       "    }\n",
       "</style>\n",
       "<table border=\"1\" class=\"dataframe\">\n",
       "  <thead>\n",
       "    <tr style=\"text-align: right;\">\n",
       "      <th></th>\n",
       "      <th>AIGCDescription</th>\n",
       "      <th>author</th>\n",
       "      <th>challenges</th>\n",
       "      <th>collected</th>\n",
       "      <th>contents</th>\n",
       "      <th>createTime</th>\n",
       "      <th>desc</th>\n",
       "      <th>digged</th>\n",
       "      <th>diversificationId</th>\n",
       "      <th>duetDisplay</th>\n",
       "      <th>duetEnabled</th>\n",
       "      <th>forFriend</th>\n",
       "      <th>id</th>\n",
       "      <th>isPinnedItem</th>\n",
       "      <th>itemCommentStatus</th>\n",
       "      <th>item_control</th>\n",
       "      <th>music</th>\n",
       "      <th>officalItem</th>\n",
       "      <th>originalItem</th>\n",
       "      <th>privateItem</th>\n",
       "      <th>secret</th>\n",
       "      <th>shareEnabled</th>\n",
       "      <th>stats</th>\n",
       "      <th>statsV2</th>\n",
       "      <th>stitchDisplay</th>\n",
       "      <th>stitchEnabled</th>\n",
       "      <th>textExtra</th>\n",
       "      <th>video</th>\n",
       "      <th>anchors</th>\n",
       "      <th>BAInfo</th>\n",
       "      <th>adLabelVersion</th>\n",
       "      <th>adAuthorization</th>\n",
       "      <th>isAd</th>\n",
       "      <th>videoSuggestWordsList</th>\n",
       "    </tr>\n",
       "  </thead>\n",
       "  <tbody>\n",
       "    <tr>\n",
       "      <th>0</th>\n",
       "      <td></td>\n",
       "      <td>{'avatarLarger': 'https://p16-sign-va.tiktokcd...</td>\n",
       "      <td>[{'coverLarger': '', 'coverMedium': '', 'cover...</td>\n",
       "      <td>False</td>\n",
       "      <td>[{'desc': 'Grocery restock with the handiest p...</td>\n",
       "      <td>1715697505</td>\n",
       "      <td>Grocery restock with the handiest personal sho...</td>\n",
       "      <td>False</td>\n",
       "      <td>10014.0</td>\n",
       "      <td>0</td>\n",
       "      <td>True</td>\n",
       "      <td>False</td>\n",
       "      <td>7368864661556530438</td>\n",
       "      <td>True</td>\n",
       "      <td>0</td>\n",
       "      <td>{'can_repost': True}</td>\n",
       "      <td>{'authorName': 'Sam Shan Shops 🦋', 'coverLarge...</td>\n",
       "      <td>False</td>\n",
       "      <td>False</td>\n",
       "      <td>False</td>\n",
       "      <td>False</td>\n",
       "      <td>True</td>\n",
       "      <td>{'collectCount': 144200, 'commentCount': 6842,...</td>\n",
       "      <td>{'collectCount': '144238', 'commentCount': '68...</td>\n",
       "      <td>0</td>\n",
       "      <td>True</td>\n",
       "      <td>[{'awemeId': '', 'end': 74, 'hashtagName': 'as...</td>\n",
       "      <td>{'bitrate': 2874920, 'bitrateInfo': [{'Bitrate...</td>\n",
       "      <td>NaN</td>\n",
       "      <td>NaN</td>\n",
       "      <td>NaN</td>\n",
       "      <td>NaN</td>\n",
       "      <td>NaN</td>\n",
       "      <td>NaN</td>\n",
       "    </tr>\n",
       "    <tr>\n",
       "      <th>1</th>\n",
       "      <td></td>\n",
       "      <td>{'avatarLarger': 'https://p16-sign-va.tiktokcd...</td>\n",
       "      <td>[{'coverLarger': '', 'coverMedium': '', 'cover...</td>\n",
       "      <td>False</td>\n",
       "      <td>[{'desc': 'home drink machine set up 🍹 #amazon...</td>\n",
       "      <td>1714579594</td>\n",
       "      <td>home drink machine set up 🍹 #amazonhomeideas #...</td>\n",
       "      <td>False</td>\n",
       "      <td>10042.0</td>\n",
       "      <td>0</td>\n",
       "      <td>True</td>\n",
       "      <td>False</td>\n",
       "      <td>7364063268450700550</td>\n",
       "      <td>True</td>\n",
       "      <td>0</td>\n",
       "      <td>{'can_repost': True}</td>\n",
       "      <td>{'authorName': 'Sam Shan Shops 🦋', 'coverLarge...</td>\n",
       "      <td>False</td>\n",
       "      <td>False</td>\n",
       "      <td>False</td>\n",
       "      <td>False</td>\n",
       "      <td>True</td>\n",
       "      <td>{'collectCount': 174700, 'commentCount': 6503,...</td>\n",
       "      <td>{'collectCount': '174734', 'commentCount': '65...</td>\n",
       "      <td>0</td>\n",
       "      <td>True</td>\n",
       "      <td>[{'awemeId': '', 'end': 45, 'hashtagName': 'am...</td>\n",
       "      <td>{'bitrate': 1046679, 'bitrateInfo': [{'Bitrate...</td>\n",
       "      <td>NaN</td>\n",
       "      <td>NaN</td>\n",
       "      <td>NaN</td>\n",
       "      <td>NaN</td>\n",
       "      <td>NaN</td>\n",
       "      <td>NaN</td>\n",
       "    </tr>\n",
       "    <tr>\n",
       "      <th>2</th>\n",
       "      <td></td>\n",
       "      <td>{'avatarLarger': 'https://p16-sign-va.tiktokcd...</td>\n",
       "      <td>[{'coverLarger': '', 'coverMedium': '', 'cover...</td>\n",
       "      <td>False</td>\n",
       "      <td>[{'desc': 'Top 10 best most purchased amazon f...</td>\n",
       "      <td>1702072301</td>\n",
       "      <td>Top 10 best most purchased amazon finds of 202...</td>\n",
       "      <td>False</td>\n",
       "      <td>10044.0</td>\n",
       "      <td>0</td>\n",
       "      <td>True</td>\n",
       "      <td>False</td>\n",
       "      <td>7310344854129642757</td>\n",
       "      <td>True</td>\n",
       "      <td>0</td>\n",
       "      <td>{'can_repost': True}</td>\n",
       "      <td>{'authorName': 'Sam Shan Shops 🦋', 'coverLarge...</td>\n",
       "      <td>False</td>\n",
       "      <td>False</td>\n",
       "      <td>False</td>\n",
       "      <td>False</td>\n",
       "      <td>True</td>\n",
       "      <td>{'collectCount': 398600, 'commentCount': 4096,...</td>\n",
       "      <td>{'collectCount': '398571', 'commentCount': '40...</td>\n",
       "      <td>0</td>\n",
       "      <td>True</td>\n",
       "      <td>[{'awemeId': '', 'end': 62, 'hashtagName': 'be...</td>\n",
       "      <td>{'bitrate': 1204833, 'bitrateInfo': [{'Bitrate...</td>\n",
       "      <td>NaN</td>\n",
       "      <td>NaN</td>\n",
       "      <td>NaN</td>\n",
       "      <td>NaN</td>\n",
       "      <td>NaN</td>\n",
       "      <td>NaN</td>\n",
       "    </tr>\n",
       "    <tr>\n",
       "      <th>3</th>\n",
       "      <td></td>\n",
       "      <td>{'avatarLarger': 'https://p16-sign-va.tiktokcd...</td>\n",
       "      <td>[{'coverLarger': '', 'coverMedium': '', 'cover...</td>\n",
       "      <td>False</td>\n",
       "      <td>[{'desc': 'Breakfast Sandwich Grill 🍳 #amazonf...</td>\n",
       "      <td>1717628891</td>\n",
       "      <td>Breakfast Sandwich Grill 🍳 #amazonfinds #cooki...</td>\n",
       "      <td>False</td>\n",
       "      <td>10040.0</td>\n",
       "      <td>0</td>\n",
       "      <td>True</td>\n",
       "      <td>False</td>\n",
       "      <td>7377159896363437317</td>\n",
       "      <td>NaN</td>\n",
       "      <td>0</td>\n",
       "      <td>{'can_repost': True}</td>\n",
       "      <td>{'authorName': 'Sam Shan Shops 🦋', 'coverLarge...</td>\n",
       "      <td>False</td>\n",
       "      <td>False</td>\n",
       "      <td>False</td>\n",
       "      <td>False</td>\n",
       "      <td>True</td>\n",
       "      <td>{'collectCount': 106, 'commentCount': 2, 'digg...</td>\n",
       "      <td>{'collectCount': '106', 'commentCount': '2', '...</td>\n",
       "      <td>0</td>\n",
       "      <td>True</td>\n",
       "      <td>[{'awemeId': '', 'end': 40, 'hashtagName': 'am...</td>\n",
       "      <td>{'bitrate': 1114511, 'bitrateInfo': [{'Bitrate...</td>\n",
       "      <td>[{'description': 'CapCut · Video Editor', 'ext...</td>\n",
       "      <td>NaN</td>\n",
       "      <td>NaN</td>\n",
       "      <td>NaN</td>\n",
       "      <td>NaN</td>\n",
       "      <td>NaN</td>\n",
       "    </tr>\n",
       "    <tr>\n",
       "      <th>4</th>\n",
       "      <td></td>\n",
       "      <td>{'avatarLarger': 'https://p16-sign-va.tiktokcd...</td>\n",
       "      <td>[{'coverLarger': '', 'coverMedium': '', 'cover...</td>\n",
       "      <td>False</td>\n",
       "      <td>[{'desc': 'Bathroom Drawer Skin Care &amp; Hair Ca...</td>\n",
       "      <td>1717549458</td>\n",
       "      <td>Bathroom Drawer Skin Care &amp; Hair Care Organiza...</td>\n",
       "      <td>False</td>\n",
       "      <td>10037.0</td>\n",
       "      <td>0</td>\n",
       "      <td>True</td>\n",
       "      <td>False</td>\n",
       "      <td>7376818729461599493</td>\n",
       "      <td>NaN</td>\n",
       "      <td>0</td>\n",
       "      <td>{'can_repost': True}</td>\n",
       "      <td>{'authorName': 'Sam Shan Shops 🦋', 'coverLarge...</td>\n",
       "      <td>False</td>\n",
       "      <td>False</td>\n",
       "      <td>False</td>\n",
       "      <td>False</td>\n",
       "      <td>True</td>\n",
       "      <td>{'collectCount': 688, 'commentCount': 34, 'dig...</td>\n",
       "      <td>{'collectCount': '688', 'commentCount': '34', ...</td>\n",
       "      <td>0</td>\n",
       "      <td>True</td>\n",
       "      <td>[{'awemeId': '', 'end': 78, 'hashtagName': 're...</td>\n",
       "      <td>{'bitrate': 1377700, 'bitrateInfo': [{'Bitrate...</td>\n",
       "      <td>NaN</td>\n",
       "      <td>NaN</td>\n",
       "      <td>NaN</td>\n",
       "      <td>NaN</td>\n",
       "      <td>NaN</td>\n",
       "      <td>NaN</td>\n",
       "    </tr>\n",
       "  </tbody>\n",
       "</table>\n",
       "</div>"
      ],
      "text/plain": [
       "  AIGCDescription                                             author  \\\n",
       "0                  {'avatarLarger': 'https://p16-sign-va.tiktokcd...   \n",
       "1                  {'avatarLarger': 'https://p16-sign-va.tiktokcd...   \n",
       "2                  {'avatarLarger': 'https://p16-sign-va.tiktokcd...   \n",
       "3                  {'avatarLarger': 'https://p16-sign-va.tiktokcd...   \n",
       "4                  {'avatarLarger': 'https://p16-sign-va.tiktokcd...   \n",
       "\n",
       "                                          challenges  collected  \\\n",
       "0  [{'coverLarger': '', 'coverMedium': '', 'cover...      False   \n",
       "1  [{'coverLarger': '', 'coverMedium': '', 'cover...      False   \n",
       "2  [{'coverLarger': '', 'coverMedium': '', 'cover...      False   \n",
       "3  [{'coverLarger': '', 'coverMedium': '', 'cover...      False   \n",
       "4  [{'coverLarger': '', 'coverMedium': '', 'cover...      False   \n",
       "\n",
       "                                            contents  createTime  \\\n",
       "0  [{'desc': 'Grocery restock with the handiest p...  1715697505   \n",
       "1  [{'desc': 'home drink machine set up 🍹 #amazon...  1714579594   \n",
       "2  [{'desc': 'Top 10 best most purchased amazon f...  1702072301   \n",
       "3  [{'desc': 'Breakfast Sandwich Grill 🍳 #amazonf...  1717628891   \n",
       "4  [{'desc': 'Bathroom Drawer Skin Care & Hair Ca...  1717549458   \n",
       "\n",
       "                                                desc  digged  \\\n",
       "0  Grocery restock with the handiest personal sho...   False   \n",
       "1  home drink machine set up 🍹 #amazonhomeideas #...   False   \n",
       "2  Top 10 best most purchased amazon finds of 202...   False   \n",
       "3  Breakfast Sandwich Grill 🍳 #amazonfinds #cooki...   False   \n",
       "4  Bathroom Drawer Skin Care & Hair Care Organiza...   False   \n",
       "\n",
       "   diversificationId  duetDisplay  duetEnabled  forFriend  \\\n",
       "0            10014.0            0         True      False   \n",
       "1            10042.0            0         True      False   \n",
       "2            10044.0            0         True      False   \n",
       "3            10040.0            0         True      False   \n",
       "4            10037.0            0         True      False   \n",
       "\n",
       "                    id isPinnedItem  itemCommentStatus          item_control  \\\n",
       "0  7368864661556530438         True                  0  {'can_repost': True}   \n",
       "1  7364063268450700550         True                  0  {'can_repost': True}   \n",
       "2  7310344854129642757         True                  0  {'can_repost': True}   \n",
       "3  7377159896363437317          NaN                  0  {'can_repost': True}   \n",
       "4  7376818729461599493          NaN                  0  {'can_repost': True}   \n",
       "\n",
       "                                               music  officalItem  \\\n",
       "0  {'authorName': 'Sam Shan Shops 🦋', 'coverLarge...        False   \n",
       "1  {'authorName': 'Sam Shan Shops 🦋', 'coverLarge...        False   \n",
       "2  {'authorName': 'Sam Shan Shops 🦋', 'coverLarge...        False   \n",
       "3  {'authorName': 'Sam Shan Shops 🦋', 'coverLarge...        False   \n",
       "4  {'authorName': 'Sam Shan Shops 🦋', 'coverLarge...        False   \n",
       "\n",
       "   originalItem  privateItem  secret  shareEnabled  \\\n",
       "0         False        False   False          True   \n",
       "1         False        False   False          True   \n",
       "2         False        False   False          True   \n",
       "3         False        False   False          True   \n",
       "4         False        False   False          True   \n",
       "\n",
       "                                               stats  \\\n",
       "0  {'collectCount': 144200, 'commentCount': 6842,...   \n",
       "1  {'collectCount': 174700, 'commentCount': 6503,...   \n",
       "2  {'collectCount': 398600, 'commentCount': 4096,...   \n",
       "3  {'collectCount': 106, 'commentCount': 2, 'digg...   \n",
       "4  {'collectCount': 688, 'commentCount': 34, 'dig...   \n",
       "\n",
       "                                             statsV2  stitchDisplay  \\\n",
       "0  {'collectCount': '144238', 'commentCount': '68...              0   \n",
       "1  {'collectCount': '174734', 'commentCount': '65...              0   \n",
       "2  {'collectCount': '398571', 'commentCount': '40...              0   \n",
       "3  {'collectCount': '106', 'commentCount': '2', '...              0   \n",
       "4  {'collectCount': '688', 'commentCount': '34', ...              0   \n",
       "\n",
       "   stitchEnabled                                          textExtra  \\\n",
       "0           True  [{'awemeId': '', 'end': 74, 'hashtagName': 'as...   \n",
       "1           True  [{'awemeId': '', 'end': 45, 'hashtagName': 'am...   \n",
       "2           True  [{'awemeId': '', 'end': 62, 'hashtagName': 'be...   \n",
       "3           True  [{'awemeId': '', 'end': 40, 'hashtagName': 'am...   \n",
       "4           True  [{'awemeId': '', 'end': 78, 'hashtagName': 're...   \n",
       "\n",
       "                                               video  \\\n",
       "0  {'bitrate': 2874920, 'bitrateInfo': [{'Bitrate...   \n",
       "1  {'bitrate': 1046679, 'bitrateInfo': [{'Bitrate...   \n",
       "2  {'bitrate': 1204833, 'bitrateInfo': [{'Bitrate...   \n",
       "3  {'bitrate': 1114511, 'bitrateInfo': [{'Bitrate...   \n",
       "4  {'bitrate': 1377700, 'bitrateInfo': [{'Bitrate...   \n",
       "\n",
       "                                             anchors BAInfo  adLabelVersion  \\\n",
       "0                                                NaN    NaN             NaN   \n",
       "1                                                NaN    NaN             NaN   \n",
       "2                                                NaN    NaN             NaN   \n",
       "3  [{'description': 'CapCut · Video Editor', 'ext...    NaN             NaN   \n",
       "4                                                NaN    NaN             NaN   \n",
       "\n",
       "  adAuthorization isAd videoSuggestWordsList  \n",
       "0             NaN  NaN                   NaN  \n",
       "1             NaN  NaN                   NaN  \n",
       "2             NaN  NaN                   NaN  \n",
       "3             NaN  NaN                   NaN  \n",
       "4             NaN  NaN                   NaN  "
      ]
     },
     "execution_count": 38,
     "metadata": {},
     "output_type": "execute_result"
    }
   ],
   "source": [
    "df = pd.DataFrame(list_of_videos)\n",
    "df.head()"
   ]
  },
  {
   "cell_type": "code",
   "execution_count": 42,
   "metadata": {},
   "outputs": [
    {
     "data": {
      "text/plain": [
       "105"
      ]
     },
     "execution_count": 42,
     "metadata": {},
     "output_type": "execute_result"
    }
   ],
   "source": [
    "len(df)"
   ]
  },
  {
   "cell_type": "code",
   "execution_count": 43,
   "metadata": {},
   "outputs": [
    {
     "data": {
      "text/plain": [
       "39"
      ]
     },
     "execution_count": 43,
     "metadata": {},
     "output_type": "execute_result"
    }
   ],
   "source": [
    "# number of unique id\n",
    "len(df['id'].unique())"
   ]
  },
  {
   "cell_type": "code",
   "execution_count": 40,
   "metadata": {},
   "outputs": [
    {
     "name": "stderr",
     "output_type": "stream",
     "text": [
      "WARNING: [TikTok] Expecting value in '': line 1 column 1 (char 0). Retrying... (attempt 1 of 4)\n",
      "WARNING: [TikTok] Expecting value in '': line 1 column 1 (char 0). Retrying... (attempt 2 of 4)\n",
      "WARNING: [TikTok] Expecting value in '': line 1 column 1 (char 0). Retrying... (attempt 3 of 4)\n",
      "WARNING: [TikTok] 7368864661556530438: Failed to parse JSON (caused by JSONDecodeError(\"Expecting value in '': line 1 column 1 (char 0)\")); trying with webpage\n"
     ]
    },
    {
     "name": "stdout",
     "output_type": "stream",
     "text": [
      "Printed 7368864661556530438                              \n"
     ]
    },
    {
     "name": "stderr",
     "output_type": "stream",
     "text": [
      "WARNING: [TikTok] Expecting value in '': line 1 column 1 (char 0). Retrying... (attempt 1 of 4)\n",
      "WARNING: [TikTok] Expecting value in '': line 1 column 1 (char 0). Retrying... (attempt 2 of 4)\n",
      "WARNING: [TikTok] Expecting value in '': line 1 column 1 (char 0). Retrying... (attempt 3 of 4)\n",
      "WARNING: [TikTok] 7364063268450700550: Failed to parse JSON (caused by JSONDecodeError(\"Expecting value in '': line 1 column 1 (char 0)\")); trying with webpage\n"
     ]
    },
    {
     "name": "stdout",
     "output_type": "stream",
     "text": [
      "Printed 7364063268450700550                              \n"
     ]
    },
    {
     "name": "stderr",
     "output_type": "stream",
     "text": [
      "WARNING: [TikTok] Expecting value in '': line 1 column 1 (char 0). Retrying... (attempt 1 of 4)\n",
      "WARNING: [TikTok] Expecting value in '': line 1 column 1 (char 0). Retrying... (attempt 2 of 4)\n",
      "WARNING: [TikTok] Expecting value in '': line 1 column 1 (char 0). Retrying... (attempt 3 of 4)\n",
      "WARNING: [TikTok] 7310344854129642757: Failed to parse JSON (caused by JSONDecodeError(\"Expecting value in '': line 1 column 1 (char 0)\")); trying with webpage\n"
     ]
    },
    {
     "name": "stdout",
     "output_type": "stream",
     "text": [
      "Printed 7310344854129642757                              \n"
     ]
    },
    {
     "name": "stderr",
     "output_type": "stream",
     "text": [
      "WARNING: [TikTok] Expecting value in '': line 1 column 1 (char 0). Retrying... (attempt 1 of 4)\n",
      "WARNING: [TikTok] Expecting value in '': line 1 column 1 (char 0). Retrying... (attempt 2 of 4)\n",
      "WARNING: [TikTok] Expecting value in '': line 1 column 1 (char 0). Retrying... (attempt 3 of 4)\n",
      "WARNING: [TikTok] 7377159896363437317: Failed to parse JSON (caused by JSONDecodeError(\"Expecting value in '': line 1 column 1 (char 0)\")); trying with webpage\n"
     ]
    },
    {
     "name": "stdout",
     "output_type": "stream",
     "text": [
      "Printed 7377159896363437317                              \n"
     ]
    },
    {
     "name": "stderr",
     "output_type": "stream",
     "text": [
      "WARNING: [TikTok] Expecting value in '': line 1 column 1 (char 0). Retrying... (attempt 1 of 4)\n",
      "WARNING: [TikTok] Expecting value in '': line 1 column 1 (char 0). Retrying... (attempt 2 of 4)\n",
      "WARNING: [TikTok] Expecting value in '': line 1 column 1 (char 0). Retrying... (attempt 3 of 4)\n",
      "WARNING: [TikTok] 7376818729461599493: Failed to parse JSON (caused by JSONDecodeError(\"Expecting value in '': line 1 column 1 (char 0)\")); trying with webpage\n"
     ]
    },
    {
     "name": "stdout",
     "output_type": "stream",
     "text": [
      "Printed 7376818729461599493                              \n"
     ]
    },
    {
     "name": "stderr",
     "output_type": "stream",
     "text": [
      "WARNING: [TikTok] Expecting value in '': line 1 column 1 (char 0). Retrying... (attempt 1 of 4)\n",
      "WARNING: [TikTok] Expecting value in '': line 1 column 1 (char 0). Retrying... (attempt 2 of 4)\n",
      "WARNING: [TikTok] Expecting value in '': line 1 column 1 (char 0). Retrying... (attempt 3 of 4)\n",
      "WARNING: [TikTok] 7375169760830541061: Failed to parse JSON (caused by JSONDecodeError(\"Expecting value in '': line 1 column 1 (char 0)\")); trying with webpage\n"
     ]
    },
    {
     "name": "stdout",
     "output_type": "stream",
     "text": [
      "Printed 7375169760830541061                              \n"
     ]
    },
    {
     "name": "stderr",
     "output_type": "stream",
     "text": [
      "WARNING: [TikTok] Expecting value in '': line 1 column 1 (char 0). Retrying... (attempt 1 of 4)\n",
      "WARNING: [TikTok] Expecting value in '': line 1 column 1 (char 0). Retrying... (attempt 2 of 4)\n",
      "WARNING: [TikTok] Expecting value in '': line 1 column 1 (char 0). Retrying... (attempt 3 of 4)\n",
      "WARNING: [TikTok] 7374502608435809541: Failed to parse JSON (caused by JSONDecodeError(\"Expecting value in '': line 1 column 1 (char 0)\")); trying with webpage\n"
     ]
    },
    {
     "name": "stdout",
     "output_type": "stream",
     "text": [
      "Printed 7374502608435809541                              \n"
     ]
    },
    {
     "name": "stderr",
     "output_type": "stream",
     "text": [
      "WARNING: [TikTok] Expecting value in '': line 1 column 1 (char 0). Retrying... (attempt 1 of 4)\n",
      "WARNING: [TikTok] Expecting value in '': line 1 column 1 (char 0). Retrying... (attempt 2 of 4)\n",
      "WARNING: [TikTok] Expecting value in '': line 1 column 1 (char 0). Retrying... (attempt 3 of 4)\n",
      "WARNING: [TikTok] 7373826457782455558: Failed to parse JSON (caused by JSONDecodeError(\"Expecting value in '': line 1 column 1 (char 0)\")); trying with webpage\n"
     ]
    },
    {
     "name": "stdout",
     "output_type": "stream",
     "text": [
      "Printed 7373826457782455558                              \n"
     ]
    },
    {
     "name": "stderr",
     "output_type": "stream",
     "text": [
      "WARNING: [TikTok] Expecting value in '': line 1 column 1 (char 0). Retrying... (attempt 1 of 4)\n",
      "WARNING: [TikTok] Expecting value in '': line 1 column 1 (char 0). Retrying... (attempt 2 of 4)\n",
      "WARNING: [TikTok] Expecting value in '': line 1 column 1 (char 0). Retrying... (attempt 3 of 4)\n",
      "WARNING: [TikTok] 7372603559273188614: Failed to parse JSON (caused by JSONDecodeError(\"Expecting value in '': line 1 column 1 (char 0)\")); trying with webpage\n"
     ]
    },
    {
     "name": "stdout",
     "output_type": "stream",
     "text": [
      "Printed 7372603559273188614                              \n"
     ]
    },
    {
     "name": "stderr",
     "output_type": "stream",
     "text": [
      "WARNING: [TikTok] Expecting value in '': line 1 column 1 (char 0). Retrying... (attempt 1 of 4)\n",
      "WARNING: [TikTok] Expecting value in '': line 1 column 1 (char 0). Retrying... (attempt 2 of 4)\n",
      "WARNING: [TikTok] Expecting value in '': line 1 column 1 (char 0). Retrying... (attempt 3 of 4)\n",
      "WARNING: [TikTok] 7371852190798875910: Failed to parse JSON (caused by JSONDecodeError(\"Expecting value in '': line 1 column 1 (char 0)\")); trying with webpage\n"
     ]
    },
    {
     "name": "stdout",
     "output_type": "stream",
     "text": [
      "Printed 7371852190798875910                              \n"
     ]
    },
    {
     "name": "stderr",
     "output_type": "stream",
     "text": [
      "WARNING: [TikTok] Expecting value in '': line 1 column 1 (char 0). Retrying... (attempt 1 of 4)\n",
      "WARNING: [TikTok] Expecting value in '': line 1 column 1 (char 0). Retrying... (attempt 2 of 4)\n",
      "WARNING: [TikTok] Expecting value in '': line 1 column 1 (char 0). Retrying... (attempt 3 of 4)\n",
      "WARNING: [TikTok] 7369982231969860870: Failed to parse JSON (caused by JSONDecodeError(\"Expecting value in '': line 1 column 1 (char 0)\")); trying with webpage\n"
     ]
    },
    {
     "name": "stdout",
     "output_type": "stream",
     "text": [
      "Printed 7369982231969860870                                \n"
     ]
    },
    {
     "name": "stderr",
     "output_type": "stream",
     "text": [
      "WARNING: [TikTok] Expecting value in '': line 1 column 1 (char 0). Retrying... (attempt 1 of 4)\n",
      "WARNING: [TikTok] Expecting value in '': line 1 column 1 (char 0). Retrying... (attempt 2 of 4)\n",
      "WARNING: [TikTok] Expecting value in '': line 1 column 1 (char 0). Retrying... (attempt 3 of 4)\n",
      "WARNING: [TikTok] 7369395292153662726: Failed to parse JSON (caused by JSONDecodeError(\"Expecting value in '': line 1 column 1 (char 0)\")); trying with webpage\n"
     ]
    },
    {
     "name": "stdout",
     "output_type": "stream",
     "text": [
      "Printed 7369395292153662726                              \n"
     ]
    },
    {
     "name": "stderr",
     "output_type": "stream",
     "text": [
      "WARNING: [TikTok] Expecting value in '': line 1 column 1 (char 0). Retrying... (attempt 1 of 4)\n",
      "WARNING: [TikTok] Expecting value in '': line 1 column 1 (char 0). Retrying... (attempt 2 of 4)\n",
      "WARNING: [TikTok] Expecting value in '': line 1 column 1 (char 0). Retrying... (attempt 3 of 4)\n",
      "WARNING: [TikTok] 7367837330234690822: Failed to parse JSON (caused by JSONDecodeError(\"Expecting value in '': line 1 column 1 (char 0)\")); trying with webpage\n"
     ]
    },
    {
     "name": "stdout",
     "output_type": "stream",
     "text": [
      "Printed 7367837330234690822                                \n"
     ]
    },
    {
     "name": "stderr",
     "output_type": "stream",
     "text": [
      "WARNING: [TikTok] Expecting value in '': line 1 column 1 (char 0). Retrying... (attempt 1 of 4)\n",
      "WARNING: [TikTok] Expecting value in '': line 1 column 1 (char 0). Retrying... (attempt 2 of 4)\n",
      "WARNING: [TikTok] Expecting value in '': line 1 column 1 (char 0). Retrying... (attempt 3 of 4)\n",
      "WARNING: [TikTok] 7367087580426407173: Failed to parse JSON (caused by JSONDecodeError(\"Expecting value in '': line 1 column 1 (char 0)\")); trying with webpage\n"
     ]
    },
    {
     "name": "stdout",
     "output_type": "stream",
     "text": [
      "Printed 7367087580426407173                              \n"
     ]
    },
    {
     "name": "stderr",
     "output_type": "stream",
     "text": [
      "WARNING: [TikTok] Expecting value in '': line 1 column 1 (char 0). Retrying... (attempt 1 of 4)\n",
      "WARNING: [TikTok] Expecting value in '': line 1 column 1 (char 0). Retrying... (attempt 2 of 4)\n",
      "WARNING: [TikTok] Expecting value in '': line 1 column 1 (char 0). Retrying... (attempt 3 of 4)\n",
      "WARNING: [TikTok] 7366669769904246022: Failed to parse JSON (caused by JSONDecodeError(\"Expecting value in '': line 1 column 1 (char 0)\")); trying with webpage\n"
     ]
    },
    {
     "name": "stdout",
     "output_type": "stream",
     "text": [
      "Printed 7366669769904246022                              \n"
     ]
    },
    {
     "name": "stderr",
     "output_type": "stream",
     "text": [
      "WARNING: [TikTok] Expecting value in '': line 1 column 1 (char 0). Retrying... (attempt 1 of 4)\n",
      "WARNING: [TikTok] Expecting value in '': line 1 column 1 (char 0). Retrying... (attempt 2 of 4)\n",
      "WARNING: [TikTok] Expecting value in '': line 1 column 1 (char 0). Retrying... (attempt 3 of 4)\n",
      "WARNING: [TikTok] 7366278803896700165: Failed to parse JSON (caused by JSONDecodeError(\"Expecting value in '': line 1 column 1 (char 0)\")); trying with webpage\n"
     ]
    },
    {
     "name": "stdout",
     "output_type": "stream",
     "text": [
      "Printed 7366278803896700165                              \n"
     ]
    },
    {
     "name": "stderr",
     "output_type": "stream",
     "text": [
      "WARNING: [TikTok] Expecting value in '': line 1 column 1 (char 0). Retrying... (attempt 1 of 4)\n",
      "WARNING: [TikTok] Expecting value in '': line 1 column 1 (char 0). Retrying... (attempt 2 of 4)\n",
      "WARNING: [TikTok] Expecting value in '': line 1 column 1 (char 0). Retrying... (attempt 3 of 4)\n",
      "WARNING: [TikTok] 7366257229026086149: Failed to parse JSON (caused by JSONDecodeError(\"Expecting value in '': line 1 column 1 (char 0)\")); trying with webpage\n"
     ]
    },
    {
     "name": "stdout",
     "output_type": "stream",
     "text": [
      "Printed 7366257229026086149                              \n"
     ]
    },
    {
     "name": "stderr",
     "output_type": "stream",
     "text": [
      "WARNING: [TikTok] Expecting value in '': line 1 column 1 (char 0). Retrying... (attempt 1 of 4)\n",
      "WARNING: [TikTok] Expecting value in '': line 1 column 1 (char 0). Retrying... (attempt 2 of 4)\n",
      "WARNING: [TikTok] Expecting value in '': line 1 column 1 (char 0). Retrying... (attempt 3 of 4)\n",
      "WARNING: [TikTok] 7366018710248672517: Failed to parse JSON (caused by JSONDecodeError(\"Expecting value in '': line 1 column 1 (char 0)\")); trying with webpage\n"
     ]
    },
    {
     "name": "stdout",
     "output_type": "stream",
     "text": [
      "Printed 7366018710248672517                              \n"
     ]
    },
    {
     "name": "stderr",
     "output_type": "stream",
     "text": [
      "WARNING: [TikTok] Expecting value in '': line 1 column 1 (char 0). Retrying... (attempt 1 of 4)\n",
      "WARNING: [TikTok] Expecting value in '': line 1 column 1 (char 0). Retrying... (attempt 2 of 4)\n",
      "WARNING: [TikTok] Expecting value in '': line 1 column 1 (char 0). Retrying... (attempt 3 of 4)\n",
      "WARNING: [TikTok] 7364885235240094982: Failed to parse JSON (caused by JSONDecodeError(\"Expecting value in '': line 1 column 1 (char 0)\")); trying with webpage\n"
     ]
    },
    {
     "name": "stdout",
     "output_type": "stream",
     "text": [
      "Printed 7364885235240094982                              \n"
     ]
    },
    {
     "name": "stderr",
     "output_type": "stream",
     "text": [
      "WARNING: [TikTok] Expecting value in '': line 1 column 1 (char 0). Retrying... (attempt 1 of 4)\n",
      "WARNING: [TikTok] Expecting value in '': line 1 column 1 (char 0). Retrying... (attempt 2 of 4)\n",
      "WARNING: [TikTok] Expecting value in '': line 1 column 1 (char 0). Retrying... (attempt 3 of 4)\n",
      "WARNING: [TikTok] 7363696707999124742: Failed to parse JSON (caused by JSONDecodeError(\"Expecting value in '': line 1 column 1 (char 0)\")); trying with webpage\n"
     ]
    },
    {
     "name": "stdout",
     "output_type": "stream",
     "text": [
      "Printed 7363696707999124742                              \n"
     ]
    },
    {
     "name": "stderr",
     "output_type": "stream",
     "text": [
      "WARNING: [TikTok] Expecting value in '': line 1 column 1 (char 0). Retrying... (attempt 1 of 4)\n",
      "WARNING: [TikTok] Expecting value in '': line 1 column 1 (char 0). Retrying... (attempt 2 of 4)\n",
      "WARNING: [TikTok] Expecting value in '': line 1 column 1 (char 0). Retrying... (attempt 3 of 4)\n",
      "WARNING: [TikTok] 7361841781496909061: Failed to parse JSON (caused by JSONDecodeError(\"Expecting value in '': line 1 column 1 (char 0)\")); trying with webpage\n"
     ]
    },
    {
     "name": "stdout",
     "output_type": "stream",
     "text": [
      "Printed 7361841781496909061                              \n"
     ]
    },
    {
     "name": "stderr",
     "output_type": "stream",
     "text": [
      "WARNING: [TikTok] Expecting value in '': line 1 column 1 (char 0). Retrying... (attempt 1 of 4)\n",
      "WARNING: [TikTok] Expecting value in '': line 1 column 1 (char 0). Retrying... (attempt 2 of 4)\n",
      "WARNING: [TikTok] Expecting value in '': line 1 column 1 (char 0). Retrying... (attempt 3 of 4)\n",
      "WARNING: [TikTok] 7361153265796451590: Failed to parse JSON (caused by JSONDecodeError(\"Expecting value in '': line 1 column 1 (char 0)\")); trying with webpage\n"
     ]
    },
    {
     "name": "stdout",
     "output_type": "stream",
     "text": [
      "Printed 7361153265796451590                              \n"
     ]
    },
    {
     "name": "stderr",
     "output_type": "stream",
     "text": [
      "WARNING: [TikTok] Expecting value in '': line 1 column 1 (char 0). Retrying... (attempt 1 of 4)\n",
      "WARNING: [TikTok] Expecting value in '': line 1 column 1 (char 0). Retrying... (attempt 2 of 4)\n",
      "WARNING: [TikTok] Expecting value in '': line 1 column 1 (char 0). Retrying... (attempt 3 of 4)\n",
      "WARNING: [TikTok] 7360833729805257990: Failed to parse JSON (caused by JSONDecodeError(\"Expecting value in '': line 1 column 1 (char 0)\")); trying with webpage\n"
     ]
    },
    {
     "name": "stdout",
     "output_type": "stream",
     "text": [
      "Printed 7360833729805257990                                \n"
     ]
    },
    {
     "name": "stderr",
     "output_type": "stream",
     "text": [
      "WARNING: [TikTok] Expecting value in '': line 1 column 1 (char 0). Retrying... (attempt 1 of 4)\n",
      "WARNING: [TikTok] Expecting value in '': line 1 column 1 (char 0). Retrying... (attempt 2 of 4)\n",
      "WARNING: [TikTok] Expecting value in '': line 1 column 1 (char 0). Retrying... (attempt 3 of 4)\n",
      "WARNING: [TikTok] 7359679419805437189: Failed to parse JSON (caused by JSONDecodeError(\"Expecting value in '': line 1 column 1 (char 0)\")); trying with webpage\n"
     ]
    },
    {
     "name": "stdout",
     "output_type": "stream",
     "text": [
      "Printed 7359679419805437189                              \n"
     ]
    },
    {
     "name": "stderr",
     "output_type": "stream",
     "text": [
      "WARNING: [TikTok] Expecting value in '': line 1 column 1 (char 0). Retrying... (attempt 1 of 4)\n",
      "WARNING: [TikTok] Expecting value in '': line 1 column 1 (char 0). Retrying... (attempt 2 of 4)\n",
      "WARNING: [TikTok] Expecting value in '': line 1 column 1 (char 0). Retrying... (attempt 3 of 4)\n",
      "WARNING: [TikTok] 7359261032004570374: Failed to parse JSON (caused by JSONDecodeError(\"Expecting value in '': line 1 column 1 (char 0)\")); trying with webpage\n"
     ]
    },
    {
     "name": "stdout",
     "output_type": "stream",
     "text": [
      "Printed 7359261032004570374                              \n",
      "Printed 7358606861127388422                                \n"
     ]
    },
    {
     "name": "stderr",
     "output_type": "stream",
     "text": [
      "WARNING: [TikTok] Expecting value in '': line 1 column 1 (char 0). Retrying... (attempt 1 of 4)\n",
      "WARNING: [TikTok] Expecting value in '': line 1 column 1 (char 0). Retrying... (attempt 2 of 4)\n",
      "WARNING: [TikTok] Expecting value in '': line 1 column 1 (char 0). Retrying... (attempt 3 of 4)\n",
      "WARNING: [TikTok] 7358173510440783109: Failed to parse JSON (caused by JSONDecodeError(\"Expecting value in '': line 1 column 1 (char 0)\")); trying with webpage\n"
     ]
    },
    {
     "name": "stdout",
     "output_type": "stream",
     "text": [
      "Printed 7358173510440783109                                \n"
     ]
    },
    {
     "name": "stderr",
     "output_type": "stream",
     "text": [
      "WARNING: [TikTok] Expecting value in '': line 1 column 1 (char 0). Retrying... (attempt 1 of 4)\n",
      "WARNING: [TikTok] Expecting value in '': line 1 column 1 (char 0). Retrying... (attempt 2 of 4)\n",
      "WARNING: [TikTok] Expecting value in '': line 1 column 1 (char 0). Retrying... (attempt 3 of 4)\n",
      "WARNING: [TikTok] 7357392198188403974: Failed to parse JSON (caused by JSONDecodeError(\"Expecting value in '': line 1 column 1 (char 0)\")); trying with webpage\n"
     ]
    },
    {
     "name": "stdout",
     "output_type": "stream",
     "text": [
      "Printed 7357392198188403974                              \n"
     ]
    },
    {
     "name": "stderr",
     "output_type": "stream",
     "text": [
      "WARNING: [TikTok] Expecting value in '': line 1 column 1 (char 0). Retrying... (attempt 1 of 4)\n",
      "WARNING: [TikTok] Expecting value in '': line 1 column 1 (char 0). Retrying... (attempt 2 of 4)\n",
      "WARNING: [TikTok] Expecting value in '': line 1 column 1 (char 0). Retrying... (attempt 3 of 4)\n",
      "WARNING: [TikTok] 7357021273471339782: Failed to parse JSON (caused by JSONDecodeError(\"Expecting value in '': line 1 column 1 (char 0)\")); trying with webpage\n",
      "ERROR: [TikTok] 7357021273471339782: Unable to download webpage: HTTPSConnectionPool(host='www.tiktok.com', port=443): Read timed out. (read timeout=20.0) (caused by TransportError(\"HTTPSConnectionPool(host='www.tiktok.com', port=443): Read timed out. (read timeout=20.0)\"))\n"
     ]
    },
    {
     "name": "stdout",
     "output_type": "stream",
     "text": [
      "Failed to download https://www.tiktok.com/@sam.shan.shops/video/7357021273471339782: ERROR: [TikTok] 7357021273471339782: Unable to download webpage: HTTPSConnectionPool(host='www.tiktok.com', port=443): Read timed out. (read timeout=20.0) (caused by TransportError(\"HTTPSConnectionPool(host='www.tiktok.com', port=443): Read timed out. (read timeout=20.0)\"))\n"
     ]
    },
    {
     "name": "stderr",
     "output_type": "stream",
     "text": [
      "WARNING: [TikTok] Expecting value in '': line 1 column 1 (char 0). Retrying... (attempt 1 of 4)\n",
      "WARNING: [TikTok] Expecting value in '': line 1 column 1 (char 0). Retrying... (attempt 2 of 4)\n",
      "WARNING: [TikTok] Expecting value in '': line 1 column 1 (char 0). Retrying... (attempt 3 of 4)\n",
      "WARNING: [TikTok] 7355977855655759110: Failed to parse JSON (caused by JSONDecodeError(\"Expecting value in '': line 1 column 1 (char 0)\")); trying with webpage\n"
     ]
    },
    {
     "name": "stdout",
     "output_type": "stream",
     "text": [
      "Printed 7355977855655759110                              \n"
     ]
    },
    {
     "name": "stderr",
     "output_type": "stream",
     "text": [
      "WARNING: [TikTok] Expecting value in '': line 1 column 1 (char 0). Retrying... (attempt 1 of 4)\n"
     ]
    },
    {
     "name": "stdout",
     "output_type": "stream",
     "text": [
      "Printed 7355617505076923654                                \n"
     ]
    },
    {
     "name": "stderr",
     "output_type": "stream",
     "text": [
      "WARNING: [TikTok] Expecting value in '': line 1 column 1 (char 0). Retrying... (attempt 1 of 4)\n",
      "WARNING: [TikTok] Expecting value in '': line 1 column 1 (char 0). Retrying... (attempt 2 of 4)\n",
      "WARNING: [TikTok] Expecting value in '': line 1 column 1 (char 0). Retrying... (attempt 3 of 4)\n",
      "WARNING: [TikTok] 7354419857863150854: Failed to parse JSON (caused by JSONDecodeError(\"Expecting value in '': line 1 column 1 (char 0)\")); trying with webpage\n"
     ]
    },
    {
     "name": "stdout",
     "output_type": "stream",
     "text": [
      "Printed 7354419857863150854                              \n"
     ]
    },
    {
     "name": "stderr",
     "output_type": "stream",
     "text": [
      "WARNING: [TikTok] Expecting value in '': line 1 column 1 (char 0). Retrying... (attempt 1 of 4)\n",
      "WARNING: [TikTok] Expecting value in '': line 1 column 1 (char 0). Retrying... (attempt 2 of 4)\n",
      "WARNING: [TikTok] Expecting value in '': line 1 column 1 (char 0). Retrying... (attempt 3 of 4)\n",
      "WARNING: [TikTok] 7353688925413641477: Failed to parse JSON (caused by JSONDecodeError(\"Expecting value in '': line 1 column 1 (char 0)\")); trying with webpage\n"
     ]
    },
    {
     "name": "stdout",
     "output_type": "stream",
     "text": [
      "Printed 7353688925413641477                              \n"
     ]
    },
    {
     "name": "stderr",
     "output_type": "stream",
     "text": [
      "WARNING: [TikTok] Expecting value in '': line 1 column 1 (char 0). Retrying... (attempt 1 of 4)\n",
      "WARNING: [TikTok] Expecting value in '': line 1 column 1 (char 0). Retrying... (attempt 2 of 4)\n",
      "WARNING: [TikTok] Expecting value in '': line 1 column 1 (char 0). Retrying... (attempt 3 of 4)\n",
      "WARNING: [TikTok] 7352183653067394309: Failed to parse JSON (caused by JSONDecodeError(\"Expecting value in '': line 1 column 1 (char 0)\")); trying with webpage\n"
     ]
    },
    {
     "name": "stdout",
     "output_type": "stream",
     "text": [
      "Printed 7352183653067394309                              \n"
     ]
    },
    {
     "name": "stderr",
     "output_type": "stream",
     "text": [
      "WARNING: [TikTok] Expecting value in '': line 1 column 1 (char 0). Retrying... (attempt 1 of 4)\n",
      "WARNING: [TikTok] Expecting value in '': line 1 column 1 (char 0). Retrying... (attempt 2 of 4)\n",
      "WARNING: [TikTok] Expecting value in '': line 1 column 1 (char 0). Retrying... (attempt 3 of 4)\n",
      "WARNING: [TikTok] 7351780849144040710: Failed to parse JSON (caused by JSONDecodeError(\"Expecting value in '': line 1 column 1 (char 0)\")); trying with webpage\n"
     ]
    },
    {
     "name": "stdout",
     "output_type": "stream",
     "text": [
      "Printed 7351780849144040710                              \n"
     ]
    },
    {
     "name": "stderr",
     "output_type": "stream",
     "text": [
      "WARNING: [TikTok] Expecting value in '': line 1 column 1 (char 0). Retrying... (attempt 1 of 4)\n",
      "WARNING: [TikTok] Expecting value in '': line 1 column 1 (char 0). Retrying... (attempt 2 of 4)\n",
      "WARNING: [TikTok] Expecting value in '': line 1 column 1 (char 0). Retrying... (attempt 3 of 4)\n",
      "WARNING: [TikTok] 7368864661556530438: Failed to parse JSON (caused by JSONDecodeError(\"Expecting value in '': line 1 column 1 (char 0)\")); trying with webpage\n"
     ]
    },
    {
     "name": "stdout",
     "output_type": "stream",
     "text": [
      "Printed 7368864661556530438  \n"
     ]
    },
    {
     "name": "stderr",
     "output_type": "stream",
     "text": [
      "WARNING: [TikTok] Expecting value in '': line 1 column 1 (char 0). Retrying... (attempt 1 of 4)\n",
      "WARNING: [TikTok] Expecting value in '': line 1 column 1 (char 0). Retrying... (attempt 2 of 4)\n",
      "WARNING: [TikTok] Expecting value in '': line 1 column 1 (char 0). Retrying... (attempt 3 of 4)\n",
      "WARNING: [TikTok] 7364063268450700550: Failed to parse JSON (caused by JSONDecodeError(\"Expecting value in '': line 1 column 1 (char 0)\")); trying with webpage\n"
     ]
    },
    {
     "name": "stdout",
     "output_type": "stream",
     "text": [
      "Printed 7364063268450700550  \n"
     ]
    },
    {
     "name": "stderr",
     "output_type": "stream",
     "text": [
      "WARNING: [TikTok] Expecting value in '': line 1 column 1 (char 0). Retrying... (attempt 1 of 4)\n",
      "WARNING: [TikTok] Expecting value in '': line 1 column 1 (char 0). Retrying... (attempt 2 of 4)\n",
      "WARNING: [TikTok] Expecting value in '': line 1 column 1 (char 0). Retrying... (attempt 3 of 4)\n",
      "WARNING: [TikTok] 7310344854129642757: Failed to parse JSON (caused by JSONDecodeError(\"Expecting value in '': line 1 column 1 (char 0)\")); trying with webpage\n"
     ]
    },
    {
     "name": "stdout",
     "output_type": "stream",
     "text": [
      "                             \r"
     ]
    },
    {
     "name": "stderr",
     "output_type": "stream",
     "text": [
      "WARNING: [TikTok] Expecting value in '': line 1 column 1 (char 0). Retrying... (attempt 1 of 4)\n"
     ]
    },
    {
     "name": "stdout",
     "output_type": "stream",
     "text": [
      "Printed 7310344854129642757\n"
     ]
    },
    {
     "name": "stderr",
     "output_type": "stream",
     "text": [
      "WARNING: [TikTok] Expecting value in '': line 1 column 1 (char 0). Retrying... (attempt 2 of 4)\n",
      "WARNING: [TikTok] Expecting value in '': line 1 column 1 (char 0). Retrying... (attempt 3 of 4)\n",
      "WARNING: [TikTok] 7379695511021948166: Failed to parse JSON (caused by JSONDecodeError(\"Expecting value in '': line 1 column 1 (char 0)\")); trying with webpage\n"
     ]
    },
    {
     "name": "stdout",
     "output_type": "stream",
     "text": [
      "Printed 7379695511021948166                                \n"
     ]
    },
    {
     "name": "stderr",
     "output_type": "stream",
     "text": [
      "WARNING: [TikTok] Expecting value in '': line 1 column 1 (char 0). Retrying... (attempt 1 of 4)\n",
      "WARNING: [TikTok] Expecting value in '': line 1 column 1 (char 0). Retrying... (attempt 2 of 4)\n",
      "WARNING: [TikTok] Expecting value in '': line 1 column 1 (char 0). Retrying... (attempt 3 of 4)\n",
      "WARNING: [TikTok] 7379358124731370758: Failed to parse JSON (caused by JSONDecodeError(\"Expecting value in '': line 1 column 1 (char 0)\")); trying with webpage\n"
     ]
    },
    {
     "name": "stdout",
     "output_type": "stream",
     "text": [
      "Printed 7379358124731370758                              \n"
     ]
    },
    {
     "name": "stderr",
     "output_type": "stream",
     "text": [
      "WARNING: [TikTok] Expecting value in '': line 1 column 1 (char 0). Retrying... (attempt 1 of 4)\n",
      "WARNING: [TikTok] Expecting value in '': line 1 column 1 (char 0). Retrying... (attempt 2 of 4)\n",
      "WARNING: [TikTok] Expecting value in '': line 1 column 1 (char 0). Retrying... (attempt 3 of 4)\n",
      "WARNING: [TikTok] 7378139683391294725: Failed to parse JSON (caused by JSONDecodeError(\"Expecting value in '': line 1 column 1 (char 0)\")); trying with webpage\n"
     ]
    },
    {
     "name": "stdout",
     "output_type": "stream",
     "text": [
      "Printed 7378139683391294725                              \n"
     ]
    },
    {
     "name": "stderr",
     "output_type": "stream",
     "text": [
      "WARNING: [TikTok] Expecting value in '': line 1 column 1 (char 0). Retrying... (attempt 1 of 4)\n",
      "WARNING: [TikTok] Expecting value in '': line 1 column 1 (char 0). Retrying... (attempt 2 of 4)\n",
      "WARNING: [TikTok] Expecting value in '': line 1 column 1 (char 0). Retrying... (attempt 3 of 4)\n",
      "WARNING: [TikTok] 7377987053109234950: Failed to parse JSON (caused by JSONDecodeError(\"Expecting value in '': line 1 column 1 (char 0)\")); trying with webpage\n"
     ]
    },
    {
     "name": "stdout",
     "output_type": "stream",
     "text": [
      "Printed 7377987053109234950                              \n"
     ]
    },
    {
     "name": "stderr",
     "output_type": "stream",
     "text": [
      "WARNING: [TikTok] Expecting value in '': line 1 column 1 (char 0). Retrying... (attempt 1 of 4)\n"
     ]
    },
    {
     "name": "stdout",
     "output_type": "stream",
     "text": [
      "Printed 7377159896363437317  \n"
     ]
    },
    {
     "name": "stderr",
     "output_type": "stream",
     "text": [
      "WARNING: [TikTok] Expecting value in '': line 1 column 1 (char 0). Retrying... (attempt 1 of 4)\n",
      "WARNING: [TikTok] Expecting value in '': line 1 column 1 (char 0). Retrying... (attempt 2 of 4)\n",
      "WARNING: [TikTok] Expecting value in '': line 1 column 1 (char 0). Retrying... (attempt 3 of 4)\n",
      "WARNING: [TikTok] 7376818729461599493: Failed to parse JSON (caused by JSONDecodeError(\"Expecting value in '': line 1 column 1 (char 0)\")); trying with webpage\n"
     ]
    },
    {
     "name": "stdout",
     "output_type": "stream",
     "text": [
      "Printed 7376818729461599493  \n"
     ]
    },
    {
     "name": "stderr",
     "output_type": "stream",
     "text": [
      "WARNING: [TikTok] Expecting value in '': line 1 column 1 (char 0). Retrying... (attempt 1 of 4)\n",
      "WARNING: [TikTok] Expecting value in '': line 1 column 1 (char 0). Retrying... (attempt 2 of 4)\n",
      "WARNING: [TikTok] Expecting value in '': line 1 column 1 (char 0). Retrying... (attempt 3 of 4)\n",
      "WARNING: [TikTok] 7375169760830541061: Failed to parse JSON (caused by JSONDecodeError(\"Expecting value in '': line 1 column 1 (char 0)\")); trying with webpage\n"
     ]
    },
    {
     "name": "stdout",
     "output_type": "stream",
     "text": [
      "Printed 7375169760830541061  \n"
     ]
    },
    {
     "name": "stderr",
     "output_type": "stream",
     "text": [
      "WARNING: [TikTok] Expecting value in '': line 1 column 1 (char 0). Retrying... (attempt 1 of 4)\n",
      "WARNING: [TikTok] Expecting value in '': line 1 column 1 (char 0). Retrying... (attempt 2 of 4)\n",
      "WARNING: [TikTok] Expecting value in '': line 1 column 1 (char 0). Retrying... (attempt 3 of 4)\n",
      "WARNING: [TikTok] 7374502608435809541: Failed to parse JSON (caused by JSONDecodeError(\"Expecting value in '': line 1 column 1 (char 0)\")); trying with webpage\n"
     ]
    },
    {
     "name": "stdout",
     "output_type": "stream",
     "text": [
      "Printed 7374502608435809541  \n"
     ]
    },
    {
     "name": "stderr",
     "output_type": "stream",
     "text": [
      "WARNING: [TikTok] Expecting value in '': line 1 column 1 (char 0). Retrying... (attempt 1 of 4)\n",
      "WARNING: [TikTok] Expecting value in '': line 1 column 1 (char 0). Retrying... (attempt 2 of 4)\n",
      "WARNING: [TikTok] Expecting value in '': line 1 column 1 (char 0). Retrying... (attempt 3 of 4)\n",
      "WARNING: [TikTok] 7373826457782455558: Failed to parse JSON (caused by JSONDecodeError(\"Expecting value in '': line 1 column 1 (char 0)\")); trying with webpage\n"
     ]
    },
    {
     "name": "stdout",
     "output_type": "stream",
     "text": [
      "Printed 7373826457782455558  \n"
     ]
    },
    {
     "name": "stderr",
     "output_type": "stream",
     "text": [
      "WARNING: [TikTok] Expecting value in '': line 1 column 1 (char 0). Retrying... (attempt 1 of 4)\n",
      "WARNING: [TikTok] Expecting value in '': line 1 column 1 (char 0). Retrying... (attempt 2 of 4)\n",
      "WARNING: [TikTok] Expecting value in '': line 1 column 1 (char 0). Retrying... (attempt 3 of 4)\n",
      "WARNING: [TikTok] 7372603559273188614: Failed to parse JSON (caused by JSONDecodeError(\"Expecting value in '': line 1 column 1 (char 0)\")); trying with webpage\n"
     ]
    },
    {
     "name": "stdout",
     "output_type": "stream",
     "text": [
      "Printed 7372603559273188614  \n"
     ]
    },
    {
     "name": "stderr",
     "output_type": "stream",
     "text": [
      "WARNING: [TikTok] Expecting value in '': line 1 column 1 (char 0). Retrying... (attempt 1 of 4)\n",
      "WARNING: [TikTok] Expecting value in '': line 1 column 1 (char 0). Retrying... (attempt 2 of 4)\n",
      "WARNING: [TikTok] Expecting value in '': line 1 column 1 (char 0). Retrying... (attempt 3 of 4)\n",
      "WARNING: [TikTok] 7371852190798875910: Failed to parse JSON (caused by JSONDecodeError(\"Expecting value in '': line 1 column 1 (char 0)\")); trying with webpage\n"
     ]
    },
    {
     "name": "stdout",
     "output_type": "stream",
     "text": [
      "Printed 7371852190798875910  \n"
     ]
    },
    {
     "name": "stderr",
     "output_type": "stream",
     "text": [
      "WARNING: [TikTok] Expecting value in '': line 1 column 1 (char 0). Retrying... (attempt 1 of 4)\n"
     ]
    },
    {
     "name": "stdout",
     "output_type": "stream",
     "text": [
      "Printed 7369982231969860870  \n"
     ]
    },
    {
     "name": "stderr",
     "output_type": "stream",
     "text": [
      "WARNING: [TikTok] Expecting value in '': line 1 column 1 (char 0). Retrying... (attempt 1 of 4)\n",
      "WARNING: [TikTok] Expecting value in '': line 1 column 1 (char 0). Retrying... (attempt 2 of 4)\n",
      "WARNING: [TikTok] Expecting value in '': line 1 column 1 (char 0). Retrying... (attempt 3 of 4)\n",
      "WARNING: [TikTok] 7369395292153662726: Failed to parse JSON (caused by JSONDecodeError(\"Expecting value in '': line 1 column 1 (char 0)\")); trying with webpage\n"
     ]
    },
    {
     "name": "stdout",
     "output_type": "stream",
     "text": [
      "Printed 7369395292153662726  \n"
     ]
    },
    {
     "name": "stderr",
     "output_type": "stream",
     "text": [
      "WARNING: [TikTok] Expecting value in '': line 1 column 1 (char 0). Retrying... (attempt 1 of 4)\n",
      "WARNING: [TikTok] Expecting value in '': line 1 column 1 (char 0). Retrying... (attempt 2 of 4)\n",
      "WARNING: [TikTok] Expecting value in '': line 1 column 1 (char 0). Retrying... (attempt 3 of 4)\n",
      "WARNING: [TikTok] 7367837330234690822: Failed to parse JSON (caused by JSONDecodeError(\"Expecting value in '': line 1 column 1 (char 0)\")); trying with webpage\n"
     ]
    },
    {
     "name": "stdout",
     "output_type": "stream",
     "text": [
      "Printed 7367837330234690822  \n"
     ]
    },
    {
     "name": "stderr",
     "output_type": "stream",
     "text": [
      "WARNING: [TikTok] Expecting value in '': line 1 column 1 (char 0). Retrying... (attempt 1 of 4)\n",
      "WARNING: [TikTok] Expecting value in '': line 1 column 1 (char 0). Retrying... (attempt 2 of 4)\n",
      "WARNING: [TikTok] Expecting value in '': line 1 column 1 (char 0). Retrying... (attempt 3 of 4)\n",
      "WARNING: [TikTok] 7367087580426407173: Failed to parse JSON (caused by JSONDecodeError(\"Expecting value in '': line 1 column 1 (char 0)\")); trying with webpage\n"
     ]
    },
    {
     "name": "stdout",
     "output_type": "stream",
     "text": [
      "Printed 7367087580426407173  \n"
     ]
    },
    {
     "name": "stderr",
     "output_type": "stream",
     "text": [
      "WARNING: [TikTok] Expecting value in '': line 1 column 1 (char 0). Retrying... (attempt 1 of 4)\n",
      "WARNING: [TikTok] Expecting value in '': line 1 column 1 (char 0). Retrying... (attempt 2 of 4)\n",
      "WARNING: [TikTok] Expecting value in '': line 1 column 1 (char 0). Retrying... (attempt 3 of 4)\n",
      "WARNING: [TikTok] 7366669769904246022: Failed to parse JSON (caused by JSONDecodeError(\"Expecting value in '': line 1 column 1 (char 0)\")); trying with webpage\n"
     ]
    },
    {
     "name": "stdout",
     "output_type": "stream",
     "text": [
      "Printed 7366669769904246022  \n"
     ]
    },
    {
     "name": "stderr",
     "output_type": "stream",
     "text": [
      "WARNING: [TikTok] Expecting value in '': line 1 column 1 (char 0). Retrying... (attempt 1 of 4)\n",
      "WARNING: [TikTok] Expecting value in '': line 1 column 1 (char 0). Retrying... (attempt 2 of 4)\n",
      "WARNING: [TikTok] Expecting value in '': line 1 column 1 (char 0). Retrying... (attempt 3 of 4)\n",
      "WARNING: [TikTok] 7366278803896700165: Failed to parse JSON (caused by JSONDecodeError(\"Expecting value in '': line 1 column 1 (char 0)\")); trying with webpage\n"
     ]
    },
    {
     "name": "stdout",
     "output_type": "stream",
     "text": [
      "Printed 7366278803896700165  \n"
     ]
    },
    {
     "name": "stderr",
     "output_type": "stream",
     "text": [
      "WARNING: [TikTok] Expecting value in '': line 1 column 1 (char 0). Retrying... (attempt 1 of 4)\n",
      "WARNING: [TikTok] Expecting value in '': line 1 column 1 (char 0). Retrying... (attempt 2 of 4)\n",
      "WARNING: [TikTok] Expecting value in '': line 1 column 1 (char 0). Retrying... (attempt 3 of 4)\n",
      "WARNING: [TikTok] 7366257229026086149: Failed to parse JSON (caused by JSONDecodeError(\"Expecting value in '': line 1 column 1 (char 0)\")); trying with webpage\n"
     ]
    },
    {
     "name": "stdout",
     "output_type": "stream",
     "text": [
      "Printed 7366257229026086149  \n"
     ]
    },
    {
     "name": "stderr",
     "output_type": "stream",
     "text": [
      "WARNING: [TikTok] Expecting value in '': line 1 column 1 (char 0). Retrying... (attempt 1 of 4)\n",
      "WARNING: [TikTok] Expecting value in '': line 1 column 1 (char 0). Retrying... (attempt 2 of 4)\n",
      "WARNING: [TikTok] Expecting value in '': line 1 column 1 (char 0). Retrying... (attempt 3 of 4)\n",
      "WARNING: [TikTok] 7366018710248672517: Failed to parse JSON (caused by JSONDecodeError(\"Expecting value in '': line 1 column 1 (char 0)\")); trying with webpage\n"
     ]
    },
    {
     "name": "stdout",
     "output_type": "stream",
     "text": [
      "Printed 7366018710248672517  \n"
     ]
    },
    {
     "name": "stderr",
     "output_type": "stream",
     "text": [
      "WARNING: [TikTok] Expecting value in '': line 1 column 1 (char 0). Retrying... (attempt 1 of 4)\n",
      "WARNING: [TikTok] Expecting value in '': line 1 column 1 (char 0). Retrying... (attempt 2 of 4)\n",
      "WARNING: [TikTok] Expecting value in '': line 1 column 1 (char 0). Retrying... (attempt 3 of 4)\n",
      "WARNING: [TikTok] 7364885235240094982: Failed to parse JSON (caused by JSONDecodeError(\"Expecting value in '': line 1 column 1 (char 0)\")); trying with webpage\n"
     ]
    },
    {
     "name": "stdout",
     "output_type": "stream",
     "text": [
      "Printed 7364885235240094982  \n"
     ]
    },
    {
     "name": "stderr",
     "output_type": "stream",
     "text": [
      "WARNING: [TikTok] Expecting value in '': line 1 column 1 (char 0). Retrying... (attempt 1 of 4)\n",
      "WARNING: [TikTok] Expecting value in '': line 1 column 1 (char 0). Retrying... (attempt 2 of 4)\n",
      "WARNING: [TikTok] Expecting value in '': line 1 column 1 (char 0). Retrying... (attempt 3 of 4)\n",
      "WARNING: [TikTok] 7363696707999124742: Failed to parse JSON (caused by JSONDecodeError(\"Expecting value in '': line 1 column 1 (char 0)\")); trying with webpage\n"
     ]
    },
    {
     "name": "stdout",
     "output_type": "stream",
     "text": [
      "                             \r"
     ]
    },
    {
     "name": "stderr",
     "output_type": "stream",
     "text": [
      "WARNING: [TikTok] Expecting value in '': line 1 column 1 (char 0). Retrying... (attempt 1 of 4)\n"
     ]
    },
    {
     "name": "stdout",
     "output_type": "stream",
     "text": [
      "Printed 7363696707999124742\n",
      "Printed 7361841781496909061  \n"
     ]
    },
    {
     "name": "stderr",
     "output_type": "stream",
     "text": [
      "WARNING: [TikTok] Expecting value in '': line 1 column 1 (char 0). Retrying... (attempt 1 of 4)\n",
      "WARNING: [TikTok] Expecting value in '': line 1 column 1 (char 0). Retrying... (attempt 2 of 4)\n",
      "WARNING: [TikTok] Expecting value in '': line 1 column 1 (char 0). Retrying... (attempt 3 of 4)\n",
      "WARNING: [TikTok] 7361153265796451590: Failed to parse JSON (caused by JSONDecodeError(\"Expecting value in '': line 1 column 1 (char 0)\")); trying with webpage\n"
     ]
    },
    {
     "name": "stdout",
     "output_type": "stream",
     "text": [
      "Printed 7361153265796451590  \n"
     ]
    },
    {
     "name": "stderr",
     "output_type": "stream",
     "text": [
      "WARNING: [TikTok] Expecting value in '': line 1 column 1 (char 0). Retrying... (attempt 1 of 4)\n",
      "WARNING: [TikTok] Expecting value in '': line 1 column 1 (char 0). Retrying... (attempt 2 of 4)\n",
      "WARNING: [TikTok] Expecting value in '': line 1 column 1 (char 0). Retrying... (attempt 3 of 4)\n",
      "WARNING: [TikTok] 7360833729805257990: Failed to parse JSON (caused by JSONDecodeError(\"Expecting value in '': line 1 column 1 (char 0)\")); trying with webpage\n"
     ]
    },
    {
     "name": "stdout",
     "output_type": "stream",
     "text": [
      "Printed 7360833729805257990  \n"
     ]
    },
    {
     "name": "stderr",
     "output_type": "stream",
     "text": [
      "WARNING: [TikTok] Expecting value in '': line 1 column 1 (char 0). Retrying... (attempt 1 of 4)\n",
      "WARNING: [TikTok] Expecting value in '': line 1 column 1 (char 0). Retrying... (attempt 2 of 4)\n",
      "WARNING: [TikTok] Expecting value in '': line 1 column 1 (char 0). Retrying... (attempt 3 of 4)\n",
      "WARNING: [TikTok] 7359679419805437189: Failed to parse JSON (caused by JSONDecodeError(\"Expecting value in '': line 1 column 1 (char 0)\")); trying with webpage\n"
     ]
    },
    {
     "name": "stdout",
     "output_type": "stream",
     "text": [
      "Printed 7359679419805437189  \n"
     ]
    },
    {
     "name": "stderr",
     "output_type": "stream",
     "text": [
      "WARNING: [TikTok] Expecting value in '': line 1 column 1 (char 0). Retrying... (attempt 1 of 4)\n",
      "WARNING: [TikTok] Expecting value in '': line 1 column 1 (char 0). Retrying... (attempt 2 of 4)\n",
      "WARNING: [TikTok] Expecting value in '': line 1 column 1 (char 0). Retrying... (attempt 3 of 4)\n",
      "WARNING: [TikTok] 7359261032004570374: Failed to parse JSON (caused by JSONDecodeError(\"Expecting value in '': line 1 column 1 (char 0)\")); trying with webpage\n"
     ]
    },
    {
     "name": "stdout",
     "output_type": "stream",
     "text": [
      "Printed 7359261032004570374  \n"
     ]
    },
    {
     "name": "stderr",
     "output_type": "stream",
     "text": [
      "WARNING: [TikTok] Expecting value in '': line 1 column 1 (char 0). Retrying... (attempt 1 of 4)\n",
      "WARNING: [TikTok] Expecting value in '': line 1 column 1 (char 0). Retrying... (attempt 2 of 4)\n",
      "WARNING: [TikTok] Expecting value in '': line 1 column 1 (char 0). Retrying... (attempt 3 of 4)\n",
      "WARNING: [TikTok] 7358606861127388422: Failed to parse JSON (caused by JSONDecodeError(\"Expecting value in '': line 1 column 1 (char 0)\")); trying with webpage\n"
     ]
    },
    {
     "name": "stdout",
     "output_type": "stream",
     "text": [
      "Printed 7358606861127388422  \n"
     ]
    },
    {
     "name": "stderr",
     "output_type": "stream",
     "text": [
      "WARNING: [TikTok] Expecting value in '': line 1 column 1 (char 0). Retrying... (attempt 1 of 4)\n",
      "WARNING: [TikTok] Expecting value in '': line 1 column 1 (char 0). Retrying... (attempt 2 of 4)\n",
      "WARNING: [TikTok] Expecting value in '': line 1 column 1 (char 0). Retrying... (attempt 3 of 4)\n",
      "WARNING: [TikTok] 7358173510440783109: Failed to parse JSON (caused by JSONDecodeError(\"Expecting value in '': line 1 column 1 (char 0)\")); trying with webpage\n"
     ]
    },
    {
     "name": "stdout",
     "output_type": "stream",
     "text": [
      "Printed 7358173510440783109  \n"
     ]
    },
    {
     "name": "stderr",
     "output_type": "stream",
     "text": [
      "WARNING: [TikTok] Expecting value in '': line 1 column 1 (char 0). Retrying... (attempt 1 of 4)\n",
      "WARNING: [TikTok] Expecting value in '': line 1 column 1 (char 0). Retrying... (attempt 2 of 4)\n",
      "WARNING: [TikTok] Expecting value in '': line 1 column 1 (char 0). Retrying... (attempt 3 of 4)\n",
      "WARNING: [TikTok] 7357392198188403974: Failed to parse JSON (caused by JSONDecodeError(\"Expecting value in '': line 1 column 1 (char 0)\")); trying with webpage\n"
     ]
    },
    {
     "name": "stdout",
     "output_type": "stream",
     "text": [
      "Printed 7357392198188403974  \n"
     ]
    },
    {
     "name": "stderr",
     "output_type": "stream",
     "text": [
      "WARNING: [TikTok] Expecting value in '': line 1 column 1 (char 0). Retrying... (attempt 1 of 4)\n",
      "WARNING: [TikTok] Expecting value in '': line 1 column 1 (char 0). Retrying... (attempt 2 of 4)\n",
      "WARNING: [TikTok] Expecting value in '': line 1 column 1 (char 0). Retrying... (attempt 3 of 4)\n",
      "WARNING: [TikTok] 7357021273471339782: Failed to parse JSON (caused by JSONDecodeError(\"Expecting value in '': line 1 column 1 (char 0)\")); trying with webpage\n"
     ]
    },
    {
     "name": "stdout",
     "output_type": "stream",
     "text": [
      "Printed 7357021273471339782                              \n"
     ]
    },
    {
     "name": "stderr",
     "output_type": "stream",
     "text": [
      "WARNING: [TikTok] Expecting value in '': line 1 column 1 (char 0). Retrying... (attempt 1 of 4)\n",
      "WARNING: [TikTok] Expecting value in '': line 1 column 1 (char 0). Retrying... (attempt 2 of 4)\n",
      "WARNING: [TikTok] Expecting value in '': line 1 column 1 (char 0). Retrying... (attempt 3 of 4)\n",
      "WARNING: [TikTok] 7355977855655759110: Failed to parse JSON (caused by JSONDecodeError(\"Expecting value in '': line 1 column 1 (char 0)\")); trying with webpage\n"
     ]
    },
    {
     "name": "stdout",
     "output_type": "stream",
     "text": [
      "Printed 7355977855655759110  \n"
     ]
    },
    {
     "name": "stderr",
     "output_type": "stream",
     "text": [
      "WARNING: [TikTok] Expecting value in '': line 1 column 1 (char 0). Retrying... (attempt 1 of 4)\n",
      "WARNING: [TikTok] Expecting value in '': line 1 column 1 (char 0). Retrying... (attempt 2 of 4)\n",
      "WARNING: [TikTok] Expecting value in '': line 1 column 1 (char 0). Retrying... (attempt 3 of 4)\n",
      "WARNING: [TikTok] 7355617505076923654: Failed to parse JSON (caused by JSONDecodeError(\"Expecting value in '': line 1 column 1 (char 0)\")); trying with webpage\n"
     ]
    },
    {
     "name": "stdout",
     "output_type": "stream",
     "text": [
      "Printed 7355617505076923654  \n"
     ]
    },
    {
     "name": "stderr",
     "output_type": "stream",
     "text": [
      "WARNING: [TikTok] Expecting value in '': line 1 column 1 (char 0). Retrying... (attempt 1 of 4)\n"
     ]
    },
    {
     "name": "stdout",
     "output_type": "stream",
     "text": [
      "Printed 7368864661556530438  \n"
     ]
    },
    {
     "name": "stderr",
     "output_type": "stream",
     "text": [
      "WARNING: [TikTok] Expecting value in '': line 1 column 1 (char 0). Retrying... (attempt 1 of 4)\n",
      "WARNING: [TikTok] Expecting value in '': line 1 column 1 (char 0). Retrying... (attempt 2 of 4)\n",
      "WARNING: [TikTok] Expecting value in '': line 1 column 1 (char 0). Retrying... (attempt 3 of 4)\n",
      "WARNING: [TikTok] 7364063268450700550: Failed to parse JSON (caused by JSONDecodeError(\"Expecting value in '': line 1 column 1 (char 0)\")); trying with webpage\n"
     ]
    },
    {
     "name": "stdout",
     "output_type": "stream",
     "text": [
      "Printed 7364063268450700550  \n"
     ]
    },
    {
     "name": "stderr",
     "output_type": "stream",
     "text": [
      "WARNING: [TikTok] Expecting value in '': line 1 column 1 (char 0). Retrying... (attempt 1 of 4)\n",
      "WARNING: [TikTok] Expecting value in '': line 1 column 1 (char 0). Retrying... (attempt 2 of 4)\n",
      "WARNING: [TikTok] Expecting value in '': line 1 column 1 (char 0). Retrying... (attempt 3 of 4)\n"
     ]
    },
    {
     "name": "stdout",
     "output_type": "stream",
     "text": [
      "Printed 7310344854129642757  \n"
     ]
    },
    {
     "name": "stderr",
     "output_type": "stream",
     "text": [
      "WARNING: [TikTok] Expecting value in '': line 1 column 1 (char 0). Retrying... (attempt 1 of 4)\n",
      "WARNING: [TikTok] Expecting value in '': line 1 column 1 (char 0). Retrying... (attempt 2 of 4)\n"
     ]
    },
    {
     "name": "stdout",
     "output_type": "stream",
     "text": [
      "                             \r"
     ]
    },
    {
     "name": "stderr",
     "output_type": "stream",
     "text": [
      "WARNING: [TikTok] Expecting value in '': line 1 column 1 (char 0). Retrying... (attempt 1 of 4)\n"
     ]
    },
    {
     "name": "stdout",
     "output_type": "stream",
     "text": [
      "Printed 7379695511021948166\n"
     ]
    },
    {
     "name": "stderr",
     "output_type": "stream",
     "text": [
      "WARNING: [TikTok] Expecting value in '': line 1 column 1 (char 0). Retrying... (attempt 2 of 4)\n",
      "WARNING: [TikTok] Expecting value in '': line 1 column 1 (char 0). Retrying... (attempt 3 of 4)\n",
      "WARNING: [TikTok] 7379358124731370758: Failed to parse JSON (caused by JSONDecodeError(\"Expecting value in '': line 1 column 1 (char 0)\")); trying with webpage\n"
     ]
    },
    {
     "name": "stdout",
     "output_type": "stream",
     "text": [
      "Printed 7379358124731370758  \n"
     ]
    },
    {
     "name": "stderr",
     "output_type": "stream",
     "text": [
      "WARNING: [TikTok] Expecting value in '': line 1 column 1 (char 0). Retrying... (attempt 1 of 4)\n",
      "WARNING: [TikTok] Expecting value in '': line 1 column 1 (char 0). Retrying... (attempt 2 of 4)\n",
      "WARNING: [TikTok] Expecting value in '': line 1 column 1 (char 0). Retrying... (attempt 3 of 4)\n",
      "WARNING: [TikTok] 7378139683391294725: Failed to parse JSON (caused by JSONDecodeError(\"Expecting value in '': line 1 column 1 (char 0)\")); trying with webpage\n"
     ]
    },
    {
     "name": "stdout",
     "output_type": "stream",
     "text": [
      "Printed 7378139683391294725  \n"
     ]
    },
    {
     "name": "stderr",
     "output_type": "stream",
     "text": [
      "WARNING: [TikTok] Expecting value in '': line 1 column 1 (char 0). Retrying... (attempt 1 of 4)\n",
      "WARNING: [TikTok] Expecting value in '': line 1 column 1 (char 0). Retrying... (attempt 2 of 4)\n",
      "WARNING: [TikTok] Expecting value in '': line 1 column 1 (char 0). Retrying... (attempt 3 of 4)\n",
      "WARNING: [TikTok] 7377987053109234950: Failed to parse JSON (caused by JSONDecodeError(\"Expecting value in '': line 1 column 1 (char 0)\")); trying with webpage\n"
     ]
    },
    {
     "name": "stdout",
     "output_type": "stream",
     "text": [
      "Printed 7377987053109234950  \n"
     ]
    },
    {
     "name": "stderr",
     "output_type": "stream",
     "text": [
      "WARNING: [TikTok] Expecting value in '': line 1 column 1 (char 0). Retrying... (attempt 1 of 4)\n",
      "WARNING: [TikTok] Expecting value in '': line 1 column 1 (char 0). Retrying... (attempt 2 of 4)\n",
      "WARNING: [TikTok] Expecting value in '': line 1 column 1 (char 0). Retrying... (attempt 3 of 4)\n",
      "WARNING: [TikTok] 7377159896363437317: Failed to parse JSON (caused by JSONDecodeError(\"Expecting value in '': line 1 column 1 (char 0)\")); trying with webpage\n"
     ]
    },
    {
     "name": "stdout",
     "output_type": "stream",
     "text": [
      "Printed 7377159896363437317  \n"
     ]
    },
    {
     "name": "stderr",
     "output_type": "stream",
     "text": [
      "WARNING: [TikTok] Expecting value in '': line 1 column 1 (char 0). Retrying... (attempt 1 of 4)\n",
      "WARNING: [TikTok] Expecting value in '': line 1 column 1 (char 0). Retrying... (attempt 2 of 4)\n",
      "WARNING: [TikTok] Expecting value in '': line 1 column 1 (char 0). Retrying... (attempt 3 of 4)\n",
      "WARNING: [TikTok] 7376818729461599493: Failed to parse JSON (caused by JSONDecodeError(\"Expecting value in '': line 1 column 1 (char 0)\")); trying with webpage\n"
     ]
    },
    {
     "name": "stdout",
     "output_type": "stream",
     "text": [
      "Printed 7376818729461599493  \n"
     ]
    },
    {
     "name": "stderr",
     "output_type": "stream",
     "text": [
      "WARNING: [TikTok] Expecting value in '': line 1 column 1 (char 0). Retrying... (attempt 1 of 4)\n",
      "WARNING: [TikTok] Expecting value in '': line 1 column 1 (char 0). Retrying... (attempt 2 of 4)\n",
      "WARNING: [TikTok] Expecting value in '': line 1 column 1 (char 0). Retrying... (attempt 3 of 4)\n",
      "WARNING: [TikTok] 7375169760830541061: Failed to parse JSON (caused by JSONDecodeError(\"Expecting value in '': line 1 column 1 (char 0)\")); trying with webpage\n"
     ]
    },
    {
     "name": "stdout",
     "output_type": "stream",
     "text": [
      "Printed 7375169760830541061  \n"
     ]
    },
    {
     "name": "stderr",
     "output_type": "stream",
     "text": [
      "WARNING: [TikTok] Expecting value in '': line 1 column 1 (char 0). Retrying... (attempt 1 of 4)\n",
      "WARNING: [TikTok] Expecting value in '': line 1 column 1 (char 0). Retrying... (attempt 2 of 4)\n",
      "WARNING: [TikTok] Expecting value in '': line 1 column 1 (char 0). Retrying... (attempt 3 of 4)\n",
      "WARNING: [TikTok] 7374502608435809541: Failed to parse JSON (caused by JSONDecodeError(\"Expecting value in '': line 1 column 1 (char 0)\")); trying with webpage\n"
     ]
    },
    {
     "name": "stdout",
     "output_type": "stream",
     "text": [
      "Printed 7374502608435809541  \n"
     ]
    },
    {
     "name": "stderr",
     "output_type": "stream",
     "text": [
      "WARNING: [TikTok] Expecting value in '': line 1 column 1 (char 0). Retrying... (attempt 1 of 4)\n",
      "WARNING: [TikTok] Expecting value in '': line 1 column 1 (char 0). Retrying... (attempt 2 of 4)\n",
      "WARNING: [TikTok] Expecting value in '': line 1 column 1 (char 0). Retrying... (attempt 3 of 4)\n",
      "WARNING: [TikTok] 7373826457782455558: Failed to parse JSON (caused by JSONDecodeError(\"Expecting value in '': line 1 column 1 (char 0)\")); trying with webpage\n"
     ]
    },
    {
     "name": "stdout",
     "output_type": "stream",
     "text": [
      "Printed 7373826457782455558  \n"
     ]
    },
    {
     "name": "stderr",
     "output_type": "stream",
     "text": [
      "WARNING: [TikTok] Expecting value in '': line 1 column 1 (char 0). Retrying... (attempt 1 of 4)\n",
      "WARNING: [TikTok] Expecting value in '': line 1 column 1 (char 0). Retrying... (attempt 2 of 4)\n",
      "WARNING: [TikTok] Expecting value in '': line 1 column 1 (char 0). Retrying... (attempt 3 of 4)\n",
      "WARNING: [TikTok] 7372603559273188614: Failed to parse JSON (caused by JSONDecodeError(\"Expecting value in '': line 1 column 1 (char 0)\")); trying with webpage\n"
     ]
    },
    {
     "name": "stdout",
     "output_type": "stream",
     "text": [
      "Printed 7372603559273188614  \n"
     ]
    },
    {
     "name": "stderr",
     "output_type": "stream",
     "text": [
      "WARNING: [TikTok] Expecting value in '': line 1 column 1 (char 0). Retrying... (attempt 1 of 4)\n",
      "WARNING: [TikTok] Expecting value in '': line 1 column 1 (char 0). Retrying... (attempt 2 of 4)\n",
      "WARNING: [TikTok] Expecting value in '': line 1 column 1 (char 0). Retrying... (attempt 3 of 4)\n",
      "WARNING: [TikTok] 7371852190798875910: Failed to parse JSON (caused by JSONDecodeError(\"Expecting value in '': line 1 column 1 (char 0)\")); trying with webpage\n"
     ]
    },
    {
     "name": "stdout",
     "output_type": "stream",
     "text": [
      "Printed 7371852190798875910  \n"
     ]
    },
    {
     "name": "stderr",
     "output_type": "stream",
     "text": [
      "WARNING: [TikTok] Expecting value in '': line 1 column 1 (char 0). Retrying... (attempt 1 of 4)\n",
      "WARNING: [TikTok] Expecting value in '': line 1 column 1 (char 0). Retrying... (attempt 2 of 4)\n",
      "WARNING: [TikTok] Expecting value in '': line 1 column 1 (char 0). Retrying... (attempt 3 of 4)\n",
      "WARNING: [TikTok] 7369982231969860870: Failed to parse JSON (caused by JSONDecodeError(\"Expecting value in '': line 1 column 1 (char 0)\")); trying with webpage\n"
     ]
    },
    {
     "name": "stdout",
     "output_type": "stream",
     "text": [
      "Printed 7369982231969860870  \n"
     ]
    },
    {
     "name": "stderr",
     "output_type": "stream",
     "text": [
      "WARNING: [TikTok] Expecting value in '': line 1 column 1 (char 0). Retrying... (attempt 1 of 4)\n",
      "WARNING: [TikTok] Expecting value in '': line 1 column 1 (char 0). Retrying... (attempt 2 of 4)\n"
     ]
    },
    {
     "name": "stdout",
     "output_type": "stream",
     "text": [
      "Printed 7369395292153662726  \n"
     ]
    },
    {
     "name": "stderr",
     "output_type": "stream",
     "text": [
      "WARNING: [TikTok] Expecting value in '': line 1 column 1 (char 0). Retrying... (attempt 1 of 4)\n",
      "WARNING: [TikTok] Expecting value in '': line 1 column 1 (char 0). Retrying... (attempt 2 of 4)\n",
      "WARNING: [TikTok] Expecting value in '': line 1 column 1 (char 0). Retrying... (attempt 3 of 4)\n",
      "WARNING: [TikTok] 7367837330234690822: Failed to parse JSON (caused by JSONDecodeError(\"Expecting value in '': line 1 column 1 (char 0)\")); trying with webpage\n"
     ]
    },
    {
     "name": "stdout",
     "output_type": "stream",
     "text": [
      "Printed 7367837330234690822  \n"
     ]
    },
    {
     "name": "stderr",
     "output_type": "stream",
     "text": [
      "WARNING: [TikTok] Expecting value in '': line 1 column 1 (char 0). Retrying... (attempt 1 of 4)\n",
      "WARNING: [TikTok] Expecting value in '': line 1 column 1 (char 0). Retrying... (attempt 2 of 4)\n",
      "WARNING: [TikTok] Expecting value in '': line 1 column 1 (char 0). Retrying... (attempt 3 of 4)\n",
      "WARNING: [TikTok] 7367087580426407173: Failed to parse JSON (caused by JSONDecodeError(\"Expecting value in '': line 1 column 1 (char 0)\")); trying with webpage\n"
     ]
    },
    {
     "name": "stdout",
     "output_type": "stream",
     "text": [
      "Printed 7367087580426407173  \n"
     ]
    },
    {
     "name": "stderr",
     "output_type": "stream",
     "text": [
      "WARNING: [TikTok] Expecting value in '': line 1 column 1 (char 0). Retrying... (attempt 1 of 4)\n",
      "WARNING: [TikTok] Expecting value in '': line 1 column 1 (char 0). Retrying... (attempt 2 of 4)\n",
      "WARNING: [TikTok] Expecting value in '': line 1 column 1 (char 0). Retrying... (attempt 3 of 4)\n",
      "WARNING: [TikTok] 7366669769904246022: Failed to parse JSON (caused by JSONDecodeError(\"Expecting value in '': line 1 column 1 (char 0)\")); trying with webpage\n"
     ]
    },
    {
     "name": "stdout",
     "output_type": "stream",
     "text": [
      "Printed 7366669769904246022  \n"
     ]
    },
    {
     "name": "stderr",
     "output_type": "stream",
     "text": [
      "WARNING: [TikTok] Expecting value in '': line 1 column 1 (char 0). Retrying... (attempt 1 of 4)\n",
      "WARNING: [TikTok] Expecting value in '': line 1 column 1 (char 0). Retrying... (attempt 2 of 4)\n",
      "WARNING: [TikTok] Expecting value in '': line 1 column 1 (char 0). Retrying... (attempt 3 of 4)\n",
      "WARNING: [TikTok] 7366278803896700165: Failed to parse JSON (caused by JSONDecodeError(\"Expecting value in '': line 1 column 1 (char 0)\")); trying with webpage\n"
     ]
    },
    {
     "name": "stdout",
     "output_type": "stream",
     "text": [
      "Printed 7366278803896700165  \n"
     ]
    },
    {
     "name": "stderr",
     "output_type": "stream",
     "text": [
      "WARNING: [TikTok] Expecting value in '': line 1 column 1 (char 0). Retrying... (attempt 1 of 4)\n",
      "WARNING: [TikTok] Expecting value in '': line 1 column 1 (char 0). Retrying... (attempt 2 of 4)\n",
      "WARNING: [TikTok] Expecting value in '': line 1 column 1 (char 0). Retrying... (attempt 3 of 4)\n",
      "WARNING: [TikTok] 7366257229026086149: Failed to parse JSON (caused by JSONDecodeError(\"Expecting value in '': line 1 column 1 (char 0)\")); trying with webpage\n"
     ]
    },
    {
     "name": "stdout",
     "output_type": "stream",
     "text": [
      "Printed 7366257229026086149  \n"
     ]
    },
    {
     "name": "stderr",
     "output_type": "stream",
     "text": [
      "WARNING: [TikTok] Expecting value in '': line 1 column 1 (char 0). Retrying... (attempt 1 of 4)\n",
      "WARNING: [TikTok] Expecting value in '': line 1 column 1 (char 0). Retrying... (attempt 2 of 4)\n",
      "WARNING: [TikTok] Expecting value in '': line 1 column 1 (char 0). Retrying... (attempt 3 of 4)\n",
      "WARNING: [TikTok] 7366018710248672517: Failed to parse JSON (caused by JSONDecodeError(\"Expecting value in '': line 1 column 1 (char 0)\")); trying with webpage\n"
     ]
    },
    {
     "name": "stdout",
     "output_type": "stream",
     "text": [
      "Printed 7366018710248672517  \n"
     ]
    },
    {
     "name": "stderr",
     "output_type": "stream",
     "text": [
      "WARNING: [TikTok] Expecting value in '': line 1 column 1 (char 0). Retrying... (attempt 1 of 4)\n",
      "WARNING: [TikTok] Expecting value in '': line 1 column 1 (char 0). Retrying... (attempt 2 of 4)\n",
      "WARNING: [TikTok] Expecting value in '': line 1 column 1 (char 0). Retrying... (attempt 3 of 4)\n",
      "WARNING: [TikTok] 7364885235240094982: Failed to parse JSON (caused by JSONDecodeError(\"Expecting value in '': line 1 column 1 (char 0)\")); trying with webpage\n"
     ]
    },
    {
     "name": "stdout",
     "output_type": "stream",
     "text": [
      "Printed 7364885235240094982  \n"
     ]
    },
    {
     "name": "stderr",
     "output_type": "stream",
     "text": [
      "WARNING: [TikTok] Expecting value in '': line 1 column 1 (char 0). Retrying... (attempt 1 of 4)\n",
      "WARNING: [TikTok] Expecting value in '': line 1 column 1 (char 0). Retrying... (attempt 2 of 4)\n",
      "WARNING: [TikTok] Expecting value in '': line 1 column 1 (char 0). Retrying... (attempt 3 of 4)\n",
      "WARNING: [TikTok] 7363696707999124742: Failed to parse JSON (caused by JSONDecodeError(\"Expecting value in '': line 1 column 1 (char 0)\")); trying with webpage\n"
     ]
    },
    {
     "name": "stdout",
     "output_type": "stream",
     "text": [
      "Printed 7363696707999124742  \n"
     ]
    },
    {
     "name": "stderr",
     "output_type": "stream",
     "text": [
      "WARNING: [TikTok] Expecting value in '': line 1 column 1 (char 0). Retrying... (attempt 1 of 4)\n",
      "WARNING: [TikTok] Expecting value in '': line 1 column 1 (char 0). Retrying... (attempt 2 of 4)\n",
      "WARNING: [TikTok] Expecting value in '': line 1 column 1 (char 0). Retrying... (attempt 3 of 4)\n",
      "WARNING: [TikTok] 7361841781496909061: Failed to parse JSON (caused by JSONDecodeError(\"Expecting value in '': line 1 column 1 (char 0)\")); trying with webpage\n"
     ]
    },
    {
     "name": "stdout",
     "output_type": "stream",
     "text": [
      "Printed 7361841781496909061  \n"
     ]
    },
    {
     "name": "stderr",
     "output_type": "stream",
     "text": [
      "WARNING: [TikTok] Expecting value in '': line 1 column 1 (char 0). Retrying... (attempt 1 of 4)\n",
      "WARNING: [TikTok] Expecting value in '': line 1 column 1 (char 0). Retrying... (attempt 2 of 4)\n",
      "WARNING: [TikTok] Expecting value in '': line 1 column 1 (char 0). Retrying... (attempt 3 of 4)\n",
      "WARNING: [TikTok] 7361153265796451590: Failed to parse JSON (caused by JSONDecodeError(\"Expecting value in '': line 1 column 1 (char 0)\")); trying with webpage\n"
     ]
    },
    {
     "name": "stdout",
     "output_type": "stream",
     "text": [
      "Printed 7361153265796451590  \n"
     ]
    },
    {
     "name": "stderr",
     "output_type": "stream",
     "text": [
      "WARNING: [TikTok] Expecting value in '': line 1 column 1 (char 0). Retrying... (attempt 1 of 4)\n",
      "WARNING: [TikTok] Expecting value in '': line 1 column 1 (char 0). Retrying... (attempt 2 of 4)\n",
      "WARNING: [TikTok] Expecting value in '': line 1 column 1 (char 0). Retrying... (attempt 3 of 4)\n",
      "WARNING: [TikTok] 7360833729805257990: Failed to parse JSON (caused by JSONDecodeError(\"Expecting value in '': line 1 column 1 (char 0)\")); trying with webpage\n"
     ]
    },
    {
     "name": "stdout",
     "output_type": "stream",
     "text": [
      "Printed 7360833729805257990  \n"
     ]
    },
    {
     "name": "stderr",
     "output_type": "stream",
     "text": [
      "WARNING: [TikTok] Expecting value in '': line 1 column 1 (char 0). Retrying... (attempt 1 of 4)\n",
      "WARNING: [TikTok] Expecting value in '': line 1 column 1 (char 0). Retrying... (attempt 2 of 4)\n",
      "WARNING: [TikTok] Expecting value in '': line 1 column 1 (char 0). Retrying... (attempt 3 of 4)\n",
      "WARNING: [TikTok] 7359679419805437189: Failed to parse JSON (caused by JSONDecodeError(\"Expecting value in '': line 1 column 1 (char 0)\")); trying with webpage\n"
     ]
    },
    {
     "name": "stdout",
     "output_type": "stream",
     "text": [
      "Printed 7359679419805437189  \n"
     ]
    },
    {
     "name": "stderr",
     "output_type": "stream",
     "text": [
      "WARNING: [TikTok] Expecting value in '': line 1 column 1 (char 0). Retrying... (attempt 1 of 4)\n",
      "WARNING: [TikTok] Expecting value in '': line 1 column 1 (char 0). Retrying... (attempt 2 of 4)\n",
      "WARNING: [TikTok] Expecting value in '': line 1 column 1 (char 0). Retrying... (attempt 3 of 4)\n",
      "WARNING: [TikTok] 7359261032004570374: Failed to parse JSON (caused by JSONDecodeError(\"Expecting value in '': line 1 column 1 (char 0)\")); trying with webpage\n"
     ]
    },
    {
     "name": "stdout",
     "output_type": "stream",
     "text": [
      "Printed 7359261032004570374  \n"
     ]
    },
    {
     "name": "stderr",
     "output_type": "stream",
     "text": [
      "WARNING: [TikTok] Expecting value in '': line 1 column 1 (char 0). Retrying... (attempt 1 of 4)\n",
      "WARNING: [TikTok] Expecting value in '': line 1 column 1 (char 0). Retrying... (attempt 2 of 4)\n",
      "WARNING: [TikTok] Expecting value in '': line 1 column 1 (char 0). Retrying... (attempt 3 of 4)\n",
      "WARNING: [TikTok] 7358606861127388422: Failed to parse JSON (caused by JSONDecodeError(\"Expecting value in '': line 1 column 1 (char 0)\")); trying with webpage\n"
     ]
    },
    {
     "name": "stdout",
     "output_type": "stream",
     "text": [
      "Printed 7358606861127388422  \n"
     ]
    },
    {
     "name": "stderr",
     "output_type": "stream",
     "text": [
      "WARNING: [TikTok] Expecting value in '': line 1 column 1 (char 0). Retrying... (attempt 1 of 4)\n",
      "WARNING: [TikTok] Expecting value in '': line 1 column 1 (char 0). Retrying... (attempt 2 of 4)\n",
      "WARNING: [TikTok] Expecting value in '': line 1 column 1 (char 0). Retrying... (attempt 3 of 4)\n",
      "WARNING: [TikTok] 7358173510440783109: Failed to parse JSON (caused by JSONDecodeError(\"Expecting value in '': line 1 column 1 (char 0)\")); trying with webpage\n"
     ]
    },
    {
     "name": "stdout",
     "output_type": "stream",
     "text": [
      "Printed 7358173510440783109  \n"
     ]
    },
    {
     "name": "stderr",
     "output_type": "stream",
     "text": [
      "WARNING: [TikTok] Expecting value in '': line 1 column 1 (char 0). Retrying... (attempt 1 of 4)\n",
      "WARNING: [TikTok] Expecting value in '': line 1 column 1 (char 0). Retrying... (attempt 2 of 4)\n",
      "WARNING: [TikTok] Expecting value in '': line 1 column 1 (char 0). Retrying... (attempt 3 of 4)\n",
      "WARNING: [TikTok] 7357392198188403974: Failed to parse JSON (caused by JSONDecodeError(\"Expecting value in '': line 1 column 1 (char 0)\")); trying with webpage\n"
     ]
    },
    {
     "name": "stdout",
     "output_type": "stream",
     "text": [
      "Printed 7357392198188403974  \n"
     ]
    },
    {
     "name": "stderr",
     "output_type": "stream",
     "text": [
      "WARNING: [TikTok] Expecting value in '': line 1 column 1 (char 0). Retrying... (attempt 1 of 4)\n",
      "WARNING: [TikTok] Expecting value in '': line 1 column 1 (char 0). Retrying... (attempt 2 of 4)\n",
      "WARNING: [TikTok] Expecting value in '': line 1 column 1 (char 0). Retrying... (attempt 3 of 4)\n",
      "WARNING: [TikTok] 7357021273471339782: Failed to parse JSON (caused by JSONDecodeError(\"Expecting value in '': line 1 column 1 (char 0)\")); trying with webpage\n"
     ]
    },
    {
     "name": "stdout",
     "output_type": "stream",
     "text": [
      "Printed 7357021273471339782  \n"
     ]
    },
    {
     "name": "stderr",
     "output_type": "stream",
     "text": [
      "WARNING: [TikTok] Expecting value in '': line 1 column 1 (char 0). Retrying... (attempt 1 of 4)\n",
      "WARNING: [TikTok] Expecting value in '': line 1 column 1 (char 0). Retrying... (attempt 2 of 4)\n",
      "WARNING: [TikTok] Expecting value in '': line 1 column 1 (char 0). Retrying... (attempt 3 of 4)\n",
      "WARNING: [TikTok] 7355977855655759110: Failed to parse JSON (caused by JSONDecodeError(\"Expecting value in '': line 1 column 1 (char 0)\")); trying with webpage\n"
     ]
    },
    {
     "name": "stdout",
     "output_type": "stream",
     "text": [
      "Printed 7355977855655759110  \n"
     ]
    },
    {
     "name": "stderr",
     "output_type": "stream",
     "text": [
      "WARNING: [TikTok] Expecting value in '': line 1 column 1 (char 0). Retrying... (attempt 1 of 4)\n",
      "WARNING: [TikTok] Expecting value in '': line 1 column 1 (char 0). Retrying... (attempt 2 of 4)\n",
      "WARNING: [TikTok] Expecting value in '': line 1 column 1 (char 0). Retrying... (attempt 3 of 4)\n",
      "WARNING: [TikTok] 7355617505076923654: Failed to parse JSON (caused by JSONDecodeError(\"Expecting value in '': line 1 column 1 (char 0)\")); trying with webpage\n"
     ]
    },
    {
     "name": "stdout",
     "output_type": "stream",
     "text": [
      "Printed 7355617505076923654  \n"
     ]
    }
   ],
   "source": [
    "# Define the output template for downloaded files\n",
    "ydl_opts = {\n",
    "    'outtmpl': 'tiktoks/sam2/%(id)s_%(uploader)s_%(timestamp)s.%(ext)s',\n",
    "    'quiet': True  # Enable console output for download progress\n",
    "}\n",
    "\n",
    "# Assuming 'list_of_videos' is a list of dictionaries, each containing 'id' and 'author' details\n",
    "for video in list_of_videos:\n",
    "    video_id = video['id']\n",
    "    username = video['author']['uniqueId']\n",
    "    video_url = f\"https://www.tiktok.com/@{username}/video/{video_id}\"\n",
    "\n",
    "    # Use 'with' statement to handle YoutubeDL instance\n",
    "    with YoutubeDL(ydl_opts) as ydl:\n",
    "        try:\n",
    "            ydl.download([video_url])\n",
    "            print(f\"Printed {video_id}\")\n",
    "        except Exception as e:\n",
    "            print(f\"Failed to download {video_url}: {e}\")\n"
   ]
  },
  {
   "cell_type": "code",
   "execution_count": 29,
   "metadata": {},
   "outputs": [
    {
     "data": {
      "text/html": [
       "<div>\n",
       "<style scoped>\n",
       "    .dataframe tbody tr th:only-of-type {\n",
       "        vertical-align: middle;\n",
       "    }\n",
       "\n",
       "    .dataframe tbody tr th {\n",
       "        vertical-align: top;\n",
       "    }\n",
       "\n",
       "    .dataframe thead th {\n",
       "        text-align: right;\n",
       "    }\n",
       "</style>\n",
       "<table border=\"1\" class=\"dataframe\">\n",
       "  <thead>\n",
       "    <tr style=\"text-align: right;\">\n",
       "      <th></th>\n",
       "      <th>AIGCDescription</th>\n",
       "      <th>author</th>\n",
       "      <th>challenges</th>\n",
       "      <th>collected</th>\n",
       "      <th>contents</th>\n",
       "      <th>createTime</th>\n",
       "      <th>desc</th>\n",
       "      <th>digged</th>\n",
       "      <th>diversificationId</th>\n",
       "      <th>duetDisplay</th>\n",
       "      <th>duetEnabled</th>\n",
       "      <th>forFriend</th>\n",
       "      <th>id</th>\n",
       "      <th>isPinnedItem</th>\n",
       "      <th>itemCommentStatus</th>\n",
       "      <th>item_control</th>\n",
       "      <th>music</th>\n",
       "      <th>officalItem</th>\n",
       "      <th>originalItem</th>\n",
       "      <th>privateItem</th>\n",
       "      <th>secret</th>\n",
       "      <th>shareEnabled</th>\n",
       "      <th>stats</th>\n",
       "      <th>statsV2</th>\n",
       "      <th>stitchDisplay</th>\n",
       "      <th>stitchEnabled</th>\n",
       "      <th>textExtra</th>\n",
       "      <th>video</th>\n",
       "      <th>anchors</th>\n",
       "      <th>BAInfo</th>\n",
       "      <th>adLabelVersion</th>\n",
       "      <th>adAuthorization</th>\n",
       "      <th>isAd</th>\n",
       "    </tr>\n",
       "  </thead>\n",
       "  <tbody>\n",
       "    <tr>\n",
       "      <th>0</th>\n",
       "      <td></td>\n",
       "      <td>{'avatarLarger': 'https://p16-sign-va.tiktokcd...</td>\n",
       "      <td>[{'coverLarger': '', 'coverMedium': '', 'cover...</td>\n",
       "      <td>False</td>\n",
       "      <td>[{'desc': 'Grocery restock with the handiest p...</td>\n",
       "      <td>1715697505</td>\n",
       "      <td>Grocery restock with the handiest personal sho...</td>\n",
       "      <td>False</td>\n",
       "      <td>10014.0</td>\n",
       "      <td>0</td>\n",
       "      <td>True</td>\n",
       "      <td>False</td>\n",
       "      <td>7368864661556530438</td>\n",
       "      <td>True</td>\n",
       "      <td>0</td>\n",
       "      <td>{'can_repost': True}</td>\n",
       "      <td>{'authorName': 'Sam Shan Shops 🦋', 'coverLarge...</td>\n",
       "      <td>False</td>\n",
       "      <td>False</td>\n",
       "      <td>False</td>\n",
       "      <td>False</td>\n",
       "      <td>True</td>\n",
       "      <td>{'collectCount': 144200, 'commentCount': 6842,...</td>\n",
       "      <td>{'collectCount': '144238', 'commentCount': '68...</td>\n",
       "      <td>0</td>\n",
       "      <td>True</td>\n",
       "      <td>[{'awemeId': '', 'end': 74, 'hashtagName': 'as...</td>\n",
       "      <td>{'bitrate': 2874920, 'bitrateInfo': [{'Bitrate...</td>\n",
       "      <td>NaN</td>\n",
       "      <td>NaN</td>\n",
       "      <td>NaN</td>\n",
       "      <td>NaN</td>\n",
       "      <td>NaN</td>\n",
       "    </tr>\n",
       "    <tr>\n",
       "      <th>1</th>\n",
       "      <td></td>\n",
       "      <td>{'avatarLarger': 'https://p16-sign-va.tiktokcd...</td>\n",
       "      <td>[{'coverLarger': '', 'coverMedium': '', 'cover...</td>\n",
       "      <td>False</td>\n",
       "      <td>[{'desc': 'home drink machine set up 🍹 #amazon...</td>\n",
       "      <td>1714579594</td>\n",
       "      <td>home drink machine set up 🍹 #amazonhomeideas #...</td>\n",
       "      <td>False</td>\n",
       "      <td>10042.0</td>\n",
       "      <td>0</td>\n",
       "      <td>True</td>\n",
       "      <td>False</td>\n",
       "      <td>7364063268450700550</td>\n",
       "      <td>True</td>\n",
       "      <td>0</td>\n",
       "      <td>{'can_repost': True}</td>\n",
       "      <td>{'authorName': 'Sam Shan Shops 🦋', 'coverLarge...</td>\n",
       "      <td>False</td>\n",
       "      <td>False</td>\n",
       "      <td>False</td>\n",
       "      <td>False</td>\n",
       "      <td>True</td>\n",
       "      <td>{'collectCount': 174700, 'commentCount': 6503,...</td>\n",
       "      <td>{'collectCount': '174734', 'commentCount': '65...</td>\n",
       "      <td>0</td>\n",
       "      <td>True</td>\n",
       "      <td>[{'awemeId': '', 'end': 45, 'hashtagName': 'am...</td>\n",
       "      <td>{'bitrate': 1046679, 'bitrateInfo': [{'Bitrate...</td>\n",
       "      <td>NaN</td>\n",
       "      <td>NaN</td>\n",
       "      <td>NaN</td>\n",
       "      <td>NaN</td>\n",
       "      <td>NaN</td>\n",
       "    </tr>\n",
       "    <tr>\n",
       "      <th>2</th>\n",
       "      <td></td>\n",
       "      <td>{'avatarLarger': 'https://p16-sign-va.tiktokcd...</td>\n",
       "      <td>[{'coverLarger': '', 'coverMedium': '', 'cover...</td>\n",
       "      <td>False</td>\n",
       "      <td>[{'desc': 'Top 10 best most purchased amazon f...</td>\n",
       "      <td>1702072301</td>\n",
       "      <td>Top 10 best most purchased amazon finds of 202...</td>\n",
       "      <td>False</td>\n",
       "      <td>10044.0</td>\n",
       "      <td>0</td>\n",
       "      <td>True</td>\n",
       "      <td>False</td>\n",
       "      <td>7310344854129642757</td>\n",
       "      <td>True</td>\n",
       "      <td>0</td>\n",
       "      <td>{'can_repost': True}</td>\n",
       "      <td>{'authorName': 'Sam Shan Shops 🦋', 'coverLarge...</td>\n",
       "      <td>False</td>\n",
       "      <td>False</td>\n",
       "      <td>False</td>\n",
       "      <td>False</td>\n",
       "      <td>True</td>\n",
       "      <td>{'collectCount': 398600, 'commentCount': 4096,...</td>\n",
       "      <td>{'collectCount': '398571', 'commentCount': '40...</td>\n",
       "      <td>0</td>\n",
       "      <td>True</td>\n",
       "      <td>[{'awemeId': '', 'end': 62, 'hashtagName': 'be...</td>\n",
       "      <td>{'bitrate': 1204833, 'bitrateInfo': [{'Bitrate...</td>\n",
       "      <td>NaN</td>\n",
       "      <td>NaN</td>\n",
       "      <td>NaN</td>\n",
       "      <td>NaN</td>\n",
       "      <td>NaN</td>\n",
       "    </tr>\n",
       "    <tr>\n",
       "      <th>3</th>\n",
       "      <td></td>\n",
       "      <td>{'avatarLarger': 'https://p16-sign-va.tiktokcd...</td>\n",
       "      <td>[{'coverLarger': '', 'coverMedium': '', 'cover...</td>\n",
       "      <td>False</td>\n",
       "      <td>[{'desc': 'Breakfast Sandwich Grill 🍳 #amazonf...</td>\n",
       "      <td>1717628891</td>\n",
       "      <td>Breakfast Sandwich Grill 🍳 #amazonfinds #cooki...</td>\n",
       "      <td>False</td>\n",
       "      <td>10040.0</td>\n",
       "      <td>0</td>\n",
       "      <td>True</td>\n",
       "      <td>False</td>\n",
       "      <td>7377159896363437317</td>\n",
       "      <td>NaN</td>\n",
       "      <td>0</td>\n",
       "      <td>{'can_repost': True}</td>\n",
       "      <td>{'authorName': 'Sam Shan Shops 🦋', 'coverLarge...</td>\n",
       "      <td>False</td>\n",
       "      <td>False</td>\n",
       "      <td>False</td>\n",
       "      <td>False</td>\n",
       "      <td>True</td>\n",
       "      <td>{'collectCount': 106, 'commentCount': 2, 'digg...</td>\n",
       "      <td>{'collectCount': '106', 'commentCount': '2', '...</td>\n",
       "      <td>0</td>\n",
       "      <td>True</td>\n",
       "      <td>[{'awemeId': '', 'end': 40, 'hashtagName': 'am...</td>\n",
       "      <td>{'bitrate': 1114511, 'bitrateInfo': [{'Bitrate...</td>\n",
       "      <td>[{'description': 'CapCut · Video Editor', 'ext...</td>\n",
       "      <td>NaN</td>\n",
       "      <td>NaN</td>\n",
       "      <td>NaN</td>\n",
       "      <td>NaN</td>\n",
       "    </tr>\n",
       "    <tr>\n",
       "      <th>4</th>\n",
       "      <td></td>\n",
       "      <td>{'avatarLarger': 'https://p16-sign-va.tiktokcd...</td>\n",
       "      <td>[{'coverLarger': '', 'coverMedium': '', 'cover...</td>\n",
       "      <td>False</td>\n",
       "      <td>[{'desc': 'Bathroom Drawer Skin Care &amp; Hair Ca...</td>\n",
       "      <td>1717549458</td>\n",
       "      <td>Bathroom Drawer Skin Care &amp; Hair Care Organiza...</td>\n",
       "      <td>False</td>\n",
       "      <td>10037.0</td>\n",
       "      <td>0</td>\n",
       "      <td>True</td>\n",
       "      <td>False</td>\n",
       "      <td>7376818729461599493</td>\n",
       "      <td>NaN</td>\n",
       "      <td>0</td>\n",
       "      <td>{'can_repost': True}</td>\n",
       "      <td>{'authorName': 'Sam Shan Shops 🦋', 'coverLarge...</td>\n",
       "      <td>False</td>\n",
       "      <td>False</td>\n",
       "      <td>False</td>\n",
       "      <td>False</td>\n",
       "      <td>True</td>\n",
       "      <td>{'collectCount': 688, 'commentCount': 34, 'dig...</td>\n",
       "      <td>{'collectCount': '688', 'commentCount': '34', ...</td>\n",
       "      <td>0</td>\n",
       "      <td>True</td>\n",
       "      <td>[{'awemeId': '', 'end': 78, 'hashtagName': 're...</td>\n",
       "      <td>{'bitrate': 1377700, 'bitrateInfo': [{'Bitrate...</td>\n",
       "      <td>NaN</td>\n",
       "      <td>NaN</td>\n",
       "      <td>NaN</td>\n",
       "      <td>NaN</td>\n",
       "      <td>NaN</td>\n",
       "    </tr>\n",
       "  </tbody>\n",
       "</table>\n",
       "</div>"
      ],
      "text/plain": [
       "  AIGCDescription                                             author  \\\n",
       "0                  {'avatarLarger': 'https://p16-sign-va.tiktokcd...   \n",
       "1                  {'avatarLarger': 'https://p16-sign-va.tiktokcd...   \n",
       "2                  {'avatarLarger': 'https://p16-sign-va.tiktokcd...   \n",
       "3                  {'avatarLarger': 'https://p16-sign-va.tiktokcd...   \n",
       "4                  {'avatarLarger': 'https://p16-sign-va.tiktokcd...   \n",
       "\n",
       "                                          challenges  collected  \\\n",
       "0  [{'coverLarger': '', 'coverMedium': '', 'cover...      False   \n",
       "1  [{'coverLarger': '', 'coverMedium': '', 'cover...      False   \n",
       "2  [{'coverLarger': '', 'coverMedium': '', 'cover...      False   \n",
       "3  [{'coverLarger': '', 'coverMedium': '', 'cover...      False   \n",
       "4  [{'coverLarger': '', 'coverMedium': '', 'cover...      False   \n",
       "\n",
       "                                            contents  createTime  \\\n",
       "0  [{'desc': 'Grocery restock with the handiest p...  1715697505   \n",
       "1  [{'desc': 'home drink machine set up 🍹 #amazon...  1714579594   \n",
       "2  [{'desc': 'Top 10 best most purchased amazon f...  1702072301   \n",
       "3  [{'desc': 'Breakfast Sandwich Grill 🍳 #amazonf...  1717628891   \n",
       "4  [{'desc': 'Bathroom Drawer Skin Care & Hair Ca...  1717549458   \n",
       "\n",
       "                                                desc  digged  \\\n",
       "0  Grocery restock with the handiest personal sho...   False   \n",
       "1  home drink machine set up 🍹 #amazonhomeideas #...   False   \n",
       "2  Top 10 best most purchased amazon finds of 202...   False   \n",
       "3  Breakfast Sandwich Grill 🍳 #amazonfinds #cooki...   False   \n",
       "4  Bathroom Drawer Skin Care & Hair Care Organiza...   False   \n",
       "\n",
       "   diversificationId  duetDisplay  duetEnabled  forFriend  \\\n",
       "0            10014.0            0         True      False   \n",
       "1            10042.0            0         True      False   \n",
       "2            10044.0            0         True      False   \n",
       "3            10040.0            0         True      False   \n",
       "4            10037.0            0         True      False   \n",
       "\n",
       "                    id isPinnedItem  itemCommentStatus          item_control  \\\n",
       "0  7368864661556530438         True                  0  {'can_repost': True}   \n",
       "1  7364063268450700550         True                  0  {'can_repost': True}   \n",
       "2  7310344854129642757         True                  0  {'can_repost': True}   \n",
       "3  7377159896363437317          NaN                  0  {'can_repost': True}   \n",
       "4  7376818729461599493          NaN                  0  {'can_repost': True}   \n",
       "\n",
       "                                               music  officalItem  \\\n",
       "0  {'authorName': 'Sam Shan Shops 🦋', 'coverLarge...        False   \n",
       "1  {'authorName': 'Sam Shan Shops 🦋', 'coverLarge...        False   \n",
       "2  {'authorName': 'Sam Shan Shops 🦋', 'coverLarge...        False   \n",
       "3  {'authorName': 'Sam Shan Shops 🦋', 'coverLarge...        False   \n",
       "4  {'authorName': 'Sam Shan Shops 🦋', 'coverLarge...        False   \n",
       "\n",
       "   originalItem  privateItem  secret  shareEnabled  \\\n",
       "0         False        False   False          True   \n",
       "1         False        False   False          True   \n",
       "2         False        False   False          True   \n",
       "3         False        False   False          True   \n",
       "4         False        False   False          True   \n",
       "\n",
       "                                               stats  \\\n",
       "0  {'collectCount': 144200, 'commentCount': 6842,...   \n",
       "1  {'collectCount': 174700, 'commentCount': 6503,...   \n",
       "2  {'collectCount': 398600, 'commentCount': 4096,...   \n",
       "3  {'collectCount': 106, 'commentCount': 2, 'digg...   \n",
       "4  {'collectCount': 688, 'commentCount': 34, 'dig...   \n",
       "\n",
       "                                             statsV2  stitchDisplay  \\\n",
       "0  {'collectCount': '144238', 'commentCount': '68...              0   \n",
       "1  {'collectCount': '174734', 'commentCount': '65...              0   \n",
       "2  {'collectCount': '398571', 'commentCount': '40...              0   \n",
       "3  {'collectCount': '106', 'commentCount': '2', '...              0   \n",
       "4  {'collectCount': '688', 'commentCount': '34', ...              0   \n",
       "\n",
       "   stitchEnabled                                          textExtra  \\\n",
       "0           True  [{'awemeId': '', 'end': 74, 'hashtagName': 'as...   \n",
       "1           True  [{'awemeId': '', 'end': 45, 'hashtagName': 'am...   \n",
       "2           True  [{'awemeId': '', 'end': 62, 'hashtagName': 'be...   \n",
       "3           True  [{'awemeId': '', 'end': 40, 'hashtagName': 'am...   \n",
       "4           True  [{'awemeId': '', 'end': 78, 'hashtagName': 're...   \n",
       "\n",
       "                                               video  \\\n",
       "0  {'bitrate': 2874920, 'bitrateInfo': [{'Bitrate...   \n",
       "1  {'bitrate': 1046679, 'bitrateInfo': [{'Bitrate...   \n",
       "2  {'bitrate': 1204833, 'bitrateInfo': [{'Bitrate...   \n",
       "3  {'bitrate': 1114511, 'bitrateInfo': [{'Bitrate...   \n",
       "4  {'bitrate': 1377700, 'bitrateInfo': [{'Bitrate...   \n",
       "\n",
       "                                             anchors BAInfo  adLabelVersion  \\\n",
       "0                                                NaN    NaN             NaN   \n",
       "1                                                NaN    NaN             NaN   \n",
       "2                                                NaN    NaN             NaN   \n",
       "3  [{'description': 'CapCut · Video Editor', 'ext...    NaN             NaN   \n",
       "4                                                NaN    NaN             NaN   \n",
       "\n",
       "  adAuthorization isAd  \n",
       "0             NaN  NaN  \n",
       "1             NaN  NaN  \n",
       "2             NaN  NaN  \n",
       "3             NaN  NaN  \n",
       "4             NaN  NaN  "
      ]
     },
     "execution_count": 29,
     "metadata": {},
     "output_type": "execute_result"
    }
   ],
   "source": [
    "df.head()"
   ]
  },
  {
   "cell_type": "code",
   "execution_count": 39,
   "metadata": {},
   "outputs": [],
   "source": [
    "#export df to csv\n",
    "df.to_csv('samshanshops_posts_140624.csv', index=False)"
   ]
  },
  {
   "cell_type": "code",
   "execution_count": null,
   "metadata": {},
   "outputs": [],
   "source": []
  }
 ],
 "metadata": {
  "kernelspec": {
   "display_name": "Python 3",
   "language": "python",
   "name": "python3"
  },
  "language_info": {
   "codemirror_mode": {
    "name": "ipython",
    "version": 3
   },
   "file_extension": ".py",
   "mimetype": "text/x-python",
   "name": "python",
   "nbconvert_exporter": "python",
   "pygments_lexer": "ipython3",
   "version": "3.11.6"
  }
 },
 "nbformat": 4,
 "nbformat_minor": 2
}
