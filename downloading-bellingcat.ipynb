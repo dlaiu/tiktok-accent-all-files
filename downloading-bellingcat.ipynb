{
 "cells": [
  {
   "cell_type": "code",
   "execution_count": 1,
   "metadata": {},
   "outputs": [],
   "source": [
    "import asyncio\n",
    "import os\n",
    "from yt_dlp import YoutubeDL\n",
    "import pandas as pd"
   ]
  },
  {
   "cell_type": "code",
   "execution_count": 2,
   "metadata": {},
   "outputs": [
    {
     "data": {
      "text/html": [
       "<div>\n",
       "<style scoped>\n",
       "    .dataframe tbody tr th:only-of-type {\n",
       "        vertical-align: middle;\n",
       "    }\n",
       "\n",
       "    .dataframe tbody tr th {\n",
       "        vertical-align: top;\n",
       "    }\n",
       "\n",
       "    .dataframe thead th {\n",
       "        text-align: right;\n",
       "    }\n",
       "</style>\n",
       "<table border=\"1\" class=\"dataframe\">\n",
       "  <thead>\n",
       "    <tr style=\"text-align: right;\">\n",
       "      <th></th>\n",
       "      <th>AIGCDescription</th>\n",
       "      <th>BAInfo</th>\n",
       "      <th>adAuthorization</th>\n",
       "      <th>adLabelVersion</th>\n",
       "      <th>aigcLabelType</th>\n",
       "      <th>author</th>\n",
       "      <th>authorStats</th>\n",
       "      <th>challenges</th>\n",
       "      <th>collected</th>\n",
       "      <th>contents</th>\n",
       "      <th>...</th>\n",
       "      <th>stitchEnabled</th>\n",
       "      <th>textExtra</th>\n",
       "      <th>video</th>\n",
       "      <th>vl1</th>\n",
       "      <th>videoSuggestWordsList</th>\n",
       "      <th>poi</th>\n",
       "      <th>effectStickers</th>\n",
       "      <th>isECVideo</th>\n",
       "      <th>anchors</th>\n",
       "      <th>imagePost</th>\n",
       "    </tr>\n",
       "  </thead>\n",
       "  <tbody>\n",
       "    <tr>\n",
       "      <th>0</th>\n",
       "      <td></td>\n",
       "      <td></td>\n",
       "      <td>False</td>\n",
       "      <td>0</td>\n",
       "      <td>0</td>\n",
       "      <td>{'avatarLarger': 'https://p16-sign-va.tiktokcd...</td>\n",
       "      <td>{'diggCount': 1538, 'followerCount': 293100, '...</td>\n",
       "      <td>[{'coverLarger': 'https://p16-amd-va.tiktokcdn...</td>\n",
       "      <td>False</td>\n",
       "      <td>[{'desc': '#waitforit #foryoupage #richcatchec...</td>\n",
       "      <td>...</td>\n",
       "      <td>True</td>\n",
       "      <td>[{'awemeId': '', 'end': 10, 'hashtagId': '1847...</td>\n",
       "      <td>{'VQScore': '64.04', 'bitrate': 1525244, 'bitr...</td>\n",
       "      <td>False</td>\n",
       "      <td>NaN</td>\n",
       "      <td>NaN</td>\n",
       "      <td>NaN</td>\n",
       "      <td>NaN</td>\n",
       "      <td>NaN</td>\n",
       "      <td>NaN</td>\n",
       "    </tr>\n",
       "    <tr>\n",
       "      <th>1</th>\n",
       "      <td></td>\n",
       "      <td></td>\n",
       "      <td>False</td>\n",
       "      <td>0</td>\n",
       "      <td>0</td>\n",
       "      <td>{'avatarLarger': 'https://p16-sign-va.tiktokcd...</td>\n",
       "      <td>{'diggCount': 7285, 'followerCount': 1300000, ...</td>\n",
       "      <td>[{'coverLarger': '', 'coverMedium': '', 'cover...</td>\n",
       "      <td>False</td>\n",
       "      <td>[{'desc': 'That last one though… 👀 #amazonfind...</td>\n",
       "      <td>...</td>\n",
       "      <td>True</td>\n",
       "      <td>[{'awemeId': '', 'end': 37, 'hashtagId': '1604...</td>\n",
       "      <td>{'VQScore': '72.1', 'bitrate': 1133223, 'bitra...</td>\n",
       "      <td>False</td>\n",
       "      <td>NaN</td>\n",
       "      <td>NaN</td>\n",
       "      <td>NaN</td>\n",
       "      <td>NaN</td>\n",
       "      <td>NaN</td>\n",
       "      <td>NaN</td>\n",
       "    </tr>\n",
       "    <tr>\n",
       "      <th>2</th>\n",
       "      <td></td>\n",
       "      <td></td>\n",
       "      <td>False</td>\n",
       "      <td>0</td>\n",
       "      <td>0</td>\n",
       "      <td>{'avatarLarger': 'https://p16-pu-sign-useast8....</td>\n",
       "      <td>{'diggCount': 1184, 'followerCount': 483200, '...</td>\n",
       "      <td>[{'coverLarger': '', 'coverMedium': '', 'cover...</td>\n",
       "      <td>False</td>\n",
       "      <td>[{'desc': 'That time of the month bath time 🩸🛁...</td>\n",
       "      <td>...</td>\n",
       "      <td>True</td>\n",
       "      <td>[{'awemeId': '', 'end': 99, 'hashtagId': '2167...</td>\n",
       "      <td>{'VQScore': '68.44', 'bitrate': 905733, 'bitra...</td>\n",
       "      <td>False</td>\n",
       "      <td>NaN</td>\n",
       "      <td>NaN</td>\n",
       "      <td>NaN</td>\n",
       "      <td>NaN</td>\n",
       "      <td>NaN</td>\n",
       "      <td>NaN</td>\n",
       "    </tr>\n",
       "    <tr>\n",
       "      <th>3</th>\n",
       "      <td></td>\n",
       "      <td></td>\n",
       "      <td>False</td>\n",
       "      <td>0</td>\n",
       "      <td>0</td>\n",
       "      <td>{'avatarLarger': 'https://p16-sign.tiktokcdn-u...</td>\n",
       "      <td>{'diggCount': 113300, 'followerCount': 502800,...</td>\n",
       "      <td>[{'coverLarger': '', 'coverMedium': '', 'cover...</td>\n",
       "      <td>False</td>\n",
       "      <td>[{'desc': 'yall... sprint to amazon!!!! @plant...</td>\n",
       "      <td>...</td>\n",
       "      <td>False</td>\n",
       "      <td>[{'awemeId': '', 'end': 41, 'hashtagId': '', '...</td>\n",
       "      <td>{'VQScore': '61.27', 'bitrate': 1372891, 'bitr...</td>\n",
       "      <td>False</td>\n",
       "      <td>NaN</td>\n",
       "      <td>NaN</td>\n",
       "      <td>NaN</td>\n",
       "      <td>NaN</td>\n",
       "      <td>NaN</td>\n",
       "      <td>NaN</td>\n",
       "    </tr>\n",
       "    <tr>\n",
       "      <th>4</th>\n",
       "      <td></td>\n",
       "      <td></td>\n",
       "      <td>True</td>\n",
       "      <td>0</td>\n",
       "      <td>0</td>\n",
       "      <td>{'avatarLarger': 'https://p58-sign-sg.tiktokcd...</td>\n",
       "      <td>{'diggCount': 919, 'followerCount': 8700000, '...</td>\n",
       "      <td>[{'coverLarger': '', 'coverMedium': '', 'cover...</td>\n",
       "      <td>False</td>\n",
       "      <td>[{'desc': 'Навели красоту 😻 #amazonfinds #amaz...</td>\n",
       "      <td>...</td>\n",
       "      <td>True</td>\n",
       "      <td>[{'awemeId': '', 'end': 30, 'hashtagId': '1604...</td>\n",
       "      <td>{'VQScore': '69.88', 'bitrate': 2054531, 'bitr...</td>\n",
       "      <td>False</td>\n",
       "      <td>NaN</td>\n",
       "      <td>NaN</td>\n",
       "      <td>NaN</td>\n",
       "      <td>NaN</td>\n",
       "      <td>NaN</td>\n",
       "      <td>NaN</td>\n",
       "    </tr>\n",
       "    <tr>\n",
       "      <th>...</th>\n",
       "      <td>...</td>\n",
       "      <td>...</td>\n",
       "      <td>...</td>\n",
       "      <td>...</td>\n",
       "      <td>...</td>\n",
       "      <td>...</td>\n",
       "      <td>...</td>\n",
       "      <td>...</td>\n",
       "      <td>...</td>\n",
       "      <td>...</td>\n",
       "      <td>...</td>\n",
       "      <td>...</td>\n",
       "      <td>...</td>\n",
       "      <td>...</td>\n",
       "      <td>...</td>\n",
       "      <td>...</td>\n",
       "      <td>...</td>\n",
       "      <td>...</td>\n",
       "      <td>...</td>\n",
       "      <td>...</td>\n",
       "      <td>...</td>\n",
       "    </tr>\n",
       "    <tr>\n",
       "      <th>907</th>\n",
       "      <td></td>\n",
       "      <td></td>\n",
       "      <td>False</td>\n",
       "      <td>0</td>\n",
       "      <td>0</td>\n",
       "      <td>{'avatarLarger': 'https://p16-sign-va.tiktokcd...</td>\n",
       "      <td>{'diggCount': 32300, 'followerCount': 321600, ...</td>\n",
       "      <td>[{'coverLarger': 'https://p16-amd-va.tiktokcdn...</td>\n",
       "      <td>False</td>\n",
       "      <td>[{'desc': '#duet with @layoutroom #mvc55 #bott...</td>\n",
       "      <td>...</td>\n",
       "      <td>True</td>\n",
       "      <td>[{'awemeId': '', 'end': 5, 'hashtagId': '30496...</td>\n",
       "      <td>{'VQScore': '68.48', 'bitrate': 797496, 'bitra...</td>\n",
       "      <td>False</td>\n",
       "      <td>NaN</td>\n",
       "      <td>NaN</td>\n",
       "      <td>NaN</td>\n",
       "      <td>NaN</td>\n",
       "      <td>NaN</td>\n",
       "      <td>NaN</td>\n",
       "    </tr>\n",
       "    <tr>\n",
       "      <th>908</th>\n",
       "      <td></td>\n",
       "      <td></td>\n",
       "      <td>False</td>\n",
       "      <td>0</td>\n",
       "      <td>0</td>\n",
       "      <td>{'avatarLarger': 'https://p19-pu-sign-useast8....</td>\n",
       "      <td>{'diggCount': 10000, 'followerCount': 1100000,...</td>\n",
       "      <td>[{'coverLarger': '', 'coverMedium': '', 'cover...</td>\n",
       "      <td>False</td>\n",
       "      <td>[{'desc': 'Raise your hand if you waste all yo...</td>\n",
       "      <td>...</td>\n",
       "      <td>True</td>\n",
       "      <td>[{'awemeId': '', 'end': 89, 'hashtagId': '1703...</td>\n",
       "      <td>{'VQScore': '66.27', 'bitrate': 736426, 'bitra...</td>\n",
       "      <td>False</td>\n",
       "      <td>NaN</td>\n",
       "      <td>NaN</td>\n",
       "      <td>NaN</td>\n",
       "      <td>NaN</td>\n",
       "      <td>NaN</td>\n",
       "      <td>NaN</td>\n",
       "    </tr>\n",
       "    <tr>\n",
       "      <th>909</th>\n",
       "      <td></td>\n",
       "      <td></td>\n",
       "      <td>False</td>\n",
       "      <td>0</td>\n",
       "      <td>0</td>\n",
       "      <td>{'avatarLarger': 'https://p16-pu-sign-useast8....</td>\n",
       "      <td>{'diggCount': 7837, 'followerCount': 705600, '...</td>\n",
       "      <td>[{'coverLarger': 'https://p16-sg.tiktokcdn.com...</td>\n",
       "      <td>False</td>\n",
       "      <td>[{'desc': 'honeycomb organizers asmr 🍯💌 #asmr ...</td>\n",
       "      <td>...</td>\n",
       "      <td>True</td>\n",
       "      <td>[{'awemeId': '', 'end': 36, 'hashtagId': '1248...</td>\n",
       "      <td>{'VQScore': '70.71', 'bitrate': 1049309, 'bitr...</td>\n",
       "      <td>False</td>\n",
       "      <td>NaN</td>\n",
       "      <td>NaN</td>\n",
       "      <td>NaN</td>\n",
       "      <td>NaN</td>\n",
       "      <td>NaN</td>\n",
       "      <td>NaN</td>\n",
       "    </tr>\n",
       "    <tr>\n",
       "      <th>910</th>\n",
       "      <td></td>\n",
       "      <td></td>\n",
       "      <td>False</td>\n",
       "      <td>0</td>\n",
       "      <td>0</td>\n",
       "      <td>{'avatarLarger': 'https://p16-sign.tiktokcdn-u...</td>\n",
       "      <td>{'diggCount': 24800, 'followerCount': 6600000,...</td>\n",
       "      <td>[{'coverLarger': '', 'coverMedium': '', 'cover...</td>\n",
       "      <td>False</td>\n",
       "      <td>[{'desc': 'Súper hermoso 🤩🤩 #amazonfinds #deal...</td>\n",
       "      <td>...</td>\n",
       "      <td>True</td>\n",
       "      <td>[{'awemeId': '', 'end': 31, 'hashtagId': '1604...</td>\n",
       "      <td>{'VQScore': '66.46', 'bitrate': 1622241, 'bitr...</td>\n",
       "      <td>False</td>\n",
       "      <td>NaN</td>\n",
       "      <td>NaN</td>\n",
       "      <td>NaN</td>\n",
       "      <td>NaN</td>\n",
       "      <td>NaN</td>\n",
       "      <td>NaN</td>\n",
       "    </tr>\n",
       "    <tr>\n",
       "      <th>911</th>\n",
       "      <td></td>\n",
       "      <td></td>\n",
       "      <td>False</td>\n",
       "      <td>0</td>\n",
       "      <td>0</td>\n",
       "      <td>{'avatarLarger': 'https://p19-pu-sign-useast8....</td>\n",
       "      <td>{'diggCount': 58, 'followerCount': 54700, 'fol...</td>\n",
       "      <td>[{'coverLarger': '', 'coverMedium': '', 'cover...</td>\n",
       "      <td>False</td>\n",
       "      <td>[{'desc': 'LINK IN BIO 🔗 #amazonitems #coolama...</td>\n",
       "      <td>...</td>\n",
       "      <td>True</td>\n",
       "      <td>[{'awemeId': '', 'end': 27, 'hashtagId': '1658...</td>\n",
       "      <td>{'VQScore': '65.12', 'bitrate': 1455173, 'bitr...</td>\n",
       "      <td>False</td>\n",
       "      <td>NaN</td>\n",
       "      <td>NaN</td>\n",
       "      <td>NaN</td>\n",
       "      <td>NaN</td>\n",
       "      <td>[{'description': 'CapCut · Video Editor', 'ext...</td>\n",
       "      <td>NaN</td>\n",
       "    </tr>\n",
       "  </tbody>\n",
       "</table>\n",
       "<p>912 rows × 45 columns</p>\n",
       "</div>"
      ],
      "text/plain": [
       "    AIGCDescription BAInfo  adAuthorization  adLabelVersion  aigcLabelType  \\\n",
       "0                                     False               0              0   \n",
       "1                                     False               0              0   \n",
       "2                                     False               0              0   \n",
       "3                                     False               0              0   \n",
       "4                                      True               0              0   \n",
       "..              ...    ...              ...             ...            ...   \n",
       "907                                   False               0              0   \n",
       "908                                   False               0              0   \n",
       "909                                   False               0              0   \n",
       "910                                   False               0              0   \n",
       "911                                   False               0              0   \n",
       "\n",
       "                                                author  \\\n",
       "0    {'avatarLarger': 'https://p16-sign-va.tiktokcd...   \n",
       "1    {'avatarLarger': 'https://p16-sign-va.tiktokcd...   \n",
       "2    {'avatarLarger': 'https://p16-pu-sign-useast8....   \n",
       "3    {'avatarLarger': 'https://p16-sign.tiktokcdn-u...   \n",
       "4    {'avatarLarger': 'https://p58-sign-sg.tiktokcd...   \n",
       "..                                                 ...   \n",
       "907  {'avatarLarger': 'https://p16-sign-va.tiktokcd...   \n",
       "908  {'avatarLarger': 'https://p19-pu-sign-useast8....   \n",
       "909  {'avatarLarger': 'https://p16-pu-sign-useast8....   \n",
       "910  {'avatarLarger': 'https://p16-sign.tiktokcdn-u...   \n",
       "911  {'avatarLarger': 'https://p19-pu-sign-useast8....   \n",
       "\n",
       "                                           authorStats  \\\n",
       "0    {'diggCount': 1538, 'followerCount': 293100, '...   \n",
       "1    {'diggCount': 7285, 'followerCount': 1300000, ...   \n",
       "2    {'diggCount': 1184, 'followerCount': 483200, '...   \n",
       "3    {'diggCount': 113300, 'followerCount': 502800,...   \n",
       "4    {'diggCount': 919, 'followerCount': 8700000, '...   \n",
       "..                                                 ...   \n",
       "907  {'diggCount': 32300, 'followerCount': 321600, ...   \n",
       "908  {'diggCount': 10000, 'followerCount': 1100000,...   \n",
       "909  {'diggCount': 7837, 'followerCount': 705600, '...   \n",
       "910  {'diggCount': 24800, 'followerCount': 6600000,...   \n",
       "911  {'diggCount': 58, 'followerCount': 54700, 'fol...   \n",
       "\n",
       "                                            challenges  collected  \\\n",
       "0    [{'coverLarger': 'https://p16-amd-va.tiktokcdn...      False   \n",
       "1    [{'coverLarger': '', 'coverMedium': '', 'cover...      False   \n",
       "2    [{'coverLarger': '', 'coverMedium': '', 'cover...      False   \n",
       "3    [{'coverLarger': '', 'coverMedium': '', 'cover...      False   \n",
       "4    [{'coverLarger': '', 'coverMedium': '', 'cover...      False   \n",
       "..                                                 ...        ...   \n",
       "907  [{'coverLarger': 'https://p16-amd-va.tiktokcdn...      False   \n",
       "908  [{'coverLarger': '', 'coverMedium': '', 'cover...      False   \n",
       "909  [{'coverLarger': 'https://p16-sg.tiktokcdn.com...      False   \n",
       "910  [{'coverLarger': '', 'coverMedium': '', 'cover...      False   \n",
       "911  [{'coverLarger': '', 'coverMedium': '', 'cover...      False   \n",
       "\n",
       "                                              contents  ...  stitchEnabled  \\\n",
       "0    [{'desc': '#waitforit #foryoupage #richcatchec...  ...           True   \n",
       "1    [{'desc': 'That last one though… 👀 #amazonfind...  ...           True   \n",
       "2    [{'desc': 'That time of the month bath time 🩸🛁...  ...           True   \n",
       "3    [{'desc': 'yall... sprint to amazon!!!! @plant...  ...          False   \n",
       "4    [{'desc': 'Навели красоту 😻 #amazonfinds #amaz...  ...           True   \n",
       "..                                                 ...  ...            ...   \n",
       "907  [{'desc': '#duet with @layoutroom #mvc55 #bott...  ...           True   \n",
       "908  [{'desc': 'Raise your hand if you waste all yo...  ...           True   \n",
       "909  [{'desc': 'honeycomb organizers asmr 🍯💌 #asmr ...  ...           True   \n",
       "910  [{'desc': 'Súper hermoso 🤩🤩 #amazonfinds #deal...  ...           True   \n",
       "911  [{'desc': 'LINK IN BIO 🔗 #amazonitems #coolama...  ...           True   \n",
       "\n",
       "                                             textExtra  \\\n",
       "0    [{'awemeId': '', 'end': 10, 'hashtagId': '1847...   \n",
       "1    [{'awemeId': '', 'end': 37, 'hashtagId': '1604...   \n",
       "2    [{'awemeId': '', 'end': 99, 'hashtagId': '2167...   \n",
       "3    [{'awemeId': '', 'end': 41, 'hashtagId': '', '...   \n",
       "4    [{'awemeId': '', 'end': 30, 'hashtagId': '1604...   \n",
       "..                                                 ...   \n",
       "907  [{'awemeId': '', 'end': 5, 'hashtagId': '30496...   \n",
       "908  [{'awemeId': '', 'end': 89, 'hashtagId': '1703...   \n",
       "909  [{'awemeId': '', 'end': 36, 'hashtagId': '1248...   \n",
       "910  [{'awemeId': '', 'end': 31, 'hashtagId': '1604...   \n",
       "911  [{'awemeId': '', 'end': 27, 'hashtagId': '1658...   \n",
       "\n",
       "                                                 video    vl1  \\\n",
       "0    {'VQScore': '64.04', 'bitrate': 1525244, 'bitr...  False   \n",
       "1    {'VQScore': '72.1', 'bitrate': 1133223, 'bitra...  False   \n",
       "2    {'VQScore': '68.44', 'bitrate': 905733, 'bitra...  False   \n",
       "3    {'VQScore': '61.27', 'bitrate': 1372891, 'bitr...  False   \n",
       "4    {'VQScore': '69.88', 'bitrate': 2054531, 'bitr...  False   \n",
       "..                                                 ...    ...   \n",
       "907  {'VQScore': '68.48', 'bitrate': 797496, 'bitra...  False   \n",
       "908  {'VQScore': '66.27', 'bitrate': 736426, 'bitra...  False   \n",
       "909  {'VQScore': '70.71', 'bitrate': 1049309, 'bitr...  False   \n",
       "910  {'VQScore': '66.46', 'bitrate': 1622241, 'bitr...  False   \n",
       "911  {'VQScore': '65.12', 'bitrate': 1455173, 'bitr...  False   \n",
       "\n",
       "     videoSuggestWordsList  poi effectStickers  isECVideo  \\\n",
       "0                      NaN  NaN            NaN        NaN   \n",
       "1                      NaN  NaN            NaN        NaN   \n",
       "2                      NaN  NaN            NaN        NaN   \n",
       "3                      NaN  NaN            NaN        NaN   \n",
       "4                      NaN  NaN            NaN        NaN   \n",
       "..                     ...  ...            ...        ...   \n",
       "907                    NaN  NaN            NaN        NaN   \n",
       "908                    NaN  NaN            NaN        NaN   \n",
       "909                    NaN  NaN            NaN        NaN   \n",
       "910                    NaN  NaN            NaN        NaN   \n",
       "911                    NaN  NaN            NaN        NaN   \n",
       "\n",
       "                                               anchors  imagePost  \n",
       "0                                                  NaN        NaN  \n",
       "1                                                  NaN        NaN  \n",
       "2                                                  NaN        NaN  \n",
       "3                                                  NaN        NaN  \n",
       "4                                                  NaN        NaN  \n",
       "..                                                 ...        ...  \n",
       "907                                                NaN        NaN  \n",
       "908                                                NaN        NaN  \n",
       "909                                                NaN        NaN  \n",
       "910                                                NaN        NaN  \n",
       "911  [{'description': 'CapCut · Video Editor', 'ext...        NaN  \n",
       "\n",
       "[912 rows x 45 columns]"
      ]
     },
     "execution_count": 2,
     "metadata": {},
     "output_type": "execute_result"
    }
   ],
   "source": [
    "df = pd.read_json('bellingcat-tool/amazonfinds/posts.json')\n",
    "df"
   ]
  },
  {
   "cell_type": "code",
   "execution_count": 7,
   "metadata": {},
   "outputs": [
    {
     "data": {
      "text/plain": [
       "6993401583690206208"
      ]
     },
     "execution_count": 7,
     "metadata": {},
     "output_type": "execute_result"
    }
   ],
   "source": [
    "df['id'][0]"
   ]
  },
  {
   "cell_type": "code",
   "execution_count": 9,
   "metadata": {},
   "outputs": [
    {
     "data": {
      "text/plain": [
       "'chateaublanche'"
      ]
     },
     "execution_count": 9,
     "metadata": {},
     "output_type": "execute_result"
    }
   ],
   "source": [
    "df['author'][0]['uniqueId']"
   ]
  },
  {
   "cell_type": "code",
   "execution_count": 26,
   "metadata": {},
   "outputs": [
    {
     "name": "stdout",
     "output_type": "stream",
     "text": [
      "[TikTok] Extracting URL: https://www.tiktok.com/@chateaublanche/video/6993401583690206208\n",
      "[TikTok] 6993401583690206208: Downloading video feed\n"
     ]
    },
    {
     "name": "stderr",
     "output_type": "stream",
     "text": [
      "WARNING: [TikTok] Expecting value in '': line 1 column 1 (char 0). Retrying... (attempt 1 of 4)\n"
     ]
    },
    {
     "name": "stdout",
     "output_type": "stream",
     "text": [
      "[TikTok] 6993401583690206208: Downloading video feed\n"
     ]
    },
    {
     "name": "stderr",
     "output_type": "stream",
     "text": [
      "WARNING: [TikTok] Unable to download video feed: HTTP Error 429: Too Many Requests (caused by <HTTPError 429: Too Many Requests>); trying with webpage\n"
     ]
    },
    {
     "name": "stdout",
     "output_type": "stream",
     "text": [
      "[TikTok] 6993401583690206208: Downloading webpage\n"
     ]
    },
    {
     "name": "stderr",
     "output_type": "stream",
     "text": [
      "ERROR: [TikTok] 6993401583690206208: Video not available, status code 10204; please report this issue on  https://github.com/yt-dlp/yt-dlp/issues?q= , filling out the appropriate issue template. Confirm you are on the latest version using  yt-dlp -U\n"
     ]
    },
    {
     "name": "stdout",
     "output_type": "stream",
     "text": [
      "Failed to download https://www.tiktok.com/@chateaublanche/video/6993401583690206208: ERROR: [TikTok] 6993401583690206208: Video not available, status code 10204; please report this issue on  https://github.com/yt-dlp/yt-dlp/issues?q= , filling out the appropriate issue template. Confirm you are on the latest version using  yt-dlp -U\n",
      "[TikTok] Extracting URL: https://www.tiktok.com/@tobesfinds/video/7231254478421281792\n",
      "[TikTok] 7231254478421281792: Downloading video feed\n"
     ]
    },
    {
     "name": "stderr",
     "output_type": "stream",
     "text": [
      "WARNING: [TikTok] Expecting value in '': line 1 column 1 (char 0). Retrying... (attempt 1 of 4)\n"
     ]
    },
    {
     "name": "stdout",
     "output_type": "stream",
     "text": [
      "[TikTok] 7231254478421281792: Downloading video feed\n"
     ]
    },
    {
     "name": "stderr",
     "output_type": "stream",
     "text": [
      "WARNING: [TikTok] Expecting value in '': line 1 column 1 (char 0). Retrying... (attempt 2 of 4)\n"
     ]
    },
    {
     "name": "stdout",
     "output_type": "stream",
     "text": [
      "[TikTok] 7231254478421281792: Downloading video feed\n"
     ]
    },
    {
     "name": "stderr",
     "output_type": "stream",
     "text": [
      "WARNING: [TikTok] Expecting value in '': line 1 column 1 (char 0). Retrying... (attempt 3 of 4)\n"
     ]
    },
    {
     "name": "stdout",
     "output_type": "stream",
     "text": [
      "[TikTok] 7231254478421281792: Downloading video feed\n"
     ]
    },
    {
     "name": "stderr",
     "output_type": "stream",
     "text": [
      "WARNING: [TikTok] 7231254478421281792: Failed to parse JSON (caused by JSONDecodeError(\"Expecting value in '': line 1 column 1 (char 0)\")); trying with webpage\n"
     ]
    },
    {
     "name": "stdout",
     "output_type": "stream",
     "text": [
      "[TikTok] 7231254478421281792: Downloading webpage\n"
     ]
    },
    {
     "name": "stderr",
     "output_type": "stream",
     "text": [
      "ERROR: [TikTok] 7231254478421281792: Video not available, status code 10204; please report this issue on  https://github.com/yt-dlp/yt-dlp/issues?q= , filling out the appropriate issue template. Confirm you are on the latest version using  yt-dlp -U\n"
     ]
    },
    {
     "name": "stdout",
     "output_type": "stream",
     "text": [
      "Failed to download https://www.tiktok.com/@tobesfinds/video/7231254478421281792: ERROR: [TikTok] 7231254478421281792: Video not available, status code 10204; please report this issue on  https://github.com/yt-dlp/yt-dlp/issues?q= , filling out the appropriate issue template. Confirm you are on the latest version using  yt-dlp -U\n",
      "[TikTok] Extracting URL: https://www.tiktok.com/@glenxda/video/7366659432610024448\n",
      "[TikTok] 7366659432610024448: Downloading video feed\n"
     ]
    },
    {
     "name": "stderr",
     "output_type": "stream",
     "text": [
      "WARNING: [TikTok] Expecting value in '': line 1 column 1 (char 0). Retrying... (attempt 1 of 4)\n"
     ]
    },
    {
     "name": "stdout",
     "output_type": "stream",
     "text": [
      "[TikTok] 7366659432610024448: Downloading video feed\n"
     ]
    },
    {
     "name": "stderr",
     "output_type": "stream",
     "text": [
      "WARNING: [TikTok] Expecting value in '': line 1 column 1 (char 0). Retrying... (attempt 2 of 4)\n"
     ]
    },
    {
     "name": "stdout",
     "output_type": "stream",
     "text": [
      "[TikTok] 7366659432610024448: Downloading video feed\n"
     ]
    },
    {
     "name": "stderr",
     "output_type": "stream",
     "text": [
      "WARNING: [TikTok] Expecting value in '': line 1 column 1 (char 0). Retrying... (attempt 3 of 4)\n"
     ]
    },
    {
     "name": "stdout",
     "output_type": "stream",
     "text": [
      "[TikTok] 7366659432610024448: Downloading video feed\n"
     ]
    },
    {
     "name": "stderr",
     "output_type": "stream",
     "text": [
      "WARNING: [TikTok] 7366659432610024448: Failed to parse JSON (caused by JSONDecodeError(\"Expecting value in '': line 1 column 1 (char 0)\")); trying with webpage\n"
     ]
    },
    {
     "name": "stdout",
     "output_type": "stream",
     "text": [
      "[TikTok] 7366659432610024448: Downloading webpage\n"
     ]
    },
    {
     "name": "stderr",
     "output_type": "stream",
     "text": [
      "ERROR: [TikTok] 7366659432610024448: Video not available, status code 10204; please report this issue on  https://github.com/yt-dlp/yt-dlp/issues?q= , filling out the appropriate issue template. Confirm you are on the latest version using  yt-dlp -U\n"
     ]
    },
    {
     "name": "stdout",
     "output_type": "stream",
     "text": [
      "Failed to download https://www.tiktok.com/@glenxda/video/7366659432610024448: ERROR: [TikTok] 7366659432610024448: Video not available, status code 10204; please report this issue on  https://github.com/yt-dlp/yt-dlp/issues?q= , filling out the appropriate issue template. Confirm you are on the latest version using  yt-dlp -U\n",
      "[TikTok] Extracting URL: https://www.tiktok.com/@arianalucidonio/video/6890346072661625856\n",
      "[TikTok] 6890346072661625856: Downloading video feed\n"
     ]
    },
    {
     "name": "stderr",
     "output_type": "stream",
     "text": [
      "WARNING: [TikTok] Expecting value in '': line 1 column 1 (char 0). Retrying... (attempt 1 of 4)\n"
     ]
    },
    {
     "name": "stdout",
     "output_type": "stream",
     "text": [
      "[TikTok] 6890346072661625856: Downloading video feed\n"
     ]
    },
    {
     "name": "stderr",
     "output_type": "stream",
     "text": [
      "WARNING: [TikTok] Expecting value in '': line 1 column 1 (char 0). Retrying... (attempt 2 of 4)\n"
     ]
    },
    {
     "name": "stdout",
     "output_type": "stream",
     "text": [
      "[TikTok] 6890346072661625856: Downloading video feed\n"
     ]
    },
    {
     "name": "stderr",
     "output_type": "stream",
     "text": [
      "WARNING: [TikTok] Expecting value in '': line 1 column 1 (char 0). Retrying... (attempt 3 of 4)\n"
     ]
    },
    {
     "name": "stdout",
     "output_type": "stream",
     "text": [
      "[TikTok] 6890346072661625856: Downloading video feed\n"
     ]
    },
    {
     "name": "stderr",
     "output_type": "stream",
     "text": [
      "WARNING: [TikTok] 6890346072661625856: Failed to parse JSON (caused by JSONDecodeError(\"Expecting value in '': line 1 column 1 (char 0)\")); trying with webpage\n"
     ]
    },
    {
     "name": "stdout",
     "output_type": "stream",
     "text": [
      "[TikTok] 6890346072661625856: Downloading webpage\n"
     ]
    },
    {
     "name": "stderr",
     "output_type": "stream",
     "text": [
      "ERROR: [TikTok] 6890346072661625856: Video not available, status code 10204; please report this issue on  https://github.com/yt-dlp/yt-dlp/issues?q= , filling out the appropriate issue template. Confirm you are on the latest version using  yt-dlp -U\n"
     ]
    },
    {
     "name": "stdout",
     "output_type": "stream",
     "text": [
      "Failed to download https://www.tiktok.com/@arianalucidonio/video/6890346072661625856: ERROR: [TikTok] 6890346072661625856: Video not available, status code 10204; please report this issue on  https://github.com/yt-dlp/yt-dlp/issues?q= , filling out the appropriate issue template. Confirm you are on the latest version using  yt-dlp -U\n",
      "[TikTok] Extracting URL: https://www.tiktok.com/@_tusya_kiskis/video/7058546692563454976\n",
      "[TikTok] 7058546692563454976: Downloading video feed\n"
     ]
    },
    {
     "name": "stderr",
     "output_type": "stream",
     "text": [
      "WARNING: [TikTok] Expecting value in '': line 1 column 1 (char 0). Retrying... (attempt 1 of 4)\n"
     ]
    },
    {
     "name": "stdout",
     "output_type": "stream",
     "text": [
      "[TikTok] 7058546692563454976: Downloading video feed\n"
     ]
    },
    {
     "name": "stderr",
     "output_type": "stream",
     "text": [
      "WARNING: [TikTok] Expecting value in '': line 1 column 1 (char 0). Retrying... (attempt 2 of 4)\n"
     ]
    },
    {
     "name": "stdout",
     "output_type": "stream",
     "text": [
      "[TikTok] 7058546692563454976: Downloading video feed\n"
     ]
    },
    {
     "name": "stderr",
     "output_type": "stream",
     "text": [
      "WARNING: [TikTok] Expecting value in '': line 1 column 1 (char 0). Retrying... (attempt 3 of 4)\n"
     ]
    },
    {
     "name": "stdout",
     "output_type": "stream",
     "text": [
      "[TikTok] 7058546692563454976: Downloading video feed\n"
     ]
    },
    {
     "name": "stderr",
     "output_type": "stream",
     "text": [
      "WARNING: [TikTok] 7058546692563454976: Failed to parse JSON (caused by JSONDecodeError(\"Expecting value in '': line 1 column 1 (char 0)\")); trying with webpage\n"
     ]
    },
    {
     "name": "stdout",
     "output_type": "stream",
     "text": [
      "[TikTok] 7058546692563454976: Downloading webpage\n"
     ]
    },
    {
     "name": "stderr",
     "output_type": "stream",
     "text": [
      "ERROR: [TikTok] 7058546692563454976: Video not available, status code 10204; please report this issue on  https://github.com/yt-dlp/yt-dlp/issues?q= , filling out the appropriate issue template. Confirm you are on the latest version using  yt-dlp -U\n"
     ]
    },
    {
     "name": "stdout",
     "output_type": "stream",
     "text": [
      "Failed to download https://www.tiktok.com/@_tusya_kiskis/video/7058546692563454976: ERROR: [TikTok] 7058546692563454976: Video not available, status code 10204; please report this issue on  https://github.com/yt-dlp/yt-dlp/issues?q= , filling out the appropriate issue template. Confirm you are on the latest version using  yt-dlp -U\n"
     ]
    }
   ],
   "source": [
    "ydl_opts = {\n",
    "    'outtmpl': 'tiktoks/amazonfinds/%(id)s_%(uploader)s.%(ext)s',\n",
    "}\n",
    "\n",
    "for index, row in df.head(5).iterrows():\n",
    "    video_id = str(row['id'])\n",
    "    username = row['author']['uniqueId']\n",
    "    video_url = f\"https://www.tiktok.com/@{username}/video/{video_id}\"\n",
    "\n",
    "    # Use 'with' statement to handle YoutubeDL instance\n",
    "    with YoutubeDL(ydl_opts) as ydl:\n",
    "        try:\n",
    "            ydl.download([video_url])\n",
    "            print(f\"Printed {video_id}\")\n",
    "        except Exception as e:\n",
    "            print(f\"Failed to download {video_url}: {e}\")\n",
    "\n",
    "    # print(\"Downloaded \" + video_id + \" from \" + username)"
   ]
  },
  {
   "cell_type": "code",
   "execution_count": null,
   "metadata": {},
   "outputs": [],
   "source": []
  }
 ],
 "metadata": {
  "kernelspec": {
   "display_name": "Python 3",
   "language": "python",
   "name": "python3"
  },
  "language_info": {
   "codemirror_mode": {
    "name": "ipython",
    "version": 3
   },
   "file_extension": ".py",
   "mimetype": "text/x-python",
   "name": "python",
   "nbconvert_exporter": "python",
   "pygments_lexer": "ipython3",
   "version": "3.11.6"
  }
 },
 "nbformat": 4,
 "nbformat_minor": 2
}
